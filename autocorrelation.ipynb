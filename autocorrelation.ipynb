{
  "nbformat": 4,
  "nbformat_minor": 0,
  "metadata": {
    "colab": {
      "name": "autocorrelation.ipynb",
      "provenance": [],
      "authorship_tag": "ABX9TyNjRpQnRYHttn4B63dwdJg5",
      "include_colab_link": true
    },
    "kernelspec": {
      "name": "python3",
      "display_name": "Python 3"
    },
    "language_info": {
      "name": "python"
    }
  },
  "cells": [
    {
      "cell_type": "markdown",
      "metadata": {
        "id": "view-in-github",
        "colab_type": "text"
      },
      "source": [
        "<a href=\"https://colab.research.google.com/github/LongNguyen1984/TimeSeriesWithPython/blob/main/autocorrelation.ipynb\" target=\"_parent\"><img src=\"https://colab.research.google.com/assets/colab-badge.svg\" alt=\"Open In Colab\"/></a>"
      ]
    },
    {
      "cell_type": "code",
      "metadata": {
        "id": "ajhVORSV-Kda"
      },
      "source": [
        "import os\n",
        "import pandas as pd\n",
        "from matplotlib import pyplot as plt\n",
        "from statsmodels.graphics.tsaplots import plot_acf, plot_pacf"
      ],
      "execution_count": 12,
      "outputs": []
    },
    {
      "cell_type": "code",
      "metadata": {
        "id": "O9u_1B1--fby"
      },
      "source": [
        "file_path = 'https://raw.githubusercontent.com/PacktPublishing/Practical-Time-Series-Analysis/master/Data%20Files/DJIA_Jan2016_Dec2016.xlsx'\n",
        "#file_path = 'DJIA_Jan2016_Dec2016.xlsx'\n",
        "djia_df = pd.read_excel(file_path)"
      ],
      "execution_count": 8,
      "outputs": []
    },
    {
      "cell_type": "code",
      "metadata": {
        "id": "asYIh6cBDFqd"
      },
      "source": [
        "djia_df.index = djia_df['Date']"
      ],
      "execution_count": 9,
      "outputs": []
    },
    {
      "cell_type": "code",
      "metadata": {
        "colab": {
          "base_uri": "https://localhost:8080/",
          "height": 580
        },
        "id": "NUepaQsLDPYH",
        "outputId": "c5cfb807-f539-452f-de0d-87d2f9137134"
      },
      "source": [
        "djia_df.head(10)"
      ],
      "execution_count": 10,
      "outputs": [
        {
          "output_type": "execute_result",
          "data": {
            "text/html": [
              "<div>\n",
              "<style scoped>\n",
              "    .dataframe tbody tr th:only-of-type {\n",
              "        vertical-align: middle;\n",
              "    }\n",
              "\n",
              "    .dataframe tbody tr th {\n",
              "        vertical-align: top;\n",
              "    }\n",
              "\n",
              "    .dataframe thead th {\n",
              "        text-align: right;\n",
              "    }\n",
              "</style>\n",
              "<table border=\"1\" class=\"dataframe\">\n",
              "  <thead>\n",
              "    <tr style=\"text-align: right;\">\n",
              "      <th></th>\n",
              "      <th>Date</th>\n",
              "      <th>Open</th>\n",
              "      <th>High</th>\n",
              "      <th>Low</th>\n",
              "      <th>Close</th>\n",
              "      <th>Adj Close</th>\n",
              "      <th>Volume</th>\n",
              "    </tr>\n",
              "    <tr>\n",
              "      <th>Date</th>\n",
              "      <th></th>\n",
              "      <th></th>\n",
              "      <th></th>\n",
              "      <th></th>\n",
              "      <th></th>\n",
              "      <th></th>\n",
              "      <th></th>\n",
              "    </tr>\n",
              "  </thead>\n",
              "  <tbody>\n",
              "    <tr>\n",
              "      <th>2016-01-04</th>\n",
              "      <td>2016-01-04</td>\n",
              "      <td>17405.480469</td>\n",
              "      <td>17405.480469</td>\n",
              "      <td>16957.630859</td>\n",
              "      <td>17148.939453</td>\n",
              "      <td>17148.939453</td>\n",
              "      <td>148060000</td>\n",
              "    </tr>\n",
              "    <tr>\n",
              "      <th>2016-01-05</th>\n",
              "      <td>2016-01-05</td>\n",
              "      <td>17147.500000</td>\n",
              "      <td>17195.839844</td>\n",
              "      <td>17038.609375</td>\n",
              "      <td>17158.660156</td>\n",
              "      <td>17158.660156</td>\n",
              "      <td>105750000</td>\n",
              "    </tr>\n",
              "    <tr>\n",
              "      <th>2016-01-06</th>\n",
              "      <td>2016-01-06</td>\n",
              "      <td>17154.830078</td>\n",
              "      <td>17154.830078</td>\n",
              "      <td>16817.619141</td>\n",
              "      <td>16906.509766</td>\n",
              "      <td>16906.509766</td>\n",
              "      <td>120250000</td>\n",
              "    </tr>\n",
              "    <tr>\n",
              "      <th>2016-01-07</th>\n",
              "      <td>2016-01-07</td>\n",
              "      <td>16888.359375</td>\n",
              "      <td>16888.359375</td>\n",
              "      <td>16463.630859</td>\n",
              "      <td>16514.099609</td>\n",
              "      <td>16514.099609</td>\n",
              "      <td>176240000</td>\n",
              "    </tr>\n",
              "    <tr>\n",
              "      <th>2016-01-08</th>\n",
              "      <td>2016-01-08</td>\n",
              "      <td>16519.169922</td>\n",
              "      <td>16651.890625</td>\n",
              "      <td>16314.570313</td>\n",
              "      <td>16346.450195</td>\n",
              "      <td>16346.450195</td>\n",
              "      <td>141850000</td>\n",
              "    </tr>\n",
              "    <tr>\n",
              "      <th>2016-01-11</th>\n",
              "      <td>2016-01-11</td>\n",
              "      <td>16358.709961</td>\n",
              "      <td>16461.849609</td>\n",
              "      <td>16232.030273</td>\n",
              "      <td>16398.570313</td>\n",
              "      <td>16398.570313</td>\n",
              "      <td>127790000</td>\n",
              "    </tr>\n",
              "    <tr>\n",
              "      <th>2016-01-12</th>\n",
              "      <td>2016-01-12</td>\n",
              "      <td>16419.109375</td>\n",
              "      <td>16591.349609</td>\n",
              "      <td>16322.070313</td>\n",
              "      <td>16516.220703</td>\n",
              "      <td>16516.220703</td>\n",
              "      <td>117480000</td>\n",
              "    </tr>\n",
              "    <tr>\n",
              "      <th>2016-01-13</th>\n",
              "      <td>2016-01-13</td>\n",
              "      <td>16526.630859</td>\n",
              "      <td>16593.509766</td>\n",
              "      <td>16123.200195</td>\n",
              "      <td>16151.410156</td>\n",
              "      <td>16151.410156</td>\n",
              "      <td>153530000</td>\n",
              "    </tr>\n",
              "    <tr>\n",
              "      <th>2016-01-14</th>\n",
              "      <td>2016-01-14</td>\n",
              "      <td>16159.009766</td>\n",
              "      <td>16482.050781</td>\n",
              "      <td>16075.120117</td>\n",
              "      <td>16379.049805</td>\n",
              "      <td>16379.049805</td>\n",
              "      <td>158830000</td>\n",
              "    </tr>\n",
              "    <tr>\n",
              "      <th>2016-01-15</th>\n",
              "      <td>2016-01-15</td>\n",
              "      <td>16354.330078</td>\n",
              "      <td>16354.330078</td>\n",
              "      <td>15842.110352</td>\n",
              "      <td>15988.080078</td>\n",
              "      <td>15988.080078</td>\n",
              "      <td>239210000</td>\n",
              "    </tr>\n",
              "  </tbody>\n",
              "</table>\n",
              "</div>"
            ],
            "text/plain": [
              "                 Date          Open  ...     Adj Close     Volume\n",
              "Date                                 ...                         \n",
              "2016-01-04 2016-01-04  17405.480469  ...  17148.939453  148060000\n",
              "2016-01-05 2016-01-05  17147.500000  ...  17158.660156  105750000\n",
              "2016-01-06 2016-01-06  17154.830078  ...  16906.509766  120250000\n",
              "2016-01-07 2016-01-07  16888.359375  ...  16514.099609  176240000\n",
              "2016-01-08 2016-01-08  16519.169922  ...  16346.450195  141850000\n",
              "2016-01-11 2016-01-11  16358.709961  ...  16398.570313  127790000\n",
              "2016-01-12 2016-01-12  16419.109375  ...  16516.220703  117480000\n",
              "2016-01-13 2016-01-13  16526.630859  ...  16151.410156  153530000\n",
              "2016-01-14 2016-01-14  16159.009766  ...  16379.049805  158830000\n",
              "2016-01-15 2016-01-15  16354.330078  ...  15988.080078  239210000\n",
              "\n",
              "[10 rows x 7 columns]"
            ]
          },
          "metadata": {
            "tags": []
          },
          "execution_count": 10
        }
      ]
    },
    {
      "cell_type": "code",
      "metadata": {
        "colab": {
          "base_uri": "https://localhost:8080/",
          "height": 317
        },
        "id": "JBf7zo5sGNBA",
        "outputId": "fea2a2a6-5ed2-42d6-cf01-8a66844840a7"
      },
      "source": [
        "djia_df.describe()"
      ],
      "execution_count": 20,
      "outputs": [
        {
          "output_type": "execute_result",
          "data": {
            "text/html": [
              "<div>\n",
              "<style scoped>\n",
              "    .dataframe tbody tr th:only-of-type {\n",
              "        vertical-align: middle;\n",
              "    }\n",
              "\n",
              "    .dataframe tbody tr th {\n",
              "        vertical-align: top;\n",
              "    }\n",
              "\n",
              "    .dataframe thead th {\n",
              "        text-align: right;\n",
              "    }\n",
              "</style>\n",
              "<table border=\"1\" class=\"dataframe\">\n",
              "  <thead>\n",
              "    <tr style=\"text-align: right;\">\n",
              "      <th></th>\n",
              "      <th>Open</th>\n",
              "      <th>High</th>\n",
              "      <th>Low</th>\n",
              "      <th>Close</th>\n",
              "      <th>Adj Close</th>\n",
              "      <th>Volume</th>\n",
              "    </tr>\n",
              "  </thead>\n",
              "  <tbody>\n",
              "    <tr>\n",
              "      <th>count</th>\n",
              "      <td>252.000000</td>\n",
              "      <td>252.000000</td>\n",
              "      <td>252.000000</td>\n",
              "      <td>252.000000</td>\n",
              "      <td>252.000000</td>\n",
              "      <td>2.520000e+02</td>\n",
              "    </tr>\n",
              "    <tr>\n",
              "      <th>mean</th>\n",
              "      <td>17920.076412</td>\n",
              "      <td>18000.323765</td>\n",
              "      <td>17835.804649</td>\n",
              "      <td>17927.107348</td>\n",
              "      <td>17927.107348</td>\n",
              "      <td>1.172089e+08</td>\n",
              "    </tr>\n",
              "    <tr>\n",
              "      <th>std</th>\n",
              "      <td>936.518590</td>\n",
              "      <td>915.514043</td>\n",
              "      <td>973.716467</td>\n",
              "      <td>942.755393</td>\n",
              "      <td>942.755393</td>\n",
              "      <td>6.875709e+07</td>\n",
              "    </tr>\n",
              "    <tr>\n",
              "      <th>min</th>\n",
              "      <td>15691.620117</td>\n",
              "      <td>15897.820313</td>\n",
              "      <td>15450.559570</td>\n",
              "      <td>15660.179688</td>\n",
              "      <td>15660.179688</td>\n",
              "      <td>4.589000e+07</td>\n",
              "    </tr>\n",
              "    <tr>\n",
              "      <th>25%</th>\n",
              "      <td>17525.857422</td>\n",
              "      <td>17644.430664</td>\n",
              "      <td>17477.860352</td>\n",
              "      <td>17535.373047</td>\n",
              "      <td>17535.373047</td>\n",
              "      <td>8.224250e+07</td>\n",
              "    </tr>\n",
              "    <tr>\n",
              "      <th>50%</th>\n",
              "      <td>17989.160156</td>\n",
              "      <td>18039.750000</td>\n",
              "      <td>17931.900390</td>\n",
              "      <td>18003.955078</td>\n",
              "      <td>18003.955078</td>\n",
              "      <td>9.410500e+07</td>\n",
              "    </tr>\n",
              "    <tr>\n",
              "      <th>75%</th>\n",
              "      <td>18466.487305</td>\n",
              "      <td>18526.540039</td>\n",
              "      <td>18409.964844</td>\n",
              "      <td>18475.290039</td>\n",
              "      <td>18475.290039</td>\n",
              "      <td>1.203550e+08</td>\n",
              "    </tr>\n",
              "    <tr>\n",
              "      <th>max</th>\n",
              "      <td>19968.970703</td>\n",
              "      <td>19987.630859</td>\n",
              "      <td>19941.960938</td>\n",
              "      <td>19974.619141</td>\n",
              "      <td>19974.619141</td>\n",
              "      <td>5.734700e+08</td>\n",
              "    </tr>\n",
              "  </tbody>\n",
              "</table>\n",
              "</div>"
            ],
            "text/plain": [
              "               Open          High  ...     Adj Close        Volume\n",
              "count    252.000000    252.000000  ...    252.000000  2.520000e+02\n",
              "mean   17920.076412  18000.323765  ...  17927.107348  1.172089e+08\n",
              "std      936.518590    915.514043  ...    942.755393  6.875709e+07\n",
              "min    15691.620117  15897.820313  ...  15660.179688  4.589000e+07\n",
              "25%    17525.857422  17644.430664  ...  17535.373047  8.224250e+07\n",
              "50%    17989.160156  18039.750000  ...  18003.955078  9.410500e+07\n",
              "75%    18466.487305  18526.540039  ...  18475.290039  1.203550e+08\n",
              "max    19968.970703  19987.630859  ...  19974.619141  5.734700e+08\n",
              "\n",
              "[8 rows x 6 columns]"
            ]
          },
          "metadata": {
            "tags": []
          },
          "execution_count": 20
        }
      ]
    },
    {
      "cell_type": "code",
      "metadata": {
        "id": "fKEV7MxaGr1m"
      },
      "source": [
        ""
      ],
      "execution_count": null,
      "outputs": []
    },
    {
      "cell_type": "code",
      "metadata": {
        "colab": {
          "base_uri": "https://localhost:8080/",
          "height": 367
        },
        "id": "1VD_aCDLDVv-",
        "outputId": "0b0622eb-e694-4c83-bddd-978fe30dba8f"
      },
      "source": [
        "plt.figure(figsize=(5.5, 5.5))\n",
        "djia_df['Close'].plot(color='b')\n",
        "plt.title('Dow Jones Industrial Average between Jan 2016 - Dec 2016')\n",
        "plt.xlabel('Time')\n",
        "plt.ylabel('Closing value')\n",
        "plt.savefig('B07887_01_14.png', format='png', dpi=300)"
      ],
      "execution_count": 15,
      "outputs": [
        {
          "output_type": "display_data",
          "data": {
            "image/png": "[encoded data removed]",
            "text/plain": [
              "<Figure size 396x396 with 1 Axes>"
            ]
          },
          "metadata": {
            "tags": [],
            "needs_background": "light"
          }
        }
      ]
    },
    {
      "cell_type": "code",
      "metadata": {
        "id": "uGQXXYK0E1ut"
      },
      "source": [
        "lag = range(0,31)\n",
        "djia_acf = []\n",
        "for l in lag:\n",
        "  djia_acf.append(djia_df['Close'].autocorr(l))"
      ],
      "execution_count": 17,
      "outputs": []
    },
    {
      "cell_type": "code",
      "metadata": {
        "colab": {
          "base_uri": "https://localhost:8080/",
          "height": 377
        },
        "id": "OIrLXLuIFL0m",
        "outputId": "49a1bc9e-f219-466d-a78d-01cbb349481a"
      },
      "source": [
        "plt.figure(figsize=(5.5, 5.5))\n",
        "plt.plot(djia_acf, marker='.', color = 'b')\n",
        "plt.title('Autocorrelation function for DJIA')\n",
        "plt.xlabel('Lag in terms of number of trading days')\n",
        "plt.ylabel('Autocorrelation function')\n",
        "plt.savefig('B07887_01_15.png', format='png', dpi=300)"
      ],
      "execution_count": 18,
      "outputs": [
        {
          "output_type": "display_data",
          "data": {
            "image/png": "[encoded data removed]",
            "text/plain": [
              "<Figure size 396x396 with 1 Axes>"
            ]
          },
          "metadata": {
            "tags": [],
            "needs_background": "light"
          }
        }
      ]
    },
    {
      "cell_type": "code",
      "metadata": {
        "colab": {
          "base_uri": "https://localhost:8080/",
          "height": 282
        },
        "id": "r8xpUhIoFthE",
        "outputId": "c49f113c-4ce6-4abf-d158-567d608baec4"
      },
      "source": [
        "plt.plot(lag)"
      ],
      "execution_count": 19,
      "outputs": [
        {
          "output_type": "execute_result",
          "data": {
            "text/plain": [
              "[<matplotlib.lines.Line2D at 0x7f5eef318b90>]"
            ]
          },
          "metadata": {
            "tags": []
          },
          "execution_count": 19
        },
        {
          "output_type": "display_data",
          "data": {
            "image/png": "[encoded data removed]",
            "text/plain": [
              "<Figure size 432x288 with 1 Axes>"
            ]
          },
          "metadata": {
            "tags": [],
            "needs_background": "light"
          }
        }
      ]
    },
    {
      "cell_type": "code",
      "metadata": {
        "colab": {
          "base_uri": "https://localhost:8080/",
          "height": 298
        },
        "id": "qzklApygGteu",
        "outputId": "65c4d232-39e6-4582-de96-44a216a03c08"
      },
      "source": [
        "# plot autocorrelation and confidence intervals using the plot_acf function\n",
        "plt.figure(figsize=(5.5, 5.5))\n",
        "plot_acf(djia_df['Close'], lags = 20)\n",
        "plt.savefig('B07887_01_16.png', format = 'png', dpi=300)"
      ],
      "execution_count": 23,
      "outputs": [
        {
          "output_type": "display_data",
          "data": {
            "text/plain": [
              "<Figure size 396x396 with 0 Axes>"
            ]
          },
          "metadata": {
            "tags": []
          }
        },
        {
          "output_type": "display_data",
          "data": {
            "image/png": "[encoded data removed]",
            "text/plain": [
              "<Figure size 432x288 with 1 Axes>"
            ]
          },
          "metadata": {
            "tags": [],
            "needs_background": "light"
          }
        }
      ]
    },
    {
      "cell_type": "code",
      "metadata": {
        "colab": {
          "base_uri": "https://localhost:8080/",
          "height": 298
        },
        "id": "OuTnJa5UHpp5",
        "outputId": "8c2e17aa-5155-4f72-d4e6-9726d4f2e5b6"
      },
      "source": [
        "#Plot partial autocorrelation and confidence intervals using the plot_acf function\n",
        "plt.figure(figsize=(5.5, 5.5))\n",
        "plot_pacf(djia_df['Close'], lags=20)\n",
        "plt.savefig('B07887_01_17.png', format='png', dpi=300)"
      ],
      "execution_count": 25,
      "outputs": [
        {
          "output_type": "display_data",
          "data": {
            "text/plain": [
              "<Figure size 396x396 with 0 Axes>"
            ]
          },
          "metadata": {
            "tags": []
          }
        },
        {
          "output_type": "display_data",
          "data": {
            "image/png": "[encoded data removed]",
            "text/plain": [
              "<Figure size 432x288 with 1 Axes>"
            ]
          },
          "metadata": {
            "tags": [],
            "needs_background": "light"
          }
        }
      ]
    }
  ]
}