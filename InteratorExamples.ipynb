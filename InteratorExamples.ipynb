{
  "nbformat": 4,
  "nbformat_minor": 0,
  "metadata": {
    "colab": {
      "name": "InteratorExamples.ipynb",
      "provenance": [],
      "authorship_tag": "ABX9TyMz8eovaHXiIEKNq3sX9kvK",
      "include_colab_link": true
    },
    "kernelspec": {
      "name": "python3",
      "display_name": "Python 3"
    },
    "language_info": {
      "name": "python"
    }
  },
  "cells": [
    {
      "cell_type": "markdown",
      "metadata": {
        "id": "view-in-github",
        "colab_type": "text"
      },
      "source": [
        "<a href=\"https://colab.research.google.com/github/LongNguyen1984/TimeSeriesWithPython/blob/main/InteratorExamples.ipynb\" target=\"_parent\"><img src=\"https://colab.research.google.com/assets/colab-badge.svg\" alt=\"Open In Colab\"/></a>"
      ]
    },
    {
      "cell_type": "code",
      "metadata": {
        "id": "HxB9wwOSymMa"
      },
      "source": [
        ""
      ],
      "execution_count": null,
      "outputs": []
    },
    {
      "cell_type": "markdown",
      "metadata": {
        "id": "K9PKmx1_yzej"
      },
      "source": [
        "### Simples Iterator"
      ]
    },
    {
      "cell_type": "code",
      "metadata": {
        "id": "aHZYnir2y3BZ"
      },
      "source": [
        "class Interrogator:\n",
        "  def __init__(self, questions):\n",
        "    self.questions = questions\n",
        "\n",
        "  def  __iter__(self):\n",
        "    return self.questions.__iter__()\n",
        "\n",
        "  def __next__(self):\n",
        "    return self.questions.__next__()"
      ],
      "execution_count": null,
      "outputs": []
    },
    {
      "cell_type": "markdown",
      "metadata": {
        "id": "g4cEtfaKzMWq"
      },
      "source": [
        "Create a list of questions"
      ]
    },
    {
      "cell_type": "code",
      "metadata": {
        "colab": {
          "base_uri": "https://localhost:8080/"
        },
        "id": "xv_M6Ek8zPj6",
        "outputId": "1341f8b2-4489-4ba7-c58f-14a621be5453"
      },
      "source": [
        "questions = ['What is your name?', 'What is your quest?', 'What is the average airspeed velocity of an unladen swallow?']\n",
        "\n",
        "awkward_person = Interrogator(questions)\n",
        "\n",
        "for question in awkward_person:\n",
        "  print(question)"
      ],
      "execution_count": null,
      "outputs": [
        {
          "output_type": "stream",
          "name": "stdout",
          "text": [
            "What is your name?\n",
            "What is your quest?\n",
            "What is the average airspeed velocity of an unladen swallow?\n"
          ]
        }
      ]
    },
    {
      "cell_type": "markdown",
      "metadata": {
        "id": "QT108Q1o0wGQ"
      },
      "source": [
        "## A Custom Iterator"
      ]
    },
    {
      "cell_type": "code",
      "metadata": {
        "id": "hLR03OAW0HuS"
      },
      "source": [
        "class PrimesBelow:\n",
        "  def __init__(self, bound):\n",
        "    self.candidate_numbers = list(range(2, bound))\n",
        "  \n",
        "  def __iter__(self):\n",
        "    return self\n",
        "\n",
        "  def __next__(self):\n",
        "    if len(self.candidate_numbers)==0:\n",
        "      raise StopIteration\n",
        "    next_prime = self.candidate_numbers[0]\n",
        "    self.candidate_numbers = [x for x in self.candidate_numbers if x % next_prime !=0]\n",
        "    \n",
        "    return next_prime\n"
      ],
      "execution_count": null,
      "outputs": []
    },
    {
      "cell_type": "markdown",
      "metadata": {
        "id": "l_rbPUa_4DKz"
      },
      "source": [
        ""
      ]
    },
    {
      "cell_type": "code",
      "metadata": {
        "colab": {
          "base_uri": "https://localhost:8080/"
        },
        "id": "IYtl7tJ62FoS",
        "outputId": "8a2feed5-d391-43c4-c915-de8cc3ed536a"
      },
      "source": [
        "primes_to_a_hundred = [prime for prime in PrimesBelow(100)]\n",
        "print(primes_to_a_hundred)"
      ],
      "execution_count": null,
      "outputs": [
        {
          "output_type": "stream",
          "name": "stdout",
          "text": [
            "[2, 3, 5, 7, 11, 13, 17, 19, 23, 29, 31, 37, 41, 43, 47, 53, 59, 61, 67, 71, 73, 79, 83, 89, 97]\n"
          ]
        }
      ]
    },
    {
      "cell_type": "markdown",
      "metadata": {
        "id": "7U_WGKyy4ExZ"
      },
      "source": [
        "## Controlling the Iteration"
      ]
    },
    {
      "cell_type": "code",
      "metadata": {
        "id": "lZ5To98m4H2_"
      },
      "source": [
        "primes_under_five = iter(PrimesBelow(5))"
      ],
      "execution_count": null,
      "outputs": []
    },
    {
      "cell_type": "code",
      "metadata": {
        "colab": {
          "base_uri": "https://localhost:8080/",
          "height": 279
        },
        "id": "dvC0jlYL4aKI",
        "outputId": "550b8cb1-7ed4-4dc4-87c4-378b3a9f5ad0"
      },
      "source": [
        "next(primes_under_five)"
      ],
      "execution_count": null,
      "outputs": [
        {
          "output_type": "error",
          "ename": "StopIteration",
          "evalue": "ignored",
          "traceback": [
            "\u001b[0;31m---------------------------------------------------------------------------\u001b[0m",
            "\u001b[0;31mStopIteration\u001b[0m                             Traceback (most recent call last)",
            "\u001b[0;32m<ipython-input-18-34b9cc1f910c>\u001b[0m in \u001b[0;36m<module>\u001b[0;34m()\u001b[0m\n\u001b[0;32m----> 1\u001b[0;31m \u001b[0mnext\u001b[0m\u001b[0;34m(\u001b[0m\u001b[0mprimes_under_five\u001b[0m\u001b[0;34m)\u001b[0m\u001b[0;34m\u001b[0m\u001b[0;34m\u001b[0m\u001b[0m\n\u001b[0m",
            "\u001b[0;32m<ipython-input-12-e949416bb59c>\u001b[0m in \u001b[0;36m__next__\u001b[0;34m(self)\u001b[0m\n\u001b[1;32m      8\u001b[0m   \u001b[0;32mdef\u001b[0m \u001b[0m__next__\u001b[0m\u001b[0;34m(\u001b[0m\u001b[0mself\u001b[0m\u001b[0;34m)\u001b[0m\u001b[0;34m:\u001b[0m\u001b[0;34m\u001b[0m\u001b[0;34m\u001b[0m\u001b[0m\n\u001b[1;32m      9\u001b[0m     \u001b[0;32mif\u001b[0m \u001b[0mlen\u001b[0m\u001b[0;34m(\u001b[0m\u001b[0mself\u001b[0m\u001b[0;34m.\u001b[0m\u001b[0mcandidate_numbers\u001b[0m\u001b[0;34m)\u001b[0m\u001b[0;34m==\u001b[0m\u001b[0;36m0\u001b[0m\u001b[0;34m:\u001b[0m\u001b[0;34m\u001b[0m\u001b[0;34m\u001b[0m\u001b[0m\n\u001b[0;32m---> 10\u001b[0;31m       \u001b[0;32mraise\u001b[0m \u001b[0mStopIteration\u001b[0m\u001b[0;34m\u001b[0m\u001b[0;34m\u001b[0m\u001b[0m\n\u001b[0m\u001b[1;32m     11\u001b[0m     \u001b[0mnext_prime\u001b[0m \u001b[0;34m=\u001b[0m \u001b[0mself\u001b[0m\u001b[0;34m.\u001b[0m\u001b[0mcandidate_numbers\u001b[0m\u001b[0;34m[\u001b[0m\u001b[0;36m0\u001b[0m\u001b[0;34m]\u001b[0m\u001b[0;34m\u001b[0m\u001b[0;34m\u001b[0m\u001b[0m\n\u001b[1;32m     12\u001b[0m     \u001b[0mself\u001b[0m\u001b[0;34m.\u001b[0m\u001b[0mcandidate_numbers\u001b[0m \u001b[0;34m=\u001b[0m \u001b[0;34m[\u001b[0m\u001b[0mx\u001b[0m \u001b[0;32mfor\u001b[0m \u001b[0mx\u001b[0m \u001b[0;32min\u001b[0m \u001b[0mself\u001b[0m\u001b[0;34m.\u001b[0m\u001b[0mcandidate_numbers\u001b[0m \u001b[0;32mif\u001b[0m \u001b[0mx\u001b[0m \u001b[0;34m%\u001b[0m \u001b[0mnext_prime\u001b[0m \u001b[0;34m!=\u001b[0m\u001b[0;36m0\u001b[0m\u001b[0;34m]\u001b[0m\u001b[0;34m\u001b[0m\u001b[0;34m\u001b[0m\u001b[0m\n",
            "\u001b[0;31mStopIteration\u001b[0m: "
          ]
        }
      ]
    },
    {
      "cell_type": "markdown",
      "metadata": {
        "id": "JiwPFoc15L5n"
      },
      "source": [
        "## Itertool\n",
        "* Using Infinite Sequences and takewhile"
      ]
    },
    {
      "cell_type": "code",
      "metadata": {
        "id": "T7ZlsR325Sje"
      },
      "source": [
        "class Primes:\n",
        "  def __init__(self):\n",
        "    self.current = 2\n",
        "    \n",
        "  def __iter__(self):\n",
        "    return self\n",
        "  \n",
        "  def __next__(self):\n",
        "    while True:\n",
        "      current = self.current\n",
        "      square_root = int(current**0.5)\n",
        "      is_prime = True\n",
        "      if square_root >=2:\n",
        "        for i in range(2, square_root + 1):\n",
        "          if current % i == 0:\n",
        "            is_prime = False\n",
        "            break\n",
        "      self.current +=1\n",
        "      if is_prime:\n",
        "        return current"
      ],
      "execution_count": null,
      "outputs": []
    },
    {
      "cell_type": "code",
      "metadata": {
        "colab": {
          "base_uri": "https://localhost:8080/"
        },
        "id": "qNHpFTsT65Ab",
        "outputId": "3a60990d-7356-4a09-c85a-55be0c769df0"
      },
      "source": [
        "### Using takewhile() to limit the iteration loop\n",
        "import itertools\n",
        "print([p for p in itertools.takewhile(lambda x: x<100, Primes())])"
      ],
      "execution_count": null,
      "outputs": [
        {
          "output_type": "stream",
          "name": "stdout",
          "text": [
            "[2, 3, 5, 7, 11, 13, 17, 19, 23, 29, 31, 37, 41, 43, 47, 53, 59, 61, 67, 71, 73, 79, 83, 89, 97]\n"
          ]
        }
      ]
    },
    {
      "cell_type": "markdown",
      "metadata": {
        "id": "n85rMlFk7apE"
      },
      "source": [
        "Finite to infinte loop"
      ]
    },
    {
      "cell_type": "code",
      "metadata": {
        "colab": {
          "base_uri": "https://localhost:8080/"
        },
        "id": "CJFqN2TQ7etW",
        "outputId": "6abed81a-bd94-4048-f068-f08ea460759c"
      },
      "source": [
        "import itertools\n",
        "players = ['White', 'Black', 'Yellow', 'Red']\n",
        "\n",
        "turns = itertools.cycle(players)\n",
        "\n",
        "countdown = itertools.count(10,-1)\n",
        "print([turn for turn in itertools.takewhile(lambda x: next(countdown)>0, turns)])"
      ],
      "execution_count": null,
      "outputs": [
        {
          "output_type": "stream",
          "name": "stdout",
          "text": [
            "['White', 'Black', 'Yellow', 'Red', 'White', 'Black', 'Yellow', 'Red', 'White', 'Black']\n"
          ]
        }
      ]
    },
    {
      "cell_type": "code",
      "metadata": {
        "id": "ohdH3-Mz7o6w"
      },
      "source": [
        "countdown = itertools.count(10,-1)\n"
      ],
      "execution_count": null,
      "outputs": []
    },
    {
      "cell_type": "code",
      "metadata": {
        "colab": {
          "base_uri": "https://localhost:8080/",
          "height": 35
        },
        "id": "Fs-KAmbw8EWe",
        "outputId": "181d1fbd-dcd4-464a-84dd-f60d7d01c9e8"
      },
      "source": [
        "next(turns)"
      ],
      "execution_count": null,
      "outputs": [
        {
          "output_type": "execute_result",
          "data": {
            "application/vnd.google.colaboratory.intrinsic+json": {
              "type": "string"
            },
            "text/plain": [
              "'White'"
            ]
          },
          "metadata": {},
          "execution_count": 51
        }
      ]
    },
    {
      "cell_type": "markdown",
      "metadata": {
        "id": "MGdrUUO182b8"
      },
      "source": [
        "### Generators\n",
        "* allow a program to defer or postpone calculating a result until it's required.\n"
      ]
    },
    {
      "cell_type": "code",
      "metadata": {
        "id": "vGvtEG2l84WW"
      },
      "source": [
        "def primes_below(bound):\n",
        "  candidates = list(range(2, bound))\n",
        "  while(len(candidates) > 0):\n",
        "    yield candidates[0]\n",
        "    candidates = [c for c in candidates if c%candidates[0]!=0]"
      ],
      "execution_count": null,
      "outputs": []
    },
    {
      "cell_type": "code",
      "metadata": {
        "colab": {
          "base_uri": "https://localhost:8080/"
        },
        "id": "p1Lc8CQl-O6M",
        "outputId": "f63af4be-c212-4797-9175-25f50f44ef94"
      },
      "source": [
        "print([prime for prime in primes_below(100)])"
      ],
      "execution_count": null,
      "outputs": [
        {
          "output_type": "stream",
          "name": "stdout",
          "text": [
            "[2, 3, 5, 7, 11, 13, 17, 19, 23, 29, 31, 37, 41, 43, 47, 53, 59, 61, 67, 71, 73, 79, 83, 89, 97]\n"
          ]
        }
      ]
    },
    {
      "cell_type": "markdown",
      "metadata": {
        "id": "0FTbgHtq_Gdr"
      },
      "source": [
        "### Using random numbers to find the Pi value\n",
        "* Generator N random number (x, y) in range [0,1]\n",
        "* Count number bounded in a quater of circle\n",
        "* Multipy by 4 to get $\\pi$ value\n",
        "![image.png](data:image/png;base64,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)"
      ]
    },
    {
      "cell_type": "code",
      "metadata": {
        "id": "lpngB3JC_LLt"
      },
      "source": [
        "def Pigenerator():\n",
        "  N_cir = 0\n",
        "  N = 0\n",
        "  for i in range(1,10000+1):\n",
        "    x = random.random()\n",
        "    y = random.random()\n",
        "    N +=1\n",
        "    if x**2 + y**2 <1:\n",
        "      N_cir +=1\n",
        "    if i%1000==0:\n",
        "      yield N_cir/N*4\n",
        " \n",
        "    "
      ],
      "execution_count": 123,
      "outputs": []
    },
    {
      "cell_type": "code",
      "metadata": {
        "id": "amviMXWhbBtV"
      },
      "source": [
        "estimate = [pi for pi in Pigenerator()]\n",
        "error = [pi - math.pi for pi in estimate]"
      ],
      "execution_count": 131,
      "outputs": []
    },
    {
      "cell_type": "code",
      "metadata": {
        "colab": {
          "base_uri": "https://localhost:8080/"
        },
        "id": "nC0QS7KpaEtT",
        "outputId": "0f77881d-4c79-438a-9c5d-1053c2f9d982"
      },
      "source": [
        "print(estimate)\n",
        "print(error)"
      ],
      "execution_count": 132,
      "outputs": [
        {
          "output_type": "stream",
          "name": "stdout",
          "text": [
            "[3.08, 3.188, 3.1613333333333333, 3.157, 3.1472, 3.1453333333333333, 3.149714285714286, 3.1405, 3.1386666666666665, 3.1364]\n",
            "[-0.061592653589793045, 0.04640734641020705, 0.019740679743540213, 0.015407346410206912, 0.0056073464102071036, 0.0037406797435401984, 0.008121632124492795, -0.0010926535897932688, -0.0029259869231266222, -0.005192653589793039]\n"
          ]
        }
      ]
    },
    {
      "cell_type": "code",
      "metadata": {
        "id": "O_quMYxmAzlT"
      },
      "source": [
        "import numpy as np\n",
        "import random\n",
        "from collections import Counter\n",
        "import seaborn as sns\n",
        "import matplotlib.pyplot as plt\n",
        "import scipy.stats as stats"
      ],
      "execution_count": null,
      "outputs": []
    },
    {
      "cell_type": "code",
      "metadata": {
        "id": "smjwEFOjSsIf"
      },
      "source": [
        "def histogram(data: np.array, bins=50):\n",
        "\n",
        "  plt.rcParams['figure.figsize'] = (20,3)\n",
        "  cm = plt.cm.get_cmap('RdYlGn')\n",
        "\n",
        "  plt.rcParams['figure.figsize'] = (6,2)\n",
        "\n",
        "  n, bins, patches = plt.hist(data, bins = bins)\n",
        "  bin_centers = 1*(bins[:-1] + bins[1:] )\n",
        "  col = bin_centers - min(bin_centers)\n",
        "  col /= max(col)\n",
        "\n",
        "  for c, p in zip(col, patches):\n",
        "    plt.setp(p, 'facecolor', cm(c))\n",
        "\n",
        "  plt.show()"
      ],
      "execution_count": null,
      "outputs": []
    },
    {
      "cell_type": "code",
      "metadata": {
        "colab": {
          "base_uri": "https://localhost:8080/",
          "height": 157
        },
        "id": "nctXpguBS1bN",
        "outputId": "e7ea0749-5c6a-4964-c863-19d5534ac780"
      },
      "source": [
        "x = [random.random() for i in range(10000)]\n",
        "\n",
        "histogram(x, len(x))"
      ],
      "execution_count": null,
      "outputs": [
        {
          "output_type": "display_data",
          "data": {
            "image/png": "[encoded data removed]",
            "text/plain": [
              "<Figure size 432x144 with 1 Axes>"
            ]
          },
          "metadata": {
            "needs_background": "light"
          }
        }
      ]
    },
    {
      "cell_type": "code",
      "metadata": {
        "id": "koOwDQs7THf5"
      },
      "source": [
        "n = 100000\n",
        "x = [random.random() for i in range(n)]\n",
        "y = [random.random() for i in range(n)]"
      ],
      "execution_count": null,
      "outputs": []
    },
    {
      "cell_type": "code",
      "metadata": {
        "colab": {
          "base_uri": "https://localhost:8080/"
        },
        "id": "EWMXMWLRTvKN",
        "outputId": "d4aa3f77-3ac0-4375-99ae-142fb7a14d8c"
      },
      "source": [
        "import math\n",
        "Num = 0\n",
        "for p, q in zip(x,y):\n",
        "  if p**2 + q**2 < 1:\n",
        "    Num +=1\n",
        "\n",
        "print(Num/len(x)*4)"
      ],
      "execution_count": null,
      "outputs": [
        {
          "output_type": "stream",
          "name": "stdout",
          "text": [
            "3.14744\n"
          ]
        }
      ]
    }
  ]
}