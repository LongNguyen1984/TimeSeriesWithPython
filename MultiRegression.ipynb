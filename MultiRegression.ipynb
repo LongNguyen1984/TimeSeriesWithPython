{
  "nbformat": 4,
  "nbformat_minor": 0,
  "metadata": {
    "colab": {
      "name": "MultiRegression.ipynb",
      "provenance": [],
      "authorship_tag": "ABX9TyMwQg83SSluEhxueepLR1N1",
      "include_colab_link": true
    },
    "kernelspec": {
      "name": "python3",
      "display_name": "Python 3"
    },
    "language_info": {
      "name": "python"
    }
  },
  "cells": [
    {
      "cell_type": "markdown",
      "metadata": {
        "id": "view-in-github",
        "colab_type": "text"
      },
      "source": [
        "<a href=\"https://colab.research.google.com/github/LongNguyen1984/TimeSeriesWithPython/blob/main/MultiRegression.ipynb\" target=\"_parent\"><img src=\"https://colab.research.google.com/assets/colab-badge.svg\" alt=\"Open In Colab\"/></a>"
      ]
    },
    {
      "cell_type": "code",
      "metadata": {
        "id": "GfLJP19cPoJ3"
      },
      "source": [
        "import numpy as np\n",
        "import pandas as pd\n",
        "import statsmodels.api as sm"
      ],
      "execution_count": 2,
      "outputs": []
    },
    {
      "cell_type": "code",
      "metadata": {
        "colab": {
          "base_uri": "https://localhost:8080/",
          "height": 204
        },
        "id": "k4MmFervZAFZ",
        "outputId": "e7ba62e2-b9b8-4a94-bdd6-062aba09b53a"
      },
      "source": [
        "df= pd.read_csv('http://www.science.smith.edu/~jcrouser/SDS293/data/Boston.csv', index_col=0)\n",
        "df.head()"
      ],
      "execution_count": 5,
      "outputs": [
        {
          "output_type": "execute_result",
          "data": {
            "text/html": [
              "<div>\n",
              "<style scoped>\n",
              "    .dataframe tbody tr th:only-of-type {\n",
              "        vertical-align: middle;\n",
              "    }\n",
              "\n",
              "    .dataframe tbody tr th {\n",
              "        vertical-align: top;\n",
              "    }\n",
              "\n",
              "    .dataframe thead th {\n",
              "        text-align: right;\n",
              "    }\n",
              "</style>\n",
              "<table border=\"1\" class=\"dataframe\">\n",
              "  <thead>\n",
              "    <tr style=\"text-align: right;\">\n",
              "      <th></th>\n",
              "      <th>crim</th>\n",
              "      <th>zn</th>\n",
              "      <th>indus</th>\n",
              "      <th>chas</th>\n",
              "      <th>nox</th>\n",
              "      <th>rm</th>\n",
              "      <th>age</th>\n",
              "      <th>dis</th>\n",
              "      <th>rad</th>\n",
              "      <th>tax</th>\n",
              "      <th>ptratio</th>\n",
              "      <th>black</th>\n",
              "      <th>lstat</th>\n",
              "      <th>medv</th>\n",
              "    </tr>\n",
              "  </thead>\n",
              "  <tbody>\n",
              "    <tr>\n",
              "      <th>1</th>\n",
              "      <td>0.00632</td>\n",
              "      <td>18.0</td>\n",
              "      <td>2.31</td>\n",
              "      <td>0</td>\n",
              "      <td>0.538</td>\n",
              "      <td>6.575</td>\n",
              "      <td>65.2</td>\n",
              "      <td>4.0900</td>\n",
              "      <td>1</td>\n",
              "      <td>296</td>\n",
              "      <td>15.3</td>\n",
              "      <td>396.90</td>\n",
              "      <td>4.98</td>\n",
              "      <td>24.0</td>\n",
              "    </tr>\n",
              "    <tr>\n",
              "      <th>2</th>\n",
              "      <td>0.02731</td>\n",
              "      <td>0.0</td>\n",
              "      <td>7.07</td>\n",
              "      <td>0</td>\n",
              "      <td>0.469</td>\n",
              "      <td>6.421</td>\n",
              "      <td>78.9</td>\n",
              "      <td>4.9671</td>\n",
              "      <td>2</td>\n",
              "      <td>242</td>\n",
              "      <td>17.8</td>\n",
              "      <td>396.90</td>\n",
              "      <td>9.14</td>\n",
              "      <td>21.6</td>\n",
              "    </tr>\n",
              "    <tr>\n",
              "      <th>3</th>\n",
              "      <td>0.02729</td>\n",
              "      <td>0.0</td>\n",
              "      <td>7.07</td>\n",
              "      <td>0</td>\n",
              "      <td>0.469</td>\n",
              "      <td>7.185</td>\n",
              "      <td>61.1</td>\n",
              "      <td>4.9671</td>\n",
              "      <td>2</td>\n",
              "      <td>242</td>\n",
              "      <td>17.8</td>\n",
              "      <td>392.83</td>\n",
              "      <td>4.03</td>\n",
              "      <td>34.7</td>\n",
              "    </tr>\n",
              "    <tr>\n",
              "      <th>4</th>\n",
              "      <td>0.03237</td>\n",
              "      <td>0.0</td>\n",
              "      <td>2.18</td>\n",
              "      <td>0</td>\n",
              "      <td>0.458</td>\n",
              "      <td>6.998</td>\n",
              "      <td>45.8</td>\n",
              "      <td>6.0622</td>\n",
              "      <td>3</td>\n",
              "      <td>222</td>\n",
              "      <td>18.7</td>\n",
              "      <td>394.63</td>\n",
              "      <td>2.94</td>\n",
              "      <td>33.4</td>\n",
              "    </tr>\n",
              "    <tr>\n",
              "      <th>5</th>\n",
              "      <td>0.06905</td>\n",
              "      <td>0.0</td>\n",
              "      <td>2.18</td>\n",
              "      <td>0</td>\n",
              "      <td>0.458</td>\n",
              "      <td>7.147</td>\n",
              "      <td>54.2</td>\n",
              "      <td>6.0622</td>\n",
              "      <td>3</td>\n",
              "      <td>222</td>\n",
              "      <td>18.7</td>\n",
              "      <td>396.90</td>\n",
              "      <td>5.33</td>\n",
              "      <td>36.2</td>\n",
              "    </tr>\n",
              "  </tbody>\n",
              "</table>\n",
              "</div>"
            ],
            "text/plain": [
              "      crim    zn  indus  chas    nox  ...  tax  ptratio   black  lstat  medv\n",
              "1  0.00632  18.0   2.31     0  0.538  ...  296     15.3  396.90   4.98  24.0\n",
              "2  0.02731   0.0   7.07     0  0.469  ...  242     17.8  396.90   9.14  21.6\n",
              "3  0.02729   0.0   7.07     0  0.469  ...  242     17.8  392.83   4.03  34.7\n",
              "4  0.03237   0.0   2.18     0  0.458  ...  222     18.7  394.63   2.94  33.4\n",
              "5  0.06905   0.0   2.18     0  0.458  ...  222     18.7  396.90   5.33  36.2\n",
              "\n",
              "[5 rows x 14 columns]"
            ]
          },
          "metadata": {
            "tags": []
          },
          "execution_count": 5
        }
      ]
    },
    {
      "cell_type": "markdown",
      "metadata": {
        "id": "mx983oU-ZJ9F"
      },
      "source": [
        "##Simple Linear Regression"
      ]
    },
    {
      "cell_type": "markdown",
      "metadata": {
        "id": "nzhfrh3NZyV8"
      },
      "source": [
        "simple linear model with **medv** as the response and **lstat** as the predictor"
      ]
    },
    {
      "cell_type": "code",
      "metadata": {
        "id": "DETPd4fzZJXd"
      },
      "source": [
        "lm = sm.OLS.from_formula('medv ~ lstat', df)\n",
        "result = lm.fit()"
      ],
      "execution_count": 6,
      "outputs": []
    },
    {
      "cell_type": "code",
      "metadata": {
        "colab": {
          "base_uri": "https://localhost:8080/"
        },
        "id": "Eyqzk50mZVlV",
        "outputId": "16d03299-5c88-4141-b8c8-3a2c63f87a5a"
      },
      "source": [
        "print(result.summary())"
      ],
      "execution_count": 7,
      "outputs": [
        {
          "output_type": "stream",
          "text": [
            "                            OLS Regression Results                            \n",
            "==============================================================================\n",
            "Dep. Variable:                   medv   R-squared:                       0.544\n",
            "Model:                            OLS   Adj. R-squared:                  0.543\n",
            "Method:                 Least Squares   F-statistic:                     601.6\n",
            "Date:                Thu, 08 Jul 2021   Prob (F-statistic):           5.08e-88\n",
            "Time:                        01:45:06   Log-Likelihood:                -1641.5\n",
            "No. Observations:                 506   AIC:                             3287.\n",
            "Df Residuals:                     504   BIC:                             3295.\n",
            "Df Model:                           1                                         \n",
            "Covariance Type:            nonrobust                                         \n",
            "==============================================================================\n",
            "                 coef    std err          t      P>|t|      [0.025      0.975]\n",
            "------------------------------------------------------------------------------\n",
            "Intercept     34.5538      0.563     61.415      0.000      33.448      35.659\n",
            "lstat         -0.9500      0.039    -24.528      0.000      -1.026      -0.874\n",
            "==============================================================================\n",
            "Omnibus:                      137.043   Durbin-Watson:                   0.892\n",
            "Prob(Omnibus):                  0.000   Jarque-Bera (JB):              291.373\n",
            "Skew:                           1.453   Prob(JB):                     5.36e-64\n",
            "Kurtosis:                       5.319   Cond. No.                         29.7\n",
            "==============================================================================\n",
            "\n",
            "Warnings:\n",
            "[1] Standard Errors assume that the covariance matrix of the errors is correctly specified.\n"
          ],
          "name": "stdout"
        }
      ]
    },
    {
      "cell_type": "code",
      "metadata": {
        "colab": {
          "base_uri": "https://localhost:8080/"
        },
        "id": "PmgDuzqQZgDm",
        "outputId": "8cbbb787-9c56-4b53-a0e5-ede25e08cd6d"
      },
      "source": [
        "result.rsquared, result.fvalue, result.params.Intercept, result.params.lstat"
      ],
      "execution_count": 8,
      "outputs": [
        {
          "output_type": "execute_result",
          "data": {
            "text/plain": [
              "(0.5441462975864799, 601.6178711098955, 34.55384087938308, -0.9500493537579915)"
            ]
          },
          "metadata": {
            "tags": []
          },
          "execution_count": 8
        }
      ]
    },
    {
      "cell_type": "markdown",
      "metadata": {
        "id": "ZNEOq5wJapwt"
      },
      "source": [
        "###Predict with the model"
      ]
    },
    {
      "cell_type": "code",
      "metadata": {
        "id": "XBpLCirqasHj"
      },
      "source": [
        "new = pd.DataFrame([[1,5],[1,10],[1,15]], columns=['Intercept', 'lstat'])"
      ],
      "execution_count": 9,
      "outputs": []
    },
    {
      "cell_type": "code",
      "metadata": {
        "colab": {
          "base_uri": "https://localhost:8080/",
          "height": 142
        },
        "id": "vjtlEGbpbM28",
        "outputId": "49a407af-e0d1-421d-8b64-a439cea9f505"
      },
      "source": [
        "new.head()"
      ],
      "execution_count": 10,
      "outputs": [
        {
          "output_type": "execute_result",
          "data": {
            "text/html": [
              "<div>\n",
              "<style scoped>\n",
              "    .dataframe tbody tr th:only-of-type {\n",
              "        vertical-align: middle;\n",
              "    }\n",
              "\n",
              "    .dataframe tbody tr th {\n",
              "        vertical-align: top;\n",
              "    }\n",
              "\n",
              "    .dataframe thead th {\n",
              "        text-align: right;\n",
              "    }\n",
              "</style>\n",
              "<table border=\"1\" class=\"dataframe\">\n",
              "  <thead>\n",
              "    <tr style=\"text-align: right;\">\n",
              "      <th></th>\n",
              "      <th>Intercept</th>\n",
              "      <th>lstat</th>\n",
              "    </tr>\n",
              "  </thead>\n",
              "  <tbody>\n",
              "    <tr>\n",
              "      <th>0</th>\n",
              "      <td>1</td>\n",
              "      <td>5</td>\n",
              "    </tr>\n",
              "    <tr>\n",
              "      <th>1</th>\n",
              "      <td>1</td>\n",
              "      <td>10</td>\n",
              "    </tr>\n",
              "    <tr>\n",
              "      <th>2</th>\n",
              "      <td>1</td>\n",
              "      <td>15</td>\n",
              "    </tr>\n",
              "  </tbody>\n",
              "</table>\n",
              "</div>"
            ],
            "text/plain": [
              "   Intercept  lstat\n",
              "0          1      5\n",
              "1          1     10\n",
              "2          1     15"
            ]
          },
          "metadata": {
            "tags": []
          },
          "execution_count": 10
        }
      ]
    },
    {
      "cell_type": "code",
      "metadata": {
        "colab": {
          "base_uri": "https://localhost:8080/"
        },
        "id": "ODGOsDJFbefj",
        "outputId": "87ed12fe-3b5c-4141-f22b-60837849f221"
      },
      "source": [
        "result.predict(new)"
      ],
      "execution_count": 11,
      "outputs": [
        {
          "output_type": "execute_result",
          "data": {
            "text/plain": [
              "0    29.803594\n",
              "1    25.053347\n",
              "2    20.303101\n",
              "dtype: float64"
            ]
          },
          "metadata": {
            "tags": []
          },
          "execution_count": 11
        }
      ]
    },
    {
      "cell_type": "markdown",
      "metadata": {
        "id": "lQ0NJJ3SbyyL"
      },
      "source": [
        "### Help function "
      ]
    },
    {
      "cell_type": "code",
      "metadata": {
        "id": "dtgqegC1b1Ke"
      },
      "source": [
        "def predict(res, new):\n",
        "    \n",
        "    # Get the predicted values\n",
        "    fit = pd.DataFrame(res.predict(new), columns=['fit'])\n",
        "    \n",
        "    # Get the confidence interval for the model (and rename the columns to something a bit more useful)\n",
        "    ci = res.conf_int().rename(columns={0: 'lower', 1: 'upper'})\n",
        "    \n",
        "    # Now a little bit of matrix multiplication to get the confidence intervals for the predictions\n",
        "    ci = ci.T.dot(new.T).T\n",
        "    \n",
        "    # And finally wrap up the confidence intervals with the predicted values\n",
        "    return pd.concat([fit, ci], axis=1)"
      ],
      "execution_count": 12,
      "outputs": []
    },
    {
      "cell_type": "code",
      "metadata": {
        "colab": {
          "base_uri": "https://localhost:8080/",
          "height": 142
        },
        "id": "LOKabU88b2mt",
        "outputId": "2d5489b9-98f3-44ae-e57c-1694fd5c4e6b"
      },
      "source": [
        "predict(result, new)"
      ],
      "execution_count": 13,
      "outputs": [
        {
          "output_type": "execute_result",
          "data": {
            "text/html": [
              "<div>\n",
              "<style scoped>\n",
              "    .dataframe tbody tr th:only-of-type {\n",
              "        vertical-align: middle;\n",
              "    }\n",
              "\n",
              "    .dataframe tbody tr th {\n",
              "        vertical-align: top;\n",
              "    }\n",
              "\n",
              "    .dataframe thead th {\n",
              "        text-align: right;\n",
              "    }\n",
              "</style>\n",
              "<table border=\"1\" class=\"dataframe\">\n",
              "  <thead>\n",
              "    <tr style=\"text-align: right;\">\n",
              "      <th></th>\n",
              "      <th>fit</th>\n",
              "      <th>lower</th>\n",
              "      <th>upper</th>\n",
              "    </tr>\n",
              "  </thead>\n",
              "  <tbody>\n",
              "    <tr>\n",
              "      <th>0</th>\n",
              "      <td>29.803594</td>\n",
              "      <td>28.317716</td>\n",
              "      <td>31.289472</td>\n",
              "    </tr>\n",
              "    <tr>\n",
              "      <th>1</th>\n",
              "      <td>25.053347</td>\n",
              "      <td>23.186975</td>\n",
              "      <td>26.919720</td>\n",
              "    </tr>\n",
              "    <tr>\n",
              "      <th>2</th>\n",
              "      <td>20.303101</td>\n",
              "      <td>18.056234</td>\n",
              "      <td>22.549967</td>\n",
              "    </tr>\n",
              "  </tbody>\n",
              "</table>\n",
              "</div>"
            ],
            "text/plain": [
              "         fit      lower      upper\n",
              "0  29.803594  28.317716  31.289472\n",
              "1  25.053347  23.186975  26.919720\n",
              "2  20.303101  18.056234  22.549967"
            ]
          },
          "metadata": {
            "tags": []
          },
          "execution_count": 13
        }
      ]
    },
    {
      "cell_type": "markdown",
      "metadata": {
        "id": "e3OEbwXbcOlS"
      },
      "source": [
        "### Visualization "
      ]
    },
    {
      "cell_type": "code",
      "metadata": {
        "colab": {
          "base_uri": "https://localhost:8080/",
          "height": 350
        },
        "id": "gluMEodRcOLk",
        "outputId": "46d335a5-307c-4b99-c3fb-f5a84b32a7e4"
      },
      "source": [
        "import seaborn as sns\n",
        "\n",
        "sns.regplot('lstat', 'medv', df, line_kws = {\"color\":\"r\"}, ci=None)"
      ],
      "execution_count": 14,
      "outputs": [
        {
          "output_type": "stream",
          "text": [
            "/usr/local/lib/python3.7/dist-packages/seaborn/_decorators.py:43: FutureWarning: Pass the following variables as keyword args: x, y, data. From version 0.12, the only valid positional argument will be `data`, and passing other arguments without an explicit keyword will result in an error or misinterpretation.\n",
            "  FutureWarning\n"
          ],
          "name": "stderr"
        },
        {
          "output_type": "execute_result",
          "data": {
            "text/plain": [
              "<matplotlib.axes._subplots.AxesSubplot at 0x7f55b4058e50>"
            ]
          },
          "metadata": {
            "tags": []
          },
          "execution_count": 14
        },
        {
          "output_type": "display_data",
          "data": {
            "image/png": "[encoded data removed]",
            "text/plain": [
              "<Figure size 432x288 with 1 Axes>"
            ]
          },
          "metadata": {
            "tags": [],
            "needs_background": "light"
          }
        }
      ]
    },
    {
      "cell_type": "markdown",
      "metadata": {
        "id": "X-0Mj9QScadL"
      },
      "source": [
        "### Plot the resisduals"
      ]
    },
    {
      "cell_type": "code",
      "metadata": {
        "colab": {
          "base_uri": "https://localhost:8080/",
          "height": 350
        },
        "id": "HTbjgwKncfY5",
        "outputId": "df5159ac-6756-4159-8cb6-cf34b9e65cba"
      },
      "source": [
        "fitted_values = pd.Series(result.fittedvalues, name=\"Fitted Values\")\n",
        "residuals = pd.Series(result.resid, name=\"Residuals\")\n",
        "sns.regplot(fitted_values, residuals, fit_reg=False)"
      ],
      "execution_count": 15,
      "outputs": [
        {
          "output_type": "stream",
          "text": [
            "/usr/local/lib/python3.7/dist-packages/seaborn/_decorators.py:43: FutureWarning: Pass the following variables as keyword args: x, y. From version 0.12, the only valid positional argument will be `data`, and passing other arguments without an explicit keyword will result in an error or misinterpretation.\n",
            "  FutureWarning\n"
          ],
          "name": "stderr"
        },
        {
          "output_type": "execute_result",
          "data": {
            "text/plain": [
              "<matplotlib.axes._subplots.AxesSubplot at 0x7f55b3f3fbd0>"
            ]
          },
          "metadata": {
            "tags": []
          },
          "execution_count": 15
        },
        {
          "output_type": "display_data",
          "data": {
            "image/png": "[encoded data removed]",
            "text/plain": [
              "<Figure size 432x288 with 1 Axes>"
            ]
          },
          "metadata": {
            "tags": [],
            "needs_background": "light"
          }
        }
      ]
    },
    {
      "cell_type": "markdown",
      "metadata": {
        "id": "2OCEgoYrcnJd"
      },
      "source": [
        "noramlized the residuals"
      ]
    },
    {
      "cell_type": "code",
      "metadata": {
        "colab": {
          "base_uri": "https://localhost:8080/",
          "height": 350
        },
        "id": "nyBS4_U7cqjL",
        "outputId": "c39651a5-fb37-490c-8d7f-4f6e5399ff36"
      },
      "source": [
        "s_residuals = pd.Series(result.resid_pearson, name=\"S. Residuals\")\n",
        "sns.regplot(fitted_values, s_residuals,  fit_reg=False)"
      ],
      "execution_count": 16,
      "outputs": [
        {
          "output_type": "stream",
          "text": [
            "/usr/local/lib/python3.7/dist-packages/seaborn/_decorators.py:43: FutureWarning: Pass the following variables as keyword args: x, y. From version 0.12, the only valid positional argument will be `data`, and passing other arguments without an explicit keyword will result in an error or misinterpretation.\n",
            "  FutureWarning\n"
          ],
          "name": "stderr"
        },
        {
          "output_type": "execute_result",
          "data": {
            "text/plain": [
              "<matplotlib.axes._subplots.AxesSubplot at 0x7f55b3abb950>"
            ]
          },
          "metadata": {
            "tags": []
          },
          "execution_count": 16
        },
        {
          "output_type": "display_data",
          "data": {
            "image/png": "[encoded data removed]",
            "text/plain": [
              "<Figure size 432x288 with 1 Axes>"
            ]
          },
          "metadata": {
            "tags": [],
            "needs_background": "light"
          }
        }
      ]
    },
    {
      "cell_type": "markdown",
      "metadata": {
        "id": "PT8u6ER_csw5"
      },
      "source": [
        "look for points with high leverage"
      ]
    },
    {
      "cell_type": "code",
      "metadata": {
        "id": "nlsyA7iNcxqp",
        "colab": {
          "base_uri": "https://localhost:8080/",
          "height": 350
        },
        "outputId": "901074f3-9519-4d56-8280-727c081922d1"
      },
      "source": [
        "from statsmodels.stats.outliers_influence import OLSInfluence\n",
        "leverage = pd.Series(OLSInfluence(result).influence, name = \"Leverage\")\n",
        "sns.regplot(leverage, s_residuals,  fit_reg=False)"
      ],
      "execution_count": 17,
      "outputs": [
        {
          "output_type": "stream",
          "text": [
            "/usr/local/lib/python3.7/dist-packages/seaborn/_decorators.py:43: FutureWarning: Pass the following variables as keyword args: x, y. From version 0.12, the only valid positional argument will be `data`, and passing other arguments without an explicit keyword will result in an error or misinterpretation.\n",
            "  FutureWarning\n"
          ],
          "name": "stderr"
        },
        {
          "output_type": "execute_result",
          "data": {
            "text/plain": [
              "<matplotlib.axes._subplots.AxesSubplot at 0x7f55b39a8f90>"
            ]
          },
          "metadata": {
            "tags": []
          },
          "execution_count": 17
        },
        {
          "output_type": "display_data",
          "data": {
            "image/png": "[encoded data removed]",
            "text/plain": [
              "<Figure size 432x288 with 1 Axes>"
            ]
          },
          "metadata": {
            "tags": [],
            "needs_background": "light"
          }
        }
      ]
    },
    {
      "cell_type": "markdown",
      "metadata": {
        "id": "4aWaw7Vjy31l"
      },
      "source": [
        "### Multiple Linear Regression"
      ]
    },
    {
      "cell_type": "code",
      "metadata": {
        "colab": {
          "base_uri": "https://localhost:8080/"
        },
        "id": "2VGyUb__y7j7",
        "outputId": "313e965b-f125-4b03-d999-7e25dcce24c6"
      },
      "source": [
        "model = sm.OLS.from_formula('medv~lstat + age', df)\n",
        "result = model.fit()\n",
        "print(result.summary())"
      ],
      "execution_count": 18,
      "outputs": [
        {
          "output_type": "stream",
          "text": [
            "                            OLS Regression Results                            \n",
            "==============================================================================\n",
            "Dep. Variable:                   medv   R-squared:                       0.551\n",
            "Model:                            OLS   Adj. R-squared:                  0.549\n",
            "Method:                 Least Squares   F-statistic:                     309.0\n",
            "Date:                Thu, 08 Jul 2021   Prob (F-statistic):           2.98e-88\n",
            "Time:                        01:47:49   Log-Likelihood:                -1637.5\n",
            "No. Observations:                 506   AIC:                             3281.\n",
            "Df Residuals:                     503   BIC:                             3294.\n",
            "Df Model:                           2                                         \n",
            "Covariance Type:            nonrobust                                         \n",
            "==============================================================================\n",
            "                 coef    std err          t      P>|t|      [0.025      0.975]\n",
            "------------------------------------------------------------------------------\n",
            "Intercept     33.2228      0.731     45.458      0.000      31.787      34.659\n",
            "lstat         -1.0321      0.048    -21.416      0.000      -1.127      -0.937\n",
            "age            0.0345      0.012      2.826      0.005       0.011       0.059\n",
            "==============================================================================\n",
            "Omnibus:                      124.288   Durbin-Watson:                   0.945\n",
            "Prob(Omnibus):                  0.000   Jarque-Bera (JB):              244.026\n",
            "Skew:                           1.362   Prob(JB):                     1.02e-53\n",
            "Kurtosis:                       5.038   Cond. No.                         201.\n",
            "==============================================================================\n",
            "\n",
            "Warnings:\n",
            "[1] Standard Errors assume that the covariance matrix of the errors is correctly specified.\n"
          ],
          "name": "stdout"
        }
      ]
    },
    {
      "cell_type": "code",
      "metadata": {
        "colab": {
          "base_uri": "https://localhost:8080/"
        },
        "id": "dXn5h9GS0oOC",
        "outputId": "fe380434-19cb-4c90-91fe-21b4bbdd6e00"
      },
      "source": [
        "# All columns (except medv, which is our response)\n",
        "model = sm.OLS.from_formula('medv~'+'+'.join(df.columns.difference(['medv'])), df)\n",
        "result = model.fit()\n",
        "print(result.summary())"
      ],
      "execution_count": 19,
      "outputs": [
        {
          "output_type": "stream",
          "text": [
            "                            OLS Regression Results                            \n",
            "==============================================================================\n",
            "Dep. Variable:                   medv   R-squared:                       0.741\n",
            "Model:                            OLS   Adj. R-squared:                  0.734\n",
            "Method:                 Least Squares   F-statistic:                     108.1\n",
            "Date:                Thu, 08 Jul 2021   Prob (F-statistic):          6.72e-135\n",
            "Time:                        01:56:07   Log-Likelihood:                -1498.8\n",
            "No. Observations:                 506   AIC:                             3026.\n",
            "Df Residuals:                     492   BIC:                             3085.\n",
            "Df Model:                          13                                         \n",
            "Covariance Type:            nonrobust                                         \n",
            "==============================================================================\n",
            "                 coef    std err          t      P>|t|      [0.025      0.975]\n",
            "------------------------------------------------------------------------------\n",
            "Intercept     36.4595      5.103      7.144      0.000      26.432      46.487\n",
            "age            0.0007      0.013      0.052      0.958      -0.025       0.027\n",
            "black          0.0093      0.003      3.467      0.001       0.004       0.015\n",
            "chas           2.6867      0.862      3.118      0.002       0.994       4.380\n",
            "crim          -0.1080      0.033     -3.287      0.001      -0.173      -0.043\n",
            "dis           -1.4756      0.199     -7.398      0.000      -1.867      -1.084\n",
            "indus          0.0206      0.061      0.334      0.738      -0.100       0.141\n",
            "lstat         -0.5248      0.051    -10.347      0.000      -0.624      -0.425\n",
            "nox          -17.7666      3.820     -4.651      0.000     -25.272     -10.262\n",
            "ptratio       -0.9527      0.131     -7.283      0.000      -1.210      -0.696\n",
            "rad            0.3060      0.066      4.613      0.000       0.176       0.436\n",
            "rm             3.8099      0.418      9.116      0.000       2.989       4.631\n",
            "tax           -0.0123      0.004     -3.280      0.001      -0.020      -0.005\n",
            "zn             0.0464      0.014      3.382      0.001       0.019       0.073\n",
            "==============================================================================\n",
            "Omnibus:                      178.041   Durbin-Watson:                   1.078\n",
            "Prob(Omnibus):                  0.000   Jarque-Bera (JB):              783.126\n",
            "Skew:                           1.521   Prob(JB):                    8.84e-171\n",
            "Kurtosis:                       8.281   Cond. No.                     1.51e+04\n",
            "==============================================================================\n",
            "\n",
            "Warnings:\n",
            "[1] Standard Errors assume that the covariance matrix of the errors is correctly specified.\n",
            "[2] The condition number is large, 1.51e+04. This might indicate that there are\n",
            "strong multicollinearity or other numerical problems.\n"
          ],
          "name": "stdout"
        }
      ]
    },
    {
      "cell_type": "markdown",
      "metadata": {
        "id": "s-tZjhy-12Pf"
      },
      "source": [
        "The result shows a high p-value in **age** and **indus**. We run a regression excluding these predictors"
      ]
    },
    {
      "cell_type": "code",
      "metadata": {
        "colab": {
          "base_uri": "https://localhost:8080/"
        },
        "id": "Q-7_Jtu82P__",
        "outputId": "15fd31a2-a515-42c5-ed17-bea6b00b2d0d"
      },
      "source": [
        "model = sm.OLS.from_formula('medv~'+ '+'.join(df.columns.difference(['medv','age','indus'])), df)\n",
        "result = model.fit()\n",
        "print(result.summary())"
      ],
      "execution_count": 20,
      "outputs": [
        {
          "output_type": "stream",
          "text": [
            "                            OLS Regression Results                            \n",
            "==============================================================================\n",
            "Dep. Variable:                   medv   R-squared:                       0.741\n",
            "Model:                            OLS   Adj. R-squared:                  0.735\n",
            "Method:                 Least Squares   F-statistic:                     128.2\n",
            "Date:                Thu, 08 Jul 2021   Prob (F-statistic):          5.54e-137\n",
            "Time:                        02:02:39   Log-Likelihood:                -1498.9\n",
            "No. Observations:                 506   AIC:                             3022.\n",
            "Df Residuals:                     494   BIC:                             3072.\n",
            "Df Model:                          11                                         \n",
            "Covariance Type:            nonrobust                                         \n",
            "==============================================================================\n",
            "                 coef    std err          t      P>|t|      [0.025      0.975]\n",
            "------------------------------------------------------------------------------\n",
            "Intercept     36.3411      5.067      7.171      0.000      26.385      46.298\n",
            "black          0.0093      0.003      3.475      0.001       0.004       0.015\n",
            "chas           2.7187      0.854      3.183      0.002       1.040       4.397\n",
            "crim          -0.1084      0.033     -3.307      0.001      -0.173      -0.044\n",
            "dis           -1.4927      0.186     -8.037      0.000      -1.858      -1.128\n",
            "lstat         -0.5226      0.047    -11.019      0.000      -0.616      -0.429\n",
            "nox          -17.3760      3.535     -4.915      0.000     -24.322     -10.430\n",
            "ptratio       -0.9465      0.129     -7.334      0.000      -1.200      -0.693\n",
            "rad            0.2996      0.063      4.726      0.000       0.175       0.424\n",
            "rm             3.8016      0.406      9.356      0.000       3.003       4.600\n",
            "tax           -0.0118      0.003     -3.493      0.001      -0.018      -0.005\n",
            "zn             0.0458      0.014      3.390      0.001       0.019       0.072\n",
            "==============================================================================\n",
            "Omnibus:                      178.430   Durbin-Watson:                   1.078\n",
            "Prob(Omnibus):                  0.000   Jarque-Bera (JB):              787.785\n",
            "Skew:                           1.523   Prob(JB):                    8.60e-172\n",
            "Kurtosis:                       8.300   Cond. No.                     1.47e+04\n",
            "==============================================================================\n",
            "\n",
            "Warnings:\n",
            "[1] Standard Errors assume that the covariance matrix of the errors is correctly specified.\n",
            "[2] The condition number is large, 1.47e+04. This might indicate that there are\n",
            "strong multicollinearity or other numerical problems.\n"
          ],
          "name": "stdout"
        }
      ]
    },
    {
      "cell_type": "markdown",
      "metadata": {
        "id": "NDgUviSi3g4G"
      },
      "source": [
        "### Interaction terms"
      ]
    },
    {
      "cell_type": "code",
      "metadata": {
        "colab": {
          "base_uri": "https://localhost:8080/"
        },
        "id": "UxNz1Kcm2zVC",
        "outputId": "3324a3b8-2bca-4f0d-fa94-a70030209bed"
      },
      "source": [
        "print(sm.OLS.from_formula('medv~lstat*age', df).fit().summary())"
      ],
      "execution_count": 25,
      "outputs": [
        {
          "output_type": "stream",
          "text": [
            "                            OLS Regression Results                            \n",
            "==============================================================================\n",
            "Dep. Variable:                   medv   R-squared:                       0.556\n",
            "Model:                            OLS   Adj. R-squared:                  0.553\n",
            "Method:                 Least Squares   F-statistic:                     209.3\n",
            "Date:                Thu, 08 Jul 2021   Prob (F-statistic):           4.86e-88\n",
            "Time:                        02:10:32   Log-Likelihood:                -1635.0\n",
            "No. Observations:                 506   AIC:                             3278.\n",
            "Df Residuals:                     502   BIC:                             3295.\n",
            "Df Model:                           3                                         \n",
            "Covariance Type:            nonrobust                                         \n",
            "==============================================================================\n",
            "                 coef    std err          t      P>|t|      [0.025      0.975]\n",
            "------------------------------------------------------------------------------\n",
            "Intercept     36.0885      1.470     24.553      0.000      33.201      38.976\n",
            "lstat         -1.3921      0.167     -8.313      0.000      -1.721      -1.063\n",
            "age           -0.0007      0.020     -0.036      0.971      -0.040       0.038\n",
            "lstat:age      0.0042      0.002      2.244      0.025       0.001       0.008\n",
            "==============================================================================\n",
            "Omnibus:                      135.601   Durbin-Watson:                   0.965\n",
            "Prob(Omnibus):                  0.000   Jarque-Bera (JB):              296.955\n",
            "Skew:                           1.417   Prob(JB):                     3.29e-65\n",
            "Kurtosis:                       5.461   Cond. No.                     6.88e+03\n",
            "==============================================================================\n",
            "\n",
            "Warnings:\n",
            "[1] Standard Errors assume that the covariance matrix of the errors is correctly specified.\n",
            "[2] The condition number is large, 6.88e+03. This might indicate that there are\n",
            "strong multicollinearity or other numerical problems.\n"
          ],
          "name": "stdout"
        }
      ]
    },
    {
      "cell_type": "markdown",
      "metadata": {
        "id": "K1_bHVfW4exQ"
      },
      "source": [
        "###Using anova_lm() to quantify the extent to which the quadratic fit is superior to the linear fit."
      ]
    },
    {
      "cell_type": "code",
      "metadata": {
        "id": "QxK0cLrU5NQZ"
      },
      "source": [
        "lm.fit2 = sm.OLS.from_formula('medv ~lstat + np.square(lstat)', df).fit()"
      ],
      "execution_count": 29,
      "outputs": []
    },
    {
      "cell_type": "code",
      "metadata": {
        "colab": {
          "base_uri": "https://localhost:8080/"
        },
        "id": "w3cRFAV04pc-",
        "outputId": "dfab4f9d-2f7e-4f26-af4f-bef4cd58e681"
      },
      "source": [
        "lm.fit = sm.OLS.from_formula('medv ~ lstat', df).fit()\n",
        "print(sm.stats.anova_lm(lm.fit, lm.fit2))"
      ],
      "execution_count": 30,
      "outputs": [
        {
          "output_type": "stream",
          "text": [
            "   df_resid           ssr  df_diff     ss_diff           F        Pr(>F)\n",
            "0     504.0  19472.381418      0.0         NaN         NaN           NaN\n",
            "1     503.0  15347.243158      1.0  4125.13826  135.199822  7.630116e-28\n"
          ],
          "name": "stdout"
        }
      ]
    },
    {
      "cell_type": "markdown",
      "metadata": {
        "id": "YpE-4D3M6OR-"
      },
      "source": [
        "F-statistic and p <<1 indicate that non-linear model is far better."
      ]
    },
    {
      "cell_type": "code",
      "metadata": {
        "colab": {
          "base_uri": "https://localhost:8080/",
          "height": 350
        },
        "id": "GzEwEior6ZOt",
        "outputId": "43f94910-3829-4e26-963c-669fc5ed24a3"
      },
      "source": [
        "fitted_values = pd.Series(lm.fit2.fittedvalues, name=\"Fitted Values\")\n",
        "residuals = pd.Series(lm.fit2.resid, name=\"S. Residuals\")\n",
        "sns.regplot(fitted_values, s_residuals, fit_reg=False)"
      ],
      "execution_count": 31,
      "outputs": [
        {
          "output_type": "stream",
          "text": [
            "/usr/local/lib/python3.7/dist-packages/seaborn/_decorators.py:43: FutureWarning: Pass the following variables as keyword args: x, y. From version 0.12, the only valid positional argument will be `data`, and passing other arguments without an explicit keyword will result in an error or misinterpretation.\n",
            "  FutureWarning\n"
          ],
          "name": "stderr"
        },
        {
          "output_type": "execute_result",
          "data": {
            "text/plain": [
              "<matplotlib.axes._subplots.AxesSubplot at 0x7f55a4ed8dd0>"
            ]
          },
          "metadata": {
            "tags": []
          },
          "execution_count": 31
        },
        {
          "output_type": "display_data",
          "data": {
            "image/png": "[encoded data removed]",
            "text/plain": [
              "<Figure size 432x288 with 1 Axes>"
            ]
          },
          "metadata": {
            "tags": [],
            "needs_background": "light"
          }
        }
      ]
    },
    {
      "cell_type": "markdown",
      "metadata": {
        "id": "PSKDxleS7YQY"
      },
      "source": [
        "Model for a  fifth-order polynomial fit"
      ]
    },
    {
      "cell_type": "code",
      "metadata": {
        "colab": {
          "base_uri": "https://localhost:8080/",
          "height": 562
        },
        "id": "PFeuu3fJ7eiU",
        "outputId": "f395b895-7114-4583-828e-0b318b70c0e1"
      },
      "source": [
        "sm.OLS.from_formula('medv ~ '+ '+'.join(['np.power(lstat,'+str(i)+')' for i in range(1, 6)]),df).fit().summary()"
      ],
      "execution_count": 32,
      "outputs": [
        {
          "output_type": "execute_result",
          "data": {
            "text/html": [
              "<table class=\"simpletable\">\n",
              "<caption>OLS Regression Results</caption>\n",
              "<tr>\n",
              "  <th>Dep. Variable:</th>          <td>medv</td>       <th>  R-squared:         </th> <td>   0.682</td> \n",
              "</tr>\n",
              "<tr>\n",
              "  <th>Model:</th>                   <td>OLS</td>       <th>  Adj. R-squared:    </th> <td>   0.679</td> \n",
              "</tr>\n",
              "<tr>\n",
              "  <th>Method:</th>             <td>Least Squares</td>  <th>  F-statistic:       </th> <td>   214.2</td> \n",
              "</tr>\n",
              "<tr>\n",
              "  <th>Date:</th>             <td>Thu, 08 Jul 2021</td> <th>  Prob (F-statistic):</th> <td>8.73e-122</td>\n",
              "</tr>\n",
              "<tr>\n",
              "  <th>Time:</th>                 <td>02:25:41</td>     <th>  Log-Likelihood:    </th> <td> -1550.6</td> \n",
              "</tr>\n",
              "<tr>\n",
              "  <th>No. Observations:</th>      <td>   506</td>      <th>  AIC:               </th> <td>   3113.</td> \n",
              "</tr>\n",
              "<tr>\n",
              "  <th>Df Residuals:</th>          <td>   500</td>      <th>  BIC:               </th> <td>   3139.</td> \n",
              "</tr>\n",
              "<tr>\n",
              "  <th>Df Model:</th>              <td>     5</td>      <th>                     </th>     <td> </td>    \n",
              "</tr>\n",
              "<tr>\n",
              "  <th>Covariance Type:</th>      <td>nonrobust</td>    <th>                     </th>     <td> </td>    \n",
              "</tr>\n",
              "</table>\n",
              "<table class=\"simpletable\">\n",
              "<tr>\n",
              "           <td></td>             <th>coef</th>     <th>std err</th>      <th>t</th>      <th>P>|t|</th>  <th>[0.025</th>    <th>0.975]</th>  \n",
              "</tr>\n",
              "<tr>\n",
              "  <th>Intercept</th>          <td>   67.6997</td> <td>    3.604</td> <td>   18.783</td> <td> 0.000</td> <td>   60.618</td> <td>   74.781</td>\n",
              "</tr>\n",
              "<tr>\n",
              "  <th>np.power(lstat, 1)</th> <td>  -11.9911</td> <td>    1.526</td> <td>   -7.859</td> <td> 0.000</td> <td>  -14.989</td> <td>   -8.994</td>\n",
              "</tr>\n",
              "<tr>\n",
              "  <th>np.power(lstat, 2)</th> <td>    1.2728</td> <td>    0.223</td> <td>    5.703</td> <td> 0.000</td> <td>    0.834</td> <td>    1.711</td>\n",
              "</tr>\n",
              "<tr>\n",
              "  <th>np.power(lstat, 3)</th> <td>   -0.0683</td> <td>    0.014</td> <td>   -4.747</td> <td> 0.000</td> <td>   -0.097</td> <td>   -0.040</td>\n",
              "</tr>\n",
              "<tr>\n",
              "  <th>np.power(lstat, 4)</th> <td>    0.0017</td> <td>    0.000</td> <td>    4.143</td> <td> 0.000</td> <td>    0.001</td> <td>    0.003</td>\n",
              "</tr>\n",
              "<tr>\n",
              "  <th>np.power(lstat, 5)</th> <td>-1.632e-05</td> <td> 4.42e-06</td> <td>   -3.692</td> <td> 0.000</td> <td> -2.5e-05</td> <td>-7.63e-06</td>\n",
              "</tr>\n",
              "</table>\n",
              "<table class=\"simpletable\">\n",
              "<tr>\n",
              "  <th>Omnibus:</th>       <td>144.085</td> <th>  Durbin-Watson:     </th> <td>   0.987</td> \n",
              "</tr>\n",
              "<tr>\n",
              "  <th>Prob(Omnibus):</th> <td> 0.000</td>  <th>  Jarque-Bera (JB):  </th> <td> 494.545</td> \n",
              "</tr>\n",
              "<tr>\n",
              "  <th>Skew:</th>          <td> 1.292</td>  <th>  Prob(JB):          </th> <td>4.08e-108</td>\n",
              "</tr>\n",
              "<tr>\n",
              "  <th>Kurtosis:</th>      <td> 7.096</td>  <th>  Cond. No.          </th> <td>1.37e+08</td> \n",
              "</tr>\n",
              "</table><br/><br/>Warnings:<br/>[1] Standard Errors assume that the covariance matrix of the errors is correctly specified.<br/>[2] The condition number is large, 1.37e+08. This might indicate that there are<br/>strong multicollinearity or other numerical problems."
            ],
            "text/plain": [
              "<class 'statsmodels.iolib.summary.Summary'>\n",
              "\"\"\"\n",
              "                            OLS Regression Results                            \n",
              "==============================================================================\n",
              "Dep. Variable:                   medv   R-squared:                       0.682\n",
              "Model:                            OLS   Adj. R-squared:                  0.679\n",
              "Method:                 Least Squares   F-statistic:                     214.2\n",
              "Date:                Thu, 08 Jul 2021   Prob (F-statistic):          8.73e-122\n",
              "Time:                        02:25:41   Log-Likelihood:                -1550.6\n",
              "No. Observations:                 506   AIC:                             3113.\n",
              "Df Residuals:                     500   BIC:                             3139.\n",
              "Df Model:                           5                                         \n",
              "Covariance Type:            nonrobust                                         \n",
              "======================================================================================\n",
              "                         coef    std err          t      P>|t|      [0.025      0.975]\n",
              "--------------------------------------------------------------------------------------\n",
              "Intercept             67.6997      3.604     18.783      0.000      60.618      74.781\n",
              "np.power(lstat, 1)   -11.9911      1.526     -7.859      0.000     -14.989      -8.994\n",
              "np.power(lstat, 2)     1.2728      0.223      5.703      0.000       0.834       1.711\n",
              "np.power(lstat, 3)    -0.0683      0.014     -4.747      0.000      -0.097      -0.040\n",
              "np.power(lstat, 4)     0.0017      0.000      4.143      0.000       0.001       0.003\n",
              "np.power(lstat, 5) -1.632e-05   4.42e-06     -3.692      0.000    -2.5e-05   -7.63e-06\n",
              "==============================================================================\n",
              "Omnibus:                      144.085   Durbin-Watson:                   0.987\n",
              "Prob(Omnibus):                  0.000   Jarque-Bera (JB):              494.545\n",
              "Skew:                           1.292   Prob(JB):                    4.08e-108\n",
              "Kurtosis:                       7.096   Cond. No.                     1.37e+08\n",
              "==============================================================================\n",
              "\n",
              "Warnings:\n",
              "[1] Standard Errors assume that the covariance matrix of the errors is correctly specified.\n",
              "[2] The condition number is large, 1.37e+08. This might indicate that there are\n",
              "strong multicollinearity or other numerical problems.\n",
              "\"\"\""
            ]
          },
          "metadata": {
            "tags": []
          },
          "execution_count": 32
        }
      ]
    },
    {
      "cell_type": "markdown",
      "metadata": {
        "id": "TnbTre5H8AC5"
      },
      "source": [
        "###Using Log function "
      ]
    },
    {
      "cell_type": "code",
      "metadata": {
        "colab": {
          "base_uri": "https://localhost:8080/",
          "height": 444
        },
        "id": "t-g_D-7x8ChE",
        "outputId": "6c644341-dbaa-4d58-c96b-fe54bb39e3d0"
      },
      "source": [
        "sm.OLS.from_formula('medv ~ np.log(rm)', df).fit().summary()"
      ],
      "execution_count": 33,
      "outputs": [
        {
          "output_type": "execute_result",
          "data": {
            "text/html": [
              "<table class=\"simpletable\">\n",
              "<caption>OLS Regression Results</caption>\n",
              "<tr>\n",
              "  <th>Dep. Variable:</th>          <td>medv</td>       <th>  R-squared:         </th> <td>   0.436</td>\n",
              "</tr>\n",
              "<tr>\n",
              "  <th>Model:</th>                   <td>OLS</td>       <th>  Adj. R-squared:    </th> <td>   0.435</td>\n",
              "</tr>\n",
              "<tr>\n",
              "  <th>Method:</th>             <td>Least Squares</td>  <th>  F-statistic:       </th> <td>   389.3</td>\n",
              "</tr>\n",
              "<tr>\n",
              "  <th>Date:</th>             <td>Thu, 08 Jul 2021</td> <th>  Prob (F-statistic):</th> <td>1.22e-64</td>\n",
              "</tr>\n",
              "<tr>\n",
              "  <th>Time:</th>                 <td>02:26:34</td>     <th>  Log-Likelihood:    </th> <td> -1695.4</td>\n",
              "</tr>\n",
              "<tr>\n",
              "  <th>No. Observations:</th>      <td>   506</td>      <th>  AIC:               </th> <td>   3395.</td>\n",
              "</tr>\n",
              "<tr>\n",
              "  <th>Df Residuals:</th>          <td>   504</td>      <th>  BIC:               </th> <td>   3403.</td>\n",
              "</tr>\n",
              "<tr>\n",
              "  <th>Df Model:</th>              <td>     1</td>      <th>                     </th>     <td> </td>   \n",
              "</tr>\n",
              "<tr>\n",
              "  <th>Covariance Type:</th>      <td>nonrobust</td>    <th>                     </th>     <td> </td>   \n",
              "</tr>\n",
              "</table>\n",
              "<table class=\"simpletable\">\n",
              "<tr>\n",
              "       <td></td>         <th>coef</th>     <th>std err</th>      <th>t</th>      <th>P>|t|</th>  <th>[0.025</th>    <th>0.975]</th>  \n",
              "</tr>\n",
              "<tr>\n",
              "  <th>Intercept</th>  <td>  -76.4878</td> <td>    5.028</td> <td>  -15.213</td> <td> 0.000</td> <td>  -86.366</td> <td>  -66.610</td>\n",
              "</tr>\n",
              "<tr>\n",
              "  <th>np.log(rm)</th> <td>   54.0546</td> <td>    2.739</td> <td>   19.732</td> <td> 0.000</td> <td>   48.672</td> <td>   59.437</td>\n",
              "</tr>\n",
              "</table>\n",
              "<table class=\"simpletable\">\n",
              "<tr>\n",
              "  <th>Omnibus:</th>       <td>117.102</td> <th>  Durbin-Watson:     </th> <td>   0.681</td> \n",
              "</tr>\n",
              "<tr>\n",
              "  <th>Prob(Omnibus):</th> <td> 0.000</td>  <th>  Jarque-Bera (JB):  </th> <td> 584.336</td> \n",
              "</tr>\n",
              "<tr>\n",
              "  <th>Skew:</th>          <td> 0.916</td>  <th>  Prob(JB):          </th> <td>1.30e-127</td>\n",
              "</tr>\n",
              "<tr>\n",
              "  <th>Kurtosis:</th>      <td> 7.936</td>  <th>  Cond. No.          </th> <td>    38.9</td> \n",
              "</tr>\n",
              "</table><br/><br/>Warnings:<br/>[1] Standard Errors assume that the covariance matrix of the errors is correctly specified."
            ],
            "text/plain": [
              "<class 'statsmodels.iolib.summary.Summary'>\n",
              "\"\"\"\n",
              "                            OLS Regression Results                            \n",
              "==============================================================================\n",
              "Dep. Variable:                   medv   R-squared:                       0.436\n",
              "Model:                            OLS   Adj. R-squared:                  0.435\n",
              "Method:                 Least Squares   F-statistic:                     389.3\n",
              "Date:                Thu, 08 Jul 2021   Prob (F-statistic):           1.22e-64\n",
              "Time:                        02:26:34   Log-Likelihood:                -1695.4\n",
              "No. Observations:                 506   AIC:                             3395.\n",
              "Df Residuals:                     504   BIC:                             3403.\n",
              "Df Model:                           1                                         \n",
              "Covariance Type:            nonrobust                                         \n",
              "==============================================================================\n",
              "                 coef    std err          t      P>|t|      [0.025      0.975]\n",
              "------------------------------------------------------------------------------\n",
              "Intercept    -76.4878      5.028    -15.213      0.000     -86.366     -66.610\n",
              "np.log(rm)    54.0546      2.739     19.732      0.000      48.672      59.437\n",
              "==============================================================================\n",
              "Omnibus:                      117.102   Durbin-Watson:                   0.681\n",
              "Prob(Omnibus):                  0.000   Jarque-Bera (JB):              584.336\n",
              "Skew:                           0.916   Prob(JB):                    1.30e-127\n",
              "Kurtosis:                       7.936   Cond. No.                         38.9\n",
              "==============================================================================\n",
              "\n",
              "Warnings:\n",
              "[1] Standard Errors assume that the covariance matrix of the errors is correctly specified.\n",
              "\"\"\""
            ]
          },
          "metadata": {
            "tags": []
          },
          "execution_count": 33
        }
      ]
    },
    {
      "cell_type": "markdown",
      "metadata": {
        "id": "cs2l4CtX8Hn0"
      },
      "source": [
        "## explore Carseats data"
      ]
    },
    {
      "cell_type": "markdown",
      "metadata": {
        "id": "HFmSZgQw9xLJ"
      },
      "source": [
        "###Quality the predictors"
      ]
    },
    {
      "cell_type": "code",
      "metadata": {
        "colab": {
          "base_uri": "https://localhost:8080/",
          "height": 669
        },
        "id": "tirFn7wz9B4K",
        "outputId": "10ff03df-28b2-4e67-91f4-50d0ccae2dba"
      },
      "source": [
        "df2 = pd.read_csv('http://www.science.smith.edu/~jcrouser/SDS293/data/Carseats.csv')\n",
        "df2.head(20)"
      ],
      "execution_count": 36,
      "outputs": [
        {
          "output_type": "execute_result",
          "data": {
            "text/html": [
              "<div>\n",
              "<style scoped>\n",
              "    .dataframe tbody tr th:only-of-type {\n",
              "        vertical-align: middle;\n",
              "    }\n",
              "\n",
              "    .dataframe tbody tr th {\n",
              "        vertical-align: top;\n",
              "    }\n",
              "\n",
              "    .dataframe thead th {\n",
              "        text-align: right;\n",
              "    }\n",
              "</style>\n",
              "<table border=\"1\" class=\"dataframe\">\n",
              "  <thead>\n",
              "    <tr style=\"text-align: right;\">\n",
              "      <th></th>\n",
              "      <th>Sales</th>\n",
              "      <th>CompPrice</th>\n",
              "      <th>Income</th>\n",
              "      <th>Advertising</th>\n",
              "      <th>Population</th>\n",
              "      <th>Price</th>\n",
              "      <th>ShelveLoc</th>\n",
              "      <th>Age</th>\n",
              "      <th>Education</th>\n",
              "      <th>Urban</th>\n",
              "      <th>US</th>\n",
              "    </tr>\n",
              "  </thead>\n",
              "  <tbody>\n",
              "    <tr>\n",
              "      <th>0</th>\n",
              "      <td>9.50</td>\n",
              "      <td>138</td>\n",
              "      <td>73</td>\n",
              "      <td>11</td>\n",
              "      <td>276</td>\n",
              "      <td>120</td>\n",
              "      <td>Bad</td>\n",
              "      <td>42</td>\n",
              "      <td>17</td>\n",
              "      <td>Yes</td>\n",
              "      <td>Yes</td>\n",
              "    </tr>\n",
              "    <tr>\n",
              "      <th>1</th>\n",
              "      <td>11.22</td>\n",
              "      <td>111</td>\n",
              "      <td>48</td>\n",
              "      <td>16</td>\n",
              "      <td>260</td>\n",
              "      <td>83</td>\n",
              "      <td>Good</td>\n",
              "      <td>65</td>\n",
              "      <td>10</td>\n",
              "      <td>Yes</td>\n",
              "      <td>Yes</td>\n",
              "    </tr>\n",
              "    <tr>\n",
              "      <th>2</th>\n",
              "      <td>10.06</td>\n",
              "      <td>113</td>\n",
              "      <td>35</td>\n",
              "      <td>10</td>\n",
              "      <td>269</td>\n",
              "      <td>80</td>\n",
              "      <td>Medium</td>\n",
              "      <td>59</td>\n",
              "      <td>12</td>\n",
              "      <td>Yes</td>\n",
              "      <td>Yes</td>\n",
              "    </tr>\n",
              "    <tr>\n",
              "      <th>3</th>\n",
              "      <td>7.40</td>\n",
              "      <td>117</td>\n",
              "      <td>100</td>\n",
              "      <td>4</td>\n",
              "      <td>466</td>\n",
              "      <td>97</td>\n",
              "      <td>Medium</td>\n",
              "      <td>55</td>\n",
              "      <td>14</td>\n",
              "      <td>Yes</td>\n",
              "      <td>Yes</td>\n",
              "    </tr>\n",
              "    <tr>\n",
              "      <th>4</th>\n",
              "      <td>4.15</td>\n",
              "      <td>141</td>\n",
              "      <td>64</td>\n",
              "      <td>3</td>\n",
              "      <td>340</td>\n",
              "      <td>128</td>\n",
              "      <td>Bad</td>\n",
              "      <td>38</td>\n",
              "      <td>13</td>\n",
              "      <td>Yes</td>\n",
              "      <td>No</td>\n",
              "    </tr>\n",
              "    <tr>\n",
              "      <th>5</th>\n",
              "      <td>10.81</td>\n",
              "      <td>124</td>\n",
              "      <td>113</td>\n",
              "      <td>13</td>\n",
              "      <td>501</td>\n",
              "      <td>72</td>\n",
              "      <td>Bad</td>\n",
              "      <td>78</td>\n",
              "      <td>16</td>\n",
              "      <td>No</td>\n",
              "      <td>Yes</td>\n",
              "    </tr>\n",
              "    <tr>\n",
              "      <th>6</th>\n",
              "      <td>6.63</td>\n",
              "      <td>115</td>\n",
              "      <td>105</td>\n",
              "      <td>0</td>\n",
              "      <td>45</td>\n",
              "      <td>108</td>\n",
              "      <td>Medium</td>\n",
              "      <td>71</td>\n",
              "      <td>15</td>\n",
              "      <td>Yes</td>\n",
              "      <td>No</td>\n",
              "    </tr>\n",
              "    <tr>\n",
              "      <th>7</th>\n",
              "      <td>11.85</td>\n",
              "      <td>136</td>\n",
              "      <td>81</td>\n",
              "      <td>15</td>\n",
              "      <td>425</td>\n",
              "      <td>120</td>\n",
              "      <td>Good</td>\n",
              "      <td>67</td>\n",
              "      <td>10</td>\n",
              "      <td>Yes</td>\n",
              "      <td>Yes</td>\n",
              "    </tr>\n",
              "    <tr>\n",
              "      <th>8</th>\n",
              "      <td>6.54</td>\n",
              "      <td>132</td>\n",
              "      <td>110</td>\n",
              "      <td>0</td>\n",
              "      <td>108</td>\n",
              "      <td>124</td>\n",
              "      <td>Medium</td>\n",
              "      <td>76</td>\n",
              "      <td>10</td>\n",
              "      <td>No</td>\n",
              "      <td>No</td>\n",
              "    </tr>\n",
              "    <tr>\n",
              "      <th>9</th>\n",
              "      <td>4.69</td>\n",
              "      <td>132</td>\n",
              "      <td>113</td>\n",
              "      <td>0</td>\n",
              "      <td>131</td>\n",
              "      <td>124</td>\n",
              "      <td>Medium</td>\n",
              "      <td>76</td>\n",
              "      <td>17</td>\n",
              "      <td>No</td>\n",
              "      <td>Yes</td>\n",
              "    </tr>\n",
              "    <tr>\n",
              "      <th>10</th>\n",
              "      <td>9.01</td>\n",
              "      <td>121</td>\n",
              "      <td>78</td>\n",
              "      <td>9</td>\n",
              "      <td>150</td>\n",
              "      <td>100</td>\n",
              "      <td>Bad</td>\n",
              "      <td>26</td>\n",
              "      <td>10</td>\n",
              "      <td>No</td>\n",
              "      <td>Yes</td>\n",
              "    </tr>\n",
              "    <tr>\n",
              "      <th>11</th>\n",
              "      <td>11.96</td>\n",
              "      <td>117</td>\n",
              "      <td>94</td>\n",
              "      <td>4</td>\n",
              "      <td>503</td>\n",
              "      <td>94</td>\n",
              "      <td>Good</td>\n",
              "      <td>50</td>\n",
              "      <td>13</td>\n",
              "      <td>Yes</td>\n",
              "      <td>Yes</td>\n",
              "    </tr>\n",
              "    <tr>\n",
              "      <th>12</th>\n",
              "      <td>3.98</td>\n",
              "      <td>122</td>\n",
              "      <td>35</td>\n",
              "      <td>2</td>\n",
              "      <td>393</td>\n",
              "      <td>136</td>\n",
              "      <td>Medium</td>\n",
              "      <td>62</td>\n",
              "      <td>18</td>\n",
              "      <td>Yes</td>\n",
              "      <td>No</td>\n",
              "    </tr>\n",
              "    <tr>\n",
              "      <th>13</th>\n",
              "      <td>10.96</td>\n",
              "      <td>115</td>\n",
              "      <td>28</td>\n",
              "      <td>11</td>\n",
              "      <td>29</td>\n",
              "      <td>86</td>\n",
              "      <td>Good</td>\n",
              "      <td>53</td>\n",
              "      <td>18</td>\n",
              "      <td>Yes</td>\n",
              "      <td>Yes</td>\n",
              "    </tr>\n",
              "    <tr>\n",
              "      <th>14</th>\n",
              "      <td>11.17</td>\n",
              "      <td>107</td>\n",
              "      <td>117</td>\n",
              "      <td>11</td>\n",
              "      <td>148</td>\n",
              "      <td>118</td>\n",
              "      <td>Good</td>\n",
              "      <td>52</td>\n",
              "      <td>18</td>\n",
              "      <td>Yes</td>\n",
              "      <td>Yes</td>\n",
              "    </tr>\n",
              "    <tr>\n",
              "      <th>15</th>\n",
              "      <td>8.71</td>\n",
              "      <td>149</td>\n",
              "      <td>95</td>\n",
              "      <td>5</td>\n",
              "      <td>400</td>\n",
              "      <td>144</td>\n",
              "      <td>Medium</td>\n",
              "      <td>76</td>\n",
              "      <td>18</td>\n",
              "      <td>No</td>\n",
              "      <td>No</td>\n",
              "    </tr>\n",
              "    <tr>\n",
              "      <th>16</th>\n",
              "      <td>7.58</td>\n",
              "      <td>118</td>\n",
              "      <td>32</td>\n",
              "      <td>0</td>\n",
              "      <td>284</td>\n",
              "      <td>110</td>\n",
              "      <td>Good</td>\n",
              "      <td>63</td>\n",
              "      <td>13</td>\n",
              "      <td>Yes</td>\n",
              "      <td>No</td>\n",
              "    </tr>\n",
              "    <tr>\n",
              "      <th>17</th>\n",
              "      <td>12.29</td>\n",
              "      <td>147</td>\n",
              "      <td>74</td>\n",
              "      <td>13</td>\n",
              "      <td>251</td>\n",
              "      <td>131</td>\n",
              "      <td>Good</td>\n",
              "      <td>52</td>\n",
              "      <td>10</td>\n",
              "      <td>Yes</td>\n",
              "      <td>Yes</td>\n",
              "    </tr>\n",
              "    <tr>\n",
              "      <th>18</th>\n",
              "      <td>13.91</td>\n",
              "      <td>110</td>\n",
              "      <td>110</td>\n",
              "      <td>0</td>\n",
              "      <td>408</td>\n",
              "      <td>68</td>\n",
              "      <td>Good</td>\n",
              "      <td>46</td>\n",
              "      <td>17</td>\n",
              "      <td>No</td>\n",
              "      <td>Yes</td>\n",
              "    </tr>\n",
              "    <tr>\n",
              "      <th>19</th>\n",
              "      <td>8.73</td>\n",
              "      <td>129</td>\n",
              "      <td>76</td>\n",
              "      <td>16</td>\n",
              "      <td>58</td>\n",
              "      <td>121</td>\n",
              "      <td>Medium</td>\n",
              "      <td>69</td>\n",
              "      <td>12</td>\n",
              "      <td>Yes</td>\n",
              "      <td>Yes</td>\n",
              "    </tr>\n",
              "  </tbody>\n",
              "</table>\n",
              "</div>"
            ],
            "text/plain": [
              "    Sales  CompPrice  Income  Advertising  ...  Age  Education Urban   US\n",
              "0    9.50        138      73           11  ...   42         17   Yes  Yes\n",
              "1   11.22        111      48           16  ...   65         10   Yes  Yes\n",
              "2   10.06        113      35           10  ...   59         12   Yes  Yes\n",
              "3    7.40        117     100            4  ...   55         14   Yes  Yes\n",
              "4    4.15        141      64            3  ...   38         13   Yes   No\n",
              "5   10.81        124     113           13  ...   78         16    No  Yes\n",
              "6    6.63        115     105            0  ...   71         15   Yes   No\n",
              "7   11.85        136      81           15  ...   67         10   Yes  Yes\n",
              "8    6.54        132     110            0  ...   76         10    No   No\n",
              "9    4.69        132     113            0  ...   76         17    No  Yes\n",
              "10   9.01        121      78            9  ...   26         10    No  Yes\n",
              "11  11.96        117      94            4  ...   50         13   Yes  Yes\n",
              "12   3.98        122      35            2  ...   62         18   Yes   No\n",
              "13  10.96        115      28           11  ...   53         18   Yes  Yes\n",
              "14  11.17        107     117           11  ...   52         18   Yes  Yes\n",
              "15   8.71        149      95            5  ...   76         18    No   No\n",
              "16   7.58        118      32            0  ...   63         13   Yes   No\n",
              "17  12.29        147      74           13  ...   52         10   Yes  Yes\n",
              "18  13.91        110     110            0  ...   46         17    No  Yes\n",
              "19   8.73        129      76           16  ...   69         12   Yes  Yes\n",
              "\n",
              "[20 rows x 11 columns]"
            ]
          },
          "metadata": {
            "tags": []
          },
          "execution_count": 36
        }
      ]
    },
    {
      "cell_type": "code",
      "metadata": {
        "colab": {
          "base_uri": "https://localhost:8080/"
        },
        "id": "lwnXh9YJ91Xq",
        "outputId": "82dfe866-8256-4fd2-8f32-6a131854ce69"
      },
      "source": [
        "print(sm.OLS.from_formula('Sales~ Income:Advertising:Age+'+'+'.join(df2.columns.difference(['Sales'])),df2).fit().summary())"
      ],
      "execution_count": 39,
      "outputs": [
        {
          "output_type": "stream",
          "text": [
            "                            OLS Regression Results                            \n",
            "==============================================================================\n",
            "Dep. Variable:                  Sales   R-squared:                       0.874\n",
            "Model:                            OLS   Adj. R-squared:                  0.870\n",
            "Method:                 Least Squares   F-statistic:                     224.5\n",
            "Date:                Thu, 08 Jul 2021   Prob (F-statistic):          5.92e-166\n",
            "Time:                        02:41:08   Log-Likelihood:                -567.47\n",
            "No. Observations:                 400   AIC:                             1161.\n",
            "Df Residuals:                     387   BIC:                             1213.\n",
            "Df Model:                          12                                         \n",
            "Covariance Type:            nonrobust                                         \n",
            "==========================================================================================\n",
            "                             coef    std err          t      P>|t|      [0.025      0.975]\n",
            "------------------------------------------------------------------------------------------\n",
            "Intercept                  5.9828      0.631      9.489      0.000       4.743       7.222\n",
            "ShelveLoc[T.Good]          4.8606      0.153     31.800      0.000       4.560       5.161\n",
            "ShelveLoc[T.Medium]        1.9721      0.126     15.638      0.000       1.724       2.220\n",
            "US[T.Yes]                 -0.1835      0.149     -1.228      0.220      -0.477       0.110\n",
            "Urban[T.Yes]               0.1224      0.113      1.087      0.278      -0.099       0.344\n",
            "Income:Advertising:Age  7.452e-06   4.34e-06      1.716      0.087   -1.08e-06     1.6e-05\n",
            "Advertising                0.0966      0.019      5.079      0.000       0.059       0.134\n",
            "Age                       -0.0491      0.004    -13.533      0.000      -0.056      -0.042\n",
            "CompPrice                  0.0927      0.004     22.390      0.000       0.085       0.101\n",
            "Education                 -0.0233      0.020     -1.180      0.239      -0.062       0.015\n",
            "Income                     0.0134      0.002      5.794      0.000       0.009       0.018\n",
            "Population                 0.0002      0.000      0.507      0.612      -0.001       0.001\n",
            "Price                     -0.0950      0.003    -35.560      0.000      -0.100      -0.090\n",
            "==============================================================================\n",
            "Omnibus:                        0.670   Durbin-Watson:                   2.012\n",
            "Prob(Omnibus):                  0.715   Jarque-Bera (JB):                0.578\n",
            "Skew:                           0.092   Prob(JB):                        0.749\n",
            "Kurtosis:                       3.029   Cond. No.                     4.73e+05\n",
            "==============================================================================\n",
            "\n",
            "Warnings:\n",
            "[1] Standard Errors assume that the covariance matrix of the errors is correctly specified.\n",
            "[2] The condition number is large, 4.73e+05. This might indicate that there are\n",
            "strong multicollinearity or other numerical problems.\n"
          ],
          "name": "stdout"
        }
      ]
    },
    {
      "cell_type": "code",
      "metadata": {
        "colab": {
          "base_uri": "https://localhost:8080/",
          "height": 350
        },
        "id": "7aXGvt0l_x1t",
        "outputId": "efe16257-f814-4e00-d22c-62d75446dde6"
      },
      "source": [
        "import seaborn as sns\n",
        "\n",
        "sns.regplot('Income', 'Sales', df2, line_kws = {\"color\":\"r\"}, ci=None)"
      ],
      "execution_count": 43,
      "outputs": [
        {
          "output_type": "stream",
          "text": [
            "/usr/local/lib/python3.7/dist-packages/seaborn/_decorators.py:43: FutureWarning: Pass the following variables as keyword args: x, y, data. From version 0.12, the only valid positional argument will be `data`, and passing other arguments without an explicit keyword will result in an error or misinterpretation.\n",
            "  FutureWarning\n"
          ],
          "name": "stderr"
        },
        {
          "output_type": "execute_result",
          "data": {
            "text/plain": [
              "<matplotlib.axes._subplots.AxesSubplot at 0x7f55a487c2d0>"
            ]
          },
          "metadata": {
            "tags": []
          },
          "execution_count": 43
        },
        {
          "output_type": "display_data",
          "data": {
            "image/png": "[encoded data removed]",
            "text/plain": [
              "<Figure size 432x288 with 1 Axes>"
            ]
          },
          "metadata": {
            "tags": [],
            "needs_background": "light"
          }
        }
      ]
    }
  ]
}