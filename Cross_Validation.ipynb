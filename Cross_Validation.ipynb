{
  "nbformat": 4,
  "nbformat_minor": 0,
  "metadata": {
    "colab": {
      "name": "Cross-Validation.ipynb",
      "provenance": [],
      "authorship_tag": "ABX9TyPMHlS4mEsCh8tO/J4Wg//u",
      "include_colab_link": true
    },
    "kernelspec": {
      "name": "python3",
      "display_name": "Python 3"
    },
    "language_info": {
      "name": "python"
    }
  },
  "cells": [
    {
      "cell_type": "markdown",
      "metadata": {
        "id": "view-in-github",
        "colab_type": "text"
      },
      "source": [
        "<a href=\"https://colab.research.google.com/github/LongNguyen1984/TimeSeriesWithPython/blob/main/Cross_Validation.ipynb\" target=\"_parent\"><img src=\"https://colab.research.google.com/assets/colab-badge.svg\" alt=\"Open In Colab\"/></a>"
      ]
    },
    {
      "cell_type": "markdown",
      "metadata": {
        "id": "Ij0820Vtsk91"
      },
      "source": [
        "## Validation Set Approach"
      ]
    },
    {
      "cell_type": "code",
      "metadata": {
        "id": "hQKNIFB1sfxN"
      },
      "source": [
        "import pandas as pd\n",
        "import numpy as np\n",
        "import sklearn.linear_model as skl_lm\n",
        "import matplotlib.pyplot as plt"
      ],
      "execution_count": 1,
      "outputs": []
    },
    {
      "cell_type": "markdown",
      "metadata": {
        "id": "MjIiq43stCjj"
      },
      "source": [
        "### Import data"
      ]
    },
    {
      "cell_type": "code",
      "metadata": {
        "colab": {
          "base_uri": "https://localhost:8080/"
        },
        "id": "SDbbYtwCs2Um",
        "outputId": "e59e224b-7a41-4808-ba15-9cf9401d2781"
      },
      "source": [
        "df1 = pd.read_csv('https://raw.githubusercontent.com/selva86/datasets/master/Auto.csv', na_values='?').dropna()\n",
        "df1.info()"
      ],
      "execution_count": 4,
      "outputs": [
        {
          "output_type": "stream",
          "text": [
            "<class 'pandas.core.frame.DataFrame'>\n",
            "Int64Index: 392 entries, 0 to 391\n",
            "Data columns (total 9 columns):\n",
            " #   Column        Non-Null Count  Dtype  \n",
            "---  ------        --------------  -----  \n",
            " 0   mpg           392 non-null    float64\n",
            " 1   cylinders     392 non-null    int64  \n",
            " 2   displacement  392 non-null    float64\n",
            " 3   horsepower    392 non-null    int64  \n",
            " 4   weight        392 non-null    int64  \n",
            " 5   acceleration  392 non-null    float64\n",
            " 6   year          392 non-null    int64  \n",
            " 7   origin        392 non-null    int64  \n",
            " 8   name          392 non-null    object \n",
            "dtypes: float64(3), int64(5), object(1)\n",
            "memory usage: 30.6+ KB\n"
          ],
          "name": "stdout"
        }
      ]
    },
    {
      "cell_type": "markdown",
      "metadata": {
        "id": "g7NtyMIOuBii"
      },
      "source": [
        "We begin by using the **sample()**\n",
        "  function to split the set of observations into two halves, by selecting a random subset of 196 observations out of the original 392 observations. We refer to these observations as the training set.\n",
        "\n",
        "We'll use the  **random_state**\n",
        "  parameter in order to set a seed for **python**\n",
        " ’s random number generator, so that you'll obtain precisely the same results each time. It is generally a good idea to set a random seed when performing an analysis such as cross-validation that contains an element of randomness, so that the results obtained can be reproduced precisely at a later time."
      ]
    },
    {
      "cell_type": "code",
      "metadata": {
        "id": "T1vJZR39t2nF"
      },
      "source": [
        "train_df = df1.sample(196, random_state= 1)\n",
        "test_df = df1[~df1.isin(train_df)].dropna(how='all')\n",
        "\n",
        "X_train = train_df['horsepower'].values.reshape(-1,1) ### in the form array[[a], [b]]\n",
        "y_train = train_df['mpg']\n",
        "X_test = test_df['horsepower'].values.reshape(-1,1)\n",
        "y_test = test_df['mpg']"
      ],
      "execution_count": 12,
      "outputs": []
    },
    {
      "cell_type": "code",
      "metadata": {
        "colab": {
          "base_uri": "https://localhost:8080/"
        },
        "id": "1saRxxBNvI5k",
        "outputId": "20435289-c99a-450c-c181-26ea9984fc56"
      },
      "source": [
        "X_test[0:10]"
      ],
      "execution_count": 13,
      "outputs": [
        {
          "output_type": "execute_result",
          "data": {
            "text/plain": [
              "array([[165.],\n",
              "       [150.],\n",
              "       [150.],\n",
              "       [215.],\n",
              "       [170.],\n",
              "       [ 95.],\n",
              "       [ 87.],\n",
              "       [ 90.],\n",
              "       [ 95.],\n",
              "       [ 90.]])"
            ]
          },
          "metadata": {},
          "execution_count": 13
        }
      ]
    },
    {
      "cell_type": "markdown",
      "metadata": {
        "id": "FZSKbqoPvl3L"
      },
      "source": [
        "### Training and Predicting data\n",
        "We then use  **LinearRegression()**\n",
        "  to fit a linear regression to predict  **mpg**\n",
        "  from  **horsepower**\n",
        "  using only the observations corresponding to the training set."
      ]
    },
    {
      "cell_type": "code",
      "metadata": {
        "colab": {
          "base_uri": "https://localhost:8080/"
        },
        "id": "QEL1Vqt7v3rx",
        "outputId": "6c879f2b-ae2f-4a1e-a9a6-bb9a77f55fd1"
      },
      "source": [
        "model = skl_lm.LinearRegression()\n",
        "model.fit(X_train, y_train)"
      ],
      "execution_count": 23,
      "outputs": [
        {
          "output_type": "execute_result",
          "data": {
            "text/plain": [
              "LinearRegression(copy_X=True, fit_intercept=True, n_jobs=None, normalize=False)"
            ]
          },
          "metadata": {},
          "execution_count": 23
        }
      ]
    },
    {
      "cell_type": "code",
      "metadata": {
        "id": "hoIiaUSIwjrS"
      },
      "source": [
        "pred = model.predict(X_test)"
      ],
      "execution_count": 24,
      "outputs": []
    },
    {
      "cell_type": "code",
      "metadata": {
        "colab": {
          "base_uri": "https://localhost:8080/"
        },
        "id": "uf7asJYCwqer",
        "outputId": "fc2a2c07-6f27-4b32-d5dd-796f8bea5ff8"
      },
      "source": [
        "from sklearn.metrics import mean_squared_error\n",
        "\n",
        "MSE = mean_squared_error(pred, y_test)\n",
        "print(MSE)"
      ],
      "execution_count": 25,
      "outputs": [
        {
          "output_type": "stream",
          "text": [
            "23.361902892587224\n"
          ],
          "name": "stdout"
        }
      ]
    },
    {
      "cell_type": "code",
      "metadata": {
        "colab": {
          "base_uri": "https://localhost:8080/"
        },
        "id": "GMIjF3vPy1RI",
        "outputId": "a871fa0a-c0bd-4c84-9f06-3e449e83859f"
      },
      "source": [
        "model.coef_, model.intercept_"
      ],
      "execution_count": 27,
      "outputs": [
        {
          "output_type": "execute_result",
          "data": {
            "text/plain": [
              "(array([-0.15964606]), 40.3338030434159)"
            ]
          },
          "metadata": {},
          "execution_count": 27
        }
      ]
    },
    {
      "cell_type": "markdown",
      "metadata": {
        "id": "udMHhArIxIWR"
      },
      "source": [
        "### Using polynomialFeatures() \n",
        "for polynomial and cubic regressions"
      ]
    },
    {
      "cell_type": "code",
      "metadata": {
        "colab": {
          "base_uri": "https://localhost:8080/"
        },
        "id": "lDe5HNCFxVHp",
        "outputId": "eef0cbda-b4b8-4d48-c274-f2e78156f767"
      },
      "source": [
        "from sklearn.preprocessing import PolynomialFeatures\n",
        "\n",
        "# Quadratic\n",
        "poly = PolynomialFeatures(degree=2)\n",
        "X_train2 = poly.fit_transform(X_train)\n",
        "X_test2 = poly.fit_transform(X_test)\n",
        "\n",
        "model.fit(X_train2, y_train)\n",
        "print(mean_squared_error(y_test, model.predict(X_test2)))"
      ],
      "execution_count": 28,
      "outputs": [
        {
          "output_type": "stream",
          "text": [
            "20.252690858345748\n"
          ],
          "name": "stdout"
        }
      ]
    },
    {
      "cell_type": "code",
      "metadata": {
        "colab": {
          "base_uri": "https://localhost:8080/"
        },
        "id": "yUfSEeYFyDsD",
        "outputId": "fa6331ef-24c1-4978-ad52-69ebe5f8e4fe"
      },
      "source": [
        "model.coef_, model.intercept_"
      ],
      "execution_count": 29,
      "outputs": [
        {
          "output_type": "execute_result",
          "data": {
            "text/plain": [
              "(array([ 0.        , -0.51860376,  0.00141527]), 60.30223777216642)"
            ]
          },
          "metadata": {},
          "execution_count": 29
        }
      ]
    },
    {
      "cell_type": "code",
      "metadata": {
        "colab": {
          "base_uri": "https://localhost:8080/"
        },
        "id": "45O0drsXy5jQ",
        "outputId": "579f3c86-2d36-430c-ca73-802399722edd"
      },
      "source": [
        "# Cubic\n",
        "poly = PolynomialFeatures(degree=3)\n",
        "X_train3 = poly.fit_transform(X_train)\n",
        "X_test3 = poly.fit_transform(X_test)\n",
        "\n",
        "model.fit(X_train3, y_train)\n",
        "print(mean_squared_error(y_test, model.predict(X_test3)))"
      ],
      "execution_count": 30,
      "outputs": [
        {
          "output_type": "stream",
          "text": [
            "20.325609365972525\n"
          ],
          "name": "stdout"
        }
      ]
    },
    {
      "cell_type": "code",
      "metadata": {
        "colab": {
          "base_uri": "https://localhost:8080/"
        },
        "id": "72mDV2d90xHS",
        "outputId": "415ce2a2-f066-41c8-ed42-eaa81393d5ac"
      },
      "source": [
        "model.coef_, model.intercept_"
      ],
      "execution_count": 31,
      "outputs": [
        {
          "output_type": "execute_result",
          "data": {
            "text/plain": [
              "(array([ 0.00000000e+00, -6.86758109e-01,  2.80449742e-03, -3.52379474e-06]),\n",
              " 66.51996119784485)"
            ]
          },
          "metadata": {},
          "execution_count": 31
        }
      ]
    },
    {
      "cell_type": "code",
      "metadata": {
        "colab": {
          "base_uri": "https://localhost:8080/"
        },
        "id": "vNi6OyPc07OV",
        "outputId": "fb45cfac-fcfb-4ee9-bcea-e966dc9dd1cd"
      },
      "source": [
        "train_df = df1.sample(196, random_state = 10)\n",
        "test_df = df1[~df1.isin(train_df)].dropna(how = 'all')\n",
        "\n",
        "X_train = train_df['horsepower'].values.reshape(-1,1)\n",
        "y_train = train_df['mpg']\n",
        "X_test = test_df['horsepower'].values.reshape(-1,1)\n",
        "y_test = test_df['mpg']\n",
        "\n",
        "# Linear\n",
        "model.fit(X_train, y_train)\n",
        "print(mean_squared_error(y_test, model.predict(X_test)))\n",
        "\n",
        "# Quadratic\n",
        "poly = PolynomialFeatures(degree=2)\n",
        "X_train2 = poly.fit_transform(X_train)\n",
        "X_test2 = poly.fit_transform(X_test)\n",
        "\n",
        "model.fit(X_train2, y_train)\n",
        "print(mean_squared_error(y_test, model.predict(X_test2)))\n",
        "\n",
        "# Cubic\n",
        "poly = PolynomialFeatures(degree=3)\n",
        "X_train3 = poly.fit_transform(X_train)\n",
        "X_test3 = poly.fit_transform(X_test)\n",
        "\n",
        "model.fit(X_train3, y_train)\n",
        "print(mean_squared_error(y_test, model.predict(X_test3)))"
      ],
      "execution_count": 35,
      "outputs": [
        {
          "output_type": "stream",
          "text": [
            "26.997727618054043\n",
            "20.734320863233357\n",
            "20.94931591623871\n"
          ],
          "name": "stdout"
        }
      ]
    },
    {
      "cell_type": "markdown",
      "metadata": {
        "id": "T6fiIoYx1X_m"
      },
      "source": [
        "## Leave-One-Out Cross-Validation (LOOCV)"
      ]
    },
    {
      "cell_type": "code",
      "metadata": {
        "colab": {
          "base_uri": "https://localhost:8080/"
        },
        "id": "48CCvnty1pek",
        "outputId": "3659a3d2-25b7-425d-c362-893c8ffdbc55"
      },
      "source": [
        "model.fit(X_train, y_train)\n",
        "\n",
        "from sklearn.model_selection import cross_val_score, LeaveOneOut\n",
        "\n",
        "\n",
        "loo = LeaveOneOut()\n",
        "X = df1['horsepower'].values.reshape(-1,1)\n",
        "y = df1['mpg'].values.reshape(-1,1)\n",
        "loo.get_n_splits(X)\n",
        "### LOOCV equivalent KFOLD = N of dataset\n",
        "from sklearn.model_selection import KFold\n",
        "\n",
        "cv = KFold(n_splits=392, random_state = None, shuffle=False)\n",
        "scores = cross_val_score(model, X, y, scoring='neg_mean_squared_error', cv=cv)\n",
        "\n",
        "print(\"Folds: \" + str(len(scores)) + \", MSE: \" + str(np.mean(np.abs(scores))) + \", STD: \" + str(np.std(scores)))"
      ],
      "execution_count": 42,
      "outputs": [
        {
          "output_type": "stream",
          "text": [
            "Folds: 392, MSE: 24.231513517929226, STD: 36.79731503640535\n"
          ],
          "name": "stdout"
        }
      ]
    },
    {
      "cell_type": "markdown",
      "metadata": {
        "id": "ym5mneOc6mC9"
      },
      "source": [
        "### Using LOOCV compare to KFold()"
      ]
    },
    {
      "cell_type": "code",
      "metadata": {
        "colab": {
          "base_uri": "https://localhost:8080/"
        },
        "id": "9xZcVEZt3n0z",
        "outputId": "3bafdb48-a1bb-460b-f6c9-8d0172b05b11"
      },
      "source": [
        "scores = []\n",
        "for train_idx, test_idx in loo.split(X):\n",
        "  X_train, X_test = X[train_idx], X[test_idx]\n",
        "  y_train, y_test = y[train_idx], y[test_idx]\n",
        "  model.fit(X_train, y_train)\n",
        "  scores.append(mean_squared_error(y_test, model.predict(X_test)))\n",
        "\n",
        "print(\"Folds: \" + str(len(scores)) + \", MSE: \" + str(np.mean(np.abs(scores))) + \", STD: \" + str(np.std(scores)))"
      ],
      "execution_count": 49,
      "outputs": [
        {
          "output_type": "stream",
          "text": [
            "Folds: 392, MSE: 24.231513517929226, STD: 36.79731503640535\n"
          ],
          "name": "stdout"
        }
      ]
    },
    {
      "cell_type": "markdown",
      "metadata": {
        "id": "ifbliDfG7F2w"
      },
      "source": [
        "Our cross-validation estimate for the test error is approximately 24.23. We can repeat this procedure for increasingly complex polynomial fits. To automate the process, we use the for() function to initiate a for loop which iteratively fits polynomial regressions for polynomials of order i = 1 to i = 5 and computes the associated cross-validation error."
      ]
    },
    {
      "cell_type": "code",
      "metadata": {
        "colab": {
          "base_uri": "https://localhost:8080/"
        },
        "id": "O-ICIWdS7QWe",
        "outputId": "035d6960-1f9f-4fe9-d30d-aa76d8dbbaab"
      },
      "source": [
        "for i in range(1,6):\n",
        "  poly = PolynomialFeatures(degree=i)\n",
        "  X = df1['horsepower'].values.reshape(-1,1)\n",
        "  y = df1['mpg'].values.reshape(-1,1)\n",
        "  X_current = poly.fit_transform(X)\n",
        "  #model.fit(X_current, y)\n",
        "  scores = cross_val_score(model, X_current, y, scoring='neg_mean_squared_error', cv =cv, n_jobs=1)\n",
        "\n",
        "  print(\"Degree-\"+str(i)+\" polynomial MSE: \" + str(np.mean(np.abs(scores))) + \", STD: \" + str(np.std(scores)))"
      ],
      "execution_count": 54,
      "outputs": [
        {
          "output_type": "stream",
          "text": [
            "Degree-1 polynomial MSE: 24.231513517929226, STD: 36.797315036405344\n",
            "Degree-2 polynomial MSE: 19.248213124489745, STD: 34.998446151782346\n",
            "Degree-3 polynomial MSE: 19.33498406411498, STD: 35.76513567797254\n",
            "Degree-4 polynomial MSE: 19.424430307079398, STD: 35.68335275228356\n",
            "Degree-5 polynomial MSE: 19.033198669299832, STD: 35.31730233206761\n"
          ],
          "name": "stdout"
        }
      ]
    },
    {
      "cell_type": "markdown",
      "metadata": {
        "id": "Ql9eG95DZ7NL"
      },
      "source": [
        "### k-fold cross-validation"
      ]
    },
    {
      "cell_type": "code",
      "metadata": {
        "colab": {
          "base_uri": "https://localhost:8080/"
        },
        "id": "7nJWHqA6aDSf",
        "outputId": "d7f7d63d-77f2-474a-f430-e4067f6ca8df"
      },
      "source": [
        "cv = KFold(n_splits=10, random_state=3, shuffle=False)\n",
        "\n",
        "for i in range(1,11):\n",
        "  poly = PolynomialFeatures(degree=i)\n",
        "  X_current = poly.fit_transform(X)\n",
        "  model = skl_lm.LinearRegression()\n",
        "  #model = lm.fit(X_current, y)\n",
        "  scores = cross_val_score(model, X_current, y, scoring=\"neg_mean_squared_error\", cv = cv, n_jobs=1)\n",
        "  print('Degree-'+str(i)+' polynomial MSE: '+ str(np.mean(np.abs(scores)))+ \", STD: \"+ str(np.std(scores)))"
      ],
      "execution_count": 57,
      "outputs": [
        {
          "output_type": "stream",
          "text": [
            "Degree-1 polynomial MSE: 27.439933652339864, STD: 14.510250711281133\n",
            "Degree-2 polynomial MSE: 21.235840055801557, STD: 11.797327528897448\n",
            "Degree-3 polynomial MSE: 21.336606183382052, STD: 11.844339714535948\n",
            "Degree-4 polynomial MSE: 21.35388696930686, STD: 11.986332290218542\n",
            "Degree-5 polynomial MSE: 20.905558736691994, STD: 12.18538879392164\n",
            "Degree-6 polynomial MSE: 20.780544653505583, STD: 12.135161876519238\n",
            "Degree-7 polynomial MSE: 20.95297059811304, STD: 12.059389652320029\n",
            "Degree-8 polynomial MSE: 21.077108146456926, STD: 12.04455181676249\n",
            "Degree-9 polynomial MSE: 21.035590598116677, STD: 11.948934876787705\n",
            "Degree-10 polynomial MSE: 20.97800158252155, STD: 11.798777347111276\n"
          ],
          "name": "stdout"
        },
        {
          "output_type": "stream",
          "text": [
            "/usr/local/lib/python3.7/dist-packages/sklearn/model_selection/_split.py:296: FutureWarning: Setting a random_state has no effect since shuffle is False. This will raise an error in 0.24. You should leave random_state to its default (None), or set shuffle=True.\n",
            "  FutureWarning\n"
          ],
          "name": "stderr"
        }
      ]
    },
    {
      "cell_type": "markdown",
      "metadata": {
        "id": "zinuUIqXcqPO"
      },
      "source": [
        "### An Application to Default Data"
      ]
    },
    {
      "cell_type": "code",
      "metadata": {
        "colab": {
          "base_uri": "https://localhost:8080/"
        },
        "id": "u5o1BFQJct3F",
        "outputId": "1f381c44-b66b-4bd1-d110-b0fdacbb93a1"
      },
      "source": [
        "df2 = pd.read_csv('https://raw.githubusercontent.com/dsnair/ISLR/master/data/csv/Default.csv', na_values='?').dropna()\n",
        "df2.info()"
      ],
      "execution_count": 95,
      "outputs": [
        {
          "output_type": "stream",
          "text": [
            "<class 'pandas.core.frame.DataFrame'>\n",
            "Int64Index: 10000 entries, 0 to 9999\n",
            "Data columns (total 4 columns):\n",
            " #   Column   Non-Null Count  Dtype  \n",
            "---  ------   --------------  -----  \n",
            " 0   default  10000 non-null  object \n",
            " 1   student  10000 non-null  object \n",
            " 2   balance  10000 non-null  float64\n",
            " 3   income   10000 non-null  float64\n",
            "dtypes: float64(2), object(2)\n",
            "memory usage: 390.6+ KB\n"
          ],
          "name": "stdout"
        }
      ]
    },
    {
      "cell_type": "code",
      "metadata": {
        "colab": {
          "base_uri": "https://localhost:8080/"
        },
        "id": "GYfyAYPTdWN8",
        "outputId": "25e4c343-8b1a-42e0-a3ca-dc0410fe0f35"
      },
      "source": [
        "import statsmodels.formula.api as smf\n",
        "import statsmodels.api as sm\n",
        "from sklearn.metrics import confusion_matrix, classification_report\n",
        "\n",
        "for i in range(1,11):\n",
        "  train_df2 = df2.sample(8000, random_state= i)\n",
        "  test_df2 = df2[~df2.isin(train_df2)].dropna(how='all')\n",
        "\n",
        "  # Fit a logistic regression to predict defualt using balance\n",
        " \n",
        "  model = smf.glm('default~student' , data=train_df2, family = sm.families.Binomial())\n",
        "  result = model.fit()\n",
        "  predictions_nomial = ['Yes' if x <0.5 else 'No' for x in result.predict(test_df2)]\n",
        "  print('------------------------------------')\n",
        "  print('Random Seed = '+ str(i)+'')\n",
        "  print('------------------------------------')\n",
        "  print(confusion_matrix(test_df2['default'],\n",
        "                         predictions_nomial)),\n",
        "  print(classification_report(test_df2['default'],\n",
        "                         predictions_nomial,\n",
        "                         digits=3))\n",
        "  print()"
      ],
      "execution_count": 86,
      "outputs": [
        {
          "output_type": "stream",
          "text": [
            "------------------------------------\n",
            "Random Seed = 1\n",
            "------------------------------------\n",
            "[[1927    0]\n",
            " [  73    0]]\n",
            "              precision    recall  f1-score   support\n",
            "\n",
            "          No      0.964     1.000     0.981      1927\n",
            "         Yes      0.000     0.000     0.000        73\n",
            "\n",
            "    accuracy                          0.964      2000\n",
            "   macro avg      0.482     0.500     0.491      2000\n",
            "weighted avg      0.928     0.964     0.946      2000\n",
            "\n",
            "\n"
          ],
          "name": "stdout"
        },
        {
          "output_type": "stream",
          "text": [
            "/usr/local/lib/python3.7/dist-packages/sklearn/metrics/_classification.py:1272: UndefinedMetricWarning: Precision and F-score are ill-defined and being set to 0.0 in labels with no predicted samples. Use `zero_division` parameter to control this behavior.\n",
            "  _warn_prf(average, modifier, msg_start, len(result))\n"
          ],
          "name": "stderr"
        },
        {
          "output_type": "stream",
          "text": [
            "------------------------------------\n",
            "Random Seed = 2\n",
            "------------------------------------\n",
            "[[1932    0]\n",
            " [  68    0]]\n",
            "              precision    recall  f1-score   support\n",
            "\n",
            "          No      0.966     1.000     0.983      1932\n",
            "         Yes      0.000     0.000     0.000        68\n",
            "\n",
            "    accuracy                          0.966      2000\n",
            "   macro avg      0.483     0.500     0.491      2000\n",
            "weighted avg      0.933     0.966     0.949      2000\n",
            "\n",
            "\n"
          ],
          "name": "stdout"
        },
        {
          "output_type": "stream",
          "text": [
            "/usr/local/lib/python3.7/dist-packages/sklearn/metrics/_classification.py:1272: UndefinedMetricWarning: Precision and F-score are ill-defined and being set to 0.0 in labels with no predicted samples. Use `zero_division` parameter to control this behavior.\n",
            "  _warn_prf(average, modifier, msg_start, len(result))\n",
            "/usr/local/lib/python3.7/dist-packages/sklearn/metrics/_classification.py:1272: UndefinedMetricWarning: Precision and F-score are ill-defined and being set to 0.0 in labels with no predicted samples. Use `zero_division` parameter to control this behavior.\n",
            "  _warn_prf(average, modifier, msg_start, len(result))\n"
          ],
          "name": "stderr"
        },
        {
          "output_type": "stream",
          "text": [
            "------------------------------------\n",
            "Random Seed = 3\n",
            "------------------------------------\n",
            "[[1932    0]\n",
            " [  68    0]]\n",
            "              precision    recall  f1-score   support\n",
            "\n",
            "          No      0.966     1.000     0.983      1932\n",
            "         Yes      0.000     0.000     0.000        68\n",
            "\n",
            "    accuracy                          0.966      2000\n",
            "   macro avg      0.483     0.500     0.491      2000\n",
            "weighted avg      0.933     0.966     0.949      2000\n",
            "\n",
            "\n",
            "------------------------------------\n",
            "Random Seed = 4\n",
            "------------------------------------\n",
            "[[1936    0]\n",
            " [  64    0]]\n",
            "              precision    recall  f1-score   support\n",
            "\n",
            "          No      0.968     1.000     0.984      1936\n",
            "         Yes      0.000     0.000     0.000        64\n",
            "\n",
            "    accuracy                          0.968      2000\n",
            "   macro avg      0.484     0.500     0.492      2000\n",
            "weighted avg      0.937     0.968     0.952      2000\n",
            "\n",
            "\n"
          ],
          "name": "stdout"
        },
        {
          "output_type": "stream",
          "text": [
            "/usr/local/lib/python3.7/dist-packages/sklearn/metrics/_classification.py:1272: UndefinedMetricWarning: Precision and F-score are ill-defined and being set to 0.0 in labels with no predicted samples. Use `zero_division` parameter to control this behavior.\n",
            "  _warn_prf(average, modifier, msg_start, len(result))\n"
          ],
          "name": "stderr"
        },
        {
          "output_type": "stream",
          "text": [
            "------------------------------------\n",
            "Random Seed = 5\n",
            "------------------------------------\n",
            "[[1925    0]\n",
            " [  75    0]]\n",
            "              precision    recall  f1-score   support\n",
            "\n",
            "          No      0.963     1.000     0.981      1925\n",
            "         Yes      0.000     0.000     0.000        75\n",
            "\n",
            "    accuracy                          0.963      2000\n",
            "   macro avg      0.481     0.500     0.490      2000\n",
            "weighted avg      0.926     0.963     0.944      2000\n",
            "\n",
            "\n",
            "------------------------------------\n",
            "Random Seed = 6\n",
            "------------------------------------\n"
          ],
          "name": "stdout"
        },
        {
          "output_type": "stream",
          "text": [
            "/usr/local/lib/python3.7/dist-packages/sklearn/metrics/_classification.py:1272: UndefinedMetricWarning: Precision and F-score are ill-defined and being set to 0.0 in labels with no predicted samples. Use `zero_division` parameter to control this behavior.\n",
            "  _warn_prf(average, modifier, msg_start, len(result))\n"
          ],
          "name": "stderr"
        },
        {
          "output_type": "stream",
          "text": [
            "[[1946    0]\n",
            " [  54    0]]\n",
            "              precision    recall  f1-score   support\n",
            "\n",
            "          No      0.973     1.000     0.986      1946\n",
            "         Yes      0.000     0.000     0.000        54\n",
            "\n",
            "    accuracy                          0.973      2000\n",
            "   macro avg      0.486     0.500     0.493      2000\n",
            "weighted avg      0.947     0.973     0.960      2000\n",
            "\n",
            "\n",
            "------------------------------------\n",
            "Random Seed = 7\n",
            "------------------------------------\n"
          ],
          "name": "stdout"
        },
        {
          "output_type": "stream",
          "text": [
            "/usr/local/lib/python3.7/dist-packages/sklearn/metrics/_classification.py:1272: UndefinedMetricWarning: Precision and F-score are ill-defined and being set to 0.0 in labels with no predicted samples. Use `zero_division` parameter to control this behavior.\n",
            "  _warn_prf(average, modifier, msg_start, len(result))\n"
          ],
          "name": "stderr"
        },
        {
          "output_type": "stream",
          "text": [
            "[[1924    0]\n",
            " [  76    0]]\n",
            "              precision    recall  f1-score   support\n",
            "\n",
            "          No      0.962     1.000     0.981      1924\n",
            "         Yes      0.000     0.000     0.000        76\n",
            "\n",
            "    accuracy                          0.962      2000\n",
            "   macro avg      0.481     0.500     0.490      2000\n",
            "weighted avg      0.925     0.962     0.943      2000\n",
            "\n",
            "\n",
            "------------------------------------\n",
            "Random Seed = 8\n",
            "------------------------------------\n"
          ],
          "name": "stdout"
        },
        {
          "output_type": "stream",
          "text": [
            "/usr/local/lib/python3.7/dist-packages/sklearn/metrics/_classification.py:1272: UndefinedMetricWarning: Precision and F-score are ill-defined and being set to 0.0 in labels with no predicted samples. Use `zero_division` parameter to control this behavior.\n",
            "  _warn_prf(average, modifier, msg_start, len(result))\n"
          ],
          "name": "stderr"
        },
        {
          "output_type": "stream",
          "text": [
            "[[1937    0]\n",
            " [  63    0]]\n",
            "              precision    recall  f1-score   support\n",
            "\n",
            "          No      0.969     1.000     0.984      1937\n",
            "         Yes      0.000     0.000     0.000        63\n",
            "\n",
            "    accuracy                          0.969      2000\n",
            "   macro avg      0.484     0.500     0.492      2000\n",
            "weighted avg      0.938     0.969     0.953      2000\n",
            "\n",
            "\n",
            "------------------------------------\n",
            "Random Seed = 9\n",
            "------------------------------------\n"
          ],
          "name": "stdout"
        },
        {
          "output_type": "stream",
          "text": [
            "/usr/local/lib/python3.7/dist-packages/sklearn/metrics/_classification.py:1272: UndefinedMetricWarning: Precision and F-score are ill-defined and being set to 0.0 in labels with no predicted samples. Use `zero_division` parameter to control this behavior.\n",
            "  _warn_prf(average, modifier, msg_start, len(result))\n"
          ],
          "name": "stderr"
        },
        {
          "output_type": "stream",
          "text": [
            "[[1923    0]\n",
            " [  77    0]]\n",
            "              precision    recall  f1-score   support\n",
            "\n",
            "          No      0.962     1.000     0.980      1923\n",
            "         Yes      0.000     0.000     0.000        77\n",
            "\n",
            "    accuracy                          0.962      2000\n",
            "   macro avg      0.481     0.500     0.490      2000\n",
            "weighted avg      0.924     0.962     0.943      2000\n",
            "\n",
            "\n",
            "------------------------------------\n",
            "Random Seed = 10\n",
            "------------------------------------\n"
          ],
          "name": "stdout"
        },
        {
          "output_type": "stream",
          "text": [
            "/usr/local/lib/python3.7/dist-packages/sklearn/metrics/_classification.py:1272: UndefinedMetricWarning: Precision and F-score are ill-defined and being set to 0.0 in labels with no predicted samples. Use `zero_division` parameter to control this behavior.\n",
            "  _warn_prf(average, modifier, msg_start, len(result))\n"
          ],
          "name": "stderr"
        },
        {
          "output_type": "stream",
          "text": [
            "[[1932    0]\n",
            " [  68    0]]\n",
            "              precision    recall  f1-score   support\n",
            "\n",
            "          No      0.966     1.000     0.983      1932\n",
            "         Yes      0.000     0.000     0.000        68\n",
            "\n",
            "    accuracy                          0.966      2000\n",
            "   macro avg      0.483     0.500     0.491      2000\n",
            "weighted avg      0.933     0.966     0.949      2000\n",
            "\n",
            "\n"
          ],
          "name": "stdout"
        },
        {
          "output_type": "stream",
          "text": [
            "/usr/local/lib/python3.7/dist-packages/sklearn/metrics/_classification.py:1272: UndefinedMetricWarning: Precision and F-score are ill-defined and being set to 0.0 in labels with no predicted samples. Use `zero_division` parameter to control this behavior.\n",
            "  _warn_prf(average, modifier, msg_start, len(result))\n"
          ],
          "name": "stderr"
        }
      ]
    },
    {
      "cell_type": "markdown",
      "metadata": {
        "id": "ygURL2ZTiFK0"
      },
      "source": [
        "Application 5-Fold estimation"
      ]
    },
    {
      "cell_type": "code",
      "metadata": {
        "colab": {
          "base_uri": "https://localhost:8080/"
        },
        "id": "0PUuq0CaiEIp",
        "outputId": "611dcfa7-6101-4e94-e375-291583d3491c"
      },
      "source": [
        "from sklearn.model_selection import cross_val_score, KFold\n",
        "#X = df2['balance'].values.reshape(-1,1)\n",
        "#y = df2['default'].values\n",
        "cv = KFold(n_splits= 5, random_state=3, shuffle=True)\n",
        "\n",
        "for train_idx, test_idx in cv.split(df2):\n",
        "    train = df2.loc[train_idx]\n",
        "    test = df2.loc[test_idx]\n",
        "    model = smf.glm('default~balance', data=train, family=sm.families.Binomial())\n",
        "    predictions_nominal = [ \"Yes\" if x < 0.5 else \"No\" for x in result.predict(test)]\n",
        "    print(\"----------------\")\n",
        "    print(\"Random Seed = \" + str(i) + \"\")\n",
        "    print(\"----------------\")\n",
        "    print(confusion_matrix(test[\"default\"], \n",
        "                       predictions_nominal))\n",
        "    print(classification_report(test[\"default\"], \n",
        "                            predictions_nominal, \n",
        "                            digits = 3))\n",
        "    print()"
      ],
      "execution_count": 109,
      "outputs": [
        {
          "output_type": "stream",
          "text": [
            "----------------\n",
            "Random Seed = 10\n",
            "----------------\n",
            "[[1941    0]\n",
            " [  59    0]]\n",
            "              precision    recall  f1-score   support\n",
            "\n",
            "          No      0.971     1.000     0.985      1941\n",
            "         Yes      0.000     0.000     0.000        59\n",
            "\n",
            "    accuracy                          0.971      2000\n",
            "   macro avg      0.485     0.500     0.493      2000\n",
            "weighted avg      0.942     0.971     0.956      2000\n",
            "\n",
            "\n",
            "----------------\n",
            "Random Seed = 10\n",
            "----------------\n",
            "[[1924    0]\n",
            " [  76    0]]\n",
            "              precision    recall  f1-score   support\n",
            "\n",
            "          No      0.962     1.000     0.981      1924\n",
            "         Yes      0.000     0.000     0.000        76\n",
            "\n",
            "    accuracy                          0.962      2000\n",
            "   macro avg      0.481     0.500     0.490      2000\n",
            "weighted avg      0.925     0.962     0.943      2000\n",
            "\n",
            "\n",
            "----------------\n",
            "Random Seed = 10\n",
            "----------------\n"
          ],
          "name": "stdout"
        },
        {
          "output_type": "stream",
          "text": [
            "/usr/local/lib/python3.7/dist-packages/sklearn/metrics/_classification.py:1272: UndefinedMetricWarning: Precision and F-score are ill-defined and being set to 0.0 in labels with no predicted samples. Use `zero_division` parameter to control this behavior.\n",
            "  _warn_prf(average, modifier, msg_start, len(result))\n",
            "/usr/local/lib/python3.7/dist-packages/sklearn/metrics/_classification.py:1272: UndefinedMetricWarning: Precision and F-score are ill-defined and being set to 0.0 in labels with no predicted samples. Use `zero_division` parameter to control this behavior.\n",
            "  _warn_prf(average, modifier, msg_start, len(result))\n",
            "/usr/local/lib/python3.7/dist-packages/sklearn/metrics/_classification.py:1272: UndefinedMetricWarning: Precision and F-score are ill-defined and being set to 0.0 in labels with no predicted samples. Use `zero_division` parameter to control this behavior.\n",
            "  _warn_prf(average, modifier, msg_start, len(result))\n"
          ],
          "name": "stderr"
        },
        {
          "output_type": "stream",
          "text": [
            "[[1937    0]\n",
            " [  63    0]]\n",
            "              precision    recall  f1-score   support\n",
            "\n",
            "          No      0.969     1.000     0.984      1937\n",
            "         Yes      0.000     0.000     0.000        63\n",
            "\n",
            "    accuracy                          0.969      2000\n",
            "   macro avg      0.484     0.500     0.492      2000\n",
            "weighted avg      0.938     0.969     0.953      2000\n",
            "\n",
            "\n",
            "----------------\n",
            "Random Seed = 10\n",
            "----------------\n",
            "[[1933    0]\n",
            " [  67    0]]\n",
            "              precision    recall  f1-score   support\n",
            "\n",
            "          No      0.967     1.000     0.983      1933\n",
            "         Yes      0.000     0.000     0.000        67\n",
            "\n",
            "    accuracy                          0.967      2000\n",
            "   macro avg      0.483     0.500     0.491      2000\n",
            "weighted avg      0.934     0.967     0.950      2000\n",
            "\n",
            "\n",
            "----------------\n",
            "Random Seed = 10\n",
            "----------------\n",
            "[[1932    0]\n",
            " [  68    0]]\n",
            "              precision    recall  f1-score   support\n",
            "\n",
            "          No      0.966     1.000     0.983      1932\n",
            "         Yes      0.000     0.000     0.000        68\n",
            "\n",
            "    accuracy                          0.966      2000\n",
            "   macro avg      0.483     0.500     0.491      2000\n",
            "weighted avg      0.933     0.966     0.949      2000\n",
            "\n",
            "\n"
          ],
          "name": "stdout"
        },
        {
          "output_type": "stream",
          "text": [
            "/usr/local/lib/python3.7/dist-packages/sklearn/metrics/_classification.py:1272: UndefinedMetricWarning: Precision and F-score are ill-defined and being set to 0.0 in labels with no predicted samples. Use `zero_division` parameter to control this behavior.\n",
            "  _warn_prf(average, modifier, msg_start, len(result))\n",
            "/usr/local/lib/python3.7/dist-packages/sklearn/metrics/_classification.py:1272: UndefinedMetricWarning: Precision and F-score are ill-defined and being set to 0.0 in labels with no predicted samples. Use `zero_division` parameter to control this behavior.\n",
            "  _warn_prf(average, modifier, msg_start, len(result))\n"
          ],
          "name": "stderr"
        }
      ]
    },
    {
      "cell_type": "markdown",
      "metadata": {
        "id": "7U41XZMS0jqq"
      },
      "source": [
        "### Bootstrap"
      ]
    },
    {
      "cell_type": "code",
      "metadata": {
        "colab": {
          "base_uri": "https://localhost:8080/"
        },
        "id": "hF_vseQU1L8F",
        "outputId": "d76a1b9b-3d7a-4881-e26d-3ee4c664552f"
      },
      "source": [
        "data = pd.read_csv('https://raw.githubusercontent.com/dsnair/ISLR/master/data/csv/Portfolio.csv')\n",
        "data.info"
      ],
      "execution_count": 115,
      "outputs": [
        {
          "output_type": "execute_result",
          "data": {
            "text/plain": [
              "<bound method DataFrame.info of            X         Y\n",
              "0  -0.895251 -0.234924\n",
              "1  -1.562454 -0.885176\n",
              "2  -0.417090  0.271888\n",
              "3   1.044356 -0.734198\n",
              "4  -0.315568  0.841983\n",
              "..       ...       ...\n",
              "95  0.479091  1.454774\n",
              "96 -0.535020 -0.399175\n",
              "97 -0.773129 -0.957175\n",
              "98  0.403634  1.396038\n",
              "99 -0.588496 -0.497285\n",
              "\n",
              "[100 rows x 2 columns]>"
            ]
          },
          "metadata": {},
          "execution_count": 115
        }
      ]
    },
    {
      "cell_type": "markdown",
      "metadata": {
        "id": "rNJHCKuF1c1P"
      },
      "source": [
        "To illustrate the use of the bootstrap on this data, we must first create a function, **alpha()**, which takes as input the data and outputs the estimate for *α*\n",
        "  (described in more detail on page 187)."
      ]
    },
    {
      "cell_type": "code",
      "metadata": {
        "id": "QMGz5cD7nxIM"
      },
      "source": [
        "def alpha(X,Y):\n",
        "  return ((np.var(Y)-np.cov(X,Y))/(np.var(X)+np.var(Y) - 2*np.cov(X,Y)))"
      ],
      "execution_count": 111,
      "outputs": []
    },
    {
      "cell_type": "code",
      "metadata": {
        "colab": {
          "base_uri": "https://localhost:8080/"
        },
        "id": "bAuLBcVt2kch",
        "outputId": "b5c65043-5ac0-46dd-b3f9-0670fd8dffd7"
      },
      "source": [
        "X = data.X[0:100]\n",
        "y = data.Y[0:100]\n",
        "print(alpha(X,y))"
      ],
      "execution_count": 112,
      "outputs": [
        {
          "output_type": "stream",
          "text": [
            "[[1.07270947 0.57665115]\n",
            " [0.57665115 0.06414064]]\n"
          ],
          "name": "stdout"
        }
      ]
    },
    {
      "cell_type": "code",
      "metadata": {
        "colab": {
          "base_uri": "https://localhost:8080/"
        },
        "id": "BrB8EbrP3Grp",
        "outputId": "006c653f-517e-4c4a-c1d0-198bfe0f608c"
      },
      "source": [
        "dfsample = data.sample(frac=1, replace=True)\n",
        "X = dfsample.X[0:100]\n",
        "y = dfsample.Y[0:100]\n",
        "print(alpha(X,y))"
      ],
      "execution_count": 120,
      "outputs": [
        {
          "output_type": "stream",
          "text": [
            "[[0.56372756 0.49864424]\n",
            " [0.49864424 0.58582664]]\n"
          ],
          "name": "stdout"
        }
      ]
    },
    {
      "cell_type": "code",
      "metadata": {
        "colab": {
          "base_uri": "https://localhost:8080/"
        },
        "id": "heBUKh2E4g3A",
        "outputId": "a3fbe605-8d58-48cc-b5f3-f600681f7578"
      },
      "source": [
        "def bstrap(df):\n",
        "    tresult = 0\n",
        "    for i in range(0,1000):\n",
        "        dfsample = df.sample(frac=1, replace=True)\n",
        "        X = dfsample.X[0:100]\n",
        "        y = dfsample.Y[0:100]\n",
        "        result = alpha(X,y)\n",
        "        tresult += result\n",
        "    fresult = tresult / 1000\n",
        "    print(fresult)\n",
        "bstrap(data)"
      ],
      "execution_count": 121,
      "outputs": [
        {
          "output_type": "stream",
          "text": [
            "[[ 1.0095905   0.57802585]\n",
            " [ 0.57802585 -0.12374097]]\n"
          ],
          "name": "stdout"
        }
      ]
    },
    {
      "cell_type": "markdown",
      "metadata": {
        "id": "ZTNiNGkm5yjG"
      },
      "source": [
        "###Estimating the Accuracy of a Linear Regression Model"
      ]
    },
    {
      "cell_type": "code",
      "metadata": {
        "colab": {
          "base_uri": "https://localhost:8080/"
        },
        "id": "UoaCiTnF5z-_",
        "outputId": "37da8af9-8d04-4b02-dbb5-8b09365f1bc4"
      },
      "source": [
        "from sklearn.utils import resample\n",
        "\n",
        "auto_df = pd.read_csv('https://raw.githubusercontent.com/selva86/datasets/master/Auto.csv')\n",
        "\n",
        "auto_df.info()"
      ],
      "execution_count": 126,
      "outputs": [
        {
          "output_type": "stream",
          "text": [
            "<class 'pandas.core.frame.DataFrame'>\n",
            "RangeIndex: 392 entries, 0 to 391\n",
            "Data columns (total 9 columns):\n",
            " #   Column        Non-Null Count  Dtype  \n",
            "---  ------        --------------  -----  \n",
            " 0   mpg           392 non-null    float64\n",
            " 1   cylinders     392 non-null    int64  \n",
            " 2   displacement  392 non-null    float64\n",
            " 3   horsepower    392 non-null    int64  \n",
            " 4   weight        392 non-null    int64  \n",
            " 5   acceleration  392 non-null    float64\n",
            " 6   year          392 non-null    int64  \n",
            " 7   origin        392 non-null    int64  \n",
            " 8   name          392 non-null    object \n",
            "dtypes: float64(3), int64(5), object(1)\n",
            "memory usage: 27.7+ KB\n"
          ],
          "name": "stdout"
        }
      ]
    },
    {
      "cell_type": "code",
      "metadata": {
        "colab": {
          "base_uri": "https://localhost:8080/"
        },
        "id": "ZwizKVwI6GwB",
        "outputId": "2fd68103-487c-4aeb-b0fd-15d0fee2ba4f"
      },
      "source": [
        "model = skl_lm.LinearRegression()\n",
        "X = auto_df['horsepower'].values.reshape(-1,1)\n",
        "y = auto_df['mpg']\n",
        "model.fit(X,y)\n",
        "print(model.coef_, model.intercept_)"
      ],
      "execution_count": 123,
      "outputs": [
        {
          "output_type": "stream",
          "text": [
            "[-0.15784473] 39.93586102117047\n"
          ],
          "name": "stdout"
        }
      ]
    },
    {
      "cell_type": "code",
      "metadata": {
        "colab": {
          "base_uri": "https://localhost:8080/"
        },
        "id": "reOvvDD-6jI3",
        "outputId": "b0990f67-8f25-4b6a-b9d1-f653543f3d36"
      },
      "source": [
        "from sklearn.metrics import mean_squared_error\n",
        "\n",
        "Xsamp, ysamp = resample(X, y, n_samples=1000)\n",
        "model.fit(Xsamp, ysamp)\n",
        "print('Intercept: ' + str(model.intercept_) + \" Coef: \" + str(model.coef_))"
      ],
      "execution_count": 125,
      "outputs": [
        {
          "output_type": "stream",
          "text": [
            "Intercept: 39.588405559254056 Coef: [-0.15602901]\n"
          ],
          "name": "stdout"
        }
      ]
    }
  ]
}