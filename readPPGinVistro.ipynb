{
  "nbformat": 4,
  "nbformat_minor": 0,
  "metadata": {
    "colab": {
      "name": "readPPGinVistro.ipynb",
      "provenance": [],
      "mount_file_id": "1dSsbae8Ler-5UdFgEq6I8fol2UOs5tVy",
      "authorship_tag": "ABX9TyPw/XyKmUB4bVrDoAotXp0s",
      "include_colab_link": true
    },
    "kernelspec": {
      "name": "python3",
      "display_name": "Python 3"
    },
    "language_info": {
      "name": "python"
    }
  },
  "cells": [
    {
      "cell_type": "markdown",
      "metadata": {
        "id": "view-in-github",
        "colab_type": "text"
      },
      "source": [
        "<a href=\"https://colab.research.google.com/github/LongNguyen1984/TimeSeriesWithPython/blob/main/readPPGinVistro.ipynb\" target=\"_parent\"><img src=\"https://colab.research.google.com/assets/colab-badge.svg\" alt=\"Open In Colab\"/></a>"
      ]
    },
    {
      "cell_type": "code",
      "metadata": {
        "id": "2Wwn3njbvFTp"
      },
      "source": [
        "import matplotlib.pyplot as plt\n",
        "import numpy as np\n",
        "from scipy.signal import find_peaks"
      ],
      "execution_count": 1,
      "outputs": []
    },
    {
      "cell_type": "markdown",
      "metadata": {
        "id": "MxgmuFQd7k-U"
      },
      "source": [
        "## Read folder contains CVS files"
      ]
    },
    {
      "cell_type": "code",
      "metadata": {
        "id": "aOeVhiqp6Qtd"
      },
      "source": [
        "import pandas as pd\n",
        "from pathlib import Path\n",
        "\n",
        "def read_folder(csv_folder):\n",
        "    ''' Input is a folder with csv files; return list of data frames.'''\n",
        "    csv_folder = Path(csv_folder).absolute()\n",
        "    csv_files = [f for f in csv_folder.iterdir() if f.name.endswith('csv')]\n",
        "    # the assign() method adds a helper column rating\n",
        "    dfs = [\n",
        "        pd.read_csv(csv_file).assign(rating_src = f'rating-{idx}')\n",
        "        for idx, csv_file in enumerate(csv_files, 1)\n",
        "    ]\n",
        "    return csv_files, dfs"
      ],
      "execution_count": 130,
      "outputs": []
    },
    {
      "cell_type": "code",
      "metadata": {
        "id": "LAUZkcnn6Y0Y"
      },
      "source": [
        "csv_folder = 'drive/MyDrive/Dataset/PPGinVitro'\n",
        "csv_files, dfs = read_folder(csv_folder)"
      ],
      "execution_count": 131,
      "outputs": []
    },
    {
      "cell_type": "markdown",
      "metadata": {
        "id": "V-Yt_NLV7qzE"
      },
      "source": [
        "### Check the files "
      ]
    },
    {
      "cell_type": "code",
      "metadata": {
        "colab": {
          "base_uri": "https://localhost:8080/"
        },
        "id": "Cqk6f4JQJZmK",
        "outputId": "642ca70a-4d94-4e55-d506-74cb8135c380"
      },
      "source": [
        "csv_files"
      ],
      "execution_count": 132,
      "outputs": [
        {
          "output_type": "execute_result",
          "data": {
            "text/plain": [
              "[PosixPath('/content/drive/MyDrive/Dataset/PPGinVitro/water1.csv'),\n",
              " PosixPath('/content/drive/MyDrive/Dataset/PPGinVitro/water10g.csv'),\n",
              " PosixPath('/content/drive/MyDrive/Dataset/PPGinVitro/water20g.csv'),\n",
              " PosixPath('/content/drive/MyDrive/Dataset/PPGinVitro/water2.csv'),\n",
              " PosixPath('/content/drive/MyDrive/Dataset/PPGinVitro/water5g.csv'),\n",
              " PosixPath('/content/drive/MyDrive/Dataset/PPGinVitro/water15g.csv'),\n",
              " PosixPath('/content/drive/MyDrive/Dataset/PPGinVitro/water25g.csv'),\n",
              " PosixPath('/content/drive/MyDrive/Dataset/PPGinVitro/water35g.csv'),\n",
              " PosixPath('/content/drive/MyDrive/Dataset/PPGinVitro/water45g.csv'),\n",
              " PosixPath('/content/drive/MyDrive/Dataset/PPGinVitro/water30g.csv'),\n",
              " PosixPath('/content/drive/MyDrive/Dataset/PPGinVitro/water50g.csv'),\n",
              " PosixPath('/content/drive/MyDrive/Dataset/PPGinVitro/water40g.csv'),\n",
              " PosixPath('/content/drive/MyDrive/Dataset/PPGinVitro/water0.csv')]"
            ]
          },
          "metadata": {
            "tags": []
          },
          "execution_count": 132
        }
      ]
    },
    {
      "cell_type": "code",
      "metadata": {
        "colab": {
          "base_uri": "https://localhost:8080/",
          "height": 419
        },
        "id": "ZjJMWvAw6jhg",
        "outputId": "02428574-405f-4e47-c992-5b873d9a4878"
      },
      "source": [
        "dfs[2]\n"
      ],
      "execution_count": 135,
      "outputs": [
        {
          "output_type": "execute_result",
          "data": {
            "text/html": [
              "<div>\n",
              "<style scoped>\n",
              "    .dataframe tbody tr th:only-of-type {\n",
              "        vertical-align: middle;\n",
              "    }\n",
              "\n",
              "    .dataframe tbody tr th {\n",
              "        vertical-align: top;\n",
              "    }\n",
              "\n",
              "    .dataframe thead th {\n",
              "        text-align: right;\n",
              "    }\n",
              "</style>\n",
              "<table border=\"1\" class=\"dataframe\">\n",
              "  <thead>\n",
              "    <tr style=\"text-align: right;\">\n",
              "      <th></th>\n",
              "      <th>525nmC1</th>\n",
              "      <th>525nmC2</th>\n",
              "      <th>630nmC1</th>\n",
              "      <th>630nmC2</th>\n",
              "      <th>850nmC1</th>\n",
              "      <th>850nmC2</th>\n",
              "      <th>940nmC1</th>\n",
              "      <th>940nmC2</th>\n",
              "      <th>rating_src</th>\n",
              "    </tr>\n",
              "  </thead>\n",
              "  <tbody>\n",
              "    <tr>\n",
              "      <th>0</th>\n",
              "      <td>57120</td>\n",
              "      <td>74955</td>\n",
              "      <td>38241</td>\n",
              "      <td>118400</td>\n",
              "      <td>95476</td>\n",
              "      <td>243396</td>\n",
              "      <td>104392</td>\n",
              "      <td>226567</td>\n",
              "      <td>rating-3</td>\n",
              "    </tr>\n",
              "    <tr>\n",
              "      <th>1</th>\n",
              "      <td>56911</td>\n",
              "      <td>74741</td>\n",
              "      <td>37319</td>\n",
              "      <td>118434</td>\n",
              "      <td>95250</td>\n",
              "      <td>243029</td>\n",
              "      <td>104251</td>\n",
              "      <td>226444</td>\n",
              "      <td>rating-3</td>\n",
              "    </tr>\n",
              "    <tr>\n",
              "      <th>2</th>\n",
              "      <td>57051</td>\n",
              "      <td>74976</td>\n",
              "      <td>38189</td>\n",
              "      <td>118605</td>\n",
              "      <td>95315</td>\n",
              "      <td>243178</td>\n",
              "      <td>104447</td>\n",
              "      <td>226546</td>\n",
              "      <td>rating-3</td>\n",
              "    </tr>\n",
              "    <tr>\n",
              "      <th>3</th>\n",
              "      <td>57095</td>\n",
              "      <td>75027</td>\n",
              "      <td>38288</td>\n",
              "      <td>118400</td>\n",
              "      <td>95447</td>\n",
              "      <td>243247</td>\n",
              "      <td>104528</td>\n",
              "      <td>226453</td>\n",
              "      <td>rating-3</td>\n",
              "    </tr>\n",
              "    <tr>\n",
              "      <th>4</th>\n",
              "      <td>57150</td>\n",
              "      <td>74802</td>\n",
              "      <td>38266</td>\n",
              "      <td>118332</td>\n",
              "      <td>95434</td>\n",
              "      <td>243161</td>\n",
              "      <td>104366</td>\n",
              "      <td>226385</td>\n",
              "      <td>rating-3</td>\n",
              "    </tr>\n",
              "    <tr>\n",
              "      <th>...</th>\n",
              "      <td>...</td>\n",
              "      <td>...</td>\n",
              "      <td>...</td>\n",
              "      <td>...</td>\n",
              "      <td>...</td>\n",
              "      <td>...</td>\n",
              "      <td>...</td>\n",
              "      <td>...</td>\n",
              "      <td>...</td>\n",
              "    </tr>\n",
              "    <tr>\n",
              "      <th>6917</th>\n",
              "      <td>56480</td>\n",
              "      <td>74550</td>\n",
              "      <td>38982</td>\n",
              "      <td>118268</td>\n",
              "      <td>96974</td>\n",
              "      <td>242841</td>\n",
              "      <td>106456</td>\n",
              "      <td>227199</td>\n",
              "      <td>rating-3</td>\n",
              "    </tr>\n",
              "    <tr>\n",
              "      <th>6918</th>\n",
              "      <td>56549</td>\n",
              "      <td>74643</td>\n",
              "      <td>37780</td>\n",
              "      <td>118404</td>\n",
              "      <td>97196</td>\n",
              "      <td>242974</td>\n",
              "      <td>106644</td>\n",
              "      <td>227357</td>\n",
              "      <td>rating-3</td>\n",
              "    </tr>\n",
              "    <tr>\n",
              "      <th>6919</th>\n",
              "      <td>56497</td>\n",
              "      <td>74571</td>\n",
              "      <td>37720</td>\n",
              "      <td>118203</td>\n",
              "      <td>97213</td>\n",
              "      <td>242884</td>\n",
              "      <td>106516</td>\n",
              "      <td>227144</td>\n",
              "      <td>rating-3</td>\n",
              "    </tr>\n",
              "    <tr>\n",
              "      <th>6920</th>\n",
              "      <td>56511</td>\n",
              "      <td>74430</td>\n",
              "      <td>38961</td>\n",
              "      <td>118289</td>\n",
              "      <td>97209</td>\n",
              "      <td>242773</td>\n",
              "      <td>106589</td>\n",
              "      <td>227182</td>\n",
              "      <td>rating-3</td>\n",
              "    </tr>\n",
              "    <tr>\n",
              "      <th>6921</th>\n",
              "      <td>56591</td>\n",
              "      <td>74614</td>\n",
              "      <td>39107</td>\n",
              "      <td>118319</td>\n",
              "      <td>97349</td>\n",
              "      <td>242833</td>\n",
              "      <td>106635</td>\n",
              "      <td>227238</td>\n",
              "      <td>rating-3</td>\n",
              "    </tr>\n",
              "  </tbody>\n",
              "</table>\n",
              "<p>6922 rows × 9 columns</p>\n",
              "</div>"
            ],
            "text/plain": [
              "      525nmC1  525nmC2  630nmC1  630nmC2  ...  850nmC2  940nmC1  940nmC2  rating_src\n",
              "0       57120    74955    38241   118400  ...   243396   104392   226567    rating-3\n",
              "1       56911    74741    37319   118434  ...   243029   104251   226444    rating-3\n",
              "2       57051    74976    38189   118605  ...   243178   104447   226546    rating-3\n",
              "3       57095    75027    38288   118400  ...   243247   104528   226453    rating-3\n",
              "4       57150    74802    38266   118332  ...   243161   104366   226385    rating-3\n",
              "...       ...      ...      ...      ...  ...      ...      ...      ...         ...\n",
              "6917    56480    74550    38982   118268  ...   242841   106456   227199    rating-3\n",
              "6918    56549    74643    37780   118404  ...   242974   106644   227357    rating-3\n",
              "6919    56497    74571    37720   118203  ...   242884   106516   227144    rating-3\n",
              "6920    56511    74430    38961   118289  ...   242773   106589   227182    rating-3\n",
              "6921    56591    74614    39107   118319  ...   242833   106635   227238    rating-3\n",
              "\n",
              "[6922 rows x 9 columns]"
            ]
          },
          "metadata": {
            "tags": []
          },
          "execution_count": 135
        }
      ]
    },
    {
      "cell_type": "code",
      "metadata": {
        "id": "BsKqn1z0iGbJ"
      },
      "source": [
        "import pandas as pd\n",
        "\n",
        "dataset = pd.read_csv('drive/MyDrive/Dataset/PPGinVitro/water1.csv', header=0)"
      ],
      "execution_count": 87,
      "outputs": []
    },
    {
      "cell_type": "code",
      "metadata": {
        "colab": {
          "base_uri": "https://localhost:8080/",
          "height": 317
        },
        "id": "vUrv7QHp2d04",
        "outputId": "e8a6439c-e8d0-4502-8239-e18628afd035"
      },
      "source": [
        "dataset.describe()"
      ],
      "execution_count": 88,
      "outputs": [
        {
          "output_type": "execute_result",
          "data": {
            "text/html": [
              "<div>\n",
              "<style scoped>\n",
              "    .dataframe tbody tr th:only-of-type {\n",
              "        vertical-align: middle;\n",
              "    }\n",
              "\n",
              "    .dataframe tbody tr th {\n",
              "        vertical-align: top;\n",
              "    }\n",
              "\n",
              "    .dataframe thead th {\n",
              "        text-align: right;\n",
              "    }\n",
              "</style>\n",
              "<table border=\"1\" class=\"dataframe\">\n",
              "  <thead>\n",
              "    <tr style=\"text-align: right;\">\n",
              "      <th></th>\n",
              "      <th>525nmC1</th>\n",
              "      <th>525nmC2</th>\n",
              "      <th>630nmC1</th>\n",
              "      <th>630nmC2</th>\n",
              "      <th>850nmC1</th>\n",
              "      <th>850nmC2</th>\n",
              "      <th>940nmC1</th>\n",
              "      <th>940nmC2</th>\n",
              "    </tr>\n",
              "  </thead>\n",
              "  <tbody>\n",
              "    <tr>\n",
              "      <th>count</th>\n",
              "      <td>6968.000000</td>\n",
              "      <td>6968.000000</td>\n",
              "      <td>6968.000000</td>\n",
              "      <td>6968.000000</td>\n",
              "      <td>6968.000000</td>\n",
              "      <td>6968.000000</td>\n",
              "      <td>6968.000000</td>\n",
              "      <td>6968.000000</td>\n",
              "    </tr>\n",
              "    <tr>\n",
              "      <th>mean</th>\n",
              "      <td>73923.271670</td>\n",
              "      <td>72139.381028</td>\n",
              "      <td>75375.697474</td>\n",
              "      <td>126659.460821</td>\n",
              "      <td>180959.994259</td>\n",
              "      <td>249968.848881</td>\n",
              "      <td>184229.084099</td>\n",
              "      <td>378563.387342</td>\n",
              "    </tr>\n",
              "    <tr>\n",
              "      <th>std</th>\n",
              "      <td>126.719143</td>\n",
              "      <td>195.315227</td>\n",
              "      <td>155.703873</td>\n",
              "      <td>198.938670</td>\n",
              "      <td>318.499316</td>\n",
              "      <td>536.260976</td>\n",
              "      <td>176.974232</td>\n",
              "      <td>340.529592</td>\n",
              "    </tr>\n",
              "    <tr>\n",
              "      <th>min</th>\n",
              "      <td>73471.000000</td>\n",
              "      <td>71581.000000</td>\n",
              "      <td>74912.000000</td>\n",
              "      <td>126116.000000</td>\n",
              "      <td>180149.000000</td>\n",
              "      <td>248741.000000</td>\n",
              "      <td>183780.000000</td>\n",
              "      <td>377784.000000</td>\n",
              "    </tr>\n",
              "    <tr>\n",
              "      <th>25%</th>\n",
              "      <td>73837.000000</td>\n",
              "      <td>72003.000000</td>\n",
              "      <td>75270.000000</td>\n",
              "      <td>126526.000000</td>\n",
              "      <td>180720.000000</td>\n",
              "      <td>249573.000000</td>\n",
              "      <td>184108.000000</td>\n",
              "      <td>378338.000000</td>\n",
              "    </tr>\n",
              "    <tr>\n",
              "      <th>50%</th>\n",
              "      <td>73918.000000</td>\n",
              "      <td>72135.000000</td>\n",
              "      <td>75373.000000</td>\n",
              "      <td>126649.000000</td>\n",
              "      <td>180955.000000</td>\n",
              "      <td>249986.000000</td>\n",
              "      <td>184210.000000</td>\n",
              "      <td>378509.000000</td>\n",
              "    </tr>\n",
              "    <tr>\n",
              "      <th>75%</th>\n",
              "      <td>74004.000000</td>\n",
              "      <td>72271.000000</td>\n",
              "      <td>75479.000000</td>\n",
              "      <td>126774.000000</td>\n",
              "      <td>181190.000000</td>\n",
              "      <td>250383.000000</td>\n",
              "      <td>184321.000000</td>\n",
              "      <td>378719.000000</td>\n",
              "    </tr>\n",
              "    <tr>\n",
              "      <th>max</th>\n",
              "      <td>74567.000000</td>\n",
              "      <td>73001.000000</td>\n",
              "      <td>76106.000000</td>\n",
              "      <td>127793.000000</td>\n",
              "      <td>182381.000000</td>\n",
              "      <td>252081.000000</td>\n",
              "      <td>185102.000000</td>\n",
              "      <td>380395.000000</td>\n",
              "    </tr>\n",
              "  </tbody>\n",
              "</table>\n",
              "</div>"
            ],
            "text/plain": [
              "            525nmC1       525nmC2  ...        940nmC1        940nmC2\n",
              "count   6968.000000   6968.000000  ...    6968.000000    6968.000000\n",
              "mean   73923.271670  72139.381028  ...  184229.084099  378563.387342\n",
              "std      126.719143    195.315227  ...     176.974232     340.529592\n",
              "min    73471.000000  71581.000000  ...  183780.000000  377784.000000\n",
              "25%    73837.000000  72003.000000  ...  184108.000000  378338.000000\n",
              "50%    73918.000000  72135.000000  ...  184210.000000  378509.000000\n",
              "75%    74004.000000  72271.000000  ...  184321.000000  378719.000000\n",
              "max    74567.000000  73001.000000  ...  185102.000000  380395.000000\n",
              "\n",
              "[8 rows x 8 columns]"
            ]
          },
          "metadata": {
            "tags": []
          },
          "execution_count": 88
        }
      ]
    },
    {
      "cell_type": "code",
      "metadata": {
        "colab": {
          "base_uri": "https://localhost:8080/",
          "height": 282
        },
        "id": "KoCq4nm5wibV",
        "outputId": "c1ba9b6d-7369-4113-9a83-deccde2c2ad4"
      },
      "source": [
        "from matplotlib import gridspec\n",
        "\n",
        "import seaborn as sns\n",
        "import scipy.stats as st\n",
        "plt.plot(dataset.describe().loc['mean'])"
      ],
      "execution_count": 40,
      "outputs": [
        {
          "output_type": "execute_result",
          "data": {
            "text/plain": [
              "[<matplotlib.lines.Line2D at 0x7eff6a8b6a90>]"
            ]
          },
          "metadata": {
            "tags": []
          },
          "execution_count": 40
        },
        {
          "output_type": "display_data",
          "data": {
            "image/png": "[encoded data removed]",
            "text/plain": [
              "<Figure size 432x288 with 1 Axes>"
            ]
          },
          "metadata": {
            "tags": [],
            "needs_background": "light"
          }
        }
      ]
    },
    {
      "cell_type": "code",
      "metadata": {
        "id": "EN9rM5WF4Yx3"
      },
      "source": [
        "data = []"
      ],
      "execution_count": 63,
      "outputs": []
    },
    {
      "cell_type": "code",
      "metadata": {
        "colab": {
          "base_uri": "https://localhost:8080/"
        },
        "id": "5YXxAkXI2GUU",
        "outputId": "5f14f724-14f0-4aed-e1ed-e84eb7d28a74"
      },
      "source": [
        "dataset.describe().loc['mean']"
      ],
      "execution_count": 142,
      "outputs": [
        {
          "output_type": "execute_result",
          "data": {
            "text/plain": [
              "525nmC1     73923.271670\n",
              "525nmC2     72139.381028\n",
              "630nmC1     75375.697474\n",
              "630nmC2    126659.460821\n",
              "850nmC1    180959.994259\n",
              "850nmC2    249968.848881\n",
              "940nmC1    184229.084099\n",
              "940nmC2    378563.387342\n",
              "Name: mean, dtype: float64"
            ]
          },
          "metadata": {
            "tags": []
          },
          "execution_count": 142
        }
      ]
    },
    {
      "cell_type": "code",
      "metadata": {
        "id": "CXb2t7uC3XpU"
      },
      "source": [
        "data.append(dataset.describe().loc['mean'].to_list())"
      ],
      "execution_count": 65,
      "outputs": []
    },
    {
      "cell_type": "code",
      "metadata": {
        "colab": {
          "base_uri": "https://localhost:8080/"
        },
        "id": "FHUKC6no4_NK",
        "outputId": "8824c019-b2eb-4ab7-ef9b-44d92a5a5354"
      },
      "source": [
        "data[0]"
      ],
      "execution_count": 66,
      "outputs": [
        {
          "output_type": "execute_result",
          "data": {
            "text/plain": [
              "[50699.92848020434,\n",
              " 45808.22375478927,\n",
              " 41266.5006385696,\n",
              " 119200.14010217114,\n",
              " 107339.25683269477,\n",
              " 129384.60574712644,\n",
              " 90305.0877394636,\n",
              " 294142.31315453385]"
            ]
          },
          "metadata": {
            "tags": []
          },
          "execution_count": 66
        }
      ]
    },
    {
      "cell_type": "code",
      "metadata": {
        "colab": {
          "base_uri": "https://localhost:8080/",
          "height": 401
        },
        "id": "u-BJskQUw0P-",
        "outputId": "7897ce3e-6b96-4103-8cfd-8367885c4d42"
      },
      "source": [
        "plt.plot(dataset)"
      ],
      "execution_count": 47,
      "outputs": [
        {
          "output_type": "execute_result",
          "data": {
            "text/plain": [
              "[<matplotlib.lines.Line2D at 0x7eff6a732f50>,\n",
              " <matplotlib.lines.Line2D at 0x7eff6a748290>,\n",
              " <matplotlib.lines.Line2D at 0x7eff6a748450>,\n",
              " <matplotlib.lines.Line2D at 0x7eff6a748610>,\n",
              " <matplotlib.lines.Line2D at 0x7eff6a7487d0>,\n",
              " <matplotlib.lines.Line2D at 0x7eff6a748990>,\n",
              " <matplotlib.lines.Line2D at 0x7eff6a748bd0>,\n",
              " <matplotlib.lines.Line2D at 0x7eff6a748d90>]"
            ]
          },
          "metadata": {
            "tags": []
          },
          "execution_count": 47
        },
        {
          "output_type": "display_data",
          "data": {
            "image/png": "[encoded data removed]",
            "text/plain": [
              "<Figure size 432x288 with 1 Axes>"
            ]
          },
          "metadata": {
            "tags": [],
            "needs_background": "light"
          }
        }
      ]
    },
    {
      "cell_type": "code",
      "metadata": {
        "colab": {
          "base_uri": "https://localhost:8080/",
          "height": 401
        },
        "id": "gTFJRXT3xW9F",
        "outputId": "d0f9bd09-a07f-4162-a4e4-251ad5171f48"
      },
      "source": [
        "plt.plot(dataset.describe())"
      ],
      "execution_count": 17,
      "outputs": [
        {
          "output_type": "execute_result",
          "data": {
            "text/plain": [
              "[<matplotlib.lines.Line2D at 0x7eff6b593c50>,\n",
              " <matplotlib.lines.Line2D at 0x7eff6b4ac290>,\n",
              " <matplotlib.lines.Line2D at 0x7eff6b4ace10>,\n",
              " <matplotlib.lines.Line2D at 0x7eff6b4ac7d0>,\n",
              " <matplotlib.lines.Line2D at 0x7eff6b4ac190>,\n",
              " <matplotlib.lines.Line2D at 0x7eff6b481510>,\n",
              " <matplotlib.lines.Line2D at 0x7eff6b481b90>,\n",
              " <matplotlib.lines.Line2D at 0x7eff6b423250>]"
            ]
          },
          "metadata": {
            "tags": []
          },
          "execution_count": 17
        },
        {
          "output_type": "display_data",
          "data": {
            "image/png": "[encoded data removed]",
            "text/plain": [
              "<Figure size 432x288 with 1 Axes>"
            ]
          },
          "metadata": {
            "tags": [],
            "needs_background": "light"
          }
        }
      ]
    },
    {
      "cell_type": "markdown",
      "metadata": {
        "id": "DeF3t_Nd-iVu"
      },
      "source": [
        "## Using Glob to read multiple files"
      ]
    },
    {
      "cell_type": "code",
      "metadata": {
        "id": "3wout-kG-nkl"
      },
      "source": [
        "import glob\n",
        "## specific folder\n",
        "path = csv_folder + '/water*.csv'\n",
        "glob.iglob(path)\n",
        "## list the filename\n",
        "filenames = [file for file in glob.iglob(path)]"
      ],
      "execution_count": 186,
      "outputs": []
    },
    {
      "cell_type": "markdown",
      "metadata": {
        "id": "l5acvHX-Vdpw"
      },
      "source": [
        "## Sort string"
      ]
    },
    {
      "cell_type": "code",
      "metadata": {
        "id": "QblXSbz7A-2z"
      },
      "source": [
        "filenames.sort(reverse=False)"
      ],
      "execution_count": 191,
      "outputs": []
    },
    {
      "cell_type": "code",
      "metadata": {
        "colab": {
          "base_uri": "https://localhost:8080/"
        },
        "id": "VjGXyr3cUYbu",
        "outputId": "7a556669-8039-4649-8071-2a09e51699ec"
      },
      "source": [
        "filenames"
      ],
      "execution_count": 192,
      "outputs": [
        {
          "output_type": "execute_result",
          "data": {
            "text/plain": [
              "['drive/MyDrive/Dataset/PPGinVitro/water00g.csv',\n",
              " 'drive/MyDrive/Dataset/PPGinVitro/water01g.csv',\n",
              " 'drive/MyDrive/Dataset/PPGinVitro/water02g.csv',\n",
              " 'drive/MyDrive/Dataset/PPGinVitro/water05g.csv',\n",
              " 'drive/MyDrive/Dataset/PPGinVitro/water10g.csv',\n",
              " 'drive/MyDrive/Dataset/PPGinVitro/water15g.csv',\n",
              " 'drive/MyDrive/Dataset/PPGinVitro/water20g.csv',\n",
              " 'drive/MyDrive/Dataset/PPGinVitro/water25g.csv',\n",
              " 'drive/MyDrive/Dataset/PPGinVitro/water30g.csv',\n",
              " 'drive/MyDrive/Dataset/PPGinVitro/water35g.csv',\n",
              " 'drive/MyDrive/Dataset/PPGinVitro/water40g.csv',\n",
              " 'drive/MyDrive/Dataset/PPGinVitro/water45g.csv',\n",
              " 'drive/MyDrive/Dataset/PPGinVitro/water50g.csv']"
            ]
          },
          "metadata": {
            "tags": []
          },
          "execution_count": 192
        }
      ]
    },
    {
      "cell_type": "markdown",
      "metadata": {
        "id": "js758q7nFBj6"
      },
      "source": [
        "###Turning to dataframes"
      ]
    },
    {
      "cell_type": "code",
      "metadata": {
        "id": "kVymsBXxFFuP"
      },
      "source": [
        "dfs = [pd.read_csv(filename) for filename in filenames]"
      ],
      "execution_count": 193,
      "outputs": []
    },
    {
      "cell_type": "code",
      "metadata": {
        "colab": {
          "base_uri": "https://localhost:8080/",
          "height": 317
        },
        "id": "Mv6s9QjWDsf8",
        "outputId": "93db41ab-da04-4f36-a631-3afc39a1793b"
      },
      "source": [
        "dfs[12].describe()"
      ],
      "execution_count": 194,
      "outputs": [
        {
          "output_type": "execute_result",
          "data": {
            "text/html": [
              "<div>\n",
              "<style scoped>\n",
              "    .dataframe tbody tr th:only-of-type {\n",
              "        vertical-align: middle;\n",
              "    }\n",
              "\n",
              "    .dataframe tbody tr th {\n",
              "        vertical-align: top;\n",
              "    }\n",
              "\n",
              "    .dataframe thead th {\n",
              "        text-align: right;\n",
              "    }\n",
              "</style>\n",
              "<table border=\"1\" class=\"dataframe\">\n",
              "  <thead>\n",
              "    <tr style=\"text-align: right;\">\n",
              "      <th></th>\n",
              "      <th>525nmC1</th>\n",
              "      <th>525nmC2</th>\n",
              "      <th>630nmC1</th>\n",
              "      <th>630nmC2</th>\n",
              "      <th>850nmC1</th>\n",
              "      <th>850nmC2</th>\n",
              "      <th>940nmC1</th>\n",
              "      <th>940nmC2</th>\n",
              "    </tr>\n",
              "  </thead>\n",
              "  <tbody>\n",
              "    <tr>\n",
              "      <th>count</th>\n",
              "      <td>11585.000000</td>\n",
              "      <td>11585.000000</td>\n",
              "      <td>11585.000000</td>\n",
              "      <td>11585.000000</td>\n",
              "      <td>11585.000000</td>\n",
              "      <td>11585.000000</td>\n",
              "      <td>11585.000000</td>\n",
              "      <td>11585.000000</td>\n",
              "    </tr>\n",
              "    <tr>\n",
              "      <th>mean</th>\n",
              "      <td>72623.163660</td>\n",
              "      <td>54319.800518</td>\n",
              "      <td>44702.155978</td>\n",
              "      <td>118091.036167</td>\n",
              "      <td>93020.644972</td>\n",
              "      <td>102092.358740</td>\n",
              "      <td>118206.019422</td>\n",
              "      <td>256838.642814</td>\n",
              "    </tr>\n",
              "    <tr>\n",
              "      <th>std</th>\n",
              "      <td>4682.862563</td>\n",
              "      <td>162.099250</td>\n",
              "      <td>4179.671485</td>\n",
              "      <td>207.229001</td>\n",
              "      <td>6318.061378</td>\n",
              "      <td>198.616263</td>\n",
              "      <td>7720.658438</td>\n",
              "      <td>400.968803</td>\n",
              "    </tr>\n",
              "    <tr>\n",
              "      <th>min</th>\n",
              "      <td>50226.000000</td>\n",
              "      <td>53823.000000</td>\n",
              "      <td>25315.000000</td>\n",
              "      <td>117436.000000</td>\n",
              "      <td>66343.000000</td>\n",
              "      <td>101482.000000</td>\n",
              "      <td>87372.000000</td>\n",
              "      <td>255676.000000</td>\n",
              "    </tr>\n",
              "    <tr>\n",
              "      <th>25%</th>\n",
              "      <td>69516.000000</td>\n",
              "      <td>54202.000000</td>\n",
              "      <td>41849.000000</td>\n",
              "      <td>117948.000000</td>\n",
              "      <td>89897.000000</td>\n",
              "      <td>101956.000000</td>\n",
              "      <td>114377.000000</td>\n",
              "      <td>256546.000000</td>\n",
              "    </tr>\n",
              "    <tr>\n",
              "      <th>50%</th>\n",
              "      <td>71465.000000</td>\n",
              "      <td>54321.000000</td>\n",
              "      <td>44762.000000</td>\n",
              "      <td>118101.000000</td>\n",
              "      <td>93864.000000</td>\n",
              "      <td>102088.000000</td>\n",
              "      <td>119261.000000</td>\n",
              "      <td>256849.000000</td>\n",
              "    </tr>\n",
              "    <tr>\n",
              "      <th>75%</th>\n",
              "      <td>77501.000000</td>\n",
              "      <td>54437.000000</td>\n",
              "      <td>47134.000000</td>\n",
              "      <td>118226.000000</td>\n",
              "      <td>97085.000000</td>\n",
              "      <td>102229.000000</td>\n",
              "      <td>122772.000000</td>\n",
              "      <td>257071.000000</td>\n",
              "    </tr>\n",
              "    <tr>\n",
              "      <th>max</th>\n",
              "      <td>80910.000000</td>\n",
              "      <td>54838.000000</td>\n",
              "      <td>54437.000000</td>\n",
              "      <td>118963.000000</td>\n",
              "      <td>104938.000000</td>\n",
              "      <td>102929.000000</td>\n",
              "      <td>132959.000000</td>\n",
              "      <td>258730.000000</td>\n",
              "    </tr>\n",
              "  </tbody>\n",
              "</table>\n",
              "</div>"
            ],
            "text/plain": [
              "            525nmC1       525nmC2  ...        940nmC1        940nmC2\n",
              "count  11585.000000  11585.000000  ...   11585.000000   11585.000000\n",
              "mean   72623.163660  54319.800518  ...  118206.019422  256838.642814\n",
              "std     4682.862563    162.099250  ...    7720.658438     400.968803\n",
              "min    50226.000000  53823.000000  ...   87372.000000  255676.000000\n",
              "25%    69516.000000  54202.000000  ...  114377.000000  256546.000000\n",
              "50%    71465.000000  54321.000000  ...  119261.000000  256849.000000\n",
              "75%    77501.000000  54437.000000  ...  122772.000000  257071.000000\n",
              "max    80910.000000  54838.000000  ...  132959.000000  258730.000000\n",
              "\n",
              "[8 rows x 8 columns]"
            ]
          },
          "metadata": {
            "tags": []
          },
          "execution_count": 194
        }
      ]
    },
    {
      "cell_type": "code",
      "metadata": {
        "id": "pnIwa4QZNC_D"
      },
      "source": [
        "data.append(dfs[0].describe().loc['mean'].to_list())"
      ],
      "execution_count": 138,
      "outputs": []
    },
    {
      "cell_type": "code",
      "metadata": {
        "colab": {
          "base_uri": "https://localhost:8080/"
        },
        "id": "R8Jy6NsBNU3z",
        "outputId": "b098b17d-456d-43c2-f6b6-b608dfcf04ae"
      },
      "source": [
        "\n",
        "dataMean = [df.describe().loc['mean'].to_list() for df in dfs]\n",
        "\n",
        "dataMean"
      ],
      "execution_count": 357,
      "outputs": [
        {
          "output_type": "execute_result",
          "data": {
            "text/plain": [
              "[[419197.1797279403,\n",
              "  109308.71259179006,\n",
              "  114456.08649331889,\n",
              "  130060.03683640303,\n",
              "  203354.44895870952,\n",
              "  453812.3785963645,\n",
              "  420045.13747441914,\n",
              "  717214.2139159745],\n",
              " [73923.27167049369,\n",
              "  72139.38102755454,\n",
              "  75375.69747416762,\n",
              "  126659.46082089552,\n",
              "  180959.99425947186,\n",
              "  249968.848880597,\n",
              "  184229.08409873708,\n",
              "  378563.3873421355],\n",
              " [50699.92848020434,\n",
              "  45808.22375478927,\n",
              "  41266.5006385696,\n",
              "  119200.14010217114,\n",
              "  107339.25683269477,\n",
              "  129384.60574712644,\n",
              "  90305.0877394636,\n",
              "  294142.31315453385],\n",
              " [43272.764868603044,\n",
              "  46353.50597258896,\n",
              "  49920.51515151515,\n",
              "  131595.33723123348,\n",
              "  90877.79328555262,\n",
              "  128930.01622029423,\n",
              "  114078.37646171256,\n",
              "  254936.53941908714],\n",
              " [39956.540678474936,\n",
              "  55913.81447012909,\n",
              "  47389.68072650856,\n",
              "  116438.16946862804,\n",
              "  96632.9120384269,\n",
              "  215708.69093365356,\n",
              "  147732.73251275893,\n",
              "  297135.9539177424],\n",
              " [42924.17436435736,\n",
              "  41750.567179846046,\n",
              "  34255.92348961978,\n",
              "  105780.6307441101,\n",
              "  80394.61884767903,\n",
              "  97525.90097970609,\n",
              "  70313.83438301843,\n",
              "  232270.6716818288],\n",
              " [55652.856399884426,\n",
              "  74809.01733603005,\n",
              "  37473.65963594337,\n",
              "  118438.24602715978,\n",
              "  94854.47341808726,\n",
              "  243216.84224212656,\n",
              "  104086.55374169315,\n",
              "  227177.09361456227],\n",
              " [76887.42150106502,\n",
              "  51450.34306477885,\n",
              "  57788.99799523869,\n",
              "  101246.63074802657,\n",
              "  123813.96178423756,\n",
              "  88432.47738378649,\n",
              "  129445.50219270767,\n",
              "  136726.5989224408],\n",
              " [17501.34629925229,\n",
              "  65137.588843148784,\n",
              "  22025.985465848946,\n",
              "  128028.49424514828,\n",
              "  92167.00159623624,\n",
              "  211597.32235570863,\n",
              "  111340.71032512812,\n",
              "  371079.2236410989],\n",
              " [21199.354085180355,\n",
              "  52210.388961321165,\n",
              "  17949.95871360278,\n",
              "  119272.7404389396,\n",
              "  75055.77194697957,\n",
              "  153619.2871577575,\n",
              "  63833.950673620166,\n",
              "  310599.73761408083],\n",
              " [50109.55664552294,\n",
              "  53956.420563504944,\n",
              "  43942.06166101195,\n",
              "  122853.58135418204,\n",
              "  79435.05406402124,\n",
              "  147246.5519988199,\n",
              "  110065.85300191768,\n",
              "  220745.0246349019],\n",
              " [60437.683149058146,\n",
              "  80628.7503071253,\n",
              "  39563.10124897625,\n",
              "  131813.59346846846,\n",
              "  105265.15868140868,\n",
              "  85960.14148239148,\n",
              "  116257.47665847666,\n",
              "  152345.2665847666],\n",
              " [72623.16365990505,\n",
              "  54319.80051791109,\n",
              "  44702.15597755719,\n",
              "  118091.03616745792,\n",
              "  93020.64497194649,\n",
              "  102092.35873974967,\n",
              "  118206.01942166594,\n",
              "  256838.6428139836]]"
            ]
          },
          "metadata": {
            "tags": []
          },
          "execution_count": 357
        }
      ]
    },
    {
      "cell_type": "code",
      "metadata": {
        "colab": {
          "base_uri": "https://localhost:8080/",
          "height": 401
        },
        "id": "IlfsBqGvRIcI",
        "outputId": "fd6fc406-6a2f-4138-c6cc-8d6e72d99086"
      },
      "source": [
        "plt.plot(dataMean)"
      ],
      "execution_count": 358,
      "outputs": [
        {
          "output_type": "execute_result",
          "data": {
            "text/plain": [
              "[<matplotlib.lines.Line2D at 0x7eff64bdbd90>,\n",
              " <matplotlib.lines.Line2D at 0x7eff64e34050>,\n",
              " <matplotlib.lines.Line2D at 0x7eff64e346d0>,\n",
              " <matplotlib.lines.Line2D at 0x7eff64e345d0>,\n",
              " <matplotlib.lines.Line2D at 0x7eff64e34b90>,\n",
              " <matplotlib.lines.Line2D at 0x7eff64c9ca50>,\n",
              " <matplotlib.lines.Line2D at 0x7eff64c9cfd0>,\n",
              " <matplotlib.lines.Line2D at 0x7eff64c9cad0>]"
            ]
          },
          "metadata": {
            "tags": []
          },
          "execution_count": 358
        },
        {
          "output_type": "display_data",
          "data": {
            "image/png": "[encoded data removed]",
            "text/plain": [
              "<Figure size 432x288 with 1 Axes>"
            ]
          },
          "metadata": {
            "tags": [],
            "needs_background": "light"
          }
        }
      ]
    },
    {
      "cell_type": "code",
      "metadata": {
        "id": "1-ovRquBNkBE"
      },
      "source": [
        "x = list(dataset.describe())\n",
        "y = dataset.describe().loc['mean']"
      ],
      "execution_count": 155,
      "outputs": []
    },
    {
      "cell_type": "code",
      "metadata": {
        "colab": {
          "base_uri": "https://localhost:8080/",
          "height": 282
        },
        "id": "Rh5uXw38N4-4",
        "outputId": "9d42bb19-4722-4902-dfac-dc4a257edac6"
      },
      "source": [
        "sns.scatterplot(data=dataMean[10])"
      ],
      "execution_count": 200,
      "outputs": [
        {
          "output_type": "execute_result",
          "data": {
            "text/plain": [
              "<matplotlib.axes._subplots.AxesSubplot at 0x7eff686abcd0>"
            ]
          },
          "metadata": {
            "tags": []
          },
          "execution_count": 200
        },
        {
          "output_type": "display_data",
          "data": {
            "image/png": "[encoded data removed]",
            "text/plain": [
              "<Figure size 432x288 with 1 Axes>"
            ]
          },
          "metadata": {
            "tags": [],
            "needs_background": "light"
          }
        }
      ]
    },
    {
      "cell_type": "code",
      "metadata": {
        "id": "BA9crBUmXJyE"
      },
      "source": [
        "results = pd.DataFrame(dataMean, columns = x)"
      ],
      "execution_count": 359,
      "outputs": []
    },
    {
      "cell_type": "code",
      "metadata": {
        "colab": {
          "base_uri": "https://localhost:8080/",
          "height": 472
        },
        "id": "RTgSyoScXwBC",
        "outputId": "eabbaaa3-f2fe-437d-9dbb-c50f9a74531b"
      },
      "source": [
        "results"
      ],
      "execution_count": 378,
      "outputs": [
        {
          "output_type": "execute_result",
          "data": {
            "text/html": [
              "<div>\n",
              "<style scoped>\n",
              "    .dataframe tbody tr th:only-of-type {\n",
              "        vertical-align: middle;\n",
              "    }\n",
              "\n",
              "    .dataframe tbody tr th {\n",
              "        vertical-align: top;\n",
              "    }\n",
              "\n",
              "    .dataframe thead th {\n",
              "        text-align: right;\n",
              "    }\n",
              "</style>\n",
              "<table border=\"1\" class=\"dataframe\">\n",
              "  <thead>\n",
              "    <tr style=\"text-align: right;\">\n",
              "      <th></th>\n",
              "      <th>525nmC1</th>\n",
              "      <th>525nmC2</th>\n",
              "      <th>630nmC1</th>\n",
              "      <th>630nmC2</th>\n",
              "      <th>850nmC1</th>\n",
              "      <th>850nmC2</th>\n",
              "      <th>940nmC1</th>\n",
              "      <th>940nmC2</th>\n",
              "    </tr>\n",
              "  </thead>\n",
              "  <tbody>\n",
              "    <tr>\n",
              "      <th>0</th>\n",
              "      <td>419197.179728</td>\n",
              "      <td>109308.712592</td>\n",
              "      <td>114456.086493</td>\n",
              "      <td>130060.036836</td>\n",
              "      <td>203354.448959</td>\n",
              "      <td>453812.378596</td>\n",
              "      <td>420045.137474</td>\n",
              "      <td>717214.213916</td>\n",
              "    </tr>\n",
              "    <tr>\n",
              "      <th>1</th>\n",
              "      <td>73923.271670</td>\n",
              "      <td>72139.381028</td>\n",
              "      <td>75375.697474</td>\n",
              "      <td>126659.460821</td>\n",
              "      <td>180959.994259</td>\n",
              "      <td>249968.848881</td>\n",
              "      <td>184229.084099</td>\n",
              "      <td>378563.387342</td>\n",
              "    </tr>\n",
              "    <tr>\n",
              "      <th>2</th>\n",
              "      <td>50699.928480</td>\n",
              "      <td>45808.223755</td>\n",
              "      <td>41266.500639</td>\n",
              "      <td>119200.140102</td>\n",
              "      <td>107339.256833</td>\n",
              "      <td>129384.605747</td>\n",
              "      <td>90305.087739</td>\n",
              "      <td>294142.313155</td>\n",
              "    </tr>\n",
              "    <tr>\n",
              "      <th>3</th>\n",
              "      <td>43272.764869</td>\n",
              "      <td>46353.505973</td>\n",
              "      <td>49920.515152</td>\n",
              "      <td>131595.337231</td>\n",
              "      <td>90877.793286</td>\n",
              "      <td>128930.016220</td>\n",
              "      <td>114078.376462</td>\n",
              "      <td>254936.539419</td>\n",
              "    </tr>\n",
              "    <tr>\n",
              "      <th>4</th>\n",
              "      <td>39956.540678</td>\n",
              "      <td>55913.814470</td>\n",
              "      <td>47389.680727</td>\n",
              "      <td>116438.169469</td>\n",
              "      <td>96632.912038</td>\n",
              "      <td>215708.690934</td>\n",
              "      <td>147732.732513</td>\n",
              "      <td>297135.953918</td>\n",
              "    </tr>\n",
              "    <tr>\n",
              "      <th>5</th>\n",
              "      <td>42924.174364</td>\n",
              "      <td>41750.567180</td>\n",
              "      <td>34255.923490</td>\n",
              "      <td>105780.630744</td>\n",
              "      <td>80394.618848</td>\n",
              "      <td>97525.900980</td>\n",
              "      <td>70313.834383</td>\n",
              "      <td>232270.671682</td>\n",
              "    </tr>\n",
              "    <tr>\n",
              "      <th>6</th>\n",
              "      <td>55652.856400</td>\n",
              "      <td>74809.017336</td>\n",
              "      <td>37473.659636</td>\n",
              "      <td>118438.246027</td>\n",
              "      <td>94854.473418</td>\n",
              "      <td>243216.842242</td>\n",
              "      <td>104086.553742</td>\n",
              "      <td>227177.093615</td>\n",
              "    </tr>\n",
              "    <tr>\n",
              "      <th>7</th>\n",
              "      <td>76887.421501</td>\n",
              "      <td>51450.343065</td>\n",
              "      <td>57788.997995</td>\n",
              "      <td>101246.630748</td>\n",
              "      <td>123813.961784</td>\n",
              "      <td>88432.477384</td>\n",
              "      <td>129445.502193</td>\n",
              "      <td>136726.598922</td>\n",
              "    </tr>\n",
              "    <tr>\n",
              "      <th>8</th>\n",
              "      <td>17501.346299</td>\n",
              "      <td>65137.588843</td>\n",
              "      <td>22025.985466</td>\n",
              "      <td>128028.494245</td>\n",
              "      <td>92167.001596</td>\n",
              "      <td>211597.322356</td>\n",
              "      <td>111340.710325</td>\n",
              "      <td>371079.223641</td>\n",
              "    </tr>\n",
              "    <tr>\n",
              "      <th>9</th>\n",
              "      <td>21199.354085</td>\n",
              "      <td>52210.388961</td>\n",
              "      <td>17949.958714</td>\n",
              "      <td>119272.740439</td>\n",
              "      <td>75055.771947</td>\n",
              "      <td>153619.287158</td>\n",
              "      <td>63833.950674</td>\n",
              "      <td>310599.737614</td>\n",
              "    </tr>\n",
              "    <tr>\n",
              "      <th>10</th>\n",
              "      <td>50109.556646</td>\n",
              "      <td>53956.420564</td>\n",
              "      <td>43942.061661</td>\n",
              "      <td>122853.581354</td>\n",
              "      <td>79435.054064</td>\n",
              "      <td>147246.551999</td>\n",
              "      <td>110065.853002</td>\n",
              "      <td>220745.024635</td>\n",
              "    </tr>\n",
              "    <tr>\n",
              "      <th>11</th>\n",
              "      <td>60437.683149</td>\n",
              "      <td>80628.750307</td>\n",
              "      <td>39563.101249</td>\n",
              "      <td>131813.593468</td>\n",
              "      <td>105265.158681</td>\n",
              "      <td>85960.141482</td>\n",
              "      <td>116257.476658</td>\n",
              "      <td>152345.266585</td>\n",
              "    </tr>\n",
              "    <tr>\n",
              "      <th>12</th>\n",
              "      <td>72623.163660</td>\n",
              "      <td>54319.800518</td>\n",
              "      <td>44702.155978</td>\n",
              "      <td>118091.036167</td>\n",
              "      <td>93020.644972</td>\n",
              "      <td>102092.358740</td>\n",
              "      <td>118206.019422</td>\n",
              "      <td>256838.642814</td>\n",
              "    </tr>\n",
              "  </tbody>\n",
              "</table>\n",
              "</div>"
            ],
            "text/plain": [
              "          525nmC1        525nmC2  ...        940nmC1        940nmC2\n",
              "0   419197.179728  109308.712592  ...  420045.137474  717214.213916\n",
              "1    73923.271670   72139.381028  ...  184229.084099  378563.387342\n",
              "2    50699.928480   45808.223755  ...   90305.087739  294142.313155\n",
              "3    43272.764869   46353.505973  ...  114078.376462  254936.539419\n",
              "4    39956.540678   55913.814470  ...  147732.732513  297135.953918\n",
              "5    42924.174364   41750.567180  ...   70313.834383  232270.671682\n",
              "6    55652.856400   74809.017336  ...  104086.553742  227177.093615\n",
              "7    76887.421501   51450.343065  ...  129445.502193  136726.598922\n",
              "8    17501.346299   65137.588843  ...  111340.710325  371079.223641\n",
              "9    21199.354085   52210.388961  ...   63833.950674  310599.737614\n",
              "10   50109.556646   53956.420564  ...  110065.853002  220745.024635\n",
              "11   60437.683149   80628.750307  ...  116257.476658  152345.266585\n",
              "12   72623.163660   54319.800518  ...  118206.019422  256838.642814\n",
              "\n",
              "[13 rows x 8 columns]"
            ]
          },
          "metadata": {
            "tags": []
          },
          "execution_count": 378
        }
      ]
    },
    {
      "cell_type": "markdown",
      "metadata": {
        "id": "lfqs5V5BBTA5"
      },
      "source": [
        "### Take the name data "
      ]
    },
    {
      "cell_type": "code",
      "metadata": {
        "id": "MgsWSoLU_1ZR"
      },
      "source": [
        "name = [filename.strip('.csv').replace('water','').split('/')[-1] for filename in filenames]"
      ],
      "execution_count": 352,
      "outputs": []
    },
    {
      "cell_type": "code",
      "metadata": {
        "id": "7LOZt7-F_ggl"
      },
      "source": [
        "results.insert(0, \"Weight\", name)"
      ],
      "execution_count": 385,
      "outputs": []
    },
    {
      "cell_type": "markdown",
      "metadata": {
        "id": "O_mK5skCJjpZ"
      },
      "source": [
        "### Using matplotlib plt"
      ]
    },
    {
      "cell_type": "code",
      "metadata": {
        "colab": {
          "base_uri": "https://localhost:8080/",
          "height": 265
        },
        "id": "8sqD489qX3gM",
        "outputId": "677efdd3-f925-44bf-84e0-6ac6899aeb8a"
      },
      "source": [
        "plt.plot(results[['525nmC2', '525nmC1','630nmC1','630nmC2']])\n",
        "plt.legend(x)\n",
        "plt.show()"
      ],
      "execution_count": 355,
      "outputs": [
        {
          "output_type": "display_data",
          "data": {
            "image/png": "[encoded data removed]",
            "text/plain": [
              "<Figure size 432x288 with 1 Axes>"
            ]
          },
          "metadata": {
            "tags": [],
            "needs_background": "light"
          }
        }
      ]
    },
    {
      "cell_type": "markdown",
      "metadata": {
        "id": "cH7YbWUYJoQi"
      },
      "source": [
        "### Using seaborn sns"
      ]
    },
    {
      "cell_type": "code",
      "metadata": {
        "colab": {
          "base_uri": "https://localhost:8080/",
          "height": 374
        },
        "id": "3dEevNB677Fx",
        "outputId": "4178df57-e5f7-4f5c-d9ca-dba830d24484"
      },
      "source": [
        "fig, axs = plt.subplots(figsize=(10,6))\n",
        "sns.lineplot(data = results,  markers=True, dashes=False, linewidth=2, ms=10)\n",
        "## Must setup set_xticks if not will missing in the label\n",
        "axs.set_xticks(range(len(results)))\n",
        "labels = name[0:13]\n",
        "axs.set_xticklabels(labels=labels);\n"
      ],
      "execution_count": 425,
      "outputs": [
        {
          "output_type": "display_data",
          "data": {
            "image/png": "[encoded data removed]",
            "text/plain": [
              "<Figure size 720x432 with 1 Axes>"
            ]
          },
          "metadata": {
            "tags": [],
            "needs_background": "light"
          }
        }
      ]
    },
    {
      "cell_type": "code",
      "metadata": {
        "id": "tMinv6EBdGNA",
        "outputId": "17c7e664-95bc-443d-bb07-8fcf988e6226",
        "colab": {
          "base_uri": "https://localhost:8080/"
        }
      },
      "source": [
        "len(results)"
      ],
      "execution_count": 402,
      "outputs": [
        {
          "output_type": "execute_result",
          "data": {
            "text/plain": [
              "13"
            ]
          },
          "metadata": {
            "tags": []
          },
          "execution_count": 402
        }
      ]
    },
    {
      "cell_type": "markdown",
      "metadata": {
        "id": "KRWFRQLhJwLc"
      },
      "source": [
        "### Using multiplot from dataframe"
      ]
    },
    {
      "cell_type": "code",
      "metadata": {
        "colab": {
          "base_uri": "https://localhost:8080/",
          "height": 412
        },
        "id": "2LngeQj0G5qi",
        "outputId": "892e16d2-d974-441c-a032-d257f0a1f473"
      },
      "source": [
        "from matplotlib import markers\n",
        "# get all possible shapes\n",
        "all_shapes = list(markers.MarkerStyle.markers.keys()) #'-o'\n",
        "markers = ['-o', '-X', '-s', '-P','-D','-d', '-^', '-p', '-x',  '-*', '-<', '-D', '-h', '->']\n",
        "results.plot(kind='line',title= 'Light Intensity vs. Glucose Level', style=markers, cmap='Dark2_r',figsize=(10,6), rot=30, x ='Weight');\n",
        "\n",
        "#locs, _ = plt.xticks()\n",
        "#plt.xticks(ticks= locs, labels=name)"
      ],
      "execution_count": 398,
      "outputs": [
        {
          "output_type": "display_data",
          "data": {
            "image/png": "[encoded data removed]",
            "text/plain": [
              "<Figure size 720x432 with 1 Axes>"
            ]
          },
          "metadata": {
            "tags": [],
            "needs_background": "light"
          }
        }
      ]
    },
    {
      "cell_type": "code",
      "metadata": {
        "id": "cIeNnAWvQPy8"
      },
      "source": [
        ""
      ],
      "execution_count": null,
      "outputs": []
    }
  ]
}