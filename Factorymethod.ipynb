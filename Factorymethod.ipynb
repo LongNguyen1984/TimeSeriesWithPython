{
  "nbformat": 4,
  "nbformat_minor": 0,
  "metadata": {
    "colab": {
      "name": "Factorymethod.ipynb",
      "provenance": [],
      "authorship_tag": "ABX9TyMkVJwQQ+hHHe2bHrvbMlnQ",
      "include_colab_link": true
    },
    "kernelspec": {
      "name": "python3",
      "display_name": "Python 3"
    },
    "language_info": {
      "name": "python"
    }
  },
  "cells": [
    {
      "cell_type": "markdown",
      "metadata": {
        "id": "view-in-github",
        "colab_type": "text"
      },
      "source": [
        "<a href=\"https://colab.research.google.com/github/LongNguyen1984/TimeSeriesWithPython/blob/main/Factorymethod.ipynb\" target=\"_parent\"><img src=\"https://colab.research.google.com/assets/colab-badge.svg\" alt=\"Open In Colab\"/></a>"
      ]
    },
    {
      "cell_type": "markdown",
      "metadata": {
        "id": "JZyW1m5nlhIJ"
      },
      "source": [
        "# Experiment\n",
        "## Khảo sát dữ liệu"
      ]
    },
    {
      "cell_type": "markdown",
      "metadata": {
        "id": "fpHr47LV2QMx"
      },
      "source": [
        "### Cài đặt pingouin"
      ]
    },
    {
      "cell_type": "code",
      "metadata": {
        "colab": {
          "base_uri": "https://localhost:8080/"
        },
        "id": "DLt3yvaO1_4b",
        "outputId": "1fc08ae6-f0a9-4555-b070-942aa66e9946"
      },
      "source": [
        "pip install pingouin"
      ],
      "execution_count": 42,
      "outputs": [
        {
          "output_type": "stream",
          "text": [
            "Requirement already satisfied: pingouin in /usr/local/lib/python3.7/dist-packages (0.3.10)\n",
            "Requirement already satisfied: scipy>=1.3 in /usr/local/lib/python3.7/dist-packages (from pingouin) (1.4.1)\n",
            "Requirement already satisfied: pandas-flavor>=0.1.2 in /usr/local/lib/python3.7/dist-packages (from pingouin) (0.2.0)\n",
            "Requirement already satisfied: outdated in /usr/local/lib/python3.7/dist-packages (from pingouin) (0.2.1)\n",
            "Requirement already satisfied: tabulate in /usr/local/lib/python3.7/dist-packages (from pingouin) (0.8.9)\n",
            "Requirement already satisfied: matplotlib>=3.0.2 in /usr/local/lib/python3.7/dist-packages (from pingouin) (3.2.2)\n",
            "Requirement already satisfied: statsmodels>=0.10.0 in /usr/local/lib/python3.7/dist-packages (from pingouin) (0.10.2)\n",
            "Requirement already satisfied: seaborn>=0.9.0 in /usr/local/lib/python3.7/dist-packages (from pingouin) (0.11.1)\n",
            "Requirement already satisfied: numpy>=1.15 in /usr/local/lib/python3.7/dist-packages (from pingouin) (1.19.5)\n",
            "Requirement already satisfied: pandas>=0.24 in /usr/local/lib/python3.7/dist-packages (from pingouin) (1.1.5)\n",
            "Requirement already satisfied: scikit-learn in /usr/local/lib/python3.7/dist-packages (from pingouin) (0.22.2.post1)\n",
            "Requirement already satisfied: xarray in /usr/local/lib/python3.7/dist-packages (from pandas-flavor>=0.1.2->pingouin) (0.15.1)\n",
            "Requirement already satisfied: requests in /usr/local/lib/python3.7/dist-packages (from outdated->pingouin) (2.23.0)\n",
            "Requirement already satisfied: littleutils in /usr/local/lib/python3.7/dist-packages (from outdated->pingouin) (0.2.2)\n",
            "Requirement already satisfied: pyparsing!=2.0.4,!=2.1.2,!=2.1.6,>=2.0.1 in /usr/local/lib/python3.7/dist-packages (from matplotlib>=3.0.2->pingouin) (2.4.7)\n",
            "Requirement already satisfied: cycler>=0.10 in /usr/local/lib/python3.7/dist-packages (from matplotlib>=3.0.2->pingouin) (0.10.0)\n",
            "Requirement already satisfied: python-dateutil>=2.1 in /usr/local/lib/python3.7/dist-packages (from matplotlib>=3.0.2->pingouin) (2.8.1)\n",
            "Requirement already satisfied: kiwisolver>=1.0.1 in /usr/local/lib/python3.7/dist-packages (from matplotlib>=3.0.2->pingouin) (1.3.1)\n",
            "Requirement already satisfied: patsy>=0.4.0 in /usr/local/lib/python3.7/dist-packages (from statsmodels>=0.10.0->pingouin) (0.5.1)\n",
            "Requirement already satisfied: pytz>=2017.2 in /usr/local/lib/python3.7/dist-packages (from pandas>=0.24->pingouin) (2018.9)\n",
            "Requirement already satisfied: joblib>=0.11 in /usr/local/lib/python3.7/dist-packages (from scikit-learn->pingouin) (1.0.1)\n",
            "Requirement already satisfied: setuptools>=41.2 in /usr/local/lib/python3.7/dist-packages (from xarray->pandas-flavor>=0.1.2->pingouin) (54.2.0)\n",
            "Requirement already satisfied: idna<3,>=2.5 in /usr/local/lib/python3.7/dist-packages (from requests->outdated->pingouin) (2.10)\n",
            "Requirement already satisfied: urllib3!=1.25.0,!=1.25.1,<1.26,>=1.21.1 in /usr/local/lib/python3.7/dist-packages (from requests->outdated->pingouin) (1.24.3)\n",
            "Requirement already satisfied: certifi>=2017.4.17 in /usr/local/lib/python3.7/dist-packages (from requests->outdated->pingouin) (2020.12.5)\n",
            "Requirement already satisfied: chardet<4,>=3.0.2 in /usr/local/lib/python3.7/dist-packages (from requests->outdated->pingouin) (3.0.4)\n",
            "Requirement already satisfied: six in /usr/local/lib/python3.7/dist-packages (from cycler>=0.10->matplotlib>=3.0.2->pingouin) (1.15.0)\n"
          ],
          "name": "stdout"
        }
      ]
    },
    {
      "cell_type": "code",
      "metadata": {
        "id": "DeKznHFSlW6o"
      },
      "source": [
        "import pandas as pd\n",
        "import numpy as np\n",
        "import seaborn as sns\n",
        "from abc import ABC, abstractmethod\n",
        "\n",
        "import pingouin as pg"
      ],
      "execution_count": 43,
      "outputs": []
    },
    {
      "cell_type": "markdown",
      "metadata": {
        "id": "WuX-nRnjlgNZ"
      },
      "source": [
        ""
      ]
    },
    {
      "cell_type": "code",
      "metadata": {
        "colab": {
          "base_uri": "https://localhost:8080/",
          "height": 204
        },
        "id": "p0TCqKmRmRJJ",
        "outputId": "9fb682b6-db8f-442e-b63e-6a3ec681a88f"
      },
      "source": [
        "data_A = pd.read_csv('https://raw.githubusercontent.com/kinokoberuji/R-Tutorials/master/aerodim.csv', sep = ';')\n",
        "\n",
        "data_A.head()"
      ],
      "execution_count": 3,
      "outputs": [
        {
          "output_type": "execute_result",
          "data": {
            "text/html": [
              "<div>\n",
              "<style scoped>\n",
              "    .dataframe tbody tr th:only-of-type {\n",
              "        vertical-align: middle;\n",
              "    }\n",
              "\n",
              "    .dataframe tbody tr th {\n",
              "        vertical-align: top;\n",
              "    }\n",
              "\n",
              "    .dataframe thead th {\n",
              "        text-align: right;\n",
              "    }\n",
              "</style>\n",
              "<table border=\"1\" class=\"dataframe\">\n",
              "  <thead>\n",
              "    <tr style=\"text-align: right;\">\n",
              "      <th></th>\n",
              "      <th>Poids</th>\n",
              "      <th>Taille</th>\n",
              "      <th>BMI</th>\n",
              "      <th>Age</th>\n",
              "      <th>Sexe</th>\n",
              "      <th>Hb</th>\n",
              "      <th>Diagnostic</th>\n",
              "      <th>GST</th>\n",
              "      <th>Volume</th>\n",
              "      <th>Surface</th>\n",
              "      <th>DmCO</th>\n",
              "      <th>Thickness</th>\n",
              "      <th>DLCO</th>\n",
              "      <th>FVC</th>\n",
              "    </tr>\n",
              "  </thead>\n",
              "  <tbody>\n",
              "    <tr>\n",
              "      <th>0</th>\n",
              "      <td>53</td>\n",
              "      <td>165</td>\n",
              "      <td>19.467401</td>\n",
              "      <td>54</td>\n",
              "      <td>F</td>\n",
              "      <td>13.4</td>\n",
              "      <td>E</td>\n",
              "      <td>1.284048</td>\n",
              "      <td>7.0080</td>\n",
              "      <td>19.647869</td>\n",
              "      <td>450.315872</td>\n",
              "      <td>0.142701</td>\n",
              "      <td>6.767</td>\n",
              "      <td>2.30</td>\n",
              "    </tr>\n",
              "    <tr>\n",
              "      <th>1</th>\n",
              "      <td>92</td>\n",
              "      <td>170</td>\n",
              "      <td>31.833910</td>\n",
              "      <td>75</td>\n",
              "      <td>H</td>\n",
              "      <td>17.1</td>\n",
              "      <td>E</td>\n",
              "      <td>1.291861</td>\n",
              "      <td>3.7750</td>\n",
              "      <td>10.519710</td>\n",
              "      <td>72.271882</td>\n",
              "      <td>0.476060</td>\n",
              "      <td>19.146</td>\n",
              "      <td>3.04</td>\n",
              "    </tr>\n",
              "    <tr>\n",
              "      <th>2</th>\n",
              "      <td>69</td>\n",
              "      <td>186</td>\n",
              "      <td>19.944502</td>\n",
              "      <td>41</td>\n",
              "      <td>H</td>\n",
              "      <td>14.6</td>\n",
              "      <td>E</td>\n",
              "      <td>1.211214</td>\n",
              "      <td>7.7695</td>\n",
              "      <td>23.092705</td>\n",
              "      <td>372.142895</td>\n",
              "      <td>0.202952</td>\n",
              "      <td>29.047</td>\n",
              "      <td>5.72</td>\n",
              "    </tr>\n",
              "    <tr>\n",
              "      <th>3</th>\n",
              "      <td>60</td>\n",
              "      <td>160</td>\n",
              "      <td>23.437500</td>\n",
              "      <td>75</td>\n",
              "      <td>F</td>\n",
              "      <td>13.5</td>\n",
              "      <td>E</td>\n",
              "      <td>1.439790</td>\n",
              "      <td>4.3295</td>\n",
              "      <td>10.825326</td>\n",
              "      <td>89.206177</td>\n",
              "      <td>0.396893</td>\n",
              "      <td>14.943</td>\n",
              "      <td>2.57</td>\n",
              "    </tr>\n",
              "    <tr>\n",
              "      <th>4</th>\n",
              "      <td>72</td>\n",
              "      <td>172</td>\n",
              "      <td>24.337480</td>\n",
              "      <td>60</td>\n",
              "      <td>H</td>\n",
              "      <td>14.6</td>\n",
              "      <td>E</td>\n",
              "      <td>1.388885</td>\n",
              "      <td>5.5610</td>\n",
              "      <td>14.414152</td>\n",
              "      <td>180.833030</td>\n",
              "      <td>0.260699</td>\n",
              "      <td>13.888</td>\n",
              "      <td>4.36</td>\n",
              "    </tr>\n",
              "  </tbody>\n",
              "</table>\n",
              "</div>"
            ],
            "text/plain": [
              "   Poids  Taille        BMI  Age  ...        DmCO  Thickness    DLCO   FVC\n",
              "0     53     165  19.467401   54  ...  450.315872   0.142701   6.767  2.30\n",
              "1     92     170  31.833910   75  ...   72.271882   0.476060  19.146  3.04\n",
              "2     69     186  19.944502   41  ...  372.142895   0.202952  29.047  5.72\n",
              "3     60     160  23.437500   75  ...   89.206177   0.396893  14.943  2.57\n",
              "4     72     172  24.337480   60  ...  180.833030   0.260699  13.888  4.36\n",
              "\n",
              "[5 rows x 14 columns]"
            ]
          },
          "metadata": {
            "tags": []
          },
          "execution_count": 3
        }
      ]
    },
    {
      "cell_type": "code",
      "metadata": {
        "colab": {
          "base_uri": "https://localhost:8080/"
        },
        "id": "5ByWub2_nArP",
        "outputId": "b8e3ed49-a8e7-4553-dc6d-de883dafefaa"
      },
      "source": [
        "data_A.Diagnostic.value_counts()"
      ],
      "execution_count": 4,
      "outputs": [
        {
          "output_type": "execute_result",
          "data": {
            "text/plain": [
              "N    15\n",
              "E    14\n",
              "F     9\n",
              "Name: Diagnostic, dtype: int64"
            ]
          },
          "metadata": {
            "tags": []
          },
          "execution_count": 4
        }
      ]
    },
    {
      "cell_type": "markdown",
      "metadata": {
        "id": "JiE6h4lKoRFF"
      },
      "source": [
        "###So sánh giữa 3 phân nhóm dựa trên chỉ số 'Thickness'"
      ]
    },
    {
      "cell_type": "code",
      "metadata": {
        "colab": {
          "base_uri": "https://localhost:8080/",
          "height": 296
        },
        "id": "Vd88piUlnQu-",
        "outputId": "9e72db87-e073-4874-c593-91099d3b112c"
      },
      "source": [
        "sns.kdeplot(data = data_A, x= 'Thickness', hue = 'Diagnostic')"
      ],
      "execution_count": 5,
      "outputs": [
        {
          "output_type": "execute_result",
          "data": {
            "text/plain": [
              "<matplotlib.axes._subplots.AxesSubplot at 0x7fb38c7b3750>"
            ]
          },
          "metadata": {
            "tags": []
          },
          "execution_count": 5
        },
        {
          "output_type": "display_data",
          "data": {
            "image/png": "[encoded data removed]",
            "text/plain": [
              "<Figure size 432x288 with 1 Axes>"
            ]
          },
          "metadata": {
            "tags": [],
            "needs_background": "light"
          }
        }
      ]
    },
    {
      "cell_type": "markdown",
      "metadata": {
        "id": "8oODB3x6oc1H"
      },
      "source": [
        "###So sánh giữa 3 phân nhóm dựa trên chỉ số 'DmCO', phân bố vi phạm giả định chuẩn"
      ]
    },
    {
      "cell_type": "code",
      "metadata": {
        "colab": {
          "base_uri": "https://localhost:8080/",
          "height": 296
        },
        "id": "bHErIjlWoGYn",
        "outputId": "e1653531-1100-40b0-82bb-dff435a8f104"
      },
      "source": [
        "sns.kdeplot(data = data_A, x= 'DmCO', hue ='Diagnostic')"
      ],
      "execution_count": 6,
      "outputs": [
        {
          "output_type": "execute_result",
          "data": {
            "text/plain": [
              "<matplotlib.axes._subplots.AxesSubplot at 0x7fb38b9ea0d0>"
            ]
          },
          "metadata": {
            "tags": []
          },
          "execution_count": 6
        },
        {
          "output_type": "display_data",
          "data": {
            "image/png": "[encoded data removed]",
            "text/plain": [
              "<Figure size 432x288 with 1 Axes>"
            ]
          },
          "metadata": {
            "tags": [],
            "needs_background": "light"
          }
        }
      ]
    },
    {
      "cell_type": "markdown",
      "metadata": {
        "id": "76sHOhk4okOd"
      },
      "source": [
        "###So sánh giữa 3 phân nhóm dựa trên chỉ số 'Species', dữ liệu thỏa mãn cho phân bố chuẩn ANOVA"
      ]
    },
    {
      "cell_type": "code",
      "metadata": {
        "colab": {
          "base_uri": "https://localhost:8080/",
          "height": 204
        },
        "id": "y-pgHM9vojhm",
        "outputId": "5f8e2522-ec69-4af2-a696-b6a3690273c2"
      },
      "source": [
        "data_B = pd.read_csv('https://vincentarelbundock.github.io/Rdatasets/csv/datasets/iris.csv', sep=',', decimal='.', index_col=0)\n",
        "\n",
        "data_B.head()"
      ],
      "execution_count": 7,
      "outputs": [
        {
          "output_type": "execute_result",
          "data": {
            "text/html": [
              "<div>\n",
              "<style scoped>\n",
              "    .dataframe tbody tr th:only-of-type {\n",
              "        vertical-align: middle;\n",
              "    }\n",
              "\n",
              "    .dataframe tbody tr th {\n",
              "        vertical-align: top;\n",
              "    }\n",
              "\n",
              "    .dataframe thead th {\n",
              "        text-align: right;\n",
              "    }\n",
              "</style>\n",
              "<table border=\"1\" class=\"dataframe\">\n",
              "  <thead>\n",
              "    <tr style=\"text-align: right;\">\n",
              "      <th></th>\n",
              "      <th>Sepal.Length</th>\n",
              "      <th>Sepal.Width</th>\n",
              "      <th>Petal.Length</th>\n",
              "      <th>Petal.Width</th>\n",
              "      <th>Species</th>\n",
              "    </tr>\n",
              "  </thead>\n",
              "  <tbody>\n",
              "    <tr>\n",
              "      <th>1</th>\n",
              "      <td>5.1</td>\n",
              "      <td>3.5</td>\n",
              "      <td>1.4</td>\n",
              "      <td>0.2</td>\n",
              "      <td>setosa</td>\n",
              "    </tr>\n",
              "    <tr>\n",
              "      <th>2</th>\n",
              "      <td>4.9</td>\n",
              "      <td>3.0</td>\n",
              "      <td>1.4</td>\n",
              "      <td>0.2</td>\n",
              "      <td>setosa</td>\n",
              "    </tr>\n",
              "    <tr>\n",
              "      <th>3</th>\n",
              "      <td>4.7</td>\n",
              "      <td>3.2</td>\n",
              "      <td>1.3</td>\n",
              "      <td>0.2</td>\n",
              "      <td>setosa</td>\n",
              "    </tr>\n",
              "    <tr>\n",
              "      <th>4</th>\n",
              "      <td>4.6</td>\n",
              "      <td>3.1</td>\n",
              "      <td>1.5</td>\n",
              "      <td>0.2</td>\n",
              "      <td>setosa</td>\n",
              "    </tr>\n",
              "    <tr>\n",
              "      <th>5</th>\n",
              "      <td>5.0</td>\n",
              "      <td>3.6</td>\n",
              "      <td>1.4</td>\n",
              "      <td>0.2</td>\n",
              "      <td>setosa</td>\n",
              "    </tr>\n",
              "  </tbody>\n",
              "</table>\n",
              "</div>"
            ],
            "text/plain": [
              "   Sepal.Length  Sepal.Width  Petal.Length  Petal.Width Species\n",
              "1           5.1          3.5           1.4          0.2  setosa\n",
              "2           4.9          3.0           1.4          0.2  setosa\n",
              "3           4.7          3.2           1.3          0.2  setosa\n",
              "4           4.6          3.1           1.5          0.2  setosa\n",
              "5           5.0          3.6           1.4          0.2  setosa"
            ]
          },
          "metadata": {
            "tags": []
          },
          "execution_count": 7
        }
      ]
    },
    {
      "cell_type": "code",
      "metadata": {
        "colab": {
          "base_uri": "https://localhost:8080/"
        },
        "id": "kqC8QHaMpcON",
        "outputId": "4af3425f-ce32-4823-8555-1e7f7d00d508"
      },
      "source": [
        "data_B['Species'].value_counts()"
      ],
      "execution_count": 15,
      "outputs": [
        {
          "output_type": "execute_result",
          "data": {
            "text/plain": [
              "versicolor    50\n",
              "virginica     50\n",
              "setosa        50\n",
              "Name: Species, dtype: int64"
            ]
          },
          "metadata": {
            "tags": []
          },
          "execution_count": 15
        }
      ]
    },
    {
      "cell_type": "code",
      "metadata": {
        "colab": {
          "base_uri": "https://localhost:8080/",
          "height": 296
        },
        "id": "ZjdTwKDPo_pW",
        "outputId": "076d8a1d-5cb7-49c7-87a4-5f83fe4053a2"
      },
      "source": [
        "sns.kdeplot(data = data_B, x = 'Sepal.Width', hue='Species')"
      ],
      "execution_count": 9,
      "outputs": [
        {
          "output_type": "execute_result",
          "data": {
            "text/plain": [
              "<matplotlib.axes._subplots.AxesSubplot at 0x7fb388f413d0>"
            ]
          },
          "metadata": {
            "tags": []
          },
          "execution_count": 9
        },
        {
          "output_type": "display_data",
          "data": {
            "image/png": "[encoded data removed]",
            "text/plain": [
              "<Figure size 432x288 with 1 Axes>"
            ]
          },
          "metadata": {
            "tags": [],
            "needs_background": "light"
          }
        }
      ]
    },
    {
      "cell_type": "markdown",
      "metadata": {
        "id": "mgIDTql7rFiS"
      },
      "source": [
        "## Triển khai\n",
        "Sơ đồ UML của hệ thống như sau:"
      ]
    },
    {
      "cell_type": "markdown",
      "metadata": {
        "id": "Zs-PNqPKq_Bf"
      },
      "source": [
        "![image.png](data:image/png;base64,iVBORw0KGgoAAAANSUhEUgAABG4AAAG4CAYAAAAUkqH/AAAgAElEQVR4Aey9f5AdV3nnfbPBWMEYj8HICraVsY2whG1ZE2kGeRDO2MQgguPVKoQRGfxyhe2JsElQooQMWrIjB5ir5Yc13myiCkpWJfNmtYxU75AFZiqikqkVMcMCmVkoqiaqeatkvH+MNxXecaVSNclmU89bT3efvuec/t237+1zur+3Suo7/eP8+JznPN3ne59zukH4gAAIgAAIgAAIgAAIgAAIgAAIgAAIgAAIGEmgYWSpUCgQAAEQAAEQAAEQAAEQAAEQAAEQAAEQAAGCcAMjAAEQAAEQAAEQAAEQAAEQAAEQAAEQAAFDCUC4MbRhUCwQAAEQAAEQAAEQAAEQAAEQAAEQAAEQgHADGwABEAABEAABEAABEAABEAABEAABEAABQwlAuDG0YVAsEAABEAABEAABEAABEAABEAABEAABEIBwAxsAARAAARAAARAAARAAARAAARAAARAAAUMJQLgxtGFQLBAAARAAARAAARAAARAAARAAARAAARCAcAMbAAEQAAEQAAEQSEVgZWWFWq0WTfz2x2lkz/2Bf0ef/jWanJyk5eXlVOnhJBAAARAAARAAARAAgWQCEG6SGeEMEAABEAABEKgtgatXrxILMtu33kHb33grTdzxMLXufC8tDDwV+Hdq2wGavP3dtGvL7bTlxpvoyOEnaHFxsbbsUHEQAAEQAIFiCfAPA2l+QMC9p1juSK18AhBuym8DlAAEQAAEQAAEjCPAgk1zdIz6b7yZWJBZ2TtB9NCzqf+t7XuGTt/1Ptr7prc4kTmIwjGuiVEgEAABELCCAIsw/ENA/823OD8MpPkBge89fddd79zHZmdnragnCgkCcQQg3MTRwTEQAAEQAAEQqBmBjY0NOvJ/fdgRbM7u+EBqoSZO1OHoHI7COfDwe2h9fb1mRFFdEAABEACBPARY8Of7Bosw/EPA1eFPZronrT/wGeL72IH+3bRr2w5aWFjIUwxcAwJGEIBwY0QzoBAgAAIgAAIgUD6BtbU12vvW++j03e/P9HAcJ9rIx2bvPUy7+u8iXisHHxAAARAAARAII8ACPws2LPjzfUO+j+T9vjx0jEZuvduJAOWIUnxAwDYCEG5sazGUFwRAAARAAAS6QIBD0Xdt3Ub8cJv3wTjNdfyL6d6f2UHzX/1aF2qBJEEABEAABGwmwFE2LPAXJdjo9yUnAvTWNyP6xmYjqWnZIdzUtOFRbRAAARAAARAQBFi02XvbduJ1afSH3G78zeHrB7a9DeKNaABsQQAEQAAE6PyX/m/nXpR1SlTW+xTfgzj65tTJz4E6CFhDAMKNNU2FgoIACIAACIBA8QQ4ZHzvHXf3TLQRD9gbI591HtCxaHHxbYoUQQAEQMA2Aiza8Fo0fG8Q94lub49sG6HW7z5jGyqUt6YEINzUtOFRbRAAARAAARDghYh5TZtuT4+Kevh2pk29+R7itXXwAQEQAAEQqCcBjvoc+Zl7eiraiPvSgTv20OyFi/UEj1pbRQDCjVXNhcKCAAiAAAiAQHEEDj3yb+j8fc2e/bopHpTl7eKej9HeewaKqxRSAgEQAAEQsIYAR33uuvXNxNOX5HtDr75zhA+LRiwe4QMCJhOAcGNy66BsIAACIAACINAlAs4CkFtuL+VBWX8g5/D42dnZLtUUyYIACIAACJhKgF/TXVbUp7gX8fpu/ZvfRByFig8ImEoAwo2pLYNygQAIgAAIgEAXCXCUC0e7iAfXVNsnv070wirRSz9WS8Z/n/96trQeetY/n6dMbb/1djw0q1TxFwiAAAhUmsDZM39CzTfv8+8Fqe5D0r2jyPMntu+n1jOfqjRvVM5uAhBu7G4/lB4EQAAEQAAEMhPg6BaOcsn00Du1miKf1WxpSg/gR7e9k059/gsp8sApIAACIAACthPg6BaOcunobYZT31YxTLV/EMh0f3voWWd9nf43bMGaaypR/GUQAQg3BjUGigICIAACIAACvSBw6NGDdP7ux7KJLOe1KJuogr6QL/IGa91EAcV+EAABEKgeARbqWbDPKrC45z9P9ELIPakD4YbTPbX9IB098nT1YKNGlSAA4aYSzYhKgAAIgAAIgEA6AvwrZ99rXpv97R0s3PCUqKnn1QftgKCTP+qm/8abiReqxAcEQAAEQKDaBEb23E8LA0+p9xMpCjNS0ImL/uxQuOHony033lRt8KidtQQg3FjbdCg4CIAACIAACGQnMD8/T/u33pf9YTnygfp5opfkcuQXbia2vYtan/6MnBi+gwAIgAAIVIzA2toabbn+9TnuQ/L9hn9IKG6qlBCKRm69mxYWFipGHNWpAgEIN1VoRdQBBEAABEAABFISmPjtj1PrzvfmeGCOWjtAfpAmope+nTvt+fvGaf++B1PWBKeBAAiAAAjYSOD06dN05I4HctwrvPvNC9595snihZvTd72Pjhx+wkasKHPFCUC4qXgDo3ogAAIgAAIgIBPItb5NVLQNv2VKibYhog5C1fmVsPxqWHxAAARAAASqS4CFERZIRJRL7m0XhBuevsXTuPABAdMIQLgxrUVQHhAAARAAARDoIoHc6wqweKM/JCvl5FeCa+vfRAk+EfuxvoACFH+AAAiAQCUJHHj4PTR772EjhZurw5+k/ptvqSR3VMpuAhBu7G4/lB4EQAAEQAAEMhHgB1J+MM31C2eccPPSanDh4giBJi7vRgOPJpkaFCeDAAiAgGUEOLKSIyzj7gWpjun3pA4iPkV+GyOfpU3XvNoyoihuHQjg6agOrYw6ggAIgAAIgIBHgN+YwZEt4iE101Z/SA6j2sEaN1wWCDdhULEPBEAABKpDoKP7kPyDgH5PKkC4wX2oOnZWtZpAuKlai6I+IAAChRE4f/48HT16lPbu3esMJnlAiX9gYLsNvLZxDf1+4+30F41HCvj36/Tt8W/TP2i97h+mfz1X2n/WeDdd0/hXPe9n27dvp2azSbxg5vr6ulYb/AkC9hLAfQz3LBPvWa9pvIrONkZy3Sfke9fiA7P0j3L3hHAj08D3ihGAcFOxBkV1QAAEOifAr6mEWIOHXRMfdoso03WNV9HvNfZ0/MAsPzz/xbj2Zo/VC/TtHMIQP8jzA30R9cybxpYtW2hxcbFzR4IUQKBEAriP4R6W1wf24jr+AeFk422d34eGLyg/HPzvyRP5okmlKB6scVOi40LWsQQg3MTiwUEQAIG6Ebh69Sr19fWVOnDsxUMT8qjvQz1HtDzVuLvzB2ZZmClIuHm2cT/xA70J9jk7O1s394f6VoQA7mP19e8m+M40Zfipxqvo4437Or8PacLN/xp/hP723k90JN4s7vkY7b1noCLeANWoEgEIN1VqTdQFBECgYwJ6pM3jH/kQPX/xj+mHP/ouvfTKFfwDA+tt4At/2KIP9g/RxgOfzvDvi/TPPyL6l7/6K/qnx7+oXPePj/8V/Z8fqV3vX/5UPSdtXp9687vp6Y8+0VPGqy//gL78tS/RxOQxet0Nr/NFI4684agFfEDANgL6fezoRz5C8xcv0vqLLxLxVED8A4OSbaA1OUkT/Q8RPfDZ3P/+Zd9J+v9GF+h/Sx2UhZtvvvog/dO+k7nFm/N3P0aHHj0opYqvIGAGAQg3ZrQDSgECIGAAgbNnz/qDtms3XesM5iDWQKyqmg2wCHnDT12niC/Jwoor3KTrpn9D/5RJFGoLSIM/fQd95Rtf7qlwI7fvt37wl/TGm2/y/cDExES6KuMsEDCEgHwf23TttbTw1a9CpChZpIBQFhQLV77zHdr+hltyiza+4PO4Oq2VhRuexvv//szTuYWbQ7e/jXhtKHxAwDQCEG5MaxGUBwRAoDQCvDipCPH9jYmPljZ4lAeS+A7hqBs2MDwwQH++8/FM4s0//VWarvl39M+Pt4WYZEGofe6Leydoc9+Npfe7//gn7put2Bdw5AI+IGATAfk+Nvk7vwPRBqKNsTaw/dZ+WtnzW9nFm1T3IiJ64euZxRt+FXjfa15LGxsbNnV7lLUmBCDc1KShUU0QAIFkAvxmGSHc8NSJbgyYkSaEGBNsYPJTE/TRO9+RSbjZeOCL9I+f5mlRf0f/onWnf/nR39A/f/qL9I85I21Y4PncWx6hJz78wdL7HUckCT+wadMmrab4EwTMJiDfxxBtE4z0QPSLOUwmnv51at353ozCzX8i0qbmRvbIHMINpklF0sQBAwhAuDGgEVAEEAABMwiIwRpved0LEwbYKAOEnm7YANv3bTdtJo5yyRIV061z1/edoK2vfyP99ZUXjOh3si8wwzuhFCCQjoBsuxsvv2xstAUEFHMElLLaYu3KFep//c20sW8qm3iTNuLm/POZI252bbmdlpeX03U2nAUCPSYA4abHwJEdCICAuQTkB95uDJaRJkQYk2xg6nOT9MSdbzdCuPm9u95DT3/kw0aINtxGsi8w12OhZCAQJKDYLqYJQbgy3AYmjnyUWnc9kk24iVnQmNe3Ef9IesV3mu9n7x2j5i9/INipsAcEDCEA4caQhkAxQAAEyicgP/CaNMBGWSD4dMsG7rnzzfTff/bpUsUbjvrh6B+TotxkX1C+Z0IJQCA9AcV2DR+0lxXpgXzNifbhqLD+m7bQ2t7fLUS8EaINb9OINeIcXtum/w14k2B6T4MzyyAA4aYM6sgTBEDASALyA2+3BspIFyKMSTYw/82v0L7+HfTy8CdLEW94itQjdw7Ql/7LF42JtuH2kX2Bkc4KhQKBCAKK7UK4QcSNBTYwf/7LtH/rzlKFmyN3PUinp38/oldhNwiYQQDCjRntgFKAAAgYQEB+4DVpcI2yQOzppg2waPLzW+8uRbh5Yts+mjr574wSbSDcGOCMUYTcBOT7GCJLzIksQVvEt8Xp1mfpyLaf61i8yRNx07rn39DEr/1G7j6HC0GgVwQg3PSKNPIBARAwnoD8wNvNgTLShhBjmg1Mnvidnq93w+vaPPmhMeNEGwg3xrtqFDCGgHwfg1gQLxaAj1l8jn7oiY7Xu8kq3Jy/r0kH3rk/pkfhEAiYQwDCjTltgZKAAAiUTEB+4DVtYI3yQOzptg184uMfo0f67+v6tCmeHsWRNo+9/5eMFG0g3JTsiJF9RwTk+xiECbOECbRHcnscef+YE3mT+U1T3oLFWYSbybc+4og2GxsbHfU5XAwCvSIA4aZXpJEPCICA8QTkB95uD5KRPoQYE23gj8/9Pu3Zuo3+x56PdWXqFC9EvG/rdiOnR8ntIfsC4x0XCggCEgHFdi1Y3wRiRrKYUTdGPG1q5La35lqwOI1ws/7AZ+jAHXto8uPHpZ6DryBgPgEIN+a3EUoIAiDQIwLyA688iMN3iCx1soGF78zTtltvc6ZOsdCy8cCnO/7Hix//2zf/vPP2qK9848vGRtqIdpZ9QY/cD7IBgUIIKLYL4QaLE1tqA4vf+Ibztqmjdz6YScCJE274zVGTd/0C9d/00zR74WIh/Q2JgEAvCUC46SVt5AUCIGA0AfmBVwzgsIVoU1cbmPrcpCO0HNv2UO4InL8ZOkafe8sjtPUNm+k3fvMpo175Hdeusi8w2mmhcCCgEVBs19JBe90iTFDf8KgjflX4qU992hFwJra9i1b2/Fbi4sVhws3V4U/Sqe0Hndd9T37ik7TO/QIfELCQAIQbCxsNRQYBEOgOAfmBN25Qh2MQc+piA6sv/4AmPnHUicDZ2vdG+mj/Pvqzez5E/23Xr4ZG4fz3n32a/nzn4/Rb/SN07+atdNvmm+mJD3+Qfvij7xofZSO3qewLuuNtkCoIdIeAYrsQbhBxUwEbYAGn9Yl/S9tv7af+vs10tP/naP6ex2lx10cDQg4LN3/UeICebdxPE3c8TLu23E79N99CR488TWtra93pdEgVBHpEAMJNj0AjGxAAAfMJyA+88iAO3yHUwAau0Ld+8Jc02TpOD96/l3a/9a0k9xfx/Z4730zDAwM0MXmM5r/5FavEGrmNRX14iw8I2ERAsd0KDNoRjRIejVJXLle//306NTVF++9/gPa+dWfofei6xjX02sY11Gq1aHl52abui7KCQCwBPJHE4sFBEACBOhGQH3jlQRy+Q7iBDdTLBmRfUCcfiLraT0CxXQg3iLipmQ0o9m9/d0YNQEAhAOFGwYE/QAAE6kxAvuFjoF6vgTraG+0t24DsC+rsE1F3+wgotluzQXtdo1BQ73ZUkmL/9nVflBgEYglAuInFg4MgAAJ1IiDf8OVBHL5jUA8bqJcNyL6gTj4QdbWfgGK7EG4QcVMzG1Ds3/7ujBqAgEIAwo2CA3+AAAjUmYB8w8dAveiB+iU61xql3Y2GNid9gMZaZ+jyKxH5LXnXDbnX7W6O0lhzlHYPDdDu5hm6vMTXnaETrUuGrqdyiU6IMjcatNvYckbwj2qXiu+XfUGdfSLqbh8BxXatHLQv0dxUk4YD94pBGp+aodXYOs3QuHNdk+ZizwvmMT7TjtpQI1jcc8cHvXvXYJOmZ5bCBaElL93BQRpvTtHczAxNNwdpeHCQhvnvpZA8lmbIT1uuM+cztRSs75Kbpt/OfF5Yuk790/IIKVcsP3PP97lgfTL7nBdKnEgAwk0iIpwAAiBQFwLyDR/CTXcG8pdbA4pwEydkXJaEHkek0cSCyxeO0+7GAI01BwwWRM7QmPQwHldf2Fx3bC4PV9kX1MX/oZ7VIKDYrqWDbxZOVqcGlXvF8FSEWCLXcabpX5PmfDWPwRgBhIUKFkGiBaFVX2xqBgWapSlfiGIBJyg+CYGl/cNGtJDkiiZzTT43ujyO+JSRhypYmSvOxJVTsf9qdGnUAgR8AhBufBT4AgIgUHcC8g0/z2AP16QYeF8Y9R+smXeUkHHOeSj1HmKbZ6KjaZZYvIlOp/w2gXBTfhuksEtNFJR9Qd39IupvFwHFdmVRw7bvkujAdUoWYpZoWkTFsFg+GCaQaGKElke8ELJE06Giyzq5Iop7v4oUXOS8BoOCiyoiNajRnAmP6vHakc+PzMs5JwcP22wkpLyK/dvVdVFaEEgkAOEmERFOAAEQqAsB+YZv42DTijKnEG7UqJwBOuFMh4oefPP5UQJQ+Uwg3JTfBtG2E1U22RfUxf+hntUgoNhuyMA2LlrBqGOy0JFGuJGiWlwGSRE060RaHs51MYLP3FRQDFIEl5hraV0TUnRhJlD+oLgjt89cM/44BdJLwcNme/HKrth/Nbo0agECPgEINz4KfAEBEKg7AfmGHzWgw/7sg2CFWaJwowodjaHj0evfiCiJC6Nt4WbpDI156+GI9nREHd7fFNO0BmjsglaPpTN0gqdcDfHUK15Dp0GNoVE6cSFk7Rxv3R0+z/kn1t8ZGqVzvsgk1rYZUNf1GfKuaY6qgpTIn6d+tY7T2NAANbgsYev/5K2j4IVtdASXx0bYDm/xAQGbCCi2a/NAXBNVkiJuVqemaC7r9KqZKZqeak+v8tnpoorHMSjcqFOcksuoTv9SI2Y0YafRiImomaHpqaSInBw8bLYXCDc2uSmUNScBPJHkBIfLQAAEqkfAf2hrNBIHdooYgYFwel4Jwo0abcPh4jHTpAT3peM0piz6q4o/zoLGrUukpj1K58T1LPw469BI0T3eFCy2CSWax98viz9yflIaTvryMS0tL3+5XG1B6RKdEAIUC0KirP5WS5dFpLg6+tdpghX2h9qu7Auq5+lQoyoTUGzX5oF4JuFGCBmqkBI/9YkjbqacdW2UqBlvTbIwEUYXbvTrVCFGm5bFbaFHwegCkVbnyOleXO7IxZQ535w8bLYXCDdVdmuom0cAwg1MAQRAAAQ8AvIDL4SZLg3wY4UbSazwHp4V0SS1yKCl40XtKOvmNDwxxBdiOMJGju6R02gLJ6FpvCKfq4szmsCiCExX6CU5f1EmUU+ZlVI2bhs1T1H28PJ1qS1FOSu4lX0BHCQI2ERAsV2bB+KaiBEmpPhTh2bab1aS15thFrFiiifccDr6dWHXqsKNHiGTYiqSLtwEplbpwlN4mmo5QgSivDxsthcINza5KZQ1JwEINznB4TIQAIHqEZAfeCHcdGmwL4sRejSLLkY0GsEpTalEAk3UEFE7kkgiBCFF6BDnOXnIabSjaJTzfTFFPlePEooXbpT0lPx1UaddBtc2I/IMqSNsObsty76gep4ONaoyAcV2bR6IZxBuFCFDuy52kV9JuAmsQeP8eKCuI6Pko69Zk/SGJ6ctdGFGTZ8FJD2KJ1j+GRpPeMOWUs4sPGy2Fwg3VXZrqJtHAMINTAEEQAAEPALyAy8Gu9kHu6mYxQo3qsjB7dGeOpSlPKqoIUSaYPnU83hNGV7jJuxfuxxi7Zrj6no2YloTP+wrAoxaJ7Us6jH1Oq6vely9Vi27eiwLK5wbtIsrypvP4CBBwCYC8n3Mj0ixcUCuCQ6RETdLU5qQoYsj4VErDhtFuAmZysT+XIqKUQQR5/Xg7dd3J07LSincBKZT6YKQXma9bTvhoadl4d+K/dvUcVFWEEhBAMJNCkg4BQRAoB4E5Bt+2GAO+woY5Bsl3MQJI+nretlfIyfs9eVxecQd4/zV46qwA+Gmm/1R9gX18H6oZVUIKLZr4cDbF5tSCjerU8GoFX3aU6ToEyaCaPk6PL21aHoi3IRM22pP94p+Jbng1hEPm+3FK7ti/1Xp1KgHCHgEINzAFEAABEDAIyDf8Ls5KKx12rHCjSpGcHu0I13SCyn6+i+R0SjStCLOK/K8sOlZ3pulnLdQXTjTXkg4S8RNYv4QbsrqK7IvgIMEAZsIKLZr80BcE1DCxRdeZ2aQhkP+yRzkqBkhcIRG3Hi8AtOVvNeRq8JNN9a48dar0erul38paVHiDnnYbC8QbmxyUyhrTgIQbnKCw2UgAALVIyA/6JU1YKx8vrHCzRVS1nxJK6YE3iqlCkDRgowqjESfJ4tGPFXKe614x2vcJOWvHkfEjdwO3f0u+4LqeTrUqMoEFNu1eSCuiRehwg1HzIS+XUkXVSIWKQ6LuPGY6VE7Dldp2hQLP/o57ciYkAWDOV1tceLQOjn56+V3p3uFRdMEhKhOeNhsL17ZFfuvckdH3WpJAMJNLZsdlQYBEAgjIN/wKy+ghEWR9GJfgnCjvmVJf9NTxGCdpyopb2vKJ9yINzNFt72abjsaSN2vCiyq+KKWUz2mXsd1VY+r16p5qsciOPWifSuSh+wLwnwF9oGAqQQU27V5IJ5CuJlrTtFqRB0DUTP6q7f5uhjhhl+pPe4sUCytY6MJN+mFGFfIUcsUs/ZOyCLFw1NTND01Q4pQo9W9Yx5aenF5mXpMsX9TOynKBQI5CUC4yQkOl4EACFSPgHzDjx68Y1DcEZsk4eYVPepGf5tSkP/l1kBO4SZdXpdbo3Ri6Qq9pJRdLpcqoqgCTJz4ouWvLGqc7a1SEG6CdtGJncq+oHqeDjWqMgHFdm0eiCcKNwlvV9KiW0IXD44VboIRMv6UJYmrEnWjCzvSefpbq6KjbbxonUD5I6KG/DwK4OGnFRExZMFxxf6r3NFRt1oSgHBTy2ZHpUEABMIIyDf8TgZ9uDZmEK2IH1Hrypyhsci3NOlpu8KIKlyoQop6TLteW2em0RigExcukduGl+hcc4B2C0FFKXta4SaqLGfoHOej5D9K5+SIFTk/f1qWKH9UuuI4tp30Q9kXhPkK7AMBUwkotmvBQDsyciNBuOHolfipSfp0owYFxJIk4Yb5yeUIFWZmaHywHZUTWSY5neZMZKSQzEMRhfS3S2ltWwgPLU25LLZ8V+zf1E6KcoFATgIQbnKCw2UgAALVIyDf8DsZ9OHaaNGAo2NkztGiirSWDK910zxDl2VRg78vscAzQGMsrihTpdQoFzUCJlg2vUxy+dTpU1q6Dc57lMaGRmms2X5w1/NT1u0Z4teIu68UFyKNnH/o9KshTdBxOGhlEeKSzgh/eyJcsN3j+qlsA9XzdKhRlQkotmvxQFydVqSLLu40pkiRxKu3noYeMcPHA2JOCDNfQAkVbjg6hd/2NOjd20KmQC21p10NT6UTbRyhRBJ74stZDA9bxJm4cir2X+WOjrrVkgCEm1o2OyoNAiAQRkC+4ccN6nAs2yDY5XWJzrVGabe+ZgCLH60QUUYIDktnnMWAdzsROJ5QwmJJU77uDJ0Qwo13vtyW/H330KgUSRMs/2VPBGpf50baBMWi40o00O7mcVdQ4gWS/Sghvtbb79TDjdzx0+ay8NQrUUfeino6PDitAXLeWBXGJmcdlfzkvPFdbYtXrijiYpivwD4QMJWA72cajdj1UOIGv+UeW6K5qSYNB+4VgzTOogeLIH6EC++borklfWrPEs3NTEnnScK6I74s0Vxz0MtjkIabYWnIaXrRO5HCjXfu0owj4DhvueI0Z/jvpvPWK7fscpppvouooRAxSAhMhfBIUxY7zlHs39ROinKBQE4CEG5ygsNlIAAC1SMg3/AxyNWEBQzuA4N72Eh1bUT2BdXzdKhRlQkotisG99haKmLZIZaUK/SpjBT7r3JHR91qSQDCTS2bHZUGARAIIyDf8DEor+6gHG2Ltk2yAdkXhPkK7AMBUwkotgvBBoJNzWxAsX9TOynKBQI5CUC4yQkOl4EACFSPgHzDTxrY4TgG/7CB6tqA7Auq5+lQoyoTUGy3ZoN2kyI/UBY1EqZXPBT7r3JHR91qSQDCTS2bHZUGARAIIyDf8DEor+6gHG2Ltk2yAdkXhPkK7AMBUwkotgvhBhE3NbMBxf5N7aQoFwjkJADhJic4XAYCIFA9AvINP2lgh+MY/MMGqmsDsi+onqdDjapMQLHdmg3aexXVgXzKiaZJw12x/yp3dNStlgQg3NSy2VFpEACBMALyDR+D8uoOytG2aNskG5B9QZivwD4QMJWAYrsQbhBxUzMbUOzf1E6KcoFATgIQbnKCw2UgAALVIyDf8JMGdjiOwT9soLo2IPuC6nk61KjKBBTbrdmgPU1EBs4xN1qmiLZR7FwjxF8AACAASURBVL/KHR11qyUBCDe1bHZUGgRAIIyAfMPHoLy6g3K0Ldo2yQZkXxDmK7APBEwloNguhBtE3NTMBhT7N7WTolwgkJMAhJuc4HAZCIBA9QjIN/ykgR2OY/APG6iuDci+oHqeDjWqMgHFdms2aC8iYgNp2B2Ro9h/lTs66lZLAhBuatnsqDQIgEAYAfmGj0F5dQflaFu0bZINyL4gzFdgHwiYSkCxXQg3iLipmQ0o9m9qJ0W5QCAnAQg3OcHhMhAAgeoRkG/4SQM7HMfgHzZQXRuQfUH1PB1qVGUCiu3WbNCOaBm7o2WKaD/F/qvc0VG3WhKAcFPLZkelQQAEwgjIN3wMyqs7KEfbom2TbED2BWG+AvtAwFQCiu1CuEHETc1sQLF/UzspygUCOQlAuMkJDpeBAAhUj4B8w08a2OE4Bv+wgeragOwLqufpUKMqE1Bst2aD9iIiNpCG3VE7iv1XuaOjbrUkAOGmls2OSoMACIQRkG/4GJRXd1COtkXbJtmA7AvCfAX2gYCpBBTbhXCDiJua2YBi/6Z2UpQLBHISgHCTExwuAwEQqB4B+YafNLDDcQz+YQPVtQHZF1TP06FGVSag2G7NBu2IlrE7WqaI9lPsv8odHXWrJQEIN7VsdlQaBEAgjEBfXx+Jm/78N79CGJhXd2COtkXbxtmA8AO8xQcEbCIg38eWL19GxAnEq1rZAHy3Td4KZc1KAE8kWYnhfBAAgcoSOHDggC/cfOEPWxBuXsHgPm5wj2PVtI+vfOPLvh/Yvn17Zf0dKmYngbW1NTp69CjxNuwj38fO/sEf1GrQXkTEBtKwN2pn8RvfgO8OcwrYVxkCEG4q05SoCAiAQKcEJicn/Zv+rVtvodWXfwDxBuINbKBmNnD/viHfDxw6dKhTt4LrQaBQAlevXnXsc9OmTaECjnwf69+6lTZefhniDaJuamEDI/v2wXcX6m2QmGkEINyY1iIoDwiAQGkE+BdMOcz8zrfcQV/+2pcwcK/ZwB2RNNWMpElq12/94C9p5Off4T/4c8j9wsJCaf4IGYNAGAEh3IgpIbqAo9/Htm/bRgtf/WotBu6IlrE3WqaTtrv6/e/T/ne+E747zGFgX6UIQLipVHOiMiAAAp0SOH/+vHLzFw/H2DbApQEGVe0HP/ETP5HavoWPiWKB4y4B8An3F53ahy7cCM6ygIP7WDh7wQrb6vAJ891HjhwR3QxbEKgUAQg3lWpOVAYEQKAIArx+QNjDAB72qvOwh7ZEW8bZwMMPPxwp5AgfE3U9jrsEwCe8j3VqH1HCDfPetWsXzc7OOlngPhbOP8ousb8avNh3b2xsiG6GLQhUigCEm0o1JyoDAiDQKYHFxcXIARse7KrxYId2RDumsYFTp0516k5wPQgUTiBMuJEFG84Q9zH4uDQ+rqrnwHcX7naQoCEEINwY0hAoBgiAQPkE+FcafouMeJh53Q2vo6d+Y9xZ5wYLFddz3ZOkdVFwvBp2wWtZTbaO0xtvvsnv/zz1ZGVlpXzHhBKAgERAFm50wYZP0+9jfTfcQBNHjzrr3GCh4nquAdPJ+jGmX8vrN52amqItmzfDd0t+Al+rSQDCTTXbFbUCARDIQeD06dP+jZ9Fm4XvzGNhYixMDBuokQ388Effpbvv3eH7AbxVKocjxSVdJcDCTZhgIzKV72Ms2qx85ztYmBhvlaq8Day/+CLtuvde+G7hCLCtJAEIN5VsVlQKBEAgDwEepIlom4nJYxiw12jAjsiZakTOFNGOX/nGl30/wBF4+ICATQTk+1hrcrLyA3bTI0JQvt5FOS1+4xvw3TY5K5Q1MwEIN5mR4QIQAIGqEujv7/dv+vPf/AqEGwg3sIEa2gBPi7x207W+L6iqv0O9qklAvo8tX74M4QbRNrWxAZ4KuOla+O5qejbUiglAuIEdgAAIgIBHQETb8BZr2iACo4joDaRhpx3JvgAOEgRsIiDbLta06V20ByJrzGAt279N/RZlBYE0BCDcpKGEc0AABGpBQL7hY8Bt54Ab7YZ2K8IGZF9QC+eHSlaGgGK7iDapTbQJhCNXOFLsvzK9GhUBAZcAhBtYAgiAAAh4BOQbfhGDP6QBEQE2YKcNyL4ADhIEbCKg2C6EGwg3NbMBxf5t6rgoKwikIADhJgUknAICIFAPAvINHwNuOwfcaDe0WxE2IPuCeng/1LIqBBTbrdmgHVEnZkxXKrMdFPuvSqdGPUDAIwDhBqYAAiAAAh4B+YZfxOAPaUBEgA3YaQOyL4CDBAGbCCi2C+EGETc1swHF/m3quCgrCKQgAOEmBSScAgIgUA8C8g0fA247B9xoN7RbETYg+4J6eD/UsioEFNut2aC9zEgP5G1GtI9i/1Xp1KgHCHgEINzAFEAABEDAIyDf8IsY/CENiAiwATttQPYFcJAgYBMBxXYh3CDipmY2oNi/TR0XZQWBFAQg3KSAhFNAAATqQUC+4WPAbeeAG+2GdivCBmRfUA/vh1pWhYBiuzUbtCPqxYyolzLbQbH/qnRq1AMEPAIQbmAKIAACIOARkG/4RQz+kAZEBNiAnTYg+wI4SBCwiYBiuxBuEHFTMxtQ7N+mjouygkAKAhBuUkDCKSAAAvUgIN/wMeC2c8CNdkO7FWEDsi+oh/dDLatCQLHdmg3ay4z0QN5mRPso9l+VTo16gIBHAMINTAEEQAAEPALyDb+IwR/SgIgAG7DTBmRfAAcJAjYRUGwXwg0ibmpmA4r929RxUVYQSEEAwk0KSDgFBECgHgTkGz4G3HYOuNFuaLcibED2BfXwfqhlVQgotluzQTuiXsyIeimzHRT7r0qnRj1AwCMA4QamAAIgAAIeAfmGX8TgD2lARIAN2GkDsi+AgwQBmwgotgvhBhE3NbMBxf5t6rgoKwikIADhJgUknAICIFAPAvINHwNuOwfc1Wq3S3T5lSv00tIlqla9zLct2RfUw/uhllUhoNhuzQbt6SI9lmiVuSwtQdSpoH0o9l+VTo16gIBHAMINTAEEQAAEPALyDd+kgfLl1iiNtc7Q5QvHaax53B3M84Ae/wplcHnpDJ0YahDbwe5WN8WSS05b7m5wXgN0YimsLS/RiZbX1kvH6cSFsHOwr1t9QPYFcJAgYBMBxXYrODBPJ85ETRlaoumpKU+4maLpmajzsu5fotWZKRp2fPogTS9lvb6Y81enmjQ+NeOUZbzp1bNmNqDYv00dF2UFgRQEINykgIRTQAAE6kFAvuF3a0CYOd0Lo9QYcgfwl1sDPRAVai4GLB0nFlS6K9y4jN32DBduzjXV/SzehQs8NW+vLomXsi+oh/dDLatCQLHdmg3ak0SduaYqqrDQUaTIsjo1SI2GmkdSmQo7PtOkxqAr1rjlaNDwVP2iihT7r0qnRj1AwCMA4QamAAIgAAIeAfmGn1lg6coA8pIbAeIJNy9xREjzOJ0LjdDIMYD3RIpG80yhkStmsIvhEVdvE4SbC6O0O9AmZ2hM2EFqW7tE5y64QhTbNqd5Lmra1YVRGouM6lHTCZ7HEURcvoYjMgbzuETnOGqMbffCGadMJ5oDNNY8Q5cVW75ELFiJfuhEmSnHedrYGTonBEy+PoxFbF1i7EJKS5SBt/iAgE0EFNs1QbhZ8iJRmjPdnZqUlM9Mk4YDZZihcU/sKEJAyS3cJJU9sR2XaHqw4Qs3tDRD080pmisp8qcIlnnTUOzfpo6LsoJACgJ4IkkBCaeAAAjUg4B8wzdDfDhDYxx6HRjEpxt8JtYhTsCQBrGJ6dh2bly9SxduXLEuKI5coXPNfJFAfF30lCy2JU8gTLAzFkzc6V2jdC6szS8cD4kKcgWdsAim8IgjryyRU8i88kZOGUxXlySbln1BPbwfalkVAortJg74i5miEzvI7liUSFnG2HxcYWM8ZGrUXLO4yJTyhJsZGneeFbosjplgTwllUOy/Kp0a9QABjwCEG5gCCIAACHgE5Bt+0sCumOM8yIwYBDsDYwg3xXDWhC6ThRueGteIsInQYxwNExF54okricLN0nE3WiZWLLlC53jNHacMEWJiQLjxRJSYSCG3bFp9vTzCxB7XHs5Er/mTsi5JdiX7AjhIELCJgGK7CYPcWMEl9bUsijRpLur8WEElpSgTlba8Py4fnkbUiChj6LElmpuZcdfCkfNI+A7hpsD2TGAdZbuK/dvUcVFWEEhBAMJNCkg4BQRAoB4E5Bt+0sCumOMxwg1PCRHTXIbEFBOxYK47dcWddsLTpwacaTDBaSM89YQXNnavP8HTVS5wGu7UFp6+4kRQ+OnzVBpJ5Fg6Q2M8paXllmVsaMC73jvHmbrlTW3haA1vKpdbnlGnXC5Tvq49LcZfBJhFq6Ur7kK93qLAbnQRL8zLU2s4woPzd+vtLs7s7ucIkrCoFLcM7mLOzI/LfMKpsxupwVN6YustR9w49QmWQ2n7JEYiMsVjtduZLnTcWXj4hDPlR13LxhEyooQOr2xyvV3hI0JISSncMJPLcr1FmbWtI9y84kb+cLvK5XCY6MKNJ8AEzpPTDRWCPMEyggPbQWjEzytsS+nqorShXB7vu+wL6uH9UMuqEFBsN+fgN2pQHL4/SrjhBXtnaG6q6S7aOzjliCEsiChTeJxpPe6iunMzUzQ+OEjTM/raLDz1R5wzQ9PeArzu+jTJ+XBUjVj/JVAHT/CRo3Gc85MiWJxyD9IwT0mamXIWPZ4OXeOGRaB23aebfI0QhZLLTutx1/PbsWac9J2FkX3GS85+zsuxB54i5k2fcvMXCxfHp+0suMxTsHwWvLhzk8a5Do1BGvfW0OHzxrl9nPwGSWbp807Vzp0LP4r9V6VTox4g4BGAcANTAAEQAAGPgHzDTxrYFXM8RrhxBpDhETfu4N4VPdxyuOepEQrBKSocLcFCjT+QThF54p8rlSeQj/NQx0INr5XjRVk40RviuxZRwWnpg3y/LCwyCYGKz+MIlAFX6JBEpdBIjVdcDkqZw8QDP6+QtX18AYPLIYlYohxSGV7yzlXy88oQxkjdJwQQWbjxeEVOWQq2c5oFq11Wcj5SvV5hUc4Vtdw3aoW0lSdmCOHmJa+OgcggrU3j8xVl8GxcE2ncayVb9crg2FfkG7/S1yWp/8q+AA4SBGwioNhuqcKNNwiPi4RZd6f4KAN9JwKmoQz+g9OZWCzSFgGOzMedJtUIrG8jRAK3DPJCvsmL+wavYYHCFXzUcrmiUVMSq0KujSy7lyZHNPnr1YRc73EM1tE9t9Fs0rRTf4+Ft4BytrKx+CQJak47DbqClV82wUCPbnLLkdTOvsjTgd0q9m9Tx0VZQSAFAQg3KSDhFBAAgXoQkG/4SQO7Yo7nEW6EGCIPaoODX3dArw7CxaKuvtAQI2CECyNhYoOXtzy9x4kW8sSXMOGEIyPEq679AXlIOo7Aw8JNMKIkbH2U0DKH1TFsnyiHOKYJCa6AJDMXLFTGbBe6YBFaLocBRyvJgorLQBd42raWJOwIMUTd6uVpp+cKaCJ6RYhAvn0IJt62LdwIQU1rF0W4iWhPLc220KdxFO2gi1hKHmo9WQxMWxeFQaBMV/wFktn28AEBmwjI97EiBsLJaURF3CQLN67QoQ3yAyJGuPASeCNU4LpoYUatU3j66jkiLXcbWu71dQpOlRJCiSxEeWKKvChyZNlTXp8k3MjTxJwIHRZgMqYtp8HCiiew6WJRkEGEmBNZZ5V1XDuEHVPs36aOi7KCQAoCeCJJAQmngAAI1IOAfMNPGtjlOs7TaoYGaLf8j9/2I//tTO0RA1Jv8KsPXnnQL0d+iAgIX2zwrvP/Fulp26jBcSA96bqAEJOUV9hxXqNEiqpxBs4RdfXy08WMoHAj8hn13lzE0RfuFK8TznQxKb/IevNbiyJeBx4oh8jPfVW7Yg8Ko+jzAnWIytsXFooWbvhtT3LUUXRZuX6KcOMLVJKYpYgq8Wm1eQkhUhNu/MgtdT+XNzglkO0zW13a+Uu27XOGcFMPj1/NWsr3sbCBbcf7lvhNTIM0LP9rNNS/nelO3gA8coAuBIxmewoVT6PiaUfOtKh2dIcrlLjTndqRJ9oAPyofb78cUaMyyCrciHKL6UbtcoSJFpzXqhSRQkJkSSXcuGknXi/SDEQVRZdVMMidtifc6FyDDEQZkttZlKmTrWL/1eziqFWNCUC4qXHjo+ogAAIqAfmGnzSwK+Y4D1rVgamarjf4DRFuxHnOejHSWjXOoDZOmJAGp0KkCLy1Ku76KAEjroz6Wi4cGaEITzx4jqhrID93oB0legTqItdXfI+rX5R4opcjLg3l3GgBI6oOukgl2tqPTolh3T63LUhERtws8Vo7QuByt+50KTkKSEonKUoqTLiRI7EEf2UbJdy0o3raPOIXJc5SlzBO8j7ZF6heAn+BgNkEFNvtYMpJ+sEzCx9a1Iycb4KgokdshOe7RHNivRZpbRXl3IR8dIGhfW33hRuR1yqv8yKt+bMqOEWVXRz3tpHXJwk3AUGnLTYlli0q7bTCTcq6iXJ0ulXs3+yuitKBQGYCEG4yI8MFIAACVSUg3/DlQVz3vucVbrxFh5si+kATB+JEBXnQHHVe1H6+VhElYgSXkHzEAFyN8hDCQEWFG8EyJPopINx44pXgFLQ7T+QoSLgJjV4JtK9on2DEjVM+73xHMFOEGyHIhItA7bpptivbjRDzPHZxixJnrUs7/3b95H2yL6iqv0O9qklAsV1t4N/poDj8+l4IN17kibN4cXuxXF/44HpGCgRuxEdhwo3IR46YEcJK1OLEzsK9YkFiEYEiReyINEMFFhateOHfmOujxJXI/UK46SBtCDfVdCColdEEINwY3TwoHAiAQC8JyA+88iCue9/zCDdhg3d98Kv/HT44jYy40QbMSv29gXp7HZQIwUUZgIt1Xzi6KCpqIiKdCCEhSvRohAgkSvm5XEJMCRNAvGMB8SRQjhjGCqPo84J1CGtbue3ctAJl01jr9Q2PuAmbrsZ5CcElGAmmT5US+bjpN2iseZxOSJFUbv2kqVRh5QxwlevLayGJdYD4TWPSdDclrex1EWWP2sq+oJc+CHmBQKcEFNs1WbgRokKIAKIKRPwmoxlq7/MiZHh6lvdWI+dYpPiRFFGTJOwIkUNsQ4SXSOEmLO+Q6zOVPeR6wTIg/HjnBvZzXVKWLSrttMKNuD6xnQXfzraK/XfamXA9CBhGAMKNYQ2C4oAACJRHQL7hRw3oit2fQ7hRRAExyA2KA+GDdXdg3n5rk3edJGA4r1P21y8JGbzza1VDFtRNnKIkBuj86nFl0K3VQSqLw1pcpw3a2wN6cb0Qh8IjPHi9m3bbRddbiDoBcSSkHC7jZEZR50XWQWcgeHmiUls0E+0pIq/aLNp1jeAiLeQrn8vfowSXKOHGn+am2AWXJWiXel5RbPzzhMjmvTre3y+Y8DZHXULTkdKUfUF5Hgk5g0B2AortmiDciIG7JB7wa8I5WsZdu0Z9C5MQaPi14e73JZpuStEpXKdQoSMoUij5SPmLPGTBR3njkfMKbhHhEhQSUi9O7IkbatrphBen7B1c79YxyMSve6dppxZu0rZzkLNf1gx2rNh/9u6DK0DAaAIQboxuHhQOBECglwTkG37SwK43x0MGvmIgKw3uL/MaN0MNUqNNQq7lBVybstCgR3iccdY8ceoWKhK4aaqihpePVJ5wNnpeusgQkU6IYMLph4keQnRhDvIaOvwGKzkSxI8q8cscrLdax7ApYu3IHVVICWHksVTTPEOh68k49ZXbSOIUcswVPrS3O0kCBLNyz5EFrUt0ohmyqLK4TtiYFr0ULdwIPnIeXrlD6+4ec15PHyfIOOVJspt8dQm30TZr2Rf00gchLxDolIBiuxkGvHkGyemu0SM7eJ0XT5QRAszglPS6a3470xRN+wv68vWauONdpwoiMfk4IkPEOjwhx/zFkBPEHiXiZ32Gpgf5hw2prKJ+Ujr8NqxhPk+JQIkoe+rrw8QgFkJihJusaUt1cNo9g3DjC22x7QzhptO+j+urTwDCTfXbGDUEARBISUB+4E0a2HX9+NIZOtHkaSLufP7dTRYj3Kki58R+fhsVCzFLbSGDp6v4ooWUhvvmKvdcpexLx2lsiN9sNepMdVGiYfgtWM0BGnMWsOXzBmhMfhuUlD6XUy6jkocnCLDApAooYnAv19XNw11kWYgbLEqN+m+i4rVOdntcGhIXJ0+pTKLO4XkG6+0s9MwCmJN2O7+XOE2xXyqHyC+WkSSGtDmPOkxFZIsrNIlpQCz8hAggnlilij+i3Ruk73f5X6JzEqvdzTN0TubD7SpNbXLrw29n8l7B7rQpR/NwOqMOc8cW9Gu8OrJdhrJ23vjk2tcJ501f3N4eA8EnbnthlFRxTAgsLNq4fWR36rqIa+O3ot/xFh8QsImAYrtGCDduhMz4IL95itdqmaI5uVy8YK+38LD7pqqmJNrwYJ6nSrlvmmLBh986xW+1Gp9pv3XKF5CW+FhYPixgSIKKlD+/BUkVYMRrvbWpWNI1Tn5KXk0an5rxXgcu3n7lls9fVJnfwtVsOgKVePOSw0IIVEp6bUaJ18+0+XHbDzPfpSUiiauyX6pHtrRd5s66Qpy2I1JxXZs07bXF6swUDfv3Zq8cIj+pPOHtDOHGJj+DspZDAE8k5XBHriAAAgYSkB943YFv/OAO52Tho7+uOcu1NTuXRRI/GkjUnV8lHxGJEyd64Jg0RU6wTN7KvsBAV4UigUAkAcV2xaAZW6KZJg3rUSMckRL3Rixwk9YWKkZY8UW2LrFV7D+yl+AACNhJAMKNne2GUoMACHSBgHzDhyiTPLhNZsRiA0cFnXEWBD5xoYg065EGT2mTo1c4Oic86qQePJJtrVgOsi/ogqtBkiDQNQKK7XZpcNztwXe30ue3M7WnYLmRNep0KzvEiW7xqUK6iv13rZchYRAohwCEm3K4I1cQAAEDCcg3/F4PFKuZHws3vP7KaHvtHESApIwAkdZu4els2uLM1bSXYsWXThjJvsBAV4UigUAkAcV2IdxoESPSQsc8NUl+KxVYaazsFLEU+4/sJTgAAnYSgHBjZ7uh1CAAAl0gIN/wOxn04VpzBuB2t8Ul4rV+LntrG9ldF7tsQvYFXXA1SBIEukZAsV2IESFixJLzRqtVXgcGfCrHQLH/rvUyJAwC5RCAcFMOd+QKAiBgIAH5ho9Bsl0DbbQX2qtIG5B9gYGuCkUCgUgCiu1CmKicMAGxKT4SSLH/yF6CAyBgJwEIN3a2G0oNAiDQBQLyDb/IQSDSgqgAG7DLBmRf0AVXgyRBoGsEFNuFcAPhpmY2oNh/13oZEgaBcghAuCmHO3IFARAwkIB8w8dA266BNtoL7VWkDci+wEBXhSKBQCQBxXZrNmhHNEp8NEod+Cj2H9lLcAAE7CQA4cbOdkOpQQAEukBAvuEXOQhEWhAVYAN22YDsC7rgapAkCHSNgGK7EG4QcVMzG1Dsv2u9DAmDQDkEINyUwx25ggAIGEhAvuFjoG3XQBvthfYq0gZkX2Cgq0KRQCCSgGK7NRu01yGiBHWMjypS7D+yl+AACNhJAMKNne2GUoMACHSBgHzDL3IQiLQgKsAG7LIB2Rd0wdUgSRDoGgHFdiHcIOKmZjag2H/XehkSBoFyCEC4KYc7cgUBEDCQgHzDx0DbroE22gvtVaQNyL7AQFeFIoFAJAHFdms2aEc0Snw0Sh34KPYf2UtwAATsJADhxs52Q6lBAAS6QEC+4Rc5CERaEBVgA3bZgOwLuuBqkCQIdI2AYrsQbhBxUzMbUOy/a70MCYNAOQQg3JTDHbmCAAgYSEC+4WOgbddAG+2F9irSBmRfYKCrQpFAIJKAYrs1G7TXIaIEdYyPKlLsP7KX4AAI2EkAwo2d7YZSgwAIdIGAfMMvchCItCAqwAbssgHZF3TB1SBJEOgaAcV2Idwg4qZmNqDYf9d6GRIGgXIIQLgphztyBQEQMJCAfMPHQNuugTbaC+1VpA3IvsBAV4UigUAkAcV2azZoRzRKfDRKHfgo9h/ZS3AABOwkAOHGznZDqUEABLpAQL7hFzkIRFoQFWADdtmA7Au64GqQJAh0jYBiuxBuEHFTMxtQ7L9rvQwJg0A5BCDclMMduYIACBhIYNOmTSRu+t/6wV8SBtt2DbbRXmivomxA+AHe4gMCNhGQ72NXv/99CBc1Ey7qEFUTV0f4bpu8FcqalQCeSLISw/kgAAKVJTAyMuILN1/4wxaEm1cgBBQlBCAde2yJRVvx8L9ly5bK+jtUrJoE5PvY2T/4Awg3EG5qYwMsVMJ3V9OvoVYuAQg3sAQQAAEQ8AhMTk76N/27791Bqy//AOINxBvYQM1s4NFfeq/vB/bv3w//CAJWEZDvY7vuvZc2Xn65NgP3uEgMHKv++jeHDh6E77bKW6GwWQlAuMlKDOeDAAhUlsDVq1dJDjMf+fl30F9feQED95oN3BEdY090TJFt9cMffZd++VfaD/78y+358+cr6+9QsWoS0O9j+9/5Tlq7cgXiTY8ib+YvXgTrHrEWYtz6iy9S81d+xRdt4Lur6dtQKyIIN7ACEAABEJAInD59Wrn5i7BbbBvg0gCDqvaDazddG7DvQ4cOSZ4BX0HAHgK4j8FXV9VX6/XadC18tz2eCSXtlACEm04J4noQAIHKEZiYmAgM4vSHBfyNB2PYQHVtgKdIrfOvxviAgKUEcB+rrn/CvSe6beG7LXVYKHYqAhBuUmHCSSAAAnUjsLi4SPwA0NfXBxEHkSawgZrYAC/sevbs2bq5O9S3ogRwH4se4EP8qBYb+O6KOjFUSyEA4UbBUZ8/ZmdniRewO/ToQRrZc7/yj/fxMZ7bv7GxUR8oqCkIgEDtCRw+fFgRaTBdpvYmAQAgAAIgEEtgeXnZv2/ws/MNN9zg/I01smKx4SAIgEBGAhBuMgKz+fT5+Xlqjo5R33XX04H+3TR5qTS0tgAAIABJREFU+7vp/N2P0cLAU8o/3sfHDt3+Ntp0zavpwMPvwS+QNjc8yg4CIJCKgP7wLaKt8PCdCh9OAgEQAIHaEeAfOHft2uUINUeOHHHqL9YY2rJlC62trdWOCSoMAiDQHQIQbrrD1ahUFxYWaO89A7R/6310dscHaP2BzxA99Gzqf7P3HqbmHW+n/ptvwRs2jGpZFAYEQKAoAvzwfdddd+HhuyigSAcEQAAEakBAvH69v79fiVLnqTs8HavZbNaAAqoIAiDQCwIQbnpBuaQ8WOV3pkHdejct7vlYaqEmStS5OvxJJwpn17YdxL9M4wMCIAACVSGAh++qtCTqAQIgAAK9IcDPwps2bXIEGo5qlz/ya9n1Y/J5+A4CIAACaQlAuElLyrLz+Gay9833OFOgooSYvPuXh47RyB07afbCRcuooLggAAIgECTA/vJa75Wi+gM2Hr6DvLAHBEAABECA/ClSUVE18pQpvKUOFgMCINApAQg3nRI08HoWVFhY4QiZvOJM0nU83erAHXvo1MnPGUgARQIBEACB9ATE+gR4+E7PDGeCAAiAQJ0JtFotJ9KG17GJE2UwZarOVoK6g0CxBCDcFMuz9NRYtNnfvyvzOjZJQk3U8SPbRqj1u8+UXm8UAARAAATyEMDDdx5quAYEQAAE6ktgZWUlcoqUTiXLufq1+BsEQAAEZAIQbmQaln93pkfdtp02Rj7btUibMAGHI28wbcpy40HxQaCGBLI8UGc5t4YoUWUQAAEQqA2BvXv3Zlp4WP6BgBfCxwcEQAAE8hCAcJOHmoHX8ELEvKZNN6dHhYk2vI+For23bceCxQbaBYoEAiAQTQAP39FscAQEQAAEQCBI4NSpU/4UqSyv+hb3G/HK8GDK2AMCIAAC8QQg3MTzseYov+67iDdHRYkzSftZMNp+6+3KqxCtgYeCggAI1I4AHr5r1+SoMAiAAAh0REBerP78+fOZ0pKjNhcWFjJdi5NBAARAgAlAuKmAHczOztKB/t09nR4VJuQc3fZOOvX5L1SAKKoAAiBQZQJ4+K5y66JuIAACINAdAmKh4UOHDuXKQEyZ6u/vxw+duQjiIhCoNwEINxVo/13bdhC/ojtMTOnlvrV9z1D/5jfhZlQBm0IVQKDKBPDwXeXWRd1AAARAoHgC8qu9s0yRkkvC69uItxhiypRMBt9BAATSEIBwk4aSwefki7b5eroanX8+sxjUessv0sRv/na69HEWCIAACPSYAB6+ewwc2YEACICA5QRYqNm0aZOztk3WKVJ61flFIiItTJnS6eBvEACBOAIQbuLoWHDs0KMH6fzdj2UUWFIKNy98PWO6zzqLI/fffIsF5FBEEACBuhHAw3fdWhz1BQEQAIHOCezfv98RbXhbxGdyctJJb/v27YhSLwIo0gCBmhCAcGNxQ3PIZd9rXpvj9d8phZscETc8NWv7G28lXoQNHxAAARAwiQAevk1qDZQFBEAABMwncPbsWUdk6evro7xTpPRaylOmJiYm9MP4GwRAAARCCUC4CcVix04O1zx0+9syR8XQQ7Jws5rj+mdjr5nY9i5qffozdkBEKUEABGpBAA/ftWhmVBIEQAAECiPAQg0LNo1Gg/geUuSHp0xxuvxvcXGxyKSRFgiAQEUJQLixuGGPHH6CTt/1vlgRJXxx4u4KN/P3jdP+fQ9aTBZFBwEQqBIBPHxXqTVRFxAAARDoDYEDBw744ooQWbqxxZSp3rQncgEB2wlAuLG4BQ88/B6avfewccINv+GK33SFDwiAAAiYQAAP3ya0AsoAAiAAAvYQ4Kj2bog0UWliypQ9toGSgkBZBCDclEW+gHz33jNAi3s+1qFwoxfkx0QvfJvoyfjpUOGRPO41/FrwLTfepCeMv0EABECg5wTw8N1z5MgQBEAABGpJgN8SJYSZWgJApUEABLpKAMJNV/F2N3F+e9PV4U8WLNxIZZ7KL97wjQsfEAABELCRAB68bWw1lBkEQAAEyiUA4aZc/sgdBKpOAKNri1uYo1o4uiUu+iX8mLzGTRyAH+eOvIFwE8cVx0AABEwmAOHG5NZB2UAABEDATAIQbsxsF5QKBKpCAMKNxS3J68jwejLh4kxStMzzweue/DbRSxqQHK8EX3/gM9R33fVaQvgTBEAABOwgAOHGjnZCKUEABEDAJAIQbkxqDZQFBKpHAMKNxW3Kb27iNzjlE24ihB0Wb+TPC1/PnP7K3gnavvUOORV8BwEQAAFrCEC4saapUFAQAAEQMIaAEG5GRkaMKRMKAgIgUB0CEG4sbsvm6Bid3fGBzMJKvNCjTaPKIdwsDDxFI3vut5gsig4CIFBnAhBu6tz6qDsIgAAI5CMA4SYfN1wFAiCQjgCEm3ScjDzr9OnTdOSOB4oVbvSImxxTpU5tO0BHn/41I5mhUCAAAiCQRADCTRIhHAcBEAABEAgjgPtHGBXsAwEQKIIAhJsiKJaUxtraGm25/vXZhZsXyHvlt7bOzZQ2TYryLU48cuvdxL864AMCIAACNhLAg7eNrYYygwAIgED5BHD/KL8NUAIQqCoBCDeWt+zeewZocc/Hsok3LNyk+eSYJoWFidOAxTkgAAImE8CDt8mtg7KBAAiAgJkExFQpvofgAwIgAAJFE4BnKZpoj9M79fkv0NFt7yxeuMkh2vDaObzmDq+9gw8IgAAI2EoAwo2tLYdygwAIgEB5BCDclMceOYNAHQhAuLG8lTc2Nqh/85tobd8z2cQbnhb10o+12v84fArVQxFvoArZv2vL7bS8vKyliz9BAARAwB4CEG7saSuUFARAAARMIQDhxpSWQDlAoJoErBFuVlZW6NSpU3To0CHi1+xt376dxMN13bc/2fgJem9jK/1F45FS//1qYwdtavxk7dply5Ytjk3u37+fJicnaXFxsZreArUCgZoQEPeUmlQX1QQBEAABECiAAISbAiAiCRAAgUgCxgs3/OYkiDSNRDHkNY1X0YXGw6UJN/ONX6DrG9ckllMMiKq+ZTFnYmKC1tfXIzsfDoAACJhJQPgnM0uHUoEACIAACJhIQAg3/AMzPiAAAiBQNAFjhRt2fhBskgUbMcB4VeMn6O7GjcQCShmRNw823kTX1jDaRvCP2vb19RGLj/iAAAjYQ0D0Z3tKjJKCAAiAAAiUTQDCTdktgPxBoNoEjBRueEqUeHAW202bXk2H3vcuOv+fpmjh639Ei39xlujvv4d/EoPT//7jdGTbMNHPPdPTf6d2vJeONt9f27ZY+d5Fxybn/5//QEce/yXacvMbAvbLU/x4PSJ8QAAEzCcg7jvmlxQlBAEQAAEQMIkA7h8mtQbKAgLVImCccNNsNpVBLws2k58Yp/X/uVBbYSCLQMUCSuuud/VMuJkf+BDt37sHbSMJaNxeZ09PBgScvXv3Qryplv9EbSpKAA/eFW1YVAsEQAAEukwA948uA0byIFBjAkYJN61WSxFt9g7eS2urfw5RQBMFkoScI6OP9iTyhiNtWLTZ+NtvoY1C2oi5cASOuInz9sCBAzV2N6g6CNhBQPRZO0qLUoIACIAACJhAQEyV4nsIPiAAAiBQNAFjPIvs7NjhNcd+EYJAiBiQJNqI4zxtauSWbbT+9k8UHn2z8Y7fdYShOk+PEpzTbE+d/E1FvOGpgPiAAAiYSwDCjbltg5KBAAiAgKkE5LGMqWVEuUAABOwlYIRww2t/yAsRj7xjN0SbDkQbISbwWkD9b3ijM3WKxZYi1r45e9cB6n/9TcTCkMgH2+S1lo4+9Su+eLNp0yZaW1uz12ug5CBQcQIQbirewKgeCIAACHSBAISbLkBFkiAAAj4BI4QbeTFiXtMG06OShYC0YgmvDTTx1GOO2MKiS54IHBZ9zu94H+3afBs1D74H7ZNDVONpUzz1TwwIMWXK90H4AgLGERD91LiCoUAgAAIgAALGEoBwY2zToGAgUAkCRgg3/f39/oCWp5WkFSVwXnqBh8UwFl36XnOdM4Xq1J37aeG+w7R2/28HInF4Hx87ve0ROrD1Xtp0zTV06BceouW/+s9omxyijbBT5icGhLy9evVqJZwIKgECVSMg+mnV6oX6gAAIgAAIdI+AEG5GRka6lwlSBgEQqC2B0oWbxcVFfzDbd8P1mCLVgTAgBIKkLU+hOvrkKI0M7KQtfX0+fzFY4X187MgHD9Dsf/48xJoC24SnAQrOp0+frq3jQcVBwGQCoo+aXEaUDQRAwHwCPJCX/4kfbHgr7xffcdz9QctWPmfPnnWe8X72Z3820L7r6+uOwS4vLweOcfvjOPiwgej2sbKyYr6jQwl7RqB04WZyctIfyPKCxEmiA46nj7IBK/NYyQsVY7pUz/wcMgKBTAQg3GTChZNBAAQiCAhfIrb8zMsf+dlXHOMtjtvPR25P+TuLM/zhaBx5v/iO4+ATZh/NZtOxG/wHAkygdOGGB6/CaSG6wzyhAeJPsW2y8r2Lvr3zFEF8QAAEzCMg7knmlQwlAgEQsImA8CU8WOd/HJHBH96KffIWx+3nI7en/J0jKfhz9OjR0LbHcfCR7UO8tAfCjdNt8J9HoHThZteuXf5AFmuoFCsSQHQxk6d4kOO3S+EDAiBgHgHRR80rGUoEAiBgEwH4EptaC2UFAXMIiGl3EG7MaRMTSlK6cLNlyxZfuLn6w/+KqVIFrqcC4cZM4YbXcsLDnAnuD2UAgXAC6J/hXLAXBEAgGwGxdk22q3A2CIBA3Qmsra05ayFhjZu6W4Ja/9KFG/GAzFsIDWYKDWiXYttFsXm1P+IvEAABAwiIPmpAUVAEEAABEAABEAABEAABECh/jRvxgAzhplhxAGKLuTwVm4cTAgEQMI6A6KPGFQwFAgEQsIqAWOPEqkKjsCAAAqUTmJ+fd9ZCarVapZcFBTCHACJuMDUJkU49tgExKHTESnN8AUoCAiDgERB9FEBAAARAoBMC8CWd0MO1IFBfAljjpr5tH1dzCDc9HrQjEsbcSJhetY14kINwE+eacAwEyiMg+mh5JUDOIAACVSAAX1KFVkQdQKD3BCDc9J65DTlCuIFwg4ibHtuAeJCDcGODi0QZ60hA9NE61h11BgEQKI4AfElxLJESCNSJAISbOrV2+rpCuOnxoL1XUR3Ix9zIHvEgB+EmvaPCmSDQSwKij/YyT+QFAiBQPQLwJdVrU9QIBHpBAMJNLyjblweEGwg3iLjpsQ2IBzkIN/Y5TJS4HgREH61HbVFLEACBbhGAL+kWWaQLAtUmAOGm2u2bt3YQbno8aEckjLmRML1qG/EgB+Emr9vCdSDQXQKij3Y3F6QOAiBQdQILCwvE//ABARAAgSwE1tbWHN+xsrKS5TKcW3ECEG4g3CDipsc2IAaFEG4q7l1RPWsJiD5qbQVQcBAAARAAARAAARAAgUoRgHDT40F7r6I6kI+5kT1iUAjhplK+FJWpEAHRRytUJVQFBECgBAIjIyPE//ABARAAgSwE5ufnHd/RarWyXIZzK04Awg2EG0Tc9NgGxKAQwk3FvSuqZy0B0UetrQAKDgIgYAQB+BIjmgGFAAHrCGCNG+uarCcFhnDT40E7ImHMjYTpVduIBzkINz3xccgEBDITEH0084W4AARAAAQkAvAlEgx8BQEQSE0Awk1qVLU6EcINhBtE3PTYBsSDHISbWvlaVNYiAqKPWlRkK4o6OztLk5OTdOjRgzSy537lH+/jY+fPn6eNjQ0r6oNCgkASAfiSJEI4DgIgEEYAwk0YFeyDcNPjQXuvojqQj7mRPeJBDsINHDAImElA9FEzS2dXqXiefnN0jPquu54O9O+mydvfTefvfowWBp5S/vE+Pnbo9rfRpmteTQcefg/xgys+IGAzAfgSm1sPZQeB8ghAuCmPvck5Q7iBcIOImx7bgHiQg3BjsmtE2epMQPTROjPotO78CuS99wzQ/q330dkdH6D1Bz5D9NCzqf/N3nuYmne8nfpvvsWJwum0PLgeBMogAF9SBnXkCQL2E4BwY38bdqMGEG56PGhHJIy5kTC9ahvxIAfhphsuDWmCQOcERB/tPKX6pbC2tuZOgbr1blrc87HUQk2UqHN1+JNOFM6ubTtoeXm5fkBRY6sJsIDJ//ABARAAgSwE+F7KvmNlZSXLZTi34gQg3EC4QcRNj21ADAoh3FTcu6J61hIQfdTaCpRUcBZW9r75HmcKVJQQk3f/8tAxGrljJ81euFhS7ZAtCIAACIAACIAACJRHAMJNjwftvYrqQD7mRvaIQSGEm/IcH3IGgTgCoo/GnYNjKgEWVFhY4QiZvOJM0nU83erAHXvo1MnPqZnjLxAwlMDIyAjxP3xAAARAIAsBXh+OfUer1cpyGc6tOAEINxBuEHHTYxsQg0IINxX3rqietQREH7W2Aj0uOIs2+/t3ZV7HJkmoiTp+ZNsItX73mR7XEtmBQHYC8CXZmdl6Bd6aZ2vLmVlurHFjZruUXSoINz0etCMSxtxImF61jXiQg3BTtvtD/iAQTkD00fCj2CsTcKZH3badNkY+27VImzABhyNvMG1Kbgl8N5EAfImJrVJcmfDWvOJYIiWVAIQblQf+cglAuIFwg4ibHtuAeJCDcAM3DAJmEhB91MzSmVMqXjyR17Tp5vSoMNGG97FQtPe27Viw2BxzQElCCMCXhECpwC68Na8CjWh4FSDcGN5AJRUPwk2PB+29iupAPuZG9ogHOQg3JXk9ZAsCCQREH004rfaH+XXfRbw5KkqcSdrPgtH2W2+njY2N2rcFAJhJAL7EzHbJWyq8NS8vOVyXlQCEm6zE6nE+hBsIN4i46bENiAc5CDf1cLKopX0ERB+1r+S9KzGv53Cgf3dPp0eFCTlHt72TTn3+C72rOHICgQwE4EsywDL8VLw1z/AGqljxINxUrEELqg6Emx4P2hEJY24kTK/aRjzIQbgpyIshGRAomIDoowUnW6nkdm3bQfyK7jAxpZf71vY9Q/2b34Som0pZV3Uqw1Nq+B8+dhPAW/Psbj8bS8/RXew7VlZWbCw+ytwlAhBuINwg4qbHNiAGhRBuuuTVkCwIdEhA9NEOk6ns5YVF27zwY43Rj4mefDazGNR6yy/SxG/+tpYW/gQBEACBzgngrXmdM0QKIAACxRCAcNPjQXuvojqQj7mRPWJQCOGmGCeGVECgaAKijxadblXSO/ToQTp/92OZBRYlEmdqNQRHPuGG17rpv/mWkPSwCwTKJTAyMkL8Dx87CeCteXa2WxVKzW8sY9/RarWqUB3UoSACEG4g3CDipsc2IAaFEG4K8mJIBgQKJiD6aMHJViI5Xgi47zWv7fD131+PYJFPuGFBaPsbb0VIeQRV7C6PAHxJeew7zRlvzeuUIK7vhADWuOmEXnWvhXDT40E7ImHMjYTpVduIBzkIN9V1rKiZ3QREH7W7Ft0p/fnz5+nQ7W/rLNrmBals578t/ZFfuJnY9i5qffozUlr4CgLlE4AvKb8N8pYAb83LSw7XFUEAwk0RFKuXBoQbCDeIuOmxDYgHOQg31XOoqFE1CIg+Wo3aFFuLI4efoNN3vS+/cPOkLNSsEj0kR9/kF27m7xun/fseLLaySA0EOiQAX9IhwJIuL2wdr4eyr9klTynFW/NKMgADsoVwY0AjGFgECDc9HrT3KqoD+Zgb2SMe5CDcGOgRUSQQICLRRwEjSODAw++h2XsP5xRunid6SUpzigc1xQg3/IYrftMVPiBgEgH4EpNaI31Zcr0178nnic6vEr2kLbrOf5//ei6fibfmpW+zqp0J4aZqLVpMfSDcQLhBxE2PbUA8yEG4KcaJIRUQKJqA6KNFp1uF9DqaPnBeGtC8IAYyxQg3PMDZcuNNVUCMOlSIAHyJfY2ZK9omdLF1re4vcYRh9ggcvDVP41iTPyHc1KShM1YTwk2PB+2IhDE3EqZXbSMe5CDcZPRWJZzO63kcPXqU9u7d60dhyO2H7w1wadSLwU81XkV/2niI/qLxSLZ/wxfoH/w+/D/p6rC4/gv0v0L3i+Ppt530x+3bt1Oz2aTTp0/T+vq6XyJ8AYFOCCwsLBD/w8ceArnemieL0nFV9QXr9AIO3poXB7S6x3hxbPYdKysr1a0kapaZAIQbCDeIuOmxDciDi8w9Fhf0hIDzNgmINRBlaibKyL4p6vu1jZ+kC42Hs4k2jUfoh3PtrvsP078uXW+GcCPXd8uWLbS4uNguML6BAAjUgkDut+ZxxA1PiZp6Xoqq0aaGOgTzRd3grXm1MD9UEgQSCUC46fGgvVdRHcjH3MgeeYCQ2ENxQs8JXL16lfr6+iBaQLSADYTYwHWNa+iPGg9IwkuKiBg52mb1An1bidYpRrj5s8a76ZrGvyq0zXjKBD4g0AmBkZER4n/42EGgkLfmydOhlMXYmUE+4QZvzbPDfoos5fz8vOM7Wq1WkckiLcsJQLixUriZpdVlc4UJiEbxbQPhxmyvqU+LevwjH6LnL/4x/fBH36WXXrmCf2BQaxt48P699Gf3fIg2Hvh06n//+Kd/l7HT/x398+Pp0+ey/I89H6Ntt96Wq21WX/4BfflrX6KJyWP0uhte54s/HHnD0Xf4gEBeAuJ+n/d6XNdbAh2/NU8Wbfh7QcIN3prXWzswITescWNCK5hXBgg3tgg3y7M0fXin/0DZOPwcpjjZ0nZaOcWDHG/xMYuAuFFy21y76VpnMAexBmIVbKBtA+8/+Ch98a6DqUUbFlV6Idz8+c7HaXhgIJdwI7fvt37wl/TGm2/y77UTExNmOSmUxioC4n5vVaFrXNjO3poXsm6NvmhxjjVueEFjvDWvfkYpnkd57TV8QEAQKH3kKG5qziBWG+AiciMYuTF32FsIE8KNtcKVYvOiJ2JrBAG+QYr2+Y2Jj3Y8CJQHhPjeHvyDhb0spp49QU/0359JuNn49N9k7N/ZI24+d+cv0BNPPlZIn/2Pf/Ks7wc4Ag8fEMhLQNxP8l6P63pLoKO35unRNg/pa9z8mOjJEHEncF3wHLw1r7d2YEJuEG5MaAXzygDhJlIs4giXgzQ+JL0xZGgnjfM+5d9OGnbWAThIc5FpBQWYvKLU6kkv6gbCDYQb8/yJ9SXiN8uIB22eOgGBwV6BAW3Xnbb76ysv0Obr+7IJN7HTqmbp//ieI7tgI6ZsveOWtxQWIcfTIoUf2LRpk186fAGBrASEHWW9DueXQ6D/5luI3+KU57XdgWv0N03ljLYR6bIt4VMfAhBu6tPWWWpauhcQNzXHIfVA+MgsmCwf84SZBo1fjBBg+JyhY7Tag/JDuIlogx6wz2w7EWVSbD5Lb8W5XScgtw2ve4HBf3cG/+BqN9fdb30r/bddv1qQeNO5cPPy8CfphtdcV2h/lX1B1x1PDzPgxVePHj1K+lpecn3xXfrBLmSBbvAxlw//+MKRs6dPn6b19fXMPWvLjTcRR7cIsST3VhdtXvp2x2my3ZX5ge8w1+7hkzpvm059R6/6ZrlegMj/VctxSBED3aIGzPnSeY7GnRv3TpqOXBCYo3Mg3OTja78Qk7XesoPtVUdHPukIyG0DccFucQHt1732m/zUBH30zncYI9zwmju89k6RbS77gnTew+yzeJFliDWdP9zLdoHvZvPkxcUXFxczdcxd23Y468nkFmx42pO+rk0Bos36A5+hvuuuz1SXok6G7zDbzuGHim+fPL6jqP6WlA6Em0SxKI1w8z1aXZ7tydSd4iNuZmMihfD2qqyiTNL5G3/7LVWsTOqhON5TAvINsMhBINLqnogAtr1ny9Fot920mV7cO1GAeNN5xM29m7fS/De/AuEmwltevXqV+vr6lHuP7OvwvfgHfzA1h+ns7GxEzwju3r/vQeI3OOUWbrog2nBZVvZO0PatdwQL3OU98B3m2DF8Su/bIovv6HJX9JOHcJNbuHmOpk9GiDUXD/rTq5yO5q1Hs3rxGI0P7aRhb92c4dgonVmaO8znSuvqnJylIoSb1WW3HMIJKFPAlp9LfnuVd/344WM0d/IYOdvl79HqyYPhUUlemlzfacGAr5UjmCLemsVpDh92eQ5bvq4Pizb7f35YeXjOE8rr994afuE5v938iD7BWwgCvRcEwNwe5sVG3WR79bdY14a3n3vLI/TEhz9YeH+VfUE3fU4v0tYjbY5+5CM0f/Eirb/4IhFPJ8E/MKiADWy8/DItfPWr1JqcpL4bbvCftfjXc44aSfNpjo7R2R0fyCfcdEm0YeFmYeApGtlzf5oqFHoOfAf8Yx3uD0X4jkI7XkxiEG7yCjcsXkQJN06aszQtFjY+/FxA1Fi9eNC9qYSJEWJdHX3dHEcw8RTHsOsS6yJPSxKRROFr90S+vcormyL2/D2LNrxocsgCzd75wworwSY4/UzO1xeCBKtGeFmTolxMOC6LNvzLZ39/v9P+u3btyjUPO6ZPV/oQD6b2799PKysrXamnPFiDiGCPiIC26n1bFRt1k0+4Wd93gra+/o3ECyYXbQOyL+iKs+lRomKBS67PpmuvdQa2dXgQRx3rPeC8+v3v05bNm33xZmJiIlWP47VxjtzxQHbh5slvq+kXMD1Kjvo5te0AHX3619Q8uvwXfEe9+1BdfWhe39Hl7ugnD+EmUewQAocmMnBUjSJGyKKI+92Pjhk6SNP6wsZCnAmIHdGiBgsQfpodCzcin3AxJCofd7/GwmHInHThRuSh74+uh58vRxoJvj6rsHyD3E0QauQy6KLN8vIycfgpxBvfD6X+IgZT/KaXVquV+rq0J4r0eVv0QBDp9V5cAPPuMv/Sf/kiPXLnALGAIkfB9Or7E9v20dTJf9eVvir7grT+w8TzeKFWUZfJ3/kdRJZUILKkrgOqrPU+/yd/4ts+R46k+XBkzpbrX59duHkhTereOTneLjVy6920sLCQIZPOT4XvgHCTtc9V5fw8vqPzHpcuBQg3uYQbV5BILdwEBA0WG6IFIechS4+28crpCxulCjcNaoTkP3eeV1ONAAAgAElEQVRYE2hEpEzIuSSOaWz8+mn76e/j1uIxV7wJE21E14R4I0ik34oBiNjyw1iR0TciXd5i0N/dQT/4VoMvCycsoPRKrBH5fHbHL9KTHxrrWj+VfUF6D2XemfymDFEXnkZSlQdr1AODyiQb4KmAwvb5x560n733DNDino9lE2+6KNyUtTAxfAf6WFIfq+rxvL4jrY/p5DwIN6mFm4az3gyvOeOvUSMiQiLS8EWIMOEiQriRpwrJURvie3yaWQQMEQ2TLeKmLbg0iNesUdap0Tj4dXGYuev1uPzk76rY49cvQrgSHGzYxok2otNCvBEk0m3FQ9j8/DzxvHX+u8joG5E+byEsVENYQDt2vx1ZQPm9u97TM/HmzwYO04Nve1tX+6jsC9J5JzPPkuvB8/ir+qCNemGQGWYDsv2n7aGnPv8FOrrtncYIN7zmDq+90+uPzA6+A/0rrH9VeZ9s/73ue3H5QbjRxIagIBAeGcMCQ+qIm9TCTVtMiUrbFzZC0uQ3W8X9U+vWzktfr4bPi83HWc9GrO69k8Yvhi3S3E4/qi5qeVzRKS7fsPNN3ZdGtBEdE+KNIJG8FY6Uz+SFneVQXo6+4WlonXxE+rzFgL/7A34wrg7jx97/Sz2JvOFIGxZteI2dbtqP7As68SllX6vUA9OEIFzVzAYU+0/ZGTc2Nqh/85tobd8z2cQbfhV4F/7t2nJ7x882KauunKawq5ndVFmQQN3SiXCK/Ss9o9w/INzkFG4ocXHiePEjfKpUstgRKWz4U4+EoBLcqgJNOy91f0oBRV4oueFG36wqLNvp1024ySLaiO4P8UaQiN8KRyqfxfO+5ZBeXoSQH7zyfET6vO3moBBpV0ewQFu225KnTb3jlrfQy8OfLDz6htfR4SlZ3ZweJbel7Avy+BJTrlHqgcEXhJua2YBi/xk6Za6omy6INqe2H6SjR57OUPLiTlXY1cxuIG6kEzeqzEmx/+K6VccpQbhRxIawqUbhETcsvEyffI7iIj4iRRYnz7B0k8WOuDTjom34mFrWdl65hBunDu4ry33jVqY3tdOvk3CTR7QRvRjijSARvRW2pp/BQg0LNuI4CzmLi4v6aYl/i+t5Kw/i8L09OAcLsIizgS9/7Uu09Q2bnalTRS1a/MW7Djpvj+rWQsRh9ZF9QaLjMPgEpR4YfEG4qZkNKPafoZ+aEHWzMfJZ6n9D+leZZ6heqlMVdjWzmyoLEqhbOlFKsf9UPaY3J0G4yS3caCLP8rHAm6PiRJbwiJvvkb8uTMhUKBZe4tPUyhRbt7awkkW4WT15jOa0dP1Xm3PkjbTuT1JdVCEpZaSPlndYGmXt60S0Ed0d4o0gEb4VjjT8KDliTSfRNyJ93oYN5rAPokV+G7hEJ4ZEJOQAjV2oLssf/ui79PRHPuyILSy65InAYdHn+R3vp3s3b6X3H3y0K6/8jmtL2RdE+Rsb9iv1wOALwk3NbECx/4wddv6rX6MD295GLKB0YwpUUppH7nqQTk//fsZSF3e6wq5mdgNxI524UWVOiv0X1606TgnCTaIQEBYZEyKQXDxIugASL7KEp+tfo0SvtPPzj0cIO+lFi3jhJkp0WT15kKaX2+UR+YWd75c18IYo6frl50ieYuVf03H9pDwS27jzc4sQbURvhngjSAS3wpEGj7T3dBJ9I9LnbdygDseqKzp0q20vtwb8iDDHzoaO0+VXqs3xr6+84IguN7zmOmcK1efu/AX6852P04t7JwJTqXgfH/sP2x6lX9y6k6695tX0r9/zLpr/5ldK6YuyL2h7F/u+KfXA4AvCTc1sQLH/HN2XhRMWUJJElqKPn7rnfXT0yadylLi4SxR2NbObKgsSqFs6UUqx/+K6VccpQbhJHNSHCyxCsBBbFi6KEG547ZzhBv8quzNEIGmLLWGv4xZlSbsVYotebicaaGinO8jQBBQWVuSoGpGXEFzUY4KdGokjrnHyCUnf6Sza/vY1nYssRadVpGgjejTEG0FC3QpHqu4N/4unSsnRN0eOHHEWNA4/290r0udttwbwxqe7dInOtUZptxcdsrs5SmNN/nuAdjfP0OUlFhvO0InWpfoyyiG41FG4kW2dp1A98eRjNDwwQJv7blRFrEbD2cfHHhv7ZTrzp39Qum3JviDOZ5h+TKkHBl8QbmpmA4r95+ysLKC0dvzrnok383s+QvvfPpKztMVdprCrmd1A3EgnblSZk2L/xXWrjlOCcJMk3PhCSlCY8QUA7xxdABFiRrjIIkSNoEDjX6dF3XC0y/jhcEHFL0tSfeTj3oLGqtjyPZo7+RzNiTdHaQKKK/aor/CmvxeCkr7/e9QWoli8aUfXrC4/R+NDwfOj6p6rfnJdu/S9G6KN6NUQbwSJ9lY40vae+G969A2/QpxfJR71EenzVh501uX7ZRZsHOG44Yo0mkBx+cJx2t0YoLHmAO2GcJPRRuozVaoK/UX2BVH+wob9Sj0w+IJwUzMbUOy/gw575IOHexJ5w5E2LNrws0vZH4VdzeymyoIE6pZOlFLsv+zOKOUP4SZyQD9L04cP0ri/JkGDGkM7aZz3Kf88IUVe32V5lqZPHvQiZ9w1DYYPH6NVb4rRqvZGpsbQQZo+OatOGbp4zM97eGgnDR92pyj5wob3Jqe5kGlLWUQOFoOGG5z+MZq7+BzNXXTLEZXP3OGDNOeILsziGM2d5HJ610eVZfk5mj68U+PRFnGc8jIz7RzmMi6JPVnq1YtzuynaiD4K8UaQcLfCkap7k//i6Bt+Xbi4nl8jzq8T1z/iOG+rMPjMUodzTbH+SoMazTPR9V9i8aYB4UYTtbKwxrnmTxGTfYHuJ2z6W6kHBl8QbmpmA4r9d9hxedrUyK130/oDnyk8+obX0eEpWWVPj5IRKexqZjcQN9KJG1XmpNi/3DFK/g7hJlK4MW9KTi/ECOSRrt17IdoI3wDxRpAgX3hp78n2rdVq0aZNm5x0wqJvZEddp8G1Oo1ngE4406GiB9d8PiJuovkk2s7SJW/KWQdpQDiKFhcLYCP7gmxexqyzlXpg8AXhpmY2oNh/AV1zYWGB+m/6aWfqVFGLFp/d8QHn7VFlLkQchkZhVzO7qbIggbqlE6UU+w/rICXtg3AD4UZ7TXg64aLOAk8vRRvhF2TxRnYmdf0uuOTZrqysUF9fny8CTU5O+snIPBMH3wUMDs3I4wyNedOjnPqnWTT3wmi4cLN0hk7wNCqeTtU6TmNDA9QY4u9nAgvxqmKRG+3jikGXnDTabcFvYBLr6Vyic076IjqIBSQt7SXOVxyX0l0645ZH1HVoNFyg8tb44XV9nH9irZ+hUTonC1pOehH5NMVCxN7bo6LO1W3ILyOvJ+Tl3zxO53h/WBRUgbzFFDnm7qxlpJetZn+37a/0xyTfP+X5otQDgy8INzWzAcX+83SgkGs4Wnfi6DFHbGHRJU8EDos+5+9+jHZtuZ2ao2O0trYWklO5uxR2NbMbiBvpxI0qc1Lsv9yuqORe+hOJAgYiCkQUC2zg6g//K/VvfZMz8N+1a1folBullxXwB8933r9/vy82yP2mjt/zIuUpU9xmgtnExIQyl1zs560Zokr3IzICAkqYQKAP2lkc0da4kdNpv+paWteFhQ8tncsXRv22YOa7W8fpBC+AzOd5U7JEm4xdYFGIRQw+popNgegf7VoWQU544o+7To8QXLTXcvvXyfvlvPRoJPkYCx6jDheZRaMh6q2dq/GT66vWx7tOaxc5j455p2GqtV3V+4ewO97a/FHqgcEXhJua2YBi/wV3ZBZbWHTpu+56ZwrVqW0HaGHgKVrb90xgKhXv42On73ofHejfTZuueTUdevQgLS8vF1yq4pJT2NXMbqosSKBu6UQpxf6L61Ydp1T6E4kCxoJBe50jTVD3djRSL8UbWbThSBGTb/Qde6SEBIS/SDgtcFhfpJjfNsUijv4R6fO26gNTt36SsCIWJdYFhTQDdl/wYEFECBWe6CSLM4FoHlXMaCjHtbJpwo+yJo9yHeerpauJHlHXKvv9eqjlUEUV9Zgof/Z0rpB8jZrHFXqJGcp16ApvtQyiLvXoB0GBVPYFup+w6W+lHhh8QbipmQ0o9t/FjstTqI4+/Ws0sud+2nLjTcoPElwG3sfHjhx+gmZnZ7tYkuKSVtjVzG4gbqQTN6rMSbH/4rpVxylBuIFYhCifnDbQC/EGoo3q44QjVffG/6W/FlyPspGvFunzth4DVk14aDSoHb0RHMxGMZFFB0VgCETO6BErWv6yOPFK3LErJEecBEUGVbgJFULElKlGu0xKPXwxKK4cEcckYaWdt3puez9zVo8FxC8WoiQ2Sjml/U77SHk3pLq5baflo10bzzS9PUTZiU37ZV8g+wjbviv1wOALwk3NbECxf9s6b8nlVdjVzG6qLEigbulEKcX+S+6LcvYQbnIO2hF90o4+qTOLboo3EG1kV+V+F440eCS4J22UjXylSJ+3Ng0y85dVFTi43tmFGy0NTQzQo1/iBIu4Y7ogFC8yqGVS0w2bhiVECV5fh9eW8aZkOdFGcWKHeiyQjxKtFH+uUh9HVGoLSty+l5fEOj9q3XQu+XkniWGCUT22si+QfYRt35V6WDn4WqK5qabyVkq3ToM0PjVDq6JOSzM03RxUzxscpOmpGRofFFMjpe1gk+bEtetLNNccDERJNAabND2z1BZ7vDzaTAdpeindICB6sLRE080mjTfdOg5PSfn55es0j6jry8w7qkzF7m+3VenDHdtch9Ifou232PbqTT4zNO7cY2UfEFaPoO8Znwk7j/e55/q+Rvcdcl9e8tIdHKTx5hTNzXi+a3CQhvnvMJ+yFO3HpqeW2n5Q5KP7Ki5PWLrO+Wl5RNW9mvtN9R2lezIFDEQURL9YaAPdEG8g2oQ/4wh/EX60vTdLlE37qvZbqzif/GKITQNbTQQoQLgJihdaHoqwEydmqMd0gUIROvzoGMFezTNQJiUqJf7V5rwOj7xwr1oOtYyBfDIIN7rgImw9mGZC3WKnicWXN56pYFuPreDPW5s/Sj3EQ72F29UpVViJEjjEeeOy4LIuBiZt4SY4AFuiaU3gCZ7jDlDcPIoQbTg9tWxR9erOgLbMvHsz2FPs3+aOXELZFXYW+ozIPjPT9EWpNP1N+BSXR1K/5z4VLQit+iJ0MyjQLE35wjMLOL4o7bNX+yuXJ8pHibrPNdnnRZfHOS8jD5F21beK/ZfQ/6KyLP2JRAFj4aC9ztEmqHs76qhI8QaiTZS7agsrUWfoUTZ79+7NtCaQ7I/qIdyoA3muf+aIm0QRRBUa0gsfWtkUwScpOkTNMyB+JJXZe7PUbn4jFi+KLL+lSimHWsZAPpmEG2/RZTkvMZ1LLNjM6SWVHcJNIaKr7Aui/I0N+5V6+AOA3gyaC32wlwYXXKeoARdHzoQNZtwBTFu4aTRn2pE0Hhd1gBadB800I/PPXmd1MBZVr+zppmnjMvNOU77Oz1Hs34YOa1AZFXY2+w6l7JpAOxgmkGh2p/meeCGEo9jC05R9UJiPcvq4nJcSFeiWSfdRYX5M9hV8fmReDpccPBSeGqsKHVPs36R+WXZZFDAQbhBxY7ENFCHeQLSJ90jCX4SdNT8/T7zoMJ+zadMmarVaYafF7hPp87Yewo22IK3zZicxJScmskJ5q1SCSJJbSFBFEVXwKVa4aYtV0qvI/SieuHKoxzoWbhyhR03Tt0lfMOoW7ySmMfagCFTVOM/njoibgMAhDwx69l0e0EQJN0tTNB411Uj6Ndtt25BfofVzIgZ1/Kt59LSDrAOZMsWTMvPOyinf+VXpx7EPLl06qLCryoBc7+ONpAiadWKhVmbhfI/wDewP56aCwo0iuMRcy1OulMg/XWAOlD/Ej0ltNdeMP06B9FLwkNLvmf8vIU+5zbvUxXIli4gbK4SCWVpdbkd3INLFXBadiDcQbZJ9mHCk8pnr6+vUbLZvrBxls7KyIp+S+rtIn7d1EW70CI7gQr8hA3GePuS/fUoVEnSBRZ8C1L6O01VFirhjerrx03rUMqnp6lErYi0ZtSyKmCNHwfgCSlL5dW5q+mqZLtGJlvcadE8EOdcc0B4WRTnVuulc8vOGcCP3edkXpHYgBp6o1KOEh9/CHuy1wVMwMmXJWc8mOj9tQBQ6zUA/J3wQMxfxi3p03mGig1hfRl+Xx13vhte8UcQhsYaPsy5Gk4Z5WlfUOhrOehg8tYzXzBDp8doZMzTuDAQz5m2x3Sj2b2D/NLlICjuLbUDul6tTUzSXctqlf93MFE1PtZ8xfS66qOIxCgo32QRSReQJ+CndR8VNl5pJ8InrlItHRWzBb9+I+vjtbNiPNxBuTBVulmdp+vDO9oP74ecQjWNqW2nlyiPeQLRJ9/giHKk4m6NstmzZ0lGUjUiLtyJ93sqDuKp/V95SFHgTkS5AuAN8WXhQrleEjSiRRKSZIGZECiZJIoMqbshlddpSfkW5eO23sk+IJEFxRhVK4sov6ii2cefyMe016q/o0VDtMnWHdxJTUY96bGVfIPsI274r9Yh4QE16gDXieIJwExwsBcUSfUAUNs1APycoEAnxI5h+Pk4pBnU8NcuZNikJSdIv5UoZo/aLtXSUwWaKvG22mfV15Z5uW98tu7yV8R2+DQshQ7X7+KlPHHEz5Yioum9gPkrf8/LRfZF+XfzUpXUKRMEofTYkAigqgofLHbmYMvuvnDx8nkX5QDPTUey/7M4o5Q/hRht0mxbNMnfYm5MN4cYq4SqLeAPRRvJICV+FIy0yykbOUqTP26qLNWr9ztBYjEgSOFefUqWsu6IJELIg4k8/EoP/JDFDXpPijNImnUTcyMKHL+rI5VTEK7WM3RNuQtYXUsokce0Kbwg3sp3LvkD2EbZ9V+ph8wN3jHDjTF2KHaB4AwNJ1HC56NMIOBJFj4DRpj3MNBPWjMg6CFEHkYGBoFxmZYAm//Leroe8jkYgLWaoDAIT8rbZXryyK/ZvW+ctubwKuwrYAk95ElFscj/hesaKKZ5ww8Ksfl3YtapwI/dTfp6RxNcopnKfZ8FW6ffsX9R+G5WmWo4Qv5SXR1S5K7Zfsf+S+6KcPYQbw4Wb1ZNe1A2EG6uEGxYA04g3EG1kd5T8XTjSIqNs5FxF+ryVB3H1+C6t78LCjLwgrljDZIkFngEaaw5IU6VcEUYWUkKnGYVElOjTeuJEEfWYHo0iiRpOWWMibmTRQ4kOUq9pNLieozQ2xK8HjxKQtGuU9IQ4JbZx53rikCZsyUx9gclrC/lYMbyTmIp61GMr+wLZR9j2XamHzQ/WocKN9BpvRZAIGaQ4ddcHUdqAbYmnRMyoa0xoAy0eDLVfIx6VT5b96iBMF1uUgaJSR7kuYjAo72Of1RZ03GggPVooPu98EURZ6t79cxX7t63zllxehZ3NvsMruyJkaP5EFTQ1u5SEm8AaNCGvFVfy0desCfRJLS+nrGq/DPZjnuKkvmUvWP6Z6PW+OuVRAVtI49sU+y+5L8rZQ7iBcGOdIGJaVFRceeLEG4g2sitK9112pPv376e1tbV0F6Y8S06/HmJNyCB86QydYGHGicDxxAsWMJoDNOavw3KGTvhr3EhpiGtZ9Ggdd0Qe581M/nXBc2XmjlhygRdHvkTnWsE1XkT+gVd0O0LTcTq3JNJXRZLdzeN0osUijJem87aokEWYedFlKfKIr7vMQomyf4Cc/V5d1fI3aPfQKJ1w6iDKwte7TNVzZZ4smh2ny855zNrlzeeHpicJaU5bdcLba8dkplJ9RP4V3sptldJ9GHmaUg+bH7j1gdagFhmT9Ku5V/e4AY9YdFg/py2m6MJH2KAr6z51kNbOi9PRhBiuc8Q/ETGgl13/NX51aUlabDou76z1MPN8xf6N7KHmFkphZ7Pv4LIHFi5XbV/vJ8rAXhFuQqYyaVExqnCj56OLqWH9JsU1elSOLgjpZdbbrxMeeloV/Vuxf4O6KYQbCDcQbrpsA2HiDUSbfF6QHWlfXx+dPXs2XwIJV8mOurbCTSUG45pwEyYyVaKe9RJTetknZV+Q4DaMPqzUw+YHbE24cQQObV/YL9PKAIzrHzngkV7jq58jpioUPk2KB23qIE0VbuKOhQ34gumJ9lfTFdfmSV9ca8dW1J+3+GQjoLCz2Xesc4RKUDBRotki1qtx/EeYCBLwPQ1/GmJPhJuQaVtCvHUE34QF1DviYbktBO4JEfVR7D9b1+nq2aV7MgVMlwfQcZERph7DVClz3yCVxWZ08YajRdj2WYRYXl7uaievUuLdiLKR+cj+qJeDRORVtAAB4QY21ZlNyb5A9hG2fVfqEfGAmvZBttTztIGSECL0wVdwykBQYNCvcQY8yi/QWqSLN10qbLDTOZMY8UQTkESdE/N03iolTe90pnO4A8tVxQZi8lbOCzJMLIMh1yv2b1vnLbm8CjtD2jOf3XF/Do9Wk+sYXEvGs/sw4cYRg7TpSp74owo34b4kth5av48ul/amKyEw85TP2DW/OuRhtS2k92WybZTcFZXsIdykEotmae7wThoeOkjTJ5+juZPHaPzwMZqLekX38nPOG6GGDx+k6YvH3O9DB6PPd8og8thJ44cPuv9OzlKicOPndczJa3xoJw3HlS1VfashlmQRVnpxrizeCIcA0UbxR6X/IdqFtxj4djbwLZcfhJty+dtsO27ZZV9QumPqoABKPWx+4I4QbvSIFa5v+5fniId0LS0We8Q0KTGg0qccDfPaN8oaMxFpZ2YcJ57EHUvKXx8wekKOUodO0k/K34zjiv130I/qeKnCLrNdm9H+Tn9m4SVUyAj2kVDfESHccNq6COwwEwKKx0w/JzQPma8m3EQLtnr53bWuEgXmTnnIZa3wd8X+DXIAEG4ShYznaJzXPDj8HK3K5148SMONnTR+URM5lo+5r23UFhMWAsz4xdng1CRxzdAxNY/lY27e/GuJlp4jNHjXDZ+U05ylaWeNhp00HSUsyfXA92B7dJEJizemOgOD/FJpRZHbBgNfSwff3gLKclvyd2edm6WQdW0wZQoiZYgNyPZTmkMqIGOlHjY/ZGtiizKY0Y4lT5lSBQte32JYn1qgDZ6Y4/iUvD5MUQNTtSxKvbRpVJG/vPvtuuQsrixH1cw19agAsZAxlz8u76LqV246iv0X0J/qlITCzrexcttTCKtZtnN635bqogu0oRF7McKN3occZppwo0/PVPt4kKdaJrm/Jp3Lryd3F1iP49MxD4lfXD62H1Ps36COD+EmdpAeJYI8R+Mi9FQRVMT+gzQXSDcqraj9riAkBJ+gcCOuC+YVfY0mMgXKiOO9iLwx1RkY5JdKK4rcNhBuLBVuQgbhaEu0ZVYb+P/b+6IQS5Lsuve100Iy20JaafCaZRixSxujpUutV4yK/WiQsBrGNs3KUCuXwDkSFLNGH23NT7t+ukDwSh/WTK3xarBK66Ek4WFfDe7FK1fjmo+GEmJgJb1mF8HS1Mesxh89fz34pz/D3IyMfPdmRuTLfJkvIzLjFBTvVb6MiBsn7r2V97wbN7gv8OaQOhhYzGPID9wFcqYY/BS/1bYGYGz+xfuL/ZUKAxdOl+ouKKkmT6Sc9iBumS1E38CvquXB+6geu7s5lgPOvvoW+t+BPcXUhcCO2U5fa9fNOCtOVyoRtGX7UZXEjaVuVpG4KWbmWD5fzlVm0ZT9UsGWSvKvyjjsAI/B6kIBuxXzEPofkOGDuKkiLz74us6OEOSMJjdo69SkkHGzijCxfm7GKGbbZHJZ29Bnpp1FtvyzSZnU6YOYwBjVBFioziAgv+RNFL42TQM93A9yADowHh3gvsCbQ+pgYDGPFQ+qy+Ch2QNuL+1WEDflb745QWGZj+jPfq/45rsy2LL0XxtrV6A2V+fzhaWY8lQd0/W0f30c+k6+/Un3VdqKIebKA9MVY9eeQ5v5b7at0P8O7CmmLgR2A9UFsuGSPYi5SBugOZfIklXEDfXHbczqK+Zqf7qsO+WUifdDWziFrHZbkeQut+/y/Z3gUUOmXv4nbFgOof8BGT6Imwri5vwNbWRyK5I7KF95vyFbGElj2pQzavQ4LuImb0c1bZy/IG5CJJFCdQYB+SVvovC1QRA+niAca4m1bKoD3Bd4c0gdDCzmseEH3U0+rAsSxRZc2YqFWgMoE8ywbBPXfezb7FIw1yGWIvCaztT5gk64WgZgxbnzNZXbp7IgtDAf3r44j1Vjb3JN++ibY9WBOUXVhcCuQ33vY931GNrGnSRJNiduH+mcLfZTtBvbHHJbKrRf3kt2bbYuWshiKiqe7eagmlp1SJu0b0b2VMvZDR7L+RhfOs5Xof8BWT6IGydxY7YiTVQ94qbG/Ya4yTNhVrexEzer24VIWEAmTcaF6gwC8kveROFr0zTQw/0gB6AD49EB7gu8OaQOBhbzGGTwtVDns0TXDjRb1NPXqdrnwc2CigeboGj5zfZkagmQMhxMoOUOdsy38e4+uglidOZMvlbTRB0vZDB0lZ4UxedHdXmKwV12pHmKRaL2E/rVbXaozzxTh/e9euxu5sjH7O99jimOA2/sTQR2Q/Md4mQ18hVEiBb1bqHO5zORCZPPOSVfsoy2zN9QHaxyH7xPO3Fasp/MV+3QSVfU55x8V6Lo79SnleTkY9je1/BTneBhG3u813JdCMx3gLgBcdNrcV6QN3+H4sSNHx/6a8AdNYLw8QThWEusZVMd4L6gPw/U/UhiHkMLviBvtiVqvMFRKajteM2F/ndvXqPuUWDX8bpset3RP3xGWx0Q+h+QpYO4AXED4sapA+5tcW0IqFCdQUB+yZsofG2aBnq4H+QAdGA8OsB9gTeH1MHAYh4IvjZChFA2DH1rXve39hYIrFfr9RL634E9xdSFwA662FoX2xIJaN8vGSX0PyDDB3FTEbTndWRsBYAt7cz9zq1VZqtUlzVuasrWhmhA224JnFCdQStgppoAACAASURBVEB+yZsofG0QhI8nCMdaYi2b6gD3Bd4cUgcDi3kg+NpI8GW2XHGs3e83ve2q3+Am9GCSr0MH5hRVFwI7+I6N+I7Q7Sdm+YT+B2T5IG4sBIwhKvL6MoxoMZ+Z16snD/OMlfx+B5li+zy/5hgj/7zQZ349r5djIReefEtdVczPzAGvFuw2iFuoziAgv+RNFL42TQM93A9yADowHh3gvsCbQ+pgYDEPBF8bCb5A3IRLFgn978CeYupCYAffsRHfETMxEvrchf4HZPggbioD9G/lFb73P7AE90/eUvt/tCRu1P8z99tOczIFhb+qjp+wvp68lRXdK1xP5TJtJqp86pQZy1U8+Vtqv0D2gKBhuFeu+2bvC9UZBOSXvInC1wZB+HiCcKwl1rKpDnBf4M0hdTCwmAeCLwRfkemA0P8O7CmmLgR2kelN6KQC5Ns8WSz0PyDDB3GzKoBnxMr+B4akeaiuPvi62rFlydB1qkBeIE1MhsyyjyU5YD6bFPq7+qOvq/03vqqL2Rb6S0mYXDYib5bZNVdPvqX2t23k0XJMkDj+sAjVGQTkl7yJwtemaaCH+0EOQAfGowPcF3hzSB0MLOaB4AvETWQ6IPS/A3uKqQuBXWR6A2Jk88RI6BgL/Q/I8EHcrCJu6PMn31LHhkBJj4X7qtp5Y0mUlEiQ7P6dN76ujj94K227Q0QKz7QpjHv1wVtqf1sfYbmzTf1/Pc3MyUmdyUTtvPFWuQ8zVipX1r5KtsK4Jdnxeb71bVPYhOoMAvJL3kTha4MgfDxBONYSa9lUB7gv8OaQOhhYzAPBF4ibyHRA6H8H9hRTFwK7yPQmdFIB8m2eWBL6H5Dhg7gBUbFxomJTBMhQ+w3VGQTkl7yJwtemaaCH+0EOQAfGowPcF3hzSB0MLOaB4AvETWQ6IPS/A3uKqQuBXWR6A2Jk88RI6BgL/Q/I8EHcgLgBcdOzDoTqDALyS95E4WuDIHw8QTjWEmvZVAe4L/DmkDoYWMwDwReIm8h0QOh/B/YUUxcCu8j0JnRSAfJtnlgS+h+Q4YO46TloH2qWCOTuriZOqM4gIL/kTZTr16/rmlKTiXr0199TTYM93A+CADowDh0Yi58W80DwBeImMh0Q+u/tyWKYAwvsItMbECObJ0ZCx1jof0AmDOIGxA0ybnrWgVCdQUB+yZsod+/ezYmbP/6TIxA3n40jCAeZgnVsogPf+/C7uR+4ceOGN3/UxcDi/w2CLxA3kemA0P8uDCqiPgR2kelN6KQC5Ns8sST0PyC7B3HTc9COzJXuMleGimWoziAgv+RNlAcPHuQB2z/70hfV1ac/Uo9/8EjN3j5Uv/O7v63+xS//8/xzvo54rwujAwfgMDQd+KWvvKr+zW+9ru4/eEsRYUMEz699bTu382984xve/FEXA/P1wMP+5h/2gXFYGAv978KgIupDYAfiBqRvZDog9D8guwdxA+IGGTc960CoziAgv+RNlGfPnim+Xepnf+5n8wCOrxveg6CADoxTB37+Cz8nbP7x48fe/FEXA3M9BakQFqmA9dj8egj978KgIupDYBdZ0A7b3Lxtho6x0P+A7B7ETc9B+1CzRCB3d5lCoTqDgPySV1Hef/99Ebjx9cL7cQbrWFesq00H3nzzTa++qIvB+bxCf1CGfAiWutYBof9dGFREfQjsQNwg4yYyHRD6H5Ddg7gBcYOMm551IFRnEJBf8irKixcv1Be/+EVB3vzK9Kb6j/d/X333r/5C/cM//i1q36D2DXRgJDpANv3g6CDdLsV98+c+9zn1k5/8xKsv6mJwPqeug2L0B6IldB0Q+t+FQUXUh8AusqA9dL2GfJv3vUL/A7J7EDc9B+3IXOkuc2WoWIbqDALyS15F4XVuXrr2Ulr7oklhU9yLQrjQgWHqwJ9/8GfqC7/48zlpe+fOHa++qIvBxf8bBF/41jwyHRD634VBRdSHwC4yvQExsnliJHSMhf4HZPcgbkDcIOOmZx0I1RkE5Je8ifLkyZM8aKN1om/iEYQPMwjHumHd1tEBfqIU+QDaOjnkH16z68nlJYgLBKBR6QCet9b3XvAdIC9CJ1c2KV+ovgPETc9B+1CzRCB3d5lCoTqD9f+9j6flO++8kxM3dLLMOoEf2oAwgA4MWwd+75v/PvcDQ69zc/fu3Xwu733721EF7Zt8qEff4Qe1H334Ya77N27cGM+DSk8zge8IX8fhhzazRiH7DhA3IG6QcdOzDoC46empY41h6Ohfsz7Ithl28A3yBOu3rg7wrJubN2+u4UnCacK3fr7ypS+pF59+CvIGWTdR6MDtr30t/39O/9vx0wwB+I7NkAIgW8LHNWTfAeKm56AdmSvdZa4MFUtDDNArfsJC4JVXXskf9Ch4WzfwQzuQBtCB4erA1ac/yv3AtWvXwnJSDaV59uyZ4lsebnz5y+rx978fReCOACn8AGkTa/TxD3+o7vz6r+c2TM9ajx8/bmg5uB2+I0772YRNDqXPIfgO75GjCGJBoiD7JQIdEDqPZ4OgEOBrQ8Ebgu/hBt9YO6xdGx3gviAoJ7WGMFSnh88H7yfAYzJODK699FJpbYe+3XENk++sCXzHOO0E/wPK6zoU3wHiJgKiYKiZKWOVmzvMzv67oqNOEOBr0ybo677thbo8O1C30oftLXW4GEpQHobcl0e7au/oJMVwLzlQlyM5yrp7PRuKXm1eTu4LOnEunjuh+l2UPcTnhfflh3dgMi5MkiRRL1688Gx9wx4evmNcNgEfV289Q/UdIG5A3CDLp2cd4E5z2P/Oxyc9X5sQg+LLoy01mQyJuNEBtle5z3bVZFuTNVqOibp1dIFsKpBXlTrAfcEYPB2dmPfqq6+CuBlppgnXV7zXgdlP//RPq4cPH47BfL3OAb6jXqAPuxsPTiH7DhA3PQftY80iwbzq1+7hzt3rf2MMXkKAr82oiJtFlq2TnFQGq5ua89rETWu5L9Th9iQnbj5ZnKjD5ECdDiZjafOZJZta86H3y31ByVEM7AJlHPD6XTQ3qgFy9OBBWu8GBYtRy2IoNShcclLdpnffflu9+cYbgpykLLOPP/54YBYbjrjwHfANLpsby/Wh+Q4QNyBukHHTsw6MKSAI5/GiG0n42oQYePojQNoRCP7kPlF79A27J8IqRB2CTPV0mfuCbryLv16oxoeZz/XPf17hWHAEY2MJumzzoKN86QQ1o/O3b9/2Z3wDHxm+A77CZmNjvTYE3wHipuegHZkp9TNTxoqVeZigV/yEhQBfmxADXH8EyIU6PTtZuzaMP7lB3ISox0OQifuCsLxUM2lomwOfy/vf+Q5OlMJx4KPXgSeXl4oXG33vvfeaGQ7uVvAdIG3GStBUzSt03+E9cuQPFGMN1DEvkDVcB4TO4+EgKAT42ngPLtNtPVvqFm3tOTtQh0f0a6txQ6QK3XOS/h4m1MaQLFQc+ESdHu3qwsbby/uW24Wq2uvshNMk27tcJ3MlFLkXhEe2RSyf94XS26UIxywTJ9s+pXEzhYurMUkLRdMWLNPHZxfqkAogE/aTLbWX1dCh+/YSfZ1qE+2dWbI90vF18WSSd297Sx2eoQaPb/vjviAoJ9VQGCosauZy9/XXRx+wVz2Q47O4AtH79+7luk+FRvHTDAH4jrjsBf5xud4h+w4QN8i4wVapnnXAPETTK37CQoCvjd/AUWeKFIvoagJFFidOr23vsrotlrYVtWLqtNcZM3WK+lrG/uyp8iX3J5+5Mm7M9V11mJJRWS2crPBzHUw+yTElMowRLVQMmfohoo3V0tEY7KpTURRYyyEInbT9xE7yiLYWEgifd1bDifuCsLxUM2nu3r2bB69UAwQP58uHc2Axbixo24Ox45s3bzYzHNyt4DvGbR/wf+71Ddl3eI8cjVOlV56VgPfIUhmrDgidx8NBUAjwtfFJ3NiD/KeqvOXIEA480M9IiewkpXQeOclQLE5cs31NQiA8uQ1BU5x3dn3CiJQ0Q4cImLqYWPognDLipVhXp7x2htBiMlB751qBqOnTJrkvCMpJNRSGFyWmFHA8rLsf1oHNuLChotvGjqlIMX6aIQDfMS57gH+rv54h+w4QNz1nW4yVjMC86hNt5kGCXvETFgJ8bfoMEuVYFuIlI05swT+1vWSZHXmWSS3iRpMBK9vXIm5ClDuTqbTFyy2rWYvVmDj6zoibYrZUee2MDLv5Nje93e1AHdL2KhxZ3ln2jFnTJq/cF4TlpZpJw+eB06PqP7gjyBkHVlz/m1kO7ubYwXeMwx7g1+qvI9f/kLyB98hRAAMSBVlHEeiA0PmQvAFkyb+dozVqEuTpTJOs5gnVPcl/5bamen2agN7UW1lmWpSD/+Vn1Pcl1Uth9WwuDeFSM4vD2d70U/kaotwOcsW5hUriWYmpq4+6xE3NNamnM2W50a4dJksb9v6Y1Mozi3kEVZR3oa7mM7WT+sqpOl7Uf6D2G3yEIffVLFH7s3mK4X4yU1dBrW04ayn0v5UlxddYYBeUfoVhg839UBhyw3fU809C/wMyf+9PJAKYCIJ2ZKbUz0wZK1ZC5wNyBhBFMcKlGXFD22suF/bfxgG0Ceh5xkxGmNiJmwt1mhbANQWJLQSK6bOUeULBbY32lYRNFiCbMYKSe13ipg4mjr5B3DQiPRvbRx1d7OCesfhpMY+ggi/98Hw1m6rJZEjETQByzxM1mWqyRuM3UTuzBbbBWfRb6D8echohILCzYNucuKgXMNftF75jDTzhO2r7SaH/jSxnszeDuAFZhCyfnnUgVGewWVczjN752vgLKC3Ei5O4yeqxCELG0t6QKuI+Tdoc0ulI4rqlfa1A2N2uTDj1JXcmk5gfzdt1vQkmjj7qEjdGBgvR5U/3MhKu1nqP+17uC4bhvexSinmMKfhaZNk6ybz2g3jdgLDOfWsHja3lXqjj6SQnbtRiro6TmTofTMbSGsFmC70V+m83EVx1ICCwa7EGdexpnXv82WA7HfYnN3xHEz0T+u+wER+XQdz0HLSPNYsE86qfSRSqM/DhgEIbk6+Nz+C5dpHfjCQQpxJZCYEyyUDHhF/Wbk/HY5uMHnfAHp7c5XnrdXVdXxYXXgfTtO/axI0pTmzfTkd4+9TB2MfmviA0P9VEHjEPBF+dkTz+gq+52qftZZ4IqyaBTwj3Cv1vYji4V2Qgh7CWRRn82eBQiRv4jqIOVf0dqu8AcQPiBhk3PetAqM4Azylttkq5yYy1AuAsQ0YWuD1RaXZMdmR12q8lk+aSatxQFo3I5ChmuFAtnBPrCUa29nkNn1LmSmHegcmdZ9YILEjmCuKmNqaOPhoQN/kJUtsH7Dh3Oj1MHiW+lg4ha6YV8TUWPy3mAeKGETcLdT6fr10bxl/QiOCrKtgqfib0Hw85jRAQ2MF3wHcEqANFe+/yb6H/jSxnszeDuOk5aEdmSv3MlLFiFaoz2KyrGUbvfG28B8uLA7W3PVG3tnfVXnrK0El2HLgmZU4XdHQ1ZW1s6W/GtrfUrWQ3JQDM1qS9hBECor8DdZoF9nXa6/4mShJJBdLGEAViHDodyZPcZyfq0GAzmahbKRYX6hMq4Gy7buSvg6noe0vtnV2otBA09U2kGX0jvr2rDs/0Gl2eHahbpmC1kcOMx+S5RWtI7cQpYQ6cTXu8tiJoXHbOfcEwvJddSjEP3w/e6baeqdqhrT3zmTqe0a+txg2RKnTPPP09TqiNIVmowOdcnc8SXdh4urxvuV2oqr3+tvw8yey0TuZKKHIvCI9si1g+74XS26UIxywTJ9s+pXEzhYurMUkLRdMWLNPH84U6pgLIhP1kqvazGjp0336ir1Ntov25JfsgHV8XTyZ596dTdTz3U4NH6L/dRHDVgYDADr4jJ27gO7g/fq6LzMN3OKyo+8sgbkDcIOOmZx0Q/wy7t2n02AIBvjaugA7XQSRAB8avA9wXtHAp3puKeXgNvnSmSLGIrg6CZHHi9No0YXVbLG0rasXUaa8zZuoU9bWM/fy58iW3eu7KuDHXE3WcklFZPYus8HMdTFSOKZFhjGihgqbUDxFtrJaOxiBR50KvtByC0EnbT+wkj2hrIYFafi7037s1DksAgV3LdWiXCRGWDcJ3WNYDvqM34wZx03PQPtYsEsyrfiaR+GfYm6ljoDoI8LVBcD7+4BxrjDV26QD3BXV8R6j3iHl4DL7sQf5zVd5yZAgHHuhnpER2klIaBOaBQrE4cc32NbEIT+4Mi1KmUHZ9woiUNEOHCJi6mFj6IJwy4qVYV6e8dobQYjJQe+dadU/UFAkCof+hGmmgcgnsatpLEf8u/g7PBuvpbXhyw3c00Ueh/wHZqHfi5tq1azo1czJRz//vY2R/gEgavQ5c//w/yXU+IF8AUdRma9ycHtE2mKrf5fYlVzCJ6yAaoAP96ECoD21NHbWYh7fgKwsYOPGSyWIL/unh+oplduRZJrz9CjJgZftaWIQo94rgi2NUmONqTBx9Z8RNMVuqvHYGryTf5qa3u83UMW2v8nBkudD/psYT+f0Cu4IuNQmA291rdMps+VuSJmX905+t1HP4jnzbl14bN8Zm7VZi6soEhO/o3It4J25u3LiRB7E//rsPRh+0IzOlfmbKWLES/ww7N2l02AYBvjYIkPsJkIEzcA5RB7gvaONTfLcV82gQfOlvi7OaJ6Y+U/oqtzWZB/vqV3dg4Aq+TH9XVC+F1bO5MnNYEXytbG/6qXwNUe5MJlfGTen6MtBdjYmj77rBV801MXL08Sr037cxDmx8gV2lnUgdg+8gPOA7UvuG7+jc6r0TN7dv386Jm8f/+7+BuEHGzah1gLLKzD/DV155pXODRoftEDBrQ68hBpOQCSQHdKAfHeC+oJ1X8dtazKNB8EXba64W9t/GAbcJ6C3ZIHbiZqHO0wK4piCxJQgyfVqJihrt62BhxghKbge5YgJFKx4USNbBxNE3gi+/RuxpdPiOagKm0g/Cd+isHviOzq3XO3Hz5ptv5oHsg/+0P+qgfawZJJhX/Syi9//7LNf3mzdvdm7Q6LAdAvxBBQFyPwEycAbOIeoA9wXtvIrf1mIedciKjdxjIV6yccrETVaPRRAQlvYmMBL3aYLimE44Edct7WvN093On9yZTGJ+LMAsXW+CiaPvusGXIY8sRFdlkFtrLWgezX+F/vs1xcGNLrBbA/t11qvcJkQbrKOHIcrtsG9jt/AdwscI/Q/Ier0TNw8fPswD2RtfeQXEDTJuRq0Dyd6/zvX9wYMHAbkCiEIIcEcdYjAJmUByQAf60QHuC4bsHcU8vAVfjqK1VMumeBx4RhKIU4lMYCEIgXIQQseEX9VuT8djm4wedyBWu8Bo7XHbyl1ur4Nd1/VlceF1ME37rk3cmHW2b6cjvMuBuRv7Lu4V+j9kQ/Ygu8AOvkPl2zQpew2+Q01W+GP4js0YrXfi5sWLF4oXKH74P/7zqAN3ZKfUz04ZG1a0TYoXJn78+PFmrBq9ro0Af1BBgNxPgAycgXOIOsB9wdoOJYCGYh4egy9zspAscDtXaXZMdmR1+qBvyaS5oho3lEUjAoViZg7VwplbTzCytc/rcFi/ZWZkQiZPKHK7a2dUEDe1MXX00YC4MetMa3XOCkxfFY4S74KUqdOH0P8A7HFIIgjs4Dty4ga+w+aP4Tv6sm3vxA1NNEmS/Jvum1/9CogbZN2MUgfu/Yd/l+s56tv05eKajcMfVMIKJi/U5dmBupUWB91ShwsE+2GtD9ZjbOvBfUEzLxLW3WIePoMvGnsxU/vTidqZJmo/PWVonmXcaFLmfEFHV1PWxlT/r5xO1U6SpASAyczZTxghIPqbqfNsfnXa6/4mShIyjLDhWIlx6HQkT3LP5+rYYDOZqJ0Ui4VSVMDZdp3NYSUmou+p2p8vdKBKfRNpRv97pok6nus1uprP1I4pWm3kMOMxeXZoDakdI3HqEC5d3SP0PyzTDF4agZ1ZW1+vodjgwmQJwndMJlOV+mP4jl5tOQji5tmzZyLr5ujw90cZuI8tgwTzqZ899Oh//pectKF/hrRFED/hIcAfVEIMRC+PttRkAuImxLWBTOMir7gvCM9T1ZdIzMNX0IVxe98i1BXxMfR+hP7XNxvcWdg6PnQ9gPwOUhq+2embQ/UdQRA35CHv378vA1tsmQJ5NZLMo4//4X+JLVJ3797FQ0GgCHBHHWIgHgRxs8gyf5ITnLz12bjIihB13pdM3BcE6q5qiSXmgYd050M6ArtxBnZC/2tZDG4yCAjs4DvgOyLTAaH/xigCeA2GuKFaN/xocALsnT/6A5AXIyEvYs3OoSPueV2bl19+WVGGGX7CRIA7al8BY9W4IG5AlFTpBz7rTj+4LwjTW9WTSsyj4wfv8xltg6n6XW5fAjEyTmIk9HUV+l/PZHBXhoDADr4DxE3HOgDfsZ6rCYa4IfGfP3+uqPYHdxZ3/9Vt9ezq/4DAAYEzKB2gQsT3/2BZu4l0mopwf/TRR+tZKlr1ggD3PSEGwesTNxfq9OxEXXaRIYKMG2QadaFHgffBfUEvzmdDg4h5RPbgHXpgAPk2T2YJ/d+QjY21W4EdfAeIm8h0QOh/QEYeFHFDuFA2wmuvvSbIm2vXPqe+8W//pXrv3QeKAuJYszcw7/o1ZXxhRaeivfl7v6Ve/sWfEzpMmTYgbQLyfA5RuKP2TtwsTtRhsqVuJQfq9OxAHR7RL69xc6FOE/qbCkfuqkNGzFAh473tiZpsH6RkzWmSFZdcub2JxtxVe0cnKdFzeHSSFkXWxZCpQPKJOj3a1UWSt0kufd8pFUvO5E3loXHSvw/yOXRCGgUe7HvXGeDTGanGfYHDXQzisphHZA/eIEY2T4yEjrHQ/0FYbDhCCuzgO0DcRKYDQv/DMUsVHHFD2NC2qXv37onAlwNI74uBcfFz/J0FaqbqP14r9amNvrzypX9a2fedO3ewPSogp1clCtcDv0H4idqbTNStowsRiGoChhcn1vcZgobLfHl0oE6zQF5n6pT74/fTe+pfjnmhDrf5eETQVNW4yeRJdtVhShJRe/JFhT5AMIh1La4D/u5uy9O6WHJfUOUzQv9MzCOyB+/QSQXIt3liSeh/6MYamHwCO/gOEDeR6YDQ/4BsM0jixuDz5MmTUvYNBxLvQc6ErAOUZYPTo4w1D+OV69O6AV8X7TRBs5sTL6ZP21Yp2zW6//SoafHgjGQpZOVcHu3K48frEDcTJvuCsnIkAWXmg1f/BAXWwL4G3BcMw3vZpRTziOzBG8TI5omR0DEW+m83EVx1ICCwg+8AcROZDgj9d9iIj8tBEzcGECJwjo6O1M2bNyszGzjIeA9Sx4cO3LhxI80We/TokVFfvA4IAa4z/gLaqiwavlUqCzhtRAptUzqzB6RV88q3VNE2KNr+ZMuMsY2X3+eW3dpX3s4xFj63rwFw2Tgu3BcMyIWVRBXziOzBO3RSAfJtnlgS+l+yDlyoQkBgB98B4iYyHRD6X2UoPX82COKmZ0wwHBAAApEiwB11E6IhJzxKWxLX2SLkJj+c2TVpDZtllgvVuDHbpJrM45PPeN2cLbVX2KqV9lWHuClk7TSTASQO8PKvA9wXDNkdinkE9eC9UFfzmdpJfeZUHS82H8SDKIkPY6H/QzZkD7IL7OA7QNwEpQOb92VC/z3Yn2tIEDcuZHAdCACB6BDgjrpZ8HyhLhf232b9sBoyWWFh3t5F3HxytptmI+6lWTYX6tBGuDTI0siLG1NQlRROowJxs/FsD77meO+HxOG+YMiOUMwjwAfvq9lUTSYgbkAqbSYQE/o/ZEP2ILvADr4DxE2AOrBJvyn034P9uYYEceNCBteBABCIDgHuqP0FzM0zbihTJi0CTGTP4kDWpKlN2BDhw+vimMLChYLFIG5A3NTWKT+kSxe2y33BkB2hmEeAD95BEDeLLPMnmSM4C1BH2gRnQv+HbMgeZBfYBagX8B2bITvb2NuY2gr992B/riFB3LiQwXUgAASiQ4A76i6Cv3X7aFKc2IxhsnHo+PDy0dsX6dHd5es8sL5Qh8W2VpImI5bYdig6Jlz3Xf7MyIdXjjXeh64P3BcM2RGKeSD4shMzIG7suASoL00DQ6H/QzZkD7IL7ALUBRA3IG6a+oMm9wv992B/riFB3LiQwXUgAASiQ4A7aq+BZUaYyKO5T1Ycra1JE9lGEwR5DR5GtpTnRxk2hZo8mRx6C5YhG4qnT52wTB0QN2VcDW54HRI23BcM2RGKeYwq+Fqo8/lcXXUxJxA3IG6GbOQbkh2+owYxAt8B37Eh+3N1C+LGhQyuAwEgEB0C/EHFe5C5OFB72xN1a3tX7SW7au/oROmsmomapKc+lY/YPk2WBYq5/KadjdRZ3kdbpQ7UYbKbEjGnZzT+ltqzHeUtZMsKIdNJVgmdeqVPtKPMn9NFWcbleCAygEW4OmD0mF6H/CPm0QXJ0aaPxVwdJ1O1k8zU+Xymjmf0y2vcLNR5Qn+TD0nUMSNmqJDx/nSiJtNZStacpwXZqQbXqu1NNGai9mfzlOg5ns3Tosi6GDIVSJ6r81miiyRPSS593zkVS87kTeWhcdK/Z/kcOiGN2uCJtiuDRqH/QzZkD7IL7HzrGnzHSl1vkk2Ce1eTckL/Pdifa8hhP5G4ZoXrQAAIAIE1EOCOGkF1uEE11gZrs2kd4L5gDVcSTBMxD6/B11ztTyZqZ7YQAYgmYHhxYn2fIWh4gHE1m6nzbA56m0S5P34/vaf+5ZgLdTzl4xFBU1XjJpMnSdRxShJReyKWCn14xXZ1EFLEJZa/hf4HY5XDEERg51W/4TtisdeQ5in0PyCTBXET0GJAFCAABPwiwB31pgND9A/yAToQrg5wX+DXK7UbXczDY/ClCZokJ17MA7qtToXtGt1/PluVXVMkMDKSpZCVczVL5PHjdYibCZN9QVk5koAy88FrcQ38/i30v50pRddaYAffkRLO8B1+7blP7fWdfAAAIABJREFU/yr0PyDrB3ET0GJAFCAABPwiwB1110H16dGWurVd9ZttOYrgxJ6usUV/4RIgQ10b7gv8eqV2o4t5eAu+qrJo+FapLCiwESm0VWLePGjIt1TRNija/mTDwDZefp9bdmtfeTvHWPjcvgYbwkXofztTiq61wG5D67Pahtz2ZyV4bbYM39Grza1e02H4RqH/AVk/iJuAFgOiAAEg4BcB7qiHGnBCbpAY0IH2OsB9gV+v1G50MY8GwVdOeGQ1q5b9rLNFqGHwlW1xojo3+dao+XKbVLPAgNfNmar9wlattC9bsJdjlcleyNppJsMwApUxzmmptwh3mnoSgV1uD6t1Gb7DYATfMWSfIvS/qfFs8H54sg2Ci66BABAYFgLcUSP4bR/8AkNgOFQd4L5gWF5MSivm0SD4Us8X6mph/238MG6IkaywMG9v/dac5JwnaZHi/TTLZqGObYRLg/nkxY2JiEoKp1EZ+azkDIIvvl5Dey/0X5oG/lqBgMCuga3Bd4C4GZqfsMkr9H+FrfT5MYibPtHGWEAACASNAHfUQw04ITfIEuhAex3gviBop7VCODGPRsGXCT66eG2ecUPBX1oEmMiexUzWpKk9DyJ8eF0cU1i4ULAYxM1ot1II/V9hK/hYIiCwq21zXfgL3gd8h41UwDWuI5t5L/RfmobXv0DceIUfgwMBIBASAtxRI/htH/wCQ2A4VB3gviAkH9VUFjEPb8GXPt2Jb30ygYcz4+b5c2U+o+PDy0dvL9Kju8vX+UP8Qh0X21pJmnJWDR0Trvsuf2ZkxyvHOsz3Qv+bGk/k9wvs4Dscp8+V/QN8R5i+oKm/FvofkC8AcRPQYkAUIAAE/CLAHfVQA07IDbIEOtBeB7gv8OuV2o0u5uEx+DJHbsujuecrjtbWQZFso4OCvI6GdXuTCRwow6ZQkycjbvQWLH6f3kKlH+7nLFOnHJg1DQBwv8G5/1eh/+1MKbrWAjv4jpy4ge/o3459+FCh/wFZP4ibgBYDogABIOAXAe6oEfy2D36BITAcqg5wX+DXK7UbXczDZ/BFYy9man86UTvTRO0nidqfzbOsmomapKc+lY/YPk+WBYr5w7vOxilseSrNj7ZKzdRxkqREzPmcxp+qfdtR3kK2rBAynUaT0KlXk/SXMn/OF2UZuVx4H1ZQZ9aOXvHTDAGBXcm2el5nYZ/wHfAzm9c/of/NTGejd8OTbRRedA4EgMCQEOCOeqgB52jlXhyoW2lh0RM12jniKPhg1pb7giH5sKKsYh6+gy+MP9paMqEGkkL/i8aBvysRENjBdmG7kemA0P9KS+n3QxA3/eKN0YAAEAgYAe6oQQ4Eli0C4iYYUiMG2+C+IGCXtVI0MY/IHrxDJRMg1+a/LTcYC/1faS24gSMgsIPvAHETmQ4I/eeG4fk9iBvPC4DhgQAQCAcB7qhjCE6Lc7zsPOPjQp2enahO+gVxA+Kmc/10k5PcF4TjoZpLIubR8YP3+WyqdqZVv9mWo47HNUE5XvsjQIaKtdD/5uYTdQuBXcc2DN8B2w3dpwj9D8gTgLgJaDEgChAAAn4R4I66SGr0+vfiRO1tb6m9oxN1enag9rZ31eHZhbpM31MRzRN1uThRh8mWrr+QnKhP0r8P0mu3koMlWUJ9JbyvLbV3dpGTANTP3rau4XDryFzXY6VbkyZb6nCRBbg0Br93QePtpv3fmsh+Ca/TRPdL8lbjR3PZzeZ7og6PTtK56nFJlhN1erSrt0ptH6RkEBFCpyRXXRx6DPqr5+omC9AuHGy4L/DrldqNLubRcfAV+oM35ENwKPS/nSlF11pgB9+BjJvIdEDof0DWD+ImoMWAKEAACPhFgDtqf0H0idor1HK5PCKChgiUC02cbBtixty7qw5TciT73JAtWZbK3hkPiHWbJUnzVH1ytpsSQOLaZ0/VclzWPuuTyKGUODGESNYHH0u3n6hiv0VsieCR99A8GGFEY1Rm3KzAwciI1xUEGlvnyLHivsCvV2o3uphHZA/eIG5A3Aj9b2dK0bUW2MF3gLiJTAeE/gdk/SBuAloMiAIEgIBfBLijLpILvf1tIygcxMonn2WExWRXnZpAe0FZOjpzRme8sM+ye/R1Row4+q8ibspZNJksOalUlwTIyKZCVs7l0e4y04fktuFi5rwCh97WLpen7txxX6hrw32BX6/UbnQxj8gevEHcgLgR+t/OlKJrLbCD7wBxE5kOCP0PyPpB3AS0GBAFCAABvwhwR+0toLQRFJZsFi1fFVlS8VmxvzWIG5khQwSEyfYpE0WrsMy3VNE2KLMtq0iC2HDJ76mYa34PSJJV64DPlzrCfYFfr9RudDGPyB68QdyAuBH6386UomstsIPvAHETmQ4I/Q/I+kHcBLQYEAUIAAG/CHBH3SSIzYkH2uIkfllWSwMCIe2PZa7ozBcbIZIRFoVslVT2KqKjSNQU/85krcq4KRM3pqbNOnO+UKemXg/Vyslr7SwD6VoZNzYcGuDeZM1xL1ubEWLM7divV2o3upiHlwfvhbqaz9RO6hen6ngBMgGEUn86IPS/nSlF11pgB98B4saLDvTnK4p+Weh/QNYP4iagxYAoQAAI+EWAO+pmgfmFulzYf5v1swyG00LEya46PDrQxXqtwfFYiBs977z4clbjR5xGVUVEma1SIG5Qw8ZqJ0u7qmuP3Bf49UrtRhfz8PjgfTWbqskExE0xOMDfmw3MhP63M6XoWgvs4DtA3HjUAR9+Uuh/QNYP4iagxYAoQAAI+EWAO+q6Ad6m7qMaL7zQr32cCuLGkBkscyfvY5NbpWzjVQbTFykxlcuWb7kqFCwGcQNSplKPmpMzS50rt+W+wK9Xaje6mIfHB+/BETeLLEsomSNg86g3bQM2of/tTCm61gI7jzoA37FZcrOtjY21vdD/gKwfxE1AiwFRgAAQ8IsAd9RVQd3GPyOSohYBUkXcmK1L5S1WpeLEGSlS3P5Uuo8CZ8e9plCy7OMiPbpbZM6Ugu8LdciPL2djyALI5bnSMeG67/JnG1+j0jzKwT9kGC4m3Bf49UrtRhfzQPBVn4QBcVMfK496tSpoFPrfzpSiay2w87jGIG5A3Kyy8018LvQ/IOsHcRPQYkAUIAAE/CLAHbXXoNvUnEl21R77PTy7yIgKExCvICwykkVm7ug2kmCxXFucqMO07kyhZk3WpyRVzNHhkiTKa/9UbmFyH/0t5S6ePnXCMnVW4ACSBdk6DXWA+wK/Xqnd6GIeUQRfC3U+n6urtnMFcQPipp3pDb41fMeahAl8B3zHBq0fxM0GwUXXQAAIDAsB/qDilbih7UJ5sd5iweOMHMmJFf35rYROZNLHgAvZFydqL6GCv3RM+IHa295Se9lx4fy+y7NddWt7Vx2e0X0n6elOujjxRE3S056yvvOMmxN1SvV3zohA2VU0fjGzxrSXJJEhncwrbZU6UIdpPZ9qGSnbZ297ksq5R/NNs3MMwbQCh4aBO8cG781axfPKfcGwvJiUVsyjLZnRoj3/1vxqNlP7SaL2p1O1M03UeV6weKHOE6qFQ7acqOMCAUOf7c9ZMLWYq/O0dk6SFz0+TzJ/WbnFaa6OafzZPCV5jmfztICyLpxMxZSp30QXVJ7O0nuIDErlXFDbTEYaI/17ll7bSWbtCaMWGG/iW+eh9yn0X5oG/lqBgMDOo17CdzCf53Edhu4Lmsov9H+FrfT5MYibPtHGWEAACASNAHfU3oL1lJCxH4ttPeWpb0IiJ24sJFHfsmA8ZNJsSAe4Lwjaaa0QTszD40O/Cb6ILOHZMJpoSdR5LttCHU8najItkiBztZ8WLS/WnJmrY0bm6HEmame2cH7rS2PKz2nMQuHkym/NjSyJOk4JokxmFF92Yt40aOrqfqH/K2wFH0sEBHa5ffZPIsB39I95V/Y35H6E/kvT8PoXiBuv8GNwIAAEQkKAO2o/xI3eDiS3CLEsB8qKqdx2xO7dUEBratwUt0r5wauH+W4KR/QbNOnEfUFIPqqpLGIe3oOvicyYIXnmSZphw4kUE6iJo8PnM7VPhM6EkzzUfs5InzoBTkayFDJyrmbLrJ002KhD3HBZKPtn7iaLhhzADFl2of9NjSfy+wV28B1KPYfvGLIvaCq70P+AfAGIm4AWA6IAASDgFwHuqLsmIk6PttSt7arf5daftK7N0YHesmS2LqXbkjxnuSwu1Gm+hUtvv7pcgDzpWlfQn3+d4r7Ar1dqN7qYh/fgq5DVQvLYCJLsGidzztPtTJrk4dulaAtT0wfyfDsVbYPKt2kVSB+bXDl+WcZNKSuo0Ed+P643XaOu7hf6386UomstsPOoy1YiF76jsd/ryqZi6Ufof0DWD+ImoMWAKEAACPhF4Pr161l9hYl6/INHQWcEILj3H9xjDca7Bi9deyn3BX69UrvRxcNng+ArJzfSejNZ3Zj0vYV8qdGvM/h6biNBsm+2c2Jkro7TrU/l6+dsm1T9gILX0pmqfdu2qjrETSFrp/74IHL6wkrofztTiq61wK6GjZs1he+Y6fpYVv9gtlk2J5wNvnjtx38K/Q/I+kHcBLQYEAUIAAG/CNy5cycP1v7rd94GcYPtPNCBCHWASFvz0PbKK6/4dUotRzfzoNdmD/wLdbWw/zbrRz9kNyNunitx/3yWFx+W15tuk5IP/Ff59quJmiSy9o41EygPXhF8raMDPtoI/W9pS7E1F9jlui9tyL6mdr9B/sR+f3WfwuaFHDbSF75jHYzRpqyDQv8DMn4QNwEtBkQBAkDALwL379/PA7bf+d3fRtAeYdCOLJrxZtHUXds//pOj3A/cvXvXr1NqObp4+BRBT/lBdZMP787gy5nZooOyHTr5acYKFbNtVOtsk0rrVMz4t91ZFs+kULDYKRfhBuJmk7rSZd9C/1vaUmzNBXbwHbrGDXzHWuRblzbdV19C/wMyfhA3AS0GRAECQMAvAg8fPswDNtoq8eivvwfyBuQNdCAiHfiHf/xb9YVf/PncDzx48MCvU2o5unj4DDH4yooT87o15sE83XIxLRwB/vy5Mtf5aVKmDREzROjwk6uWnxHpslDHxWO7rSRNmZyhY8J1v+XP5Bj9kmIY24230P+WthRbc4EdfAd8h0cd8OHjhP4HZPwgbgJaDIgCBICAfwRee+21PGj7pa+8ilo3EQXtdTMycN84s3KItPnN138jt/+XX35ZPaeH1QH/iIdPjw/erowbTcKwjBouY0rqFE6Ros9d1w2pYz023AT3lGFTqNOTETeSPMoycfI6FVRnx2TqgLjxEUitM6bQ/wHbsQ/RBXbcLnt+D99hfBde1/EB67YR+u/DAB1jgrhxAIPLQAAIxInAxx9/rK5du5YHb5R5c//BWyBwQOAg82akOvD3T/9GUU0rnmlDD22PHj0avBMUD589B1z8gZmCr/051b4gAmSmzqluTUKFgU0Wiy0omav9nDjhn7uum/oWhW1PYt6LdPzjJEmJGJJjP83qsdTfWOgjyHemidpPZvrYcZI/meb/H3bo+pq1Ozg+eM/Xt7v3Qv8Hb839TkBgJ2you/Wpo/fwHf3iXWdNYrhH6H+/plc5GoibSnjwIRAAAjEi8N577+UP5tx54z0/XQbvoQ/D1wF+ehRfz3v37o3C9fE5xfCwjTkiyOM6IPR/FBbd3yQEdh6JG76eeA/77ksHhP73Z3YrRwJxsxIi3AAEgECMCHz44YfqC1/4Agic0nHAww/W+T9kvMd6ch34mZ/5GfWnf/qno3F5fG59PfBiHARXoeiA0P/RWHU/ExHYgbiJpihvKLbrWw6h//2YXK1RQNzUggk3AQEgEBMCtEWC6ltwx433CPChA3HoAG2VfPfdd0fh8q5fv577sY9/+MNOg4/z2VTtTKt+s+1FCPo6xd13QDOk8a+99FKu/6Mw6B4nAd8BAnZItt61rKH6DhA3PTpBDAUEgED4CBBpgwA9jgAd64x1rtKBoZ8oRd729u3buT97+Jd/CQIBJFI0OvDjH/wg1336IgY/zRCA7wBx0zUZMpT+QvYdIG6a+THcDQSAwIgRoBNkeKYNFSudvX2ovvtXf4HCtCMtTIsTosZ5QlTTdX30199LCxTTSXKGzKHMmydPngza492/fz+fz32q2wPiAhhEogPvffvbue7fvXt30HbsQ3j4DhA3sf6/CNl3gLjx4Q0xJhAAAkEiQN+wm6CNSBs6HrhpAIj7QQRAB4arA1ef/kj9yvRm7geGHvA9fPgwnwulftM3ibE+jGPe8QSiLz79VL3ypS/luj+G7Lm+H5rgO+KxF/jG5VqH7jtA3PTtCTEeEAACwSJAQZohbv74T45A2iDLBjoQoQ5878Pv5n7gxo0bwfqrOoK9ePFC3by5JKJu/vIvq2dPn4K8iSTrJMaAjAKvu6+/ntswZdE+e/asjrngHoYAfMcymI/RjmKc8xB8B4gb5qTwFggAgbgR4MX4aOsEMieGmzmBtcPatdEBQ+DS69B/fvzjHyva9mXmdP3zn1fvvv02sm9A3oyKwCNCkuo43fjyl3NdJ51///33h27C3uSH7wB5EwOBMyTfMfwnEm/uDAMDASAwNgRMYEOvbYI+tAVpAB0Ytg5wXzAGP0enZPE54T0Kc49JB/gJMHxeb7755hjM1+sc4DvgK7hNje390HwHiBuv7hCDAwEgEBIC/B8SAu9hB95YP6xfGx3gviAkH9VGlo8++kjR1i8+N7xHUDZGHaDs2ffee6+NuaAtQwC+A35ijH7CNqfQfQeIG+aY8BYIAIG4EeBOvE3Qh7YgDaADw9YB7gvG4hXp1Lw//MM/VFtbW+qnfuqnQOBMEIxxPR/D+8997nPq1VdfVW+99ZaibT746QYB+A74ijH4h6o5DMV3gLjpxqehFyAABEaAAHfqCLyHHXhj/bB+bXSA+4IRuDb16NEjRUVa+bzwHsHYmHWA6jrRNh/8tEMAvgN+Ysx+wja3kH0HiJt2/gytgQAQGBEC3IG3CfrQFqQBdGDYOsB9wdBdHAVefD54j0AsJh3AUeDrezD4DviKmHxFca4h+g4QN+v7M7QEAkBgZAhwp43Ae9iBN9YP69dGB7gvGLKboy0OPNPm5V/4hfREqcff//6oThSK4eQTzHH1CT9PLi/V+9/5jjhZir49f/LkyZDN2Ivs8B2r9Q02OR6MhuI7QNx4cYcYFAgAgRAR4MFam6APbUEaQAeGrQPcF4Toq+rKRN8YmrkQafP8Jz8BYYNjwEevAy8+/VS99qu/muv+3bt365oM7ssQgO8YDykBgqn+WobuO0DcwEUDASAABDIETIBDrwi8hx14Y/2wfm10gPuCITtICljNXN779rdHH7AjQKkfoIwdq48+/DDXfTpNDT/NEIDvgC2N3Ue45hey7wBx08yP4W4gAARGjIAJcEDcIOhvE/Sj7fD1h/uCIbs8OtrUzIVSwV0PqriOIG2MOmB0n17x0wwB+A74hDH6hLpzCtV3wJM182O4GwgAgREjwB01gu/hB99YQ6zhujrAfcGQXZ6YB7YIgbiKTAeE/g/ZkD3ILrCLTG/qBve4b7zkltB/D/bnGhLEjQsZXAcCQCA6BLijXjfgQzuQBdCB4esA9wVDdoRiHgi+QNxEpgNC/4dsyB5kF9hFpjcgZMZLyNRdW6H/HuzPNSSIGxcyuA4EgEB0CHBHjeB7+ME31hBruK4OcF8wZEco5oHgC8RNZDog9H/IhuxBdoFdZHpTN7jHfeMleIT+e7A/15AgblzI4DoQAALRIcAd9boBH9qBLOhOBy7U5WdP1SeLCxTLJhx6/OW+YMiOUMwDwReIm8h0QOj/kA3Zg+wCu8j0BoTMeAmZumsr9N+D/bmGBHHjQgbXgQAQiA4B7qj7DBJXjXV5tKv2jk7U5dmB2ksOdDDfYxC7Sr6xfH65OFGH25O0mOuto02SJRfpWt6a0Fhb6nBhIyUu1OFRttaLA3V4ZrsH1zale9wXDNkRinkg+AJxE5kOCP0fsiF7kF1gF5ne1A3ucd94CR6h/x7szzUkiBsXMrgOBIBAdAhwR72pgLBxv2e7arKtA/jLo60eSIXIyYDFgSJCZbPEjcZYr6eduDlN5HUi7+wET+TrtSECk/uCITtCMQ8EXyBuItMBof9DNmQPsgvsItMbEDLjJWTqrq3Qfw/25xoSxI0LGVwHAkAgOgS4o25MsGwkgLzQGSAZcfMJZYQkB+rUmqGxRgCfkRST5KTXbSjesa2adwjEzdmuulVakxO1Z/Sgtq5dqNMzTUSRblOfp65tV2e7as+Z1SP7Kd9HGUQk3yQlGctjXKhTyhoj3T07SWU6TLbUXnKiLoUuXygirIwdpllm4nPaNnaiTg2BSe1tWFTOpZ6dGBnodcg/Yh4IvkDcRKYDQv+HbMgeZBfYRaY3dYN73Ddegkfovwf7cw057CcS16xwHQgAASCwBgLcUXsnF9KA9ETt0XaaUhBfL/hcOYcqAsMWEI/lWtW8vRM3mqwrkyNP1WmyXiYQtXNvySJdygjCFXpGhIne3rWrTm26cHZgyQrShI4tg8mecZTJ4txClsnr3DJYby6rbIP7gjVcSTBNxDwQfIG4iUwHhP4HY5XDEERgF5negJAZLyFTd22F/gdksiBuAloMiAIEgIBfBLijXhXYdfM5BZmOIBjEzeaygEImbmhr3MShE9bPKBvGkXmSkSsriZvFgc6WqSRLnqpTqrmTyuAgE0vETUaiVGQKadkK883GsJE92u5O3DV/as5llf1yX+DXK7UbXcwDwReIm8h0QOh/O1OKrrXALjK9qRvc477xEjxC/wOyfhA3AS0GRAECQMAvAtxRrwrsuvm8grihLSFmm8u22WJiCubqrSt62wltn9pKt8GUt43Q1hMqbKzbH9J2lTPqQ29toe0raQZF3j9tpWHZPIsTtUdbWo60LHvbW1n77J5061a2tYWyNbKtXFqe3VQujSm1W26LyYsAE2m1eKoL9WZFgXV2ERXmpa01lOFB4+t56+LM+jplkNiyUrQMupgz4UcyH6Zz1pkatKWnct484yadT1kOsfarMDKZKRlWt9LtQgdp4eHDdMuPrGWTEhkuoiOTjc9bEx8OIqUmcUOYXPJ5G5kLrylx85nO/KF15XKkmBSJm4yAKd3H+7USQVmmmQMH0gNrxs9npEv15iLWkMuTvee+wK9Xaje6mAeCLxA3kemA0P92phRda4FdZHoDQma8hEzdtRX6H5D1g7gJaDEgChAAAn4R4I56VWDXzecVxE0aQNq3SungXpMeWg59n8xQKG9RoWwJImryQLpG5kl+L5OnNE66nYuIGqqVk2VZpNkb5n0ho4L6Kgb5uSxEMhmCiu6jDJQtTXQwUsmaqfGZxkHIbCMP8rEstX1yAoPkYCSWkYPJ8El2rxgvk8GGkbxmCBBO3GR4Obcslde5TsFqjRUfh83rMyLlNKmlT9SyrFVGZhji5pNsjqXMoMKaVo9rZMh0vEDS6LZMVzMZUv1ynvhVfy6r7Jf7Ar9eqd3oYh4IvkDcRKYDQv/bmVJ0rQV2kelN3eAe942X4BH6H5D1g7gJaDEgChAAAn4R4I56VWDXzefrEDeGDOFBbTn41QG9DMJNUdecaKggMOzEiI1syMbm23vSbKGMfLERJ5QZYY66zgNySz8pwUPETTmjxFYfxSqzbY62a0YO81mBSNAEEsfcYCExJr0oEhZWuVIMKFuJEyoagyLBs9S1VcSOIUPka1GeZX+aQDPZK4YEyvXDYJK9LokbQ6gV1kUQN471LPS5JPoKOJp1KJJYYgw5TyID685FYFCS6WleIJl0b8g/3KchyBhvkIG1ta+t0P8hG7IH2QV2IG5A+kamA0L/Pdifa8hhP5G4ZoXrQAAIAIE1EOCOelVgt9bntK1me0vd4r902g//O93aYwLSLPgtBq8U9PPMD5MBkZMNWbv8b9Nf4dUVHJf6Y+1KRMyqsWyfU40SllWTBs6OuWbjFcmMMnFjxtnNTi6i7Au9xesw3S7GxnPOm04tchwHXpLDjKePahf6IDBy31eag2vsnFjomrih05541pFbVpqfIG5ygoqRWYJUqe5riZchIgvETZ65Ja+TvOUtgaSfzeayHJ/pdo4ziJt4iICFuqKAZLFAYDbCwIz/T1/jkSDqJgK7EepGex8H39EeQzvhGkK/Qv8D8gQgbgJaDIgCBICAXwS4o14V2HXzOQWtMjCV/WbBr4W4Mfel9WJYrZo0qK0iJlhwakiK0qlVVe1dBEaVjMVaLpQZIYgnCp4dcy2NpwNtF+lRmgufr3lfNT8XeVKUo6oPca+bwHDNoUhSmbXOs1MqsF7euyQknBk3C6q1Ywgu/aq3S/EsINbPqiwpG3HDM7EM/uLVRdwss3qWeFQXJW4yFxtO/Br3BX69UrvRxTwQfBXImYU6ns0y4mamjuddBRELdTWfqR3KFJxM1fGiq36b9XM1S9T+bJ7Ksp9k84xMB4T+tzOl6FoL7CLTm9XEAXzHaoya+avQ+hP6H5D1g7gJaDEgChAAAn4R4I6aB3Gbe78ucZMVHU5M9kGBHKgiFXjQ7LrPdZ3aClKignCxjGMCcJnlYYiBkRI3BktL9lOJuMnIK4NTWe8ykqMj4saavVJaX7M+5YybVL7s/pQwE8SNIWTsJNBybgXd5XpjyLwMu6qixE3nshx/OT9+jfsCv16p3ehiHgi+BHFznkhShYiOLkmWq9nUH3EzT9RkqskaLcdE7cziyyoS+t/OlKJrLbCD74DviEwHhP4HZP0gbgJaDIgCBICAXwS4o+ZB3Ober0Pc2IL3YvBb/NsenDozbgoBs5h/Fqgv66A4CBcRgJu6L5Rd5MqacPTjIBJcpMfEQpAI+UkuQ6bYCJDssxJ5UpKjAmOBkfu+8hxsa8vXTvdVkq2AdXG+9owb23Y1GssQLuVMsOJWKTOO7n+i9pIDdcgyqfT82FZ0tT6qAAATlUlEQVQqm5wlXPl8qRaSqQNEJ42x7W6ir+ZzMbK7Xrkv8OuV2o0u5hHCg/ciy0RJ5iIQ6vzb1lXjzBO1U5JhrvYzsqMLedYmblbJvnIdF+p4OsmJG7WYq+Nkps49Zf50geW6fQj9b2dK0bUW2K3UuR6yK1rbRU0ZV40D37FZ3x2Crj1/HmydOxA30bliTBgIAAEXAvxBxRXQdXt9DeJGkAImyC2TA/ZgXQfmy1ObsnaMwEiPU87rl1iC94TS/3kWRbkPK0YmQKejx0XQXZgDkyXtx7QrBO3LgN60N+QQl419dmap5cLGMvM2pE6JHLHIoTFejZHrPuccmFwCy4xUWpJmZj1N5tVyvrydVRdYIV9+L713ES4u4ibf5ib0gmQp62VxLBc2+X2GZMuOjs+vcx1aYy7Wflif3Be4/MUQrot5hPBAvCoo6krGynE0sbFv2Rp1nnSXmeKPuJmr/bSg+4bJsa7WaoP9CP0fgsEGJKPAboNrVJuUq7TpmqRMnXlUjgPfUXu96mAd8D1C/0Oyy4BkgShAAAgAAa8IcEe9KrDr53NL4GsCWRbcX1KNm+2JktkmlrZUwDXhREMxw+MkrXmSzs1KEug+JamRjcPksWNTHKtIMjj6sRAm1L+N9DCkC+HAa+jQCVY8EyTPKsllLs9bztG2RWyZuSOJFAtGGZayzxNlrSeTzpevEcPJ8pkmPgqnOzECgrAqEzcX6jCxFFU27YyOFbKX3MSNwcdCmlnnrueUHk9fRcik8qzSm/XmYtfRJdbcF3h1Si0HF/Po5SGZAptEnbvGqgyKegq+aBvRxCGj9bOFOp/PdS0c17ws10HcdLieFnzrBJBC/1vaUmzNBXZr4l9njZb3wHcYLOA74Dtc/gYZNy5kcB0IAIHoEOAPKqsCu41/vjhRhwltE6EMl4m6lRAZobeKnJrrdBoVETGLJZFB21Vy0oL1oU+u0vcK2RcHam+bTrbaTbe6iGwYOgUr2VJ7aQFbum9L7fHToFj/RRnFGBkhQASTJFCyQFn0o8fQRZYNuUGk1G5+EhXVOrmV4TJhuKRjsr7MnO1jluedFnomAiztezneJ9Snuc7kMONVYsTIkCXOuymmJrNFE01mGxARPxYCJCOrJPlj1n2iitc1/hfqlGF1KzlRpxwfWle2tUnPh05nyo5gT/WOsnmon90U81QXim2yOZJeWrFOT3zS+nWYnvRFup1hYPCpej3bVZIcMwQLkTbaRm7VnotpW/1q7I5eh/wj5uE1+KKCvXN1Pkt00d7pLCVDiBARW3jSbT26qO75fKb2p1N1PC/WZqGtP+aeuTrOCvDq+jSrx6GsGlP/xQRK+WtGLPFsnPT+VRksqdxTtUNbkuaztOjxsbXGDZFAy7kfJ9TGkEKrZVfPq9rT6VjztP+0MHKO8SK9TmOl+kBbxLLtU3p8U7i4uu+04DJtwcqxoAKtidqnOUymaj+roUP37dP6pONNFcdyiTNfQ9c6tw/ehP4P2ZA9yC6wg+9ItwfBd8B3eDBFMeSwn0jEVPAHEAACQKAdAvxBRQe+1cEd7mmCT/G45iZtI7uXSJI8G8jMnY6Sd2TiVJEe+EytY6fcF7TzKn5bi3l4Db6yILwy40Zv8RGBfpoBMxHBf3k7E31TLwsNK+c4eqvDpFTfxpAEWgZeyFd/+121harchggKTfhIuXTglzCyytLWKXvWJ2U05fVqLO2f62vlOZrriTpO559hkZ181Uw2Ip8YoZau01QTVrlsBoNidpOWY9U65yRPC70V+u/XFAc3usCuxRrUX8c2GTf1dAq+A76jrj4K/Q/IekHcBLQYEAUIAAG/CHBHvU6whzaGZDCvRDZQVtBJWhD48Mxcx+sqXaEtbTx7hbJz7FknwHIVlut8zn2BX6/UbnQxj8CDL010FIL8EolhJ15KJ0KV2rmJGfkgb+9f3mP60q9WuZ8/V+XtDoYo4URURqbwoshO2Wu2X0Xc8G1iaYYOETAN++Z9kF5lBFuRLCpj4CBznHOWWFetg+0zof/tTCm61gI7+A6lMrvipK7UOfiOJRlr8WvGL8F3tPIlIG5awYfGQAAIjAkB/qCyTrCHNkUSgYgbqr+yu6ydgwyQmhkgrHYLbWcrFGeGrhV1rdu/uS8Yso8T89hE8LWgk5imaof/Tiby73S7UxaAOwN086CfLLdQ0TYq2naUbotaZndookRvd1pmnhQCfNc42fXugi8jt9lutJTDRlpQoHfFMlJMMCi2brlkz9ZvZXsTIJWyityymgB07b4z4qaIaxkDI8PqdTYytXkV+j9kQ/Ygu8AOvkOZLL6iji/1sylxY2wBvoN0rYgrfIfd6EHc2HHBVSAABCJEgD+oIDDuNhAGnuvgeaGo1s9lVtsIGK6D4XptuC8YsisU89hE8FXqk4KXQtYMv8dFSriu87b5+4U6N/VaWG2VZQBFtV4cx45n14tBwrLt5oMvM9YV1ZlhNX+uzPxcspvPs1dn+1XETYnQWZJNK2Vz9V2XuKk5NyNH21eh/0M2ZA+yC+wKutd2Xezt4TsMLmXSQtqo0/Zr2pezvcu+ndelXCR/477hOxpZN4ibRnDhZiAABMaMAH9QQZC8XsAL3IDbGHSA+4Ih+zwxj9EEXzpYSIvgsmK5OfFB83QGMPpb7s6IGzMO3+pkiBVXceK0cK8pSGz51t30aSVYiLSiwr8V7Z1BVjaWtV/CtEXfCL6G7CasssN3zNOCxIZMMdlx8B1lsga+w2pCG7kI4mYjsKJTIAAEhogAf1AZQ/CJOYBEgQ6spwPcFwzRlxmZxTxCJm4M2WAhQJaBkyYX6BSp5bUsQ6aYau8kP1Zl1KwidopBi4V4cRI3trEt7RvJbmlvsCwRNNm9pesZrkSCic8a9F2XuDGyrVznIs7r/S303xgFXmshILCD71jWgRI2wvVS24ub2OH30nubfel7yhk38B1VeC3/HxQxXv9vof+1LKafm0Dc9IMzRgECQGAACHBHjYB3vYAXuAG3MegA9wUDcF1OEcU8Qgi+TLDCgh86JpyyZXTtGnkKk3kgp2PD9fuFOk4KNSGsREeZpBDjsPHNGOlr1teyyCY9+NMx2SbDpRwI1C5OnJEbsm9b8OaQvUV7Pcdyv/nc2/Zdm7ipu85lnHNZG+ix0H+nleADGwICuwaYr7NOug2RExXbLOE7xOl6diKjbOOp32tr3xbs83Vu2zd8h838nNdA3DihwQdAAAjEhgB/UBlD8Ik5gESBDqynA9wXDNkPinn0EnytCriL3xxTnZeMlDEEzHTGjrum05lm6jgv6EvtC+SOg2w5FhkkbJw0UHAEiJbP8mLIK8ge+U37XKXjZ0dtp0GOmR/rh07D2iE5RQaKA6Pa7W1kEK1LOajLg6+mfbM5pH00CL7ybWyV67xKj+p9LvR/yIbsQXaBHXyHJo4t/iG3Ictn8B2cZHf4H/iORtYN4qYRXLgZCACBMSPAH1QQ8K4X8AI34DYGHeC+YMg+T8wjiOBL15/Zn9LJU1SrZabOuVxUsDcrPKxPqkoYaUPB+kIdE5GTJCnhQ6dO0alW+/PlqVN5ILWgz2zjUABRIH8yGWiLgiRgzLHe5VNP8nGorRgrUfuzeXYcuDn9SsuXF1WmU7iSJCWozLaIFAtDUIn+lhitbD9f4kdrv0P4LhZKMVzFdYZ9s7415mldIerb1BqaJuo4WwuqQbQzmahUB40cZjwmj32d6xEzYg1M3+xV6P+QDdmD7AI7hukqzDf6ucMu0jFX6hR8R7qmLt8D38G24D7XfivzXx7MzzkkiBsnNPgACACB2BDgDypjCD4xB5Ao0IH1dID7giH7QTGPUIKvEOSYJ2qnmDVCGSmVWzW6IRM2GtiGgG1AMgj9H7Ihe5BdYBfQmnq3H/gOQXB4X48N6abQfw/25xoSxI0LGVwHAkAgOgS4o0bAu17AC9yA2xh0gPuCITtCMY8NPeAO9cGdTmdabsHSmTWy/gyImqGurZFb6P+QDdmD7AI7+A5BVsB3jN83Cv33YH+uIUHcuJDBdSAABKJDgDvqMQSfmANIFOjAejrAfcGQHaGYB4IvEXyl265MoWPagjGzbLcCZgXMhhWwCf0fsiF7kF1gBzso2AErkg7fUcBmWD7CkLzFV6H/HuzPNSSIGxcyuA4EgEB0CHBHjYB3vYAXuAG3MegA9wVDdoRiHgi+LAHGIj3R6orqwACf0WEg9H/IhuxBdoEdbMNiG/AdY/aZQv892J9rSBA3LmRwHQgAgegQ4I56DMEn5gASBTqwng5wXzBkRyjmgeDLEnyN49vhMQdQbeYm9H/IhuxBdoEdfAd8R2Q6IPTfg/25hgRx40IG14EAEIgOAe6oEfCuF/ACN+A2Bh3gvmDIjlDMI7IH7zYBP9qOg9AS+j9kQ/Ygu8AOvgPETWQ6IPTfg/25hgRx40IG14EAEIgOAe6oxxB8Yg4gUaAD6+kA9wVDdoRiHpE9eIN8GQf50mYdhf4P2ZA9yC6wg+8AcROZDgj992B/riFB3LiQwXUgAASiQ+DatWvKOOu/f/o3CkHvekEvcANuQ9eBl669lPuCITtC48/otU0AjLYgQYaoA0L/h2zIHmQX2EUWtA9R1yFztz5a6L8H+3MNCeLGhQyuAwEgEB0Cr732Wh6s/fkHfwbi5jMQEEMnICB/cx0m0tY8tF2/fn3QftDMg17xYN/tgz3wDB9Pof+DtuT+hRfYgbiB/4xMB4T+929+zhFB3DihwQdAAAjEhsC9e/fygO3XvrYN4gbEDXQgQh34nd/97dwP3L59e9BuUDx8RvbgDWIlfGJl02sk9H/Qlty/8AI7+A4QN5HpgND//s3POSKIGyc0+AAIAIHYEPjoo4/ygI2c9m++/hsKW6aaZywgywOYDVEHrj79kfq9b/574QPefffdQbtB8fAZ2YP3pkkB9B8+MST0f9CW3L/wAjv4DhA3kemA0P/+zc85IogbJzT4AAgAgRgRePDggQjcuPPG+wmwmQCDMdoBr2lj5nfnzp3Bu0AzF3oF0RA+0YA16naNhP4P3pr7nYDALrKgHXbYrR0OEU+h//2aXuVoIG4q4cGHQAAIxIbAixcvVJIkIChAUEAHItYBIm2eU7Ay8B/x8IngC+RVZDog9H/gtty3+AK7yPRmiEQDZO6WbBL637fxVYwH4qYCHHwEBIBAvAg8evRIUX0LftIUd+R4j8wT6MD4dIAKlL/zzjujcXxcR/Fg3+2DPfAMH0+h/6Ox6n4mIrADcQPSNzIdEPrfj8nVGgXETS2YcBMQAAJAAAgAASAABIaFgHj4jOzBG8RK+MTKptdI6P+wTNe7tAI7+A4QN5HpgNB/79a4FADEzRILvAMCQAAIAAEgAASAwGgQEA+fkT14b5oUQP/hE0NC/0dj1f1MRGAH3wHiJjIdEPrfj8nVGgXETS2YcBMQAAJAAAgAASAABIaFAN/q+ezpUwQfkQUfsZNL1156Ka9VNizL9S8tfEf4xGTs9r3J+YfqO0Dc+PeNkAAIAAEgAASAABAAAp0jQDV7zDeHjz74AMQNiJtodICISqP7169f79y2xt4hfAeIm00SIyH3HbLvAHEzds+L+QEBIAAEgAAQAAJRInDv3r08eL39ta9FE7SHHBRAtn4C4jffeGOp+7dvR2n/bSYN39GPnsIfhIdzyL4DxE0br4a2QAAIAAEgAASAABAIFIGPPvooD14p++Du668rbJkKL1BA8Nbdmrz49FN175vfFHr/7rvvBmqh4YoF39GdTsK+h4HlEHwHiJtwfSYkAwJAAAgAASAABIBAKwQePHggglizfQSv4zvOPvY15XUpDBZ37txpZT8xN4bvgI8wdjT216H4DhA3MXtkzB0IAAEgAASAABAYNQIvXrxQSZKAvJkgCBt78FWcH5E2z6muEX7WQgC+Az6jaFOx/B2q7wBxs5YrQyMgAASAABAAAkAACAwHgUePHqnbt28rflpMLA/hmGdcASgV1n3nnXeGY5yBSwrfEZf9xOwvQ/cdIG4Cd5YQDwgAASAABIAAEAACQAAIAAEgAASAABCIFwEQN/GuPWYOBIAAEAACQAAIAAEgAASAABAAAkAACASOAIibwBcI4gEBIAAEgAAQAAJAAAgAASAABIAAEAAC8SIA4ibetcfMgQAQAAJAAAgAASAABIAAEAACQAAIAIHAEQBxE/gCQTwgAASAABAAAkAACAABIAAEgAAQAAJAIF4EQNzEu/aYORAAAkAACAABIAAEgAAQAAJAAAgAASAQOAIgbgJfIIgHBIAAEAACQAAIAAEgAASAABAAAkAACMSLAIibeNceMwcCQAAIAAEgAASAABAAAkAACAABIAAEAkcAxE3gCwTxgAAQAAJAAAgAASAABIAAEAACQAAIAIF4EQBxE+/aY+ZAAAgAASAABIAAEAACQAAIAAEgAASAQOAIgLgJfIEgHhAAAkAACAABIAAEgAAQAAJAAAgAASAQLwIgbuJde8wcCAABIAAEgAAQAAJAAAgAASAABIAAEAgcARA3gS8QxAMCQAAIAAEgAASAABAAAkAACAABIAAE4kUAxE28a4+ZAwEgAASAABAAAkAACAABIAAEgAAQAAKBIwDiJvAFgnhAAAgAASAABIAAEAACQAAIAAEgAASAQLwIgLiJd+0xcyAABIAAEAACQAAIAAEgAASAABAAAkAgcAT+Pw2sdu9S7b2KAAAAAElFTkSuQmCC)"
      ]
    },
    {
      "cell_type": "code",
      "metadata": {
        "id": "4BOCoS5mq3hQ"
      },
      "source": [
        "class IANOVA(ABC):\n",
        "\n",
        "  @abstractmethod\n",
        "  def test(self):\n",
        "    pass"
      ],
      "execution_count": 19,
      "outputs": []
    },
    {
      "cell_type": "code",
      "metadata": {
        "id": "m37-5ZeYrtHs"
      },
      "source": [
        "class ANOVA(IANOVA):\n",
        "  def __init__(self, data:pd.DataFrame, dv:str, bw:str):\n",
        "    self.name = 'Parametric ANOVA'\n",
        "    self._data = data\n",
        "    self._dv = dv\n",
        "    self._bw = bw\n",
        "  def test(self) -> pd.DataFrame:\n",
        "    return pg.parametric.anova(data = self._data,\n",
        "                               dv = self._dv,\n",
        "                               between =self._bw)"
      ],
      "execution_count": 44,
      "outputs": []
    },
    {
      "cell_type": "code",
      "metadata": {
        "id": "Gc713tW5toyx"
      },
      "source": [
        "class KW_test(IANOVA):\n",
        "  def __init__(self, data:pd.DataFrame, dv:str, bw:str):\n",
        "    self.name = 'Kruskal-Wallis test'\n",
        "    self._data = data\n",
        "    self._dv = dv\n",
        "    self._bw = bw\n",
        "  def test(self) -> pd.DataFrame:\n",
        "    return pg.nonparametric.kruskal(data = self._data,\n",
        "                                    dv = self._dv,\n",
        "                                    between = self._bw)"
      ],
      "execution_count": 45,
      "outputs": []
    },
    {
      "cell_type": "markdown",
      "metadata": {
        "id": "IPjhIh9RuWvU"
      },
      "source": [
        "## Tạo Creator interface là ICreator và class Comparison kế thừa ICreator, sau đó override method factory_method để thực hiện kiểm tra giả định phân phối và gọi product tương ứng"
      ]
    },
    {
      "cell_type": "code",
      "metadata": {
        "id": "Jd7vuvS2teRx"
      },
      "source": [
        "class ICreator(ABC):\n",
        "    \n",
        "    @abstractmethod\n",
        "    def factory_method(self):\n",
        "        pass"
      ],
      "execution_count": 46,
      "outputs": []
    },
    {
      "cell_type": "code",
      "metadata": {
        "id": "c5wbQ9_Zu0W7"
      },
      "source": [
        "class Comparison(ICreator):\n",
        "    \n",
        "    def __init__(self, \n",
        "                 data: pd.DataFrame, \n",
        "                 dv: str, \n",
        "                 group: str):\n",
        "        self._data = data\n",
        "        self._dv = dv\n",
        "        self._group = group\n",
        "    \n",
        "    def factory_method(self) -> IANOVA:\n",
        "        \n",
        "        # Normality check\n",
        "        nc = pg.normality(data = self._data, \n",
        "                          dv = self._dv, \n",
        "                          group = self._group)\n",
        "        \n",
        "        normality = all(nc.normal.values)\n",
        "        #Sample_size check\n",
        "        large_size = all(self._data.groupby(self._group)[self._dv].agg(lambda x: x.shape[0]).values > 10)\n",
        "        \n",
        "        if (normality & large_size):\n",
        "            print('Dữ liệu phân bố chuẩn và đủ lớn, dùng ANOVA')\n",
        "            return ANOVA(data = self._data, dv = self._dv, bw = self._group)\n",
        "        else:\n",
        "            print('Dữ liệu không thỏa giả định ANOVA, dùng Kruskal-Wallis')\n",
        "            return KW_test(data = self._data, dv = self._dv, bw = self._group)"
      ],
      "execution_count": 47,
      "outputs": []
    },
    {
      "cell_type": "code",
      "metadata": {
        "id": "62LlrYY6wjmJ"
      },
      "source": [
        ""
      ],
      "execution_count": null,
      "outputs": []
    },
    {
      "cell_type": "markdown",
      "metadata": {
        "id": "YTtKiE_5wkd3"
      },
      "source": [
        "### Sử dụng"
      ]
    },
    {
      "cell_type": "code",
      "metadata": {
        "colab": {
          "base_uri": "https://localhost:8080/",
          "height": 97
        },
        "id": "HZDvBTt8wmlB",
        "outputId": "029f9a51-6d83-4c06-a315-9d693c7d1d35"
      },
      "source": [
        "CASE_A = Comparison(data = data_A, dv = 'Thickness', group = 'Diagnostic')\n",
        "\n",
        "CASE_A.factory_method().test()"
      ],
      "execution_count": 50,
      "outputs": [
        {
          "output_type": "stream",
          "text": [
            "Dữ liệu không thỏa giả định ANOVA, dùng Kruskal-Wallis\n"
          ],
          "name": "stdout"
        },
        {
          "output_type": "execute_result",
          "data": {
            "text/html": [
              "<div>\n",
              "<style scoped>\n",
              "    .dataframe tbody tr th:only-of-type {\n",
              "        vertical-align: middle;\n",
              "    }\n",
              "\n",
              "    .dataframe tbody tr th {\n",
              "        vertical-align: top;\n",
              "    }\n",
              "\n",
              "    .dataframe thead th {\n",
              "        text-align: right;\n",
              "    }\n",
              "</style>\n",
              "<table border=\"1\" class=\"dataframe\">\n",
              "  <thead>\n",
              "    <tr style=\"text-align: right;\">\n",
              "      <th></th>\n",
              "      <th>Source</th>\n",
              "      <th>ddof1</th>\n",
              "      <th>H</th>\n",
              "      <th>p-unc</th>\n",
              "    </tr>\n",
              "  </thead>\n",
              "  <tbody>\n",
              "    <tr>\n",
              "      <th>Kruskal</th>\n",
              "      <td>Diagnostic</td>\n",
              "      <td>2</td>\n",
              "      <td>31.130711</td>\n",
              "      <td>1.738009e-07</td>\n",
              "    </tr>\n",
              "  </tbody>\n",
              "</table>\n",
              "</div>"
            ],
            "text/plain": [
              "             Source  ddof1          H         p-unc\n",
              "Kruskal  Diagnostic      2  31.130711  1.738009e-07"
            ]
          },
          "metadata": {
            "tags": []
          },
          "execution_count": 50
        }
      ]
    },
    {
      "cell_type": "code",
      "metadata": {
        "colab": {
          "base_uri": "https://localhost:8080/",
          "height": 97
        },
        "id": "6V44KtgG4D2N",
        "outputId": "0bd233b4-aa6f-4328-f540-57e26cb7f66f"
      },
      "source": [
        "CASE_B = Comparison(data = data_A, dv = 'DmCO', group = 'Diagnostic')\n",
        "\n",
        "CASE_B.factory_method().test()"
      ],
      "execution_count": 52,
      "outputs": [
        {
          "output_type": "stream",
          "text": [
            "Dữ liệu không thỏa giả định ANOVA, dùng Kruskal-Wallis\n"
          ],
          "name": "stdout"
        },
        {
          "output_type": "execute_result",
          "data": {
            "text/html": [
              "<div>\n",
              "<style scoped>\n",
              "    .dataframe tbody tr th:only-of-type {\n",
              "        vertical-align: middle;\n",
              "    }\n",
              "\n",
              "    .dataframe tbody tr th {\n",
              "        vertical-align: top;\n",
              "    }\n",
              "\n",
              "    .dataframe thead th {\n",
              "        text-align: right;\n",
              "    }\n",
              "</style>\n",
              "<table border=\"1\" class=\"dataframe\">\n",
              "  <thead>\n",
              "    <tr style=\"text-align: right;\">\n",
              "      <th></th>\n",
              "      <th>Source</th>\n",
              "      <th>ddof1</th>\n",
              "      <th>H</th>\n",
              "      <th>p-unc</th>\n",
              "    </tr>\n",
              "  </thead>\n",
              "  <tbody>\n",
              "    <tr>\n",
              "      <th>Kruskal</th>\n",
              "      <td>Diagnostic</td>\n",
              "      <td>2</td>\n",
              "      <td>8.929143</td>\n",
              "      <td>0.01151</td>\n",
              "    </tr>\n",
              "  </tbody>\n",
              "</table>\n",
              "</div>"
            ],
            "text/plain": [
              "             Source  ddof1         H    p-unc\n",
              "Kruskal  Diagnostic      2  8.929143  0.01151"
            ]
          },
          "metadata": {
            "tags": []
          },
          "execution_count": 52
        }
      ]
    },
    {
      "cell_type": "code",
      "metadata": {
        "colab": {
          "base_uri": "https://localhost:8080/",
          "height": 97
        },
        "id": "ssdWS8_s4KjJ",
        "outputId": "a0432baa-0d70-4b74-800b-ba3baa13b8a2"
      },
      "source": [
        "CASE_C = Comparison(data = data_B, dv = 'Sepal.Width', group = 'Species')\n",
        "\n",
        "CASE_C.factory_method().test()"
      ],
      "execution_count": 53,
      "outputs": [
        {
          "output_type": "stream",
          "text": [
            "Dữ liệu phân bố chuẩn và đủ lớn, dùng ANOVA\n"
          ],
          "name": "stdout"
        },
        {
          "output_type": "execute_result",
          "data": {
            "text/html": [
              "<div>\n",
              "<style scoped>\n",
              "    .dataframe tbody tr th:only-of-type {\n",
              "        vertical-align: middle;\n",
              "    }\n",
              "\n",
              "    .dataframe tbody tr th {\n",
              "        vertical-align: top;\n",
              "    }\n",
              "\n",
              "    .dataframe thead th {\n",
              "        text-align: right;\n",
              "    }\n",
              "</style>\n",
              "<table border=\"1\" class=\"dataframe\">\n",
              "  <thead>\n",
              "    <tr style=\"text-align: right;\">\n",
              "      <th></th>\n",
              "      <th>Source</th>\n",
              "      <th>ddof1</th>\n",
              "      <th>ddof2</th>\n",
              "      <th>F</th>\n",
              "      <th>p-unc</th>\n",
              "      <th>np2</th>\n",
              "    </tr>\n",
              "  </thead>\n",
              "  <tbody>\n",
              "    <tr>\n",
              "      <th>0</th>\n",
              "      <td>Species</td>\n",
              "      <td>2</td>\n",
              "      <td>147</td>\n",
              "      <td>49.16004</td>\n",
              "      <td>4.492017e-17</td>\n",
              "      <td>0.400783</td>\n",
              "    </tr>\n",
              "  </tbody>\n",
              "</table>\n",
              "</div>"
            ],
            "text/plain": [
              "    Source  ddof1  ddof2         F         p-unc       np2\n",
              "0  Species      2    147  49.16004  4.492017e-17  0.400783"
            ]
          },
          "metadata": {
            "tags": []
          },
          "execution_count": 53
        }
      ]
    }
  ]
}