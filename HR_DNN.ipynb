{
  "nbformat": 4,
  "nbformat_minor": 0,
  "metadata": {
    "colab": {
      "name": "HR_DNN.ipynb",
      "provenance": [],
      "collapsed_sections": [],
      "mount_file_id": "1QwdNRqJYFl2FpvevQruDFeso5dWTZyX7",
      "authorship_tag": "ABX9TyPwqNkX0rI9kLLGRFLkkNe6",
      "include_colab_link": true
    },
    "kernelspec": {
      "display_name": "Python 3",
      "name": "python3"
    },
    "language_info": {
      "name": "python"
    }
  },
  "cells": [
    {
      "cell_type": "markdown",
      "metadata": {
        "id": "view-in-github",
        "colab_type": "text"
      },
      "source": [
        "<a href=\"https://colab.research.google.com/github/LongNguyen1984/TimeSeriesWithPython/blob/main/HR_DNN.ipynb\" target=\"_parent\"><img src=\"https://colab.research.google.com/assets/colab-badge.svg\" alt=\"Open In Colab\"/></a>"
      ]
    },
    {
      "cell_type": "code",
      "metadata": {
        "id": "UkOOrMAorCYR"
      },
      "source": [
        "import os\n",
        "\n",
        "path = 'drive/Shareddrives/AIOT_LAB_DOCS/Data/'"
      ],
      "execution_count": null,
      "outputs": []
    },
    {
      "cell_type": "code",
      "metadata": {
        "colab": {
          "base_uri": "https://localhost:8080/"
        },
        "id": "077aQTDHrM_D",
        "outputId": "8f0e529a-13c9-497e-a805-78eca6198b4f"
      },
      "source": [
        "cd drive/Shareddrives/AIOT_LAB_DOCS/Data/"
      ],
      "execution_count": null,
      "outputs": [
        {
          "output_type": "stream",
          "text": [
            "/content/drive/Shareddrives/AIOT_LAB_DOCS/Data\n"
          ],
          "name": "stdout"
        }
      ]
    },
    {
      "cell_type": "markdown",
      "metadata": {
        "id": "79uW3vdSrReC"
      },
      "source": [
        "##  Read matfile"
      ]
    },
    {
      "cell_type": "code",
      "metadata": {
        "colab": {
          "base_uri": "https://localhost:8080/"
        },
        "id": "uHopD26Frafd",
        "outputId": "0086ef22-d439-4924-c1e9-4aaaa540e27e"
      },
      "source": [
        "files = os.listdir('/content/'+path)\n",
        "files"
      ],
      "execution_count": null,
      "outputs": [
        {
          "output_type": "execute_result",
          "data": {
            "text/plain": [
              "['DATA_02_TYPE02_BPMtrace.mat',\n",
              " 'DATA_03_TYPE02_BPMtrace.mat',\n",
              " 'DATA_04_TYPE02_BPMtrace.mat',\n",
              " 'DATA_05_TYPE02_BPMtrace.mat',\n",
              " 'DATA_06_TYPE02_BPMtrace.mat',\n",
              " 'DATA_07_TYPE02_BPMtrace.mat',\n",
              " 'DATA_08_TYPE02_BPMtrace.mat',\n",
              " 'DATA_10_TYPE02_BPMtrace.mat',\n",
              " 'DATA_09_TYPE02_BPMtrace.mat',\n",
              " 'DATA_11_TYPE02_BPMtrace.mat',\n",
              " 'DATA_01_TYPE01_BPMtrace.mat',\n",
              " 'DATA_12_TYPE02_BPMtrace.mat',\n",
              " 'DATA_04_TYPE02.mat',\n",
              " 'DATA_05_TYPE02.mat',\n",
              " 'DATA_01_TYPE01.mat',\n",
              " 'DATA_06_TYPE02.mat',\n",
              " 'DATA_03_TYPE02.mat',\n",
              " 'DATA_11_TYPE02.mat',\n",
              " 'DATA_12_TYPE02.mat',\n",
              " 'DATA_07_TYPE02.mat',\n",
              " 'DATA_02_TYPE02.mat',\n",
              " 'DATA_08_TYPE02.mat',\n",
              " 'DATA_10_TYPE02.mat',\n",
              " 'DATA_09_TYPE02.mat',\n",
              " 'TrainSubj1',\n",
              " 'TrainSubj2',\n",
              " 'TrainSubj3',\n",
              " 'TrainSubj4',\n",
              " 'TrainSubj5',\n",
              " 'TrainSubj6',\n",
              " 'TrainSubj7',\n",
              " 'TrainSubj8',\n",
              " 'TrainSubj9',\n",
              " 'TrainSubj10',\n",
              " 'TrainSubj11',\n",
              " 'TrainSubj12',\n",
              " 'resultsS0.pickle',\n",
              " 'resultsS1.pickle',\n",
              " 'resultsS2.pickle',\n",
              " 'my_first_model.png',\n",
              " 'resultsS4.pickle',\n",
              " 'resultsS5.pickle',\n",
              " 'resultsS7.pickle',\n",
              " 'resultsS8.pickle',\n",
              " 'resultsS9.pickle',\n",
              " 'dataset.pickle',\n",
              " 'resultsS6.pickle',\n",
              " 'resultsS3.pickle']"
            ]
          },
          "metadata": {
            "tags": []
          },
          "execution_count": 3
        }
      ]
    },
    {
      "cell_type": "markdown",
      "metadata": {
        "id": "MfwbBMxrrhLx"
      },
      "source": [
        "## Read into dataframe of pandas"
      ]
    },
    {
      "cell_type": "code",
      "metadata": {
        "id": "Bytp2XImrnVI"
      },
      "source": [
        "import pandas as pd\n",
        "from pathlib import Path\n",
        "\n",
        "import scipy.io as sio\n",
        "from sklearn.preprocessing import MinMaxScaler\n",
        "\n",
        "scaler = MinMaxScaler()\n",
        "#Xscaled = scaler.fit_transform(dfs[1])\n",
        "\n",
        "def read_folder(mat_folder, HR = False):\n",
        "    ''' Input is a folder with csv files; return list of data frames.'''\n",
        "    mat_folder = Path(mat_folder).absolute()\n",
        "    if HR == False:\n",
        "      mat_files = [f for f in mat_folder.iterdir() if f.name.endswith('mat') and not('BPMtrace' in f.name)]\n",
        "      dfs = [\n",
        "        \n",
        "        #pd.DataFrame(sio.loadmat(csv_file)['sig']).T.assign(rating_src = f'rating-{idx}')#assin a name rating to the column\n",
        "        #pd.DataFrame(sio.loadmat(csv_file)['sig']).T.assign(Subject = f'{idx}')\n",
        "        pd.DataFrame(scaler.fit_transform(pd.DataFrame(sio.loadmat(mat_file)['sig']).T)).assign(Subject = f'{idx-1}') # sclaing [0,1] and then convert to dataframe\n",
        "        for idx, mat_file in enumerate(mat_files, 1)\n",
        "    ]\n",
        "    else:\n",
        "      mat_files = [f for f in mat_folder.iterdir() if f.name.endswith('mat') and ('BPMtrace' in f.name)] \n",
        "      dfs = [\n",
        "        \n",
        "        #pd.DataFrame(sio.loadmat(csv_file)['sig']).T.assign(rating_src = f'rating-{idx}')#assin a name rating to the column\n",
        "        #pd.DataFrame(sio.loadmat(csv_file)['sig']).T.assign(Subject = f'{idx}')\n",
        "        pd.DataFrame(pd.DataFrame(sio.loadmat(mat_file)['BPM0'])).assign(Subject = f'{idx-1}') # sclaing [0,1] and then convert to dataframe\n",
        "        for idx, mat_file in enumerate(mat_files, 1)\n",
        "    ]\n",
        "    #data = scaler.fit_transform(sio.loadmat(csv_file)['sig'])\n",
        "    # the assign() method adds a helper column rating\n",
        "    \n",
        "    return mat_files, dfs"
      ],
      "execution_count": null,
      "outputs": []
    },
    {
      "cell_type": "code",
      "metadata": {
        "id": "QmzButAbrqnZ"
      },
      "source": [
        "parent_path ='/content/'+path\n",
        "mat_files, dfs = read_folder(parent_path)"
      ],
      "execution_count": null,
      "outputs": []
    },
    {
      "cell_type": "markdown",
      "metadata": {
        "id": "dS6w49tGr6Ww"
      },
      "source": [
        "### Check the read file"
      ]
    },
    {
      "cell_type": "code",
      "metadata": {
        "colab": {
          "base_uri": "https://localhost:8080/"
        },
        "id": "IuM9QAW3sLmv",
        "outputId": "c2dc66cf-c259-4f95-eb8f-58ddf9f62bfd"
      },
      "source": [
        "mat_files"
      ],
      "execution_count": null,
      "outputs": [
        {
          "output_type": "execute_result",
          "data": {
            "text/plain": [
              "[PosixPath('/content/drive/Shareddrives/AIOT_LAB_DOCS/Data/DATA_04_TYPE02.mat'),\n",
              " PosixPath('/content/drive/Shareddrives/AIOT_LAB_DOCS/Data/DATA_05_TYPE02.mat'),\n",
              " PosixPath('/content/drive/Shareddrives/AIOT_LAB_DOCS/Data/DATA_01_TYPE01.mat'),\n",
              " PosixPath('/content/drive/Shareddrives/AIOT_LAB_DOCS/Data/DATA_06_TYPE02.mat'),\n",
              " PosixPath('/content/drive/Shareddrives/AIOT_LAB_DOCS/Data/DATA_03_TYPE02.mat'),\n",
              " PosixPath('/content/drive/Shareddrives/AIOT_LAB_DOCS/Data/DATA_11_TYPE02.mat'),\n",
              " PosixPath('/content/drive/Shareddrives/AIOT_LAB_DOCS/Data/DATA_12_TYPE02.mat'),\n",
              " PosixPath('/content/drive/Shareddrives/AIOT_LAB_DOCS/Data/DATA_07_TYPE02.mat'),\n",
              " PosixPath('/content/drive/Shareddrives/AIOT_LAB_DOCS/Data/DATA_02_TYPE02.mat'),\n",
              " PosixPath('/content/drive/Shareddrives/AIOT_LAB_DOCS/Data/DATA_08_TYPE02.mat'),\n",
              " PosixPath('/content/drive/Shareddrives/AIOT_LAB_DOCS/Data/DATA_10_TYPE02.mat'),\n",
              " PosixPath('/content/drive/Shareddrives/AIOT_LAB_DOCS/Data/DATA_09_TYPE02.mat')]"
            ]
          },
          "metadata": {
            "tags": []
          },
          "execution_count": 7
        }
      ]
    },
    {
      "cell_type": "markdown",
      "metadata": {
        "id": "-Dv29s-3suMe"
      },
      "source": [
        "## Read heart rate data"
      ]
    },
    {
      "cell_type": "code",
      "metadata": {
        "id": "AWfvSmO_sxS8"
      },
      "source": [
        "hr_file, hrdfs = read_folder(parent_path, HR=True)"
      ],
      "execution_count": null,
      "outputs": []
    },
    {
      "cell_type": "code",
      "metadata": {
        "colab": {
          "base_uri": "https://localhost:8080/",
          "height": 417
        },
        "id": "wV6LpfeXvavt",
        "outputId": "658ac70f-e730-40f2-9452-5205221d9b36"
      },
      "source": [
        "hrdfs[8]"
      ],
      "execution_count": null,
      "outputs": [
        {
          "output_type": "execute_result",
          "data": {
            "text/html": [
              "<div>\n",
              "<style scoped>\n",
              "    .dataframe tbody tr th:only-of-type {\n",
              "        vertical-align: middle;\n",
              "    }\n",
              "\n",
              "    .dataframe tbody tr th {\n",
              "        vertical-align: top;\n",
              "    }\n",
              "\n",
              "    .dataframe thead th {\n",
              "        text-align: right;\n",
              "    }\n",
              "</style>\n",
              "<table border=\"1\" class=\"dataframe\">\n",
              "  <thead>\n",
              "    <tr style=\"text-align: right;\">\n",
              "      <th></th>\n",
              "      <th>0</th>\n",
              "      <th>Subject</th>\n",
              "    </tr>\n",
              "  </thead>\n",
              "  <tbody>\n",
              "    <tr>\n",
              "      <th>0</th>\n",
              "      <td>86.5052</td>\n",
              "      <td>8</td>\n",
              "    </tr>\n",
              "    <tr>\n",
              "      <th>1</th>\n",
              "      <td>85.4214</td>\n",
              "      <td>8</td>\n",
              "    </tr>\n",
              "    <tr>\n",
              "      <th>2</th>\n",
              "      <td>83.1486</td>\n",
              "      <td>8</td>\n",
              "    </tr>\n",
              "    <tr>\n",
              "      <th>3</th>\n",
              "      <td>80.4529</td>\n",
              "      <td>8</td>\n",
              "    </tr>\n",
              "    <tr>\n",
              "      <th>4</th>\n",
              "      <td>77.2311</td>\n",
              "      <td>8</td>\n",
              "    </tr>\n",
              "    <tr>\n",
              "      <th>...</th>\n",
              "      <td>...</td>\n",
              "      <td>...</td>\n",
              "    </tr>\n",
              "    <tr>\n",
              "      <th>144</th>\n",
              "      <td>142.1053</td>\n",
              "      <td>8</td>\n",
              "    </tr>\n",
              "    <tr>\n",
              "      <th>145</th>\n",
              "      <td>140.5733</td>\n",
              "      <td>8</td>\n",
              "    </tr>\n",
              "    <tr>\n",
              "      <th>146</th>\n",
              "      <td>139.6070</td>\n",
              "      <td>8</td>\n",
              "    </tr>\n",
              "    <tr>\n",
              "      <th>147</th>\n",
              "      <td>138.5870</td>\n",
              "      <td>8</td>\n",
              "    </tr>\n",
              "    <tr>\n",
              "      <th>148</th>\n",
              "      <td>136.6559</td>\n",
              "      <td>8</td>\n",
              "    </tr>\n",
              "  </tbody>\n",
              "</table>\n",
              "<p>149 rows × 2 columns</p>\n",
              "</div>"
            ],
            "text/plain": [
              "            0 Subject\n",
              "0     86.5052       8\n",
              "1     85.4214       8\n",
              "2     83.1486       8\n",
              "3     80.4529       8\n",
              "4     77.2311       8\n",
              "..        ...     ...\n",
              "144  142.1053       8\n",
              "145  140.5733       8\n",
              "146  139.6070       8\n",
              "147  138.5870       8\n",
              "148  136.6559       8\n",
              "\n",
              "[149 rows x 2 columns]"
            ]
          },
          "metadata": {
            "tags": []
          },
          "execution_count": 7
        }
      ]
    },
    {
      "cell_type": "code",
      "metadata": {
        "colab": {
          "base_uri": "https://localhost:8080/",
          "height": 282
        },
        "id": "S5fpzkHouSZF",
        "outputId": "bbb8dd81-fb1b-47a5-f927-ec5ba8f0ff2f"
      },
      "source": [
        "import matplotlib.pyplot as plt\n",
        "plt.plot(hrdfs[2][0])\n",
        "print(len(hrdfs[2][0]))"
      ],
      "execution_count": null,
      "outputs": [
        {
          "output_type": "stream",
          "text": [
            "146\n"
          ],
          "name": "stdout"
        },
        {
          "output_type": "display_data",
          "data": {
            "image/png": "[encoded data removed]",
            "text/plain": [
              "<Figure size 432x288 with 1 Axes>"
            ]
          },
          "metadata": {
            "tags": [],
            "needs_background": "light"
          }
        }
      ]
    },
    {
      "cell_type": "markdown",
      "metadata": {
        "id": "Q3VZZUvrxDut"
      },
      "source": [
        "## Compute heart rate "
      ]
    },
    {
      "cell_type": "code",
      "metadata": {
        "colab": {
          "base_uri": "https://localhost:8080/",
          "height": 282
        },
        "id": "MMXbyRtfzukV",
        "outputId": "257267ef-4708-4013-c1a1-85913cb6a35c"
      },
      "source": [
        "ECG0 = dfs[2][0]\n",
        "plt.plot(ECG0[29000:30000])"
      ],
      "execution_count": null,
      "outputs": [
        {
          "output_type": "execute_result",
          "data": {
            "text/plain": [
              "[<matplotlib.lines.Line2D at 0x7fbbbb208910>]"
            ]
          },
          "metadata": {
            "tags": []
          },
          "execution_count": 9
        },
        {
          "output_type": "display_data",
          "data": {
            "image/png": "[encoded data removed]",
            "text/plain": [
              "<Figure size 432x288 with 1 Axes>"
            ]
          },
          "metadata": {
            "tags": [],
            "needs_background": "light"
          }
        }
      ]
    },
    {
      "cell_type": "code",
      "metadata": {
        "id": "o4Ife3Nb0b2t"
      },
      "source": [
        "# Check the length of data\n",
        "len(ECG0)\n",
        "dis = 1000 # 8 seconds\n",
        "step = 250 # 2 seconds\n",
        "#ECGseg = []\n",
        "N = len(ECG0)\n",
        "ECGseg = [ECG0[(i*step):(i*step + dis)] for i in range(0,int(N/step) - 3)]\n"
      ],
      "execution_count": null,
      "outputs": []
    },
    {
      "cell_type": "code",
      "metadata": {
        "colab": {
          "base_uri": "https://localhost:8080/",
          "height": 282
        },
        "id": "2rqAQWx139q6",
        "outputId": "0b54e6e8-8827-44d7-cdff-7af5e89dfdb3"
      },
      "source": [
        "plt.plot(ECGseg[0])\n",
        "plt.plot(ECGseg[1])\n",
        "plt.plot(ECGseg[2])\n"
      ],
      "execution_count": null,
      "outputs": [
        {
          "output_type": "execute_result",
          "data": {
            "text/plain": [
              "[<matplotlib.lines.Line2D at 0x7fbbbb10cad0>]"
            ]
          },
          "metadata": {
            "tags": []
          },
          "execution_count": 11
        },
        {
          "output_type": "display_data",
          "data": {
            "image/png": "[encoded data removed]",
            "text/plain": [
              "<Figure size 432x288 with 1 Axes>"
            ]
          },
          "metadata": {
            "tags": [],
            "needs_background": "light"
          }
        }
      ]
    },
    {
      "cell_type": "code",
      "metadata": {
        "colab": {
          "base_uri": "https://localhost:8080/",
          "height": 282
        },
        "id": "oX901oVf5d6B",
        "outputId": "93f31fa9-b177-48c2-cf5a-994ec8c0aa82"
      },
      "source": [
        "from scipy.signal import find_peaks\n",
        "x = ECGseg[47].values\n",
        "prom = 0.1\n",
        "peaks, _ = find_peaks(x, prominence=prom)\n",
        "peaks2, _ = find_peaks(x, prominence=prom, distance=50)\n",
        "plt.subplot(211)\n",
        "plt.plot(x)\n",
        "plt.plot(peaks, x[peaks], \"x\")\n",
        "plt.subplot(212)\n",
        "plt.plot(x)\n",
        "plt.plot(peaks2, x[peaks2], \"x\")\n",
        "Nbeat = len(peaks)\n",
        "\n",
        "BPM = Nbeat\n",
        "print(BPM)"
      ],
      "execution_count": 52,
      "outputs": [
        {
          "output_type": "stream",
          "text": [
            "27\n"
          ],
          "name": "stdout"
        },
        {
          "output_type": "display_data",
          "data": {
            "image/png": "[encoded data removed]",
            "text/plain": [
              "<Figure size 432x288 with 2 Axes>"
            ]
          },
          "metadata": {
            "tags": [],
            "needs_background": "light"
          }
        }
      ]
    },
    {
      "cell_type": "code",
      "metadata": {
        "colab": {
          "base_uri": "https://localhost:8080/"
        },
        "id": "CS7doPd7B63F",
        "outputId": "23c49583-9481-4837-cfcd-5ae26b2f6ac2"
      },
      "source": [
        "import numpy as np\n",
        "a = np.diff(peaks)\n",
        "print(a)\n",
        "print(peaks)\n",
        "np.std(a), np.median(a)"
      ],
      "execution_count": 53,
      "outputs": [
        {
          "output_type": "stream",
          "text": [
            "[27 37 62 63 62 62 27 35 17 45 47 14 22 40 12 49 27 34 60 12 49 38 21 61\n",
            "  8 51]\n",
            "[ 15  42  79 141 204 266 328 355 390 407 452 499 513 535 575 587 636 663\n",
            " 697 757 769 818 856 877 938 946 997]\n"
          ],
          "name": "stdout"
        },
        {
          "output_type": "execute_result",
          "data": {
            "text/plain": [
              "(17.664191706360448, 37.5)"
            ]
          },
          "metadata": {
            "tags": []
          },
          "execution_count": 53
        }
      ]
    },
    {
      "cell_type": "code",
      "metadata": {
        "id": "lyrFXTGVZ6Lf"
      },
      "source": [
        "def select_weight(ecg, weight=0.2):\n",
        "  Nset = []\n",
        "  D = []\n",
        "  Dmin= []\n",
        "  Dmax= []\n",
        "  #rang = [weight + i*0.05 for i in range(-1,6)]\n",
        "  W = []\n",
        "  w = 0.1\n",
        "  # initialize for first iteration\n",
        "  while(1):\n",
        "\n",
        "  #for w in rang:\n",
        "    peaks, _ = find_peaks(ecg, prominence=w)\n",
        "    if len(peaks) > 2:\n",
        "      a = np.diff(peaks)\n",
        "      D.append(np.std(a))\n",
        "      Dmin.append(min(a))\n",
        "      Dmax.append(max(a))\n",
        "      Nset.append(len(peaks))\n",
        "    else:\n",
        "      break\n",
        "    print(w)\n",
        "    W.append(w)\n",
        "    w= w+0.05\n",
        "    \n",
        "    \n",
        "  return Nset, D, Dmin, Dmax, W"
      ],
      "execution_count": 67,
      "outputs": []
    },
    {
      "cell_type": "code",
      "metadata": {
        "colab": {
          "base_uri": "https://localhost:8080/"
        },
        "id": "WlKmeIfBiQhI",
        "outputId": "b6ad8248-23cd-4875-a835-eb1fcfbb6fb5"
      },
      "source": [
        "print(select_weight(ECGseg[47]))"
      ],
      "execution_count": 68,
      "outputs": [
        {
          "output_type": "stream",
          "text": [
            "0.1\n",
            "0.15000000000000002\n",
            "0.2\n",
            "0.25\n",
            "0.3\n",
            "0.35\n",
            "0.39999999999999997\n",
            "0.44999999999999996\n",
            "0.49999999999999994\n",
            "0.5499999999999999\n",
            "0.6\n",
            "0.65\n",
            "([27, 22, 21, 18, 17, 16, 16, 15, 13, 8, 6, 3], [17.664191706360448, 19.617545018741726, 18.168379124181662, 15.060661652522597, 16.73646841481201, 15.345792039948064, 15.345792039948064, 15.87274007696908, 28.686403089655947, 54.927781900326146, 80.65085244434805, 196.0], [8, 8, 12, 12, 12, 12, 12, 12, 12, 62, 82, 99], [63, 64, 64, 63, 87, 87, 87, 87, 125, 187, 309, 491], [0.1, 0.15000000000000002, 0.2, 0.25, 0.3, 0.35, 0.39999999999999997, 0.44999999999999996, 0.49999999999999994, 0.5499999999999999, 0.6, 0.65])\n"
          ],
          "name": "stdout"
        }
      ]
    },
    {
      "cell_type": "code",
      "metadata": {
        "id": "gFd6mu91zUCw",
        "colab": {
          "base_uri": "https://localhost:8080/",
          "height": 128
        },
        "outputId": "43dd7492-65a6-47dc-f6f3-3a9c9ccaee1e"
      },
      "source": [
        "BPM = []\n",
        "weight = 0.2\n",
        "i = 0\n",
        "peaks, _ = find_peaks(ECGseg[0], prominence=weight)\n",
        "Nlast= 15 #len(peaks) 17\n",
        "dmed = 62\n",
        "for ecg in ECGseg[45:50]:\n",
        "  peaks, _ = find_peaks(ecg, prominence=weight)\n",
        "  ### Check peaks in range [5 - 65]\n",
        "  while len(peaks)<=5 or len(peaks) >= 65:\n",
        "    if len(peaks) <= 5:\n",
        "      weight = weight + 0.05\n",
        "    if len(peaks) >=60:\n",
        "      weight = weight - 0.05\n",
        "    peaks, _ = find_peaks(ecg, prominence=weight)\n",
        "  \n",
        "  ### find optimal weight that minimum std\n",
        "  a = np.diff(peaks)\n",
        "  while not( np.std(a) <= 5 and np.abs(len(peaks) - Npre) <=3):\n",
        "    \n",
        "\n",
        "\n",
        "\n",
        "\n",
        "  ### Check std\n",
        "  \n",
        "      \n",
        "  print(weight)\n",
        "  a = np.diff(peaks)\n",
        "  bpm = len(peaks)*7.5\n",
        "  BPM.append(bpm)\n",
        "  print(i)\n",
        "  i = i + 1\n",
        "plt.plot(BPM)"
      ],
      "execution_count": null,
      "outputs": [
        {
          "output_type": "error",
          "ename": "IndentationError",
          "evalue": "ignored",
          "traceback": [
            "\u001b[0;36m  File \u001b[0;32m\"<ipython-input-16-3abeee39d41d>\"\u001b[0;36m, line \u001b[0;32m27\u001b[0m\n\u001b[0;31m    print(weight)\u001b[0m\n\u001b[0m        ^\u001b[0m\n\u001b[0;31mIndentationError\u001b[0m\u001b[0;31m:\u001b[0m expected an indented block\n"
          ]
        }
      ]
    },
    {
      "cell_type": "code",
      "metadata": {
        "colab": {
          "base_uri": "https://localhost:8080/"
        },
        "id": "o0GkWkwbimq0",
        "outputId": "e5d7f865-b400-442a-b31a-3a1e90c604ff"
      },
      "source": [
        " np.median(np.diff(peaks))*2 < max(np.diff(peaks))"
      ],
      "execution_count": null,
      "outputs": [
        {
          "output_type": "execute_result",
          "data": {
            "text/plain": [
              "False"
            ]
          },
          "metadata": {
            "tags": []
          },
          "execution_count": 67
        }
      ]
    },
    {
      "cell_type": "code",
      "metadata": {
        "colab": {
          "base_uri": "https://localhost:8080/"
        },
        "id": "x311v6FyfNp5",
        "outputId": "4c72d712-03d1-4387-8f00-9310ea86fdb0"
      },
      "source": [
        "np.median(np.diff(peaks)), max(np.diff(peaks)), np.median(x[peaks]), len(peaks)"
      ],
      "execution_count": 20,
      "outputs": [
        {
          "output_type": "execute_result",
          "data": {
            "text/plain": [
              "(60.5, 64, 0.8228136882129277, 21)"
            ]
          },
          "metadata": {
            "tags": []
          },
          "execution_count": 20
        }
      ]
    },
    {
      "cell_type": "code",
      "metadata": {
        "colab": {
          "base_uri": "https://localhost:8080/",
          "height": 399
        },
        "id": "4-kyCyqMFhBb",
        "outputId": "cd267e28-f2d6-4290-f934-2e8c3adee64b"
      },
      "source": [
        "plt.boxplot(x[peaks])"
      ],
      "execution_count": null,
      "outputs": [
        {
          "output_type": "execute_result",
          "data": {
            "text/plain": [
              "{'boxes': [<matplotlib.lines.Line2D at 0x7f4d1be883d0>],\n",
              " 'caps': [<matplotlib.lines.Line2D at 0x7f4d1be88650>,\n",
              "  <matplotlib.lines.Line2D at 0x7f4d1bdaa0d0>],\n",
              " 'fliers': [<matplotlib.lines.Line2D at 0x7f4d1bed0e90>],\n",
              " 'means': [],\n",
              " 'medians': [<matplotlib.lines.Line2D at 0x7f4d1bed0ed0>],\n",
              " 'whiskers': [<matplotlib.lines.Line2D at 0x7f4d1be88750>,\n",
              "  <matplotlib.lines.Line2D at 0x7f4d1be88550>]}"
            ]
          },
          "metadata": {
            "tags": []
          },
          "execution_count": 15
        },
        {
          "output_type": "display_data",
          "data": {
            "image/png": "[encoded data removed]",
            "text/plain": [
              "<Figure size 432x288 with 1 Axes>"
            ]
          },
          "metadata": {
            "tags": []
          }
        }
      ]
    },
    {
      "cell_type": "code",
      "metadata": {
        "id": "3eJb8wl68jJk"
      },
      "source": [
        "ECG0[]"
      ],
      "execution_count": null,
      "outputs": []
    },
    {
      "cell_type": "markdown",
      "metadata": {
        "id": "LKpe9Lg7ZmAD"
      },
      "source": [
        "### Adaptive detect peaks\n",
        "* default prominence w=0.2\n",
        "* if the distance between outline will adapt the weight\n",
        "** Increasing weight if many peaks detects\n",
        "** Decreasing weight if less peaks detects"
      ]
    },
    {
      "cell_type": "code",
      "metadata": {
        "colab": {
          "base_uri": "https://localhost:8080/",
          "height": 651
        },
        "id": "9PYhKgie7giP",
        "outputId": "7d5f295d-f8b6-4481-c7c1-c66740b66279"
      },
      "source": [
        "BPM = []\n",
        "weight = 0.2\n",
        "i = 0\n",
        "for ecg in ECGseg[45:50]:\n",
        "  peaks, _ = find_peaks(ecg, prominence=weight)\n",
        "  a = np.diff(peaks)\n",
        "  while not (2*min(a) > np.median(a) and np.median(a)*2 > max(a)):\n",
        "    if 2*min(a) <np.median(a): \n",
        "      print('go 1')\n",
        "      weight = weight + 0.05\n",
        "      peaks, _ = find_peaks(ecg, prominence=weight)\n",
        "      if np.median(np.diff(peaks))*2 <= max(np.diff(peaks)):\n",
        "        print('go 1a')\n",
        "        weight = weight - 0.05 # back to the old values\n",
        "        peaks, _ = find_peaks(ecg, prominence=weight, distance= int(np.median(a)*0.9))\n",
        "        if np.median(np.diff(peaks)) > 2*min(np.diff(peaks)):\n",
        "          print('go break')\n",
        "          weight = 0.2\n",
        "          break\n",
        "      #distance= np.mean(a)*0.9\n",
        "    #a = np.diff(peaks)  \n",
        "    if np.median(a)*2 <= max(a): \n",
        "      print('go 2')\n",
        "      weight = weight - 0.05\n",
        "      peaks, _ = find_peaks(ecg, prominence=weight)\n",
        "      if np.median(np.diff(peaks)) > 2*min(np.diff(peaks)):\n",
        "        print('go 2a')\n",
        "        weight = weight + 0.05 # back to the old values\n",
        "        peaks, _ = find_peaks(ecg, prominence=weight, distance= int(np.median(a)*0.9))\n",
        "        if 2*np.median(np.diff(peaks)) <= max(np.diff(peaks)):\n",
        "          print('go break')\n",
        "          weight = 0.2\n",
        "          break\n",
        "    print(weight)\n",
        "    a = np.diff(peaks)\n",
        "  bpm = len(peaks)*7.5\n",
        "  BPM.append(bpm)\n",
        "  print(i)\n",
        "  i = i + 1\n",
        "plt.plot(BPM)"
      ],
      "execution_count": null,
      "outputs": [
        {
          "output_type": "stream",
          "text": [
            "go 1\n",
            "0.25\n",
            "0\n",
            "1\n",
            "go 1\n",
            "0.3\n",
            "go 1\n",
            "0.35\n",
            "go 1\n",
            "0.39999999999999997\n",
            "go 1\n",
            "0.44999999999999996\n",
            "go 1\n",
            "go 1a\n",
            "0.44999999999999996\n",
            "2\n",
            "go 1\n",
            "0.49999999999999994\n",
            "go 1\n",
            "0.5499999999999999\n",
            "3\n",
            "4\n"
          ],
          "name": "stdout"
        },
        {
          "output_type": "execute_result",
          "data": {
            "text/plain": [
              "[<matplotlib.lines.Line2D at 0x7fbccc852090>]"
            ]
          },
          "metadata": {
            "tags": []
          },
          "execution_count": 48
        },
        {
          "output_type": "display_data",
          "data": {
            "image/png": "[encoded data removed]",
            "text/plain": [
              "<Figure size 432x288 with 1 Axes>"
            ]
          },
          "metadata": {
            "tags": []
          }
        }
      ]
    },
    {
      "cell_type": "code",
      "metadata": {
        "colab": {
          "base_uri": "https://localhost:8080/",
          "height": 282
        },
        "id": "C-SLzBRqYNeL",
        "outputId": "58eab3bc-2216-4dc9-dc76-5adfd8fdfcbd"
      },
      "source": [
        "import matplotlib.pyplot as plt\n",
        "plt.plot(hrdfs[1][0])\n",
        "print(len(hrdfs[0][0]))\n"
      ],
      "execution_count": null,
      "outputs": [
        {
          "output_type": "stream",
          "text": [
            "148\n"
          ],
          "name": "stdout"
        },
        {
          "output_type": "display_data",
          "data": {
            "image/png": "[encoded data removed]",
            "text/plain": [
              "<Figure size 432x288 with 1 Axes>"
            ]
          },
          "metadata": {
            "tags": []
          }
        }
      ]
    },
    {
      "cell_type": "code",
      "metadata": {
        "colab": {
          "base_uri": "https://localhost:8080/"
        },
        "id": "fXFoO7M8YVWT",
        "outputId": "1a30feff-06b9-4138-cd66-9ebdc65735b8"
      },
      "source": [
        "weight"
      ],
      "execution_count": null,
      "outputs": [
        {
          "output_type": "execute_result",
          "data": {
            "text/plain": [
              "0.7"
            ]
          },
          "metadata": {
            "tags": []
          },
          "execution_count": 153
        }
      ]
    }
  ]
}