{
  "nbformat": 4,
  "nbformat_minor": 0,
  "metadata": {
    "colab": {
      "name": "ReadMatDatafile.ipynb",
      "provenance": [],
      "collapsed_sections": [],
      "mount_file_id": "1L6jqeW4oDLR9aaTBjz7nxDEJyilcHQ57",
      "authorship_tag": "ABX9TyMPdpgo/XvQxJ0CKBTxsJRc",
      "include_colab_link": true
    },
    "kernelspec": {
      "name": "python3",
      "display_name": "Python 3"
    },
    "language_info": {
      "name": "python"
    }
  },
  "cells": [
    {
      "cell_type": "markdown",
      "metadata": {
        "id": "view-in-github",
        "colab_type": "text"
      },
      "source": [
        "<a href=\"https://colab.research.google.com/github/LongNguyen1984/TimeSeriesWithPython/blob/main/ReadMatDatafile.ipynb\" target=\"_parent\"><img src=\"https://colab.research.google.com/assets/colab-badge.svg\" alt=\"Open In Colab\"/></a>"
      ]
    },
    {
      "cell_type": "markdown",
      "metadata": {
        "id": "g2qDx5hQbSW3"
      },
      "source": [
        "## Read MAT File from TROIKA Database with data including 1 ECG, 2 PPGs, and x,y,z accelarted signal "
      ]
    },
    {
      "cell_type": "code",
      "metadata": {
        "id": "Bw0CvUr1Rn0h"
      },
      "source": [
        "import os\n",
        "\n",
        "path = 'drive/Shareddrives/AIOT_LAB_DOCS/Data/'"
      ],
      "execution_count": 1,
      "outputs": []
    },
    {
      "cell_type": "code",
      "metadata": {
        "colab": {
          "base_uri": "https://localhost:8080/",
          "height": 35
        },
        "id": "gphVSh3ExeEI",
        "outputId": "830bf19d-cfc4-4e7b-a6e4-442bedc8ec38"
      },
      "source": [
        "pwd"
      ],
      "execution_count": 2,
      "outputs": [
        {
          "output_type": "execute_result",
          "data": {
            "application/vnd.google.colaboratory.intrinsic+json": {
              "type": "string"
            },
            "text/plain": [
              "'/content'"
            ]
          },
          "metadata": {
            "tags": []
          },
          "execution_count": 2
        }
      ]
    },
    {
      "cell_type": "code",
      "metadata": {
        "colab": {
          "base_uri": "https://localhost:8080/"
        },
        "id": "JsUEKYe6Seva",
        "outputId": "13996754-7739-4c19-ea02-e76d5d2c60f0"
      },
      "source": [
        "cd drive/Shareddrives/AIOT_LAB_DOCS/Data/"
      ],
      "execution_count": 3,
      "outputs": [
        {
          "output_type": "stream",
          "text": [
            "/content/drive/Shareddrives/AIOT_LAB_DOCS/Data\n"
          ],
          "name": "stdout"
        }
      ]
    },
    {
      "cell_type": "code",
      "metadata": {
        "colab": {
          "base_uri": "https://localhost:8080/"
        },
        "id": "6ONE23Vacbq6",
        "outputId": "9a114fe0-88a7-4dd3-8327-15974004e550"
      },
      "source": [
        "!ls"
      ],
      "execution_count": 4,
      "outputs": [
        {
          "output_type": "stream",
          "text": [
            "DATA_01_TYPE01_BPMtrace.mat  DATA_08_TYPE02_BPMtrace.mat  TrainSubj1\n",
            "DATA_01_TYPE01.mat\t     DATA_08_TYPE02.mat\t\t  TrainSubj10\n",
            "DATA_02_TYPE02_BPMtrace.mat  DATA_09_TYPE02_BPMtrace.mat  TrainSubj11\n",
            "DATA_02_TYPE02.mat\t     DATA_09_TYPE02.mat\t\t  TrainSubj12\n",
            "DATA_03_TYPE02_BPMtrace.mat  DATA_10_TYPE02_BPMtrace.mat  TrainSubj2\n",
            "DATA_03_TYPE02.mat\t     DATA_10_TYPE02.mat\t\t  TrainSubj3\n",
            "DATA_04_TYPE02_BPMtrace.mat  DATA_11_TYPE02_BPMtrace.mat  TrainSubj4\n",
            "DATA_04_TYPE02.mat\t     DATA_11_TYPE02.mat\t\t  TrainSubj5\n",
            "DATA_05_TYPE02_BPMtrace.mat  DATA_12_TYPE02_BPMtrace.mat  TrainSubj6\n",
            "DATA_05_TYPE02.mat\t     DATA_12_TYPE02.mat\t\t  TrainSubj7\n",
            "DATA_06_TYPE02_BPMtrace.mat  dataset.pickle\t\t  TrainSubj8\n",
            "DATA_06_TYPE02.mat\t     my_first_model.png\t\t  TrainSubj9\n",
            "DATA_07_TYPE02_BPMtrace.mat  resultsS0.pickle\n",
            "DATA_07_TYPE02.mat\t     resultsS1.pickle\n"
          ],
          "name": "stdout"
        }
      ]
    },
    {
      "cell_type": "markdown",
      "metadata": {
        "id": "qUXGWPGuTeW7"
      },
      "source": [
        "# Read mat file"
      ]
    },
    {
      "cell_type": "code",
      "metadata": {
        "id": "DG1F4jZCSxW6"
      },
      "source": [
        "import scipy.io as sio\n",
        "\n",
        "mat = sio.loadmat('DATA_01_TYPE01.mat')\n",
        "BPmat = sio.loadmat('DATA_01_TYPE01_BPMtrace.mat')\n",
        "data = mat['sig']"
      ],
      "execution_count": 15,
      "outputs": []
    },
    {
      "cell_type": "code",
      "metadata": {
        "colab": {
          "base_uri": "https://localhost:8080/",
          "height": 263
        },
        "id": "mihjtqyeT8Bj",
        "outputId": "602bf907-651a-4d41-92e5-86c9ee2e3960"
      },
      "source": [
        "import pandas as pd\n",
        "\n",
        "df = pd.DataFrame(data)\n",
        "df = df.T # Transpose data to column\n",
        "df.head(7)\n",
        "### The first row is ECG data\n",
        "### The two next rows are PPG Data\n",
        "### The last row is accerlerate data x , y , z\n",
        "### Sampling rate is 125 Hz"
      ],
      "execution_count": 6,
      "outputs": [
        {
          "output_type": "execute_result",
          "data": {
            "text/html": [
              "<div>\n",
              "<style scoped>\n",
              "    .dataframe tbody tr th:only-of-type {\n",
              "        vertical-align: middle;\n",
              "    }\n",
              "\n",
              "    .dataframe tbody tr th {\n",
              "        vertical-align: top;\n",
              "    }\n",
              "\n",
              "    .dataframe thead th {\n",
              "        text-align: right;\n",
              "    }\n",
              "</style>\n",
              "<table border=\"1\" class=\"dataframe\">\n",
              "  <thead>\n",
              "    <tr style=\"text-align: right;\">\n",
              "      <th></th>\n",
              "      <th>0</th>\n",
              "      <th>1</th>\n",
              "      <th>2</th>\n",
              "      <th>3</th>\n",
              "      <th>4</th>\n",
              "      <th>5</th>\n",
              "    </tr>\n",
              "  </thead>\n",
              "  <tbody>\n",
              "    <tr>\n",
              "      <th>0</th>\n",
              "      <td>-269.5</td>\n",
              "      <td>-23.0</td>\n",
              "      <td>4.0</td>\n",
              "      <td>-0.0702</td>\n",
              "      <td>0.3432</td>\n",
              "      <td>0.9594</td>\n",
              "    </tr>\n",
              "    <tr>\n",
              "      <th>1</th>\n",
              "      <td>-267.5</td>\n",
              "      <td>-24.0</td>\n",
              "      <td>6.0</td>\n",
              "      <td>-0.0702</td>\n",
              "      <td>0.3588</td>\n",
              "      <td>0.9438</td>\n",
              "    </tr>\n",
              "    <tr>\n",
              "      <th>2</th>\n",
              "      <td>-267.5</td>\n",
              "      <td>-26.5</td>\n",
              "      <td>3.0</td>\n",
              "      <td>-0.0546</td>\n",
              "      <td>0.3666</td>\n",
              "      <td>0.9360</td>\n",
              "    </tr>\n",
              "    <tr>\n",
              "      <th>3</th>\n",
              "      <td>-265.5</td>\n",
              "      <td>-27.0</td>\n",
              "      <td>3.5</td>\n",
              "      <td>-0.0468</td>\n",
              "      <td>0.3666</td>\n",
              "      <td>0.9360</td>\n",
              "    </tr>\n",
              "    <tr>\n",
              "      <th>4</th>\n",
              "      <td>-262.0</td>\n",
              "      <td>-30.0</td>\n",
              "      <td>0.0</td>\n",
              "      <td>-0.0468</td>\n",
              "      <td>0.3744</td>\n",
              "      <td>0.9126</td>\n",
              "    </tr>\n",
              "    <tr>\n",
              "      <th>5</th>\n",
              "      <td>-268.5</td>\n",
              "      <td>-30.0</td>\n",
              "      <td>2.0</td>\n",
              "      <td>-0.0468</td>\n",
              "      <td>0.3900</td>\n",
              "      <td>0.9126</td>\n",
              "    </tr>\n",
              "    <tr>\n",
              "      <th>6</th>\n",
              "      <td>-275.5</td>\n",
              "      <td>-28.5</td>\n",
              "      <td>3.0</td>\n",
              "      <td>-0.0468</td>\n",
              "      <td>0.4056</td>\n",
              "      <td>0.9282</td>\n",
              "    </tr>\n",
              "  </tbody>\n",
              "</table>\n",
              "</div>"
            ],
            "text/plain": [
              "       0     1    2       3       4       5\n",
              "0 -269.5 -23.0  4.0 -0.0702  0.3432  0.9594\n",
              "1 -267.5 -24.0  6.0 -0.0702  0.3588  0.9438\n",
              "2 -267.5 -26.5  3.0 -0.0546  0.3666  0.9360\n",
              "3 -265.5 -27.0  3.5 -0.0468  0.3666  0.9360\n",
              "4 -262.0 -30.0  0.0 -0.0468  0.3744  0.9126\n",
              "5 -268.5 -30.0  2.0 -0.0468  0.3900  0.9126\n",
              "6 -275.5 -28.5  3.0 -0.0468  0.4056  0.9282"
            ]
          },
          "metadata": {
            "tags": []
          },
          "execution_count": 6
        }
      ]
    },
    {
      "cell_type": "markdown",
      "metadata": {
        "id": "sH27WxII5DMB"
      },
      "source": [
        "### Ploting ECG and PPGs "
      ]
    },
    {
      "cell_type": "code",
      "metadata": {
        "colab": {
          "base_uri": "https://localhost:8080/",
          "height": 611
        },
        "id": "hzxi7WDKVq4c",
        "outputId": "aa4eec03-06fa-4aba-8ab6-7e99abed4adb"
      },
      "source": [
        "import matplotlib.pyplot as plt\n",
        "L1, L2 = 0000, 1000\n",
        "plt.figure(figsize=(20,10))\n",
        "plt.subplot(311)\n",
        "plt.plot(df[0][L1:L2])\n",
        "plt.subplot(312)\n",
        "plt.plot(df[1][L1:L2])\n",
        "plt.subplot(313)\n",
        "plt.plot(df[2][L1:L2])\n"
      ],
      "execution_count": 7,
      "outputs": [
        {
          "output_type": "execute_result",
          "data": {
            "text/plain": [
              "[<matplotlib.lines.Line2D at 0x7f35fa110d90>]"
            ]
          },
          "metadata": {
            "tags": []
          },
          "execution_count": 7
        },
        {
          "output_type": "display_data",
          "data": {
            "image/png": "[encoded data removed]",
            "text/plain": [
              "<Figure size 1440x720 with 3 Axes>"
            ]
          },
          "metadata": {
            "tags": [],
            "needs_background": "light"
          }
        }
      ]
    },
    {
      "cell_type": "markdown",
      "metadata": {
        "id": "eKJ4w-kL48mp"
      },
      "source": [
        "### HR ploting for sample data"
      ]
    },
    {
      "cell_type": "code",
      "metadata": {
        "id": "-vyn3AuEoXQz"
      },
      "source": [
        "import numpy as np\n",
        "\n",
        "HR = BPmat['BPM0']"
      ],
      "execution_count": 8,
      "outputs": []
    },
    {
      "cell_type": "code",
      "metadata": {
        "colab": {
          "base_uri": "https://localhost:8080/",
          "height": 610
        },
        "id": "zCpRolF0EmBp",
        "outputId": "0b1482d9-91f6-4524-9a26-fbedccf2ab1c"
      },
      "source": [
        "plt.figure(figsize=(20,10))\n",
        "plt.plot(HR)"
      ],
      "execution_count": 9,
      "outputs": [
        {
          "output_type": "execute_result",
          "data": {
            "text/plain": [
              "[<matplotlib.lines.Line2D at 0x7f35f93bd590>]"
            ]
          },
          "metadata": {
            "tags": []
          },
          "execution_count": 9
        },
        {
          "output_type": "display_data",
          "data": {
            "image/png": "[encoded data removed]",
            "text/plain": [
              "<Figure size 1440x720 with 1 Axes>"
            ]
          },
          "metadata": {
            "tags": [],
            "needs_background": "light"
          }
        }
      ]
    },
    {
      "cell_type": "markdown",
      "metadata": {
        "id": "sqvsk-cac6CJ"
      },
      "source": [
        "### Read all file mat"
      ]
    },
    {
      "cell_type": "code",
      "metadata": {
        "colab": {
          "base_uri": "https://localhost:8080/"
        },
        "id": "HeI9rUwNb5w-",
        "outputId": "6ccdb94c-666d-48aa-b069-69bd77efa204"
      },
      "source": [
        "files = os.listdir('/content/'+path)\n",
        "files"
      ],
      "execution_count": 10,
      "outputs": [
        {
          "output_type": "execute_result",
          "data": {
            "text/plain": [
              "['DATA_02_TYPE02_BPMtrace.mat',\n",
              " 'DATA_03_TYPE02_BPMtrace.mat',\n",
              " 'DATA_04_TYPE02_BPMtrace.mat',\n",
              " 'DATA_05_TYPE02_BPMtrace.mat',\n",
              " 'DATA_06_TYPE02_BPMtrace.mat',\n",
              " 'DATA_07_TYPE02_BPMtrace.mat',\n",
              " 'DATA_08_TYPE02_BPMtrace.mat',\n",
              " 'DATA_10_TYPE02_BPMtrace.mat',\n",
              " 'DATA_09_TYPE02_BPMtrace.mat',\n",
              " 'DATA_11_TYPE02_BPMtrace.mat',\n",
              " 'DATA_01_TYPE01_BPMtrace.mat',\n",
              " 'DATA_12_TYPE02_BPMtrace.mat',\n",
              " 'DATA_04_TYPE02.mat',\n",
              " 'DATA_05_TYPE02.mat',\n",
              " 'DATA_01_TYPE01.mat',\n",
              " 'DATA_06_TYPE02.mat',\n",
              " 'DATA_03_TYPE02.mat',\n",
              " 'DATA_11_TYPE02.mat',\n",
              " 'DATA_12_TYPE02.mat',\n",
              " 'DATA_07_TYPE02.mat',\n",
              " 'DATA_02_TYPE02.mat',\n",
              " 'DATA_08_TYPE02.mat',\n",
              " 'DATA_10_TYPE02.mat',\n",
              " 'DATA_09_TYPE02.mat',\n",
              " 'TrainSubj1',\n",
              " 'TrainSubj2',\n",
              " 'TrainSubj3',\n",
              " 'TrainSubj4',\n",
              " 'TrainSubj5',\n",
              " 'TrainSubj6',\n",
              " 'TrainSubj7',\n",
              " 'TrainSubj8',\n",
              " 'TrainSubj9',\n",
              " 'TrainSubj10',\n",
              " 'TrainSubj11',\n",
              " 'TrainSubj12',\n",
              " 'dataset.pickle',\n",
              " 'my_first_model.png',\n",
              " 'resultsS0.pickle',\n",
              " 'resultsS1.pickle']"
            ]
          },
          "metadata": {
            "tags": []
          },
          "execution_count": 10
        }
      ]
    },
    {
      "cell_type": "markdown",
      "metadata": {
        "id": "-SqBWOOVFBrB"
      },
      "source": [
        "## Make a set directory"
      ]
    },
    {
      "cell_type": "code",
      "metadata": {
        "id": "jtRky16Tc-d6"
      },
      "source": [
        "directory = ['TrainSubj'+str(i) for i in range(1,13)]\n",
        "parent_path = os.path.abspath(os.getcwd()) # Get present path directory\n",
        "for dir in directory:\n",
        "  tagPath = os.path.join(parent_path, dir)\n",
        "  os.makedirs(tagPath)"
      ],
      "execution_count": null,
      "outputs": []
    },
    {
      "cell_type": "markdown",
      "metadata": {
        "id": "baviEij551Pk"
      },
      "source": [
        "### Read into a pandas file "
      ]
    },
    {
      "cell_type": "code",
      "metadata": {
        "id": "LLJAtktUpBTE"
      },
      "source": [
        "import pandas as pd\n",
        "from pathlib import Path\n",
        "\n",
        "import scipy.io as sio\n",
        "from sklearn.preprocessing import MinMaxScaler\n",
        "\n",
        "scaler = MinMaxScaler()\n",
        "#Xscaled = scaler.fit_transform(dfs[1])\n",
        "\n",
        "def read_folder(mat_folder):\n",
        "    ''' Input is a folder with csv files; return list of data frames.'''\n",
        "    mat_folder = Path(mat_folder).absolute()\n",
        "    mat_files = [f for f in mat_folder.iterdir() if f.name.endswith('mat') and not('BPMtrace' in f.name)]\n",
        "    #data = scaler.fit_transform(sio.loadmat(csv_file)['sig'])\n",
        "    # the assign() method adds a helper column rating\n",
        "    dfs = [\n",
        "        \n",
        "        #pd.DataFrame(sio.loadmat(csv_file)['sig']).T.assign(rating_src = f'rating-{idx}')#assin a name rating to the column\n",
        "        #pd.DataFrame(sio.loadmat(csv_file)['sig']).T.assign(Subject = f'{idx}')\n",
        "        pd.DataFrame(scaler.fit_transform(pd.DataFrame(sio.loadmat(mat_file)['sig']).T)).assign(Subject = f'{idx-1}') # sclaing [0,1] and then convert to dataframe\n",
        "        for idx, mat_file in enumerate(mat_files, 1)\n",
        "    ]\n",
        "    return mat_files, dfs"
      ],
      "execution_count": 13,
      "outputs": []
    },
    {
      "cell_type": "code",
      "metadata": {
        "id": "E7y1Zcrj1kRz"
      },
      "source": [
        "parent_path ='/content/'+path\n",
        "mat_files, dfs = read_folder(parent_path)"
      ],
      "execution_count": 17,
      "outputs": []
    },
    {
      "cell_type": "code",
      "metadata": {
        "colab": {
          "base_uri": "https://localhost:8080/",
          "height": 419
        },
        "id": "Kg7XwXDS5h1g",
        "outputId": "1b30c170-c9df-48c4-8ab9-9b6273517e60"
      },
      "source": [
        "dfs[11].iloc[:100]"
      ],
      "execution_count": 18,
      "outputs": [
        {
          "output_type": "execute_result",
          "data": {
            "text/html": [
              "<div>\n",
              "<style scoped>\n",
              "    .dataframe tbody tr th:only-of-type {\n",
              "        vertical-align: middle;\n",
              "    }\n",
              "\n",
              "    .dataframe tbody tr th {\n",
              "        vertical-align: top;\n",
              "    }\n",
              "\n",
              "    .dataframe thead th {\n",
              "        text-align: right;\n",
              "    }\n",
              "</style>\n",
              "<table border=\"1\" class=\"dataframe\">\n",
              "  <thead>\n",
              "    <tr style=\"text-align: right;\">\n",
              "      <th></th>\n",
              "      <th>0</th>\n",
              "      <th>1</th>\n",
              "      <th>2</th>\n",
              "      <th>3</th>\n",
              "      <th>4</th>\n",
              "      <th>5</th>\n",
              "      <th>Subject</th>\n",
              "    </tr>\n",
              "  </thead>\n",
              "  <tbody>\n",
              "    <tr>\n",
              "      <th>0</th>\n",
              "      <td>0.484355</td>\n",
              "      <td>0.526758</td>\n",
              "      <td>0.644993</td>\n",
              "      <td>0.708171</td>\n",
              "      <td>0.185008</td>\n",
              "      <td>0.656992</td>\n",
              "      <td>11</td>\n",
              "    </tr>\n",
              "    <tr>\n",
              "      <th>1</th>\n",
              "      <td>0.488527</td>\n",
              "      <td>0.526758</td>\n",
              "      <td>0.641743</td>\n",
              "      <td>0.708171</td>\n",
              "      <td>0.185008</td>\n",
              "      <td>0.659631</td>\n",
              "      <td>11</td>\n",
              "    </tr>\n",
              "    <tr>\n",
              "      <th>2</th>\n",
              "      <td>0.494368</td>\n",
              "      <td>0.524465</td>\n",
              "      <td>0.635891</td>\n",
              "      <td>0.712062</td>\n",
              "      <td>0.185008</td>\n",
              "      <td>0.656992</td>\n",
              "      <td>11</td>\n",
              "    </tr>\n",
              "    <tr>\n",
              "      <th>3</th>\n",
              "      <td>0.493951</td>\n",
              "      <td>0.520642</td>\n",
              "      <td>0.626788</td>\n",
              "      <td>0.712062</td>\n",
              "      <td>0.185008</td>\n",
              "      <td>0.659631</td>\n",
              "      <td>11</td>\n",
              "    </tr>\n",
              "    <tr>\n",
              "      <th>4</th>\n",
              "      <td>0.499374</td>\n",
              "      <td>0.512232</td>\n",
              "      <td>0.618986</td>\n",
              "      <td>0.712062</td>\n",
              "      <td>0.188198</td>\n",
              "      <td>0.656992</td>\n",
              "      <td>11</td>\n",
              "    </tr>\n",
              "    <tr>\n",
              "      <th>...</th>\n",
              "      <td>...</td>\n",
              "      <td>...</td>\n",
              "      <td>...</td>\n",
              "      <td>...</td>\n",
              "      <td>...</td>\n",
              "      <td>...</td>\n",
              "      <td>...</td>\n",
              "    </tr>\n",
              "    <tr>\n",
              "      <th>95</th>\n",
              "      <td>0.523154</td>\n",
              "      <td>0.508410</td>\n",
              "      <td>0.606632</td>\n",
              "      <td>0.638132</td>\n",
              "      <td>0.223285</td>\n",
              "      <td>0.680739</td>\n",
              "      <td>11</td>\n",
              "    </tr>\n",
              "    <tr>\n",
              "      <th>96</th>\n",
              "      <td>0.523154</td>\n",
              "      <td>0.497706</td>\n",
              "      <td>0.594278</td>\n",
              "      <td>0.626459</td>\n",
              "      <td>0.228070</td>\n",
              "      <td>0.688654</td>\n",
              "      <td>11</td>\n",
              "    </tr>\n",
              "    <tr>\n",
              "      <th>97</th>\n",
              "      <td>0.517730</td>\n",
              "      <td>0.490061</td>\n",
              "      <td>0.583875</td>\n",
              "      <td>0.634241</td>\n",
              "      <td>0.226475</td>\n",
              "      <td>0.688654</td>\n",
              "      <td>11</td>\n",
              "    </tr>\n",
              "    <tr>\n",
              "      <th>98</th>\n",
              "      <td>0.518565</td>\n",
              "      <td>0.479358</td>\n",
              "      <td>0.572172</td>\n",
              "      <td>0.630350</td>\n",
              "      <td>0.226475</td>\n",
              "      <td>0.688654</td>\n",
              "      <td>11</td>\n",
              "    </tr>\n",
              "    <tr>\n",
              "      <th>99</th>\n",
              "      <td>0.518982</td>\n",
              "      <td>0.469419</td>\n",
              "      <td>0.560468</td>\n",
              "      <td>0.626459</td>\n",
              "      <td>0.226475</td>\n",
              "      <td>0.693931</td>\n",
              "      <td>11</td>\n",
              "    </tr>\n",
              "  </tbody>\n",
              "</table>\n",
              "<p>100 rows × 7 columns</p>\n",
              "</div>"
            ],
            "text/plain": [
              "           0         1         2         3         4         5 Subject\n",
              "0   0.484355  0.526758  0.644993  0.708171  0.185008  0.656992      11\n",
              "1   0.488527  0.526758  0.641743  0.708171  0.185008  0.659631      11\n",
              "2   0.494368  0.524465  0.635891  0.712062  0.185008  0.656992      11\n",
              "3   0.493951  0.520642  0.626788  0.712062  0.185008  0.659631      11\n",
              "4   0.499374  0.512232  0.618986  0.712062  0.188198  0.656992      11\n",
              "..       ...       ...       ...       ...       ...       ...     ...\n",
              "95  0.523154  0.508410  0.606632  0.638132  0.223285  0.680739      11\n",
              "96  0.523154  0.497706  0.594278  0.626459  0.228070  0.688654      11\n",
              "97  0.517730  0.490061  0.583875  0.634241  0.226475  0.688654      11\n",
              "98  0.518565  0.479358  0.572172  0.630350  0.226475  0.688654      11\n",
              "99  0.518982  0.469419  0.560468  0.626459  0.226475  0.693931      11\n",
              "\n",
              "[100 rows x 7 columns]"
            ]
          },
          "metadata": {
            "tags": []
          },
          "execution_count": 18
        }
      ]
    },
    {
      "cell_type": "code",
      "metadata": {
        "colab": {
          "base_uri": "https://localhost:8080/"
        },
        "id": "PqmKak_L84K-",
        "outputId": "35f8bc17-7ce2-4cc2-9bab-833acf0c8581"
      },
      "source": [
        "np.shape(dfs[0])[0]"
      ],
      "execution_count": 19,
      "outputs": [
        {
          "output_type": "execute_result",
          "data": {
            "text/plain": [
              "37250"
            ]
          },
          "metadata": {
            "tags": []
          },
          "execution_count": 19
        }
      ]
    },
    {
      "cell_type": "code",
      "metadata": {
        "colab": {
          "base_uri": "https://localhost:8080/",
          "height": 282
        },
        "id": "jmS12lTUBW8P",
        "outputId": "bdef6c61-47a2-4da2-ec7b-38fec875aab6"
      },
      "source": [
        "plt.plot(dfs[0][0].iloc[10100:11000])"
      ],
      "execution_count": 20,
      "outputs": [
        {
          "output_type": "execute_result",
          "data": {
            "text/plain": [
              "[<matplotlib.lines.Line2D at 0x7f35ebd57ed0>]"
            ]
          },
          "metadata": {
            "tags": []
          },
          "execution_count": 20
        },
        {
          "output_type": "display_data",
          "data": {
            "image/png": "[encoded data removed]",
            "text/plain": [
              "<Figure size 432x288 with 1 Axes>"
            ]
          },
          "metadata": {
            "tags": [],
            "needs_background": "light"
          }
        }
      ]
    },
    {
      "cell_type": "markdown",
      "metadata": {
        "id": "O3s9KH28LUvt"
      },
      "source": [
        "### Split 12 subject data into N segment with length 1000"
      ]
    },
    {
      "cell_type": "code",
      "metadata": {
        "id": "9qS8cTlVD1yS"
      },
      "source": [
        "def segment(dataframe, dis=1000):\n",
        "  a= []\n",
        "  for df in dataframe:\n",
        "    N = np.shape(df)[0]\n",
        "    temp = [df.iloc[(i*dis):((i+1)*dis)] for i in range(0,int(N/dis))]\n",
        "    for ele in temp:\n",
        "      a.append(ele)\n",
        "  return a\n",
        "\n"
      ],
      "execution_count": 21,
      "outputs": []
    },
    {
      "cell_type": "code",
      "metadata": {
        "id": "AzvXwKh_GCC8"
      },
      "source": [
        "dfseg = segment(dfs)"
      ],
      "execution_count": 22,
      "outputs": []
    },
    {
      "cell_type": "code",
      "metadata": {
        "colab": {
          "base_uri": "https://localhost:8080/",
          "height": 299
        },
        "id": "TQAG6x_BOhbl",
        "outputId": "90fce7e4-2dc3-43f3-f42a-1e746467233a"
      },
      "source": [
        "print(np.shape(dfseg))\n",
        "plt.plot(dfseg[300][2])"
      ],
      "execution_count": 23,
      "outputs": [
        {
          "output_type": "stream",
          "text": [
            "(446, 1000, 7)\n"
          ],
          "name": "stdout"
        },
        {
          "output_type": "execute_result",
          "data": {
            "text/plain": [
              "[<matplotlib.lines.Line2D at 0x7f35e6eb11d0>]"
            ]
          },
          "metadata": {
            "tags": []
          },
          "execution_count": 23
        },
        {
          "output_type": "display_data",
          "data": {
            "image/png": "[encoded data removed]",
            "text/plain": [
              "<Figure size 432x288 with 1 Axes>"
            ]
          },
          "metadata": {
            "tags": [],
            "needs_background": "light"
          }
        }
      ]
    },
    {
      "cell_type": "markdown",
      "metadata": {
        "id": "tLoPCAR6c4AF"
      },
      "source": [
        "###save datafile"
      ]
    },
    {
      "cell_type": "code",
      "metadata": {
        "id": "BQZsJISxbtsU"
      },
      "source": [
        "import pickle\n",
        "with open('dataset.pickle', 'wb') as f:\n",
        "    pickle.dump([dfs, dfseg], f)"
      ],
      "execution_count": 20,
      "outputs": []
    },
    {
      "cell_type": "markdown",
      "metadata": {
        "id": "tHNrfDLYdNDN"
      },
      "source": [
        "### Load data"
      ]
    },
    {
      "cell_type": "code",
      "metadata": {
        "id": "BMt1o9NydOlh"
      },
      "source": [
        "with open('dataset.pickle', 'rb') as f:\n",
        "    dfs, dfseg = pickle.load(f)"
      ],
      "execution_count": 21,
      "outputs": []
    },
    {
      "cell_type": "markdown",
      "metadata": {
        "id": "3R3rfmC5dZo8"
      },
      "source": [
        "##Build Machine Learning Model "
      ]
    },
    {
      "cell_type": "code",
      "metadata": {
        "id": "9i3QqZdsdXL0"
      },
      "source": [
        "import tensorflow as tf\n",
        "dis=1000\n",
        "model = tf.keras.models.Sequential([\n",
        "    # Note the input shape is the desired size of the image with 3 bytes color\n",
        "    # This is the first convolution\n",
        "    tf.keras.layers.Conv1D(filters=32, kernel_size=30, kernel_initializer='lecun_normal', activation='selu', input_shape=(dis, 1)),\n",
        "    tf.keras.layers.MaxPooling1D(4),\n",
        "    tf.keras.layers.Dropout(0.5),\n",
        "    # The second convolution\n",
        "    tf.keras.layers.Conv1D(filters=32, kernel_size=50, kernel_initializer='lecun_normal', activation='selu'),\n",
        "    tf.keras.layers.MaxPooling1D(4),\n",
        "    tf.keras.layers.Dropout(0.5),\n",
        "    #tf.keras.layers.Flatten(),\n",
        "    # The third convolution\n",
        "    tf.keras.layers.LSTM(units = 128, return_sequences = True, activation='tanh', recurrent_dropout=0.1),\n",
        "    # The fourth convolution\n",
        "    tf.keras.layers.LSTM(units = 128, return_sequences = True, activation='tanh', recurrent_dropout=0.1),\n",
        "    # 512 neuron hidden layer\n",
        "    #tf.keras.layers.Dense(12, activation='softmax'),\n",
        "    \n",
        "    # Only 1 output neuron. It will contain a value from 0-1 where 0 for 1 class ('horses') and 1 for the other ('humans')\n",
        "    tf.keras.layers.Dense(2, activation='selu'),\n",
        "    tf.keras.layers.Flatten(), \n",
        "    #tf.keras.layers.Dense(48, activation='relu'),                                  \n",
        "    #tf.keras.layers.Dense(2, activation='LeakyReLU'),#LeakyReLU\n",
        "    tf.keras.layers.Dense(2, activation='softmax'),\n",
        "  ])"
      ],
      "execution_count": 24,
      "outputs": []
    },
    {
      "cell_type": "code",
      "metadata": {
        "id": "LlNrvXZFm-QV"
      },
      "source": [
        "OPTIMIZER = tf.keras.optimizers.RMSprop(learning_rate=0.0001) \n",
        "model.compile(loss='categorical_crossentropy', optimizer=OPTIMIZER, metrics=['accuracy']) #categorical_crossentropy binary_crossentropy 'RMSprop'"
      ],
      "execution_count": 25,
      "outputs": []
    },
    {
      "cell_type": "code",
      "metadata": {
        "colab": {
          "base_uri": "https://localhost:8080/"
        },
        "id": "AJA1eyqRnutT",
        "outputId": "ee35b162-69b3-4e88-f1dd-753f1113b717"
      },
      "source": [
        "model.summary()"
      ],
      "execution_count": 26,
      "outputs": [
        {
          "output_type": "stream",
          "text": [
            "Model: \"sequential\"\n",
            "_________________________________________________________________\n",
            "Layer (type)                 Output Shape              Param #   \n",
            "=================================================================\n",
            "conv1d (Conv1D)              (None, 971, 32)           992       \n",
            "_________________________________________________________________\n",
            "max_pooling1d (MaxPooling1D) (None, 242, 32)           0         \n",
            "_________________________________________________________________\n",
            "dropout (Dropout)            (None, 242, 32)           0         \n",
            "_________________________________________________________________\n",
            "conv1d_1 (Conv1D)            (None, 193, 32)           51232     \n",
            "_________________________________________________________________\n",
            "max_pooling1d_1 (MaxPooling1 (None, 48, 32)            0         \n",
            "_________________________________________________________________\n",
            "dropout_1 (Dropout)          (None, 48, 32)            0         \n",
            "_________________________________________________________________\n",
            "lstm (LSTM)                  (None, 48, 128)           82432     \n",
            "_________________________________________________________________\n",
            "lstm_1 (LSTM)                (None, 48, 128)           131584    \n",
            "_________________________________________________________________\n",
            "dense (Dense)                (None, 48, 2)             258       \n",
            "_________________________________________________________________\n",
            "flatten (Flatten)            (None, 96)                0         \n",
            "_________________________________________________________________\n",
            "dense_1 (Dense)              (None, 2)                 194       \n",
            "=================================================================\n",
            "Total params: 266,692\n",
            "Trainable params: 266,692\n",
            "Non-trainable params: 0\n",
            "_________________________________________________________________\n"
          ],
          "name": "stdout"
        }
      ]
    },
    {
      "cell_type": "code",
      "metadata": {
        "colab": {
          "base_uri": "https://localhost:8080/"
        },
        "id": "XMpMpioj3nUi",
        "outputId": "95a0e5a7-7a29-46f7-d715-dfc2bf82b89b"
      },
      "source": [
        "int(dfseg[0]['Subject'][0])"
      ],
      "execution_count": 27,
      "outputs": [
        {
          "output_type": "execute_result",
          "data": {
            "text/plain": [
              "0"
            ]
          },
          "metadata": {
            "tags": []
          },
          "execution_count": 27
        }
      ]
    },
    {
      "cell_type": "markdown",
      "metadata": {
        "id": "xVm2e4XthAsQ"
      },
      "source": [
        "##Build Machine Learning Model (style 2)"
      ]
    },
    {
      "cell_type": "code",
      "metadata": {
        "id": "tGwqZL2nhDre"
      },
      "source": [
        "import keras\n",
        "from keras.layers import Conv1D, Dense, MaxPooling1D, LSTM, Convolution1D, Reshape, Flatten\n",
        "inputs = keras.Input(shape=(1000,1))\n",
        "conv1 = Conv1D(filters=32, kernel_size=30, activation='selu')(inputs)\n",
        "mxp1 = MaxPooling1D(4)(conv1)\n",
        "conv2 = Conv1D(filters=32, kernel_size=50,activation='selu')(mxp1)\n",
        "mxp2 = MaxPooling1D(4)(conv2)\n",
        "lstm1 = LSTM(units = 128, return_sequences = True, activation='tanh', recurrent_dropout=0.1)(mxp2)\n",
        "lstm2 = LSTM(units = 128, return_sequences = True, activation='tanh', recurrent_dropout=0.1)(lstm1)\n",
        "dense1 = Dense(2,  activation='selu')(lstm2)\n",
        "dense1 = Flatten()(dense1)\n",
        "outputs = Dense(2, activation='softmax')(dense1)\n",
        "#layer = tf.keras.layers.Softmax()\n",
        "#outputs = layer(dense1)\n",
        "#res = Reshape((96,), name='predictions')(dense1)"
      ],
      "execution_count": 28,
      "outputs": []
    },
    {
      "cell_type": "code",
      "metadata": {
        "id": "fvwf8Po4mJqv"
      },
      "source": [
        "model = keras.Model(inputs=inputs, outputs=outputs, name=\"BiometricNet\")"
      ],
      "execution_count": 29,
      "outputs": []
    },
    {
      "cell_type": "code",
      "metadata": {
        "colab": {
          "base_uri": "https://localhost:8080/"
        },
        "id": "Xj2AcsSumOIW",
        "outputId": "4fd1279b-8bae-46fb-b182-606c06e3fbf2"
      },
      "source": [
        "model.summary()"
      ],
      "execution_count": 30,
      "outputs": [
        {
          "output_type": "stream",
          "text": [
            "Model: \"BiometricNet\"\n",
            "_________________________________________________________________\n",
            "Layer (type)                 Output Shape              Param #   \n",
            "=================================================================\n",
            "input_1 (InputLayer)         [(None, 1000, 1)]         0         \n",
            "_________________________________________________________________\n",
            "conv1d (Conv1D)              (None, 971, 32)           992       \n",
            "_________________________________________________________________\n",
            "max_pooling1d (MaxPooling1D) (None, 242, 32)           0         \n",
            "_________________________________________________________________\n",
            "conv1d_1 (Conv1D)            (None, 193, 32)           51232     \n",
            "_________________________________________________________________\n",
            "max_pooling1d_1 (MaxPooling1 (None, 48, 32)            0         \n",
            "_________________________________________________________________\n",
            "lstm (LSTM)                  (None, 48, 128)           82432     \n",
            "_________________________________________________________________\n",
            "lstm_1 (LSTM)                (None, 48, 128)           131584    \n",
            "_________________________________________________________________\n",
            "dense (Dense)                (None, 48, 2)             258       \n",
            "_________________________________________________________________\n",
            "flatten (Flatten)            (None, 96)                0         \n",
            "_________________________________________________________________\n",
            "dense_1 (Dense)              (None, 2)                 194       \n",
            "=================================================================\n",
            "Total params: 266,692\n",
            "Trainable params: 266,692\n",
            "Non-trainable params: 0\n",
            "_________________________________________________________________\n"
          ],
          "name": "stdout"
        }
      ]
    },
    {
      "cell_type": "code",
      "metadata": {
        "colab": {
          "base_uri": "https://localhost:8080/",
          "height": 1000
        },
        "id": "L9GG2LCOrVGl",
        "outputId": "1b2fe4a8-1b9f-44a4-c0db-bb66094a7ec1"
      },
      "source": [
        "tf.keras.utils.plot_model(model, \"my_first_model.png\",show_shapes=True)"
      ],
      "execution_count": 31,
      "outputs": [
        {
          "output_type": "execute_result",
          "data": {
            "image/png": "[encoded data removed]",
            "text/plain": [
              "<IPython.core.display.Image object>"
            ]
          },
          "metadata": {
            "tags": []
          },
          "execution_count": 31
        }
      ]
    },
    {
      "cell_type": "markdown",
      "metadata": {
        "id": "2ci0XTeIeboq"
      },
      "source": [
        "## Compile The Model"
      ]
    },
    {
      "cell_type": "code",
      "metadata": {
        "id": "l2PiAEHEiy2V"
      },
      "source": [
        "model.compile(\n",
        "    loss=keras.losses.CategoricalCrossentropy(),#from_logits=True\n",
        "    optimizer=keras.optimizers.RMSprop(learning_rate=0.0001),\n",
        "    metrics=[\"accuracy\"],\n",
        ")"
      ],
      "execution_count": 32,
      "outputs": []
    },
    {
      "cell_type": "code",
      "metadata": {
        "colab": {
          "base_uri": "https://localhost:8080/"
        },
        "id": "V-JN7dJPgF7m",
        "outputId": "aea0b914-5471-43e8-99ab-4ec99ff4c58b"
      },
      "source": [
        "inp = np.asarray([1., 0., 1.])\n",
        "layer = tf.keras.layers.Softmax(axis=0)\n",
        "layer(inp).numpy()"
      ],
      "execution_count": 33,
      "outputs": [
        {
          "output_type": "execute_result",
          "data": {
            "text/plain": [
              "array([0.42231882, 0.15536241, 0.42231882], dtype=float32)"
            ]
          },
          "metadata": {
            "tags": []
          },
          "execution_count": 33
        }
      ]
    },
    {
      "cell_type": "code",
      "metadata": {
        "colab": {
          "base_uri": "https://localhost:8080/"
        },
        "id": "_J8otPeogUad",
        "outputId": "2c404983-9f93-4d0f-acd6-09c536fdd882"
      },
      "source": [
        "mask = np.asarray([False, True, False], dtype=bool)\n",
        "layer(inp, mask).numpy()"
      ],
      "execution_count": 34,
      "outputs": [
        {
          "output_type": "execute_result",
          "data": {
            "text/plain": [
              "array([0., 1., 0.], dtype=float32)"
            ]
          },
          "metadata": {
            "tags": []
          },
          "execution_count": 34
        }
      ]
    },
    {
      "cell_type": "markdown",
      "metadata": {
        "id": "SubWdpQFDUOu"
      },
      "source": [
        "### Make X, y data"
      ]
    },
    {
      "cell_type": "code",
      "metadata": {
        "id": "QpyFiqB48CbO"
      },
      "source": [
        "X = []\n",
        "y = []\n",
        "for seg in dfseg:\n",
        "  X.append(seg[1].values) # PPG 1\n",
        "  X.append(seg[2].values) # PPG 2\n",
        "  y.append(int(seg['Subject'].values[0])) # Label for subject n PPG1\n",
        "  y.append(int(seg['Subject'].values[0])) # Label for subject n PPG2\n",
        "\n",
        "\n",
        "  #print(seg['Subject'][0])\n",
        "X = np.array(X) \n",
        "y = np.asarray(y)"
      ],
      "execution_count": 35,
      "outputs": []
    },
    {
      "cell_type": "code",
      "metadata": {
        "colab": {
          "base_uri": "https://localhost:8080/",
          "height": 282
        },
        "id": "C1To6xchBphf",
        "outputId": "d0556f92-4ad3-4463-bec8-668adfea7af4"
      },
      "source": [
        "plt.plot(X[100])\n",
        "plt.plot(X[101])"
      ],
      "execution_count": 36,
      "outputs": [
        {
          "output_type": "execute_result",
          "data": {
            "text/plain": [
              "[<matplotlib.lines.Line2D at 0x7f35a7897b90>]"
            ]
          },
          "metadata": {
            "tags": []
          },
          "execution_count": 36
        },
        {
          "output_type": "display_data",
          "data": {
            "image/png": "[encoded data removed]",
            "text/plain": [
              "<Figure size 432x288 with 1 Axes>"
            ]
          },
          "metadata": {
            "tags": [],
            "needs_background": "light"
          }
        }
      ]
    },
    {
      "cell_type": "code",
      "metadata": {
        "colab": {
          "base_uri": "https://localhost:8080/",
          "height": 282
        },
        "id": "oxJ8fbMSC5nN",
        "outputId": "6faedb5f-8636-4d3f-b595-256314a8a9cb"
      },
      "source": [
        "plt.plot(X[2])\n",
        "plt.plot(X[3])"
      ],
      "execution_count": 37,
      "outputs": [
        {
          "output_type": "execute_result",
          "data": {
            "text/plain": [
              "[<matplotlib.lines.Line2D at 0x7f35a780c3d0>]"
            ]
          },
          "metadata": {
            "tags": []
          },
          "execution_count": 37
        },
        {
          "output_type": "display_data",
          "data": {
            "image/png": "[encoded data removed]",
            "text/plain": [
              "<Figure size 432x288 with 1 Axes>"
            ]
          },
          "metadata": {
            "tags": [],
            "needs_background": "light"
          }
        }
      ]
    },
    {
      "cell_type": "markdown",
      "metadata": {
        "id": "7ettmS0-Fly6"
      },
      "source": [
        "## Imbalance **dataset** resolution"
      ]
    },
    {
      "cell_type": "markdown",
      "metadata": {
        "id": "QlT0Yhh6HGCy"
      },
      "source": [
        "### Install imblearn package"
      ]
    },
    {
      "cell_type": "code",
      "metadata": {
        "colab": {
          "base_uri": "https://localhost:8080/"
        },
        "id": "nVvu3G4DGu2-",
        "outputId": "437fd820-6ff8-43e2-8569-f06eb58b9393"
      },
      "source": [
        "!pip install imblearn"
      ],
      "execution_count": 38,
      "outputs": [
        {
          "output_type": "stream",
          "text": [
            "Requirement already satisfied: imblearn in /usr/local/lib/python3.7/dist-packages (0.0)\n",
            "Requirement already satisfied: imbalanced-learn in /usr/local/lib/python3.7/dist-packages (from imblearn) (0.4.3)\n",
            "Requirement already satisfied: scipy>=0.13.3 in /usr/local/lib/python3.7/dist-packages (from imbalanced-learn->imblearn) (1.4.1)\n",
            "Requirement already satisfied: scikit-learn>=0.20 in /usr/local/lib/python3.7/dist-packages (from imbalanced-learn->imblearn) (0.22.2.post1)\n",
            "Requirement already satisfied: numpy>=1.8.2 in /usr/local/lib/python3.7/dist-packages (from imbalanced-learn->imblearn) (1.19.5)\n",
            "Requirement already satisfied: joblib>=0.11 in /usr/local/lib/python3.7/dist-packages (from scikit-learn>=0.20->imbalanced-learn->imblearn) (1.0.1)\n"
          ],
          "name": "stdout"
        }
      ]
    },
    {
      "cell_type": "markdown",
      "metadata": {
        "id": "_GsNzrVHHQs3"
      },
      "source": [
        "### Oversamling imbalnced dataset"
      ]
    },
    {
      "cell_type": "code",
      "metadata": {
        "colab": {
          "base_uri": "https://localhost:8080/"
        },
        "id": "LBlFVVtxIagD",
        "outputId": "ca12cceb-31a8-43fc-e96d-abc196c2e8c4"
      },
      "source": [
        "# Check the shape of dataset\n",
        "print(np.shape(X), np.shape(y))\n",
        "def group_dataset(y, key=0):\n",
        "  if key not in y:\n",
        "    assert \"Error key\"\n",
        "    return 0\n",
        "  else:\n",
        "    z = np.array([0]*np.shape(y)[0])\n",
        "    z[np.where(y==key)] = 1\n",
        "    return z\n"
      ],
      "execution_count": 39,
      "outputs": [
        {
          "output_type": "stream",
          "text": [
            "(892, 1000) (892,)\n"
          ],
          "name": "stdout"
        }
      ]
    },
    {
      "cell_type": "markdown",
      "metadata": {
        "id": "GbAAK422Vvt6"
      },
      "source": [
        "### Check size and group data"
      ]
    },
    {
      "cell_type": "code",
      "metadata": {
        "id": "WJVV8pGXJs1I"
      },
      "source": [
        "z = group_dataset(y, key=3)\n"
      ],
      "execution_count": 62,
      "outputs": []
    },
    {
      "cell_type": "markdown",
      "metadata": {
        "id": "kgv7XFxdvOmV"
      },
      "source": [
        "### Undersampling"
      ]
    },
    {
      "cell_type": "code",
      "metadata": {
        "colab": {
          "base_uri": "https://localhost:8080/"
        },
        "id": "k9FQYKWKVlmU",
        "outputId": "a6356e23-0f2a-46e1-c22c-8959484570f2"
      },
      "source": [
        "from imblearn.under_sampling import RandomUnderSampler\n",
        "under_sample = RandomUnderSampler(sampling_strategy = 'all')\n",
        "X_under, y_under = under_sample.fit_resample(X, z)\n",
        "y_under = pd.Series(y_under)\n",
        "y_under.value_counts()"
      ],
      "execution_count": 63,
      "outputs": [
        {
          "output_type": "stream",
          "text": [
            "/usr/local/lib/python3.7/dist-packages/sklearn/utils/deprecation.py:87: FutureWarning: Function safe_indexing is deprecated; safe_indexing is deprecated in version 0.22 and will be removed in version 0.24.\n",
            "  warnings.warn(msg, category=FutureWarning)\n"
          ],
          "name": "stderr"
        },
        {
          "output_type": "execute_result",
          "data": {
            "text/plain": [
              "1    76\n",
              "0    76\n",
              "dtype: int64"
            ]
          },
          "metadata": {
            "tags": []
          },
          "execution_count": 63
        }
      ]
    },
    {
      "cell_type": "markdown",
      "metadata": {
        "id": "zcF_rxK-UTsU"
      },
      "source": [
        "### Over-sampling"
      ]
    },
    {
      "cell_type": "code",
      "metadata": {
        "colab": {
          "base_uri": "https://localhost:8080/"
        },
        "id": "6FKrcbI9UXLW",
        "outputId": "560e5485-0445-42de-f05c-bceecfad2e75"
      },
      "source": [
        "from imblearn.over_sampling import RandomOverSampler\n",
        "over_sample = RandomOverSampler(sampling_strategy = 'all')\n",
        "X_over, y_over = over_sample.fit_resample(X,z)\n",
        "y_over = pd.Series(y_over)\n",
        "y_over.value_counts()"
      ],
      "execution_count": 43,
      "outputs": [
        {
          "output_type": "stream",
          "text": [
            "/usr/local/lib/python3.7/dist-packages/sklearn/utils/deprecation.py:87: FutureWarning: Function safe_indexing is deprecated; safe_indexing is deprecated in version 0.22 and will be removed in version 0.24.\n",
            "  warnings.warn(msg, category=FutureWarning)\n"
          ],
          "name": "stderr"
        },
        {
          "output_type": "execute_result",
          "data": {
            "text/plain": [
              "1    818\n",
              "0    818\n",
              "dtype: int64"
            ]
          },
          "metadata": {
            "tags": []
          },
          "execution_count": 43
        }
      ]
    },
    {
      "cell_type": "markdown",
      "metadata": {
        "id": "eBgYPVwIXJ11"
      },
      "source": [
        "### SMOTE Technique"
      ]
    },
    {
      "cell_type": "code",
      "metadata": {
        "colab": {
          "base_uri": "https://localhost:8080/"
        },
        "id": "Pb2wtcpeXQEk",
        "outputId": "b3917189-6eb6-4bfb-94bf-d817a711db7e"
      },
      "source": [
        "from imblearn.over_sampling import SMOTE\n",
        "oversample = SMOTE()\n",
        "X_smoted, y_smoted = oversample.fit_resample(X,z)\n",
        "y_smoted = pd.Series(y_smoted)\n",
        "y_smoted.value_counts()"
      ],
      "execution_count": 64,
      "outputs": [
        {
          "output_type": "stream",
          "text": [
            "/usr/local/lib/python3.7/dist-packages/sklearn/utils/deprecation.py:87: FutureWarning: Function safe_indexing is deprecated; safe_indexing is deprecated in version 0.22 and will be removed in version 0.24.\n",
            "  warnings.warn(msg, category=FutureWarning)\n"
          ],
          "name": "stderr"
        },
        {
          "output_type": "execute_result",
          "data": {
            "text/plain": [
              "1    816\n",
              "0    816\n",
              "dtype: int64"
            ]
          },
          "metadata": {
            "tags": []
          },
          "execution_count": 64
        }
      ]
    },
    {
      "cell_type": "markdown",
      "metadata": {
        "id": "auEv4h04vSE1"
      },
      "source": [
        "### Split data"
      ]
    },
    {
      "cell_type": "code",
      "metadata": {
        "id": "05OoCpVnEnE5"
      },
      "source": [
        "from sklearn.model_selection import train_test_split\n",
        "from tensorflow.keras.utils import to_categorical\n",
        "from sklearn.utils import shuffle\n",
        "#Using under-sampling\n",
        "#X_train, X_test, y_train, y_test = train_test_split(X_under, y_under, test_size=0.3, random_state=1)\n",
        "\n",
        "#Using over-sampling\n",
        "#X_train, X_test, y_train, y_test = train_test_split(X_over, y_over, test_size=0.3, random_state=1)\n",
        "\n",
        "#Using SMOTE\n",
        "X_smoted, y_smoted = shuffle(X_smoted, y_smoted)\n",
        "X_train, X_test, y_train, y_test = train_test_split(X_smoted, y_smoted, test_size=0.3, random_state=1)\n",
        "\n",
        "\n",
        "\n",
        "X_train = X_train.reshape((X_train.shape[0],X_train.shape[1],1))\n",
        "X_test = X_test.reshape((X_test.shape[0],X_test.shape[1],1))\n",
        "#y_train = y_train.reshape((y_train.shape[0],1))\n",
        "#y_test = y_test.reshape((y_test.shape[0],1))\n",
        "y_train = to_categorical(y_train, num_classes=2)\n",
        "y_test = to_categorical(y_test, num_classes= 2)"
      ],
      "execution_count": 65,
      "outputs": []
    },
    {
      "cell_type": "code",
      "metadata": {
        "id": "vI7d1RpVtfKk"
      },
      "source": [
        "from sklearn.preprocessing import LabelEncoder\n",
        "\n",
        "# encode class values as integers\n",
        "encoder = LabelEncoder()\n",
        "encoder.fit(y_under)\n",
        "encoded_Y = encoder.transform(y_under)"
      ],
      "execution_count": 42,
      "outputs": []
    },
    {
      "cell_type": "code",
      "metadata": {
        "colab": {
          "base_uri": "https://localhost:8080/"
        },
        "id": "8b-4ZbJYV9kW",
        "outputId": "bbcf6a65-ddf6-4bcf-ad8b-23d71452c9a3"
      },
      "source": [
        "np.shape(X_train), np.shape(y_train), np.shape(X_test), np.shape(y_test)"
      ],
      "execution_count": 54,
      "outputs": [
        {
          "output_type": "execute_result",
          "data": {
            "text/plain": [
              "((1145, 1000, 1), (1145, 2), (491, 1000, 1), (491, 2))"
            ]
          },
          "metadata": {
            "tags": []
          },
          "execution_count": 54
        }
      ]
    },
    {
      "cell_type": "code",
      "metadata": {
        "colab": {
          "base_uri": "https://localhost:8080/"
        },
        "id": "JAiohOG3WS9S",
        "outputId": "88b16457-beca-46df-dcf3-3d8eb19098a1"
      },
      "source": [
        "np.shape(X_under)"
      ],
      "execution_count": 135,
      "outputs": [
        {
          "output_type": "execute_result",
          "data": {
            "text/plain": [
              "(148, 1000)"
            ]
          },
          "metadata": {
            "tags": []
          },
          "execution_count": 135
        }
      ]
    },
    {
      "cell_type": "markdown",
      "metadata": {
        "id": "ZA_wKp9XGhxi"
      },
      "source": [
        "### Check group of Data"
      ]
    },
    {
      "cell_type": "code",
      "metadata": {
        "colab": {
          "base_uri": "https://localhost:8080/"
        },
        "id": "huOCGCAtE-73",
        "outputId": "4f244fbd-a95c-4881-b671-254d606c3da6"
      },
      "source": [
        "pd.DataFrame(y_train).groupby(0)[0].count()"
      ],
      "execution_count": 44,
      "outputs": [
        {
          "output_type": "execute_result",
          "data": {
            "text/plain": [
              "0\n",
              "0.0    573\n",
              "1.0    572\n",
              "Name: 0, dtype: int64"
            ]
          },
          "metadata": {
            "tags": []
          },
          "execution_count": 44
        }
      ]
    },
    {
      "cell_type": "markdown",
      "metadata": {
        "id": "GdRF5Eb-LLE3"
      },
      "source": [
        "### Run Model\n",
        "\n"
      ]
    },
    {
      "cell_type": "code",
      "metadata": {
        "id": "U01xNLfJbldR"
      },
      "source": [
        "history = model.fit(X_train, y_train, epochs=100, validation_data=(X_test, y_test), batch_size=25, verbose=1)"
      ],
      "execution_count": null,
      "outputs": []
    },
    {
      "cell_type": "markdown",
      "metadata": {
        "id": "Cg0C5WK2s1Dv"
      },
      "source": [
        "### Develop baseline a Neural Network Model"
      ]
    },
    {
      "cell_type": "code",
      "metadata": {
        "id": "BS9W5NF5s0oX"
      },
      "source": [
        "import pandas\n",
        "from keras.wrappers.scikit_learn import KerasRegressor, KerasClassifier\n",
        "from sklearn.model_selection import cross_val_score\n",
        "from sklearn.model_selection import KFold\n",
        "from sklearn.preprocessing import StandardScaler\n",
        "from sklearn.pipeline import Pipeline"
      ],
      "execution_count": 46,
      "outputs": []
    },
    {
      "cell_type": "markdown",
      "metadata": {
        "id": "NtlD4eE_3ayD"
      },
      "source": [
        "### Build the model with 5-fold, shuffling and cross validation"
      ]
    },
    {
      "cell_type": "code",
      "metadata": {
        "id": "hmSmIkmet82t"
      },
      "source": [
        "import keras\n",
        "from keras.layers import Conv1D, Dense, MaxPooling1D, LSTM, Convolution1D, Reshape, Flatten\n",
        "### define the model\n",
        "def baseline_model():\n",
        "  #create model\n",
        "  inputs = keras.Input(shape=(1000,1))\n",
        "  conv1 = Conv1D(filters=32, kernel_size=30, activation='selu')(inputs)\n",
        "  mxp1 = MaxPooling1D(4)(conv1)\n",
        "  conv2 = Conv1D(filters=32, kernel_size=50,activation='selu')(mxp1)\n",
        "  mxp2 = MaxPooling1D(4)(conv2)\n",
        "  lstm1 = LSTM(units = 128, return_sequences = True, activation='tanh', recurrent_dropout=0.1)(mxp2)\n",
        "  lstm2 = LSTM(units = 128, return_sequences = True, activation='tanh', recurrent_dropout=0.1)(lstm1)\n",
        "  dense1 = Dense(2,  activation='selu')(lstm2)\n",
        "  dense1 = Flatten()(dense1)\n",
        "  outputs = Dense(2, activation='softmax')(dense1)\n",
        "  model = keras.Model(inputs=inputs, outputs=outputs, name=\"BiometricNet\")\n",
        "  model.compile(loss=keras.losses.CategoricalCrossentropy(), optimizer=keras.optimizers.RMSprop(learning_rate=0.001), metrics=[\"accuracy\"])\n",
        "  return model\n",
        "\n",
        "\n"
      ],
      "execution_count": null,
      "outputs": []
    },
    {
      "cell_type": "code",
      "metadata": {
        "colab": {
          "base_uri": "https://localhost:8080/"
        },
        "id": "-Njd8rduLrf5",
        "outputId": "01f7d29b-c78a-4664-a69b-50fdb078fe83"
      },
      "source": [
        "model = baseline_model()\n",
        "estimator = KerasClassifier(build_fn= baseline_model, epochs=100, batch_size=25, verbose=1)\n",
        "kfold = KFold(n_splits=5, shuffle=True)\n",
        "results = cross_val_score(estimator, X_train, y_train, cv=kfold)\n",
        "print(\"Baseline: %.2f%% (%.2f%%)\" % (results.mean()*100, results.std()*100))"
      ],
      "execution_count": 70,
      "outputs": [
        {
          "output_type": "stream",
          "text": [
            "Epoch 1/100\n",
            "37/37 [==============================] - 19s 301ms/step - loss: 0.8338 - accuracy: 0.5079\n",
            "Epoch 2/100\n",
            "37/37 [==============================] - 11s 298ms/step - loss: 0.6767 - accuracy: 0.5663\n",
            "Epoch 3/100\n",
            "37/37 [==============================] - 11s 300ms/step - loss: 0.6586 - accuracy: 0.6183\n",
            "Epoch 4/100\n",
            "37/37 [==============================] - 11s 299ms/step - loss: 0.6064 - accuracy: 0.7200\n",
            "Epoch 5/100\n",
            "37/37 [==============================] - 11s 298ms/step - loss: 0.5801 - accuracy: 0.7510\n",
            "Epoch 6/100\n",
            "37/37 [==============================] - 11s 299ms/step - loss: 0.6652 - accuracy: 0.7363\n",
            "Epoch 7/100\n",
            "37/37 [==============================] - 11s 301ms/step - loss: 0.7043 - accuracy: 0.7041\n",
            "Epoch 8/100\n",
            "37/37 [==============================] - 11s 307ms/step - loss: 0.4240 - accuracy: 0.8209\n",
            "Epoch 9/100\n",
            "37/37 [==============================] - 11s 302ms/step - loss: 0.5400 - accuracy: 0.8064\n",
            "Epoch 10/100\n",
            "37/37 [==============================] - 11s 298ms/step - loss: 0.4067 - accuracy: 0.8306\n",
            "Epoch 11/100\n",
            "37/37 [==============================] - 11s 298ms/step - loss: 0.4089 - accuracy: 0.8187\n",
            "Epoch 12/100\n",
            "37/37 [==============================] - 11s 298ms/step - loss: 0.3825 - accuracy: 0.8420\n",
            "Epoch 13/100\n",
            "37/37 [==============================] - 11s 301ms/step - loss: 0.3390 - accuracy: 0.8573\n",
            "Epoch 14/100\n",
            "37/37 [==============================] - 11s 309ms/step - loss: 0.2979 - accuracy: 0.8767\n",
            "Epoch 15/100\n",
            "37/37 [==============================] - 11s 307ms/step - loss: 0.2947 - accuracy: 0.8747\n",
            "Epoch 16/100\n",
            "37/37 [==============================] - 11s 305ms/step - loss: 0.3084 - accuracy: 0.8611\n",
            "Epoch 17/100\n",
            "37/37 [==============================] - 11s 302ms/step - loss: 0.2621 - accuracy: 0.8730\n",
            "Epoch 18/100\n",
            "37/37 [==============================] - 11s 302ms/step - loss: 0.2150 - accuracy: 0.9164\n",
            "Epoch 19/100\n",
            "37/37 [==============================] - 11s 303ms/step - loss: 0.1840 - accuracy: 0.9234\n",
            "Epoch 20/100\n",
            "37/37 [==============================] - 11s 307ms/step - loss: 0.1680 - accuracy: 0.9390\n",
            "Epoch 21/100\n",
            "37/37 [==============================] - 11s 304ms/step - loss: 0.1465 - accuracy: 0.9565\n",
            "Epoch 22/100\n",
            "37/37 [==============================] - 12s 312ms/step - loss: 0.1638 - accuracy: 0.9290\n",
            "Epoch 23/100\n",
            "37/37 [==============================] - 12s 312ms/step - loss: 0.0875 - accuracy: 0.9733\n",
            "Epoch 24/100\n",
            "37/37 [==============================] - 12s 313ms/step - loss: 0.1159 - accuracy: 0.9578\n",
            "Epoch 25/100\n",
            "37/37 [==============================] - 11s 304ms/step - loss: 0.0946 - accuracy: 0.9713\n",
            "Epoch 26/100\n",
            "37/37 [==============================] - 11s 307ms/step - loss: 0.1047 - accuracy: 0.9572\n",
            "Epoch 27/100\n",
            "37/37 [==============================] - 11s 305ms/step - loss: 0.0566 - accuracy: 0.9847\n",
            "Epoch 28/100\n",
            "37/37 [==============================] - 11s 305ms/step - loss: 0.0437 - accuracy: 0.9866\n",
            "Epoch 29/100\n",
            "37/37 [==============================] - 11s 307ms/step - loss: 0.0440 - accuracy: 0.9894\n",
            "Epoch 30/100\n",
            "37/37 [==============================] - 11s 308ms/step - loss: 0.0549 - accuracy: 0.9840\n",
            "Epoch 31/100\n",
            "37/37 [==============================] - 12s 313ms/step - loss: 0.0832 - accuracy: 0.9668\n",
            "Epoch 32/100\n",
            "37/37 [==============================] - 12s 312ms/step - loss: 0.0929 - accuracy: 0.9613\n",
            "Epoch 33/100\n",
            "37/37 [==============================] - 12s 310ms/step - loss: 0.0756 - accuracy: 0.9829\n",
            "Epoch 34/100\n",
            "37/37 [==============================] - 11s 305ms/step - loss: 0.0219 - accuracy: 0.9923\n",
            "Epoch 35/100\n",
            "37/37 [==============================] - 11s 309ms/step - loss: 0.0797 - accuracy: 0.9719\n",
            "Epoch 36/100\n",
            "37/37 [==============================] - 11s 301ms/step - loss: 0.0631 - accuracy: 0.9783\n",
            "Epoch 37/100\n",
            "37/37 [==============================] - 11s 302ms/step - loss: 0.0183 - accuracy: 0.9919\n",
            "Epoch 38/100\n",
            "37/37 [==============================] - 11s 308ms/step - loss: 0.0397 - accuracy: 0.9794\n",
            "Epoch 39/100\n",
            "37/37 [==============================] - 11s 303ms/step - loss: 0.0446 - accuracy: 0.9871\n",
            "Epoch 40/100\n",
            "37/37 [==============================] - 11s 307ms/step - loss: 0.0165 - accuracy: 0.9955\n",
            "Epoch 41/100\n",
            "37/37 [==============================] - 11s 303ms/step - loss: 0.0104 - accuracy: 0.9969\n",
            "Epoch 42/100\n",
            "37/37 [==============================] - 11s 303ms/step - loss: 0.0239 - accuracy: 0.9912\n",
            "Epoch 43/100\n",
            "37/37 [==============================] - 11s 305ms/step - loss: 0.0034 - accuracy: 0.9981\n",
            "Epoch 44/100\n",
            "37/37 [==============================] - 11s 302ms/step - loss: 0.0604 - accuracy: 0.9813\n",
            "Epoch 45/100\n",
            "37/37 [==============================] - 11s 302ms/step - loss: 0.0067 - accuracy: 1.0000\n",
            "Epoch 46/100\n",
            "37/37 [==============================] - 11s 303ms/step - loss: 0.0580 - accuracy: 0.9718\n",
            "Epoch 47/100\n",
            "37/37 [==============================] - 11s 307ms/step - loss: 0.0086 - accuracy: 0.9977\n",
            "Epoch 48/100\n",
            "37/37 [==============================] - 11s 305ms/step - loss: 0.0119 - accuracy: 0.9954\n",
            "Epoch 49/100\n",
            "37/37 [==============================] - 11s 303ms/step - loss: 0.0310 - accuracy: 0.9921\n",
            "Epoch 50/100\n",
            "37/37 [==============================] - 11s 304ms/step - loss: 0.0054 - accuracy: 0.9994\n",
            "Epoch 51/100\n",
            "37/37 [==============================] - 11s 304ms/step - loss: 0.0087 - accuracy: 1.0000\n",
            "Epoch 52/100\n",
            "37/37 [==============================] - 11s 303ms/step - loss: 0.0149 - accuracy: 0.9947\n",
            "Epoch 53/100\n",
            "37/37 [==============================] - 11s 304ms/step - loss: 0.1423 - accuracy: 0.9633\n",
            "Epoch 54/100\n",
            "37/37 [==============================] - 11s 309ms/step - loss: 0.0012 - accuracy: 0.9999\n",
            "Epoch 55/100\n",
            "37/37 [==============================] - 11s 307ms/step - loss: 0.0609 - accuracy: 0.9780\n",
            "Epoch 56/100\n",
            "37/37 [==============================] - 11s 307ms/step - loss: 0.0106 - accuracy: 0.9957\n",
            "Epoch 57/100\n",
            "37/37 [==============================] - 11s 307ms/step - loss: 0.0018 - accuracy: 1.0000\n",
            "Epoch 58/100\n",
            "37/37 [==============================] - 11s 308ms/step - loss: 0.0254 - accuracy: 0.9899\n",
            "Epoch 59/100\n",
            "37/37 [==============================] - 11s 307ms/step - loss: 0.0284 - accuracy: 0.9933\n",
            "Epoch 60/100\n",
            "37/37 [==============================] - 11s 307ms/step - loss: 0.0094 - accuracy: 0.9978\n",
            "Epoch 61/100\n",
            "37/37 [==============================] - 11s 304ms/step - loss: 0.0062 - accuracy: 0.9996\n",
            "Epoch 62/100\n",
            "37/37 [==============================] - 11s 301ms/step - loss: 6.5639e-04 - accuracy: 1.0000\n",
            "Epoch 63/100\n",
            "37/37 [==============================] - 11s 300ms/step - loss: 6.9634e-05 - accuracy: 1.0000\n",
            "Epoch 64/100\n",
            "37/37 [==============================] - 11s 300ms/step - loss: 0.0165 - accuracy: 0.9973\n",
            "Epoch 65/100\n",
            "37/37 [==============================] - 11s 305ms/step - loss: 0.0013 - accuracy: 0.9998\n",
            "Epoch 66/100\n",
            "37/37 [==============================] - 11s 301ms/step - loss: 0.1208 - accuracy: 0.9667\n",
            "Epoch 67/100\n",
            "37/37 [==============================] - 11s 303ms/step - loss: 3.1067e-04 - accuracy: 1.0000\n",
            "Epoch 68/100\n",
            "37/37 [==============================] - 11s 301ms/step - loss: 1.1973e-04 - accuracy: 1.0000\n",
            "Epoch 69/100\n",
            "37/37 [==============================] - 11s 301ms/step - loss: 0.2143 - accuracy: 0.9560\n",
            "Epoch 70/100\n",
            "37/37 [==============================] - 11s 301ms/step - loss: 0.0155 - accuracy: 0.9936\n",
            "Epoch 71/100\n",
            "37/37 [==============================] - 11s 303ms/step - loss: 7.5407e-04 - accuracy: 1.0000\n",
            "Epoch 72/100\n",
            "37/37 [==============================] - 11s 304ms/step - loss: 0.0089 - accuracy: 0.9978\n",
            "Epoch 73/100\n",
            "37/37 [==============================] - 11s 303ms/step - loss: 0.0046 - accuracy: 0.9991\n",
            "Epoch 74/100\n",
            "37/37 [==============================] - 11s 304ms/step - loss: 0.0091 - accuracy: 1.0000\n",
            "Epoch 75/100\n",
            "37/37 [==============================] - 11s 310ms/step - loss: 1.3909e-04 - accuracy: 1.0000\n",
            "Epoch 76/100\n",
            "37/37 [==============================] - 11s 308ms/step - loss: 0.1012 - accuracy: 0.9653\n",
            "Epoch 77/100\n",
            "37/37 [==============================] - 11s 308ms/step - loss: 3.9509e-04 - accuracy: 1.0000\n",
            "Epoch 78/100\n",
            "37/37 [==============================] - 11s 309ms/step - loss: 4.4756e-05 - accuracy: 1.0000\n",
            "Epoch 79/100\n",
            "37/37 [==============================] - 11s 305ms/step - loss: 0.0187 - accuracy: 0.9969\n",
            "Epoch 80/100\n",
            "37/37 [==============================] - 11s 303ms/step - loss: 3.1974e-04 - accuracy: 1.0000\n",
            "Epoch 81/100\n",
            "37/37 [==============================] - 11s 303ms/step - loss: 2.8683e-05 - accuracy: 1.0000\n",
            "Epoch 82/100\n",
            "37/37 [==============================] - 11s 305ms/step - loss: 7.0968e-06 - accuracy: 1.0000\n",
            "Epoch 83/100\n",
            "37/37 [==============================] - 11s 304ms/step - loss: 0.0192 - accuracy: 0.9964\n",
            "Epoch 84/100\n",
            "37/37 [==============================] - 11s 304ms/step - loss: 1.8108e-04 - accuracy: 1.0000\n",
            "Epoch 85/100\n",
            "37/37 [==============================] - 11s 303ms/step - loss: 4.3535e-05 - accuracy: 1.0000\n",
            "Epoch 86/100\n",
            "37/37 [==============================] - 11s 305ms/step - loss: 1.9296e-05 - accuracy: 1.0000\n",
            "Epoch 87/100\n",
            "37/37 [==============================] - 11s 305ms/step - loss: 1.9757e-06 - accuracy: 1.0000\n",
            "Epoch 88/100\n",
            "37/37 [==============================] - 11s 307ms/step - loss: 0.0820 - accuracy: 0.9778\n",
            "Epoch 89/100\n",
            "37/37 [==============================] - 11s 304ms/step - loss: 0.0644 - accuracy: 0.9878\n",
            "Epoch 90/100\n",
            "37/37 [==============================] - 11s 304ms/step - loss: 1.2320e-04 - accuracy: 1.0000\n",
            "Epoch 91/100\n",
            "37/37 [==============================] - 11s 302ms/step - loss: 2.2961e-05 - accuracy: 1.0000\n",
            "Epoch 92/100\n",
            "37/37 [==============================] - 11s 304ms/step - loss: 6.2362e-06 - accuracy: 1.0000\n",
            "Epoch 93/100\n",
            "37/37 [==============================] - 11s 304ms/step - loss: 0.0045 - accuracy: 0.9987\n",
            "Epoch 94/100\n",
            "37/37 [==============================] - 11s 310ms/step - loss: 0.0055 - accuracy: 0.9998\n",
            "Epoch 95/100\n",
            "37/37 [==============================] - 11s 305ms/step - loss: 0.0075 - accuracy: 0.9984\n",
            "Epoch 96/100\n",
            "37/37 [==============================] - 11s 303ms/step - loss: 0.0244 - accuracy: 0.9900\n",
            "Epoch 97/100\n",
            "37/37 [==============================] - 11s 306ms/step - loss: 7.8688e-05 - accuracy: 1.0000\n",
            "Epoch 98/100\n",
            "37/37 [==============================] - 12s 312ms/step - loss: 4.0359e-05 - accuracy: 1.0000\n",
            "Epoch 99/100\n",
            "37/37 [==============================] - 12s 316ms/step - loss: 0.0084 - accuracy: 0.9980\n",
            "Epoch 100/100\n",
            "37/37 [==============================] - 12s 313ms/step - loss: 0.0043 - accuracy: 0.9971\n",
            "10/10 [==============================] - 2s 47ms/step - loss: 0.3353 - accuracy: 0.9607\n",
            "Epoch 1/100\n",
            "37/37 [==============================] - 19s 305ms/step - loss: 0.6953 - accuracy: 0.4895\n",
            "Epoch 2/100\n",
            "37/37 [==============================] - 11s 303ms/step - loss: 0.6925 - accuracy: 0.5282\n",
            "Epoch 3/100\n",
            "37/37 [==============================] - 11s 304ms/step - loss: 0.6483 - accuracy: 0.6053\n",
            "Epoch 4/100\n",
            "37/37 [==============================] - 11s 302ms/step - loss: 0.4803 - accuracy: 0.7802\n",
            "Epoch 5/100\n",
            "37/37 [==============================] - 11s 303ms/step - loss: 0.5009 - accuracy: 0.7522\n",
            "Epoch 6/100\n",
            "37/37 [==============================] - 11s 301ms/step - loss: 0.3785 - accuracy: 0.8539\n",
            "Epoch 7/100\n",
            "37/37 [==============================] - 11s 300ms/step - loss: 0.3665 - accuracy: 0.8463\n",
            "Epoch 8/100\n",
            "37/37 [==============================] - 11s 302ms/step - loss: 0.3103 - accuracy: 0.8619\n",
            "Epoch 9/100\n",
            "37/37 [==============================] - 11s 302ms/step - loss: 0.3516 - accuracy: 0.8509\n",
            "Epoch 10/100\n",
            "37/37 [==============================] - 11s 300ms/step - loss: 0.3934 - accuracy: 0.8177\n",
            "Epoch 11/100\n",
            "37/37 [==============================] - 11s 301ms/step - loss: 0.3291 - accuracy: 0.8725\n",
            "Epoch 12/100\n",
            "37/37 [==============================] - 11s 303ms/step - loss: 0.1990 - accuracy: 0.9089\n",
            "Epoch 13/100\n",
            "37/37 [==============================] - 11s 302ms/step - loss: 0.2288 - accuracy: 0.9172\n",
            "Epoch 14/100\n",
            "37/37 [==============================] - 11s 300ms/step - loss: 0.2150 - accuracy: 0.9115\n",
            "Epoch 15/100\n",
            "37/37 [==============================] - 11s 300ms/step - loss: 0.1718 - accuracy: 0.9458\n",
            "Epoch 16/100\n",
            "37/37 [==============================] - 11s 306ms/step - loss: 0.1608 - accuracy: 0.9456\n",
            "Epoch 17/100\n",
            "37/37 [==============================] - 11s 304ms/step - loss: 0.1566 - accuracy: 0.9471\n",
            "Epoch 18/100\n",
            "37/37 [==============================] - 11s 302ms/step - loss: 0.1562 - accuracy: 0.9493\n",
            "Epoch 19/100\n",
            "37/37 [==============================] - 11s 302ms/step - loss: 0.1179 - accuracy: 0.9647\n",
            "Epoch 20/100\n",
            "37/37 [==============================] - 11s 300ms/step - loss: 0.1285 - accuracy: 0.9524\n",
            "Epoch 21/100\n",
            "37/37 [==============================] - 11s 300ms/step - loss: 0.1075 - accuracy: 0.9662\n",
            "Epoch 22/100\n",
            "37/37 [==============================] - 11s 302ms/step - loss: 0.1179 - accuracy: 0.9561\n",
            "Epoch 23/100\n",
            "37/37 [==============================] - 11s 301ms/step - loss: 0.0675 - accuracy: 0.9783\n",
            "Epoch 24/100\n",
            "37/37 [==============================] - 11s 299ms/step - loss: 0.0951 - accuracy: 0.9686\n",
            "Epoch 25/100\n",
            "37/37 [==============================] - 11s 301ms/step - loss: 0.0774 - accuracy: 0.9697\n",
            "Epoch 26/100\n",
            "37/37 [==============================] - 11s 299ms/step - loss: 0.0648 - accuracy: 0.9748\n",
            "Epoch 27/100\n",
            "37/37 [==============================] - 11s 300ms/step - loss: 0.0471 - accuracy: 0.9869\n",
            "Epoch 28/100\n",
            "37/37 [==============================] - 11s 301ms/step - loss: 0.0591 - accuracy: 0.9824\n",
            "Epoch 29/100\n",
            "37/37 [==============================] - 11s 300ms/step - loss: 0.0383 - accuracy: 0.9943\n",
            "Epoch 30/100\n",
            "37/37 [==============================] - 11s 300ms/step - loss: 0.0322 - accuracy: 0.9943\n",
            "Epoch 31/100\n",
            "37/37 [==============================] - 11s 300ms/step - loss: 0.0224 - accuracy: 0.9955\n",
            "Epoch 32/100\n",
            "37/37 [==============================] - 11s 300ms/step - loss: 0.0699 - accuracy: 0.9736\n",
            "Epoch 33/100\n",
            "37/37 [==============================] - 11s 299ms/step - loss: 0.0165 - accuracy: 0.9921\n",
            "Epoch 34/100\n",
            "37/37 [==============================] - 11s 302ms/step - loss: 0.1242 - accuracy: 0.9625\n",
            "Epoch 35/100\n",
            "37/37 [==============================] - 11s 302ms/step - loss: 0.0275 - accuracy: 0.9900\n",
            "Epoch 36/100\n",
            "37/37 [==============================] - 11s 301ms/step - loss: 0.0167 - accuracy: 0.9980\n",
            "Epoch 37/100\n",
            "37/37 [==============================] - 11s 300ms/step - loss: 0.0149 - accuracy: 0.9946\n",
            "Epoch 38/100\n",
            "37/37 [==============================] - 11s 302ms/step - loss: 0.0347 - accuracy: 0.9884\n",
            "Epoch 39/100\n",
            "37/37 [==============================] - 11s 301ms/step - loss: 0.0309 - accuracy: 0.9905\n",
            "Epoch 40/100\n",
            "37/37 [==============================] - 11s 304ms/step - loss: 0.0096 - accuracy: 0.9958\n",
            "Epoch 41/100\n",
            "37/37 [==============================] - 11s 304ms/step - loss: 0.0402 - accuracy: 0.9867\n",
            "Epoch 42/100\n",
            "37/37 [==============================] - 11s 304ms/step - loss: 0.0180 - accuracy: 0.9935\n",
            "Epoch 43/100\n",
            "37/37 [==============================] - 11s 306ms/step - loss: 0.0061 - accuracy: 0.9991\n",
            "Epoch 44/100\n",
            "37/37 [==============================] - 11s 305ms/step - loss: 0.0110 - accuracy: 0.9966\n",
            "Epoch 45/100\n",
            "37/37 [==============================] - 11s 306ms/step - loss: 0.0541 - accuracy: 0.9822\n",
            "Epoch 46/100\n",
            "37/37 [==============================] - 11s 306ms/step - loss: 0.0040 - accuracy: 0.9990\n",
            "Epoch 47/100\n",
            "37/37 [==============================] - 11s 306ms/step - loss: 0.0325 - accuracy: 0.9841\n",
            "Epoch 48/100\n",
            "37/37 [==============================] - 11s 305ms/step - loss: 0.0099 - accuracy: 0.9962\n",
            "Epoch 49/100\n",
            "37/37 [==============================] - 11s 304ms/step - loss: 0.0254 - accuracy: 0.9852\n",
            "Epoch 50/100\n",
            "37/37 [==============================] - 11s 306ms/step - loss: 0.0107 - accuracy: 0.9962\n",
            "Epoch 51/100\n",
            "37/37 [==============================] - 11s 304ms/step - loss: 0.0525 - accuracy: 0.9777\n",
            "Epoch 52/100\n",
            "37/37 [==============================] - 11s 304ms/step - loss: 0.0013 - accuracy: 1.0000\n",
            "Epoch 53/100\n",
            "37/37 [==============================] - 11s 306ms/step - loss: 0.0194 - accuracy: 0.9916\n",
            "Epoch 54/100\n",
            "37/37 [==============================] - 11s 310ms/step - loss: 0.0014 - accuracy: 1.0000\n",
            "Epoch 55/100\n",
            "37/37 [==============================] - 11s 306ms/step - loss: 2.6315e-04 - accuracy: 1.0000\n",
            "Epoch 56/100\n",
            "37/37 [==============================] - 11s 306ms/step - loss: 0.0028 - accuracy: 0.9986\n",
            "Epoch 57/100\n",
            "37/37 [==============================] - 11s 306ms/step - loss: 0.0047 - accuracy: 1.0000\n",
            "Epoch 58/100\n",
            "37/37 [==============================] - 11s 306ms/step - loss: 3.3367e-04 - accuracy: 1.0000\n",
            "Epoch 59/100\n",
            "37/37 [==============================] - 11s 308ms/step - loss: 0.0060 - accuracy: 0.9978\n",
            "Epoch 60/100\n",
            "37/37 [==============================] - 11s 307ms/step - loss: 0.0071 - accuracy: 0.9962\n",
            "Epoch 61/100\n",
            "37/37 [==============================] - 11s 306ms/step - loss: 1.0702e-04 - accuracy: 1.0000\n",
            "Epoch 62/100\n",
            "37/37 [==============================] - 11s 309ms/step - loss: 0.0088 - accuracy: 0.9971\n",
            "Epoch 63/100\n",
            "37/37 [==============================] - 11s 303ms/step - loss: 0.0215 - accuracy: 0.9921\n",
            "Epoch 64/100\n",
            "37/37 [==============================] - 11s 303ms/step - loss: 0.0205 - accuracy: 0.9927\n",
            "Epoch 65/100\n",
            "37/37 [==============================] - 11s 305ms/step - loss: 0.0076 - accuracy: 0.9966\n",
            "Epoch 66/100\n",
            "37/37 [==============================] - 11s 308ms/step - loss: 4.4853e-04 - accuracy: 1.0000\n",
            "Epoch 67/100\n",
            "37/37 [==============================] - 11s 307ms/step - loss: 3.6824e-05 - accuracy: 1.0000\n",
            "Epoch 68/100\n",
            "37/37 [==============================] - 12s 311ms/step - loss: 0.0161 - accuracy: 0.9940\n",
            "Epoch 69/100\n",
            "37/37 [==============================] - 12s 311ms/step - loss: 0.0036 - accuracy: 0.9990\n",
            "Epoch 70/100\n",
            "37/37 [==============================] - 11s 306ms/step - loss: 1.6910e-04 - accuracy: 1.0000\n",
            "Epoch 71/100\n",
            "37/37 [==============================] - 11s 300ms/step - loss: 6.9465e-05 - accuracy: 1.0000\n",
            "Epoch 72/100\n",
            "37/37 [==============================] - 11s 300ms/step - loss: 0.0031 - accuracy: 0.9995\n",
            "Epoch 73/100\n",
            "37/37 [==============================] - 11s 298ms/step - loss: 0.0227 - accuracy: 0.9947\n",
            "Epoch 74/100\n",
            "37/37 [==============================] - 11s 299ms/step - loss: 1.7290e-04 - accuracy: 1.0000\n",
            "Epoch 75/100\n",
            "37/37 [==============================] - 11s 303ms/step - loss: 0.0121 - accuracy: 0.9975\n",
            "Epoch 76/100\n",
            "37/37 [==============================] - 11s 302ms/step - loss: 0.0047 - accuracy: 0.9988\n",
            "Epoch 77/100\n",
            "37/37 [==============================] - 11s 297ms/step - loss: 0.0059 - accuracy: 0.9974\n",
            "Epoch 78/100\n",
            "37/37 [==============================] - 11s 303ms/step - loss: 8.1076e-04 - accuracy: 0.9998\n",
            "Epoch 79/100\n",
            "37/37 [==============================] - 11s 299ms/step - loss: 0.0807 - accuracy: 0.9835\n",
            "Epoch 80/100\n",
            "37/37 [==============================] - 11s 301ms/step - loss: 7.8350e-04 - accuracy: 1.0000\n",
            "Epoch 81/100\n",
            "37/37 [==============================] - 11s 300ms/step - loss: 2.4434e-04 - accuracy: 1.0000\n",
            "Epoch 82/100\n",
            "37/37 [==============================] - 11s 300ms/step - loss: 9.0916e-06 - accuracy: 1.0000\n",
            "Epoch 83/100\n",
            "37/37 [==============================] - 11s 298ms/step - loss: 0.0055 - accuracy: 0.9995\n",
            "Epoch 84/100\n",
            "37/37 [==============================] - 11s 299ms/step - loss: 0.0032 - accuracy: 0.9972\n",
            "Epoch 85/100\n",
            "37/37 [==============================] - 11s 300ms/step - loss: 9.0183e-05 - accuracy: 1.0000\n",
            "Epoch 86/100\n",
            "37/37 [==============================] - 11s 298ms/step - loss: 0.0025 - accuracy: 0.9995\n",
            "Epoch 87/100\n",
            "37/37 [==============================] - 11s 300ms/step - loss: 0.0165 - accuracy: 0.9977\n",
            "Epoch 88/100\n",
            "37/37 [==============================] - 11s 300ms/step - loss: 1.5787e-04 - accuracy: 1.0000\n",
            "Epoch 89/100\n",
            "37/37 [==============================] - 11s 300ms/step - loss: 1.0484e-05 - accuracy: 1.0000\n",
            "Epoch 90/100\n",
            "37/37 [==============================] - 11s 301ms/step - loss: 2.2000e-06 - accuracy: 1.0000\n",
            "Epoch 91/100\n",
            "37/37 [==============================] - 11s 302ms/step - loss: 3.5413e-07 - accuracy: 1.0000\n",
            "Epoch 92/100\n",
            "37/37 [==============================] - 11s 301ms/step - loss: 0.0111 - accuracy: 0.9975\n",
            "Epoch 93/100\n",
            "37/37 [==============================] - 11s 303ms/step - loss: 1.5394e-05 - accuracy: 1.0000\n",
            "Epoch 94/100\n",
            "37/37 [==============================] - 11s 302ms/step - loss: 0.0033 - accuracy: 0.9992\n",
            "Epoch 95/100\n",
            "37/37 [==============================] - 11s 301ms/step - loss: 0.0050 - accuracy: 1.0000\n",
            "Epoch 96/100\n",
            "37/37 [==============================] - 11s 303ms/step - loss: 8.4550e-06 - accuracy: 1.0000\n",
            "Epoch 97/100\n",
            "37/37 [==============================] - 11s 300ms/step - loss: 4.4830e-06 - accuracy: 1.0000\n",
            "Epoch 98/100\n",
            "37/37 [==============================] - 11s 299ms/step - loss: 0.0186 - accuracy: 0.9949\n",
            "Epoch 99/100\n",
            "37/37 [==============================] - 11s 299ms/step - loss: 0.0028 - accuracy: 0.9994\n",
            "Epoch 100/100\n",
            "37/37 [==============================] - 11s 299ms/step - loss: 0.0176 - accuracy: 0.9944\n",
            "10/10 [==============================] - 2s 46ms/step - loss: 0.2970 - accuracy: 0.9432\n",
            "Epoch 1/100\n",
            "37/37 [==============================] - 18s 301ms/step - loss: 0.7311 - accuracy: 0.4942\n",
            "Epoch 2/100\n",
            "37/37 [==============================] - 11s 303ms/step - loss: 0.6867 - accuracy: 0.5463\n",
            "Epoch 3/100\n",
            "37/37 [==============================] - 11s 304ms/step - loss: 0.6649 - accuracy: 0.5820\n",
            "Epoch 4/100\n",
            "37/37 [==============================] - 11s 303ms/step - loss: 0.5918 - accuracy: 0.7054\n",
            "Epoch 5/100\n",
            "37/37 [==============================] - 11s 304ms/step - loss: 0.5222 - accuracy: 0.7607\n",
            "Epoch 6/100\n",
            "37/37 [==============================] - 11s 302ms/step - loss: 0.4564 - accuracy: 0.7804\n",
            "Epoch 7/100\n",
            "37/37 [==============================] - 11s 307ms/step - loss: 0.4270 - accuracy: 0.7715\n",
            "Epoch 8/100\n",
            "37/37 [==============================] - 11s 309ms/step - loss: 0.4323 - accuracy: 0.8103\n",
            "Epoch 9/100\n",
            "37/37 [==============================] - 11s 308ms/step - loss: 0.3357 - accuracy: 0.8524\n",
            "Epoch 10/100\n",
            "37/37 [==============================] - 11s 303ms/step - loss: 0.2946 - accuracy: 0.8751\n",
            "Epoch 11/100\n",
            "37/37 [==============================] - 11s 302ms/step - loss: 0.2999 - accuracy: 0.8765\n",
            "Epoch 12/100\n",
            "37/37 [==============================] - 11s 301ms/step - loss: 0.2753 - accuracy: 0.8714\n",
            "Epoch 13/100\n",
            "37/37 [==============================] - 11s 304ms/step - loss: 0.2612 - accuracy: 0.8791\n",
            "Epoch 14/100\n",
            "37/37 [==============================] - 11s 301ms/step - loss: 0.1767 - accuracy: 0.9226\n",
            "Epoch 15/100\n",
            "37/37 [==============================] - 11s 302ms/step - loss: 0.1713 - accuracy: 0.9357\n",
            "Epoch 16/100\n",
            "37/37 [==============================] - 11s 302ms/step - loss: 0.2043 - accuracy: 0.9286\n",
            "Epoch 17/100\n",
            "37/37 [==============================] - 11s 300ms/step - loss: 0.1739 - accuracy: 0.9361\n",
            "Epoch 18/100\n",
            "37/37 [==============================] - 11s 302ms/step - loss: 0.1588 - accuracy: 0.9420\n",
            "Epoch 19/100\n",
            "37/37 [==============================] - 11s 301ms/step - loss: 0.1601 - accuracy: 0.9497\n",
            "Epoch 20/100\n",
            "37/37 [==============================] - 11s 302ms/step - loss: 0.1088 - accuracy: 0.9513\n",
            "Epoch 21/100\n",
            "37/37 [==============================] - 11s 301ms/step - loss: 0.0984 - accuracy: 0.9599\n",
            "Epoch 22/100\n",
            "37/37 [==============================] - 11s 301ms/step - loss: 0.1052 - accuracy: 0.9709\n",
            "Epoch 23/100\n",
            "37/37 [==============================] - 11s 301ms/step - loss: 0.1198 - accuracy: 0.9465\n",
            "Epoch 24/100\n",
            "37/37 [==============================] - 11s 303ms/step - loss: 0.0789 - accuracy: 0.9781\n",
            "Epoch 25/100\n",
            "37/37 [==============================] - 11s 300ms/step - loss: 0.0255 - accuracy: 0.9941\n",
            "Epoch 26/100\n",
            "37/37 [==============================] - 11s 301ms/step - loss: 0.0775 - accuracy: 0.9729\n",
            "Epoch 27/100\n",
            "37/37 [==============================] - 11s 303ms/step - loss: 0.0363 - accuracy: 0.9868\n",
            "Epoch 28/100\n",
            "37/37 [==============================] - 11s 303ms/step - loss: 0.0324 - accuracy: 0.9937\n",
            "Epoch 29/100\n",
            "37/37 [==============================] - 11s 306ms/step - loss: 0.0372 - accuracy: 0.9860\n",
            "Epoch 30/100\n",
            "37/37 [==============================] - 11s 304ms/step - loss: 0.0313 - accuracy: 0.9928\n",
            "Epoch 31/100\n",
            "37/37 [==============================] - 11s 303ms/step - loss: 0.0197 - accuracy: 0.9981\n",
            "Epoch 32/100\n",
            "37/37 [==============================] - 11s 305ms/step - loss: 0.0181 - accuracy: 0.9974\n",
            "Epoch 33/100\n",
            "37/37 [==============================] - 11s 301ms/step - loss: 0.0276 - accuracy: 0.9939\n",
            "Epoch 34/100\n",
            "37/37 [==============================] - 11s 303ms/step - loss: 0.0325 - accuracy: 0.9915\n",
            "Epoch 35/100\n",
            "37/37 [==============================] - 11s 302ms/step - loss: 0.0108 - accuracy: 0.9995\n",
            "Epoch 36/100\n",
            "37/37 [==============================] - 11s 302ms/step - loss: 0.0318 - accuracy: 0.9838\n",
            "Epoch 37/100\n",
            "37/37 [==============================] - 11s 301ms/step - loss: 0.0392 - accuracy: 0.9889\n",
            "Epoch 38/100\n",
            "37/37 [==============================] - 11s 303ms/step - loss: 0.0390 - accuracy: 0.9919\n",
            "Epoch 39/100\n",
            "37/37 [==============================] - 11s 301ms/step - loss: 0.0251 - accuracy: 0.9904\n",
            "Epoch 40/100\n",
            "37/37 [==============================] - 11s 301ms/step - loss: 0.0113 - accuracy: 0.9968\n",
            "Epoch 41/100\n",
            "37/37 [==============================] - 11s 303ms/step - loss: 0.0329 - accuracy: 0.9849\n",
            "Epoch 42/100\n",
            "37/37 [==============================] - 11s 301ms/step - loss: 0.0239 - accuracy: 0.9903\n",
            "Epoch 43/100\n",
            "37/37 [==============================] - 11s 302ms/step - loss: 0.0128 - accuracy: 0.9973\n",
            "Epoch 44/100\n",
            "37/37 [==============================] - 11s 301ms/step - loss: 0.0801 - accuracy: 0.9776\n",
            "Epoch 45/100\n",
            "37/37 [==============================] - 11s 304ms/step - loss: 0.0021 - accuracy: 1.0000\n",
            "Epoch 46/100\n",
            "37/37 [==============================] - 11s 303ms/step - loss: 0.0990 - accuracy: 0.9799\n",
            "Epoch 47/100\n",
            "37/37 [==============================] - 11s 303ms/step - loss: 7.9184e-04 - accuracy: 1.0000\n",
            "Epoch 48/100\n",
            "37/37 [==============================] - 11s 307ms/step - loss: 0.0092 - accuracy: 0.9969\n",
            "Epoch 49/100\n",
            "37/37 [==============================] - 11s 305ms/step - loss: 0.0078 - accuracy: 0.9985\n",
            "Epoch 50/100\n",
            "37/37 [==============================] - 11s 301ms/step - loss: 0.0032 - accuracy: 0.9989\n",
            "Epoch 51/100\n",
            "37/37 [==============================] - 11s 303ms/step - loss: 0.0399 - accuracy: 0.9878\n",
            "Epoch 52/100\n",
            "37/37 [==============================] - 11s 302ms/step - loss: 0.0034 - accuracy: 0.9994\n",
            "Epoch 53/100\n",
            "37/37 [==============================] - 11s 304ms/step - loss: 0.0262 - accuracy: 0.9890\n",
            "Epoch 54/100\n",
            "37/37 [==============================] - 11s 304ms/step - loss: 0.0211 - accuracy: 0.9913\n",
            "Epoch 55/100\n",
            "37/37 [==============================] - 11s 304ms/step - loss: 3.5596e-04 - accuracy: 1.0000\n",
            "Epoch 56/100\n",
            "37/37 [==============================] - 11s 307ms/step - loss: 0.0130 - accuracy: 0.9949\n",
            "Epoch 57/100\n",
            "37/37 [==============================] - 11s 303ms/step - loss: 0.0050 - accuracy: 0.9978\n",
            "Epoch 58/100\n",
            "37/37 [==============================] - 11s 301ms/step - loss: 0.0046 - accuracy: 0.9988\n",
            "Epoch 59/100\n",
            "37/37 [==============================] - 11s 303ms/step - loss: 1.4009e-04 - accuracy: 1.0000\n",
            "Epoch 60/100\n",
            "37/37 [==============================] - 11s 301ms/step - loss: 0.0059 - accuracy: 0.9983\n",
            "Epoch 61/100\n",
            "37/37 [==============================] - 11s 302ms/step - loss: 0.0428 - accuracy: 0.9858\n",
            "Epoch 62/100\n",
            "37/37 [==============================] - 11s 302ms/step - loss: 1.6899e-04 - accuracy: 1.0000\n",
            "Epoch 63/100\n",
            "37/37 [==============================] - 11s 301ms/step - loss: 2.8218e-05 - accuracy: 1.0000\n",
            "Epoch 64/100\n",
            "37/37 [==============================] - 11s 303ms/step - loss: 0.0134 - accuracy: 0.9976\n",
            "Epoch 65/100\n",
            "37/37 [==============================] - 11s 303ms/step - loss: 0.0312 - accuracy: 0.9904\n",
            "Epoch 66/100\n",
            "37/37 [==============================] - 11s 303ms/step - loss: 6.5073e-05 - accuracy: 1.0000\n",
            "Epoch 67/100\n",
            "37/37 [==============================] - 11s 303ms/step - loss: 2.1909e-05 - accuracy: 1.0000\n",
            "Epoch 68/100\n",
            "37/37 [==============================] - 11s 303ms/step - loss: 0.0881 - accuracy: 0.9754\n",
            "Epoch 69/100\n",
            "37/37 [==============================] - 11s 304ms/step - loss: 3.3508e-04 - accuracy: 1.0000\n",
            "Epoch 70/100\n",
            "37/37 [==============================] - 11s 305ms/step - loss: 3.1539e-05 - accuracy: 1.0000\n",
            "Epoch 71/100\n",
            "37/37 [==============================] - 11s 302ms/step - loss: 8.6679e-06 - accuracy: 1.0000\n",
            "Epoch 72/100\n",
            "37/37 [==============================] - 11s 304ms/step - loss: 0.0310 - accuracy: 0.9963\n",
            "Epoch 73/100\n",
            "37/37 [==============================] - 11s 303ms/step - loss: 0.0653 - accuracy: 0.9949\n",
            "Epoch 74/100\n",
            "37/37 [==============================] - 11s 304ms/step - loss: 6.5917e-04 - accuracy: 1.0000\n",
            "Epoch 75/100\n",
            "37/37 [==============================] - 11s 308ms/step - loss: 2.4905e-04 - accuracy: 1.0000\n",
            "Epoch 76/100\n",
            "37/37 [==============================] - 11s 307ms/step - loss: 6.4820e-05 - accuracy: 1.0000\n",
            "Epoch 77/100\n",
            "37/37 [==============================] - 11s 309ms/step - loss: 0.1058 - accuracy: 0.9688\n",
            "Epoch 78/100\n",
            "37/37 [==============================] - 11s 308ms/step - loss: 0.0034 - accuracy: 0.9987\n",
            "Epoch 79/100\n",
            "37/37 [==============================] - 11s 303ms/step - loss: 2.5272e-04 - accuracy: 1.0000\n",
            "Epoch 80/100\n",
            "37/37 [==============================] - 11s 304ms/step - loss: 6.7658e-04 - accuracy: 0.9999\n",
            "Epoch 81/100\n",
            "37/37 [==============================] - 11s 305ms/step - loss: 0.0080 - accuracy: 0.9953\n",
            "Epoch 82/100\n",
            "37/37 [==============================] - 11s 304ms/step - loss: 0.0063 - accuracy: 0.9990\n",
            "Epoch 83/100\n",
            "37/37 [==============================] - 11s 299ms/step - loss: 0.0102 - accuracy: 0.9962\n",
            "Epoch 84/100\n",
            "37/37 [==============================] - 11s 301ms/step - loss: 0.0028 - accuracy: 1.0000\n",
            "Epoch 85/100\n",
            "37/37 [==============================] - 11s 299ms/step - loss: 8.1761e-05 - accuracy: 1.0000\n",
            "Epoch 86/100\n",
            "37/37 [==============================] - 11s 299ms/step - loss: 0.0134 - accuracy: 0.9959\n",
            "Epoch 87/100\n",
            "37/37 [==============================] - 11s 298ms/step - loss: 0.0030 - accuracy: 1.0000\n",
            "Epoch 88/100\n",
            "37/37 [==============================] - 11s 302ms/step - loss: 0.0149 - accuracy: 0.9942\n",
            "Epoch 89/100\n",
            "37/37 [==============================] - 11s 302ms/step - loss: 3.2208e-04 - accuracy: 1.0000\n",
            "Epoch 90/100\n",
            "37/37 [==============================] - 11s 305ms/step - loss: 0.0086 - accuracy: 0.9985\n",
            "Epoch 91/100\n",
            "37/37 [==============================] - 11s 303ms/step - loss: 0.0017 - accuracy: 0.9996\n",
            "Epoch 92/100\n",
            "37/37 [==============================] - 11s 302ms/step - loss: 0.0065 - accuracy: 0.9977\n",
            "Epoch 93/100\n",
            "37/37 [==============================] - 11s 303ms/step - loss: 0.0038 - accuracy: 0.9994\n",
            "Epoch 94/100\n",
            "37/37 [==============================] - 11s 304ms/step - loss: 1.3420e-04 - accuracy: 1.0000\n",
            "Epoch 95/100\n",
            "37/37 [==============================] - 11s 303ms/step - loss: 0.0107 - accuracy: 0.9977\n",
            "Epoch 96/100\n",
            "37/37 [==============================] - 11s 302ms/step - loss: 1.6900e-04 - accuracy: 1.0000\n",
            "Epoch 97/100\n",
            "37/37 [==============================] - 11s 302ms/step - loss: 1.2243e-05 - accuracy: 1.0000\n",
            "Epoch 98/100\n",
            "37/37 [==============================] - 11s 304ms/step - loss: 0.0049 - accuracy: 0.9991\n",
            "Epoch 99/100\n",
            "37/37 [==============================] - 11s 304ms/step - loss: 0.0060 - accuracy: 0.9971\n",
            "Epoch 100/100\n",
            "37/37 [==============================] - 11s 304ms/step - loss: 3.3185e-05 - accuracy: 1.0000\n",
            "10/10 [==============================] - 2s 52ms/step - loss: 0.2088 - accuracy: 0.9605\n",
            "Epoch 1/100\n",
            "37/37 [==============================] - 20s 308ms/step - loss: 0.7820 - accuracy: 0.5108\n",
            "Epoch 2/100\n",
            "37/37 [==============================] - 11s 304ms/step - loss: 0.6960 - accuracy: 0.5628\n",
            "Epoch 3/100\n",
            "37/37 [==============================] - 11s 305ms/step - loss: 0.6849 - accuracy: 0.6057\n",
            "Epoch 4/100\n",
            "37/37 [==============================] - 11s 303ms/step - loss: 0.6018 - accuracy: 0.6703\n",
            "Epoch 5/100\n",
            "37/37 [==============================] - 11s 303ms/step - loss: 0.5150 - accuracy: 0.7647\n",
            "Epoch 6/100\n",
            "37/37 [==============================] - 11s 303ms/step - loss: 0.5556 - accuracy: 0.7196\n",
            "Epoch 7/100\n",
            "37/37 [==============================] - 11s 303ms/step - loss: 0.4335 - accuracy: 0.7966\n",
            "Epoch 8/100\n",
            "37/37 [==============================] - 11s 306ms/step - loss: 0.4079 - accuracy: 0.8152\n",
            "Epoch 9/100\n",
            "37/37 [==============================] - 11s 303ms/step - loss: 0.3783 - accuracy: 0.8333\n",
            "Epoch 10/100\n",
            "37/37 [==============================] - 11s 303ms/step - loss: 0.4433 - accuracy: 0.7926\n",
            "Epoch 11/100\n",
            "37/37 [==============================] - 11s 306ms/step - loss: 0.3757 - accuracy: 0.8515\n",
            "Epoch 12/100\n",
            "37/37 [==============================] - 11s 304ms/step - loss: 0.3878 - accuracy: 0.8182\n",
            "Epoch 13/100\n",
            "37/37 [==============================] - 11s 304ms/step - loss: 0.3694 - accuracy: 0.8312\n",
            "Epoch 14/100\n",
            "37/37 [==============================] - 11s 305ms/step - loss: 0.2579 - accuracy: 0.9043\n",
            "Epoch 15/100\n",
            "37/37 [==============================] - 11s 303ms/step - loss: 0.2074 - accuracy: 0.9106\n",
            "Epoch 16/100\n",
            "37/37 [==============================] - 11s 304ms/step - loss: 0.2123 - accuracy: 0.9238\n",
            "Epoch 17/100\n",
            "37/37 [==============================] - 11s 303ms/step - loss: 0.2710 - accuracy: 0.8978\n",
            "Epoch 18/100\n",
            "37/37 [==============================] - 11s 304ms/step - loss: 0.1931 - accuracy: 0.9303\n",
            "Epoch 19/100\n",
            "37/37 [==============================] - 11s 307ms/step - loss: 0.1550 - accuracy: 0.9397\n",
            "Epoch 20/100\n",
            "37/37 [==============================] - 11s 307ms/step - loss: 0.0868 - accuracy: 0.9690\n",
            "Epoch 21/100\n",
            "37/37 [==============================] - 11s 308ms/step - loss: 0.1205 - accuracy: 0.9493\n",
            "Epoch 22/100\n",
            "37/37 [==============================] - 11s 306ms/step - loss: 0.1056 - accuracy: 0.9569\n",
            "Epoch 23/100\n",
            "37/37 [==============================] - 11s 303ms/step - loss: 0.1179 - accuracy: 0.9534\n",
            "Epoch 24/100\n",
            "37/37 [==============================] - 11s 303ms/step - loss: 0.0591 - accuracy: 0.9810\n",
            "Epoch 25/100\n",
            "37/37 [==============================] - 11s 303ms/step - loss: 0.0401 - accuracy: 0.9842\n",
            "Epoch 26/100\n",
            "37/37 [==============================] - 11s 303ms/step - loss: 0.0378 - accuracy: 0.9880\n",
            "Epoch 27/100\n",
            "37/37 [==============================] - 11s 302ms/step - loss: 0.0411 - accuracy: 0.9851\n",
            "Epoch 28/100\n",
            "37/37 [==============================] - 11s 306ms/step - loss: 0.0833 - accuracy: 0.9773\n",
            "Epoch 29/100\n",
            "37/37 [==============================] - 11s 305ms/step - loss: 0.0159 - accuracy: 0.9935\n",
            "Epoch 30/100\n",
            "37/37 [==============================] - 11s 303ms/step - loss: 0.0637 - accuracy: 0.9790\n",
            "Epoch 31/100\n",
            "37/37 [==============================] - 11s 306ms/step - loss: 0.0549 - accuracy: 0.9833\n",
            "Epoch 32/100\n",
            "37/37 [==============================] - 11s 306ms/step - loss: 0.0150 - accuracy: 0.9939\n",
            "Epoch 33/100\n",
            "37/37 [==============================] - 11s 304ms/step - loss: 0.0146 - accuracy: 0.9975\n",
            "Epoch 34/100\n",
            "37/37 [==============================] - 11s 306ms/step - loss: 0.0051 - accuracy: 1.0000\n",
            "Epoch 35/100\n",
            "37/37 [==============================] - 11s 305ms/step - loss: 0.0442 - accuracy: 0.9825\n",
            "Epoch 36/100\n",
            "37/37 [==============================] - 11s 303ms/step - loss: 0.0137 - accuracy: 0.9973\n",
            "Epoch 37/100\n",
            "37/37 [==============================] - 11s 306ms/step - loss: 0.0017 - accuracy: 1.0000\n",
            "Epoch 38/100\n",
            "37/37 [==============================] - 11s 305ms/step - loss: 0.0100 - accuracy: 0.9971\n",
            "Epoch 39/100\n",
            "37/37 [==============================] - 11s 305ms/step - loss: 0.0609 - accuracy: 0.9763\n",
            "Epoch 40/100\n",
            "37/37 [==============================] - 11s 305ms/step - loss: 0.0433 - accuracy: 0.9891\n",
            "Epoch 41/100\n",
            "37/37 [==============================] - 11s 307ms/step - loss: 7.8410e-04 - accuracy: 1.0000\n",
            "Epoch 42/100\n",
            "37/37 [==============================] - 11s 310ms/step - loss: 0.0675 - accuracy: 0.9801\n",
            "Epoch 43/100\n",
            "37/37 [==============================] - 11s 308ms/step - loss: 0.0050 - accuracy: 1.0000\n",
            "Epoch 44/100\n",
            "37/37 [==============================] - 11s 307ms/step - loss: 2.4436e-04 - accuracy: 1.0000\n",
            "Epoch 45/100\n",
            "37/37 [==============================] - 11s 304ms/step - loss: 0.0975 - accuracy: 0.9660\n",
            "Epoch 46/100\n",
            "37/37 [==============================] - 11s 305ms/step - loss: 1.5515e-04 - accuracy: 1.0000\n",
            "Epoch 47/100\n",
            "37/37 [==============================] - 11s 307ms/step - loss: 0.0064 - accuracy: 0.9982\n",
            "Epoch 48/100\n",
            "37/37 [==============================] - 11s 309ms/step - loss: 0.0204 - accuracy: 0.9957\n",
            "Epoch 49/100\n",
            "37/37 [==============================] - 11s 307ms/step - loss: 0.0134 - accuracy: 0.9918\n",
            "Epoch 50/100\n",
            "37/37 [==============================] - 11s 306ms/step - loss: 0.0080 - accuracy: 0.9973\n",
            "Epoch 51/100\n",
            "37/37 [==============================] - 11s 307ms/step - loss: 0.0024 - accuracy: 0.9989\n",
            "Epoch 52/100\n",
            "37/37 [==============================] - 11s 306ms/step - loss: 1.1216e-04 - accuracy: 1.0000\n",
            "Epoch 53/100\n",
            "37/37 [==============================] - 11s 306ms/step - loss: 0.0504 - accuracy: 0.9855\n",
            "Epoch 54/100\n",
            "37/37 [==============================] - 11s 304ms/step - loss: 2.6249e-04 - accuracy: 1.0000\n",
            "Epoch 55/100\n",
            "37/37 [==============================] - 11s 305ms/step - loss: 0.0991 - accuracy: 0.9702\n",
            "Epoch 56/100\n",
            "37/37 [==============================] - 11s 307ms/step - loss: 0.0017 - accuracy: 1.0000\n",
            "Epoch 57/100\n",
            "37/37 [==============================] - 11s 303ms/step - loss: 0.0048 - accuracy: 0.9984\n",
            "Epoch 58/100\n",
            "37/37 [==============================] - 11s 304ms/step - loss: 0.0072 - accuracy: 0.9971\n",
            "Epoch 59/100\n",
            "37/37 [==============================] - 11s 307ms/step - loss: 2.6306e-04 - accuracy: 1.0000\n",
            "Epoch 60/100\n",
            "37/37 [==============================] - 11s 308ms/step - loss: 3.6669e-05 - accuracy: 1.0000\n",
            "Epoch 61/100\n",
            "37/37 [==============================] - 11s 309ms/step - loss: 0.0183 - accuracy: 0.9935\n",
            "Epoch 62/100\n",
            "37/37 [==============================] - 11s 307ms/step - loss: 0.0013 - accuracy: 1.0000\n",
            "Epoch 63/100\n",
            "37/37 [==============================] - 11s 310ms/step - loss: 4.4607e-05 - accuracy: 1.0000\n",
            "Epoch 64/100\n",
            "37/37 [==============================] - 11s 306ms/step - loss: 1.7625e-05 - accuracy: 1.0000\n",
            "Epoch 65/100\n",
            "37/37 [==============================] - 11s 306ms/step - loss: 0.0067 - accuracy: 0.9964\n",
            "Epoch 66/100\n",
            "37/37 [==============================] - 11s 306ms/step - loss: 0.0159 - accuracy: 0.9947\n",
            "Epoch 67/100\n",
            "37/37 [==============================] - 11s 304ms/step - loss: 0.0051 - accuracy: 0.9983\n",
            "Epoch 68/100\n",
            "37/37 [==============================] - 11s 307ms/step - loss: 0.0148 - accuracy: 0.9925\n",
            "Epoch 69/100\n",
            "37/37 [==============================] - 11s 310ms/step - loss: 0.0015 - accuracy: 1.0000\n",
            "Epoch 70/100\n",
            "37/37 [==============================] - 11s 308ms/step - loss: 0.0107 - accuracy: 0.9959\n",
            "Epoch 71/100\n",
            "37/37 [==============================] - 11s 307ms/step - loss: 0.0027 - accuracy: 0.9990\n",
            "Epoch 72/100\n",
            "37/37 [==============================] - 11s 306ms/step - loss: 0.0167 - accuracy: 0.9949\n",
            "Epoch 73/100\n",
            "37/37 [==============================] - 11s 305ms/step - loss: 1.1731e-04 - accuracy: 1.0000\n",
            "Epoch 74/100\n",
            "37/37 [==============================] - 11s 305ms/step - loss: 3.8100e-05 - accuracy: 1.0000\n",
            "Epoch 75/100\n",
            "37/37 [==============================] - 11s 303ms/step - loss: 1.0835e-05 - accuracy: 1.0000\n",
            "Epoch 76/100\n",
            "37/37 [==============================] - 11s 305ms/step - loss: 0.0765 - accuracy: 0.9808\n",
            "Epoch 77/100\n",
            "37/37 [==============================] - 11s 304ms/step - loss: 6.1648e-05 - accuracy: 1.0000\n",
            "Epoch 78/100\n",
            "37/37 [==============================] - 11s 305ms/step - loss: 3.9548e-05 - accuracy: 1.0000\n",
            "Epoch 79/100\n",
            "37/37 [==============================] - 11s 306ms/step - loss: 5.0329e-04 - accuracy: 0.9998\n",
            "Epoch 80/100\n",
            "37/37 [==============================] - 11s 304ms/step - loss: 0.0191 - accuracy: 0.9958\n",
            "Epoch 81/100\n",
            "37/37 [==============================] - 11s 306ms/step - loss: 0.0029 - accuracy: 1.0000\n",
            "Epoch 82/100\n",
            "37/37 [==============================] - 11s 307ms/step - loss: 7.4106e-06 - accuracy: 1.0000\n",
            "Epoch 83/100\n",
            "37/37 [==============================] - 11s 306ms/step - loss: 4.8936e-06 - accuracy: 1.0000\n",
            "Epoch 84/100\n",
            "37/37 [==============================] - 11s 308ms/step - loss: 0.0134 - accuracy: 0.9974\n",
            "Epoch 85/100\n",
            "37/37 [==============================] - 11s 310ms/step - loss: 0.0024 - accuracy: 1.0000\n",
            "Epoch 86/100\n",
            "37/37 [==============================] - 11s 306ms/step - loss: 0.0200 - accuracy: 0.9942\n",
            "Epoch 87/100\n",
            "37/37 [==============================] - 12s 315ms/step - loss: 7.7544e-04 - accuracy: 1.0000\n",
            "Epoch 88/100\n",
            "37/37 [==============================] - 12s 316ms/step - loss: 1.7987e-05 - accuracy: 1.0000\n",
            "Epoch 89/100\n",
            "37/37 [==============================] - 12s 313ms/step - loss: 0.0018 - accuracy: 0.9996\n",
            "Epoch 90/100\n",
            "37/37 [==============================] - 11s 310ms/step - loss: 0.0125 - accuracy: 0.9974\n",
            "Epoch 91/100\n",
            "37/37 [==============================] - 11s 309ms/step - loss: 1.1037e-05 - accuracy: 1.0000\n",
            "Epoch 92/100\n",
            "37/37 [==============================] - 12s 315ms/step - loss: 8.5074e-06 - accuracy: 1.0000\n",
            "Epoch 93/100\n",
            "37/37 [==============================] - 12s 317ms/step - loss: 1.5766e-06 - accuracy: 1.0000\n",
            "Epoch 94/100\n",
            "37/37 [==============================] - 12s 315ms/step - loss: 0.0248 - accuracy: 0.9916\n",
            "Epoch 95/100\n",
            "37/37 [==============================] - 12s 317ms/step - loss: 0.0222 - accuracy: 0.9932\n",
            "Epoch 96/100\n",
            "37/37 [==============================] - 12s 313ms/step - loss: 1.2113e-04 - accuracy: 1.0000\n",
            "Epoch 97/100\n",
            "37/37 [==============================] - 11s 309ms/step - loss: 2.2078e-05 - accuracy: 1.0000\n",
            "Epoch 98/100\n",
            "37/37 [==============================] - 12s 311ms/step - loss: 7.3983e-06 - accuracy: 1.0000\n",
            "Epoch 99/100\n",
            "37/37 [==============================] - 11s 310ms/step - loss: 1.6689e-06 - accuracy: 1.0000\n",
            "Epoch 100/100\n",
            "37/37 [==============================] - 12s 313ms/step - loss: 0.0645 - accuracy: 0.9915\n",
            "10/10 [==============================] - 2s 53ms/step - loss: 0.8712 - accuracy: 0.9167\n",
            "Epoch 1/100\n",
            "37/37 [==============================] - 19s 308ms/step - loss: 0.7343 - accuracy: 0.4859\n",
            "Epoch 2/100\n",
            "37/37 [==============================] - 11s 310ms/step - loss: 0.6726 - accuracy: 0.5742\n",
            "Epoch 3/100\n",
            "37/37 [==============================] - 11s 308ms/step - loss: 0.6652 - accuracy: 0.5901\n",
            "Epoch 4/100\n",
            "37/37 [==============================] - 11s 309ms/step - loss: 0.6507 - accuracy: 0.6493\n",
            "Epoch 5/100\n",
            "37/37 [==============================] - 12s 313ms/step - loss: 0.5892 - accuracy: 0.6949\n",
            "Epoch 6/100\n",
            "37/37 [==============================] - 12s 311ms/step - loss: 0.6554 - accuracy: 0.6537\n",
            "Epoch 7/100\n",
            "37/37 [==============================] - 12s 314ms/step - loss: 0.6093 - accuracy: 0.7434\n",
            "Epoch 8/100\n",
            "37/37 [==============================] - 12s 316ms/step - loss: 0.5469 - accuracy: 0.7148\n",
            "Epoch 9/100\n",
            "37/37 [==============================] - 12s 314ms/step - loss: 0.5327 - accuracy: 0.7328\n",
            "Epoch 10/100\n",
            "37/37 [==============================] - 12s 312ms/step - loss: 0.5719 - accuracy: 0.6974\n",
            "Epoch 11/100\n",
            "37/37 [==============================] - 12s 311ms/step - loss: 0.5349 - accuracy: 0.7816\n",
            "Epoch 12/100\n",
            "37/37 [==============================] - 12s 313ms/step - loss: 0.5919 - accuracy: 0.6840\n",
            "Epoch 13/100\n",
            "37/37 [==============================] - 12s 314ms/step - loss: 0.5078 - accuracy: 0.7458\n",
            "Epoch 14/100\n",
            "37/37 [==============================] - 12s 311ms/step - loss: 0.5889 - accuracy: 0.6680\n",
            "Epoch 15/100\n",
            "37/37 [==============================] - 12s 313ms/step - loss: 0.4715 - accuracy: 0.7672\n",
            "Epoch 16/100\n",
            "37/37 [==============================] - 11s 310ms/step - loss: 0.4224 - accuracy: 0.7904\n",
            "Epoch 17/100\n",
            "37/37 [==============================] - 11s 309ms/step - loss: 0.5079 - accuracy: 0.7390\n",
            "Epoch 18/100\n",
            "37/37 [==============================] - 12s 312ms/step - loss: 0.3965 - accuracy: 0.8373\n",
            "Epoch 19/100\n",
            "37/37 [==============================] - 12s 312ms/step - loss: 0.4045 - accuracy: 0.8535\n",
            "Epoch 20/100\n",
            "37/37 [==============================] - 12s 315ms/step - loss: 0.3172 - accuracy: 0.8642\n",
            "Epoch 21/100\n",
            "37/37 [==============================] - 12s 315ms/step - loss: 0.4083 - accuracy: 0.8134\n",
            "Epoch 22/100\n",
            "37/37 [==============================] - 12s 313ms/step - loss: 0.4428 - accuracy: 0.8135\n",
            "Epoch 23/100\n",
            "37/37 [==============================] - 12s 316ms/step - loss: 0.3031 - accuracy: 0.8881\n",
            "Epoch 24/100\n",
            "37/37 [==============================] - 12s 312ms/step - loss: 0.2876 - accuracy: 0.8888\n",
            "Epoch 25/100\n",
            "37/37 [==============================] - 11s 310ms/step - loss: 0.4100 - accuracy: 0.8369\n",
            "Epoch 26/100\n",
            "37/37 [==============================] - 12s 311ms/step - loss: 0.2289 - accuracy: 0.9103\n",
            "Epoch 27/100\n",
            "37/37 [==============================] - 11s 309ms/step - loss: 0.2242 - accuracy: 0.9075\n",
            "Epoch 28/100\n",
            "37/37 [==============================] - 11s 310ms/step - loss: 0.2323 - accuracy: 0.9111\n",
            "Epoch 29/100\n",
            "37/37 [==============================] - 11s 309ms/step - loss: 0.2094 - accuracy: 0.9291\n",
            "Epoch 30/100\n",
            "37/37 [==============================] - 12s 311ms/step - loss: 0.1803 - accuracy: 0.9446\n",
            "Epoch 31/100\n",
            "37/37 [==============================] - 12s 313ms/step - loss: 0.1889 - accuracy: 0.9321\n",
            "Epoch 32/100\n",
            "37/37 [==============================] - 12s 311ms/step - loss: 0.2411 - accuracy: 0.9131\n",
            "Epoch 33/100\n",
            "37/37 [==============================] - 11s 308ms/step - loss: 0.1533 - accuracy: 0.9464\n",
            "Epoch 34/100\n",
            "37/37 [==============================] - 11s 308ms/step - loss: 0.1904 - accuracy: 0.9305\n",
            "Epoch 35/100\n",
            "37/37 [==============================] - 11s 309ms/step - loss: 0.1184 - accuracy: 0.9655\n",
            "Epoch 36/100\n",
            "37/37 [==============================] - 12s 311ms/step - loss: 0.0820 - accuracy: 0.9758\n",
            "Epoch 37/100\n",
            "37/37 [==============================] - 11s 308ms/step - loss: 0.1179 - accuracy: 0.9527\n",
            "Epoch 38/100\n",
            "37/37 [==============================] - 11s 309ms/step - loss: 0.1149 - accuracy: 0.9549\n",
            "Epoch 39/100\n",
            "37/37 [==============================] - 12s 312ms/step - loss: 0.0684 - accuracy: 0.9838\n",
            "Epoch 40/100\n",
            "37/37 [==============================] - 11s 310ms/step - loss: 0.0990 - accuracy: 0.9666\n",
            "Epoch 41/100\n",
            "37/37 [==============================] - 11s 310ms/step - loss: 0.0821 - accuracy: 0.9698\n",
            "Epoch 42/100\n",
            "37/37 [==============================] - 12s 311ms/step - loss: 0.1281 - accuracy: 0.9563\n",
            "Epoch 43/100\n",
            "37/37 [==============================] - 12s 311ms/step - loss: 0.0605 - accuracy: 0.9829\n",
            "Epoch 44/100\n",
            "37/37 [==============================] - 12s 315ms/step - loss: 0.0586 - accuracy: 0.9832\n",
            "Epoch 45/100\n",
            "37/37 [==============================] - 12s 316ms/step - loss: 0.0799 - accuracy: 0.9725\n",
            "Epoch 46/100\n",
            "37/37 [==============================] - 12s 312ms/step - loss: 0.0733 - accuracy: 0.9765\n",
            "Epoch 47/100\n",
            "37/37 [==============================] - 12s 311ms/step - loss: 0.0445 - accuracy: 0.9895\n",
            "Epoch 48/100\n",
            "37/37 [==============================] - 12s 312ms/step - loss: 0.0543 - accuracy: 0.9820\n",
            "Epoch 49/100\n",
            "37/37 [==============================] - 12s 312ms/step - loss: 0.0482 - accuracy: 0.9841\n",
            "Epoch 50/100\n",
            "37/37 [==============================] - 11s 310ms/step - loss: 0.0555 - accuracy: 0.9847\n",
            "Epoch 51/100\n",
            "37/37 [==============================] - 12s 312ms/step - loss: 0.0260 - accuracy: 0.9946\n",
            "Epoch 52/100\n",
            "37/37 [==============================] - 12s 314ms/step - loss: 0.0365 - accuracy: 0.9918\n",
            "Epoch 53/100\n",
            "37/37 [==============================] - 11s 310ms/step - loss: 0.0123 - accuracy: 0.9986\n",
            "Epoch 54/100\n",
            "37/37 [==============================] - 12s 314ms/step - loss: 0.0285 - accuracy: 0.9956\n",
            "Epoch 55/100\n",
            "37/37 [==============================] - 12s 312ms/step - loss: 0.0219 - accuracy: 0.9933\n",
            "Epoch 56/100\n",
            "37/37 [==============================] - 12s 311ms/step - loss: 0.0904 - accuracy: 0.9809\n",
            "Epoch 57/100\n",
            "37/37 [==============================] - 12s 313ms/step - loss: 0.0229 - accuracy: 0.9913\n",
            "Epoch 58/100\n",
            "37/37 [==============================] - 12s 313ms/step - loss: 0.0202 - accuracy: 0.9918\n",
            "Epoch 59/100\n",
            "37/37 [==============================] - 12s 316ms/step - loss: 0.0142 - accuracy: 0.9966\n",
            "Epoch 60/100\n",
            "37/37 [==============================] - 12s 310ms/step - loss: 0.0148 - accuracy: 1.0000\n",
            "Epoch 61/100\n",
            "37/37 [==============================] - 11s 310ms/step - loss: 0.0349 - accuracy: 0.9921\n",
            "Epoch 62/100\n",
            "37/37 [==============================] - 12s 315ms/step - loss: 0.0080 - accuracy: 0.9981\n",
            "Epoch 63/100\n",
            "37/37 [==============================] - 11s 309ms/step - loss: 0.0773 - accuracy: 0.9709\n",
            "Epoch 64/100\n",
            "37/37 [==============================] - 11s 310ms/step - loss: 0.4553 - accuracy: 0.9331\n",
            "Epoch 65/100\n",
            "37/37 [==============================] - 12s 311ms/step - loss: 0.0023 - accuracy: 0.9994\n",
            "Epoch 66/100\n",
            "37/37 [==============================] - 11s 310ms/step - loss: 0.1534 - accuracy: 0.9510\n",
            "Epoch 67/100\n",
            "37/37 [==============================] - 11s 310ms/step - loss: 0.1017 - accuracy: 0.9721\n",
            "Epoch 68/100\n",
            "37/37 [==============================] - 12s 313ms/step - loss: 0.0061 - accuracy: 1.0000\n",
            "Epoch 69/100\n",
            "37/37 [==============================] - 12s 314ms/step - loss: 0.0072 - accuracy: 0.9973\n",
            "Epoch 70/100\n",
            "37/37 [==============================] - 12s 318ms/step - loss: 0.0405 - accuracy: 0.9883\n",
            "Epoch 71/100\n",
            "37/37 [==============================] - 12s 314ms/step - loss: 0.0019 - accuracy: 1.0000\n",
            "Epoch 72/100\n",
            "37/37 [==============================] - 12s 316ms/step - loss: 0.0642 - accuracy: 0.9864\n",
            "Epoch 73/100\n",
            "37/37 [==============================] - 12s 314ms/step - loss: 0.0011 - accuracy: 1.0000\n",
            "Epoch 74/100\n",
            "37/37 [==============================] - 12s 312ms/step - loss: 0.0052 - accuracy: 0.9990\n",
            "Epoch 75/100\n",
            "37/37 [==============================] - 12s 314ms/step - loss: 0.0454 - accuracy: 0.9864\n",
            "Epoch 76/100\n",
            "37/37 [==============================] - 12s 312ms/step - loss: 9.0227e-04 - accuracy: 1.0000\n",
            "Epoch 77/100\n",
            "37/37 [==============================] - 12s 313ms/step - loss: 0.0598 - accuracy: 0.9860\n",
            "Epoch 78/100\n",
            "37/37 [==============================] - 11s 310ms/step - loss: 0.0113 - accuracy: 0.9969\n",
            "Epoch 79/100\n",
            "37/37 [==============================] - 11s 309ms/step - loss: 0.0064 - accuracy: 0.9989\n",
            "Epoch 80/100\n",
            "37/37 [==============================] - 12s 313ms/step - loss: 8.2722e-04 - accuracy: 1.0000\n",
            "Epoch 81/100\n",
            "37/37 [==============================] - 12s 312ms/step - loss: 0.0175 - accuracy: 0.9937\n",
            "Epoch 82/100\n",
            "37/37 [==============================] - 12s 313ms/step - loss: 0.0015 - accuracy: 1.0000\n",
            "Epoch 83/100\n",
            "37/37 [==============================] - 12s 316ms/step - loss: 3.1569e-04 - accuracy: 1.0000\n",
            "Epoch 84/100\n",
            "37/37 [==============================] - 12s 312ms/step - loss: 0.0624 - accuracy: 0.9874\n",
            "Epoch 85/100\n",
            "37/37 [==============================] - 12s 315ms/step - loss: 0.0010 - accuracy: 1.0000\n",
            "Epoch 86/100\n",
            "37/37 [==============================] - 12s 316ms/step - loss: 0.0609 - accuracy: 0.9843\n",
            "Epoch 87/100\n",
            "37/37 [==============================] - 12s 314ms/step - loss: 0.0035 - accuracy: 1.0000\n",
            "Epoch 88/100\n",
            "37/37 [==============================] - 12s 313ms/step - loss: 0.0023 - accuracy: 0.9988\n",
            "Epoch 89/100\n",
            "37/37 [==============================] - 12s 312ms/step - loss: 0.0210 - accuracy: 0.9888\n",
            "Epoch 90/100\n",
            "37/37 [==============================] - 12s 314ms/step - loss: 9.0243e-04 - accuracy: 1.0000\n",
            "Epoch 91/100\n",
            "37/37 [==============================] - 12s 316ms/step - loss: 7.9013e-05 - accuracy: 1.0000\n",
            "Epoch 92/100\n",
            "37/37 [==============================] - 12s 317ms/step - loss: 0.4058 - accuracy: 0.9416\n",
            "Epoch 93/100\n",
            "37/37 [==============================] - 12s 318ms/step - loss: 1.2247e-04 - accuracy: 1.0000\n",
            "Epoch 94/100\n",
            "37/37 [==============================] - 12s 313ms/step - loss: 0.0042 - accuracy: 0.9989\n",
            "Epoch 95/100\n",
            "37/37 [==============================] - 12s 311ms/step - loss: 0.0114 - accuracy: 0.9962\n",
            "Epoch 96/100\n",
            "37/37 [==============================] - 12s 312ms/step - loss: 0.0541 - accuracy: 0.9864\n",
            "Epoch 97/100\n",
            "37/37 [==============================] - 11s 310ms/step - loss: 0.0013 - accuracy: 0.9994\n",
            "Epoch 98/100\n",
            "37/37 [==============================] - 12s 314ms/step - loss: 0.0038 - accuracy: 0.9971\n",
            "Epoch 99/100\n",
            "37/37 [==============================] - 12s 312ms/step - loss: 0.0290 - accuracy: 0.9926\n",
            "Epoch 100/100\n",
            "37/37 [==============================] - 12s 312ms/step - loss: 8.1870e-04 - accuracy: 1.0000\n",
            "10/10 [==============================] - 2s 56ms/step - loss: 0.2104 - accuracy: 0.9561\n",
            "Baseline: 94.75% (1.67%)\n"
          ],
          "name": "stdout"
        }
      ]
    },
    {
      "cell_type": "code",
      "metadata": {
        "id": "3sbvGyP4Vpl-"
      },
      "source": [
        "model.summary()"
      ],
      "execution_count": null,
      "outputs": []
    },
    {
      "cell_type": "code",
      "metadata": {
        "id": "PqZJqBXByjK-"
      },
      "source": [
        "Results_All = []"
      ],
      "execution_count": 48,
      "outputs": []
    },
    {
      "cell_type": "code",
      "metadata": {
        "id": "LKnEbjwec5RR"
      },
      "source": [
        "\n",
        "Results_All.append(results)"
      ],
      "execution_count": 60,
      "outputs": []
    },
    {
      "cell_type": "code",
      "metadata": {
        "colab": {
          "base_uri": "https://localhost:8080/"
        },
        "id": "dHWAM-Y-yUD0",
        "outputId": "b6144018-0462-46ef-ab89-f4be8587f5dd"
      },
      "source": [
        "np.mean(Results_All[2]), np.std(Results_All[2])\n"
      ],
      "execution_count": 61,
      "outputs": [
        {
          "output_type": "execute_result",
          "data": {
            "text/plain": [
              "(0.9685589432716369, 0.013919098118108118)"
            ]
          },
          "metadata": {
            "tags": []
          },
          "execution_count": 61
        }
      ]
    },
    {
      "cell_type": "code",
      "metadata": {
        "colab": {
          "base_uri": "https://localhost:8080/",
          "height": 405
        },
        "id": "bJsVyLDYZ5zI",
        "outputId": "3bc6c91f-226c-4da2-a1ba-971b369556e0"
      },
      "source": [
        "plt.boxplot(results)"
      ],
      "execution_count": 72,
      "outputs": [
        {
          "output_type": "execute_result",
          "data": {
            "text/plain": [
              "{'boxes': [<matplotlib.lines.Line2D at 0x7ff3e052c9d0>],\n",
              " 'caps': [<matplotlib.lines.Line2D at 0x7ff3e120f9d0>,\n",
              "  <matplotlib.lines.Line2D at 0x7ff3e120f410>],\n",
              " 'fliers': [<matplotlib.lines.Line2D at 0x7ff3e02b4d50>],\n",
              " 'means': [],\n",
              " 'medians': [<matplotlib.lines.Line2D at 0x7ff3e02b4550>],\n",
              " 'whiskers': [<matplotlib.lines.Line2D at 0x7ff3e052c150>,\n",
              "  <matplotlib.lines.Line2D at 0x7ff3e052ca10>]}"
            ]
          },
          "metadata": {
            "tags": []
          },
          "execution_count": 72
        },
        {
          "output_type": "display_data",
          "data": {
            "image/png": "[encoded data removed]",
            "text/plain": [
              "<Figure size 432x288 with 1 Axes>"
            ]
          },
          "metadata": {
            "tags": [],
            "needs_background": "light"
          }
        }
      ]
    },
    {
      "cell_type": "markdown",
      "metadata": {
        "id": "3-6s6r_rasC1"
      },
      "source": [
        "#### Save the data"
      ]
    },
    {
      "cell_type": "code",
      "metadata": {
        "id": "jEfmfQ1ljkKS"
      },
      "source": [
        "import pickle\n",
        "with open('resultsS2.pickle', 'wb') as f:\n",
        "    pickle.dump([results], f)"
      ],
      "execution_count": 49,
      "outputs": []
    },
    {
      "cell_type": "code",
      "metadata": {
        "id": "WecHUAxlHkzK"
      },
      "source": [
        "import pickle\n",
        "with open('resultsS0.pickle', 'rb') as f:\n",
        "    result1 = pickle.load(f)\n",
        "    \n",
        "    "
      ],
      "execution_count": 54,
      "outputs": []
    },
    {
      "cell_type": "code",
      "metadata": {
        "colab": {
          "base_uri": "https://localhost:8080/"
        },
        "id": "u3LeNG8MRhLW",
        "outputId": "dedd4027-cda0-460f-d463-b9b86701abde"
      },
      "source": [
        "np.mean(result1),np.std(result1)"
      ],
      "execution_count": 56,
      "outputs": [
        {
          "output_type": "execute_result",
          "data": {
            "text/plain": [
              "(0.9633187532424927, 0.007095234699712329)"
            ]
          },
          "metadata": {
            "tags": []
          },
          "execution_count": 56
        }
      ]
    },
    {
      "cell_type": "code",
      "metadata": {
        "colab": {
          "base_uri": "https://localhost:8080/",
          "height": 815
        },
        "id": "URU--Xl3RGDm",
        "outputId": "1607fc0b-2873-4908-b7aa-43cf4b2db24d"
      },
      "source": [
        "import matplotlib.pyplot as plt\n",
        "from matplotlib.ticker import MaxNLocator\n",
        "#plt.rcParams.update({'font.size': 22})\n",
        "SMALL_SIZE = 14\n",
        "MEDIUM_SIZE = 12\n",
        "BIGGER_SIZE = 14\n",
        "\n",
        "plt.rc('font', size=SMALL_SIZE)          # controls default text sizes\n",
        "plt.rc('axes', titlesize=SMALL_SIZE)     # fontsize of the axes title\n",
        "plt.rc('axes', labelsize=MEDIUM_SIZE)    # fontsize of the x and y labels\n",
        "plt.rc('xtick', labelsize=BIGGER_SIZE)    # fontsize of the tick labels\n",
        "plt.rc('ytick', labelsize=BIGGER_SIZE)    # fontsize of the tick labels\n",
        "plt.rc('legend', fontsize=SMALL_SIZE)    # legend fontsize\n",
        "plt.rc('figure', titlesize=BIGGER_SIZE)  # fontsize of the figure title\n",
        "\n",
        "fig = plt.figure(figsize=(10,10))\n",
        "ax = fig.add_subplot(111)\n",
        "#ax.yaxis.set_major_locator(MaxNLocator(5)) \n",
        "ax.xaxis.set_major_locator(MaxNLocator(6))\n",
        "# summarize history for accuracy\n",
        "ax.plot(history.history['accuracy'],'-')\n",
        "ax.plot(history.history['val_accuracy'],'-')\n",
        "plt.title('Model Accuracy')\n",
        "plt.ylabel('accuracy')\n",
        "plt.xlabel('epoch')\n",
        "ax.legend(['train', 'test'], loc='lower right')\n",
        "plt.show()"
      ],
      "execution_count": 57,
      "outputs": [
        {
          "output_type": "error",
          "ename": "NameError",
          "evalue": "ignored",
          "traceback": [
            "\u001b[0;31m---------------------------------------------------------------------------\u001b[0m",
            "\u001b[0;31mNameError\u001b[0m                                 Traceback (most recent call last)",
            "\u001b[0;32m<ipython-input-57-ccafbffafa30>\u001b[0m in \u001b[0;36m<module>\u001b[0;34m()\u001b[0m\n\u001b[1;32m     19\u001b[0m \u001b[0max\u001b[0m\u001b[0;34m.\u001b[0m\u001b[0mxaxis\u001b[0m\u001b[0;34m.\u001b[0m\u001b[0mset_major_locator\u001b[0m\u001b[0;34m(\u001b[0m\u001b[0mMaxNLocator\u001b[0m\u001b[0;34m(\u001b[0m\u001b[0;36m6\u001b[0m\u001b[0;34m)\u001b[0m\u001b[0;34m)\u001b[0m\u001b[0;34m\u001b[0m\u001b[0;34m\u001b[0m\u001b[0m\n\u001b[1;32m     20\u001b[0m \u001b[0;31m# summarize history for accuracy\u001b[0m\u001b[0;34m\u001b[0m\u001b[0;34m\u001b[0m\u001b[0;34m\u001b[0m\u001b[0m\n\u001b[0;32m---> 21\u001b[0;31m \u001b[0max\u001b[0m\u001b[0;34m.\u001b[0m\u001b[0mplot\u001b[0m\u001b[0;34m(\u001b[0m\u001b[0mhistory\u001b[0m\u001b[0;34m.\u001b[0m\u001b[0mhistory\u001b[0m\u001b[0;34m[\u001b[0m\u001b[0;34m'accuracy'\u001b[0m\u001b[0;34m]\u001b[0m\u001b[0;34m,\u001b[0m\u001b[0;34m'-'\u001b[0m\u001b[0;34m)\u001b[0m\u001b[0;34m\u001b[0m\u001b[0;34m\u001b[0m\u001b[0m\n\u001b[0m\u001b[1;32m     22\u001b[0m \u001b[0max\u001b[0m\u001b[0;34m.\u001b[0m\u001b[0mplot\u001b[0m\u001b[0;34m(\u001b[0m\u001b[0mhistory\u001b[0m\u001b[0;34m.\u001b[0m\u001b[0mhistory\u001b[0m\u001b[0;34m[\u001b[0m\u001b[0;34m'val_accuracy'\u001b[0m\u001b[0;34m]\u001b[0m\u001b[0;34m,\u001b[0m\u001b[0;34m'-'\u001b[0m\u001b[0;34m)\u001b[0m\u001b[0;34m\u001b[0m\u001b[0;34m\u001b[0m\u001b[0m\n\u001b[1;32m     23\u001b[0m \u001b[0mplt\u001b[0m\u001b[0;34m.\u001b[0m\u001b[0mtitle\u001b[0m\u001b[0;34m(\u001b[0m\u001b[0;34m'Model Accuracy'\u001b[0m\u001b[0;34m)\u001b[0m\u001b[0;34m\u001b[0m\u001b[0;34m\u001b[0m\u001b[0m\n",
            "\u001b[0;31mNameError\u001b[0m: name 'history' is not defined"
          ]
        },
        {
          "output_type": "display_data",
          "data": {
            "image/png": "[encoded data removed]",
            "text/plain": [
              "<Figure size 720x720 with 1 Axes>"
            ]
          },
          "metadata": {
            "tags": [],
            "needs_background": "light"
          }
        }
      ]
    }
  ]
}