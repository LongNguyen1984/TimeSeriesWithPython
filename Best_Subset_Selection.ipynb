{
  "nbformat": 4,
  "nbformat_minor": 0,
  "metadata": {
    "colab": {
      "name": "Best_Subset_Selection.ipynb",
      "provenance": [],
      "authorship_tag": "ABX9TyPq8kbepI+N9GeizNKAH7Sx",
      "include_colab_link": true
    },
    "kernelspec": {
      "name": "python3",
      "display_name": "Python 3"
    },
    "language_info": {
      "name": "python"
    }
  },
  "cells": [
    {
      "cell_type": "markdown",
      "metadata": {
        "id": "view-in-github",
        "colab_type": "text"
      },
      "source": [
        "<a href=\"https://colab.research.google.com/github/LongNguyen1984/TimeSeriesWithPython/blob/main/Best_Subset_Selection.ipynb\" target=\"_parent\"><img src=\"https://colab.research.google.com/assets/colab-badge.svg\" alt=\"Open In Colab\"/></a>"
      ]
    },
    {
      "cell_type": "code",
      "metadata": {
        "colab": {
          "base_uri": "https://localhost:8080/"
        },
        "id": "sC66uiRRQKIG",
        "outputId": "30ae326a-3e89-4ace-cf0e-9eea421b6995"
      },
      "source": [
        "%matplotlib inline\n",
        "import pandas as pd\n",
        "import numpy as np\n",
        "import itertools\n",
        "import time\n",
        "import statsmodels.api as sm\n",
        "import matplotlib.pyplot as plt\n",
        "\n"
      ],
      "execution_count": 2,
      "outputs": [
        {
          "output_type": "stream",
          "name": "stderr",
          "text": [
            "/usr/local/lib/python3.7/dist-packages/statsmodels/tools/_testing.py:19: FutureWarning: pandas.util.testing is deprecated. Use the functions in the public API at pandas.testing instead.\n",
            "  import pandas.util.testing as tm\n"
          ]
        }
      ]
    },
    {
      "cell_type": "markdown",
      "metadata": {
        "id": "a9S7gJJlVL9M"
      },
      "source": [
        "## Best Subset Selection"
      ]
    },
    {
      "cell_type": "code",
      "metadata": {
        "colab": {
          "base_uri": "https://localhost:8080/",
          "height": 203
        },
        "id": "3XCdCOXAUPrt",
        "outputId": "a51f3329-94bb-49bc-83dc-05ba1207a9bb"
      },
      "source": [
        "hitters_df = pd.read_csv('https://raw.githubusercontent.com/JWarmenhoven/ISLR-python/master/Notebooks/Data/Hitters.csv')\n",
        "hitters_df.head()"
      ],
      "execution_count": 3,
      "outputs": [
        {
          "output_type": "execute_result",
          "data": {
            "text/html": [
              "<div>\n",
              "<style scoped>\n",
              "    .dataframe tbody tr th:only-of-type {\n",
              "        vertical-align: middle;\n",
              "    }\n",
              "\n",
              "    .dataframe tbody tr th {\n",
              "        vertical-align: top;\n",
              "    }\n",
              "\n",
              "    .dataframe thead th {\n",
              "        text-align: right;\n",
              "    }\n",
              "</style>\n",
              "<table border=\"1\" class=\"dataframe\">\n",
              "  <thead>\n",
              "    <tr style=\"text-align: right;\">\n",
              "      <th></th>\n",
              "      <th>Unnamed: 0</th>\n",
              "      <th>AtBat</th>\n",
              "      <th>Hits</th>\n",
              "      <th>HmRun</th>\n",
              "      <th>Runs</th>\n",
              "      <th>RBI</th>\n",
              "      <th>Walks</th>\n",
              "      <th>Years</th>\n",
              "      <th>CAtBat</th>\n",
              "      <th>CHits</th>\n",
              "      <th>CHmRun</th>\n",
              "      <th>CRuns</th>\n",
              "      <th>CRBI</th>\n",
              "      <th>CWalks</th>\n",
              "      <th>League</th>\n",
              "      <th>Division</th>\n",
              "      <th>PutOuts</th>\n",
              "      <th>Assists</th>\n",
              "      <th>Errors</th>\n",
              "      <th>Salary</th>\n",
              "      <th>NewLeague</th>\n",
              "    </tr>\n",
              "  </thead>\n",
              "  <tbody>\n",
              "    <tr>\n",
              "      <th>0</th>\n",
              "      <td>-Andy Allanson</td>\n",
              "      <td>293</td>\n",
              "      <td>66</td>\n",
              "      <td>1</td>\n",
              "      <td>30</td>\n",
              "      <td>29</td>\n",
              "      <td>14</td>\n",
              "      <td>1</td>\n",
              "      <td>293</td>\n",
              "      <td>66</td>\n",
              "      <td>1</td>\n",
              "      <td>30</td>\n",
              "      <td>29</td>\n",
              "      <td>14</td>\n",
              "      <td>A</td>\n",
              "      <td>E</td>\n",
              "      <td>446</td>\n",
              "      <td>33</td>\n",
              "      <td>20</td>\n",
              "      <td>NaN</td>\n",
              "      <td>A</td>\n",
              "    </tr>\n",
              "    <tr>\n",
              "      <th>1</th>\n",
              "      <td>-Alan Ashby</td>\n",
              "      <td>315</td>\n",
              "      <td>81</td>\n",
              "      <td>7</td>\n",
              "      <td>24</td>\n",
              "      <td>38</td>\n",
              "      <td>39</td>\n",
              "      <td>14</td>\n",
              "      <td>3449</td>\n",
              "      <td>835</td>\n",
              "      <td>69</td>\n",
              "      <td>321</td>\n",
              "      <td>414</td>\n",
              "      <td>375</td>\n",
              "      <td>N</td>\n",
              "      <td>W</td>\n",
              "      <td>632</td>\n",
              "      <td>43</td>\n",
              "      <td>10</td>\n",
              "      <td>475.0</td>\n",
              "      <td>N</td>\n",
              "    </tr>\n",
              "    <tr>\n",
              "      <th>2</th>\n",
              "      <td>-Alvin Davis</td>\n",
              "      <td>479</td>\n",
              "      <td>130</td>\n",
              "      <td>18</td>\n",
              "      <td>66</td>\n",
              "      <td>72</td>\n",
              "      <td>76</td>\n",
              "      <td>3</td>\n",
              "      <td>1624</td>\n",
              "      <td>457</td>\n",
              "      <td>63</td>\n",
              "      <td>224</td>\n",
              "      <td>266</td>\n",
              "      <td>263</td>\n",
              "      <td>A</td>\n",
              "      <td>W</td>\n",
              "      <td>880</td>\n",
              "      <td>82</td>\n",
              "      <td>14</td>\n",
              "      <td>480.0</td>\n",
              "      <td>A</td>\n",
              "    </tr>\n",
              "    <tr>\n",
              "      <th>3</th>\n",
              "      <td>-Andre Dawson</td>\n",
              "      <td>496</td>\n",
              "      <td>141</td>\n",
              "      <td>20</td>\n",
              "      <td>65</td>\n",
              "      <td>78</td>\n",
              "      <td>37</td>\n",
              "      <td>11</td>\n",
              "      <td>5628</td>\n",
              "      <td>1575</td>\n",
              "      <td>225</td>\n",
              "      <td>828</td>\n",
              "      <td>838</td>\n",
              "      <td>354</td>\n",
              "      <td>N</td>\n",
              "      <td>E</td>\n",
              "      <td>200</td>\n",
              "      <td>11</td>\n",
              "      <td>3</td>\n",
              "      <td>500.0</td>\n",
              "      <td>N</td>\n",
              "    </tr>\n",
              "    <tr>\n",
              "      <th>4</th>\n",
              "      <td>-Andres Galarraga</td>\n",
              "      <td>321</td>\n",
              "      <td>87</td>\n",
              "      <td>10</td>\n",
              "      <td>39</td>\n",
              "      <td>42</td>\n",
              "      <td>30</td>\n",
              "      <td>2</td>\n",
              "      <td>396</td>\n",
              "      <td>101</td>\n",
              "      <td>12</td>\n",
              "      <td>48</td>\n",
              "      <td>46</td>\n",
              "      <td>33</td>\n",
              "      <td>N</td>\n",
              "      <td>E</td>\n",
              "      <td>805</td>\n",
              "      <td>40</td>\n",
              "      <td>4</td>\n",
              "      <td>91.5</td>\n",
              "      <td>N</td>\n",
              "    </tr>\n",
              "  </tbody>\n",
              "</table>\n",
              "</div>"
            ],
            "text/plain": [
              "          Unnamed: 0  AtBat  Hits  HmRun  ...  Assists  Errors  Salary  NewLeague\n",
              "0     -Andy Allanson    293    66      1  ...       33      20     NaN          A\n",
              "1        -Alan Ashby    315    81      7  ...       43      10   475.0          N\n",
              "2       -Alvin Davis    479   130     18  ...       82      14   480.0          A\n",
              "3      -Andre Dawson    496   141     20  ...       11       3   500.0          N\n",
              "4  -Andres Galarraga    321    87     10  ...       40       4    91.5          N\n",
              "\n",
              "[5 rows x 21 columns]"
            ]
          },
          "metadata": {},
          "execution_count": 3
        }
      ]
    },
    {
      "cell_type": "markdown",
      "metadata": {
        "id": "WCeY48ZBYsTR"
      },
      "source": [
        "## Change the name of the first column"
      ]
    },
    {
      "cell_type": "code",
      "metadata": {
        "id": "9AZZBPdzXyYr"
      },
      "source": [
        "\n",
        "hitters_df=hitters_df.rename(columns={\"Unnamed: 0\":\"Player\"})"
      ],
      "execution_count": 11,
      "outputs": []
    },
    {
      "cell_type": "code",
      "metadata": {
        "colab": {
          "base_uri": "https://localhost:8080/",
          "height": 203
        },
        "id": "FqrFLeThY3ci",
        "outputId": "3ceceed5-cc6f-4f14-bc9c-95fcb4998a93"
      },
      "source": [
        "hitters_df.head()"
      ],
      "execution_count": 15,
      "outputs": [
        {
          "output_type": "execute_result",
          "data": {
            "text/html": [
              "<div>\n",
              "<style scoped>\n",
              "    .dataframe tbody tr th:only-of-type {\n",
              "        vertical-align: middle;\n",
              "    }\n",
              "\n",
              "    .dataframe tbody tr th {\n",
              "        vertical-align: top;\n",
              "    }\n",
              "\n",
              "    .dataframe thead th {\n",
              "        text-align: right;\n",
              "    }\n",
              "</style>\n",
              "<table border=\"1\" class=\"dataframe\">\n",
              "  <thead>\n",
              "    <tr style=\"text-align: right;\">\n",
              "      <th></th>\n",
              "      <th>Player</th>\n",
              "      <th>AtBat</th>\n",
              "      <th>Hits</th>\n",
              "      <th>HmRun</th>\n",
              "      <th>Runs</th>\n",
              "      <th>RBI</th>\n",
              "      <th>Walks</th>\n",
              "      <th>Years</th>\n",
              "      <th>CAtBat</th>\n",
              "      <th>CHits</th>\n",
              "      <th>CHmRun</th>\n",
              "      <th>CRuns</th>\n",
              "      <th>CRBI</th>\n",
              "      <th>CWalks</th>\n",
              "      <th>League</th>\n",
              "      <th>Division</th>\n",
              "      <th>PutOuts</th>\n",
              "      <th>Assists</th>\n",
              "      <th>Errors</th>\n",
              "      <th>Salary</th>\n",
              "      <th>NewLeague</th>\n",
              "    </tr>\n",
              "  </thead>\n",
              "  <tbody>\n",
              "    <tr>\n",
              "      <th>0</th>\n",
              "      <td>-Andy Allanson</td>\n",
              "      <td>293</td>\n",
              "      <td>66</td>\n",
              "      <td>1</td>\n",
              "      <td>30</td>\n",
              "      <td>29</td>\n",
              "      <td>14</td>\n",
              "      <td>1</td>\n",
              "      <td>293</td>\n",
              "      <td>66</td>\n",
              "      <td>1</td>\n",
              "      <td>30</td>\n",
              "      <td>29</td>\n",
              "      <td>14</td>\n",
              "      <td>A</td>\n",
              "      <td>E</td>\n",
              "      <td>446</td>\n",
              "      <td>33</td>\n",
              "      <td>20</td>\n",
              "      <td>NaN</td>\n",
              "      <td>A</td>\n",
              "    </tr>\n",
              "    <tr>\n",
              "      <th>1</th>\n",
              "      <td>-Alan Ashby</td>\n",
              "      <td>315</td>\n",
              "      <td>81</td>\n",
              "      <td>7</td>\n",
              "      <td>24</td>\n",
              "      <td>38</td>\n",
              "      <td>39</td>\n",
              "      <td>14</td>\n",
              "      <td>3449</td>\n",
              "      <td>835</td>\n",
              "      <td>69</td>\n",
              "      <td>321</td>\n",
              "      <td>414</td>\n",
              "      <td>375</td>\n",
              "      <td>N</td>\n",
              "      <td>W</td>\n",
              "      <td>632</td>\n",
              "      <td>43</td>\n",
              "      <td>10</td>\n",
              "      <td>475.0</td>\n",
              "      <td>N</td>\n",
              "    </tr>\n",
              "    <tr>\n",
              "      <th>2</th>\n",
              "      <td>-Alvin Davis</td>\n",
              "      <td>479</td>\n",
              "      <td>130</td>\n",
              "      <td>18</td>\n",
              "      <td>66</td>\n",
              "      <td>72</td>\n",
              "      <td>76</td>\n",
              "      <td>3</td>\n",
              "      <td>1624</td>\n",
              "      <td>457</td>\n",
              "      <td>63</td>\n",
              "      <td>224</td>\n",
              "      <td>266</td>\n",
              "      <td>263</td>\n",
              "      <td>A</td>\n",
              "      <td>W</td>\n",
              "      <td>880</td>\n",
              "      <td>82</td>\n",
              "      <td>14</td>\n",
              "      <td>480.0</td>\n",
              "      <td>A</td>\n",
              "    </tr>\n",
              "    <tr>\n",
              "      <th>3</th>\n",
              "      <td>-Andre Dawson</td>\n",
              "      <td>496</td>\n",
              "      <td>141</td>\n",
              "      <td>20</td>\n",
              "      <td>65</td>\n",
              "      <td>78</td>\n",
              "      <td>37</td>\n",
              "      <td>11</td>\n",
              "      <td>5628</td>\n",
              "      <td>1575</td>\n",
              "      <td>225</td>\n",
              "      <td>828</td>\n",
              "      <td>838</td>\n",
              "      <td>354</td>\n",
              "      <td>N</td>\n",
              "      <td>E</td>\n",
              "      <td>200</td>\n",
              "      <td>11</td>\n",
              "      <td>3</td>\n",
              "      <td>500.0</td>\n",
              "      <td>N</td>\n",
              "    </tr>\n",
              "    <tr>\n",
              "      <th>4</th>\n",
              "      <td>-Andres Galarraga</td>\n",
              "      <td>321</td>\n",
              "      <td>87</td>\n",
              "      <td>10</td>\n",
              "      <td>39</td>\n",
              "      <td>42</td>\n",
              "      <td>30</td>\n",
              "      <td>2</td>\n",
              "      <td>396</td>\n",
              "      <td>101</td>\n",
              "      <td>12</td>\n",
              "      <td>48</td>\n",
              "      <td>46</td>\n",
              "      <td>33</td>\n",
              "      <td>N</td>\n",
              "      <td>E</td>\n",
              "      <td>805</td>\n",
              "      <td>40</td>\n",
              "      <td>4</td>\n",
              "      <td>91.5</td>\n",
              "      <td>N</td>\n",
              "    </tr>\n",
              "  </tbody>\n",
              "</table>\n",
              "</div>"
            ],
            "text/plain": [
              "              Player  AtBat  Hits  HmRun  ...  Assists  Errors  Salary  NewLeague\n",
              "0     -Andy Allanson    293    66      1  ...       33      20     NaN          A\n",
              "1        -Alan Ashby    315    81      7  ...       43      10   475.0          N\n",
              "2       -Alvin Davis    479   130     18  ...       82      14   480.0          A\n",
              "3      -Andre Dawson    496   141     20  ...       11       3   500.0          N\n",
              "4  -Andres Galarraga    321    87     10  ...       40       4    91.5          N\n",
              "\n",
              "[5 rows x 21 columns]"
            ]
          },
          "metadata": {},
          "execution_count": 15
        }
      ]
    },
    {
      "cell_type": "markdown",
      "metadata": {
        "id": "PE52Rm3MVyIt"
      },
      "source": [
        "### Check the missing of some data column"
      ]
    },
    {
      "cell_type": "code",
      "metadata": {
        "colab": {
          "base_uri": "https://localhost:8080/"
        },
        "id": "QG2m_JAiV3lL",
        "outputId": "5be77d71-9fa0-47a4-e433-6aa5a4534af2"
      },
      "source": [
        "print(\"Number of null values:\", hitters_df['Salary'].isnull().sum())"
      ],
      "execution_count": 4,
      "outputs": [
        {
          "output_type": "stream",
          "name": "stdout",
          "text": [
            "Number of null values: 59\n"
          ]
        }
      ]
    },
    {
      "cell_type": "markdown",
      "metadata": {
        "id": "bUtoEUoRWCTD"
      },
      "source": [
        "## Remove the missing values with dropna() function"
      ]
    },
    {
      "cell_type": "code",
      "metadata": {
        "colab": {
          "base_uri": "https://localhost:8080/"
        },
        "id": "3dZYwAQDWHy8",
        "outputId": "827b0b2c-7254-4c67-d0ef-bdf4eca6d14d"
      },
      "source": [
        "# Print the dimension of original Hitters data (322 rows x 20 columns)\n",
        "print(\"Dimensions of original data:\", hitters_df.shape)\n",
        "\n",
        "# Drop any rows the contain missing values, along with the payer names\n",
        "hitters_df_clean = hitters_df.dropna().drop('Player', axis=1)\n",
        "\n",
        "# Print the dimensions of the modified Hitters data (263 rows x 20 columns)\n",
        "print(\"Dimensions of modified data:\", hitters_df_clean.shape)\n",
        "\n",
        "# One last check: should return 0\n",
        "print('Number of null values:', hitters_df_clean['Salary'].isnull().sum())"
      ],
      "execution_count": 13,
      "outputs": [
        {
          "output_type": "stream",
          "name": "stdout",
          "text": [
            "Dimensions of original data: (322, 21)\n",
            "Dimensions of modified data: (263, 20)\n",
            "Number of null values: 0\n"
          ]
        }
      ]
    },
    {
      "cell_type": "markdown",
      "metadata": {
        "id": "vmgX5d5uZwRC"
      },
      "source": [
        "Extract some categorical predictors from table"
      ]
    },
    {
      "cell_type": "code",
      "metadata": {
        "id": "26-GtIqmWJaz"
      },
      "source": [
        "dummies = pd.get_dummies(hitters_df_clean[['League', 'Division', 'NewLeague']])\n",
        "\n",
        "y = hitters_df_clean.Salary\n",
        "\n",
        "# Drop the column with the independent variable (Salary), and columns for which we created dummy variables\n",
        "X_ = hitters_df_clean.drop(['Salary', 'League', 'Division', 'NewLeague'], axis=1).astype('float64')\n",
        "\n",
        "# Define the fueature set X\n",
        "X = pd.concat([X_, dummies[['League_N', 'Division_W', 'NewLeague_N']]], axis=1)"
      ],
      "execution_count": 18,
      "outputs": []
    },
    {
      "cell_type": "code",
      "metadata": {
        "colab": {
          "base_uri": "https://localhost:8080/",
          "height": 203
        },
        "id": "pd6MQcQwbZhp",
        "outputId": "0c23a536-ca62-4787-f5da-3768a77a3d7a"
      },
      "source": [
        "dummies.head()"
      ],
      "execution_count": 19,
      "outputs": [
        {
          "output_type": "execute_result",
          "data": {
            "text/html": [
              "<div>\n",
              "<style scoped>\n",
              "    .dataframe tbody tr th:only-of-type {\n",
              "        vertical-align: middle;\n",
              "    }\n",
              "\n",
              "    .dataframe tbody tr th {\n",
              "        vertical-align: top;\n",
              "    }\n",
              "\n",
              "    .dataframe thead th {\n",
              "        text-align: right;\n",
              "    }\n",
              "</style>\n",
              "<table border=\"1\" class=\"dataframe\">\n",
              "  <thead>\n",
              "    <tr style=\"text-align: right;\">\n",
              "      <th></th>\n",
              "      <th>League_A</th>\n",
              "      <th>League_N</th>\n",
              "      <th>Division_E</th>\n",
              "      <th>Division_W</th>\n",
              "      <th>NewLeague_A</th>\n",
              "      <th>NewLeague_N</th>\n",
              "    </tr>\n",
              "  </thead>\n",
              "  <tbody>\n",
              "    <tr>\n",
              "      <th>1</th>\n",
              "      <td>0</td>\n",
              "      <td>1</td>\n",
              "      <td>0</td>\n",
              "      <td>1</td>\n",
              "      <td>0</td>\n",
              "      <td>1</td>\n",
              "    </tr>\n",
              "    <tr>\n",
              "      <th>2</th>\n",
              "      <td>1</td>\n",
              "      <td>0</td>\n",
              "      <td>0</td>\n",
              "      <td>1</td>\n",
              "      <td>1</td>\n",
              "      <td>0</td>\n",
              "    </tr>\n",
              "    <tr>\n",
              "      <th>3</th>\n",
              "      <td>0</td>\n",
              "      <td>1</td>\n",
              "      <td>1</td>\n",
              "      <td>0</td>\n",
              "      <td>0</td>\n",
              "      <td>1</td>\n",
              "    </tr>\n",
              "    <tr>\n",
              "      <th>4</th>\n",
              "      <td>0</td>\n",
              "      <td>1</td>\n",
              "      <td>1</td>\n",
              "      <td>0</td>\n",
              "      <td>0</td>\n",
              "      <td>1</td>\n",
              "    </tr>\n",
              "    <tr>\n",
              "      <th>5</th>\n",
              "      <td>1</td>\n",
              "      <td>0</td>\n",
              "      <td>0</td>\n",
              "      <td>1</td>\n",
              "      <td>1</td>\n",
              "      <td>0</td>\n",
              "    </tr>\n",
              "  </tbody>\n",
              "</table>\n",
              "</div>"
            ],
            "text/plain": [
              "   League_A  League_N  Division_E  Division_W  NewLeague_A  NewLeague_N\n",
              "1         0         1           0           1            0            1\n",
              "2         1         0           0           1            1            0\n",
              "3         0         1           1           0            0            1\n",
              "4         0         1           1           0            0            1\n",
              "5         1         0           0           1            1            0"
            ]
          },
          "metadata": {},
          "execution_count": 19
        }
      ]
    },
    {
      "cell_type": "markdown",
      "metadata": {
        "id": "zIMIlf0Rb4Qn"
      },
      "source": [
        "### Perform best subset selection"
      ]
    },
    {
      "cell_type": "code",
      "metadata": {
        "id": "4mqs9ebQbmMH"
      },
      "source": [
        "def processSubset(feature_set):\n",
        "    # Fit model on feature_set and calculate RSS\n",
        "    model = sm.OLS(y,X[list(feature_set)])\n",
        "    regr = model.fit()\n",
        "    RSS = ((regr.predict(X[list(feature_set)]) - y) ** 2).sum()\n",
        "    return {\"model\":regr, \"RSS\":RSS}\n"
      ],
      "execution_count": 28,
      "outputs": []
    },
    {
      "cell_type": "code",
      "metadata": {
        "id": "30blOALwceR-"
      },
      "source": [
        "def getBest(k):\n",
        "    \n",
        "    tic = time.time()\n",
        "    \n",
        "    results = []\n",
        "    \n",
        "    for combo in itertools.combinations(X.columns, k):\n",
        "        results.append(processSubset(combo))\n",
        "    \n",
        "    # Wrap everything up in a nice dataframe\n",
        "    models = pd.DataFrame(results)\n",
        "    \n",
        "    # Choose the model with the highest RSS\n",
        "    best_model = models.loc[models['RSS'].argmin()]\n",
        "    \n",
        "    toc = time.time()\n",
        "    print(\"Processed\", models.shape[0], \"models on\", k, \"predictors in\", (toc-tic), \"seconds.\")\n",
        "    \n",
        "    # Return the best model, along with some other useful information about the model\n",
        "    return best_model"
      ],
      "execution_count": 35,
      "outputs": []
    },
    {
      "cell_type": "code",
      "metadata": {
        "colab": {
          "base_uri": "https://localhost:8080/"
        },
        "id": "Cza8hP0jdaCn",
        "outputId": "1f8cd7e0-097d-44e5-88cf-bb2c70ff1501"
      },
      "source": [
        "# Could take quite awhile to complete...\n",
        "\n",
        "models_best = pd.DataFrame(columns=[\"RSS\", \"model\"])\n",
        "\n",
        "tic = time.time()\n",
        "for i in range(1,8):\n",
        "    models_best.loc[i] = getBest(i)\n",
        "\n",
        "toc = time.time()\n",
        "print(\"Total elapsed time:\", (toc-tic), \"seconds.\")"
      ],
      "execution_count": 36,
      "outputs": [
        {
          "output_type": "stream",
          "name": "stdout",
          "text": [
            "Processed 19 models on 1 predictors in 0.0652773380279541 seconds.\n",
            "Processed 171 models on 2 predictors in 0.47344255447387695 seconds.\n",
            "Processed 969 models on 3 predictors in 2.9735565185546875 seconds.\n",
            "Processed 3876 models on 4 predictors in 12.202307224273682 seconds.\n",
            "Processed 11628 models on 5 predictors in 37.31482410430908 seconds.\n",
            "Processed 27132 models on 6 predictors in 90.06894946098328 seconds.\n",
            "Processed 50388 models on 7 predictors in 175.67883610725403 seconds.\n",
            "Total elapsed time: 320.5151832103729 seconds.\n"
          ]
        }
      ]
    },
    {
      "cell_type": "code",
      "metadata": {
        "colab": {
          "base_uri": "https://localhost:8080/",
          "height": 265
        },
        "id": "KUiNhqHogfgk",
        "outputId": "7abb0e1a-91f1-4f99-ef96-31f4be1b6d1c"
      },
      "source": [
        "models_best"
      ],
      "execution_count": 44,
      "outputs": [
        {
          "output_type": "execute_result",
          "data": {
            "text/html": [
              "<div>\n",
              "<style scoped>\n",
              "    .dataframe tbody tr th:only-of-type {\n",
              "        vertical-align: middle;\n",
              "    }\n",
              "\n",
              "    .dataframe tbody tr th {\n",
              "        vertical-align: top;\n",
              "    }\n",
              "\n",
              "    .dataframe thead th {\n",
              "        text-align: right;\n",
              "    }\n",
              "</style>\n",
              "<table border=\"1\" class=\"dataframe\">\n",
              "  <thead>\n",
              "    <tr style=\"text-align: right;\">\n",
              "      <th></th>\n",
              "      <th>RSS</th>\n",
              "      <th>model</th>\n",
              "    </tr>\n",
              "  </thead>\n",
              "  <tbody>\n",
              "    <tr>\n",
              "      <th>1</th>\n",
              "      <td>4.321393e+07</td>\n",
              "      <td>&lt;statsmodels.regression.linear_model.Regressio...</td>\n",
              "    </tr>\n",
              "    <tr>\n",
              "      <th>2</th>\n",
              "      <td>3.073305e+07</td>\n",
              "      <td>&lt;statsmodels.regression.linear_model.Regressio...</td>\n",
              "    </tr>\n",
              "    <tr>\n",
              "      <th>3</th>\n",
              "      <td>2.941071e+07</td>\n",
              "      <td>&lt;statsmodels.regression.linear_model.Regressio...</td>\n",
              "    </tr>\n",
              "    <tr>\n",
              "      <th>4</th>\n",
              "      <td>2.797678e+07</td>\n",
              "      <td>&lt;statsmodels.regression.linear_model.Regressio...</td>\n",
              "    </tr>\n",
              "    <tr>\n",
              "      <th>5</th>\n",
              "      <td>2.718780e+07</td>\n",
              "      <td>&lt;statsmodels.regression.linear_model.Regressio...</td>\n",
              "    </tr>\n",
              "    <tr>\n",
              "      <th>6</th>\n",
              "      <td>2.639772e+07</td>\n",
              "      <td>&lt;statsmodels.regression.linear_model.Regressio...</td>\n",
              "    </tr>\n",
              "    <tr>\n",
              "      <th>7</th>\n",
              "      <td>2.606413e+07</td>\n",
              "      <td>&lt;statsmodels.regression.linear_model.Regressio...</td>\n",
              "    </tr>\n",
              "  </tbody>\n",
              "</table>\n",
              "</div>"
            ],
            "text/plain": [
              "            RSS                                              model\n",
              "1  4.321393e+07  <statsmodels.regression.linear_model.Regressio...\n",
              "2  3.073305e+07  <statsmodels.regression.linear_model.Regressio...\n",
              "3  2.941071e+07  <statsmodels.regression.linear_model.Regressio...\n",
              "4  2.797678e+07  <statsmodels.regression.linear_model.Regressio...\n",
              "5  2.718780e+07  <statsmodels.regression.linear_model.Regressio...\n",
              "6  2.639772e+07  <statsmodels.regression.linear_model.Regressio...\n",
              "7  2.606413e+07  <statsmodels.regression.linear_model.Regressio..."
            ]
          },
          "metadata": {},
          "execution_count": 44
        }
      ]
    },
    {
      "cell_type": "markdown",
      "metadata": {
        "id": "z3HRU5vlkN1g"
      },
      "source": [
        "### Access to a specific model"
      ]
    },
    {
      "cell_type": "code",
      "metadata": {
        "colab": {
          "base_uri": "https://localhost:8080/"
        },
        "id": "XovKt1fQkIK9",
        "outputId": "8a35773a-43a3-43c2-a92c-08237efed54a"
      },
      "source": [
        "print(models_best.loc[2, \"model\"].summary())"
      ],
      "execution_count": 45,
      "outputs": [
        {
          "output_type": "stream",
          "name": "stdout",
          "text": [
            "                                 OLS Regression Results                                \n",
            "=======================================================================================\n",
            "Dep. Variable:                 Salary   R-squared (uncentered):                   0.761\n",
            "Model:                            OLS   Adj. R-squared (uncentered):              0.760\n",
            "Method:                 Least Squares   F-statistic:                              416.7\n",
            "Date:                Fri, 03 Sep 2021   Prob (F-statistic):                    5.80e-82\n",
            "Time:                        07:30:15   Log-Likelihood:                         -1907.6\n",
            "No. Observations:                 263   AIC:                                      3819.\n",
            "Df Residuals:                     261   BIC:                                      3826.\n",
            "Df Model:                           2                                                  \n",
            "Covariance Type:            nonrobust                                                  \n",
            "==============================================================================\n",
            "                 coef    std err          t      P>|t|      [0.025      0.975]\n",
            "------------------------------------------------------------------------------\n",
            "Hits           2.9538      0.261     11.335      0.000       2.441       3.467\n",
            "CRBI           0.6788      0.066     10.295      0.000       0.549       0.809\n",
            "==============================================================================\n",
            "Omnibus:                      117.551   Durbin-Watson:                   1.933\n",
            "Prob(Omnibus):                  0.000   Jarque-Bera (JB):              654.612\n",
            "Skew:                           1.729   Prob(JB):                    7.12e-143\n",
            "Kurtosis:                       9.912   Cond. No.                         5.88\n",
            "==============================================================================\n",
            "\n",
            "Warnings:\n",
            "[1] Standard Errors assume that the covariance matrix of the errors is correctly specified.\n"
          ]
        }
      ]
    },
    {
      "cell_type": "code",
      "metadata": {
        "colab": {
          "base_uri": "https://localhost:8080/"
        },
        "id": "kxXoYUPXkfbu",
        "outputId": "c918d842-7a01-4754-9655-3ad53e67f40d"
      },
      "source": [
        "# Show the best 19-variable model (there's actually only one)\n",
        "print(getBest(19)[\"model\"].summary())"
      ],
      "execution_count": 46,
      "outputs": [
        {
          "output_type": "stream",
          "name": "stdout",
          "text": [
            "Processed 1 models on 19 predictors in 0.018834352493286133 seconds.\n",
            "                                 OLS Regression Results                                \n",
            "=======================================================================================\n",
            "Dep. Variable:                 Salary   R-squared (uncentered):                   0.810\n",
            "Model:                            OLS   Adj. R-squared (uncentered):              0.795\n",
            "Method:                 Least Squares   F-statistic:                              54.64\n",
            "Date:                Fri, 03 Sep 2021   Prob (F-statistic):                    1.31e-76\n",
            "Time:                        07:31:40   Log-Likelihood:                         -1877.9\n",
            "No. Observations:                 263   AIC:                                      3794.\n",
            "Df Residuals:                     244   BIC:                                      3862.\n",
            "Df Model:                          19                                                  \n",
            "Covariance Type:            nonrobust                                                  \n",
            "===============================================================================\n",
            "                  coef    std err          t      P>|t|      [0.025      0.975]\n",
            "-------------------------------------------------------------------------------\n",
            "AtBat          -1.5975      0.600     -2.663      0.008      -2.779      -0.416\n",
            "Hits            7.0330      2.374      2.963      0.003       2.357      11.709\n",
            "HmRun           4.1210      6.229      0.662      0.509      -8.148      16.390\n",
            "Runs           -2.3776      2.994     -0.794      0.428      -8.276       3.520\n",
            "RBI            -1.0873      2.613     -0.416      0.678      -6.234       4.059\n",
            "Walks           6.1560      1.836      3.352      0.001       2.539       9.773\n",
            "Years           9.5196     10.128      0.940      0.348     -10.429      29.468\n",
            "CAtBat         -0.2018      0.135     -1.497      0.136      -0.467       0.064\n",
            "CHits           0.1380      0.678      0.204      0.839      -1.197       1.473\n",
            "CHmRun         -0.1669      1.625     -0.103      0.918      -3.367       3.033\n",
            "CRuns           1.5070      0.753      2.001      0.047       0.023       2.991\n",
            "CRBI            0.7742      0.696      1.113      0.267      -0.596       2.144\n",
            "CWalks         -0.7851      0.329     -2.384      0.018      -1.434      -0.137\n",
            "PutOuts         0.2856      0.078      3.673      0.000       0.132       0.439\n",
            "Assists         0.3137      0.220      1.427      0.155      -0.119       0.747\n",
            "Errors         -2.0463      4.350     -0.470      0.638     -10.615       6.522\n",
            "League_N       86.8139     78.463      1.106      0.270     -67.737     241.365\n",
            "Division_W    -97.5160     39.084     -2.495      0.013    -174.500     -20.532\n",
            "NewLeague_N   -23.9133     79.361     -0.301      0.763    -180.234     132.407\n",
            "==============================================================================\n",
            "Omnibus:                       97.217   Durbin-Watson:                   2.024\n",
            "Prob(Omnibus):                  0.000   Jarque-Bera (JB):              626.205\n",
            "Skew:                           1.320   Prob(JB):                    1.05e-136\n",
            "Kurtosis:                      10.083   Cond. No.                     2.06e+04\n",
            "==============================================================================\n",
            "\n",
            "Warnings:\n",
            "[1] Standard Errors assume that the covariance matrix of the errors is correctly specified.\n",
            "[2] The condition number is large, 2.06e+04. This might indicate that there are\n",
            "strong multicollinearity or other numerical problems.\n"
          ]
        }
      ]
    },
    {
      "cell_type": "code",
      "metadata": {
        "colab": {
          "base_uri": "https://localhost:8080/"
        },
        "id": "0tLLw0-Dku4S",
        "outputId": "d5b5fb2b-3ace-41b5-eca7-4993d8c1e60d"
      },
      "source": [
        "models_best.loc[2, \"model\"].rsquared"
      ],
      "execution_count": 49,
      "outputs": [
        {
          "output_type": "execute_result",
          "data": {
            "text/plain": [
              "0.7614950002332872"
            ]
          },
          "metadata": {},
          "execution_count": 49
        }
      ]
    },
    {
      "cell_type": "code",
      "metadata": {
        "colab": {
          "base_uri": "https://localhost:8080/"
        },
        "id": "Qk2EOAA4lG5y",
        "outputId": "8e96de08-d6a4-453e-fe2b-f46da18e6236"
      },
      "source": [
        "# Get the second element from each row ('model) and pulls out its rsquared attribute\n",
        "models_best.apply(lambda row: row[1].rsquared, axis=1)"
      ],
      "execution_count": 52,
      "outputs": [
        {
          "output_type": "execute_result",
          "data": {
            "text/plain": [
              "1    0.664637\n",
              "2    0.761495\n",
              "3    0.771757\n",
              "4    0.782885\n",
              "5    0.789008\n",
              "6    0.795140\n",
              "7    0.797728\n",
              "dtype: float64"
            ]
          },
          "metadata": {},
          "execution_count": 52
        }
      ]
    },
    {
      "cell_type": "markdown",
      "metadata": {
        "id": "oFJwB_RdluYH"
      },
      "source": [
        "## Plot RSS, adjusted $R^2$, AIC, and BIC"
      ]
    },
    {
      "cell_type": "code",
      "metadata": {
        "colab": {
          "base_uri": "https://localhost:8080/",
          "height": 655
        },
        "id": "uV0-SwHIlqEW",
        "outputId": "2c2ee05c-6f6c-4429-e1fb-7000d13dd81c"
      },
      "source": [
        "plt.figure(figsize=(20,10))\n",
        "plt.rcParams.update({'font.size': 18, 'lines.markersize': 10})\n",
        "\n",
        "# Set up a 2x2 grid so we can look at 4 plots at once\n",
        "plt.subplot(2, 2, 1)\n",
        "\n",
        "# We will now plot a red dot to indicate the model with the largest adjusted R^2 statistic.\n",
        "# The argmax() function can be used to identify the location of the maximum point of a vector\n",
        "plt.plot(models_best[\"RSS\"])\n",
        "plt.xlabel('# Predictors')\n",
        "plt.ylabel('RSS')\n",
        "\n",
        "# We will now plot a red dot to indicate the model with the largest adjusted R^2 statistic.\n",
        "# The argmax() function can be used to identify the location of the maximum point of a vector\n",
        "\n",
        "rsquared_adj = models_best.apply(lambda row: row[1].rsquared_adj, axis=1)\n",
        "\n",
        "plt.subplot(2, 2, 2)\n",
        "plt.plot(rsquared_adj)\n",
        "plt.plot(rsquared_adj.argmax(), rsquared_adj.max(), \"or\")\n",
        "plt.xlabel('# Predictors')\n",
        "plt.ylabel('adjusted rsquared')\n",
        "\n",
        "# We'll do the same for AIC and BIC, this time looking for the models with the SMALLEST statistic\n",
        "aic = models_best.apply(lambda row: row[1].aic, axis=1)\n",
        "\n",
        "plt.subplot(2, 2, 3)\n",
        "plt.plot(aic)\n",
        "plt.plot(aic.argmin(), aic.min(), \"or\")\n",
        "plt.xlabel('# Predictors')\n",
        "plt.ylabel('AIC')\n",
        "\n",
        "bic = models_best.apply(lambda row: row[1].bic, axis=1)\n",
        "\n",
        "plt.subplot(2, 2, 4)\n",
        "plt.plot(bic)\n",
        "plt.plot(bic.argmin(), bic.min(), \"or\")\n",
        "plt.xlabel('# Predictors')\n",
        "plt.ylabel('BIC')"
      ],
      "execution_count": 53,
      "outputs": [
        {
          "output_type": "execute_result",
          "data": {
            "text/plain": [
              "Text(0, 0.5, 'BIC')"
            ]
          },
          "metadata": {},
          "execution_count": 53
        },
        {
          "output_type": "display_data",
          "data": {
            "image/png": "[encoded data removed]",
            "text/plain": [
              "<Figure size 1440x720 with 4 Axes>"
            ]
          },
          "metadata": {
            "needs_background": "light"
          }
        }
      ]
    },
    {
      "cell_type": "markdown",
      "metadata": {
        "id": "Vw8Y80YEmvlW"
      },
      "source": [
        "A model with 6 varibles is the best acording to AIC. According to AIC and adjusted  $R^2$ something a bit more complex might be better. Again, no one measure is going to give us an entirely accurate picture... but they all agree that a model with 5 or fewer predictors is insufficient."
      ]
    },
    {
      "cell_type": "markdown",
      "metadata": {
        "id": "dbN3bSgNnSWY"
      },
      "source": [
        "## Forward and Backward Stepwise Selection"
      ]
    },
    {
      "cell_type": "code",
      "metadata": {
        "id": "vaZAS_2GnXJ5"
      },
      "source": [
        "def forward(predictors):\n",
        "\n",
        "  # Pull out predictors we still need to process\n",
        "  ramaining_predictors = [p for p in X.columns if p not in predictors]\n",
        "\n",
        "  tic = time.time()\n",
        "  results = []\n",
        "\n",
        "  for p in ramaining_predictors:\n",
        "    results.append(processSubset(predictors + [p]))\n",
        "\n",
        "  # Wrap everything up in a nice dataframe\n",
        "  models = pd.DataFrame(results)\n",
        "\n",
        "  # Choose the model with the highest RSS\n",
        "  best_model = models.loc[models['RSS'].argmin()]\n",
        "\n",
        "  toc = time.time()\n",
        "  print('Processed', models.shape[0], 'models on', len(predictors)+1, 'predictors in', (toc-tic), 'seconds.')\n",
        "  return best_model"
      ],
      "execution_count": 56,
      "outputs": []
    },
    {
      "cell_type": "markdown",
      "metadata": {
        "id": "haunXO8hqDm0"
      },
      "source": [
        "Check the Forward method"
      ]
    },
    {
      "cell_type": "code",
      "metadata": {
        "colab": {
          "base_uri": "https://localhost:8080/"
        },
        "id": "TtYPkkdFqDBX",
        "outputId": "f41fe9e0-cbb3-48c0-beaf-5b18ec301914"
      },
      "source": [
        "models_fwd = pd.DataFrame(columns=['RSS', 'model'])\n",
        "tic = time.time()\n",
        "predictors = []\n",
        "\n",
        "for i in range(1, len(X.columns) + 1):\n",
        "  models_fwd.loc[i] = forward(predictors)\n",
        "  predictors = models_fwd.loc[i]['model'].model.exog_names\n",
        "\n",
        "toc = time.time()\n",
        "\n",
        "print('Total elapse time:', (toc-tic),'seconds.')"
      ],
      "execution_count": 57,
      "outputs": [
        {
          "output_type": "stream",
          "name": "stdout",
          "text": [
            "Processed 19 models on 1 predictors in 0.06740808486938477 seconds.\n",
            "Processed 18 models on 2 predictors in 0.06304478645324707 seconds.\n",
            "Processed 17 models on 3 predictors in 0.058389902114868164 seconds.\n",
            "Processed 16 models on 4 predictors in 0.05737805366516113 seconds.\n",
            "Processed 15 models on 5 predictors in 0.06411552429199219 seconds.\n",
            "Processed 14 models on 6 predictors in 0.0639791488647461 seconds.\n",
            "Processed 13 models on 7 predictors in 0.05559992790222168 seconds.\n",
            "Processed 12 models on 8 predictors in 0.05350613594055176 seconds.\n",
            "Processed 11 models on 9 predictors in 0.08563947677612305 seconds.\n",
            "Processed 10 models on 10 predictors in 0.0744478702545166 seconds.\n",
            "Processed 9 models on 11 predictors in 0.05996584892272949 seconds.\n",
            "Processed 8 models on 12 predictors in 0.07047843933105469 seconds.\n",
            "Processed 7 models on 13 predictors in 0.051175594329833984 seconds.\n",
            "Processed 6 models on 14 predictors in 0.04567980766296387 seconds.\n",
            "Processed 5 models on 15 predictors in 0.025007963180541992 seconds.\n",
            "Processed 4 models on 16 predictors in 0.01831340789794922 seconds.\n",
            "Processed 3 models on 17 predictors in 0.022416114807128906 seconds.\n",
            "Processed 2 models on 18 predictors in 0.02355194091796875 seconds.\n",
            "Processed 1 models on 19 predictors in 0.014005661010742188 seconds.\n",
            "Total elapse time: 1.0966715812683105 seconds.\n"
          ]
        }
      ]
    },
    {
      "cell_type": "code",
      "metadata": {
        "colab": {
          "base_uri": "https://localhost:8080/"
        },
        "id": "78yIguTLr7pT",
        "outputId": "2f6bc62c-ae01-409d-84dc-1804c1a23a5f"
      },
      "source": [
        "print(models_best.loc[6, \"model\"].summary())\n",
        "print(models_fwd.loc[6, \"model\"].summary())"
      ],
      "execution_count": 61,
      "outputs": [
        {
          "output_type": "stream",
          "name": "stdout",
          "text": [
            "                                 OLS Regression Results                                \n",
            "=======================================================================================\n",
            "Dep. Variable:                 Salary   R-squared (uncentered):                   0.795\n",
            "Model:                            OLS   Adj. R-squared (uncentered):              0.790\n",
            "Method:                 Least Squares   F-statistic:                              166.3\n",
            "Date:                Fri, 03 Sep 2021   Prob (F-statistic):                    1.79e-85\n",
            "Time:                        08:09:28   Log-Likelihood:                         -1887.6\n",
            "No. Observations:                 263   AIC:                                      3787.\n",
            "Df Residuals:                     257   BIC:                                      3809.\n",
            "Df Model:                           6                                                  \n",
            "Covariance Type:            nonrobust                                                  \n",
            "==============================================================================\n",
            "                 coef    std err          t      P>|t|      [0.025      0.975]\n",
            "------------------------------------------------------------------------------\n",
            "AtBat         -1.5488      0.477     -3.248      0.001      -2.488      -0.610\n",
            "Hits           7.0190      1.613      4.352      0.000       3.843      10.195\n",
            "Walks          3.7513      1.212      3.095      0.002       1.364       6.138\n",
            "CRBI           0.6544      0.064     10.218      0.000       0.528       0.781\n",
            "PutOuts        0.2703      0.075      3.614      0.000       0.123       0.418\n",
            "Division_W  -104.4513     37.661     -2.773      0.006    -178.615     -30.287\n",
            "==============================================================================\n",
            "Omnibus:                      106.414   Durbin-Watson:                   1.986\n",
            "Prob(Omnibus):                  0.000   Jarque-Bera (JB):              768.429\n",
            "Skew:                           1.433   Prob(JB):                    1.37e-167\n",
            "Kurtosis:                      10.869   Cond. No.                     1.29e+03\n",
            "==============================================================================\n",
            "\n",
            "Warnings:\n",
            "[1] Standard Errors assume that the covariance matrix of the errors is correctly specified.\n",
            "[2] The condition number is large, 1.29e+03. This might indicate that there are\n",
            "strong multicollinearity or other numerical problems.\n",
            "                                 OLS Regression Results                                \n",
            "=======================================================================================\n",
            "Dep. Variable:                 Salary   R-squared (uncentered):                   0.795\n",
            "Model:                            OLS   Adj. R-squared (uncentered):              0.790\n",
            "Method:                 Least Squares   F-statistic:                              166.3\n",
            "Date:                Fri, 03 Sep 2021   Prob (F-statistic):                    1.79e-85\n",
            "Time:                        08:09:28   Log-Likelihood:                         -1887.6\n",
            "No. Observations:                 263   AIC:                                      3787.\n",
            "Df Residuals:                     257   BIC:                                      3809.\n",
            "Df Model:                           6                                                  \n",
            "Covariance Type:            nonrobust                                                  \n",
            "==============================================================================\n",
            "                 coef    std err          t      P>|t|      [0.025      0.975]\n",
            "------------------------------------------------------------------------------\n",
            "Hits           7.0190      1.613      4.352      0.000       3.843      10.195\n",
            "CRBI           0.6544      0.064     10.218      0.000       0.528       0.781\n",
            "Division_W  -104.4513     37.661     -2.773      0.006    -178.615     -30.287\n",
            "PutOuts        0.2703      0.075      3.614      0.000       0.123       0.418\n",
            "AtBat         -1.5488      0.477     -3.248      0.001      -2.488      -0.610\n",
            "Walks          3.7513      1.212      3.095      0.002       1.364       6.138\n",
            "==============================================================================\n",
            "Omnibus:                      106.414   Durbin-Watson:                   1.986\n",
            "Prob(Omnibus):                  0.000   Jarque-Bera (JB):              768.429\n",
            "Skew:                           1.433   Prob(JB):                    1.37e-167\n",
            "Kurtosis:                      10.869   Cond. No.                     1.29e+03\n",
            "==============================================================================\n",
            "\n",
            "Warnings:\n",
            "[1] Standard Errors assume that the covariance matrix of the errors is correctly specified.\n",
            "[2] The condition number is large, 1.29e+03. This might indicate that there are\n",
            "strong multicollinearity or other numerical problems.\n"
          ]
        }
      ]
    },
    {
      "cell_type": "markdown",
      "metadata": {
        "id": "tGzW_-GntPN0"
      },
      "source": [
        "## Backward Selection"
      ]
    },
    {
      "cell_type": "code",
      "metadata": {
        "id": "qn9pJa6ZtVBZ"
      },
      "source": [
        "def backward(predictors):\n",
        "\n",
        "  # Pull out predictors we still need to process\n",
        "  #ramaining_predictors = [p for p in X.columns if p not in predictors]\n",
        "\n",
        "  tic = time.time()\n",
        "  results = []\n",
        "\n",
        "  for combo in itertools.combinations(predictors, len(predictors)-1):\n",
        "    results.append(processSubset(combo))\n",
        "\n",
        "  # Wrap everything up in a nice dataframe\n",
        "  models = pd.DataFrame(results)\n",
        "\n",
        "  # Choose the model with the highest RSS\n",
        "  best_model = models.loc[models['RSS'].argmin()]\n",
        "\n",
        "  toc = time.time()\n",
        "  print('Processed', models.shape[0], 'models on', len(predictors)+1, 'predictors in', (toc-tic), 'seconds.')\n",
        "  return best_model"
      ],
      "execution_count": 62,
      "outputs": []
    },
    {
      "cell_type": "code",
      "metadata": {
        "colab": {
          "base_uri": "https://localhost:8080/"
        },
        "id": "hW4jKcW6uroV",
        "outputId": "744c755b-758e-453f-b8f2-0b3883643c94"
      },
      "source": [
        "models_bwd = pd.DataFrame(columns=['RSS', 'model'], index = range(1, len(X.columns)))\n",
        "\n",
        "tic = time.time()\n",
        "predictors = X.columns\n",
        "\n",
        "while(len(predictors)>1):\n",
        "  models_bwd.loc[len(predictors)-1] = backward(predictors)\n",
        "  predictors = models_bwd.loc[len(predictors)-1]['model'].model.exog_names\n",
        "\n",
        "toc = time.time()\n",
        "\n",
        "print('Total elapse time:', (toc-tic),'seconds.')"
      ],
      "execution_count": 64,
      "outputs": [
        {
          "output_type": "stream",
          "name": "stdout",
          "text": [
            "Processed 19 models on 20 predictors in 0.1202399730682373 seconds.\n",
            "Processed 18 models on 19 predictors in 0.10021519660949707 seconds.\n",
            "Processed 17 models on 18 predictors in 0.0966651439666748 seconds.\n",
            "Processed 16 models on 17 predictors in 0.06502795219421387 seconds.\n",
            "Processed 15 models on 16 predictors in 0.053488731384277344 seconds.\n",
            "Processed 14 models on 15 predictors in 0.04804253578186035 seconds.\n",
            "Processed 13 models on 14 predictors in 0.0755763053894043 seconds.\n",
            "Processed 12 models on 13 predictors in 0.06361794471740723 seconds.\n",
            "Processed 11 models on 12 predictors in 0.05710101127624512 seconds.\n",
            "Processed 10 models on 11 predictors in 0.06824731826782227 seconds.\n",
            "Processed 9 models on 10 predictors in 0.05844902992248535 seconds.\n",
            "Processed 8 models on 9 predictors in 0.057961463928222656 seconds.\n",
            "Processed 7 models on 8 predictors in 0.03155159950256348 seconds.\n",
            "Processed 6 models on 7 predictors in 0.024949312210083008 seconds.\n",
            "Processed 5 models on 6 predictors in 0.019716978073120117 seconds.\n",
            "Processed 4 models on 5 predictors in 0.020186662673950195 seconds.\n",
            "Processed 3 models on 4 predictors in 0.00980687141418457 seconds.\n",
            "Processed 2 models on 3 predictors in 0.008385658264160156 seconds.\n",
            "Total elapse time: 1.0457124710083008 seconds.\n"
          ]
        }
      ]
    },
    {
      "cell_type": "code",
      "metadata": {
        "colab": {
          "base_uri": "https://localhost:8080/"
        },
        "id": "IomfvWfdz4xw",
        "outputId": "65727363-a97b-4d11-f3d6-150848013a47"
      },
      "source": [
        "print(\"------------\")\n",
        "print(\"Best Subset:\")\n",
        "print(\"------------\")\n",
        "print(models_best.loc[7, \"model\"].params)"
      ],
      "execution_count": 65,
      "outputs": [
        {
          "output_type": "stream",
          "name": "stdout",
          "text": [
            "------------\n",
            "Best Subset:\n",
            "------------\n",
            "Hits            1.680029\n",
            "Walks           3.399961\n",
            "CAtBat         -0.328835\n",
            "CHits           1.347017\n",
            "CHmRun          1.349373\n",
            "PutOuts         0.248166\n",
            "Division_W   -111.943760\n",
            "dtype: float64\n"
          ]
        }
      ]
    },
    {
      "cell_type": "code",
      "metadata": {
        "colab": {
          "base_uri": "https://localhost:8080/"
        },
        "id": "r-HODnENz_Fg",
        "outputId": "9445300b-da3d-4391-e3b7-226bf41ee8e4"
      },
      "source": [
        "print(\"-----------------\")\n",
        "print(\"Foward Selection:\")\n",
        "print(\"-----------------\")\n",
        "print(models_fwd.loc[7, \"model\"].params)"
      ],
      "execution_count": 66,
      "outputs": [
        {
          "output_type": "stream",
          "name": "stdout",
          "text": [
            "-----------------\n",
            "Foward Selection:\n",
            "-----------------\n",
            "Hits            7.277149\n",
            "CRBI            0.652415\n",
            "Division_W   -110.656338\n",
            "PutOuts         0.259787\n",
            "AtBat          -1.644651\n",
            "Walks           3.684324\n",
            "League_N       49.978410\n",
            "dtype: float64\n"
          ]
        }
      ]
    },
    {
      "cell_type": "code",
      "metadata": {
        "colab": {
          "base_uri": "https://localhost:8080/"
        },
        "id": "ZxQrWTmf0C1t",
        "outputId": "d712454d-830b-4473-c98a-91a89ccb75bb"
      },
      "source": [
        "print(\"-------------------\")\n",
        "print(\"Backward Selection:\")\n",
        "print(\"-------------------\")\n",
        "print(models_bwd.loc[7, \"model\"].params)"
      ],
      "execution_count": 67,
      "outputs": [
        {
          "output_type": "stream",
          "name": "stdout",
          "text": [
            "-------------------\n",
            "Backward Selection:\n",
            "-------------------\n",
            "AtBat         -1.601655\n",
            "Hits           6.148449\n",
            "Walks          5.866033\n",
            "CRuns          1.097453\n",
            "CWalks        -0.650614\n",
            "PutOuts        0.310125\n",
            "Division_W   -95.027171\n",
            "dtype: float64\n"
          ]
        }
      ]
    }
  ]
}