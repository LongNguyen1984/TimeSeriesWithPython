{
  "nbformat": 4,
  "nbformat_minor": 0,
  "metadata": {
    "colab": {
      "name": "ClassExamples.ipynb",
      "provenance": [],
      "authorship_tag": "ABX9TyNc/B8/jXZnm6cH6gRpDT2C",
      "include_colab_link": true
    },
    "kernelspec": {
      "name": "python3",
      "display_name": "Python 3"
    },
    "language_info": {
      "name": "python"
    }
  },
  "cells": [
    {
      "cell_type": "markdown",
      "metadata": {
        "id": "view-in-github",
        "colab_type": "text"
      },
      "source": [
        "<a href=\"https://colab.research.google.com/github/LongNguyen1984/TimeSeriesWithPython/blob/main/ClassExamples.ipynb\" target=\"_parent\"><img src=\"https://colab.research.google.com/assets/colab-badge.svg\" alt=\"Open In Colab\"/></a>"
      ]
    },
    {
      "cell_type": "code",
      "metadata": {
        "id": "4vqc9FGzpJyT"
      },
      "source": [
        "class Dog:\n",
        "   pass ### place a holder\n"
      ],
      "execution_count": null,
      "outputs": []
    },
    {
      "cell_type": "markdown",
      "metadata": {
        "id": "jU0LkAUvqEAU"
      },
      "source": [
        "### __init__() tell the method belongs to the Dog class"
      ]
    },
    {
      "cell_type": "code",
      "metadata": {
        "id": "uERiSe5GpWWw"
      },
      "source": [
        "class Dog:\n",
        "  def __init__(self, name, age):\n",
        "    self.name = name\n",
        "    self.age = age"
      ],
      "execution_count": null,
      "outputs": []
    },
    {
      "cell_type": "markdown",
      "metadata": {
        "id": "csnXYYe_qlRK"
      },
      "source": [
        "### class attributes"
      ]
    },
    {
      "cell_type": "code",
      "metadata": {
        "id": "xiRc49cdqR8l"
      },
      "source": [
        "class Dog:\n",
        "  species = \"Canis familiaris\"\n",
        "\n",
        "  def __init__(self, name, age):\n",
        "    self.name = name\n",
        "    self.age = age"
      ],
      "execution_count": null,
      "outputs": []
    },
    {
      "cell_type": "code",
      "metadata": {
        "colab": {
          "base_uri": "https://localhost:8080/"
        },
        "id": "d6aRlYguq3Ly",
        "outputId": "f769e756-0cce-40e3-c3c1-ba9533cb7ad5"
      },
      "source": [
        "Dog()"
      ],
      "execution_count": null,
      "outputs": [
        {
          "output_type": "execute_result",
          "data": {
            "text/plain": [
              "<__main__.Dog at 0x7fa3a4265ed0>"
            ]
          },
          "metadata": {},
          "execution_count": 6
        }
      ]
    },
    {
      "cell_type": "code",
      "metadata": {
        "colab": {
          "base_uri": "https://localhost:8080/"
        },
        "id": "GQMPnNh-rHAj",
        "outputId": "714cbcf5-c801-4f8f-bb6b-8735e571ad0b"
      },
      "source": [
        "a = Dog()\n",
        "b = Dog()\n",
        "a==b"
      ],
      "execution_count": null,
      "outputs": [
        {
          "output_type": "execute_result",
          "data": {
            "text/plain": [
              "False"
            ]
          },
          "metadata": {},
          "execution_count": 8
        }
      ]
    },
    {
      "cell_type": "code",
      "metadata": {
        "id": "mWaP32wVso2S"
      },
      "source": [
        "buddy = Dog('Buddy', 9)\n",
        "miles = Dog('Miles', 4)"
      ],
      "execution_count": null,
      "outputs": []
    },
    {
      "cell_type": "code",
      "metadata": {
        "colab": {
          "base_uri": "https://localhost:8080/"
        },
        "id": "OZzL_ldRtKch",
        "outputId": "1ae15fe3-0a6f-454c-99b6-664538dffb49"
      },
      "source": [
        "buddy.name, buddy.age"
      ],
      "execution_count": null,
      "outputs": [
        {
          "output_type": "execute_result",
          "data": {
            "text/plain": [
              "('Buddy', 9)"
            ]
          },
          "metadata": {},
          "execution_count": 11
        }
      ]
    },
    {
      "cell_type": "code",
      "metadata": {
        "colab": {
          "base_uri": "https://localhost:8080/",
          "height": 35
        },
        "id": "AgCU88I1tPpw",
        "outputId": "75a931a0-f47d-4ba7-83d2-2444d2041915"
      },
      "source": [
        "buddy.species"
      ],
      "execution_count": null,
      "outputs": [
        {
          "output_type": "execute_result",
          "data": {
            "application/vnd.google.colaboratory.intrinsic+json": {
              "type": "string"
            },
            "text/plain": [
              "'Canis familiaris'"
            ]
          },
          "metadata": {},
          "execution_count": 12
        }
      ]
    },
    {
      "cell_type": "code",
      "metadata": {
        "id": "gsHPbSVhtYCB"
      },
      "source": [
        "miles.species = 'Felis silvestris'"
      ],
      "execution_count": null,
      "outputs": []
    },
    {
      "cell_type": "markdown",
      "metadata": {
        "id": "BrerqG-Ytvhh"
      },
      "source": [
        "### Instance methods"
      ]
    },
    {
      "cell_type": "code",
      "metadata": {
        "id": "g9S3QVEBtzoY"
      },
      "source": [
        "class Dog:\n",
        "  species = \"Canis familiaris\"\n",
        "\n",
        "  def __init__(self, name, age):\n",
        "    self.name = name\n",
        "    self.age = age\n",
        "\n",
        "  # Instance method\n",
        "  def description(self):\n",
        "    return f'{self.name} is {self.age} years old'\n",
        "\n",
        "  # Another instance method\n",
        "  def speak(self, sound):\n",
        "    return f'{self.name} says {sound}'"
      ],
      "execution_count": null,
      "outputs": []
    },
    {
      "cell_type": "code",
      "metadata": {
        "id": "DE6j4AUDugRC"
      },
      "source": [
        "miles = Dog('Miles', 4)"
      ],
      "execution_count": null,
      "outputs": []
    },
    {
      "cell_type": "code",
      "metadata": {
        "colab": {
          "base_uri": "https://localhost:8080/",
          "height": 35
        },
        "id": "hgLt-AzAurOv",
        "outputId": "69b160d0-ffc9-4bdc-d5f5-50cb4d0884bf"
      },
      "source": [
        "miles.description()"
      ],
      "execution_count": null,
      "outputs": [
        {
          "output_type": "execute_result",
          "data": {
            "application/vnd.google.colaboratory.intrinsic+json": {
              "type": "string"
            },
            "text/plain": [
              "'Miles is 4 years old'"
            ]
          },
          "metadata": {},
          "execution_count": 16
        }
      ]
    },
    {
      "cell_type": "code",
      "metadata": {
        "colab": {
          "base_uri": "https://localhost:8080/",
          "height": 35
        },
        "id": "n6BIt4F2uvli",
        "outputId": "e5902aba-ef47-4456-903b-fb6ce7bd0716"
      },
      "source": [
        "miles.speak('Woof woof')"
      ],
      "execution_count": null,
      "outputs": [
        {
          "output_type": "execute_result",
          "data": {
            "application/vnd.google.colaboratory.intrinsic+json": {
              "type": "string"
            },
            "text/plain": [
              "'Miles says Woof woof'"
            ]
          },
          "metadata": {},
          "execution_count": 17
        }
      ]
    },
    {
      "cell_type": "code",
      "metadata": {
        "id": "Xqc1aowjvgrK"
      },
      "source": [
        "class Dog:\n",
        "  # Leave other parts of Dog class as-is\n",
        "  species = \"Canis familiaris\"\n",
        "\n",
        "  def __init__(self, name, age):\n",
        "    self.name = name\n",
        "    self.age = age\n",
        "  # Replace .description() with __str__()\n",
        "  def __str__(self):\n",
        "    return f'{self.name} is {self.age} years old'\n"
      ],
      "execution_count": null,
      "outputs": []
    },
    {
      "cell_type": "code",
      "metadata": {
        "colab": {
          "base_uri": "https://localhost:8080/"
        },
        "id": "GOS3gAvVv3ar",
        "outputId": "f14e8dc2-3117-4cf3-9e8a-fb4b39a74214"
      },
      "source": [
        "miles = Dog('Miles', 4)\n",
        "print(miles)"
      ],
      "execution_count": null,
      "outputs": [
        {
          "output_type": "stream",
          "text": [
            "Miles is 4 years old\n"
          ],
          "name": "stdout"
        }
      ]
    },
    {
      "cell_type": "markdown",
      "metadata": {
        "id": "aEICemIZwsjl"
      },
      "source": [
        "Excercises\n",
        "1. Modify the Dog class to include a third instance attribute called\n",
        "coat_color"
      ]
    },
    {
      "cell_type": "code",
      "metadata": {
        "id": "jroStd2Ew3aG"
      },
      "source": [
        "class Dog:\n",
        "  # Leave other parts of Dog class as-is\n",
        "  species = \"Canis familiaris\"\n",
        "\n",
        "  def __init__(self, name, age, color):\n",
        "    self.name = name\n",
        "    self.age = age\n",
        "    self.coat_color = color\n",
        "  # Replace .description() with __str__()\n",
        "  def __str__(self):\n",
        "    return f'{self.name} is {self.age} years old'\n",
        "  \n",
        "  "
      ],
      "execution_count": null,
      "outputs": []
    },
    {
      "cell_type": "code",
      "metadata": {
        "colab": {
          "base_uri": "https://localhost:8080/"
        },
        "id": "QW3_iF4GzhoT",
        "outputId": "59e7faef-3238-4d8b-8250-bd676fa02e37"
      },
      "source": [
        "philo = Dog(\"Philo\", 5, \"brown\")\n",
        "print(f\"{philo.name}'s coat is {philo.coat_color}.\")\n"
      ],
      "execution_count": null,
      "outputs": [
        {
          "output_type": "stream",
          "text": [
            "Philo's coat is brown.\n"
          ],
          "name": "stdout"
        }
      ]
    },
    {
      "cell_type": "code",
      "metadata": {
        "colab": {
          "base_uri": "https://localhost:8080/"
        },
        "id": "xH5U3j0p0fWz",
        "outputId": "1bd6655a-b752-4b49-d61e-619c09110250"
      },
      "source": [
        "print(philo.coat_color)"
      ],
      "execution_count": null,
      "outputs": [
        {
          "output_type": "stream",
          "text": [
            "Philo is 5 years old\n"
          ],
          "name": "stdout"
        }
      ]
    },
    {
      "cell_type": "markdown",
      "metadata": {
        "id": "vgJqeHfFVeJ-"
      },
      "source": [
        "### Inherit from other classes"
      ]
    },
    {
      "cell_type": "code",
      "metadata": {
        "id": "xGhKF9S6VhLF"
      },
      "source": [
        "class Dog:\n",
        "  species = \"Canis familiaris\"\n",
        "\n",
        "  def __init__(self, name, age, breed):\n",
        "    self.name = name\n",
        "    self.age = age\n",
        "    self.breed =breed\n",
        "  \n",
        "  def speak(self, sound):\n",
        "    print(f'{self.name} says {sound}')"
      ],
      "execution_count": 7,
      "outputs": []
    },
    {
      "cell_type": "code",
      "metadata": {
        "id": "z_gDjVnxWFgM"
      },
      "source": [
        "miles = Dog('Miles', 4 , \"Jack Russel Terrier\")\n",
        "buddy = Dog('Buddy', 9, 'Dachshund')\n",
        "jack = Dog('Jack', 3, 'Bulldog')\n",
        "jim = Dog('Jim', 5, 'Bulldog')"
      ],
      "execution_count": 8,
      "outputs": []
    },
    {
      "cell_type": "code",
      "metadata": {
        "colab": {
          "base_uri": "https://localhost:8080/"
        },
        "id": "2LP0EPjzWfO1",
        "outputId": "ff676c32-ed37-45d3-d162-7c9495537866"
      },
      "source": [
        "buddy.speak(\"Yap\")"
      ],
      "execution_count": 9,
      "outputs": [
        {
          "output_type": "stream",
          "text": [
            "Buddy says Yap\n"
          ],
          "name": "stdout"
        }
      ]
    },
    {
      "cell_type": "markdown",
      "metadata": {
        "id": "ukQZ1dL8XUl0"
      },
      "source": [
        "### Child Class"
      ]
    },
    {
      "cell_type": "code",
      "metadata": {
        "id": "z-YW6MI2XkG0"
      },
      "source": [
        "class Dog:\n",
        "  species = \"Canis familiaris\"\n",
        "\n",
        "  def __init__(self, name, age):\n",
        "    self.name = name\n",
        "    self.age = age\n",
        " \n",
        "  def __str__(self):\n",
        "    return f'{self.name} is {self.age} year old'\n",
        "\n",
        "  def speak(self, sound):\n",
        "    print(f'{self.name} says {sound}')"
      ],
      "execution_count": 12,
      "outputs": []
    },
    {
      "cell_type": "code",
      "metadata": {
        "id": "oDmcQv57YeHg"
      },
      "source": [
        "class JackRusselTerrier(Dog):\n",
        "  def speak(self, sound = 'Arf'):\n",
        "    return f'{self.name} says {sound}'\n",
        "\n",
        "class Dachshund(Dog):\n",
        "  pass\n",
        "\n",
        "class Bulldog(Dog):\n",
        "  pass\n",
        "\n"
      ],
      "execution_count": 19,
      "outputs": []
    },
    {
      "cell_type": "code",
      "metadata": {
        "id": "iSG_oei6Ys_K"
      },
      "source": [
        "miles = JackRusselTerrier('Mile', 4)\n",
        "buddy = Dachshund('Buddy', 9)\n",
        "jack = Bulldog('Jack', 3)\n",
        "jim = Bulldog('Jim', 5)"
      ],
      "execution_count": 20,
      "outputs": []
    },
    {
      "cell_type": "code",
      "metadata": {
        "colab": {
          "base_uri": "https://localhost:8080/"
        },
        "id": "-rIPCkTyZC30",
        "outputId": "612b7bda-3e70-40ef-f315-611fef1626ec"
      },
      "source": [
        "print(jack)"
      ],
      "execution_count": 15,
      "outputs": [
        {
          "output_type": "stream",
          "text": [
            "Jack is 3 year old\n"
          ],
          "name": "stdout"
        }
      ]
    },
    {
      "cell_type": "code",
      "metadata": {
        "colab": {
          "base_uri": "https://localhost:8080/"
        },
        "id": "2ydi65RUZMQl",
        "outputId": "f6da23cd-3fb1-474c-d027-338eff04af10"
      },
      "source": [
        "isinstance(miles, Dog)"
      ],
      "execution_count": 16,
      "outputs": [
        {
          "output_type": "execute_result",
          "data": {
            "text/plain": [
              "True"
            ]
          },
          "metadata": {},
          "execution_count": 16
        }
      ]
    },
    {
      "cell_type": "code",
      "metadata": {
        "colab": {
          "base_uri": "https://localhost:8080/",
          "height": 35
        },
        "id": "jZUW7c3WZm0V",
        "outputId": "66dd5c32-c97a-4a4c-b614-e449c0d13678"
      },
      "source": [
        "miles.speak()"
      ],
      "execution_count": 21,
      "outputs": [
        {
          "output_type": "execute_result",
          "data": {
            "application/vnd.google.colaboratory.intrinsic+json": {
              "type": "string"
            },
            "text/plain": [
              "'Mile says Arf'"
            ]
          },
          "metadata": {},
          "execution_count": 21
        }
      ]
    },
    {
      "cell_type": "markdown",
      "metadata": {
        "id": "gRVORqi6Z_g1"
      },
      "source": [
        "### Access to the parent class using super()"
      ]
    },
    {
      "cell_type": "code",
      "metadata": {
        "id": "1C6xmo_ZaGm9"
      },
      "source": [
        "class JackRusselTerrier(Dog):\n",
        "  def speak(self, sound='Arf'):\n",
        "    return super().speak(sound)"
      ],
      "execution_count": 22,
      "outputs": []
    },
    {
      "cell_type": "code",
      "metadata": {
        "colab": {
          "base_uri": "https://localhost:8080/"
        },
        "id": "5H3ZMG7CaUmD",
        "outputId": "3b041008-a423-4090-f859-443fc964fffe"
      },
      "source": [
        "miles = JackRusselTerrier('Miles', 4)\n",
        "miles.speak()"
      ],
      "execution_count": 23,
      "outputs": [
        {
          "output_type": "stream",
          "text": [
            "Miles says Arf\n"
          ],
          "name": "stdout"
        }
      ]
    },
    {
      "cell_type": "markdown",
      "metadata": {
        "id": "eYxaEZ9ZbMqm"
      },
      "source": [
        "### Review Exercises"
      ]
    },
    {
      "cell_type": "markdown",
      "metadata": {
        "id": "KVRHdAs8cFm2"
      },
      "source": [
        "1. Create a GoldenRetriever class that inherits from the Dog"
      ]
    },
    {
      "cell_type": "code",
      "metadata": {
        "id": "bfeDZxr3aUtq"
      },
      "source": [
        "class GoldenRetriever(Dog):\n",
        "  def speak(self, sound='Bark'):\n",
        "    return super().speak(sound)\n"
      ],
      "execution_count": 24,
      "outputs": []
    },
    {
      "cell_type": "code",
      "metadata": {
        "colab": {
          "base_uri": "https://localhost:8080/"
        },
        "id": "msBwfs-8cWgZ",
        "outputId": "caecd480-fc99-4bd0-dc4c-e490475deb42"
      },
      "source": [
        "lucky = GoldenRetriever('Lucky', 3)\n",
        "lucky.speak()"
      ],
      "execution_count": 25,
      "outputs": [
        {
          "output_type": "stream",
          "text": [
            "Lucky says Bark\n"
          ],
          "name": "stdout"
        }
      ]
    },
    {
      "cell_type": "markdown",
      "metadata": {
        "id": "Xch6z5jxci4j"
      },
      "source": [
        "2. Write a Rectangle class that must be instantiated with two attributes:\n",
        ".length and .width. Add an .area() method to the class\n",
        "that returns the area (length * width) of the rectangle."
      ]
    },
    {
      "cell_type": "code",
      "metadata": {
        "id": "6f8fCEylco5d"
      },
      "source": [
        "class Rectangle:\n",
        "\n",
        "  def __init__(self, length, width):\n",
        "    self.length = length\n",
        "    self.width = width\n",
        "\n",
        "  def __str__(self):\n",
        "    return f'The rectangle has width = {self.width} and length = {self.length}'\n",
        "\n",
        "  def area(self):\n",
        "    return self.length*self.width"
      ],
      "execution_count": 28,
      "outputs": []
    },
    {
      "cell_type": "code",
      "metadata": {
        "colab": {
          "base_uri": "https://localhost:8080/"
        },
        "id": "sMWy_O-nd1I-",
        "outputId": "a71d8ddb-7b19-4719-9067-118c03722657"
      },
      "source": [
        "A = Rectangle(4,5)\n",
        "print(A)\n",
        "A.area()"
      ],
      "execution_count": 30,
      "outputs": [
        {
          "output_type": "stream",
          "text": [
            "The rectangle has width = 5 and length = 4\n"
          ],
          "name": "stdout"
        },
        {
          "output_type": "execute_result",
          "data": {
            "text/plain": [
              "20"
            ]
          },
          "metadata": {},
          "execution_count": 30
        }
      ]
    },
    {
      "cell_type": "code",
      "metadata": {
        "id": "fnKdseqLd_dH"
      },
      "source": [
        "class Square(Rectangle):\n",
        "  def __init__(self, side_length):\n",
        "    super().__init__(side_length, side_length)\n",
        "\n",
        "  def area(self):\n",
        "    #super().(self.side_length, self.side_length)\n",
        "    return super().area()"
      ],
      "execution_count": 54,
      "outputs": []
    },
    {
      "cell_type": "code",
      "metadata": {
        "id": "pDPW8t1Ze6cW"
      },
      "source": [
        "b =Square(4)"
      ],
      "execution_count": 55,
      "outputs": []
    },
    {
      "cell_type": "code",
      "metadata": {
        "id": "GVFZgOIBfpBl"
      },
      "source": [
        "b.width = 5"
      ],
      "execution_count": 58,
      "outputs": []
    },
    {
      "cell_type": "code",
      "metadata": {
        "colab": {
          "base_uri": "https://localhost:8080/"
        },
        "id": "QoMAqfrDlqHa",
        "outputId": "af329d1b-402d-47eb-d53f-b2daa71341ea"
      },
      "source": [
        "b.area()"
      ],
      "execution_count": 59,
      "outputs": [
        {
          "output_type": "execute_result",
          "data": {
            "text/plain": [
              "20"
            ]
          },
          "metadata": {},
          "execution_count": 59
        }
      ]
    },
    {
      "cell_type": "markdown",
      "metadata": {
        "id": "AKLLHCNusKND"
      },
      "source": [
        "10.4 Challenge: Model a Farm"
      ]
    },
    {
      "cell_type": "code",
      "metadata": {
        "id": "aHsds6ZesRpQ"
      },
      "source": [
        "class Animal:\n",
        "  # Class attributes\n",
        "  stuff_in_belly = 0\n",
        "  position = 0\n",
        "\n",
        "  def __init__(self, name, color):\n",
        "    self.name = name\n",
        "    self.color = color\n",
        "    #self.behavior = behavior\n",
        "\n",
        "  def __str__(self):\n",
        "    return f'Animal specie is {self.name}'\n",
        "  \n",
        "  def talk(self, sound=None):\n",
        "\n",
        "    if sound == None:\n",
        "      return f'Hello, my name is {self.name}'\n",
        "    else:\n",
        "      return f'{self.name} says {sound}'\n",
        "  \n",
        "  def is_hungry(self):\n",
        "    if self.stuff_in_belly < 2:\n",
        "      return f'{self.name} is hungry'\n",
        "    else:\n",
        "      return f'{self.name} is full'\n",
        "  def walk(self, steps):\n",
        "    self.position = self.position + steps\n",
        "    return self.position\n",
        "  def feed(self):\n",
        "    self.stuff_in_belly = self.stuff_in_belly + 1\n",
        "    if self.stuff_in_belly > 3:\n",
        "      return self.poop()\n",
        "    else:\n",
        "      return f\"{self.name} is eating.\"\n",
        "  def poop(self):\n",
        "    self.stuff_in_belly = 0\n",
        "    return \"Ate too much ... need to find a bathroom\"\n",
        "class Dog(Animal):\n",
        "  def talk(self, sound=\"Bark Bark!\"):\n",
        "        return super().talk(sound)\n",
        "\n",
        "class Sheep(Animal):\n",
        "  def talk(self, sound=\"Baaa Baaa\"):\n",
        "        return super().talk(sound)\n",
        "\n",
        "\n",
        "class Bird(Animal):\n",
        "  def talk(self, sound=\"Twist Twist\"):\n",
        "        return super().talk(sound)\n",
        "\n",
        "  "
      ],
      "execution_count": 68,
      "outputs": []
    },
    {
      "cell_type": "code",
      "metadata": {
        "id": "HACpka6_0Tk9"
      },
      "source": [
        "billy =Dog('Billy', 'brown')"
      ],
      "execution_count": 69,
      "outputs": []
    },
    {
      "cell_type": "code",
      "metadata": {
        "colab": {
          "base_uri": "https://localhost:8080/"
        },
        "id": "oC54OAVH0aI_",
        "outputId": "bbdb6169-d746-4ac4-8dee-f64467045e5b"
      },
      "source": [
        "billy.talk()\n",
        "billy.walk(4)"
      ],
      "execution_count": 70,
      "outputs": [
        {
          "output_type": "execute_result",
          "data": {
            "text/plain": [
              "4"
            ]
          },
          "metadata": {},
          "execution_count": 70
        }
      ]
    },
    {
      "cell_type": "code",
      "metadata": {
        "colab": {
          "base_uri": "https://localhost:8080/",
          "height": 35
        },
        "id": "-Bva9d9G0mSV",
        "outputId": "93ef8b70-b30f-456e-bce0-b8dc7054a6ce"
      },
      "source": [
        "billy.is_hungry()"
      ],
      "execution_count": 76,
      "outputs": [
        {
          "output_type": "execute_result",
          "data": {
            "application/vnd.google.colaboratory.intrinsic+json": {
              "type": "string"
            },
            "text/plain": [
              "'Billy is full'"
            ]
          },
          "metadata": {},
          "execution_count": 76
        }
      ]
    },
    {
      "cell_type": "code",
      "metadata": {
        "colab": {
          "base_uri": "https://localhost:8080/",
          "height": 35
        },
        "id": "lyR90Ap_06IW",
        "outputId": "e763d309-d197-4051-ff49-523be64cb931"
      },
      "source": [
        "billy.feed()"
      ],
      "execution_count": 77,
      "outputs": [
        {
          "output_type": "execute_result",
          "data": {
            "application/vnd.google.colaboratory.intrinsic+json": {
              "type": "string"
            },
            "text/plain": [
              "'Ate too much ... need to find a bathroom'"
            ]
          },
          "metadata": {},
          "execution_count": 77
        }
      ]
    }
  ]
}