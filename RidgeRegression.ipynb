{
  "nbformat": 4,
  "nbformat_minor": 0,
  "metadata": {
    "colab": {
      "name": "RidgeRegression.ipynb",
      "provenance": [],
      "authorship_tag": "ABX9TyP3ic6gNHJbedInRVJD4bCl",
      "include_colab_link": true
    },
    "kernelspec": {
      "name": "python3",
      "display_name": "Python 3"
    },
    "language_info": {
      "name": "python"
    }
  },
  "cells": [
    {
      "cell_type": "markdown",
      "metadata": {
        "id": "view-in-github",
        "colab_type": "text"
      },
      "source": [
        "<a href=\"https://colab.research.google.com/github/LongNguyen1984/TimeSeriesWithPython/blob/main/RidgeRegression.ipynb\" target=\"_parent\"><img src=\"https://colab.research.google.com/assets/colab-badge.svg\" alt=\"Open In Colab\"/></a>"
      ]
    },
    {
      "cell_type": "code",
      "metadata": {
        "id": "DokahjIvUedE"
      },
      "source": [
        "% matplotlib inline\n",
        "\n",
        "import pandas as pd\n",
        "import numpy as np\n",
        "import matplotlib.pyplot as plt\n",
        "\n",
        "from sklearn.preprocessing import scale\n",
        "from sklearn.model_selection import train_test_split\n",
        "from sklearn.linear_model import Ridge, RidgeCV, Lasso, LassoCV\n",
        "from sklearn.metrics import mean_squared_error\n",
        "\n"
      ],
      "execution_count": null,
      "outputs": []
    },
    {
      "cell_type": "code",
      "metadata": {
        "colab": {
          "base_uri": "https://localhost:8080/"
        },
        "id": "CBP0b943VAV6",
        "outputId": "5e699906-2423-4067-8a73-b54388516e4f"
      },
      "source": [
        "#df = pd.read_csv('https://raw.githubusercontent.com/JWarmenhoven/ISLR-python/master/Notebooks/Data/Hitters.csv').dropna().drop('Player', axis = 1)\n",
        "df = pd.read_csv('https://raw.githubusercontent.com/JWarmenhoven/ISLR-python/master/Notebooks/Data/Hitters.csv').dropna().drop('Unnamed: 0', axis = 1)\n",
        "# because data \n",
        "df.info()\n",
        "dummies = pd.get_dummies(df[['League', 'Division', 'NewLeague']])"
      ],
      "execution_count": null,
      "outputs": [
        {
          "output_type": "stream",
          "name": "stdout",
          "text": [
            "<class 'pandas.core.frame.DataFrame'>\n",
            "Int64Index: 263 entries, 1 to 321\n",
            "Data columns (total 20 columns):\n",
            " #   Column     Non-Null Count  Dtype  \n",
            "---  ------     --------------  -----  \n",
            " 0   AtBat      263 non-null    int64  \n",
            " 1   Hits       263 non-null    int64  \n",
            " 2   HmRun      263 non-null    int64  \n",
            " 3   Runs       263 non-null    int64  \n",
            " 4   RBI        263 non-null    int64  \n",
            " 5   Walks      263 non-null    int64  \n",
            " 6   Years      263 non-null    int64  \n",
            " 7   CAtBat     263 non-null    int64  \n",
            " 8   CHits      263 non-null    int64  \n",
            " 9   CHmRun     263 non-null    int64  \n",
            " 10  CRuns      263 non-null    int64  \n",
            " 11  CRBI       263 non-null    int64  \n",
            " 12  CWalks     263 non-null    int64  \n",
            " 13  League     263 non-null    object \n",
            " 14  Division   263 non-null    object \n",
            " 15  PutOuts    263 non-null    int64  \n",
            " 16  Assists    263 non-null    int64  \n",
            " 17  Errors     263 non-null    int64  \n",
            " 18  Salary     263 non-null    float64\n",
            " 19  NewLeague  263 non-null    object \n",
            "dtypes: float64(1), int64(16), object(3)\n",
            "memory usage: 43.1+ KB\n"
          ]
        }
      ]
    },
    {
      "cell_type": "code",
      "metadata": {
        "colab": {
          "base_uri": "https://localhost:8080/",
          "height": 203
        },
        "id": "yuICFmTfV9YL",
        "outputId": "0f424028-7810-4e36-e02c-0699b5b56281"
      },
      "source": [
        "df.head()"
      ],
      "execution_count": null,
      "outputs": [
        {
          "output_type": "execute_result",
          "data": {
            "text/html": [
              "<div>\n",
              "<style scoped>\n",
              "    .dataframe tbody tr th:only-of-type {\n",
              "        vertical-align: middle;\n",
              "    }\n",
              "\n",
              "    .dataframe tbody tr th {\n",
              "        vertical-align: top;\n",
              "    }\n",
              "\n",
              "    .dataframe thead th {\n",
              "        text-align: right;\n",
              "    }\n",
              "</style>\n",
              "<table border=\"1\" class=\"dataframe\">\n",
              "  <thead>\n",
              "    <tr style=\"text-align: right;\">\n",
              "      <th></th>\n",
              "      <th>AtBat</th>\n",
              "      <th>Hits</th>\n",
              "      <th>HmRun</th>\n",
              "      <th>Runs</th>\n",
              "      <th>RBI</th>\n",
              "      <th>Walks</th>\n",
              "      <th>Years</th>\n",
              "      <th>CAtBat</th>\n",
              "      <th>CHits</th>\n",
              "      <th>CHmRun</th>\n",
              "      <th>CRuns</th>\n",
              "      <th>CRBI</th>\n",
              "      <th>CWalks</th>\n",
              "      <th>League</th>\n",
              "      <th>Division</th>\n",
              "      <th>PutOuts</th>\n",
              "      <th>Assists</th>\n",
              "      <th>Errors</th>\n",
              "      <th>Salary</th>\n",
              "      <th>NewLeague</th>\n",
              "    </tr>\n",
              "  </thead>\n",
              "  <tbody>\n",
              "    <tr>\n",
              "      <th>1</th>\n",
              "      <td>315</td>\n",
              "      <td>81</td>\n",
              "      <td>7</td>\n",
              "      <td>24</td>\n",
              "      <td>38</td>\n",
              "      <td>39</td>\n",
              "      <td>14</td>\n",
              "      <td>3449</td>\n",
              "      <td>835</td>\n",
              "      <td>69</td>\n",
              "      <td>321</td>\n",
              "      <td>414</td>\n",
              "      <td>375</td>\n",
              "      <td>N</td>\n",
              "      <td>W</td>\n",
              "      <td>632</td>\n",
              "      <td>43</td>\n",
              "      <td>10</td>\n",
              "      <td>475.0</td>\n",
              "      <td>N</td>\n",
              "    </tr>\n",
              "    <tr>\n",
              "      <th>2</th>\n",
              "      <td>479</td>\n",
              "      <td>130</td>\n",
              "      <td>18</td>\n",
              "      <td>66</td>\n",
              "      <td>72</td>\n",
              "      <td>76</td>\n",
              "      <td>3</td>\n",
              "      <td>1624</td>\n",
              "      <td>457</td>\n",
              "      <td>63</td>\n",
              "      <td>224</td>\n",
              "      <td>266</td>\n",
              "      <td>263</td>\n",
              "      <td>A</td>\n",
              "      <td>W</td>\n",
              "      <td>880</td>\n",
              "      <td>82</td>\n",
              "      <td>14</td>\n",
              "      <td>480.0</td>\n",
              "      <td>A</td>\n",
              "    </tr>\n",
              "    <tr>\n",
              "      <th>3</th>\n",
              "      <td>496</td>\n",
              "      <td>141</td>\n",
              "      <td>20</td>\n",
              "      <td>65</td>\n",
              "      <td>78</td>\n",
              "      <td>37</td>\n",
              "      <td>11</td>\n",
              "      <td>5628</td>\n",
              "      <td>1575</td>\n",
              "      <td>225</td>\n",
              "      <td>828</td>\n",
              "      <td>838</td>\n",
              "      <td>354</td>\n",
              "      <td>N</td>\n",
              "      <td>E</td>\n",
              "      <td>200</td>\n",
              "      <td>11</td>\n",
              "      <td>3</td>\n",
              "      <td>500.0</td>\n",
              "      <td>N</td>\n",
              "    </tr>\n",
              "    <tr>\n",
              "      <th>4</th>\n",
              "      <td>321</td>\n",
              "      <td>87</td>\n",
              "      <td>10</td>\n",
              "      <td>39</td>\n",
              "      <td>42</td>\n",
              "      <td>30</td>\n",
              "      <td>2</td>\n",
              "      <td>396</td>\n",
              "      <td>101</td>\n",
              "      <td>12</td>\n",
              "      <td>48</td>\n",
              "      <td>46</td>\n",
              "      <td>33</td>\n",
              "      <td>N</td>\n",
              "      <td>E</td>\n",
              "      <td>805</td>\n",
              "      <td>40</td>\n",
              "      <td>4</td>\n",
              "      <td>91.5</td>\n",
              "      <td>N</td>\n",
              "    </tr>\n",
              "    <tr>\n",
              "      <th>5</th>\n",
              "      <td>594</td>\n",
              "      <td>169</td>\n",
              "      <td>4</td>\n",
              "      <td>74</td>\n",
              "      <td>51</td>\n",
              "      <td>35</td>\n",
              "      <td>11</td>\n",
              "      <td>4408</td>\n",
              "      <td>1133</td>\n",
              "      <td>19</td>\n",
              "      <td>501</td>\n",
              "      <td>336</td>\n",
              "      <td>194</td>\n",
              "      <td>A</td>\n",
              "      <td>W</td>\n",
              "      <td>282</td>\n",
              "      <td>421</td>\n",
              "      <td>25</td>\n",
              "      <td>750.0</td>\n",
              "      <td>A</td>\n",
              "    </tr>\n",
              "  </tbody>\n",
              "</table>\n",
              "</div>"
            ],
            "text/plain": [
              "   AtBat  Hits  HmRun  Runs  RBI  ...  PutOuts  Assists  Errors  Salary  NewLeague\n",
              "1    315    81      7    24   38  ...      632       43      10   475.0          N\n",
              "2    479   130     18    66   72  ...      880       82      14   480.0          A\n",
              "3    496   141     20    65   78  ...      200       11       3   500.0          N\n",
              "4    321    87     10    39   42  ...      805       40       4    91.5          N\n",
              "5    594   169      4    74   51  ...      282      421      25   750.0          A\n",
              "\n",
              "[5 rows x 20 columns]"
            ]
          },
          "metadata": {},
          "execution_count": 6
        }
      ]
    },
    {
      "cell_type": "code",
      "metadata": {
        "colab": {
          "base_uri": "https://localhost:8080/"
        },
        "id": "jPEzkjkiWCJJ",
        "outputId": "9c3d4b0a-8d76-46e2-9f7a-9fcfd5575537"
      },
      "source": [
        "y = df.Salary\n",
        "\n",
        "# Drop the column with independent variable (Salary), and columns for which we created dummy variables\n",
        "X_ = df.drop(['Salary', 'League', 'Division', 'NewLeague'], axis = 1).astype('float64')\n",
        "\n",
        "# Define the feature set X.\n",
        "X = pd.concat([X_, dummies[['League_N', 'Division_W', 'NewLeague_N']]], axis=1)\n",
        "\n",
        "X.info()"
      ],
      "execution_count": null,
      "outputs": [
        {
          "output_type": "stream",
          "name": "stdout",
          "text": [
            "<class 'pandas.core.frame.DataFrame'>\n",
            "Int64Index: 263 entries, 1 to 321\n",
            "Data columns (total 19 columns):\n",
            " #   Column       Non-Null Count  Dtype  \n",
            "---  ------       --------------  -----  \n",
            " 0   AtBat        263 non-null    float64\n",
            " 1   Hits         263 non-null    float64\n",
            " 2   HmRun        263 non-null    float64\n",
            " 3   Runs         263 non-null    float64\n",
            " 4   RBI          263 non-null    float64\n",
            " 5   Walks        263 non-null    float64\n",
            " 6   Years        263 non-null    float64\n",
            " 7   CAtBat       263 non-null    float64\n",
            " 8   CHits        263 non-null    float64\n",
            " 9   CHmRun       263 non-null    float64\n",
            " 10  CRuns        263 non-null    float64\n",
            " 11  CRBI         263 non-null    float64\n",
            " 12  CWalks       263 non-null    float64\n",
            " 13  PutOuts      263 non-null    float64\n",
            " 14  Assists      263 non-null    float64\n",
            " 15  Errors       263 non-null    float64\n",
            " 16  League_N     263 non-null    uint8  \n",
            " 17  Division_W   263 non-null    uint8  \n",
            " 18  NewLeague_N  263 non-null    uint8  \n",
            "dtypes: float64(16), uint8(3)\n",
            "memory usage: 35.7 KB\n"
          ]
        }
      ]
    },
    {
      "cell_type": "markdown",
      "metadata": {
        "id": "0P1mYy4HXIh7"
      },
      "source": [
        "Ridge() function has an alpha argument ($\\lambda$) for tuning the model. "
      ]
    },
    {
      "cell_type": "code",
      "metadata": {
        "id": "2boRicSOW2nf"
      },
      "source": [
        "alphas = 10**np.linspace(10,-2,100)*0.5\n",
        "alphas"
      ],
      "execution_count": null,
      "outputs": []
    },
    {
      "cell_type": "code",
      "metadata": {
        "id": "rctZydG1W7Ot",
        "colab": {
          "base_uri": "https://localhost:8080/"
        },
        "outputId": "8db6e7d0-6488-444c-bef2-9b296152e3a4"
      },
      "source": [
        "ridge = Ridge(normalize= True)\n",
        "coefs = []\n",
        "\n",
        "for a in alphas:\n",
        "  ridge.set_params(alpha = a)\n",
        "  ridge.fit(X, y)\n",
        "  coefs.append(ridge.coef_)\n",
        "\n",
        "np.shape(coefs)"
      ],
      "execution_count": 13,
      "outputs": [
        {
          "output_type": "execute_result",
          "data": {
            "text/plain": [
              "(100, 19)"
            ]
          },
          "metadata": {},
          "execution_count": 13
        }
      ]
    },
    {
      "cell_type": "code",
      "metadata": {
        "colab": {
          "base_uri": "https://localhost:8080/",
          "height": 300
        },
        "id": "E9liy_dAbvSI",
        "outputId": "a2b28764-2431-4ece-ff85-6462dd9d1283"
      },
      "source": [
        "ax = plt.gca()\n",
        "ax.plot(alphas, coefs)\n",
        "ax.set_xscale('log')\n",
        "plt.axis('tight')\n",
        "plt.xlabel('alpha')\n",
        "plt.ylabel('weights')"
      ],
      "execution_count": 14,
      "outputs": [
        {
          "output_type": "execute_result",
          "data": {
            "text/plain": [
              "Text(0, 0.5, 'weights')"
            ]
          },
          "metadata": {},
          "execution_count": 14
        },
        {
          "output_type": "display_data",
          "data": {
            "image/png": "[encoded data removed]",
            "text/plain": [
              "<Figure size 432x288 with 1 Axes>"
            ]
          },
          "metadata": {
            "needs_background": "light"
          }
        }
      ]
    },
    {
      "cell_type": "code",
      "metadata": {
        "id": "aZAVIQx3cCyl"
      },
      "source": [
        "# Split data into training and test sets\n",
        "X_train, X_test , y_train, y_test = train_test_split(X, y, test_size=0.5, random_state=1)"
      ],
      "execution_count": 15,
      "outputs": []
    },
    {
      "cell_type": "markdown",
      "metadata": {
        "id": "EV8IzQzEcTx1"
      },
      "source": [
        "### Next we fit a ridge regression model on the training set, and evaluate its MSE on the test set, using $\\lambda$ = 4 "
      ]
    },
    {
      "cell_type": "code",
      "metadata": {
        "colab": {
          "base_uri": "https://localhost:8080/"
        },
        "id": "Ob4ujVypcN6-",
        "outputId": "49787ae8-c1dd-4682-a66c-261b051e5d0c"
      },
      "source": [
        "ridge2 = Ridge(alpha = 4, normalize=True)\n",
        "ridge2.fit(X_train, y_train)      # Use this model to predict the test data\n",
        "pred2 = ridge2.predict(X_test)    \n",
        "print(pd.Series(ridge2.coef_, index = X.columns))\n",
        "print(mean_squared_error(y_test, pred2))  # Calculate the test MSE"
      ],
      "execution_count": 16,
      "outputs": [
        {
          "output_type": "stream",
          "name": "stdout",
          "text": [
            "AtBat           0.098658\n",
            "Hits            0.446094\n",
            "HmRun           1.412107\n",
            "Runs            0.660773\n",
            "RBI             0.843403\n",
            "Walks           1.008473\n",
            "Years           2.779882\n",
            "CAtBat          0.008244\n",
            "CHits           0.034149\n",
            "CHmRun          0.268634\n",
            "CRuns           0.070407\n",
            "CRBI            0.070060\n",
            "CWalks          0.082795\n",
            "PutOuts         0.104747\n",
            "Assists        -0.003739\n",
            "Errors          0.268363\n",
            "League_N        4.241051\n",
            "Division_W    -30.768885\n",
            "NewLeague_N     4.123474\n",
            "dtype: float64\n",
            "106216.52238005561\n"
          ]
        }
      ]
    },
    {
      "cell_type": "markdown",
      "metadata": {
        "id": "kCXkoJIegMyq"
      },
      "source": [
        "### What happens if we use a huge value of alpha, say $10^{10}$\n"
      ]
    },
    {
      "cell_type": "code",
      "metadata": {
        "colab": {
          "base_uri": "https://localhost:8080/"
        },
        "id": "wI-ALMRpgVWZ",
        "outputId": "cfd96d64-73c3-4ca3-8922-d81792c206cd"
      },
      "source": [
        "ridge3 = Ridge(alpha=10**10, normalize=True)\n",
        "ridge3.fit(X_train, y_train)    # Fit a ridge regression on the training data\n",
        "pred3 =ridge3.predict(X_test)\n",
        "print(pd.Series(ridge3.coef_, index= X.columns))  # Print coefficients\n",
        "print(mean_squared_error(pred3, y_test))  # Calulate the test MSE"
      ],
      "execution_count": 17,
      "outputs": [
        {
          "output_type": "stream",
          "name": "stdout",
          "text": [
            "AtBat          1.317464e-10\n",
            "Hits           4.647486e-10\n",
            "HmRun          2.079865e-09\n",
            "Runs           7.726175e-10\n",
            "RBI            9.390640e-10\n",
            "Walks          9.769219e-10\n",
            "Years          3.961442e-09\n",
            "CAtBat         1.060533e-11\n",
            "CHits          3.993605e-11\n",
            "CHmRun         2.959428e-10\n",
            "CRuns          8.245247e-11\n",
            "CRBI           7.795451e-11\n",
            "CWalks         9.894387e-11\n",
            "PutOuts        7.268991e-11\n",
            "Assists       -2.615885e-12\n",
            "Errors         2.084514e-10\n",
            "League_N      -2.501281e-09\n",
            "Division_W    -1.549951e-08\n",
            "NewLeague_N   -2.023196e-09\n",
            "dtype: float64\n",
            "172862.23580379886\n"
          ]
        }
      ]
    },
    {
      "cell_type": "markdown",
      "metadata": {
        "id": "HW2w6kNchN1I"
      },
      "source": [
        "### Choosing a better alpha using cross-validation to tune the alpha parameter."
      ]
    },
    {
      "cell_type": "code",
      "metadata": {
        "colab": {
          "base_uri": "https://localhost:8080/"
        },
        "id": "eurkrqychCld",
        "outputId": "48256750-55ac-4776-c0d7-0a04a0fc0bbe"
      },
      "source": [
        "ridgecv = RidgeCV(alphas=alphas, scoring='neg_mean_squared_error', normalize=True)\n",
        "ridgecv.fit(X_train, y_train)\n",
        "ridgecv.alpha_"
      ],
      "execution_count": 18,
      "outputs": [
        {
          "output_type": "execute_result",
          "data": {
            "text/plain": [
              "0.5748784976988678"
            ]
          },
          "metadata": {},
          "execution_count": 18
        }
      ]
    },
    {
      "cell_type": "code",
      "metadata": {
        "colab": {
          "base_uri": "https://localhost:8080/"
        },
        "id": "nuVnf6HVhwOD",
        "outputId": "b6d2a242-d8e1-4b57-ffd4-bd6e6f5e039c"
      },
      "source": [
        "ridge4 = Ridge(alpha=ridgecv.alpha_, normalize=True)\n",
        "ridge4.fit(X_train, y_train)\n",
        "mean_squared_error(y_test, ridge4.predict(X_test))"
      ],
      "execution_count": 19,
      "outputs": [
        {
          "output_type": "execute_result",
          "data": {
            "text/plain": [
              "99825.6489629273"
            ]
          },
          "metadata": {},
          "execution_count": 19
        }
      ]
    },
    {
      "cell_type": "code",
      "metadata": {
        "colab": {
          "base_uri": "https://localhost:8080/"
        },
        "id": "BexrnHiHiEAM",
        "outputId": "972f2a0f-c3b4-4dac-deee-c968ffca6e55"
      },
      "source": [
        "ridge4.fit(X,y)\n",
        "pd.Series(ridge4.coef_, index = X.columns)"
      ],
      "execution_count": 20,
      "outputs": [
        {
          "output_type": "execute_result",
          "data": {
            "text/plain": [
              "AtBat           0.055838\n",
              "Hits            0.934879\n",
              "HmRun           0.369048\n",
              "Runs            1.092480\n",
              "RBI             0.878259\n",
              "Walks           1.717770\n",
              "Years           0.783515\n",
              "CAtBat          0.011318\n",
              "CHits           0.061101\n",
              "CHmRun          0.428333\n",
              "CRuns           0.121418\n",
              "CRBI            0.129351\n",
              "CWalks          0.041990\n",
              "PutOuts         0.179957\n",
              "Assists         0.035737\n",
              "Errors         -1.597699\n",
              "League_N       24.774519\n",
              "Division_W    -85.948661\n",
              "NewLeague_N     8.336918\n",
              "dtype: float64"
            ]
          },
          "metadata": {},
          "execution_count": 20
        }
      ]
    },
    {
      "cell_type": "markdown",
      "metadata": {
        "id": "S-U30OPYiMfq"
      },
      "source": [
        "## The Lasso\n",
        "The ridge regression with a wise choice of alpha outperforms least squares. Can the Lassso can yeild a more accurate or a more interpretable model than ridge regression."
      ]
    },
    {
      "cell_type": "code",
      "metadata": {
        "colab": {
          "base_uri": "https://localhost:8080/",
          "height": 300
        },
        "id": "87rN2AEdi9Py",
        "outputId": "68128a93-f36b-48a5-acc9-800dad69a434"
      },
      "source": [
        "lasso = Lasso(max_iter = 10000, normalize= True)\n",
        "coefs =[]\n",
        "\n",
        "for a in alphas:\n",
        "  lasso.set_params(alpha = a)\n",
        "  lasso.fit(scale(X_train), y_train)\n",
        "  coefs.append(lasso.coef_)\n",
        "\n",
        "ax = plt.gca()\n",
        "ax.plot(alphas*2, coefs)\n",
        "ax.set_xscale('log')\n",
        "plt.axis('tight')\n",
        "plt.xlabel('alpha')\n",
        "plt.ylabel('weights')"
      ],
      "execution_count": 21,
      "outputs": [
        {
          "output_type": "execute_result",
          "data": {
            "text/plain": [
              "Text(0, 0.5, 'weights')"
            ]
          },
          "metadata": {},
          "execution_count": 21
        },
        {
          "output_type": "display_data",
          "data": {
            "image/png": "[encoded data removed]",
            "text/plain": [
              "<Figure size 432x288 with 1 Axes>"
            ]
          },
          "metadata": {
            "needs_background": "light"
          }
        }
      ]
    },
    {
      "cell_type": "markdown",
      "metadata": {
        "id": "1QFv7eu3jv2N"
      },
      "source": [
        "The coefficient plot that depending on the choice of tuning parameter. We now perform 10-fold cross-validation to choose the best alpha, refit the model, and the associated test error:"
      ]
    },
    {
      "cell_type": "code",
      "metadata": {
        "colab": {
          "base_uri": "https://localhost:8080/"
        },
        "id": "Y5uM95XOj_3t",
        "outputId": "22012cd2-ddd9-4a7d-921d-d81a4d4393d1"
      },
      "source": [
        "lassocv = LassoCV(alphas=None, cv = 10, max_iter=100000, normalize=True)\n",
        "lassocv.fit(X_train, y_train)\n",
        "\n",
        "lasso.set_params(alpha=lassocv.alpha_)\n",
        "lasso.fit(X_train, y_train)\n",
        "mean_squared_error(y_test, lasso.predict(X_test))"
      ],
      "execution_count": 23,
      "outputs": [
        {
          "output_type": "execute_result",
          "data": {
            "text/plain": [
              "104960.65853895503"
            ]
          },
          "metadata": {},
          "execution_count": 23
        }
      ]
    },
    {
      "cell_type": "code",
      "metadata": {
        "colab": {
          "base_uri": "https://localhost:8080/"
        },
        "id": "MyBEJ-KAkktV",
        "outputId": "f92778da-8b68-44de-ee39-081f98f71724"
      },
      "source": [
        "print(pd.Series(lassocv.coef_, index=X.columns))"
      ],
      "execution_count": 24,
      "outputs": [
        {
          "output_type": "stream",
          "name": "stdout",
          "text": [
            "AtBat           0.000000\n",
            "Hits            1.082446\n",
            "HmRun           0.000000\n",
            "Runs            0.000000\n",
            "RBI             0.000000\n",
            "Walks           2.906388\n",
            "Years           0.000000\n",
            "CAtBat          0.000000\n",
            "CHits           0.000000\n",
            "CHmRun          0.219367\n",
            "CRuns           0.000000\n",
            "CRBI            0.513975\n",
            "CWalks          0.000000\n",
            "PutOuts         0.368401\n",
            "Assists        -0.000000\n",
            "Errors         -0.000000\n",
            "League_N        0.000000\n",
            "Division_W    -89.064338\n",
            "NewLeague_N     0.000000\n",
            "dtype: float64\n"
          ]
        }
      ]
    },
    {
      "cell_type": "markdown",
      "metadata": {
        "id": "26U8-fYzlAw2"
      },
      "source": [
        "Lasso looks better in aspect of smaller # of coeficients though MSE is higher than the ridge regression model."
      ]
    }
  ]
}