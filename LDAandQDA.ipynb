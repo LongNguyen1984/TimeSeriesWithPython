{
  "nbformat": 4,
  "nbformat_minor": 0,
  "metadata": {
    "colab": {
      "name": "LDAandQDA.ipynb",
      "provenance": [],
      "authorship_tag": "ABX9TyNz9n2HcBZ2YmGQ32tGSIjs",
      "include_colab_link": true
    },
    "kernelspec": {
      "name": "python3",
      "display_name": "Python 3"
    },
    "language_info": {
      "name": "python"
    }
  },
  "cells": [
    {
      "cell_type": "markdown",
      "metadata": {
        "id": "view-in-github",
        "colab_type": "text"
      },
      "source": [
        "<a href=\"https://colab.research.google.com/github/LongNguyen1984/TimeSeriesWithPython/blob/main/LDAandQDA.ipynb\" target=\"_parent\"><img src=\"https://colab.research.google.com/assets/colab-badge.svg\" alt=\"Open In Colab\"/></a>"
      ]
    },
    {
      "cell_type": "code",
      "metadata": {
        "id": "84cwhsl4oo5G"
      },
      "source": [
        "import pandas as pd\n",
        "import numpy as np\n",
        "\n",
        "from sklearn.discriminant_analysis import LinearDiscriminantAnalysis, QuadraticDiscriminantAnalysis\n",
        "from sklearn.metrics import confusion_matrix, classification_report, precision_score\n",
        "\n",
        "%matplotlib inline"
      ],
      "execution_count": 1,
      "outputs": []
    },
    {
      "cell_type": "code",
      "metadata": {
        "colab": {
          "base_uri": "https://localhost:8080/",
          "height": 235
        },
        "id": "ybD9IoytpPxA",
        "outputId": "4133ca3d-c4dc-4d8e-c252-ef276784c054"
      },
      "source": [
        "df = pd.read_csv('https://raw.githubusercontent.com/JWarmenhoven/ISLR-python/master/Notebooks/Data/Smarket.csv', usecols=range(1,10), index_col=0, parse_dates=True)\n",
        "df.head()"
      ],
      "execution_count": 5,
      "outputs": [
        {
          "output_type": "execute_result",
          "data": {
            "text/html": [
              "<div>\n",
              "<style scoped>\n",
              "    .dataframe tbody tr th:only-of-type {\n",
              "        vertical-align: middle;\n",
              "    }\n",
              "\n",
              "    .dataframe tbody tr th {\n",
              "        vertical-align: top;\n",
              "    }\n",
              "\n",
              "    .dataframe thead th {\n",
              "        text-align: right;\n",
              "    }\n",
              "</style>\n",
              "<table border=\"1\" class=\"dataframe\">\n",
              "  <thead>\n",
              "    <tr style=\"text-align: right;\">\n",
              "      <th></th>\n",
              "      <th>Lag1</th>\n",
              "      <th>Lag2</th>\n",
              "      <th>Lag3</th>\n",
              "      <th>Lag4</th>\n",
              "      <th>Lag5</th>\n",
              "      <th>Volume</th>\n",
              "      <th>Today</th>\n",
              "      <th>Direction</th>\n",
              "    </tr>\n",
              "    <tr>\n",
              "      <th>Year</th>\n",
              "      <th></th>\n",
              "      <th></th>\n",
              "      <th></th>\n",
              "      <th></th>\n",
              "      <th></th>\n",
              "      <th></th>\n",
              "      <th></th>\n",
              "      <th></th>\n",
              "    </tr>\n",
              "  </thead>\n",
              "  <tbody>\n",
              "    <tr>\n",
              "      <th>2001-01-01</th>\n",
              "      <td>0.381</td>\n",
              "      <td>-0.192</td>\n",
              "      <td>-2.624</td>\n",
              "      <td>-1.055</td>\n",
              "      <td>5.010</td>\n",
              "      <td>1.1913</td>\n",
              "      <td>0.959</td>\n",
              "      <td>Up</td>\n",
              "    </tr>\n",
              "    <tr>\n",
              "      <th>2001-01-01</th>\n",
              "      <td>0.959</td>\n",
              "      <td>0.381</td>\n",
              "      <td>-0.192</td>\n",
              "      <td>-2.624</td>\n",
              "      <td>-1.055</td>\n",
              "      <td>1.2965</td>\n",
              "      <td>1.032</td>\n",
              "      <td>Up</td>\n",
              "    </tr>\n",
              "    <tr>\n",
              "      <th>2001-01-01</th>\n",
              "      <td>1.032</td>\n",
              "      <td>0.959</td>\n",
              "      <td>0.381</td>\n",
              "      <td>-0.192</td>\n",
              "      <td>-2.624</td>\n",
              "      <td>1.4112</td>\n",
              "      <td>-0.623</td>\n",
              "      <td>Down</td>\n",
              "    </tr>\n",
              "    <tr>\n",
              "      <th>2001-01-01</th>\n",
              "      <td>-0.623</td>\n",
              "      <td>1.032</td>\n",
              "      <td>0.959</td>\n",
              "      <td>0.381</td>\n",
              "      <td>-0.192</td>\n",
              "      <td>1.2760</td>\n",
              "      <td>0.614</td>\n",
              "      <td>Up</td>\n",
              "    </tr>\n",
              "    <tr>\n",
              "      <th>2001-01-01</th>\n",
              "      <td>0.614</td>\n",
              "      <td>-0.623</td>\n",
              "      <td>1.032</td>\n",
              "      <td>0.959</td>\n",
              "      <td>0.381</td>\n",
              "      <td>1.2057</td>\n",
              "      <td>0.213</td>\n",
              "      <td>Up</td>\n",
              "    </tr>\n",
              "  </tbody>\n",
              "</table>\n",
              "</div>"
            ],
            "text/plain": [
              "             Lag1   Lag2   Lag3   Lag4   Lag5  Volume  Today Direction\n",
              "Year                                                                  \n",
              "2001-01-01  0.381 -0.192 -2.624 -1.055  5.010  1.1913  0.959        Up\n",
              "2001-01-01  0.959  0.381 -0.192 -2.624 -1.055  1.2965  1.032        Up\n",
              "2001-01-01  1.032  0.959  0.381 -0.192 -2.624  1.4112 -0.623      Down\n",
              "2001-01-01 -0.623  1.032  0.959  0.381 -0.192  1.2760  0.614        Up\n",
              "2001-01-01  0.614 -0.623  1.032  0.959  0.381  1.2057  0.213        Up"
            ]
          },
          "metadata": {
            "tags": []
          },
          "execution_count": 5
        }
      ]
    },
    {
      "cell_type": "code",
      "metadata": {
        "colab": {
          "base_uri": "https://localhost:8080/"
        },
        "id": "jnGmPyL-pP4B",
        "outputId": "7ea4f236-ffae-49dd-ca87-e1cdfbd22eb6"
      },
      "source": [
        "X_train = df[:'2004'][['Lag1', 'Lag2']]\n",
        "y_train = df[:'2004']['Direction']\n",
        "\n",
        "X_test = df['2005':][['Lag1', 'Lag2']]\n",
        "y_test = df['2005':]['Direction']\n",
        "\n",
        "lda = LinearDiscriminantAnalysis()\n",
        "model = lda.fit(X_train, y_train)\n",
        "\n",
        "print(model.priors_)"
      ],
      "execution_count": 26,
      "outputs": [
        {
          "output_type": "stream",
          "text": [
            "[0.49198397 0.50801603]\n"
          ],
          "name": "stdout"
        }
      ]
    },
    {
      "cell_type": "code",
      "metadata": {
        "colab": {
          "base_uri": "https://localhost:8080/"
        },
        "id": "icf5ZY2-rNAe",
        "outputId": "adaf8d3a-3e6b-4685-fb06-18f153f26845"
      },
      "source": [
        "print(model.means_)"
      ],
      "execution_count": 9,
      "outputs": [
        {
          "output_type": "stream",
          "text": [
            "[[ 0.04279022  0.03389409]\n",
            " [-0.03954635 -0.03132544]]\n"
          ],
          "name": "stdout"
        }
      ]
    },
    {
      "cell_type": "code",
      "metadata": {
        "colab": {
          "base_uri": "https://localhost:8080/"
        },
        "id": "RlWLCP44rxZN",
        "outputId": "c864db07-8931-4964-f72b-078b019d6461"
      },
      "source": [
        "print(model.coef_)"
      ],
      "execution_count": 10,
      "outputs": [
        {
          "output_type": "stream",
          "text": [
            "[[-0.05544078 -0.0443452 ]]\n"
          ],
          "name": "stdout"
        }
      ]
    },
    {
      "cell_type": "markdown",
      "metadata": {
        "id": "SZe5bzW6tNu7"
      },
      "source": [
        "### Check the number of true predictors"
      ]
    },
    {
      "cell_type": "code",
      "metadata": {
        "colab": {
          "base_uri": "https://localhost:8080/"
        },
        "id": "zp9ZrpglshBc",
        "outputId": "7534c2ae-e78c-4473-f1af-daaded8cbfd8"
      },
      "source": [
        "pred = model.predict(X_test)\n",
        "print(np.unique(pred, return_counts=True))"
      ],
      "execution_count": 11,
      "outputs": [
        {
          "output_type": "stream",
          "text": [
            "(array(['Down', 'Up'], dtype='<U4'), array([ 70, 182]))\n"
          ],
          "name": "stdout"
        }
      ]
    },
    {
      "cell_type": "markdown",
      "metadata": {
        "id": "Df7lvKt_tcHT"
      },
      "source": [
        "### Confusion matrixes"
      ]
    },
    {
      "cell_type": "code",
      "metadata": {
        "colab": {
          "base_uri": "https://localhost:8080/"
        },
        "id": "ZY38I945suv8",
        "outputId": "1fa74084-5e77-4c46-d9b5-ed70d920e10e"
      },
      "source": [
        "print(confusion_matrix(pred, y_test))\n",
        "print(classification_report(y_test, pred, digits=3))"
      ],
      "execution_count": 13,
      "outputs": [
        {
          "output_type": "stream",
          "text": [
            "[[ 35  35]\n",
            " [ 76 106]]\n",
            "              precision    recall  f1-score   support\n",
            "\n",
            "        Down      0.500     0.315     0.387       111\n",
            "          Up      0.582     0.752     0.656       141\n",
            "\n",
            "    accuracy                          0.560       252\n",
            "   macro avg      0.541     0.534     0.522       252\n",
            "weighted avg      0.546     0.560     0.538       252\n",
            "\n"
          ],
          "name": "stdout"
        }
      ]
    },
    {
      "cell_type": "markdown",
      "metadata": {
        "id": "uzAfaNcXwHxs"
      },
      "source": [
        "## Quadratic Discriminant Analysis"
      ]
    },
    {
      "cell_type": "code",
      "metadata": {
        "colab": {
          "base_uri": "https://localhost:8080/"
        },
        "id": "CUrINVCzwL6S",
        "outputId": "0ef12b88-b99f-4226-cfbb-dfa787b7516d"
      },
      "source": [
        "qda = QuadraticDiscriminantAnalysis()\n",
        "model2 = qda.fit(X_train, y_train)\n",
        "print(model2.priors_)\n",
        "print(model2.means_)"
      ],
      "execution_count": 14,
      "outputs": [
        {
          "output_type": "stream",
          "text": [
            "[0.49198397 0.50801603]\n",
            "[[ 0.04279022  0.03389409]\n",
            " [-0.03954635 -0.03132544]]\n"
          ],
          "name": "stdout"
        }
      ]
    },
    {
      "cell_type": "code",
      "metadata": {
        "colab": {
          "base_uri": "https://localhost:8080/"
        },
        "id": "OOPdDMJSwZrq",
        "outputId": "e3b060d3-531a-46c3-dd8b-871efda9eea7"
      },
      "source": [
        "pred2 = model2.predict(X_test)\n",
        "print(np.unique(pred2, return_counts=True))\n",
        "print(confusion_matrix(pred2, y_test))\n",
        "print(classification_report(y_test, pred2, digits=3))"
      ],
      "execution_count": 15,
      "outputs": [
        {
          "output_type": "stream",
          "text": [
            "(array(['Down', 'Up'], dtype=object), array([ 50, 202]))\n",
            "[[ 30  20]\n",
            " [ 81 121]]\n",
            "              precision    recall  f1-score   support\n",
            "\n",
            "        Down      0.600     0.270     0.373       111\n",
            "          Up      0.599     0.858     0.706       141\n",
            "\n",
            "    accuracy                          0.599       252\n",
            "   macro avg      0.600     0.564     0.539       252\n",
            "weighted avg      0.599     0.599     0.559       252\n",
            "\n"
          ],
          "name": "stdout"
        }
      ]
    },
    {
      "cell_type": "markdown",
      "metadata": {
        "id": "SRpI7RsFxKWa"
      },
      "source": [
        "## An Application to Carseats Data"
      ]
    },
    {
      "cell_type": "code",
      "metadata": {
        "colab": {
          "base_uri": "https://localhost:8080/",
          "height": 669
        },
        "id": "0cmThShuxNPC",
        "outputId": "916f23e3-9972-45c2-934c-b64980f3a90c"
      },
      "source": [
        "df2 = pd.read_csv('https://raw.githubusercontent.com/JWarmenhoven/ISLR-python/master/Notebooks/Data/Carseats.csv', index_col=0)\n",
        "df2.head(20)"
      ],
      "execution_count": 20,
      "outputs": [
        {
          "output_type": "execute_result",
          "data": {
            "text/html": [
              "<div>\n",
              "<style scoped>\n",
              "    .dataframe tbody tr th:only-of-type {\n",
              "        vertical-align: middle;\n",
              "    }\n",
              "\n",
              "    .dataframe tbody tr th {\n",
              "        vertical-align: top;\n",
              "    }\n",
              "\n",
              "    .dataframe thead th {\n",
              "        text-align: right;\n",
              "    }\n",
              "</style>\n",
              "<table border=\"1\" class=\"dataframe\">\n",
              "  <thead>\n",
              "    <tr style=\"text-align: right;\">\n",
              "      <th></th>\n",
              "      <th>Sales</th>\n",
              "      <th>CompPrice</th>\n",
              "      <th>Income</th>\n",
              "      <th>Advertising</th>\n",
              "      <th>Population</th>\n",
              "      <th>Price</th>\n",
              "      <th>ShelveLoc</th>\n",
              "      <th>Age</th>\n",
              "      <th>Education</th>\n",
              "      <th>Urban</th>\n",
              "      <th>US</th>\n",
              "    </tr>\n",
              "  </thead>\n",
              "  <tbody>\n",
              "    <tr>\n",
              "      <th>1</th>\n",
              "      <td>9.50</td>\n",
              "      <td>138</td>\n",
              "      <td>73</td>\n",
              "      <td>11</td>\n",
              "      <td>276</td>\n",
              "      <td>120</td>\n",
              "      <td>Bad</td>\n",
              "      <td>42</td>\n",
              "      <td>17</td>\n",
              "      <td>Yes</td>\n",
              "      <td>Yes</td>\n",
              "    </tr>\n",
              "    <tr>\n",
              "      <th>2</th>\n",
              "      <td>11.22</td>\n",
              "      <td>111</td>\n",
              "      <td>48</td>\n",
              "      <td>16</td>\n",
              "      <td>260</td>\n",
              "      <td>83</td>\n",
              "      <td>Good</td>\n",
              "      <td>65</td>\n",
              "      <td>10</td>\n",
              "      <td>Yes</td>\n",
              "      <td>Yes</td>\n",
              "    </tr>\n",
              "    <tr>\n",
              "      <th>3</th>\n",
              "      <td>10.06</td>\n",
              "      <td>113</td>\n",
              "      <td>35</td>\n",
              "      <td>10</td>\n",
              "      <td>269</td>\n",
              "      <td>80</td>\n",
              "      <td>Medium</td>\n",
              "      <td>59</td>\n",
              "      <td>12</td>\n",
              "      <td>Yes</td>\n",
              "      <td>Yes</td>\n",
              "    </tr>\n",
              "    <tr>\n",
              "      <th>4</th>\n",
              "      <td>7.40</td>\n",
              "      <td>117</td>\n",
              "      <td>100</td>\n",
              "      <td>4</td>\n",
              "      <td>466</td>\n",
              "      <td>97</td>\n",
              "      <td>Medium</td>\n",
              "      <td>55</td>\n",
              "      <td>14</td>\n",
              "      <td>Yes</td>\n",
              "      <td>Yes</td>\n",
              "    </tr>\n",
              "    <tr>\n",
              "      <th>5</th>\n",
              "      <td>4.15</td>\n",
              "      <td>141</td>\n",
              "      <td>64</td>\n",
              "      <td>3</td>\n",
              "      <td>340</td>\n",
              "      <td>128</td>\n",
              "      <td>Bad</td>\n",
              "      <td>38</td>\n",
              "      <td>13</td>\n",
              "      <td>Yes</td>\n",
              "      <td>No</td>\n",
              "    </tr>\n",
              "    <tr>\n",
              "      <th>6</th>\n",
              "      <td>10.81</td>\n",
              "      <td>124</td>\n",
              "      <td>113</td>\n",
              "      <td>13</td>\n",
              "      <td>501</td>\n",
              "      <td>72</td>\n",
              "      <td>Bad</td>\n",
              "      <td>78</td>\n",
              "      <td>16</td>\n",
              "      <td>No</td>\n",
              "      <td>Yes</td>\n",
              "    </tr>\n",
              "    <tr>\n",
              "      <th>7</th>\n",
              "      <td>6.63</td>\n",
              "      <td>115</td>\n",
              "      <td>105</td>\n",
              "      <td>0</td>\n",
              "      <td>45</td>\n",
              "      <td>108</td>\n",
              "      <td>Medium</td>\n",
              "      <td>71</td>\n",
              "      <td>15</td>\n",
              "      <td>Yes</td>\n",
              "      <td>No</td>\n",
              "    </tr>\n",
              "    <tr>\n",
              "      <th>8</th>\n",
              "      <td>11.85</td>\n",
              "      <td>136</td>\n",
              "      <td>81</td>\n",
              "      <td>15</td>\n",
              "      <td>425</td>\n",
              "      <td>120</td>\n",
              "      <td>Good</td>\n",
              "      <td>67</td>\n",
              "      <td>10</td>\n",
              "      <td>Yes</td>\n",
              "      <td>Yes</td>\n",
              "    </tr>\n",
              "    <tr>\n",
              "      <th>9</th>\n",
              "      <td>6.54</td>\n",
              "      <td>132</td>\n",
              "      <td>110</td>\n",
              "      <td>0</td>\n",
              "      <td>108</td>\n",
              "      <td>124</td>\n",
              "      <td>Medium</td>\n",
              "      <td>76</td>\n",
              "      <td>10</td>\n",
              "      <td>No</td>\n",
              "      <td>No</td>\n",
              "    </tr>\n",
              "    <tr>\n",
              "      <th>10</th>\n",
              "      <td>4.69</td>\n",
              "      <td>132</td>\n",
              "      <td>113</td>\n",
              "      <td>0</td>\n",
              "      <td>131</td>\n",
              "      <td>124</td>\n",
              "      <td>Medium</td>\n",
              "      <td>76</td>\n",
              "      <td>17</td>\n",
              "      <td>No</td>\n",
              "      <td>Yes</td>\n",
              "    </tr>\n",
              "    <tr>\n",
              "      <th>11</th>\n",
              "      <td>9.01</td>\n",
              "      <td>121</td>\n",
              "      <td>78</td>\n",
              "      <td>9</td>\n",
              "      <td>150</td>\n",
              "      <td>100</td>\n",
              "      <td>Bad</td>\n",
              "      <td>26</td>\n",
              "      <td>10</td>\n",
              "      <td>No</td>\n",
              "      <td>Yes</td>\n",
              "    </tr>\n",
              "    <tr>\n",
              "      <th>12</th>\n",
              "      <td>11.96</td>\n",
              "      <td>117</td>\n",
              "      <td>94</td>\n",
              "      <td>4</td>\n",
              "      <td>503</td>\n",
              "      <td>94</td>\n",
              "      <td>Good</td>\n",
              "      <td>50</td>\n",
              "      <td>13</td>\n",
              "      <td>Yes</td>\n",
              "      <td>Yes</td>\n",
              "    </tr>\n",
              "    <tr>\n",
              "      <th>13</th>\n",
              "      <td>3.98</td>\n",
              "      <td>122</td>\n",
              "      <td>35</td>\n",
              "      <td>2</td>\n",
              "      <td>393</td>\n",
              "      <td>136</td>\n",
              "      <td>Medium</td>\n",
              "      <td>62</td>\n",
              "      <td>18</td>\n",
              "      <td>Yes</td>\n",
              "      <td>No</td>\n",
              "    </tr>\n",
              "    <tr>\n",
              "      <th>14</th>\n",
              "      <td>10.96</td>\n",
              "      <td>115</td>\n",
              "      <td>28</td>\n",
              "      <td>11</td>\n",
              "      <td>29</td>\n",
              "      <td>86</td>\n",
              "      <td>Good</td>\n",
              "      <td>53</td>\n",
              "      <td>18</td>\n",
              "      <td>Yes</td>\n",
              "      <td>Yes</td>\n",
              "    </tr>\n",
              "    <tr>\n",
              "      <th>15</th>\n",
              "      <td>11.17</td>\n",
              "      <td>107</td>\n",
              "      <td>117</td>\n",
              "      <td>11</td>\n",
              "      <td>148</td>\n",
              "      <td>118</td>\n",
              "      <td>Good</td>\n",
              "      <td>52</td>\n",
              "      <td>18</td>\n",
              "      <td>Yes</td>\n",
              "      <td>Yes</td>\n",
              "    </tr>\n",
              "    <tr>\n",
              "      <th>16</th>\n",
              "      <td>8.71</td>\n",
              "      <td>149</td>\n",
              "      <td>95</td>\n",
              "      <td>5</td>\n",
              "      <td>400</td>\n",
              "      <td>144</td>\n",
              "      <td>Medium</td>\n",
              "      <td>76</td>\n",
              "      <td>18</td>\n",
              "      <td>No</td>\n",
              "      <td>No</td>\n",
              "    </tr>\n",
              "    <tr>\n",
              "      <th>17</th>\n",
              "      <td>7.58</td>\n",
              "      <td>118</td>\n",
              "      <td>32</td>\n",
              "      <td>0</td>\n",
              "      <td>284</td>\n",
              "      <td>110</td>\n",
              "      <td>Good</td>\n",
              "      <td>63</td>\n",
              "      <td>13</td>\n",
              "      <td>Yes</td>\n",
              "      <td>No</td>\n",
              "    </tr>\n",
              "    <tr>\n",
              "      <th>18</th>\n",
              "      <td>12.29</td>\n",
              "      <td>147</td>\n",
              "      <td>74</td>\n",
              "      <td>13</td>\n",
              "      <td>251</td>\n",
              "      <td>131</td>\n",
              "      <td>Good</td>\n",
              "      <td>52</td>\n",
              "      <td>10</td>\n",
              "      <td>Yes</td>\n",
              "      <td>Yes</td>\n",
              "    </tr>\n",
              "    <tr>\n",
              "      <th>19</th>\n",
              "      <td>13.91</td>\n",
              "      <td>110</td>\n",
              "      <td>110</td>\n",
              "      <td>0</td>\n",
              "      <td>408</td>\n",
              "      <td>68</td>\n",
              "      <td>Good</td>\n",
              "      <td>46</td>\n",
              "      <td>17</td>\n",
              "      <td>No</td>\n",
              "      <td>Yes</td>\n",
              "    </tr>\n",
              "    <tr>\n",
              "      <th>20</th>\n",
              "      <td>8.73</td>\n",
              "      <td>129</td>\n",
              "      <td>76</td>\n",
              "      <td>16</td>\n",
              "      <td>58</td>\n",
              "      <td>121</td>\n",
              "      <td>Medium</td>\n",
              "      <td>69</td>\n",
              "      <td>12</td>\n",
              "      <td>Yes</td>\n",
              "      <td>Yes</td>\n",
              "    </tr>\n",
              "  </tbody>\n",
              "</table>\n",
              "</div>"
            ],
            "text/plain": [
              "    Sales  CompPrice  Income  Advertising  ...  Age  Education Urban   US\n",
              "1    9.50        138      73           11  ...   42         17   Yes  Yes\n",
              "2   11.22        111      48           16  ...   65         10   Yes  Yes\n",
              "3   10.06        113      35           10  ...   59         12   Yes  Yes\n",
              "4    7.40        117     100            4  ...   55         14   Yes  Yes\n",
              "5    4.15        141      64            3  ...   38         13   Yes   No\n",
              "6   10.81        124     113           13  ...   78         16    No  Yes\n",
              "7    6.63        115     105            0  ...   71         15   Yes   No\n",
              "8   11.85        136      81           15  ...   67         10   Yes  Yes\n",
              "9    6.54        132     110            0  ...   76         10    No   No\n",
              "10   4.69        132     113            0  ...   76         17    No  Yes\n",
              "11   9.01        121      78            9  ...   26         10    No  Yes\n",
              "12  11.96        117      94            4  ...   50         13   Yes  Yes\n",
              "13   3.98        122      35            2  ...   62         18   Yes   No\n",
              "14  10.96        115      28           11  ...   53         18   Yes  Yes\n",
              "15  11.17        107     117           11  ...   52         18   Yes  Yes\n",
              "16   8.71        149      95            5  ...   76         18    No   No\n",
              "17   7.58        118      32            0  ...   63         13   Yes   No\n",
              "18  12.29        147      74           13  ...   52         10   Yes  Yes\n",
              "19  13.91        110     110            0  ...   46         17    No  Yes\n",
              "20   8.73        129      76           16  ...   69         12   Yes  Yes\n",
              "\n",
              "[20 rows x 11 columns]"
            ]
          },
          "metadata": {
            "tags": []
          },
          "execution_count": 20
        }
      ]
    },
    {
      "cell_type": "code",
      "metadata": {
        "colab": {
          "base_uri": "https://localhost:8080/",
          "height": 297
        },
        "id": "WQt4lV02xcyd",
        "outputId": "c3aa14dd-1bdf-4f15-9a80-d8e7f5001e81"
      },
      "source": [
        "df2.describe()"
      ],
      "execution_count": 19,
      "outputs": [
        {
          "output_type": "execute_result",
          "data": {
            "text/html": [
              "<div>\n",
              "<style scoped>\n",
              "    .dataframe tbody tr th:only-of-type {\n",
              "        vertical-align: middle;\n",
              "    }\n",
              "\n",
              "    .dataframe tbody tr th {\n",
              "        vertical-align: top;\n",
              "    }\n",
              "\n",
              "    .dataframe thead th {\n",
              "        text-align: right;\n",
              "    }\n",
              "</style>\n",
              "<table border=\"1\" class=\"dataframe\">\n",
              "  <thead>\n",
              "    <tr style=\"text-align: right;\">\n",
              "      <th></th>\n",
              "      <th>Sales</th>\n",
              "      <th>CompPrice</th>\n",
              "      <th>Income</th>\n",
              "      <th>Advertising</th>\n",
              "      <th>Population</th>\n",
              "      <th>Price</th>\n",
              "      <th>Age</th>\n",
              "      <th>Education</th>\n",
              "    </tr>\n",
              "  </thead>\n",
              "  <tbody>\n",
              "    <tr>\n",
              "      <th>count</th>\n",
              "      <td>400.000000</td>\n",
              "      <td>400.000000</td>\n",
              "      <td>400.000000</td>\n",
              "      <td>400.000000</td>\n",
              "      <td>400.000000</td>\n",
              "      <td>400.000000</td>\n",
              "      <td>400.000000</td>\n",
              "      <td>400.000000</td>\n",
              "    </tr>\n",
              "    <tr>\n",
              "      <th>mean</th>\n",
              "      <td>7.496325</td>\n",
              "      <td>124.975000</td>\n",
              "      <td>68.657500</td>\n",
              "      <td>6.635000</td>\n",
              "      <td>264.840000</td>\n",
              "      <td>115.795000</td>\n",
              "      <td>53.322500</td>\n",
              "      <td>13.900000</td>\n",
              "    </tr>\n",
              "    <tr>\n",
              "      <th>std</th>\n",
              "      <td>2.824115</td>\n",
              "      <td>15.334512</td>\n",
              "      <td>27.986037</td>\n",
              "      <td>6.650364</td>\n",
              "      <td>147.376436</td>\n",
              "      <td>23.676664</td>\n",
              "      <td>16.200297</td>\n",
              "      <td>2.620528</td>\n",
              "    </tr>\n",
              "    <tr>\n",
              "      <th>min</th>\n",
              "      <td>0.000000</td>\n",
              "      <td>77.000000</td>\n",
              "      <td>21.000000</td>\n",
              "      <td>0.000000</td>\n",
              "      <td>10.000000</td>\n",
              "      <td>24.000000</td>\n",
              "      <td>25.000000</td>\n",
              "      <td>10.000000</td>\n",
              "    </tr>\n",
              "    <tr>\n",
              "      <th>25%</th>\n",
              "      <td>5.390000</td>\n",
              "      <td>115.000000</td>\n",
              "      <td>42.750000</td>\n",
              "      <td>0.000000</td>\n",
              "      <td>139.000000</td>\n",
              "      <td>100.000000</td>\n",
              "      <td>39.750000</td>\n",
              "      <td>12.000000</td>\n",
              "    </tr>\n",
              "    <tr>\n",
              "      <th>50%</th>\n",
              "      <td>7.490000</td>\n",
              "      <td>125.000000</td>\n",
              "      <td>69.000000</td>\n",
              "      <td>5.000000</td>\n",
              "      <td>272.000000</td>\n",
              "      <td>117.000000</td>\n",
              "      <td>54.500000</td>\n",
              "      <td>14.000000</td>\n",
              "    </tr>\n",
              "    <tr>\n",
              "      <th>75%</th>\n",
              "      <td>9.320000</td>\n",
              "      <td>135.000000</td>\n",
              "      <td>91.000000</td>\n",
              "      <td>12.000000</td>\n",
              "      <td>398.500000</td>\n",
              "      <td>131.000000</td>\n",
              "      <td>66.000000</td>\n",
              "      <td>16.000000</td>\n",
              "    </tr>\n",
              "    <tr>\n",
              "      <th>max</th>\n",
              "      <td>16.270000</td>\n",
              "      <td>175.000000</td>\n",
              "      <td>120.000000</td>\n",
              "      <td>29.000000</td>\n",
              "      <td>509.000000</td>\n",
              "      <td>191.000000</td>\n",
              "      <td>80.000000</td>\n",
              "      <td>18.000000</td>\n",
              "    </tr>\n",
              "  </tbody>\n",
              "</table>\n",
              "</div>"
            ],
            "text/plain": [
              "            Sales   CompPrice      Income  ...       Price         Age   Education\n",
              "count  400.000000  400.000000  400.000000  ...  400.000000  400.000000  400.000000\n",
              "mean     7.496325  124.975000   68.657500  ...  115.795000   53.322500   13.900000\n",
              "std      2.824115   15.334512   27.986037  ...   23.676664   16.200297    2.620528\n",
              "min      0.000000   77.000000   21.000000  ...   24.000000   25.000000   10.000000\n",
              "25%      5.390000  115.000000   42.750000  ...  100.000000   39.750000   12.000000\n",
              "50%      7.490000  125.000000   69.000000  ...  117.000000   54.500000   14.000000\n",
              "75%      9.320000  135.000000   91.000000  ...  131.000000   66.000000   16.000000\n",
              "max     16.270000  175.000000  120.000000  ...  191.000000   80.000000   18.000000\n",
              "\n",
              "[8 rows x 8 columns]"
            ]
          },
          "metadata": {
            "tags": []
          },
          "execution_count": 19
        }
      ]
    },
    {
      "cell_type": "code",
      "metadata": {
        "id": "-Qi8yGezxp9A"
      },
      "source": [
        "X = df2[['Sales','Price', 'Advertising', 'Income']]\n",
        "y = df2['ShelveLoc']"
      ],
      "execution_count": 119,
      "outputs": []
    },
    {
      "cell_type": "code",
      "metadata": {
        "id": "wjaEJbOXzQrg"
      },
      "source": [
        "from sklearn.model_selection import train_test_split\n",
        "\n",
        "X_train, X_test, y_train, y_test = train_test_split(X, y, test_size=0.3, random_state=1)"
      ],
      "execution_count": 120,
      "outputs": []
    },
    {
      "cell_type": "code",
      "metadata": {
        "colab": {
          "base_uri": "https://localhost:8080/"
        },
        "id": "YZ4n1xWK1lVv",
        "outputId": "207ed848-14d1-47d4-d0ac-2d5adf0c1357"
      },
      "source": [
        "model1 = lda.fit(X_train, y_train)\n",
        "print(model1.priors_)"
      ],
      "execution_count": 121,
      "outputs": [
        {
          "output_type": "stream",
          "text": [
            "[0.25       0.21428571 0.53571429]\n"
          ],
          "name": "stdout"
        }
      ]
    },
    {
      "cell_type": "code",
      "metadata": {
        "colab": {
          "base_uri": "https://localhost:8080/"
        },
        "id": "6Rdf6lRp1_hu",
        "outputId": "ddff3c8c-699a-41a7-fef0-1bf238fdf26b"
      },
      "source": [
        "print(model1.means_)\n",
        "print(model1.coef_)"
      ],
      "execution_count": 122,
      "outputs": [
        {
          "output_type": "stream",
          "text": [
            "[[  5.40814286 114.77142857   6.05714286  71.18571429]\n",
            " [ 10.13766667 118.48333333   7.55        65.81666667]\n",
            " [  7.45473333 114.85333333   7.          68.97333333]]\n",
            "[[-6.68750658e-01 -3.89475269e-02  4.93313406e-02  1.18072896e-02]\n",
            " [ 8.75182253e-01  5.42982559e-02 -7.38858178e-02 -1.52111463e-02]\n",
            " [-3.79892611e-02 -3.54378981e-03  6.53303484e-03  5.74390025e-04]]\n"
          ],
          "name": "stdout"
        }
      ]
    },
    {
      "cell_type": "code",
      "metadata": {
        "colab": {
          "base_uri": "https://localhost:8080/"
        },
        "id": "kKqpUyu33KuW",
        "outputId": "e72aee19-0ab5-4e6c-ff8f-d44d5ee49c09"
      },
      "source": [
        "pred = model1.predict(X_test)\n",
        "print(np.unique(pred, return_counts=True))"
      ],
      "execution_count": 123,
      "outputs": [
        {
          "output_type": "stream",
          "text": [
            "(array(['Bad', 'Good', 'Medium'], dtype='<U6'), array([21, 21, 78]))\n"
          ],
          "name": "stdout"
        }
      ]
    },
    {
      "cell_type": "code",
      "metadata": {
        "colab": {
          "base_uri": "https://localhost:8080/"
        },
        "id": "WMY3zSy63oGO",
        "outputId": "240e7aa5-ef50-4361-efe5-4c19a0490374"
      },
      "source": [
        "print(confusion_matrix(pred, y_test))\n",
        "print(classification_report(y_test, pred, digits=3))"
      ],
      "execution_count": 124,
      "outputs": [
        {
          "output_type": "stream",
          "text": [
            "[[11  0 10]\n",
            " [ 0 16  5]\n",
            " [15  9 54]]\n",
            "              precision    recall  f1-score   support\n",
            "\n",
            "         Bad      0.524     0.423     0.468        26\n",
            "        Good      0.762     0.640     0.696        25\n",
            "      Medium      0.692     0.783     0.735        69\n",
            "\n",
            "    accuracy                          0.675       120\n",
            "   macro avg      0.659     0.615     0.633       120\n",
            "weighted avg      0.670     0.675     0.669       120\n",
            "\n"
          ],
          "name": "stdout"
        }
      ]
    },
    {
      "cell_type": "markdown",
      "metadata": {
        "id": "42xmdFc26hwZ"
      },
      "source": [
        "### Using Quaratic Discriminate Analysis"
      ]
    },
    {
      "cell_type": "code",
      "metadata": {
        "colab": {
          "base_uri": "https://localhost:8080/"
        },
        "id": "AQeqxheK5A3x",
        "outputId": "9e7667be-18d8-4cc2-86b9-ed15c97580cf"
      },
      "source": [
        "model2 = qda.fit(X_train, y_train)\n",
        "pred2 = model2.predict(X_test)\n",
        "print(np.unique(pred2, return_counts=True))"
      ],
      "execution_count": 125,
      "outputs": [
        {
          "output_type": "stream",
          "text": [
            "(array(['Bad', 'Good', 'Medium'], dtype=object), array([19, 20, 81]))\n"
          ],
          "name": "stdout"
        }
      ]
    },
    {
      "cell_type": "code",
      "metadata": {
        "colab": {
          "base_uri": "https://localhost:8080/"
        },
        "id": "T4hBeudy6mhu",
        "outputId": "b23470f9-b99f-4f48-98a9-7142315ec226"
      },
      "source": [
        "print(confusion_matrix(pred2, y_test))\n",
        "print(classification_report(y_test, pred2, digits=3))"
      ],
      "execution_count": 126,
      "outputs": [
        {
          "output_type": "stream",
          "text": [
            "[[11  0  8]\n",
            " [ 0 17  3]\n",
            " [15  8 58]]\n",
            "              precision    recall  f1-score   support\n",
            "\n",
            "         Bad      0.579     0.423     0.489        26\n",
            "        Good      0.850     0.680     0.756        25\n",
            "      Medium      0.716     0.841     0.773        69\n",
            "\n",
            "    accuracy                          0.717       120\n",
            "   macro avg      0.715     0.648     0.673       120\n",
            "weighted avg      0.714     0.717     0.708       120\n",
            "\n"
          ],
          "name": "stdout"
        }
      ]
    }
  ]
}