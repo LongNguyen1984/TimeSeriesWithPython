{
  "nbformat": 4,
  "nbformat_minor": 0,
  "metadata": {
    "colab": {
      "name": "RandomSelect_Bootstrap1a.ipynb",
      "provenance": [],
      "authorship_tag": "ABX9TyNM+ougNC4fk5dDO00nHEXs",
      "include_colab_link": true
    },
    "kernelspec": {
      "name": "python3",
      "display_name": "Python 3"
    },
    "language_info": {
      "name": "python"
    },
    "accelerator": "GPU"
  },
  "cells": [
    {
      "cell_type": "markdown",
      "metadata": {
        "id": "view-in-github",
        "colab_type": "text"
      },
      "source": [
        "<a href=\"https://colab.research.google.com/github/LongNguyen1984/TimeSeriesWithPython/blob/main/RandomSelect_Bootstrap1a.ipynb\" target=\"_parent\"><img src=\"https://colab.research.google.com/assets/colab-badge.svg\" alt=\"Open In Colab\"/></a>"
      ]
    },
    {
      "cell_type": "markdown",
      "metadata": {
        "id": "v4_r_TZqe2Sb"
      },
      "source": [
        "## Resampling with replacement\n",
        "\n",
        "```\n",
        "# This is formatted as code\n",
        "```\n",
        "\n"
      ]
    },
    {
      "cell_type": "markdown",
      "metadata": {
        "id": "it92K7Hhi1n9"
      },
      "source": [
        "Install cupy-cuda"
      ]
    },
    {
      "cell_type": "code",
      "metadata": {
        "colab": {
          "base_uri": "https://localhost:8080/"
        },
        "id": "QOuQeypLfc-A",
        "outputId": "6711f954-a945-4a4d-89cd-112fa79c09b2"
      },
      "source": [
        "!pip install cupy-cuda100"
      ],
      "execution_count": 1,
      "outputs": [
        {
          "output_type": "stream",
          "name": "stdout",
          "text": [
            "Collecting cupy-cuda100\n",
            "  Downloading cupy_cuda100-9.4.0-cp37-cp37m-manylinux1_x86_64.whl (58.9 MB)\n",
            "\u001b[K     |████████████████████████████████| 58.9 MB 20 kB/s \n",
            "\u001b[?25hRequirement already satisfied: numpy<1.24,>=1.17 in /usr/local/lib/python3.7/dist-packages (from cupy-cuda100) (1.19.5)\n",
            "Requirement already satisfied: fastrlock>=0.5 in /usr/local/lib/python3.7/dist-packages (from cupy-cuda100) (0.6)\n",
            "Installing collected packages: cupy-cuda100\n",
            "Successfully installed cupy-cuda100-9.4.0\n"
          ]
        }
      ]
    },
    {
      "cell_type": "code",
      "metadata": {
        "id": "Jz0EDpvPeyTk"
      },
      "source": [
        "import numpy as np\n",
        "import cupy as cp\n",
        "import torch\n",
        "import tensorflow as tf\n",
        "import pandas as pd\n",
        "import random\n",
        "from collections import Counter\n",
        "import seaborn as sns\n",
        "import matplotlib.pyplot as plt\n",
        "import scipy.stats as stats"
      ],
      "execution_count": 2,
      "outputs": []
    },
    {
      "cell_type": "markdown",
      "metadata": {
        "id": "bA8ZWw10jB9E"
      },
      "source": [
        "Create a histogram function"
      ]
    },
    {
      "cell_type": "code",
      "metadata": {
        "id": "QL9xpj4rfZnB"
      },
      "source": [
        "def histogram(data: np.array, bins=50):\n",
        "\n",
        "  plt.rcParams['figure.figsize'] = (20,3)\n",
        "  cm = plt.cm.get_cmap('RdYlGn')\n",
        "\n",
        "  plt.rcParams['figure.figsize'] = (6,2)\n",
        "\n",
        "  n, bins, patches = plt.hist(data, bins = bins)\n",
        "  bin_centers = 1*(bins[:-1] + bins[1:] )\n",
        "  col = bin_centers - min(bin_centers)\n",
        "  col /= max(col)\n",
        "\n",
        "  for c, p in zip(col, patches):\n",
        "    plt.setp(p, 'facecolor', cm(c))\n",
        "\n",
        "  plt.show()"
      ],
      "execution_count": 8,
      "outputs": []
    },
    {
      "cell_type": "code",
      "metadata": {
        "colab": {
          "base_uri": "https://localhost:8080/"
        },
        "id": "m5VMR-Skj1ZC",
        "outputId": "2c988b02-17bc-4303-d856-af2f0b4fc1bf"
      },
      "source": [
        "x = list(range(100))\n",
        "print(x)"
      ],
      "execution_count": 14,
      "outputs": [
        {
          "output_type": "stream",
          "name": "stdout",
          "text": [
            "[0, 1, 2, 3, 4, 5, 6, 7, 8, 9, 10, 11, 12, 13, 14, 15, 16, 17, 18, 19, 20, 21, 22, 23, 24, 25, 26, 27, 28, 29, 30, 31, 32, 33, 34, 35, 36, 37, 38, 39, 40, 41, 42, 43, 44, 45, 46, 47, 48, 49, 50, 51, 52, 53, 54, 55, 56, 57, 58, 59, 60, 61, 62, 63, 64, 65, 66, 67, 68, 69, 70, 71, 72, 73, 74, 75, 76, 77, 78, 79, 80, 81, 82, 83, 84, 85, 86, 87, 88, 89, 90, 91, 92, 93, 94, 95, 96, 97, 98, 99]\n"
          ]
        }
      ]
    },
    {
      "cell_type": "code",
      "metadata": {
        "colab": {
          "base_uri": "https://localhost:8080/",
          "height": 157
        },
        "id": "a6DBeI93j6lO",
        "outputId": "a3ce7efe-639b-4802-e73f-addd83b48caf"
      },
      "source": [
        "histogram(data = x, bins=len(x))"
      ],
      "execution_count": 24,
      "outputs": [
        {
          "output_type": "display_data",
          "data": {
            "image/png": "[encoded data removed]",
            "text/plain": [
              "<Figure size 432x144 with 1 Axes>"
            ]
          },
          "metadata": {
            "needs_background": "light"
          }
        }
      ]
    },
    {
      "cell_type": "markdown",
      "metadata": {
        "id": "envz40-wlNcX"
      },
      "source": [
        "### Random in python"
      ]
    },
    {
      "cell_type": "code",
      "metadata": {
        "colab": {
          "base_uri": "https://localhost:8080/",
          "height": 157
        },
        "id": "ewZYSMTskoQa",
        "outputId": "eb71501c-cedd-4e8f-e58b-8c8f1af8f5fb"
      },
      "source": [
        "## random.randint (Noted that range from [0 - k-1])\n",
        "k = len(x)\n",
        "rs_idx = [random.randint(0,k-1) for i in range(k)]\n",
        "\n",
        "histogram(data = np.array(x)[rs_idx], bins = len(x))"
      ],
      "execution_count": 26,
      "outputs": [
        {
          "output_type": "display_data",
          "data": {
            "image/png": "[encoded data removed]",
            "text/plain": [
              "<Figure size 432x144 with 1 Axes>"
            ]
          },
          "metadata": {
            "needs_background": "light"
          }
        }
      ]
    },
    {
      "cell_type": "code",
      "metadata": {
        "colab": {
          "base_uri": "https://localhost:8080/",
          "height": 157
        },
        "id": "4tP_ut3ul5pE",
        "outputId": "f857b3ce-700d-44d7-f732-d883ffe57c37"
      },
      "source": [
        "# random.randrange\n",
        "rs_idx = [random.randrange(0,k) for i in range(k)]\n",
        "\n",
        "histogram(data = np.array(x)[rs_idx], bins=len(x))"
      ],
      "execution_count": 28,
      "outputs": [
        {
          "output_type": "display_data",
          "data": {
            "image/png": "[encoded data removed]",
            "text/plain": [
              "<Figure size 432x144 with 1 Axes>"
            ]
          },
          "metadata": {
            "needs_background": "light"
          }
        }
      ]
    },
    {
      "cell_type": "code",
      "metadata": {
        "colab": {
          "base_uri": "https://localhost:8080/",
          "height": 157
        },
        "id": "WU3hvECimXtz",
        "outputId": "a41c6ba5-21f9-4118-e750-ecd503cc3216"
      },
      "source": [
        "### random.uniform\n",
        "rs_idx = [int(random.uniform(0,k)) for i  in range(k)]\n",
        "\n",
        "histogram(data = np.array(x)[rs_idx], bins=len(x))"
      ],
      "execution_count": 32,
      "outputs": [
        {
          "output_type": "display_data",
          "data": {
            "image/png": "[encoded data removed]",
            "text/plain": [
              "<Figure size 432x144 with 1 Axes>"
            ]
          },
          "metadata": {
            "needs_background": "light"
          }
        }
      ]
    },
    {
      "cell_type": "code",
      "metadata": {
        "colab": {
          "base_uri": "https://localhost:8080/",
          "height": 157
        },
        "id": "xR9NkeF2nNzb",
        "outputId": "be95784b-6fc5-41e2-f93e-5bb2fe312e17"
      },
      "source": [
        "### random.choices\n",
        "rsx = random.choices(x, k= 100)\n",
        "\n",
        "histogram(data = rsx, bins = len(rsx))"
      ],
      "execution_count": 33,
      "outputs": [
        {
          "output_type": "display_data",
          "data": {
            "image/png": "[encoded data removed]",
            "text/plain": [
              "<Figure size 432x144 with 1 Axes>"
            ]
          },
          "metadata": {
            "needs_background": "light"
          }
        }
      ]
    },
    {
      "cell_type": "markdown",
      "metadata": {
        "id": "zxdxy2lFnnia"
      },
      "source": [
        "## Random.sample operates in a UN-Replacement mechanism. It means that we swap elements in a list"
      ]
    },
    {
      "cell_type": "code",
      "metadata": {
        "colab": {
          "base_uri": "https://localhost:8080/",
          "height": 157
        },
        "id": "uc-kojXpoFtz",
        "outputId": "e43a0d82-74b2-4ad6-a285-67bbaa12caca"
      },
      "source": [
        "rsx_wor = random.sample(list(x), k = 100)\n",
        "\n",
        "histogram(data = rsx_wor, bins=len(rsx))"
      ],
      "execution_count": 36,
      "outputs": [
        {
          "output_type": "display_data",
          "data": {
            "image/png": "[encoded data removed]",
            "text/plain": [
              "<Figure size 432x144 with 1 Axes>"
            ]
          },
          "metadata": {
            "needs_background": "light"
          }
        }
      ]
    },
    {
      "cell_type": "code",
      "metadata": {
        "colab": {
          "base_uri": "https://localhost:8080/"
        },
        "id": "ODXKf8NPoOsz",
        "outputId": "a981b025-7f12-4994-bf0a-d6a1f0cc843b"
      },
      "source": [
        "print(rsx_wor)"
      ],
      "execution_count": 37,
      "outputs": [
        {
          "output_type": "stream",
          "name": "stdout",
          "text": [
            "[17, 36, 65, 24, 68, 31, 23, 0, 63, 97, 58, 88, 79, 92, 69, 51, 3, 64, 60, 95, 6, 26, 8, 37, 15, 48, 77, 42, 83, 87, 67, 75, 33, 91, 16, 32, 41, 45, 59, 43, 47, 98, 1, 39, 96, 21, 50, 76, 28, 82, 11, 29, 89, 62, 86, 74, 73, 80, 13, 57, 4, 25, 20, 90, 19, 54, 14, 85, 22, 93, 9, 81, 2, 44, 12, 30, 56, 52, 70, 99, 49, 72, 27, 84, 7, 53, 61, 5, 18, 78, 10, 34, 94, 66, 35, 46, 40, 55, 71, 38]\n"
          ]
        }
      ]
    },
    {
      "cell_type": "markdown",
      "metadata": {
        "id": "N-Al_jSxopYM"
      },
      "source": [
        "## Numpy"
      ]
    },
    {
      "cell_type": "code",
      "metadata": {
        "colab": {
          "base_uri": "https://localhost:8080/",
          "height": 157
        },
        "id": "9xBJsAACorDM",
        "outputId": "0ecb0b3e-31a9-4192-f7e1-07e1675d46f5"
      },
      "source": [
        "# numpy.randint taka random sample in range [0, k]\n",
        "\n",
        "x = np.array(x)\n",
        "\n",
        "rs_idx = np.random.randint(0,k,k)\n",
        "\n",
        "histogram(data = x[rs_idx], bins=len(rsx))"
      ],
      "execution_count": 38,
      "outputs": [
        {
          "output_type": "display_data",
          "data": {
            "image/png": "[encoded data removed]",
            "text/plain": [
              "<Figure size 432x144 with 1 Axes>"
            ]
          },
          "metadata": {
            "needs_background": "light"
          }
        }
      ]
    },
    {
      "cell_type": "code",
      "metadata": {
        "colab": {
          "base_uri": "https://localhost:8080/",
          "height": 157
        },
        "id": "BpF8XkPxoygK",
        "outputId": "9f6a0203-a62b-4af0-f8e9-defa6738e01f"
      },
      "source": [
        "# numpy.choices\n",
        "\n",
        "rsx = np.random.choice(x, size=k, replace=True)\n",
        "\n",
        "histogram(rsx, len(rsx))"
      ],
      "execution_count": 39,
      "outputs": [
        {
          "output_type": "display_data",
          "data": {
            "image/png": "[encoded data removed]",
            "text/plain": [
              "<Figure size 432x144 with 1 Axes>"
            ]
          },
          "metadata": {
            "needs_background": "light"
          }
        }
      ]
    },
    {
      "cell_type": "markdown",
      "metadata": {
        "id": "lCd-jbWvpRPq"
      },
      "source": [
        "## Pythorch\n",
        "Required GPU to run"
      ]
    },
    {
      "cell_type": "code",
      "metadata": {
        "id": "9NmcsxPmpS-6"
      },
      "source": [
        "def torch_boot_idx(pop_size, num_samples):\n",
        "    p = torch.ones(pop_size, device='cuda') / pop_size\n",
        "    return p.multinomial(num_samples=num_samples, replacement=True)"
      ],
      "execution_count": 4,
      "outputs": []
    },
    {
      "cell_type": "code",
      "metadata": {
        "colab": {
          "base_uri": "https://localhost:8080/",
          "height": 174
        },
        "id": "_IX8gJq4pkS5",
        "outputId": "4971f51a-abff-4eed-a47c-5a4b5dcd4892"
      },
      "source": [
        "import time\n",
        "k = 100\n",
        "x = np.array(range(k))\n",
        "tor_idx = torch_boot_idx(pop_size = k, num_samples = k)\n",
        "tic = time.time()\n",
        "torch_x = torch.tensor(x, device = 'cuda') # Lưu ý: đang dùng GPU\n",
        "toc = time.time()\n",
        "print('Time consume:', toc - tic)\n",
        "histogram(data = torch_x[tor_idx].cpu().detach().numpy(), \n",
        "          bins=k)"
      ],
      "execution_count": 11,
      "outputs": [
        {
          "output_type": "stream",
          "name": "stdout",
          "text": [
            "Time consume: 0.00030875205993652344\n"
          ]
        },
        {
          "output_type": "display_data",
          "data": {
            "image/png": "[encoded data removed]",
            "text/plain": [
              "<Figure size 432x144 with 1 Axes>"
            ]
          },
          "metadata": {
            "needs_background": "light"
          }
        }
      ]
    },
    {
      "cell_type": "code",
      "metadata": {
        "colab": {
          "base_uri": "https://localhost:8080/",
          "height": 157
        },
        "id": "0ag1tA_Lq-Rg",
        "outputId": "cf41bbde-b090-46a4-8172-ea354e1459b9"
      },
      "source": [
        "tor_idx = torch.randint(0,k,size = (k,), device = 'cuda')\n",
        "\n",
        "histogram(data = torch_x[tor_idx].cpu().detach().numpy(), \n",
        "          bins=k)"
      ],
      "execution_count": 12,
      "outputs": [
        {
          "output_type": "display_data",
          "data": {
            "image/png": "[encoded data removed]",
            "text/plain": [
              "<Figure size 432x144 with 1 Axes>"
            ]
          },
          "metadata": {
            "needs_background": "light"
          }
        }
      ]
    },
    {
      "cell_type": "markdown",
      "metadata": {
        "id": "KFSjaaLWrKNi"
      },
      "source": [
        "## Tensorflow"
      ]
    },
    {
      "cell_type": "code",
      "metadata": {
        "colab": {
          "base_uri": "https://localhost:8080/"
        },
        "id": "HKQ1-sGqrQF6",
        "outputId": "a9aca54f-7cfc-493c-c8ab-a3fe1876e7a8"
      },
      "source": [
        "tf_x = tf.convert_to_tensor(x)\n",
        "\n",
        "tf_x"
      ],
      "execution_count": 13,
      "outputs": [
        {
          "output_type": "execute_result",
          "data": {
            "text/plain": [
              "<tf.Tensor: shape=(100,), dtype=int64, numpy=\n",
              "array([ 0,  1,  2,  3,  4,  5,  6,  7,  8,  9, 10, 11, 12, 13, 14, 15, 16,\n",
              "       17, 18, 19, 20, 21, 22, 23, 24, 25, 26, 27, 28, 29, 30, 31, 32, 33,\n",
              "       34, 35, 36, 37, 38, 39, 40, 41, 42, 43, 44, 45, 46, 47, 48, 49, 50,\n",
              "       51, 52, 53, 54, 55, 56, 57, 58, 59, 60, 61, 62, 63, 64, 65, 66, 67,\n",
              "       68, 69, 70, 71, 72, 73, 74, 75, 76, 77, 78, 79, 80, 81, 82, 83, 84,\n",
              "       85, 86, 87, 88, 89, 90, 91, 92, 93, 94, 95, 96, 97, 98, 99])>"
            ]
          },
          "metadata": {},
          "execution_count": 13
        }
      ]
    },
    {
      "cell_type": "code",
      "metadata": {
        "colab": {
          "base_uri": "https://localhost:8080/"
        },
        "id": "gEd1CU4IrZ8r",
        "outputId": "4a1f370b-98ef-4b11-8cb8-a58210c2287f"
      },
      "source": [
        "tf_idx = tf.random.uniform((k,), minval=0, maxval=k, dtype = tf.dtypes.int32)\n",
        "\n",
        "tf_idx"
      ],
      "execution_count": 14,
      "outputs": [
        {
          "output_type": "execute_result",
          "data": {
            "text/plain": [
              "<tf.Tensor: shape=(100,), dtype=int32, numpy=\n",
              "array([54, 91, 57, 54, 70, 54, 32, 96, 52, 98, 28,  8, 83, 79, 66, 32, 90,\n",
              "       41, 24, 68, 20, 37, 57, 68, 75, 12, 90, 73, 64, 30, 91, 82, 82,  4,\n",
              "       91, 30, 71, 43, 30, 61, 93, 69, 16, 74, 66,  7, 53, 54, 38, 82, 50,\n",
              "        2, 44, 75, 78, 82, 34, 52,  1, 27, 72, 94, 52, 66,  0, 15, 90, 43,\n",
              "       44, 34, 33, 44, 77, 50, 55, 51, 91, 40, 76, 98, 44, 40, 45, 33, 10,\n",
              "       26, 81, 77,  5, 99,  2, 36, 92, 79, 48, 94, 17,  8, 99, 52],\n",
              "      dtype=int32)>"
            ]
          },
          "metadata": {},
          "execution_count": 14
        }
      ]
    },
    {
      "cell_type": "code",
      "metadata": {
        "colab": {
          "base_uri": "https://localhost:8080/",
          "height": 157
        },
        "id": "Qtr_kyETrjS9",
        "outputId": "4782f60c-3a44-43d2-dc27-d5200da20099"
      },
      "source": [
        "histogram(data = tf_x.numpy()[tf_idx], \n",
        "          bins=k)"
      ],
      "execution_count": 15,
      "outputs": [
        {
          "output_type": "display_data",
          "data": {
            "image/png": "[encoded data removed]",
            "text/plain": [
              "<Figure size 432x144 with 1 Axes>"
            ]
          },
          "metadata": {
            "needs_background": "light"
          }
        }
      ]
    },
    {
      "cell_type": "markdown",
      "metadata": {
        "id": "PXQcIeMsrpug"
      },
      "source": [
        "## Cupy"
      ]
    },
    {
      "cell_type": "code",
      "metadata": {
        "colab": {
          "base_uri": "https://localhost:8080/"
        },
        "id": "UJkTJkpTrrO5",
        "outputId": "184b1085-2d21-4f28-a670-532500391b1e"
      },
      "source": [
        "gpu_x = cp.asarray(x)\n",
        "\n",
        "gpu_x"
      ],
      "execution_count": 16,
      "outputs": [
        {
          "output_type": "execute_result",
          "data": {
            "text/plain": [
              "array([ 0,  1,  2,  3,  4,  5,  6,  7,  8,  9, 10, 11, 12, 13, 14, 15, 16,\n",
              "       17, 18, 19, 20, 21, 22, 23, 24, 25, 26, 27, 28, 29, 30, 31, 32, 33,\n",
              "       34, 35, 36, 37, 38, 39, 40, 41, 42, 43, 44, 45, 46, 47, 48, 49, 50,\n",
              "       51, 52, 53, 54, 55, 56, 57, 58, 59, 60, 61, 62, 63, 64, 65, 66, 67,\n",
              "       68, 69, 70, 71, 72, 73, 74, 75, 76, 77, 78, 79, 80, 81, 82, 83, 84,\n",
              "       85, 86, 87, 88, 89, 90, 91, 92, 93, 94, 95, 96, 97, 98, 99])"
            ]
          },
          "metadata": {},
          "execution_count": 16
        }
      ]
    },
    {
      "cell_type": "code",
      "metadata": {
        "colab": {
          "base_uri": "https://localhost:8080/"
        },
        "id": "ormM0dEyr78T",
        "outputId": "b73c15ca-205d-4ecf-d739-a9b5b23a98fb"
      },
      "source": [
        "cp_rsx = cp.random.choice(gpu_x, size=k, replace=True)\n",
        "\n",
        "cp_rsx"
      ],
      "execution_count": 17,
      "outputs": [
        {
          "output_type": "execute_result",
          "data": {
            "text/plain": [
              "array([ 4, 62, 35, 35, 57, 49, 61, 88, 36, 54,  5, 49, 32, 75, 95, 10, 69,\n",
              "       42, 63, 50, 28,  8, 15,  3, 31, 41, 26, 51, 34, 95, 51, 20,  4, 27,\n",
              "       89, 81, 34, 83, 59, 41, 97, 65, 29, 24, 90, 30, 87, 56, 61,  8, 25,\n",
              "       31, 64,  9, 51,  5,  9, 48, 99, 67, 69, 66, 25, 14, 15,  9, 67, 92,\n",
              "       93, 51, 23,  2,  0, 26, 52,  1, 72, 68,  0, 97, 50, 67, 17, 67, 89,\n",
              "       16, 63, 71, 14, 88, 75,  6, 21, 24, 31, 36, 24,  6, 47, 29])"
            ]
          },
          "metadata": {},
          "execution_count": 17
        }
      ]
    },
    {
      "cell_type": "code",
      "metadata": {
        "colab": {
          "base_uri": "https://localhost:8080/",
          "height": 157
        },
        "id": "A7eXymPZsHVA",
        "outputId": "76f6a970-f4b7-4996-b62c-02739ab8c15b"
      },
      "source": [
        "histogram(data = cp.asnumpy(cp_rsx), bins = k)"
      ],
      "execution_count": 18,
      "outputs": [
        {
          "output_type": "display_data",
          "data": {
            "image/png": "[encoded data removed]",
            "text/plain": [
              "<Figure size 432x144 with 1 Axes>"
            ]
          },
          "metadata": {
            "needs_background": "light"
          }
        }
      ]
    },
    {
      "cell_type": "markdown",
      "metadata": {
        "id": "75iVskDosSIx"
      },
      "source": [
        "## Pandas"
      ]
    },
    {
      "cell_type": "code",
      "metadata": {
        "colab": {
          "base_uri": "https://localhost:8080/"
        },
        "id": "9ajU-pxnsTcp",
        "outputId": "7fdbfaff-7fda-44b0-b699-3a05af7fde90"
      },
      "source": [
        "# Pandas series\n",
        "\n",
        "pd_x = pd.Series(x)\n",
        "\n",
        "pd_x"
      ],
      "execution_count": 20,
      "outputs": [
        {
          "output_type": "execute_result",
          "data": {
            "text/plain": [
              "0      0\n",
              "1      1\n",
              "2      2\n",
              "3      3\n",
              "4      4\n",
              "      ..\n",
              "95    95\n",
              "96    96\n",
              "97    97\n",
              "98    98\n",
              "99    99\n",
              "Length: 100, dtype: int64"
            ]
          },
          "metadata": {},
          "execution_count": 20
        }
      ]
    },
    {
      "cell_type": "code",
      "metadata": {
        "colab": {
          "base_uri": "https://localhost:8080/",
          "height": 157
        },
        "id": "rfb_Hr5Csdsx",
        "outputId": "bd118699-ad65-410f-9206-0a108a3a78a4"
      },
      "source": [
        "pd_rsx = pd_x.sample(n=k, replace=True)\n",
        "\n",
        "histogram(data= pd_rsx, bins=k)"
      ],
      "execution_count": 22,
      "outputs": [
        {
          "output_type": "display_data",
          "data": {
            "image/png": "[encoded data removed]",
            "text/plain": [
              "<Figure size 432x144 with 1 Axes>"
            ]
          },
          "metadata": {
            "needs_background": "light"
          }
        }
      ]
    }
  ]
}