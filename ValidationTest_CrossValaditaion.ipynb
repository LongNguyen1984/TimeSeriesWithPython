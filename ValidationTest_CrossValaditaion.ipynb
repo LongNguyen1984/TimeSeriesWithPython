{
  "nbformat": 4,
  "nbformat_minor": 0,
  "metadata": {
    "colab": {
      "name": "ValidationTest_CrossValaditaion.ipynb",
      "provenance": [],
      "authorship_tag": "ABX9TyOkdK+H21EerEXzXkh2sL2y",
      "include_colab_link": true
    },
    "kernelspec": {
      "name": "python3",
      "display_name": "Python 3"
    },
    "language_info": {
      "name": "python"
    }
  },
  "cells": [
    {
      "cell_type": "markdown",
      "metadata": {
        "id": "view-in-github",
        "colab_type": "text"
      },
      "source": [
        "<a href=\"https://colab.research.google.com/github/LongNguyen1984/TimeSeriesWithPython/blob/main/ValidationTest_CrossValaditaion.ipynb\" target=\"_parent\"><img src=\"https://colab.research.google.com/assets/colab-badge.svg\" alt=\"Open In Colab\"/></a>"
      ]
    },
    {
      "cell_type": "code",
      "metadata": {
        "colab": {
          "base_uri": "https://localhost:8080/"
        },
        "id": "9Gv_qchyT6X5",
        "outputId": "4571ecd5-96a4-446b-dd7a-d74b7ab5a8e9"
      },
      "source": [
        "%matplotlib inline\n",
        "import pandas as pd\n",
        "import numpy as np\n",
        "import itertools\n",
        "import statsmodels.api as sm\n",
        "import matplotlib.pyplot as plt"
      ],
      "execution_count": 1,
      "outputs": [
        {
          "output_type": "stream",
          "text": [
            "/usr/local/lib/python3.7/dist-packages/statsmodels/tools/_testing.py:19: FutureWarning: pandas.util.testing is deprecated. Use the functions in the public API at pandas.testing instead.\n",
            "  import pandas.util.testing as tm\n"
          ],
          "name": "stderr"
        }
      ]
    },
    {
      "cell_type": "code",
      "metadata": {
        "id": "r2ap5CUBUWhe"
      },
      "source": [
        "df = pd.read_csv('https://raw.githubusercontent.com/JWarmenhoven/ISLR-python/master/Notebooks/Data/Hitters.csv', header=0)\n",
        "\n",
        "# Drop any rows the contain missing values, along with the player names\n",
        "df = df.dropna().drop('Unnamed: 0', axis=1)\n",
        "\n",
        "#Get dummy variable\n",
        "dummies = pd.get_dummies(df[['League', 'Division', 'NewLeague']])\n",
        "\n",
        "# Extract independent variable\n",
        "y = pd.DataFrame(df.Salary)\n",
        "\n",
        "# Drop the column with the independent variable (Salary), and columns for which we created dummy varibales\n",
        "X_ = df.drop(['Salary', 'League', 'Division', 'NewLeague'], axis=1).astype('float64')\n",
        "\n",
        "# Define the feature set X.\n",
        "X = pd.concat([X_, dummies[['League_N', 'Division_W', 'NewLeague_N']]], axis=1)\n",
        "\n"
      ],
      "execution_count": 2,
      "outputs": []
    },
    {
      "cell_type": "code",
      "metadata": {
        "colab": {
          "base_uri": "https://localhost:8080/",
          "height": 204
        },
        "id": "7fkRCGxTgZke",
        "outputId": "8f8e7fc8-923b-4e80-aed2-cf32066e1ef2"
      },
      "source": [
        "dummies.head()"
      ],
      "execution_count": 3,
      "outputs": [
        {
          "output_type": "execute_result",
          "data": {
            "text/html": [
              "<div>\n",
              "<style scoped>\n",
              "    .dataframe tbody tr th:only-of-type {\n",
              "        vertical-align: middle;\n",
              "    }\n",
              "\n",
              "    .dataframe tbody tr th {\n",
              "        vertical-align: top;\n",
              "    }\n",
              "\n",
              "    .dataframe thead th {\n",
              "        text-align: right;\n",
              "    }\n",
              "</style>\n",
              "<table border=\"1\" class=\"dataframe\">\n",
              "  <thead>\n",
              "    <tr style=\"text-align: right;\">\n",
              "      <th></th>\n",
              "      <th>League_A</th>\n",
              "      <th>League_N</th>\n",
              "      <th>Division_E</th>\n",
              "      <th>Division_W</th>\n",
              "      <th>NewLeague_A</th>\n",
              "      <th>NewLeague_N</th>\n",
              "    </tr>\n",
              "  </thead>\n",
              "  <tbody>\n",
              "    <tr>\n",
              "      <th>1</th>\n",
              "      <td>0</td>\n",
              "      <td>1</td>\n",
              "      <td>0</td>\n",
              "      <td>1</td>\n",
              "      <td>0</td>\n",
              "      <td>1</td>\n",
              "    </tr>\n",
              "    <tr>\n",
              "      <th>2</th>\n",
              "      <td>1</td>\n",
              "      <td>0</td>\n",
              "      <td>0</td>\n",
              "      <td>1</td>\n",
              "      <td>1</td>\n",
              "      <td>0</td>\n",
              "    </tr>\n",
              "    <tr>\n",
              "      <th>3</th>\n",
              "      <td>0</td>\n",
              "      <td>1</td>\n",
              "      <td>1</td>\n",
              "      <td>0</td>\n",
              "      <td>0</td>\n",
              "      <td>1</td>\n",
              "    </tr>\n",
              "    <tr>\n",
              "      <th>4</th>\n",
              "      <td>0</td>\n",
              "      <td>1</td>\n",
              "      <td>1</td>\n",
              "      <td>0</td>\n",
              "      <td>0</td>\n",
              "      <td>1</td>\n",
              "    </tr>\n",
              "    <tr>\n",
              "      <th>5</th>\n",
              "      <td>1</td>\n",
              "      <td>0</td>\n",
              "      <td>0</td>\n",
              "      <td>1</td>\n",
              "      <td>1</td>\n",
              "      <td>0</td>\n",
              "    </tr>\n",
              "  </tbody>\n",
              "</table>\n",
              "</div>"
            ],
            "text/plain": [
              "   League_A  League_N  Division_E  Division_W  NewLeague_A  NewLeague_N\n",
              "1         0         1           0           1            0            1\n",
              "2         1         0           0           1            1            0\n",
              "3         0         1           1           0            0            1\n",
              "4         0         1           1           0            0            1\n",
              "5         1         0           0           1            1            0"
            ]
          },
          "metadata": {
            "tags": []
          },
          "execution_count": 3
        }
      ]
    },
    {
      "cell_type": "code",
      "metadata": {
        "colab": {
          "base_uri": "https://localhost:8080/",
          "height": 669
        },
        "id": "yOWvjlGIWEwN",
        "outputId": "5f000d42-1d1e-446e-cf29-c2e0a33567c0"
      },
      "source": [
        "df.head(20)"
      ],
      "execution_count": 4,
      "outputs": [
        {
          "output_type": "execute_result",
          "data": {
            "text/html": [
              "<div>\n",
              "<style scoped>\n",
              "    .dataframe tbody tr th:only-of-type {\n",
              "        vertical-align: middle;\n",
              "    }\n",
              "\n",
              "    .dataframe tbody tr th {\n",
              "        vertical-align: top;\n",
              "    }\n",
              "\n",
              "    .dataframe thead th {\n",
              "        text-align: right;\n",
              "    }\n",
              "</style>\n",
              "<table border=\"1\" class=\"dataframe\">\n",
              "  <thead>\n",
              "    <tr style=\"text-align: right;\">\n",
              "      <th></th>\n",
              "      <th>AtBat</th>\n",
              "      <th>Hits</th>\n",
              "      <th>HmRun</th>\n",
              "      <th>Runs</th>\n",
              "      <th>RBI</th>\n",
              "      <th>Walks</th>\n",
              "      <th>Years</th>\n",
              "      <th>CAtBat</th>\n",
              "      <th>CHits</th>\n",
              "      <th>CHmRun</th>\n",
              "      <th>CRuns</th>\n",
              "      <th>CRBI</th>\n",
              "      <th>CWalks</th>\n",
              "      <th>League</th>\n",
              "      <th>Division</th>\n",
              "      <th>PutOuts</th>\n",
              "      <th>Assists</th>\n",
              "      <th>Errors</th>\n",
              "      <th>Salary</th>\n",
              "      <th>NewLeague</th>\n",
              "    </tr>\n",
              "  </thead>\n",
              "  <tbody>\n",
              "    <tr>\n",
              "      <th>1</th>\n",
              "      <td>315</td>\n",
              "      <td>81</td>\n",
              "      <td>7</td>\n",
              "      <td>24</td>\n",
              "      <td>38</td>\n",
              "      <td>39</td>\n",
              "      <td>14</td>\n",
              "      <td>3449</td>\n",
              "      <td>835</td>\n",
              "      <td>69</td>\n",
              "      <td>321</td>\n",
              "      <td>414</td>\n",
              "      <td>375</td>\n",
              "      <td>N</td>\n",
              "      <td>W</td>\n",
              "      <td>632</td>\n",
              "      <td>43</td>\n",
              "      <td>10</td>\n",
              "      <td>475.000</td>\n",
              "      <td>N</td>\n",
              "    </tr>\n",
              "    <tr>\n",
              "      <th>2</th>\n",
              "      <td>479</td>\n",
              "      <td>130</td>\n",
              "      <td>18</td>\n",
              "      <td>66</td>\n",
              "      <td>72</td>\n",
              "      <td>76</td>\n",
              "      <td>3</td>\n",
              "      <td>1624</td>\n",
              "      <td>457</td>\n",
              "      <td>63</td>\n",
              "      <td>224</td>\n",
              "      <td>266</td>\n",
              "      <td>263</td>\n",
              "      <td>A</td>\n",
              "      <td>W</td>\n",
              "      <td>880</td>\n",
              "      <td>82</td>\n",
              "      <td>14</td>\n",
              "      <td>480.000</td>\n",
              "      <td>A</td>\n",
              "    </tr>\n",
              "    <tr>\n",
              "      <th>3</th>\n",
              "      <td>496</td>\n",
              "      <td>141</td>\n",
              "      <td>20</td>\n",
              "      <td>65</td>\n",
              "      <td>78</td>\n",
              "      <td>37</td>\n",
              "      <td>11</td>\n",
              "      <td>5628</td>\n",
              "      <td>1575</td>\n",
              "      <td>225</td>\n",
              "      <td>828</td>\n",
              "      <td>838</td>\n",
              "      <td>354</td>\n",
              "      <td>N</td>\n",
              "      <td>E</td>\n",
              "      <td>200</td>\n",
              "      <td>11</td>\n",
              "      <td>3</td>\n",
              "      <td>500.000</td>\n",
              "      <td>N</td>\n",
              "    </tr>\n",
              "    <tr>\n",
              "      <th>4</th>\n",
              "      <td>321</td>\n",
              "      <td>87</td>\n",
              "      <td>10</td>\n",
              "      <td>39</td>\n",
              "      <td>42</td>\n",
              "      <td>30</td>\n",
              "      <td>2</td>\n",
              "      <td>396</td>\n",
              "      <td>101</td>\n",
              "      <td>12</td>\n",
              "      <td>48</td>\n",
              "      <td>46</td>\n",
              "      <td>33</td>\n",
              "      <td>N</td>\n",
              "      <td>E</td>\n",
              "      <td>805</td>\n",
              "      <td>40</td>\n",
              "      <td>4</td>\n",
              "      <td>91.500</td>\n",
              "      <td>N</td>\n",
              "    </tr>\n",
              "    <tr>\n",
              "      <th>5</th>\n",
              "      <td>594</td>\n",
              "      <td>169</td>\n",
              "      <td>4</td>\n",
              "      <td>74</td>\n",
              "      <td>51</td>\n",
              "      <td>35</td>\n",
              "      <td>11</td>\n",
              "      <td>4408</td>\n",
              "      <td>1133</td>\n",
              "      <td>19</td>\n",
              "      <td>501</td>\n",
              "      <td>336</td>\n",
              "      <td>194</td>\n",
              "      <td>A</td>\n",
              "      <td>W</td>\n",
              "      <td>282</td>\n",
              "      <td>421</td>\n",
              "      <td>25</td>\n",
              "      <td>750.000</td>\n",
              "      <td>A</td>\n",
              "    </tr>\n",
              "    <tr>\n",
              "      <th>6</th>\n",
              "      <td>185</td>\n",
              "      <td>37</td>\n",
              "      <td>1</td>\n",
              "      <td>23</td>\n",
              "      <td>8</td>\n",
              "      <td>21</td>\n",
              "      <td>2</td>\n",
              "      <td>214</td>\n",
              "      <td>42</td>\n",
              "      <td>1</td>\n",
              "      <td>30</td>\n",
              "      <td>9</td>\n",
              "      <td>24</td>\n",
              "      <td>N</td>\n",
              "      <td>E</td>\n",
              "      <td>76</td>\n",
              "      <td>127</td>\n",
              "      <td>7</td>\n",
              "      <td>70.000</td>\n",
              "      <td>A</td>\n",
              "    </tr>\n",
              "    <tr>\n",
              "      <th>7</th>\n",
              "      <td>298</td>\n",
              "      <td>73</td>\n",
              "      <td>0</td>\n",
              "      <td>24</td>\n",
              "      <td>24</td>\n",
              "      <td>7</td>\n",
              "      <td>3</td>\n",
              "      <td>509</td>\n",
              "      <td>108</td>\n",
              "      <td>0</td>\n",
              "      <td>41</td>\n",
              "      <td>37</td>\n",
              "      <td>12</td>\n",
              "      <td>A</td>\n",
              "      <td>W</td>\n",
              "      <td>121</td>\n",
              "      <td>283</td>\n",
              "      <td>9</td>\n",
              "      <td>100.000</td>\n",
              "      <td>A</td>\n",
              "    </tr>\n",
              "    <tr>\n",
              "      <th>8</th>\n",
              "      <td>323</td>\n",
              "      <td>81</td>\n",
              "      <td>6</td>\n",
              "      <td>26</td>\n",
              "      <td>32</td>\n",
              "      <td>8</td>\n",
              "      <td>2</td>\n",
              "      <td>341</td>\n",
              "      <td>86</td>\n",
              "      <td>6</td>\n",
              "      <td>32</td>\n",
              "      <td>34</td>\n",
              "      <td>8</td>\n",
              "      <td>N</td>\n",
              "      <td>W</td>\n",
              "      <td>143</td>\n",
              "      <td>290</td>\n",
              "      <td>19</td>\n",
              "      <td>75.000</td>\n",
              "      <td>N</td>\n",
              "    </tr>\n",
              "    <tr>\n",
              "      <th>9</th>\n",
              "      <td>401</td>\n",
              "      <td>92</td>\n",
              "      <td>17</td>\n",
              "      <td>49</td>\n",
              "      <td>66</td>\n",
              "      <td>65</td>\n",
              "      <td>13</td>\n",
              "      <td>5206</td>\n",
              "      <td>1332</td>\n",
              "      <td>253</td>\n",
              "      <td>784</td>\n",
              "      <td>890</td>\n",
              "      <td>866</td>\n",
              "      <td>A</td>\n",
              "      <td>E</td>\n",
              "      <td>0</td>\n",
              "      <td>0</td>\n",
              "      <td>0</td>\n",
              "      <td>1100.000</td>\n",
              "      <td>A</td>\n",
              "    </tr>\n",
              "    <tr>\n",
              "      <th>10</th>\n",
              "      <td>574</td>\n",
              "      <td>159</td>\n",
              "      <td>21</td>\n",
              "      <td>107</td>\n",
              "      <td>75</td>\n",
              "      <td>59</td>\n",
              "      <td>10</td>\n",
              "      <td>4631</td>\n",
              "      <td>1300</td>\n",
              "      <td>90</td>\n",
              "      <td>702</td>\n",
              "      <td>504</td>\n",
              "      <td>488</td>\n",
              "      <td>A</td>\n",
              "      <td>E</td>\n",
              "      <td>238</td>\n",
              "      <td>445</td>\n",
              "      <td>22</td>\n",
              "      <td>517.143</td>\n",
              "      <td>A</td>\n",
              "    </tr>\n",
              "    <tr>\n",
              "      <th>11</th>\n",
              "      <td>202</td>\n",
              "      <td>53</td>\n",
              "      <td>4</td>\n",
              "      <td>31</td>\n",
              "      <td>26</td>\n",
              "      <td>27</td>\n",
              "      <td>9</td>\n",
              "      <td>1876</td>\n",
              "      <td>467</td>\n",
              "      <td>15</td>\n",
              "      <td>192</td>\n",
              "      <td>186</td>\n",
              "      <td>161</td>\n",
              "      <td>N</td>\n",
              "      <td>W</td>\n",
              "      <td>304</td>\n",
              "      <td>45</td>\n",
              "      <td>11</td>\n",
              "      <td>512.500</td>\n",
              "      <td>N</td>\n",
              "    </tr>\n",
              "    <tr>\n",
              "      <th>12</th>\n",
              "      <td>418</td>\n",
              "      <td>113</td>\n",
              "      <td>13</td>\n",
              "      <td>48</td>\n",
              "      <td>61</td>\n",
              "      <td>47</td>\n",
              "      <td>4</td>\n",
              "      <td>1512</td>\n",
              "      <td>392</td>\n",
              "      <td>41</td>\n",
              "      <td>205</td>\n",
              "      <td>204</td>\n",
              "      <td>203</td>\n",
              "      <td>N</td>\n",
              "      <td>E</td>\n",
              "      <td>211</td>\n",
              "      <td>11</td>\n",
              "      <td>7</td>\n",
              "      <td>550.000</td>\n",
              "      <td>N</td>\n",
              "    </tr>\n",
              "    <tr>\n",
              "      <th>13</th>\n",
              "      <td>239</td>\n",
              "      <td>60</td>\n",
              "      <td>0</td>\n",
              "      <td>30</td>\n",
              "      <td>11</td>\n",
              "      <td>22</td>\n",
              "      <td>6</td>\n",
              "      <td>1941</td>\n",
              "      <td>510</td>\n",
              "      <td>4</td>\n",
              "      <td>309</td>\n",
              "      <td>103</td>\n",
              "      <td>207</td>\n",
              "      <td>A</td>\n",
              "      <td>E</td>\n",
              "      <td>121</td>\n",
              "      <td>151</td>\n",
              "      <td>6</td>\n",
              "      <td>700.000</td>\n",
              "      <td>A</td>\n",
              "    </tr>\n",
              "    <tr>\n",
              "      <th>14</th>\n",
              "      <td>196</td>\n",
              "      <td>43</td>\n",
              "      <td>7</td>\n",
              "      <td>29</td>\n",
              "      <td>27</td>\n",
              "      <td>30</td>\n",
              "      <td>13</td>\n",
              "      <td>3231</td>\n",
              "      <td>825</td>\n",
              "      <td>36</td>\n",
              "      <td>376</td>\n",
              "      <td>290</td>\n",
              "      <td>238</td>\n",
              "      <td>N</td>\n",
              "      <td>E</td>\n",
              "      <td>80</td>\n",
              "      <td>45</td>\n",
              "      <td>8</td>\n",
              "      <td>240.000</td>\n",
              "      <td>N</td>\n",
              "    </tr>\n",
              "    <tr>\n",
              "      <th>16</th>\n",
              "      <td>568</td>\n",
              "      <td>158</td>\n",
              "      <td>20</td>\n",
              "      <td>89</td>\n",
              "      <td>75</td>\n",
              "      <td>73</td>\n",
              "      <td>15</td>\n",
              "      <td>8068</td>\n",
              "      <td>2273</td>\n",
              "      <td>177</td>\n",
              "      <td>1045</td>\n",
              "      <td>993</td>\n",
              "      <td>732</td>\n",
              "      <td>N</td>\n",
              "      <td>W</td>\n",
              "      <td>105</td>\n",
              "      <td>290</td>\n",
              "      <td>10</td>\n",
              "      <td>775.000</td>\n",
              "      <td>N</td>\n",
              "    </tr>\n",
              "    <tr>\n",
              "      <th>17</th>\n",
              "      <td>190</td>\n",
              "      <td>46</td>\n",
              "      <td>2</td>\n",
              "      <td>24</td>\n",
              "      <td>8</td>\n",
              "      <td>15</td>\n",
              "      <td>5</td>\n",
              "      <td>479</td>\n",
              "      <td>102</td>\n",
              "      <td>5</td>\n",
              "      <td>65</td>\n",
              "      <td>23</td>\n",
              "      <td>39</td>\n",
              "      <td>A</td>\n",
              "      <td>W</td>\n",
              "      <td>102</td>\n",
              "      <td>177</td>\n",
              "      <td>16</td>\n",
              "      <td>175.000</td>\n",
              "      <td>A</td>\n",
              "    </tr>\n",
              "    <tr>\n",
              "      <th>19</th>\n",
              "      <td>127</td>\n",
              "      <td>32</td>\n",
              "      <td>8</td>\n",
              "      <td>16</td>\n",
              "      <td>22</td>\n",
              "      <td>14</td>\n",
              "      <td>8</td>\n",
              "      <td>727</td>\n",
              "      <td>180</td>\n",
              "      <td>24</td>\n",
              "      <td>67</td>\n",
              "      <td>82</td>\n",
              "      <td>56</td>\n",
              "      <td>N</td>\n",
              "      <td>W</td>\n",
              "      <td>202</td>\n",
              "      <td>22</td>\n",
              "      <td>2</td>\n",
              "      <td>135.000</td>\n",
              "      <td>N</td>\n",
              "    </tr>\n",
              "    <tr>\n",
              "      <th>20</th>\n",
              "      <td>413</td>\n",
              "      <td>92</td>\n",
              "      <td>16</td>\n",
              "      <td>72</td>\n",
              "      <td>48</td>\n",
              "      <td>65</td>\n",
              "      <td>1</td>\n",
              "      <td>413</td>\n",
              "      <td>92</td>\n",
              "      <td>16</td>\n",
              "      <td>72</td>\n",
              "      <td>48</td>\n",
              "      <td>65</td>\n",
              "      <td>N</td>\n",
              "      <td>E</td>\n",
              "      <td>280</td>\n",
              "      <td>9</td>\n",
              "      <td>5</td>\n",
              "      <td>100.000</td>\n",
              "      <td>N</td>\n",
              "    </tr>\n",
              "    <tr>\n",
              "      <th>21</th>\n",
              "      <td>426</td>\n",
              "      <td>109</td>\n",
              "      <td>3</td>\n",
              "      <td>55</td>\n",
              "      <td>43</td>\n",
              "      <td>62</td>\n",
              "      <td>1</td>\n",
              "      <td>426</td>\n",
              "      <td>109</td>\n",
              "      <td>3</td>\n",
              "      <td>55</td>\n",
              "      <td>43</td>\n",
              "      <td>62</td>\n",
              "      <td>A</td>\n",
              "      <td>W</td>\n",
              "      <td>361</td>\n",
              "      <td>22</td>\n",
              "      <td>2</td>\n",
              "      <td>115.000</td>\n",
              "      <td>N</td>\n",
              "    </tr>\n",
              "    <tr>\n",
              "      <th>23</th>\n",
              "      <td>472</td>\n",
              "      <td>116</td>\n",
              "      <td>16</td>\n",
              "      <td>60</td>\n",
              "      <td>62</td>\n",
              "      <td>74</td>\n",
              "      <td>6</td>\n",
              "      <td>1924</td>\n",
              "      <td>489</td>\n",
              "      <td>67</td>\n",
              "      <td>242</td>\n",
              "      <td>251</td>\n",
              "      <td>240</td>\n",
              "      <td>N</td>\n",
              "      <td>W</td>\n",
              "      <td>518</td>\n",
              "      <td>55</td>\n",
              "      <td>3</td>\n",
              "      <td>600.000</td>\n",
              "      <td>N</td>\n",
              "    </tr>\n",
              "  </tbody>\n",
              "</table>\n",
              "</div>"
            ],
            "text/plain": [
              "    AtBat  Hits  HmRun  Runs  RBI  ...  PutOuts  Assists  Errors    Salary  NewLeague\n",
              "1     315    81      7    24   38  ...      632       43      10   475.000          N\n",
              "2     479   130     18    66   72  ...      880       82      14   480.000          A\n",
              "3     496   141     20    65   78  ...      200       11       3   500.000          N\n",
              "4     321    87     10    39   42  ...      805       40       4    91.500          N\n",
              "5     594   169      4    74   51  ...      282      421      25   750.000          A\n",
              "6     185    37      1    23    8  ...       76      127       7    70.000          A\n",
              "7     298    73      0    24   24  ...      121      283       9   100.000          A\n",
              "8     323    81      6    26   32  ...      143      290      19    75.000          N\n",
              "9     401    92     17    49   66  ...        0        0       0  1100.000          A\n",
              "10    574   159     21   107   75  ...      238      445      22   517.143          A\n",
              "11    202    53      4    31   26  ...      304       45      11   512.500          N\n",
              "12    418   113     13    48   61  ...      211       11       7   550.000          N\n",
              "13    239    60      0    30   11  ...      121      151       6   700.000          A\n",
              "14    196    43      7    29   27  ...       80       45       8   240.000          N\n",
              "16    568   158     20    89   75  ...      105      290      10   775.000          N\n",
              "17    190    46      2    24    8  ...      102      177      16   175.000          A\n",
              "19    127    32      8    16   22  ...      202       22       2   135.000          N\n",
              "20    413    92     16    72   48  ...      280        9       5   100.000          N\n",
              "21    426   109      3    55   43  ...      361       22       2   115.000          N\n",
              "23    472   116     16    60   62  ...      518       55       3   600.000          N\n",
              "\n",
              "[20 rows x 20 columns]"
            ]
          },
          "metadata": {
            "tags": []
          },
          "execution_count": 4
        }
      ]
    },
    {
      "cell_type": "code",
      "metadata": {
        "id": "7MJkdfaBaMob"
      },
      "source": [
        "np.random.seed(seed=12)\n",
        "train = np.random.choice([True, False], size = len(y), replace = True)\n",
        "test = np.invert(train)"
      ],
      "execution_count": 3,
      "outputs": []
    },
    {
      "cell_type": "code",
      "metadata": {
        "id": "Bu_6vSU4YnMj"
      },
      "source": [
        "train,test"
      ],
      "execution_count": null,
      "outputs": []
    },
    {
      "cell_type": "code",
      "metadata": {
        "id": "vN6SN_NuabqI"
      },
      "source": [
        "def processSubset(feature_set, X_train, y_train, X_test, y_test):\n",
        "    # Fit model on feature_set and calculate RSS\n",
        "    model = sm.OLS(y_train,X_train[list(feature_set)])\n",
        "    regr = model.fit()\n",
        "    RSS = ((regr.predict(X_test[list(feature_set)]) - y_test) ** 2).sum()\n",
        "    return {\"model\":regr, \"RSS\":RSS}"
      ],
      "execution_count": 4,
      "outputs": []
    },
    {
      "cell_type": "code",
      "metadata": {
        "colab": {
          "base_uri": "https://localhost:8080/"
        },
        "id": "Rj0Sej2-ZQ-3",
        "outputId": "9c510bed-735c-4ff5-cc65-4297cff3f20a"
      },
      "source": [
        "a = [2,4,5]\n",
        "a + [2]"
      ],
      "execution_count": 12,
      "outputs": [
        {
          "output_type": "execute_result",
          "data": {
            "text/plain": [
              "[2, 4, 5, 2]"
            ]
          },
          "metadata": {
            "tags": []
          },
          "execution_count": 12
        }
      ]
    },
    {
      "cell_type": "code",
      "metadata": {
        "id": "J72TId0NafKB"
      },
      "source": [
        "def forward(predictors, X_train, y_train, X_test, y_test):\n",
        "    \n",
        "    results = []\n",
        "\n",
        "    # Pull out predictors we still need to process\n",
        "    remaining_predictors = [p for p in X_train.columns if p not in predictors]\n",
        "    \n",
        "    for p in remaining_predictors:\n",
        "        results.append(processSubset(predictors+[p], X_train, y_train, X_test, y_test))\n",
        "    \n",
        "    # Wrap everything up in a nice dataframe\n",
        "    models = pd.DataFrame(results)\n",
        "    \n",
        "    # Choose the model with the highest RSS\n",
        "    best_model = models.loc[models['RSS'].argmin()]\n",
        "        \n",
        "    # Return the best model, along with some other useful information about the model\n",
        "    return best_model"
      ],
      "execution_count": 5,
      "outputs": []
    },
    {
      "cell_type": "code",
      "metadata": {
        "id": "ICVmGY3eahvD"
      },
      "source": [
        "models_train = pd.DataFrame(columns=[\"RSS\", \"model\"])\n",
        "\n",
        "predictors = []\n",
        "\n",
        "for i in range(1,len(X.columns)+1):    \n",
        "    models_train.loc[i] = forward(predictors, X[train], y[train][\"Salary\"], X[test], y[test][\"Salary\"])\n",
        "    predictors = models_train.loc[i][\"model\"].model.exog_names"
      ],
      "execution_count": 6,
      "outputs": []
    },
    {
      "cell_type": "code",
      "metadata": {
        "colab": {
          "base_uri": "https://localhost:8080/"
        },
        "id": "97cwt6XYab-q",
        "outputId": "cef6090f-e570-4c48-8244-ece82d64ee2c"
      },
      "source": [
        "models_train.loc[2][\"model\"].model.exog_names"
      ],
      "execution_count": 40,
      "outputs": [
        {
          "output_type": "execute_result",
          "data": {
            "text/plain": [
              "['Walks', 'CRBI']"
            ]
          },
          "metadata": {
            "tags": []
          },
          "execution_count": 40
        }
      ]
    },
    {
      "cell_type": "code",
      "metadata": {
        "colab": {
          "base_uri": "https://localhost:8080/"
        },
        "id": "9cUllZ4p7umx",
        "outputId": "f7a432f9-f91e-4bc8-cd51-9cb94e496372"
      },
      "source": [
        "models_train[\"RSS\"].argmin()"
      ],
      "execution_count": 8,
      "outputs": [
        {
          "output_type": "execute_result",
          "data": {
            "text/plain": [
              "9"
            ]
          },
          "metadata": {
            "tags": []
          },
          "execution_count": 8
        }
      ]
    },
    {
      "cell_type": "code",
      "metadata": {
        "colab": {
          "base_uri": "https://localhost:8080/",
          "height": 307
        },
        "id": "_j1clIX2alvJ",
        "outputId": "a01b5c9f-67da-4f6e-908d-4c3e9ef5bece"
      },
      "source": [
        "plt.plot(models_train[\"RSS\"])\n",
        "plt.xlabel('# Predictors')\n",
        "plt.ylabel('RSS')\n",
        "plt.plot(models_train[\"RSS\"].argmin(), models_train[\"RSS\"].min(), \"or\")"
      ],
      "execution_count": 7,
      "outputs": [
        {
          "output_type": "execute_result",
          "data": {
            "text/plain": [
              "[<matplotlib.lines.Line2D at 0x7f7c00d11190>]"
            ]
          },
          "metadata": {
            "tags": []
          },
          "execution_count": 7
        },
        {
          "output_type": "display_data",
          "data": {
            "image/png": "[encoded data removed]",
            "text/plain": [
              "<Figure size 432x288 with 1 Axes>"
            ]
          },
          "metadata": {
            "tags": [],
            "needs_background": "light"
          }
        }
      ]
    },
    {
      "cell_type": "code",
      "metadata": {
        "id": "pEG3-aB9avPB"
      },
      "source": [
        "models_test = pd.DataFrame(columns=[\"RSS\", \"model\"])\n",
        "\n",
        "predictors = []\n",
        "\n",
        "for i in range(1,len(X.columns)+1): #11   \n",
        "    models_test.loc[i] = forward(predictors, X[test], y[test][\"Salary\"], X[test], y[test][\"Salary\"])\n",
        "    predictors = models_test.loc[i][\"model\"].model.exog_names"
      ],
      "execution_count": 12,
      "outputs": []
    },
    {
      "cell_type": "code",
      "metadata": {
        "colab": {
          "base_uri": "https://localhost:8080/"
        },
        "id": "soJK71ePayBp",
        "outputId": "45bf24c4-77f5-4dfb-ddcc-70576ae0d9ba"
      },
      "source": [
        "print(models_train.loc[10, \"model\"].model.exog_names)\n",
        "print(models_test.loc[18, \"model\"].model.exog_names)"
      ],
      "execution_count": 18,
      "outputs": [
        {
          "output_type": "stream",
          "text": [
            "['Walks', 'CRBI', 'Hits', 'Division_W', 'CWalks', 'CRuns', 'AtBat', 'League_N', 'CHits', 'Runs']\n",
            "['Walks', 'CRBI', 'Assists', 'Division_W', 'CWalks', 'CRuns', 'PutOuts', 'Errors', 'League_N', 'CHmRun', 'NewLeague_N', 'AtBat', 'Hits', 'CAtBat', 'CHits', 'Runs', 'RBI', 'HmRun']\n"
          ],
          "name": "stdout"
        }
      ]
    },
    {
      "cell_type": "code",
      "metadata": {
        "colab": {
          "base_uri": "https://localhost:8080/",
          "height": 307
        },
        "id": "I6M3k_w98Dye",
        "outputId": "b1dc07b5-3f45-4384-a514-ecf29e7354ea"
      },
      "source": [
        "plt.plot(models_test[\"RSS\"])\n",
        "plt.xlabel('# Predictors')\n",
        "plt.ylabel('RSS')\n",
        "plt.plot(models_test[\"RSS\"].argmin(), models_test[\"RSS\"].min(),'or')"
      ],
      "execution_count": 17,
      "outputs": [
        {
          "output_type": "execute_result",
          "data": {
            "text/plain": [
              "[<matplotlib.lines.Line2D at 0x7f7bfb9f3910>]"
            ]
          },
          "metadata": {
            "tags": []
          },
          "execution_count": 17
        },
        {
          "output_type": "display_data",
          "data": {
            "image/png": "[encoded data removed]",
            "text/plain": [
              "<Figure size 432x288 with 1 Axes>"
            ]
          },
          "metadata": {
            "tags": [],
            "needs_background": "light"
          }
        }
      ]
    },
    {
      "cell_type": "markdown",
      "metadata": {
        "id": "fPIO0NLDdCo3"
      },
      "source": [
        "##Model selection using Cross-Validation"
      ]
    },
    {
      "cell_type": "code",
      "metadata": {
        "id": "L-7ibPOVdHKl"
      },
      "source": [
        "k = 10        # number of folds\n",
        "np.random.seed(seed=1)\n",
        "folds = np.random.choice(k, size = len(y), replace = True)\n",
        "\n",
        "# Create a DataFrame to store the results of our upcoming calculations\n",
        "cv_errors = pd.DataFrame(columns=range(1,k+1), index=range(1,20))\n",
        "cv_errors = cv_errors.fillna(0)"
      ],
      "execution_count": 19,
      "outputs": []
    },
    {
      "cell_type": "code",
      "metadata": {
        "colab": {
          "base_uri": "https://localhost:8080/",
          "height": 324
        },
        "id": "NzB9xJZz_yKW",
        "outputId": "9ca4855b-9a0a-4c61-f153-160438ebfc0f"
      },
      "source": [
        "df_folds = pd.DataFrame(folds)\n",
        "df_folds.describe()\n",
        "plt.hist(folds, bins=range(0,10,1), align='right', color='purple', edgecolor='black')"
      ],
      "execution_count": 43,
      "outputs": [
        {
          "output_type": "execute_result",
          "data": {
            "text/plain": [
              "(array([32., 23., 23., 26., 26., 20., 25., 35., 53.]),\n",
              " array([0, 1, 2, 3, 4, 5, 6, 7, 8, 9]),\n",
              " <a list of 9 Patch objects>)"
            ]
          },
          "metadata": {
            "tags": []
          },
          "execution_count": 43
        },
        {
          "output_type": "display_data",
          "data": {
            "image/png": "[encoded data removed]",
            "text/plain": [
              "<Figure size 432x288 with 1 Axes>"
            ]
          },
          "metadata": {
            "tags": [],
            "needs_background": "light"
          }
        }
      ]
    },
    {
      "cell_type": "code",
      "metadata": {
        "id": "5Syu7AkodI0n"
      },
      "source": [
        "models_cv = pd.DataFrame(columns=[\"RSS\", \"model\"])\n",
        "    \n",
        "# Outer loop iterates over all folds\n",
        "for j in range(1,k+1):\n",
        "\n",
        "    # Reset predictors\n",
        "    predictors = []\n",
        "    \n",
        "    # Inner loop iterates over each size i\n",
        "    for i in range(1,len(X.columns)+1):    \n",
        "    \n",
        "        # The perform forward selection on the full dataset minus the jth fold, test on jth fold\n",
        "        models_cv.loc[i] = forward(predictors, X[folds != (j-1)], y[folds != (j-1)][\"Salary\"], X[folds == (j-1)], y[folds == (j-1)][\"Salary\"])\n",
        "        \n",
        "        # Save the cross-validated error for this fold\n",
        "        cv_errors[j][i] = models_cv.loc[i][\"RSS\"]\n",
        "\n",
        "        # Extract the predictors\n",
        "        predictors = models_cv.loc[i][\"model\"].model.exog_names"
      ],
      "execution_count": 24,
      "outputs": []
    },
    {
      "cell_type": "code",
      "metadata": {
        "colab": {
          "base_uri": "https://localhost:8080/",
          "height": 638
        },
        "id": "DD3tZvcudLPg",
        "outputId": "4adefdca-5190-418b-df43-841bfe06b11e"
      },
      "source": [
        "cv_errors"
      ],
      "execution_count": 25,
      "outputs": [
        {
          "output_type": "execute_result",
          "data": {
            "text/html": [
              "<div>\n",
              "<style scoped>\n",
              "    .dataframe tbody tr th:only-of-type {\n",
              "        vertical-align: middle;\n",
              "    }\n",
              "\n",
              "    .dataframe tbody tr th {\n",
              "        vertical-align: top;\n",
              "    }\n",
              "\n",
              "    .dataframe thead th {\n",
              "        text-align: right;\n",
              "    }\n",
              "</style>\n",
              "<table border=\"1\" class=\"dataframe\">\n",
              "  <thead>\n",
              "    <tr style=\"text-align: right;\">\n",
              "      <th></th>\n",
              "      <th>1</th>\n",
              "      <th>2</th>\n",
              "      <th>3</th>\n",
              "      <th>4</th>\n",
              "      <th>5</th>\n",
              "      <th>6</th>\n",
              "      <th>7</th>\n",
              "      <th>8</th>\n",
              "      <th>9</th>\n",
              "      <th>10</th>\n",
              "    </tr>\n",
              "  </thead>\n",
              "  <tbody>\n",
              "    <tr>\n",
              "      <th>1</th>\n",
              "      <td>3107900</td>\n",
              "      <td>3212304</td>\n",
              "      <td>4840103</td>\n",
              "      <td>2475453</td>\n",
              "      <td>3750302</td>\n",
              "      <td>1551976</td>\n",
              "      <td>1827366</td>\n",
              "      <td>9115194</td>\n",
              "      <td>1370720</td>\n",
              "      <td>2204862</td>\n",
              "    </tr>\n",
              "    <tr>\n",
              "      <th>2</th>\n",
              "      <td>2354036</td>\n",
              "      <td>2247881</td>\n",
              "      <td>3414444</td>\n",
              "      <td>1642455</td>\n",
              "      <td>3160950</td>\n",
              "      <td>1250564</td>\n",
              "      <td>1567469</td>\n",
              "      <td>8520751</td>\n",
              "      <td>1081052</td>\n",
              "      <td>1856304</td>\n",
              "    </tr>\n",
              "    <tr>\n",
              "      <th>3</th>\n",
              "      <td>2148733</td>\n",
              "      <td>2012864</td>\n",
              "      <td>3009435</td>\n",
              "      <td>1566581</td>\n",
              "      <td>2775618</td>\n",
              "      <td>907304</td>\n",
              "      <td>1260460</td>\n",
              "      <td>8456576</td>\n",
              "      <td>969784</td>\n",
              "      <td>1674333</td>\n",
              "    </tr>\n",
              "    <tr>\n",
              "      <th>4</th>\n",
              "      <td>1946031</td>\n",
              "      <td>1870511</td>\n",
              "      <td>2630784</td>\n",
              "      <td>1521525</td>\n",
              "      <td>2618750</td>\n",
              "      <td>805135</td>\n",
              "      <td>1143882</td>\n",
              "      <td>8331746</td>\n",
              "      <td>857553</td>\n",
              "      <td>1618265</td>\n",
              "    </tr>\n",
              "    <tr>\n",
              "      <th>5</th>\n",
              "      <td>1850398</td>\n",
              "      <td>1605148</td>\n",
              "      <td>2537690</td>\n",
              "      <td>1502728</td>\n",
              "      <td>2608466</td>\n",
              "      <td>776171</td>\n",
              "      <td>1124174</td>\n",
              "      <td>8221957</td>\n",
              "      <td>793919</td>\n",
              "      <td>1574253</td>\n",
              "    </tr>\n",
              "    <tr>\n",
              "      <th>6</th>\n",
              "      <td>1778324</td>\n",
              "      <td>1574266</td>\n",
              "      <td>2498621</td>\n",
              "      <td>1482575</td>\n",
              "      <td>2632055</td>\n",
              "      <td>776163</td>\n",
              "      <td>1115741</td>\n",
              "      <td>8196969</td>\n",
              "      <td>781235</td>\n",
              "      <td>1534220</td>\n",
              "    </tr>\n",
              "    <tr>\n",
              "      <th>7</th>\n",
              "      <td>1761111</td>\n",
              "      <td>1524413</td>\n",
              "      <td>2452303</td>\n",
              "      <td>1480345</td>\n",
              "      <td>2661104</td>\n",
              "      <td>779716</td>\n",
              "      <td>1104388</td>\n",
              "      <td>8171959</td>\n",
              "      <td>776457</td>\n",
              "      <td>1503831</td>\n",
              "    </tr>\n",
              "    <tr>\n",
              "      <th>8</th>\n",
              "      <td>1733230</td>\n",
              "      <td>1529625</td>\n",
              "      <td>2418943</td>\n",
              "      <td>1477510</td>\n",
              "      <td>2660654</td>\n",
              "      <td>803859</td>\n",
              "      <td>1100753</td>\n",
              "      <td>7449396</td>\n",
              "      <td>774589</td>\n",
              "      <td>1536790</td>\n",
              "    </tr>\n",
              "    <tr>\n",
              "      <th>9</th>\n",
              "      <td>1773705</td>\n",
              "      <td>1607919</td>\n",
              "      <td>2381843</td>\n",
              "      <td>1504519</td>\n",
              "      <td>2677002</td>\n",
              "      <td>821629</td>\n",
              "      <td>1096925</td>\n",
              "      <td>7136283</td>\n",
              "      <td>774616</td>\n",
              "      <td>1542746</td>\n",
              "    </tr>\n",
              "    <tr>\n",
              "      <th>10</th>\n",
              "      <td>1865909</td>\n",
              "      <td>1682293</td>\n",
              "      <td>2378624</td>\n",
              "      <td>1528102</td>\n",
              "      <td>2597881</td>\n",
              "      <td>854997</td>\n",
              "      <td>1136162</td>\n",
              "      <td>7059485</td>\n",
              "      <td>775993</td>\n",
              "      <td>1597314</td>\n",
              "    </tr>\n",
              "    <tr>\n",
              "      <th>11</th>\n",
              "      <td>2001187</td>\n",
              "      <td>1972309</td>\n",
              "      <td>2377337</td>\n",
              "      <td>1540347</td>\n",
              "      <td>2659206</td>\n",
              "      <td>866399</td>\n",
              "      <td>1150317</td>\n",
              "      <td>7047911</td>\n",
              "      <td>705031</td>\n",
              "      <td>1751416</td>\n",
              "    </tr>\n",
              "    <tr>\n",
              "      <th>12</th>\n",
              "      <td>2183874</td>\n",
              "      <td>2120447</td>\n",
              "      <td>2376437</td>\n",
              "      <td>1583554</td>\n",
              "      <td>2727452</td>\n",
              "      <td>980350</td>\n",
              "      <td>1114814</td>\n",
              "      <td>7056950</td>\n",
              "      <td>687640</td>\n",
              "      <td>1945971</td>\n",
              "    </tr>\n",
              "    <tr>\n",
              "      <th>13</th>\n",
              "      <td>2337672</td>\n",
              "      <td>2333119</td>\n",
              "      <td>2398381</td>\n",
              "      <td>1729660</td>\n",
              "      <td>2772831</td>\n",
              "      <td>1039253</td>\n",
              "      <td>1104974</td>\n",
              "      <td>7117616</td>\n",
              "      <td>699082</td>\n",
              "      <td>1857369</td>\n",
              "    </tr>\n",
              "    <tr>\n",
              "      <th>14</th>\n",
              "      <td>2398776</td>\n",
              "      <td>2556735</td>\n",
              "      <td>2426684</td>\n",
              "      <td>1788102</td>\n",
              "      <td>2804067</td>\n",
              "      <td>993013</td>\n",
              "      <td>1142143</td>\n",
              "      <td>7469678</td>\n",
              "      <td>743080</td>\n",
              "      <td>1884753</td>\n",
              "    </tr>\n",
              "    <tr>\n",
              "      <th>15</th>\n",
              "      <td>1971720</td>\n",
              "      <td>2519254</td>\n",
              "      <td>2421747</td>\n",
              "      <td>1750523</td>\n",
              "      <td>3054990</td>\n",
              "      <td>1033770</td>\n",
              "      <td>1204091</td>\n",
              "      <td>7439538</td>\n",
              "      <td>763736</td>\n",
              "      <td>1980209</td>\n",
              "    </tr>\n",
              "    <tr>\n",
              "      <th>16</th>\n",
              "      <td>1948823</td>\n",
              "      <td>2774368</td>\n",
              "      <td>2454268</td>\n",
              "      <td>1820562</td>\n",
              "      <td>3226325</td>\n",
              "      <td>1080503</td>\n",
              "      <td>1326684</td>\n",
              "      <td>7616005</td>\n",
              "      <td>824465</td>\n",
              "      <td>1949936</td>\n",
              "    </tr>\n",
              "    <tr>\n",
              "      <th>17</th>\n",
              "      <td>2030731</td>\n",
              "      <td>2884961</td>\n",
              "      <td>2644840</td>\n",
              "      <td>1906939</td>\n",
              "      <td>3342739</td>\n",
              "      <td>1105981</td>\n",
              "      <td>1324450</td>\n",
              "      <td>7637693</td>\n",
              "      <td>879744</td>\n",
              "      <td>2045321</td>\n",
              "    </tr>\n",
              "    <tr>\n",
              "      <th>18</th>\n",
              "      <td>2199928</td>\n",
              "      <td>3027921</td>\n",
              "      <td>2787490</td>\n",
              "      <td>2016598</td>\n",
              "      <td>4336091</td>\n",
              "      <td>1181122</td>\n",
              "      <td>1421665</td>\n",
              "      <td>7770971</td>\n",
              "      <td>909756</td>\n",
              "      <td>2062251</td>\n",
              "    </tr>\n",
              "    <tr>\n",
              "      <th>19</th>\n",
              "      <td>2601547</td>\n",
              "      <td>3389497</td>\n",
              "      <td>3137982</td>\n",
              "      <td>2412422</td>\n",
              "      <td>4918740</td>\n",
              "      <td>1706786</td>\n",
              "      <td>1582120</td>\n",
              "      <td>7933249</td>\n",
              "      <td>1202840</td>\n",
              "      <td>2066104</td>\n",
              "    </tr>\n",
              "  </tbody>\n",
              "</table>\n",
              "</div>"
            ],
            "text/plain": [
              "         1        2        3        4   ...       7        8        9        10\n",
              "1   3107900  3212304  4840103  2475453  ...  1827366  9115194  1370720  2204862\n",
              "2   2354036  2247881  3414444  1642455  ...  1567469  8520751  1081052  1856304\n",
              "3   2148733  2012864  3009435  1566581  ...  1260460  8456576   969784  1674333\n",
              "4   1946031  1870511  2630784  1521525  ...  1143882  8331746   857553  1618265\n",
              "5   1850398  1605148  2537690  1502728  ...  1124174  8221957   793919  1574253\n",
              "6   1778324  1574266  2498621  1482575  ...  1115741  8196969   781235  1534220\n",
              "7   1761111  1524413  2452303  1480345  ...  1104388  8171959   776457  1503831\n",
              "8   1733230  1529625  2418943  1477510  ...  1100753  7449396   774589  1536790\n",
              "9   1773705  1607919  2381843  1504519  ...  1096925  7136283   774616  1542746\n",
              "10  1865909  1682293  2378624  1528102  ...  1136162  7059485   775993  1597314\n",
              "11  2001187  1972309  2377337  1540347  ...  1150317  7047911   705031  1751416\n",
              "12  2183874  2120447  2376437  1583554  ...  1114814  7056950   687640  1945971\n",
              "13  2337672  2333119  2398381  1729660  ...  1104974  7117616   699082  1857369\n",
              "14  2398776  2556735  2426684  1788102  ...  1142143  7469678   743080  1884753\n",
              "15  1971720  2519254  2421747  1750523  ...  1204091  7439538   763736  1980209\n",
              "16  1948823  2774368  2454268  1820562  ...  1326684  7616005   824465  1949936\n",
              "17  2030731  2884961  2644840  1906939  ...  1324450  7637693   879744  2045321\n",
              "18  2199928  3027921  2787490  2016598  ...  1421665  7770971   909756  2062251\n",
              "19  2601547  3389497  3137982  2412422  ...  1582120  7933249  1202840  2066104\n",
              "\n",
              "[19 rows x 10 columns]"
            ]
          },
          "metadata": {
            "tags": []
          },
          "execution_count": 25
        }
      ]
    },
    {
      "cell_type": "code",
      "metadata": {
        "colab": {
          "base_uri": "https://localhost:8080/",
          "height": 307
        },
        "id": "90fn-WlGdRQ9",
        "outputId": "985e81a9-763d-437c-e035-0fdf4c60a812"
      },
      "source": [
        "cv_mean = cv_errors.apply(np.mean, axis=1)\n",
        "\n",
        "plt.plot(cv_mean)\n",
        "plt.xlabel('# Predictors')\n",
        "plt.ylabel('CV Error')\n",
        "plt.plot(cv_mean.argmin(), cv_mean.min(), \"or\")"
      ],
      "execution_count": 26,
      "outputs": [
        {
          "output_type": "execute_result",
          "data": {
            "text/plain": [
              "[<matplotlib.lines.Line2D at 0x7f7bfb8f5150>]"
            ]
          },
          "metadata": {
            "tags": []
          },
          "execution_count": 26
        },
        {
          "output_type": "display_data",
          "data": {
            "image/png": "[encoded data removed]",
            "text/plain": [
              "<Figure size 432x288 with 1 Axes>"
            ]
          },
          "metadata": {
            "tags": [],
            "needs_background": "light"
          }
        }
      ]
    },
    {
      "cell_type": "code",
      "metadata": {
        "colab": {
          "base_uri": "https://localhost:8080/"
        },
        "id": "COQ3LY6DdUeH",
        "outputId": "a8a288f2-a80a-474f-b45f-37c539af6ddd"
      },
      "source": [
        "print(models_cv.loc[8, \"model\"].summary())"
      ],
      "execution_count": 28,
      "outputs": [
        {
          "output_type": "stream",
          "text": [
            "                                 OLS Regression Results                                \n",
            "=======================================================================================\n",
            "Dep. Variable:                 Salary   R-squared (uncentered):                   0.681\n",
            "Model:                            OLS   Adj. R-squared (uncentered):              0.670\n",
            "Method:                 Least Squares   F-statistic:                              60.60\n",
            "Date:                Fri, 21 May 2021   Prob (F-statistic):                    3.83e-52\n",
            "Time:                        08:21:45   Log-Likelihood:                         -1739.3\n",
            "No. Observations:                 235   AIC:                                      3495.\n",
            "Df Residuals:                     227   BIC:                                      3522.\n",
            "Df Model:                           8                                                  \n",
            "Covariance Type:            nonrobust                                                  \n",
            "==============================================================================\n",
            "                 coef    std err          t      P>|t|      [0.025      0.975]\n",
            "------------------------------------------------------------------------------\n",
            "Hits           5.5118      2.320      2.375      0.018       0.939      10.084\n",
            "PutOuts        0.2521      0.101      2.498      0.013       0.053       0.451\n",
            "Division_W   -92.9090     50.844     -1.827      0.069    -193.096       7.278\n",
            "HmRun         -1.1316      6.662     -0.170      0.865     -14.258      11.995\n",
            "AtBat         -0.9390      0.663     -1.417      0.158      -2.244       0.367\n",
            "League_N      89.5690     50.754      1.765      0.079     -10.440     189.578\n",
            "RBI            5.1754      3.017      1.715      0.088      -0.770      11.121\n",
            "Assists       -0.1362      0.222     -0.614      0.540      -0.574       0.301\n",
            "==============================================================================\n",
            "Omnibus:                       61.067   Durbin-Watson:                   2.014\n",
            "Prob(Omnibus):                  0.000   Jarque-Bera (JB):              180.455\n",
            "Skew:                           1.103   Prob(JB):                     6.53e-40\n",
            "Kurtosis:                       6.683   Cond. No.                     1.19e+03\n",
            "==============================================================================\n",
            "\n",
            "Warnings:\n",
            "[1] Standard Errors assume that the covariance matrix of the errors is correctly specified.\n",
            "[2] The condition number is large, 1.19e+03. This might indicate that there are\n",
            "strong multicollinearity or other numerical problems.\n"
          ],
          "name": "stdout"
        }
      ]
    },
    {
      "cell_type": "code",
      "metadata": {
        "colab": {
          "base_uri": "https://localhost:8080/",
          "height": 655
        },
        "id": "bd-gLdtseCDT",
        "outputId": "aa8165a3-cafb-42ea-b164-967bb1b2f648"
      },
      "source": [
        "plt.figure(figsize=(20,10))\n",
        "plt.rcParams.update({'font.size': 18, 'lines.markersize': 10})\n",
        "\n",
        "# Set up a 2x2 grid so we can look at 4 plots at once\n",
        "plt.subplot(2, 2, 1)\n",
        "\n",
        "# We will now plot a red dot to indicate the model with the largest adjusted R^2 statistic.\n",
        "# The argmax() function can be used to identify the location of the maximum point of a vector\n",
        "plt.plot(models_cv[\"RSS\"])\n",
        "plt.xlabel('# Predictors')\n",
        "plt.ylabel('RSS')\n",
        "\n",
        "# We will now plot a red dot to indicate the model with the largest adjusted R^2 statistic.\n",
        "# The argmax() function can be used to identify the location of the maximum point of a vector\n",
        "\n",
        "rsquared_adj = models_cv.apply(lambda row: row[1].rsquared_adj, axis=1)\n",
        "\n",
        "plt.subplot(2, 2, 2)\n",
        "plt.plot(rsquared_adj)\n",
        "plt.plot(rsquared_adj.argmax(), rsquared_adj.max(), \"or\")\n",
        "plt.xlabel('# Predictors')\n",
        "plt.ylabel('adjusted rsquared')\n",
        "\n",
        "# We'll do the same for AIC and BIC, this time looking for the models with the SMALLEST statistic\n",
        "aic = models_cv.apply(lambda row: row[1].aic, axis=1)\n",
        "\n",
        "plt.subplot(2, 2, 3)\n",
        "plt.plot(aic)\n",
        "plt.plot(aic.argmin(), aic.min(), \"or\")\n",
        "plt.xlabel('# Predictors')\n",
        "plt.ylabel('AIC')\n",
        "\n",
        "bic = models_cv.apply(lambda row: row[1].bic, axis=1)\n",
        "\n",
        "plt.subplot(2, 2, 4)\n",
        "plt.plot(bic)\n",
        "plt.plot(bic.argmin(), bic.min(), \"or\")\n",
        "plt.xlabel('# Predictors')\n",
        "plt.ylabel('BIC')"
      ],
      "execution_count": 29,
      "outputs": [
        {
          "output_type": "execute_result",
          "data": {
            "text/plain": [
              "Text(0, 0.5, 'BIC')"
            ]
          },
          "metadata": {
            "tags": []
          },
          "execution_count": 29
        },
        {
          "output_type": "display_data",
          "data": {
            "image/png": "[encoded data removed]",
            "text/plain": [
              "<Figure size 1440x720 with 4 Axes>"
            ]
          },
          "metadata": {
            "tags": [],
            "needs_background": "light"
          }
        }
      ]
    },
    {
      "cell_type": "markdown",
      "metadata": {
        "id": "A4Pe6CwyG_DI"
      },
      "source": [
        "## Lambda function example"
      ]
    },
    {
      "cell_type": "code",
      "metadata": {
        "colab": {
          "base_uri": "https://localhost:8080/"
        },
        "id": "EeFCm8B-G-bW",
        "outputId": "ea72d527-22b2-4f75-ee17-8e72f9655040"
      },
      "source": [
        "bic"
      ],
      "execution_count": 57,
      "outputs": [
        {
          "output_type": "execute_result",
          "data": {
            "text/plain": [
              "1     3508.762076\n",
              "2     3505.913477\n",
              "3     3507.160868\n",
              "4     3508.798829\n",
              "5     3512.871923\n",
              "6     3514.747208\n",
              "7     3517.155199\n",
              "8     3522.225200\n",
              "9     3524.916995\n",
              "10    3530.276743\n",
              "11    3534.731728\n",
              "12    3458.444073\n",
              "13    3461.824543\n",
              "14    3467.030663\n",
              "15    3462.134447\n",
              "16    3467.384436\n",
              "17    3463.107163\n",
              "18    3461.256882\n",
              "19    3466.709310\n",
              "dtype: float64"
            ]
          },
          "metadata": {
            "tags": []
          },
          "execution_count": 57
        }
      ]
    },
    {
      "cell_type": "code",
      "metadata": {
        "colab": {
          "base_uri": "https://localhost:8080/"
        },
        "id": "rQr3EuClKurq",
        "outputId": "8c2b6302-4432-49a9-d900-2475dccf5e32"
      },
      "source": [
        "models_cv[\"model\"]"
      ],
      "execution_count": 61,
      "outputs": [
        {
          "output_type": "execute_result",
          "data": {
            "text/plain": [
              "1     <statsmodels.regression.linear_model.Regressio...\n",
              "2     <statsmodels.regression.linear_model.Regressio...\n",
              "3     <statsmodels.regression.linear_model.Regressio...\n",
              "4     <statsmodels.regression.linear_model.Regressio...\n",
              "5     <statsmodels.regression.linear_model.Regressio...\n",
              "6     <statsmodels.regression.linear_model.Regressio...\n",
              "7     <statsmodels.regression.linear_model.Regressio...\n",
              "8     <statsmodels.regression.linear_model.Regressio...\n",
              "9     <statsmodels.regression.linear_model.Regressio...\n",
              "10    <statsmodels.regression.linear_model.Regressio...\n",
              "11    <statsmodels.regression.linear_model.Regressio...\n",
              "12    <statsmodels.regression.linear_model.Regressio...\n",
              "13    <statsmodels.regression.linear_model.Regressio...\n",
              "14    <statsmodels.regression.linear_model.Regressio...\n",
              "15    <statsmodels.regression.linear_model.Regressio...\n",
              "16    <statsmodels.regression.linear_model.Regressio...\n",
              "17    <statsmodels.regression.linear_model.Regressio...\n",
              "18    <statsmodels.regression.linear_model.Regressio...\n",
              "19    <statsmodels.regression.linear_model.Regressio...\n",
              "Name: model, dtype: object"
            ]
          },
          "metadata": {
            "tags": []
          },
          "execution_count": 61
        }
      ]
    },
    {
      "cell_type": "code",
      "metadata": {
        "colab": {
          "base_uri": "https://localhost:8080/"
        },
        "id": "UNUYN5IjHJJU",
        "outputId": "296a9142-596f-4259-c2e0-9f3e758de6b5"
      },
      "source": [
        "identity(5)"
      ],
      "execution_count": 46,
      "outputs": [
        {
          "output_type": "execute_result",
          "data": {
            "text/plain": [
              "5"
            ]
          },
          "metadata": {
            "tags": []
          },
          "execution_count": 46
        }
      ]
    },
    {
      "cell_type": "code",
      "metadata": {
        "id": "xrCN74RaHN8-"
      },
      "source": [
        "sum = lambda x,y: x+y"
      ],
      "execution_count": 51,
      "outputs": []
    },
    {
      "cell_type": "code",
      "metadata": {
        "colab": {
          "base_uri": "https://localhost:8080/",
          "height": 35
        },
        "id": "1nI8V1UaH1n4",
        "outputId": "01753a8d-7ee0-4b3f-c4a6-e40c6b46d4d9"
      },
      "source": [
        "(lambda x: (x%2 and 'odd' or 'even'))(4)"
      ],
      "execution_count": 53,
      "outputs": [
        {
          "output_type": "execute_result",
          "data": {
            "application/vnd.google.colaboratory.intrinsic+json": {
              "type": "string"
            },
            "text/plain": [
              "'even'"
            ]
          },
          "metadata": {
            "tags": []
          },
          "execution_count": 53
        }
      ]
    },
    {
      "cell_type": "code",
      "metadata": {
        "colab": {
          "base_uri": "https://localhost:8080/"
        },
        "id": "pOHrTyFII2da",
        "outputId": "48411f36-9207-46fb-dfe2-5147dad0c5ee"
      },
      "source": [
        "0 and 'even'"
      ],
      "execution_count": 55,
      "outputs": [
        {
          "output_type": "execute_result",
          "data": {
            "text/plain": [
              "0"
            ]
          },
          "metadata": {
            "tags": []
          },
          "execution_count": 55
        }
      ]
    }
  ]
}