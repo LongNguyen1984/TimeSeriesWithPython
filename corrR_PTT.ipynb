{
  "nbformat": 4,
  "nbformat_minor": 0,
  "metadata": {
    "colab": {
      "name": "corrR_PTT.ipynb",
      "provenance": [],
      "collapsed_sections": [],
      "authorship_tag": "ABX9TyN+UojYy2+RnWNTu2m3Z1ex",
      "include_colab_link": true
    },
    "kernelspec": {
      "name": "python3",
      "display_name": "Python 3"
    },
    "language_info": {
      "name": "python"
    }
  },
  "cells": [
    {
      "cell_type": "markdown",
      "metadata": {
        "id": "view-in-github",
        "colab_type": "text"
      },
      "source": [
        "<a href=\"https://colab.research.google.com/github/LongNguyen1984/TimeSeriesWithPython/blob/main/corrR_PTT.ipynb\" target=\"_parent\"><img src=\"https://colab.research.google.com/assets/colab-badge.svg\" alt=\"Open In Colab\"/></a>"
      ]
    },
    {
      "cell_type": "code",
      "metadata": {
        "id": "jv2nyveUYEv8"
      },
      "source": [
        "import numpy as np\n",
        "import pandas as pd\n",
        "import matplotlib.pyplot as plt\n"
      ],
      "execution_count": null,
      "outputs": []
    },
    {
      "cell_type": "markdown",
      "metadata": {
        "id": "oe_Q_PmPkqRw"
      },
      "source": [
        "### import data"
      ]
    },
    {
      "cell_type": "code",
      "metadata": {
        "id": "kwlDl_-7ZmJu"
      },
      "source": [
        "x = [3.83, 4.22, 1.98, 1.81, 2.08, 3.07, 6.54, 1.62, 3.61, 2.37, 2.53, 1.87, 1.34, 0.99, 3.68, 1.82, 4.18, 0.76, 5.3, 1.29, 9.47, 0.77, 1.62, 4.23, 2, 1.5, 5.2, 1.61, 4.62, 4.74, 3.42]\n",
        "y = [3.3, 4.3, 8, 17, 5.5, 6.5, 1.5, 5.5, 2.9, 4.4, 6.6, 6.6, 18.2, 51.5, 1.9, 4, 3.1, 2.4, 2, 4.5, 2.6, 3.3, 3.6, 3, 4.9, 7, 3, 9.4, 1.5, 2.9, 2.9] "
      ],
      "execution_count": null,
      "outputs": []
    },
    {
      "cell_type": "code",
      "metadata": {
        "id": "LubViesaaYzA"
      },
      "source": [
        "dt = []\n",
        "data = pd.DataFrame(dt)\n",
        "data['STD'] = x\n",
        "data['AC'] = y"
      ],
      "execution_count": null,
      "outputs": []
    },
    {
      "cell_type": "code",
      "metadata": {
        "colab": {
          "base_uri": "https://localhost:8080/",
          "height": 297
        },
        "id": "tpBOgXPfa5IN",
        "outputId": "08112304-241d-43d1-d92e-cf3ba5c23bf7"
      },
      "source": [
        "data.describe()"
      ],
      "execution_count": null,
      "outputs": [
        {
          "output_type": "execute_result",
          "data": {
            "text/html": [
              "<div>\n",
              "<style scoped>\n",
              "    .dataframe tbody tr th:only-of-type {\n",
              "        vertical-align: middle;\n",
              "    }\n",
              "\n",
              "    .dataframe tbody tr th {\n",
              "        vertical-align: top;\n",
              "    }\n",
              "\n",
              "    .dataframe thead th {\n",
              "        text-align: right;\n",
              "    }\n",
              "</style>\n",
              "<table border=\"1\" class=\"dataframe\">\n",
              "  <thead>\n",
              "    <tr style=\"text-align: right;\">\n",
              "      <th></th>\n",
              "      <th>STD</th>\n",
              "      <th>AC</th>\n",
              "    </tr>\n",
              "  </thead>\n",
              "  <tbody>\n",
              "    <tr>\n",
              "      <th>count</th>\n",
              "      <td>31.000000</td>\n",
              "      <td>31.000000</td>\n",
              "    </tr>\n",
              "    <tr>\n",
              "      <th>mean</th>\n",
              "      <td>3.034516</td>\n",
              "      <td>6.574194</td>\n",
              "    </tr>\n",
              "    <tr>\n",
              "      <th>std</th>\n",
              "      <td>1.928101</td>\n",
              "      <td>9.190973</td>\n",
              "    </tr>\n",
              "    <tr>\n",
              "      <th>min</th>\n",
              "      <td>0.760000</td>\n",
              "      <td>1.500000</td>\n",
              "    </tr>\n",
              "    <tr>\n",
              "      <th>25%</th>\n",
              "      <td>1.620000</td>\n",
              "      <td>2.900000</td>\n",
              "    </tr>\n",
              "    <tr>\n",
              "      <th>50%</th>\n",
              "      <td>2.370000</td>\n",
              "      <td>4.000000</td>\n",
              "    </tr>\n",
              "    <tr>\n",
              "      <th>75%</th>\n",
              "      <td>4.200000</td>\n",
              "      <td>6.550000</td>\n",
              "    </tr>\n",
              "    <tr>\n",
              "      <th>max</th>\n",
              "      <td>9.470000</td>\n",
              "      <td>51.500000</td>\n",
              "    </tr>\n",
              "  </tbody>\n",
              "</table>\n",
              "</div>"
            ],
            "text/plain": [
              "             STD         AC\n",
              "count  31.000000  31.000000\n",
              "mean    3.034516   6.574194\n",
              "std     1.928101   9.190973\n",
              "min     0.760000   1.500000\n",
              "25%     1.620000   2.900000\n",
              "50%     2.370000   4.000000\n",
              "75%     4.200000   6.550000\n",
              "max     9.470000  51.500000"
            ]
          },
          "metadata": {
            "tags": []
          },
          "execution_count": 11
        }
      ]
    },
    {
      "cell_type": "code",
      "metadata": {
        "colab": {
          "base_uri": "https://localhost:8080/",
          "height": 388
        },
        "id": "5mcdja7JbawI",
        "outputId": "01130fd5-fe49-406b-ae5a-e17ff9ca1244"
      },
      "source": [
        "import seaborn as sns\n",
        "fig, axs = plt.subplots(figsize=(10,6))\n",
        "sns.scatterplot(data=data, x=\"STD\", y=\"AC\")\n",
        "\n",
        "z = np.polyfit(x, y, 1)\n",
        "p = np.poly1d(z)\n",
        "plt.plot(x,p(x),\"r--\")\n",
        "plt.show()\n"
      ],
      "execution_count": null,
      "outputs": [
        {
          "output_type": "display_data",
          "data": {
            "image/png": "[encoded data removed]",
            "text/plain": [
              "<Figure size 720x432 with 1 Axes>"
            ]
          },
          "metadata": {
            "tags": [],
            "needs_background": "light"
          }
        }
      ]
    },
    {
      "cell_type": "code",
      "metadata": {
        "colab": {
          "base_uri": "https://localhost:8080/"
        },
        "id": "TrFPdRm_e6TM",
        "outputId": "7a0ea232-88ba-48b3-f7b7-026cedf1d097"
      },
      "source": [
        "np.correlate(x,y)"
      ],
      "execution_count": null,
      "outputs": [
        {
          "output_type": "execute_result",
          "data": {
            "text/plain": [
              "array([425.592])"
            ]
          },
          "metadata": {
            "tags": []
          },
          "execution_count": 36
        }
      ]
    },
    {
      "cell_type": "code",
      "metadata": {
        "colab": {
          "base_uri": "https://localhost:8080/",
          "height": 400
        },
        "id": "4pVDPl5gd6cL",
        "outputId": "c8c47de2-84ba-4a41-d40e-4a46c42e64b6"
      },
      "source": [
        "#fig, axs = plt.subplots(figsize=(10,6),dpi=300)\n",
        "sns.lmplot(x='STD', y='AC', data=data, ci=None)"
      ],
      "execution_count": null,
      "outputs": [
        {
          "output_type": "execute_result",
          "data": {
            "text/plain": [
              "<seaborn.axisgrid.FacetGrid at 0x7f4acf0507d0>"
            ]
          },
          "metadata": {
            "tags": []
          },
          "execution_count": 32
        },
        {
          "output_type": "display_data",
          "data": {
            "image/png": "[encoded data removed]",
            "text/plain": [
              "<Figure size 360x360 with 1 Axes>"
            ]
          },
          "metadata": {
            "tags": [],
            "needs_background": "light"
          }
        }
      ]
    },
    {
      "cell_type": "code",
      "metadata": {
        "colab": {
          "base_uri": "https://localhost:8080/",
          "height": 336
        },
        "id": "A7aE2wS9fas5",
        "outputId": "5cbcb873-d8f1-454e-94af-46cda48492a8"
      },
      "source": [
        "sns.regplot(x, y)"
      ],
      "execution_count": null,
      "outputs": [
        {
          "output_type": "stream",
          "text": [
            "/usr/local/lib/python3.7/dist-packages/seaborn/_decorators.py:43: FutureWarning: Pass the following variables as keyword args: x, y. From version 0.12, the only valid positional argument will be `data`, and passing other arguments without an explicit keyword will result in an error or misinterpretation.\n",
            "  FutureWarning\n"
          ],
          "name": "stderr"
        },
        {
          "output_type": "execute_result",
          "data": {
            "text/plain": [
              "<matplotlib.axes._subplots.AxesSubplot at 0x7f4acea3b7d0>"
            ]
          },
          "metadata": {
            "tags": []
          },
          "execution_count": 37
        },
        {
          "output_type": "display_data",
          "data": {
            "image/png": "[encoded data removed]",
            "text/plain": [
              "<Figure size 432x288 with 1 Axes>"
            ]
          },
          "metadata": {
            "tags": [],
            "needs_background": "light"
          }
        }
      ]
    },
    {
      "cell_type": "markdown",
      "metadata": {
        "id": "XClRlt0bkgPH"
      },
      "source": [
        "### Pearson correlation"
      ]
    },
    {
      "cell_type": "code",
      "metadata": {
        "colab": {
          "base_uri": "https://localhost:8080/"
        },
        "id": "7x0BniZOfs0B",
        "outputId": "7cf484ed-cd38-4d53-b9e2-99db6464a066"
      },
      "source": [
        "from scipy.stats.stats import pearsonr\n",
        "\n",
        "pearsonr(x, y)"
      ],
      "execution_count": null,
      "outputs": [
        {
          "output_type": "execute_result",
          "data": {
            "text/plain": [
              "(-0.3627354994938576, 0.04490711605841459)"
            ]
          },
          "metadata": {
            "tags": []
          },
          "execution_count": 38
        }
      ]
    },
    {
      "cell_type": "markdown",
      "metadata": {
        "id": "8rKRvW_IkkRO"
      },
      "source": [
        "### Spearman correlation"
      ]
    },
    {
      "cell_type": "code",
      "metadata": {
        "colab": {
          "base_uri": "https://localhost:8080/"
        },
        "id": "cpd6sh6ZgwpM",
        "outputId": "8fd29dad-ea96-49c9-fb4b-56b8bf26bbf2"
      },
      "source": [
        "from scipy.stats import spearmanr\n",
        "\n",
        "#calculate Spearman Rank correlation and corresponding p-value\n",
        "rho, p = spearmanr(x, y)\n",
        "rho, p"
      ],
      "execution_count": null,
      "outputs": [
        {
          "output_type": "execute_result",
          "data": {
            "text/plain": [
              "(-0.6362262416159465, 0.00011952788355637929)"
            ]
          },
          "metadata": {
            "tags": []
          },
          "execution_count": 40
        }
      ]
    },
    {
      "cell_type": "code",
      "metadata": {
        "colab": {
          "base_uri": "https://localhost:8080/",
          "height": 462
        },
        "id": "mh2oh0wVh843",
        "outputId": "0c1b7114-cb7a-43c2-ab7a-240165b6e950"
      },
      "source": [
        "fig, ax = plt.subplots(1,1, figsize=(9, 7), sharex=True, sharey=True)\n",
        "z = np.polyfit(x, y, 1)\n",
        "p = np.poly1d(z)\n",
        "\n",
        "#ax.plot(x,p(x),dashes=[10, 20])\n",
        "ax.plot(x,p(x),\"r--\")\n",
        "ax.scatter(x,y, marker='o')\n",
        "#ax.plot(x, y)\n",
        "ax.set_title('Correlation AC Amplitude vs. STD', fontsize=14)\n"
      ],
      "execution_count": null,
      "outputs": [
        {
          "output_type": "execute_result",
          "data": {
            "text/plain": [
              "Text(0.5, 1.0, 'Correlation AC Amplitude vs. STD')"
            ]
          },
          "metadata": {
            "tags": []
          },
          "execution_count": 53
        },
        {
          "output_type": "display_data",
          "data": {
            "image/png": "[encoded data removed]",
            "text/plain": [
              "<Figure size 648x504 with 1 Axes>"
            ]
          },
          "metadata": {
            "tags": [],
            "needs_background": "light"
          }
        }
      ]
    }
  ]
}