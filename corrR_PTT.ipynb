{
  "nbformat": 4,
  "nbformat_minor": 0,
  "metadata": {
    "colab": {
      "name": "corrR_PTT.ipynb",
      "provenance": [],
      "collapsed_sections": [],
      "authorship_tag": "ABX9TyPqB2LH5v2v42uqeGLpZaol",
      "include_colab_link": true
    },
    "kernelspec": {
      "name": "python3",
      "display_name": "Python 3"
    },
    "language_info": {
      "name": "python"
    }
  },
  "cells": [
    {
      "cell_type": "markdown",
      "metadata": {
        "id": "view-in-github",
        "colab_type": "text"
      },
      "source": [
        "<a href=\"https://colab.research.google.com/github/LongNguyen1984/TimeSeriesWithPython/blob/main/corrR_PTT.ipynb\" target=\"_parent\"><img src=\"https://colab.research.google.com/assets/colab-badge.svg\" alt=\"Open In Colab\"/></a>"
      ]
    },
    {
      "cell_type": "code",
      "metadata": {
        "id": "jv2nyveUYEv8"
      },
      "source": [
        "import numpy as np\n",
        "import pandas as pd\n",
        "import matplotlib.pyplot as plt\n"
      ],
      "execution_count": 9,
      "outputs": []
    },
    {
      "cell_type": "markdown",
      "metadata": {
        "id": "oe_Q_PmPkqRw"
      },
      "source": [
        "### import data"
      ]
    },
    {
      "cell_type": "code",
      "metadata": {
        "id": "kwlDl_-7ZmJu"
      },
      "source": [
        "x0 = [3.83, 4.22, 1.98, 1.81, 2.08, 3.07, 6.54, 1.62, 3.61, 2.37, 2.53, 1.87, 1.34, 0.99, 3.68, 1.82, 4.18, 0.76, 5.3, 1.29, 9.47, 0.77, 1.62, 4.23, 2, 1.5, 5.2, 1.61, 4.62, 4.74, 3.42]\n",
        "y0 = [3.3, 4.3, 8, 17, 5.5, 6.5, 1.5, 5.5, 2.9, 4.4, 6.6, 6.6, 18.2, 51.5, 1.9, 4, 3.1, 2.4, 2, 4.5, 2.6, 3.3, 3.6, 3, 4.9, 7, 3, 9.4, 1.5, 2.9, 2.9] "
      ],
      "execution_count": 2,
      "outputs": []
    },
    {
      "cell_type": "code",
      "metadata": {
        "id": "lY0rtHsaEbB8"
      },
      "source": [
        "x1 = [3.52, 3.68, 2.68, 3.19, 3.12, 3.92, 7.7, 6.53, 5.32, 5.1, 5.18, 4.24, 4.27, 4.44, 3.94, 2.52, 2.22, 2.88, 3.59, 3.01, 3.13, 11.11, 4.5]\n",
        "y1 = [10.3, 9.6, 18.6, 10.9, 3.5, 2.1, 4.3, 1.5, 1.6, 1.3, 2.9, 1.8, 3.3, 3, 2.6, 6.3, 6.8, 7.2, 3.2, 19.8, 15.6, 1.2, 4.9 ]"
      ],
      "execution_count": 3,
      "outputs": []
    },
    {
      "cell_type": "code",
      "metadata": {
        "id": "O-BwTx90Hdgj"
      },
      "source": [
        "x, y = [], []\n",
        "x = [*x0,*x1 ]\n",
        "y = [*y0, *y1]"
      ],
      "execution_count": 7,
      "outputs": []
    },
    {
      "cell_type": "code",
      "metadata": {
        "id": "LubViesaaYzA"
      },
      "source": [
        "dt = []\n",
        "data = pd.DataFrame(dt)\n",
        "data['STD'] = x0\n",
        "data['AC'] = y0"
      ],
      "execution_count": 19,
      "outputs": []
    },
    {
      "cell_type": "code",
      "metadata": {
        "colab": {
          "base_uri": "https://localhost:8080/",
          "height": 300
        },
        "id": "tpBOgXPfa5IN",
        "outputId": "a9bfbd59-6ee0-44a3-a4b7-bb489ded74b2"
      },
      "source": [
        "data.describe()"
      ],
      "execution_count": 20,
      "outputs": [
        {
          "output_type": "execute_result",
          "data": {
            "text/html": [
              "<div>\n",
              "<style scoped>\n",
              "    .dataframe tbody tr th:only-of-type {\n",
              "        vertical-align: middle;\n",
              "    }\n",
              "\n",
              "    .dataframe tbody tr th {\n",
              "        vertical-align: top;\n",
              "    }\n",
              "\n",
              "    .dataframe thead th {\n",
              "        text-align: right;\n",
              "    }\n",
              "</style>\n",
              "<table border=\"1\" class=\"dataframe\">\n",
              "  <thead>\n",
              "    <tr style=\"text-align: right;\">\n",
              "      <th></th>\n",
              "      <th>STD</th>\n",
              "      <th>AC</th>\n",
              "    </tr>\n",
              "  </thead>\n",
              "  <tbody>\n",
              "    <tr>\n",
              "      <th>count</th>\n",
              "      <td>31.000000</td>\n",
              "      <td>31.000000</td>\n",
              "    </tr>\n",
              "    <tr>\n",
              "      <th>mean</th>\n",
              "      <td>3.034516</td>\n",
              "      <td>6.574194</td>\n",
              "    </tr>\n",
              "    <tr>\n",
              "      <th>std</th>\n",
              "      <td>1.928101</td>\n",
              "      <td>9.190973</td>\n",
              "    </tr>\n",
              "    <tr>\n",
              "      <th>min</th>\n",
              "      <td>0.760000</td>\n",
              "      <td>1.500000</td>\n",
              "    </tr>\n",
              "    <tr>\n",
              "      <th>25%</th>\n",
              "      <td>1.620000</td>\n",
              "      <td>2.900000</td>\n",
              "    </tr>\n",
              "    <tr>\n",
              "      <th>50%</th>\n",
              "      <td>2.370000</td>\n",
              "      <td>4.000000</td>\n",
              "    </tr>\n",
              "    <tr>\n",
              "      <th>75%</th>\n",
              "      <td>4.200000</td>\n",
              "      <td>6.550000</td>\n",
              "    </tr>\n",
              "    <tr>\n",
              "      <th>max</th>\n",
              "      <td>9.470000</td>\n",
              "      <td>51.500000</td>\n",
              "    </tr>\n",
              "  </tbody>\n",
              "</table>\n",
              "</div>"
            ],
            "text/plain": [
              "             STD         AC\n",
              "count  31.000000  31.000000\n",
              "mean    3.034516   6.574194\n",
              "std     1.928101   9.190973\n",
              "min     0.760000   1.500000\n",
              "25%     1.620000   2.900000\n",
              "50%     2.370000   4.000000\n",
              "75%     4.200000   6.550000\n",
              "max     9.470000  51.500000"
            ]
          },
          "metadata": {},
          "execution_count": 20
        }
      ]
    },
    {
      "cell_type": "code",
      "metadata": {
        "colab": {
          "base_uri": "https://localhost:8080/",
          "height": 387
        },
        "id": "5mcdja7JbawI",
        "outputId": "4604b867-64ed-43d0-e7b6-e8c93ab71ad5"
      },
      "source": [
        "import seaborn as sns\n",
        "fig, axs = plt.subplots(figsize=(10,6))\n",
        "sns.scatterplot(data=data, x=\"STD\", y=\"AC\")\n",
        "\n",
        "z = np.polyfit(x, y, 1)\n",
        "p = np.poly1d(z)\n",
        "plt.plot(x,p(x),\"r--\")\n",
        "plt.show()\n"
      ],
      "execution_count": 21,
      "outputs": [
        {
          "output_type": "display_data",
          "data": {
            "image/png": "[encoded data removed]",
            "text/plain": [
              "<Figure size 720x432 with 1 Axes>"
            ]
          },
          "metadata": {
            "needs_background": "light"
          }
        }
      ]
    },
    {
      "cell_type": "code",
      "metadata": {
        "colab": {
          "base_uri": "https://localhost:8080/"
        },
        "id": "TrFPdRm_e6TM",
        "outputId": "7202c762-4083-4e14-ab29-6aa063af3824"
      },
      "source": [
        "np.correlate(x,y)"
      ],
      "execution_count": 22,
      "outputs": [
        {
          "output_type": "execute_result",
          "data": {
            "text/plain": [
              "array([926.307])"
            ]
          },
          "metadata": {},
          "execution_count": 22
        }
      ]
    },
    {
      "cell_type": "code",
      "metadata": {
        "colab": {
          "base_uri": "https://localhost:8080/",
          "height": 386
        },
        "id": "4pVDPl5gd6cL",
        "outputId": "4c64e227-132d-4113-bbed-deec7d671413"
      },
      "source": [
        "#fig, axs = plt.subplots(figsize=(10,6),dpi=300)\n",
        "sns.lmplot(x='STD', y='AC', data=data, ci=None)"
      ],
      "execution_count": 14,
      "outputs": [
        {
          "output_type": "execute_result",
          "data": {
            "text/plain": [
              "<seaborn.axisgrid.FacetGrid at 0x7f3936cc9a90>"
            ]
          },
          "metadata": {},
          "execution_count": 14
        },
        {
          "output_type": "display_data",
          "data": {
            "image/png": "[encoded data removed]",
            "text/plain": [
              "<Figure size 360x360 with 1 Axes>"
            ]
          },
          "metadata": {
            "needs_background": "light"
          }
        }
      ]
    },
    {
      "cell_type": "code",
      "metadata": {
        "colab": {
          "base_uri": "https://localhost:8080/",
          "height": 337
        },
        "id": "A7aE2wS9fas5",
        "outputId": "a688b9b6-dcca-4fd0-f091-804f6a85a38f"
      },
      "source": [
        "sns.regplot(x, y)"
      ],
      "execution_count": 15,
      "outputs": [
        {
          "output_type": "stream",
          "name": "stderr",
          "text": [
            "/usr/local/lib/python3.7/dist-packages/seaborn/_decorators.py:43: FutureWarning: Pass the following variables as keyword args: x, y. From version 0.12, the only valid positional argument will be `data`, and passing other arguments without an explicit keyword will result in an error or misinterpretation.\n",
            "  FutureWarning\n"
          ]
        },
        {
          "output_type": "execute_result",
          "data": {
            "text/plain": [
              "<matplotlib.axes._subplots.AxesSubplot at 0x7f3927afc290>"
            ]
          },
          "metadata": {},
          "execution_count": 15
        },
        {
          "output_type": "display_data",
          "data": {
            "image/png": "[encoded data removed]",
            "text/plain": [
              "<Figure size 432x288 with 1 Axes>"
            ]
          },
          "metadata": {
            "needs_background": "light"
          }
        }
      ]
    },
    {
      "cell_type": "markdown",
      "metadata": {
        "id": "XClRlt0bkgPH"
      },
      "source": [
        "### Pearson correlation"
      ]
    },
    {
      "cell_type": "code",
      "metadata": {
        "colab": {
          "base_uri": "https://localhost:8080/"
        },
        "id": "7x0BniZOfs0B",
        "outputId": "9fdf7d73-a3fc-4f86-b599-d7d009a19945"
      },
      "source": [
        "from scipy.stats.stats import pearsonr\n",
        "\n",
        "pearsonr(x, y)"
      ],
      "execution_count": 26,
      "outputs": [
        {
          "output_type": "execute_result",
          "data": {
            "text/plain": [
              "(-0.37730618299516006, 0.004915545381186537)"
            ]
          },
          "metadata": {},
          "execution_count": 26
        }
      ]
    },
    {
      "cell_type": "markdown",
      "metadata": {
        "id": "8rKRvW_IkkRO"
      },
      "source": [
        "### Spearman correlation"
      ]
    },
    {
      "cell_type": "markdown",
      "metadata": {
        "id": "CmfeTINgK31T"
      },
      "source": [
        "It epressed a correlation between two variables which does not depend on the outliers"
      ]
    },
    {
      "cell_type": "code",
      "metadata": {
        "colab": {
          "base_uri": "https://localhost:8080/"
        },
        "id": "cpd6sh6ZgwpM",
        "outputId": "1e6a62e0-e664-4532-a4f6-f8583e7b7630"
      },
      "source": [
        "from scipy.stats import spearmanr\n",
        "\n",
        "#calculate Spearman Rank correlation and corresponding p-value\n",
        "rho, p = spearmanr(x, y)\n",
        "rho, p"
      ],
      "execution_count": 17,
      "outputs": [
        {
          "output_type": "execute_result",
          "data": {
            "text/plain": [
              "(-0.6539349725758398, 8.235823707233343e-08)"
            ]
          },
          "metadata": {},
          "execution_count": 17
        }
      ]
    },
    {
      "cell_type": "code",
      "metadata": {
        "colab": {
          "base_uri": "https://localhost:8080/",
          "height": 462
        },
        "id": "mh2oh0wVh843",
        "outputId": "f2aaf5a9-d9b5-4bf1-953b-64b39fc99d77"
      },
      "source": [
        "fig, ax = plt.subplots(1,1, figsize=(9, 7), sharex=True, sharey=True)\n",
        "z = np.polyfit(x, y, 1)\n",
        "p = np.poly1d(z)\n",
        "\n",
        "#ax.plot(x,p(x),dashes=[10, 20])\n",
        "ax.plot(x,p(x),\"r--\")\n",
        "ax.scatter(x,y, marker='o')\n",
        "#ax.plot(x, y)\n",
        "ax.set_title('Correlation AC Amplitude vs. STD', fontsize=14)\n"
      ],
      "execution_count": 18,
      "outputs": [
        {
          "output_type": "execute_result",
          "data": {
            "text/plain": [
              "Text(0.5, 1.0, 'Correlation AC Amplitude vs. STD')"
            ]
          },
          "metadata": {},
          "execution_count": 18
        },
        {
          "output_type": "display_data",
          "data": {
            "image/png": "[encoded data removed]",
            "text/plain": [
              "<Figure size 648x504 with 1 Axes>"
            ]
          },
          "metadata": {
            "needs_background": "light"
          }
        }
      ]
    }
  ]
}