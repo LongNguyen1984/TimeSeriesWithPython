{
  "nbformat": 4,
  "nbformat_minor": 0,
  "metadata": {
    "colab": {
      "name": "gluocsePlot1.ipynb",
      "provenance": [],
      "toc_visible": true,
      "mount_file_id": "https://github.com/LongNguyen1984/TimeSeriesWithPython/blob/main/gluocsePlot.ipynb",
      "authorship_tag": "ABX9TyOImpYc35XALUDcUWmfmPgx",
      "include_colab_link": true
    },
    "kernelspec": {
      "name": "python3",
      "display_name": "Python 3"
    },
    "language_info": {
      "name": "python"
    }
  },
  "cells": [
    {
      "cell_type": "markdown",
      "metadata": {
        "id": "view-in-github",
        "colab_type": "text"
      },
      "source": [
        "<a href=\"https://colab.research.google.com/github/LongNguyen1984/TimeSeriesWithPython/blob/main/gluocsePlot1.ipynb\" target=\"_parent\"><img src=\"https://colab.research.google.com/assets/colab-badge.svg\" alt=\"Open In Colab\"/></a>"
      ]
    },
    {
      "cell_type": "markdown",
      "metadata": {
        "id": "ocX393_c6fu0"
      },
      "source": [
        "Reading data"
      ]
    },
    {
      "cell_type": "code",
      "metadata": {
        "id": "eUtq84h_59SI"
      },
      "source": [
        "from pandas import read_csv\n",
        "file_path = file_path = 'drive/My Drive/Dataset/GlucoseLong02_02April.csv'\n",
        "dataset = read_csv(file_path,\n",
        "                   \n",
        "                   parse_dates=['Timestamp (YYYY-MM-DDThh:mm:ss)'],\n",
        "                   index_col=['Timestamp (YYYY-MM-DDThh:mm:ss)'],\n",
        "                   skiprows= [i for i in range(1,11)],\n",
        "                   na_values= ['nan'])"
      ],
      "execution_count": null,
      "outputs": []
    },
    {
      "cell_type": "markdown",
      "metadata": {
        "id": "nKuHg_3u6lHM"
      },
      "source": [
        ""
      ]
    },
    {
      "cell_type": "code",
      "metadata": {
        "colab": {
          "base_uri": "https://localhost:8080/",
          "height": 269
        },
        "id": "VLz3OXT37Fie",
        "outputId": "009bf5fe-15b5-4888-f20e-51f31ad8aca2"
      },
      "source": [
        "dataset.head()"
      ],
      "execution_count": null,
      "outputs": [
        {
          "output_type": "execute_result",
          "data": {
            "text/html": [
              "<div>\n",
              "<style scoped>\n",
              "    .dataframe tbody tr th:only-of-type {\n",
              "        vertical-align: middle;\n",
              "    }\n",
              "\n",
              "    .dataframe tbody tr th {\n",
              "        vertical-align: top;\n",
              "    }\n",
              "\n",
              "    .dataframe thead th {\n",
              "        text-align: right;\n",
              "    }\n",
              "</style>\n",
              "<table border=\"1\" class=\"dataframe\">\n",
              "  <thead>\n",
              "    <tr style=\"text-align: right;\">\n",
              "      <th></th>\n",
              "      <th>Index</th>\n",
              "      <th>Event Type</th>\n",
              "      <th>Event Subtype</th>\n",
              "      <th>Patient Info</th>\n",
              "      <th>Device Info</th>\n",
              "      <th>Source Device ID</th>\n",
              "      <th>Glucose Value (mg/dL)</th>\n",
              "      <th>Insulin Value (u)</th>\n",
              "      <th>Carb Value (grams)</th>\n",
              "      <th>Duration (hh:mm:ss)</th>\n",
              "      <th>Glucose Rate of Change (mg/dL/min)</th>\n",
              "      <th>Transmitter Time (Long Integer)</th>\n",
              "      <th>Transmitter ID</th>\n",
              "    </tr>\n",
              "    <tr>\n",
              "      <th>Timestamp (YYYY-MM-DDThh:mm:ss)</th>\n",
              "      <th></th>\n",
              "      <th></th>\n",
              "      <th></th>\n",
              "      <th></th>\n",
              "      <th></th>\n",
              "      <th></th>\n",
              "      <th></th>\n",
              "      <th></th>\n",
              "      <th></th>\n",
              "      <th></th>\n",
              "      <th></th>\n",
              "      <th></th>\n",
              "      <th></th>\n",
              "    </tr>\n",
              "  </thead>\n",
              "  <tbody>\n",
              "    <tr>\n",
              "      <th>2021-03-21 12:00:26</th>\n",
              "      <td>11</td>\n",
              "      <td>EGV</td>\n",
              "      <td>NaN</td>\n",
              "      <td>NaN</td>\n",
              "      <td>NaN</td>\n",
              "      <td>PG00804102</td>\n",
              "      <td>126.0</td>\n",
              "      <td>NaN</td>\n",
              "      <td>NaN</td>\n",
              "      <td>NaN</td>\n",
              "      <td>NaN</td>\n",
              "      <td>7573.0</td>\n",
              "      <td>8M8XCT</td>\n",
              "    </tr>\n",
              "    <tr>\n",
              "      <th>2021-03-21 12:05:26</th>\n",
              "      <td>12</td>\n",
              "      <td>EGV</td>\n",
              "      <td>NaN</td>\n",
              "      <td>NaN</td>\n",
              "      <td>NaN</td>\n",
              "      <td>PG00804102</td>\n",
              "      <td>123.0</td>\n",
              "      <td>NaN</td>\n",
              "      <td>NaN</td>\n",
              "      <td>NaN</td>\n",
              "      <td>NaN</td>\n",
              "      <td>7873.0</td>\n",
              "      <td>8M8XCT</td>\n",
              "    </tr>\n",
              "    <tr>\n",
              "      <th>2021-03-21 12:10:26</th>\n",
              "      <td>13</td>\n",
              "      <td>EGV</td>\n",
              "      <td>NaN</td>\n",
              "      <td>NaN</td>\n",
              "      <td>NaN</td>\n",
              "      <td>PG00804102</td>\n",
              "      <td>123.0</td>\n",
              "      <td>NaN</td>\n",
              "      <td>NaN</td>\n",
              "      <td>NaN</td>\n",
              "      <td>NaN</td>\n",
              "      <td>8173.0</td>\n",
              "      <td>8M8XCT</td>\n",
              "    </tr>\n",
              "    <tr>\n",
              "      <th>2021-03-21 12:15:26</th>\n",
              "      <td>14</td>\n",
              "      <td>EGV</td>\n",
              "      <td>NaN</td>\n",
              "      <td>NaN</td>\n",
              "      <td>NaN</td>\n",
              "      <td>PG00804102</td>\n",
              "      <td>122.0</td>\n",
              "      <td>NaN</td>\n",
              "      <td>NaN</td>\n",
              "      <td>NaN</td>\n",
              "      <td>NaN</td>\n",
              "      <td>8473.0</td>\n",
              "      <td>8M8XCT</td>\n",
              "    </tr>\n",
              "    <tr>\n",
              "      <th>2021-03-21 12:20:27</th>\n",
              "      <td>15</td>\n",
              "      <td>EGV</td>\n",
              "      <td>NaN</td>\n",
              "      <td>NaN</td>\n",
              "      <td>NaN</td>\n",
              "      <td>PG00804102</td>\n",
              "      <td>118.0</td>\n",
              "      <td>NaN</td>\n",
              "      <td>NaN</td>\n",
              "      <td>NaN</td>\n",
              "      <td>NaN</td>\n",
              "      <td>8773.0</td>\n",
              "      <td>8M8XCT</td>\n",
              "    </tr>\n",
              "  </tbody>\n",
              "</table>\n",
              "</div>"
            ],
            "text/plain": [
              "                                 Index  ... Transmitter ID\n",
              "Timestamp (YYYY-MM-DDThh:mm:ss)         ...               \n",
              "2021-03-21 12:00:26                 11  ...         8M8XCT\n",
              "2021-03-21 12:05:26                 12  ...         8M8XCT\n",
              "2021-03-21 12:10:26                 13  ...         8M8XCT\n",
              "2021-03-21 12:15:26                 14  ...         8M8XCT\n",
              "2021-03-21 12:20:27                 15  ...         8M8XCT\n",
              "\n",
              "[5 rows x 13 columns]"
            ]
          },
          "metadata": {
            "tags": []
          },
          "execution_count": 5
        }
      ]
    },
    {
      "cell_type": "code",
      "metadata": {
        "colab": {
          "base_uri": "https://localhost:8080/"
        },
        "id": "JyJkIoL2Bd3G",
        "outputId": "e8b053c1-afc8-4d76-e615-fa8c8d31c633"
      },
      "source": [
        "dataset['Glucose Value (mg/dL)'][0]"
      ],
      "execution_count": null,
      "outputs": [
        {
          "output_type": "execute_result",
          "data": {
            "text/plain": [
              "126.0"
            ]
          },
          "metadata": {
            "tags": []
          },
          "execution_count": 6
        }
      ]
    },
    {
      "cell_type": "code",
      "metadata": {
        "colab": {
          "base_uri": "https://localhost:8080/"
        },
        "id": "woHW5D4b7Z80",
        "outputId": "ab622854-fb14-4b61-e2a0-c2f9c31c0a1d"
      },
      "source": [
        "dataset.describe  "
      ],
      "execution_count": null,
      "outputs": [
        {
          "output_type": "execute_result",
          "data": {
            "text/plain": [
              "<bound method NDFrame.describe of                                  Index  ... Transmitter ID\n",
              "Timestamp (YYYY-MM-DDThh:mm:ss)         ...               \n",
              "2021-03-21 12:00:26                 11  ...         8M8XCT\n",
              "2021-03-21 12:05:26                 12  ...         8M8XCT\n",
              "2021-03-21 12:10:26                 13  ...         8M8XCT\n",
              "2021-03-21 12:15:26                 14  ...         8M8XCT\n",
              "2021-03-21 12:20:27                 15  ...         8M8XCT\n",
              "...                                ...  ...            ...\n",
              "2021-04-02 18:29:41               3523  ...         8M8XCT\n",
              "2021-04-02 18:34:40               3524  ...         8M8XCT\n",
              "2021-04-02 18:39:40               3525  ...         8M8XCT\n",
              "2021-04-02 18:44:40               3526  ...         8M8XCT\n",
              "2021-04-02 18:49:42               3527  ...         8M8XCT\n",
              "\n",
              "[3517 rows x 13 columns]>"
            ]
          },
          "metadata": {
            "tags": []
          },
          "execution_count": 7
        }
      ]
    },
    {
      "cell_type": "code",
      "metadata": {
        "colab": {
          "base_uri": "https://localhost:8080/"
        },
        "id": "-JRemEns7rSN",
        "outputId": "189205bd-5a04-4826-ced8-9766e7ca91e9"
      },
      "source": [
        "dataset['Glucose Value (mg/dL)'].describe()"
      ],
      "execution_count": null,
      "outputs": [
        {
          "output_type": "execute_result",
          "data": {
            "text/plain": [
              "count    3510.000000\n",
              "mean      123.586040\n",
              "std        19.776736\n",
              "min        45.000000\n",
              "25%       109.000000\n",
              "50%       119.000000\n",
              "75%       136.000000\n",
              "max       225.000000\n",
              "Name: Glucose Value (mg/dL), dtype: float64"
            ]
          },
          "metadata": {
            "tags": []
          },
          "execution_count": 8
        }
      ]
    },
    {
      "cell_type": "code",
      "metadata": {
        "colab": {
          "base_uri": "https://localhost:8080/"
        },
        "id": "_6ooAuhMD41d",
        "outputId": "805d6cd2-54f0-4320-b151-9822c793da23"
      },
      "source": [
        "len(dataset)"
      ],
      "execution_count": null,
      "outputs": [
        {
          "output_type": "execute_result",
          "data": {
            "text/plain": [
              "3517"
            ]
          },
          "metadata": {
            "tags": []
          },
          "execution_count": 9
        }
      ]
    },
    {
      "cell_type": "code",
      "metadata": {
        "colab": {
          "base_uri": "https://localhost:8080/",
          "height": 301
        },
        "id": "DZxjVjuR9J-0",
        "outputId": "8af23ddc-9bda-44d7-b55a-362cfac783d1"
      },
      "source": [
        "import matplotlib.pyplot as plt\n",
        "dataset.plot(y='Glucose Value (mg/dL)', title='Glucose Concentration')\n",
        "plt.show()"
      ],
      "execution_count": null,
      "outputs": [
        {
          "output_type": "display_data",
          "data": {
            "image/png": "[encoded data removed]",
            "text/plain": [
              "<Figure size 432x288 with 1 Axes>"
            ]
          },
          "metadata": {
            "tags": [],
            "needs_background": "light"
          }
        }
      ]
    },
    {
      "cell_type": "markdown",
      "metadata": {
        "id": "pLO1PUloGi7x"
      },
      "source": [
        "###Function to find index in time series"
      ]
    },
    {
      "cell_type": "code",
      "metadata": {
        "id": "Yao9rSRg-Iyi"
      },
      "source": [
        "import numpy\n",
        "def find_index(dataset, time):\n",
        "   s = [index for index in range(len(dataset.index.values)) if dataset.index.values[index] == numpy.datetime64(time)]\n",
        "   return s[0]"
      ],
      "execution_count": null,
      "outputs": []
    },
    {
      "cell_type": "code",
      "metadata": {
        "colab": {
          "base_uri": "https://localhost:8080/"
        },
        "id": "pBV9SPtoxuCH",
        "outputId": "469d18f2-fa48-4d8c-eec1-a3d9e7882717"
      },
      "source": [
        "\n",
        "(dataset.index.values[0]) == numpy.datetime64('2021-03-21T12:00:26')"
      ],
      "execution_count": null,
      "outputs": [
        {
          "output_type": "execute_result",
          "data": {
            "text/plain": [
              "True"
            ]
          },
          "metadata": {
            "tags": []
          },
          "execution_count": 21
        }
      ]
    },
    {
      "cell_type": "code",
      "metadata": {
        "id": "6fsAZzm2Go2s"
      },
      "source": [
        "x_start = find_index(dataset, '2021-04-02T15:09:40')\n",
        "x_stop = find_index(dataset, '2021-04-02T17:19:40')"
      ],
      "execution_count": null,
      "outputs": []
    },
    {
      "cell_type": "code",
      "metadata": {
        "colab": {
          "base_uri": "https://localhost:8080/",
          "height": 551
        },
        "id": "aPwDi0ox9lfD",
        "outputId": "ab6a6f36-c427-43e0-fdd3-7281b7108b6e"
      },
      "source": [
        "fig, ax = plt.subplots(1, figsize=(25,15))\n",
        "plt.rc('grid', linestyle=':', color='b', linewidth=2)\n",
        "ax.plot(dataset.index.values,\n",
        "           dataset['Glucose Value (mg/dL)'], 'b',linewidth=3)\n",
        "ax.margins(0) # remove default margins (matplotlib verision 2+)\n",
        "ax.axhline(y =50, color = 'green')\n",
        "ax.axhline(y =180, color = 'red')\n",
        "ax.axhspan(0, 50, facecolor='yellow', alpha=0.3)\n",
        "ax.axhspan(50, 180, facecolor='green', alpha=0.3)\n",
        "ax.axhspan(180, 220, facecolor='red', alpha=0.3)\n",
        "#ax.grid(axis = 'x', axis='y')\n",
        "ax.grid(True)\n",
        "\n",
        "#ax.legend([\"Glucose\"]) \n",
        "ax.legend([\"Glucose\"], bbox_to_anchor = (1 , 1))\n",
        "# Add title and axis names\n",
        "plt.title('Glucose Concentration Value (mg/dL)')\n",
        "plt.xlabel('Dates')\n",
        "plt.ylabel('Glucose')\n",
        "# Add number as a marker\n",
        "plt.text(dataset.index.values[-1], 182, \"180\", color=\"red\", fontsize=22)\n",
        "plt.text(dataset.index.values[-1], 45, \"50\", color=\"green\", fontsize=22)\n",
        "#plt.yablel('Glucose Concentration Value (mg/dL)') \n",
        "\n",
        "plt.xlim([dataset.index.values[x_start], dataset.index.values[x_stop]])\n",
        "plt.show()"
      ],
      "execution_count": null,
      "outputs": [
        {
          "output_type": "display_data",
          "data": {
            "image/png": "[encoded data removed]",
            "text/plain": [
              "<Figure size 1800x1080 with 1 Axes>"
            ]
          },
          "metadata": {
            "tags": [],
            "needs_background": "light"
          }
        }
      ]
    },
    {
      "cell_type": "code",
      "metadata": {
        "id": "Ir8qH7JtEfZm"
      },
      "source": [
        "dataset.index.values"
      ],
      "execution_count": null,
      "outputs": []
    },
    {
      "cell_type": "code",
      "metadata": {
        "id": "ufVO2aqFFI6s"
      },
      "source": [
        "  "
      ],
      "execution_count": null,
      "outputs": []
    },
    {
      "cell_type": "code",
      "metadata": {
        "colab": {
          "base_uri": "https://localhost:8080/"
        },
        "id": "QozLvyxuGGUi",
        "outputId": "f2ddc091-4692-41ce-c51f-ea0e1adc93fc"
      },
      "source": [
        "find_index(dataset,'2021-03-24T19:47:00.000000000' )"
      ],
      "execution_count": null,
      "outputs": [
        {
          "output_type": "execute_result",
          "data": {
            "text/plain": [
              "237"
            ]
          },
          "metadata": {
            "tags": []
          },
          "execution_count": 45
        }
      ]
    },
    {
      "cell_type": "code",
      "metadata": {
        "colab": {
          "base_uri": "https://localhost:8080/"
        },
        "id": "Be7i8fFdFxu8",
        "outputId": "ac16ad52-7f58-45df-984d-e49168f29c85"
      },
      "source": [
        "len(dataset.index.values)"
      ],
      "execution_count": null,
      "outputs": [
        {
          "output_type": "execute_result",
          "data": {
            "text/plain": [
              "239"
            ]
          },
          "metadata": {
            "tags": []
          },
          "execution_count": 36
        }
      ]
    }
  ]
}