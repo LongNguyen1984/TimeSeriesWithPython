{
  "nbformat": 4,
  "nbformat_minor": 0,
  "metadata": {
    "colab": {
      "name": "ModelSelection.ipynb",
      "provenance": [],
      "authorship_tag": "ABX9TyPawYu+Q+ciE6ilFDOTVmWI",
      "include_colab_link": true
    },
    "kernelspec": {
      "name": "python3",
      "display_name": "Python 3"
    },
    "language_info": {
      "name": "python"
    }
  },
  "cells": [
    {
      "cell_type": "markdown",
      "metadata": {
        "id": "view-in-github",
        "colab_type": "text"
      },
      "source": [
        "<a href=\"https://colab.research.google.com/github/LongNguyen1984/TimeSeriesWithPython/blob/main/ModelSelection.ipynb\" target=\"_parent\"><img src=\"https://colab.research.google.com/assets/colab-badge.svg\" alt=\"Open In Colab\"/></a>"
      ]
    },
    {
      "cell_type": "code",
      "metadata": {
        "colab": {
          "base_uri": "https://localhost:8080/"
        },
        "id": "NBoq5jyVQjSq",
        "outputId": "94a37c6f-2c5c-45eb-d28c-c81f9a00f02f"
      },
      "source": [
        "%matplotlib inline\n",
        "import pandas as pd\n",
        "import numpy as np\n",
        "import itertools\n",
        "import statsmodels.api as sm\n",
        "import matplotlib.pyplot as plt"
      ],
      "execution_count": null,
      "outputs": [
        {
          "output_type": "stream",
          "name": "stderr",
          "text": [
            "/usr/local/lib/python3.7/dist-packages/statsmodels/tools/_testing.py:19: FutureWarning: pandas.util.testing is deprecated. Use the functions in the public API at pandas.testing instead.\n",
            "  import pandas.util.testing as tm\n"
          ]
        }
      ]
    },
    {
      "cell_type": "markdown",
      "metadata": {
        "id": "wDxbE8eKQ-rC"
      },
      "source": [
        "### Model selection using the Validation Set Approach"
      ]
    },
    {
      "cell_type": "code",
      "metadata": {
        "colab": {
          "base_uri": "https://localhost:8080/"
        },
        "id": "FE6cE4O1ROZZ",
        "outputId": "fa92a535-ebef-4f84-8b38-6fe0b2784073"
      },
      "source": [
        "df = pd.read_csv('https://raw.githubusercontent.com/JWarmenhoven/ISLR-python/master/Notebooks/Data/Hitters.csv')\n",
        "# Change name to player\n",
        "df = df.rename(columns={\"Unnamed: 0\":\"Player\"})\n",
        "print('Number of null:',df['Salary'].isnull().sum())\n",
        "# Drop any rows the contain missing values, along with the player names\n",
        "df = df.dropna().drop('Player', axis = 1)\n",
        "\n",
        "# Get dummy variables (These are a categorical data)\n",
        "dummies = pd.get_dummies(df[['League', 'Division', 'NewLeague']])\n",
        "\n",
        "# Extract independent variable\n",
        "y = pd.DataFrame(df.Salary)\n",
        "\n",
        "# Drop the column with the independent variable (Salary), and columns for which we created dummy variables\n",
        "X_ = df.drop(['Salary', 'League', 'Division', 'NewLeague'], axis=1).astype('float64')\n",
        "\n",
        "# Define the featur set X.\n",
        "X = pd.concat([X_, dummies[['League_N', 'Division_W', 'NewLeague_N']]], axis=1)"
      ],
      "execution_count": null,
      "outputs": [
        {
          "output_type": "stream",
          "name": "stdout",
          "text": [
            "Number of null: 59\n"
          ]
        }
      ]
    },
    {
      "cell_type": "code",
      "metadata": {
        "colab": {
          "base_uri": "https://localhost:8080/",
          "height": 203
        },
        "id": "nCMkdj5TR4oq",
        "outputId": "38157638-1b03-4ef2-d682-a4014f6bcc6b"
      },
      "source": [
        "df.head()"
      ],
      "execution_count": null,
      "outputs": [
        {
          "output_type": "execute_result",
          "data": {
            "text/html": [
              "<div>\n",
              "<style scoped>\n",
              "    .dataframe tbody tr th:only-of-type {\n",
              "        vertical-align: middle;\n",
              "    }\n",
              "\n",
              "    .dataframe tbody tr th {\n",
              "        vertical-align: top;\n",
              "    }\n",
              "\n",
              "    .dataframe thead th {\n",
              "        text-align: right;\n",
              "    }\n",
              "</style>\n",
              "<table border=\"1\" class=\"dataframe\">\n",
              "  <thead>\n",
              "    <tr style=\"text-align: right;\">\n",
              "      <th></th>\n",
              "      <th>AtBat</th>\n",
              "      <th>Hits</th>\n",
              "      <th>HmRun</th>\n",
              "      <th>Runs</th>\n",
              "      <th>RBI</th>\n",
              "      <th>Walks</th>\n",
              "      <th>Years</th>\n",
              "      <th>CAtBat</th>\n",
              "      <th>CHits</th>\n",
              "      <th>CHmRun</th>\n",
              "      <th>CRuns</th>\n",
              "      <th>CRBI</th>\n",
              "      <th>CWalks</th>\n",
              "      <th>League</th>\n",
              "      <th>Division</th>\n",
              "      <th>PutOuts</th>\n",
              "      <th>Assists</th>\n",
              "      <th>Errors</th>\n",
              "      <th>Salary</th>\n",
              "      <th>NewLeague</th>\n",
              "    </tr>\n",
              "  </thead>\n",
              "  <tbody>\n",
              "    <tr>\n",
              "      <th>1</th>\n",
              "      <td>315</td>\n",
              "      <td>81</td>\n",
              "      <td>7</td>\n",
              "      <td>24</td>\n",
              "      <td>38</td>\n",
              "      <td>39</td>\n",
              "      <td>14</td>\n",
              "      <td>3449</td>\n",
              "      <td>835</td>\n",
              "      <td>69</td>\n",
              "      <td>321</td>\n",
              "      <td>414</td>\n",
              "      <td>375</td>\n",
              "      <td>N</td>\n",
              "      <td>W</td>\n",
              "      <td>632</td>\n",
              "      <td>43</td>\n",
              "      <td>10</td>\n",
              "      <td>475.0</td>\n",
              "      <td>N</td>\n",
              "    </tr>\n",
              "    <tr>\n",
              "      <th>2</th>\n",
              "      <td>479</td>\n",
              "      <td>130</td>\n",
              "      <td>18</td>\n",
              "      <td>66</td>\n",
              "      <td>72</td>\n",
              "      <td>76</td>\n",
              "      <td>3</td>\n",
              "      <td>1624</td>\n",
              "      <td>457</td>\n",
              "      <td>63</td>\n",
              "      <td>224</td>\n",
              "      <td>266</td>\n",
              "      <td>263</td>\n",
              "      <td>A</td>\n",
              "      <td>W</td>\n",
              "      <td>880</td>\n",
              "      <td>82</td>\n",
              "      <td>14</td>\n",
              "      <td>480.0</td>\n",
              "      <td>A</td>\n",
              "    </tr>\n",
              "    <tr>\n",
              "      <th>3</th>\n",
              "      <td>496</td>\n",
              "      <td>141</td>\n",
              "      <td>20</td>\n",
              "      <td>65</td>\n",
              "      <td>78</td>\n",
              "      <td>37</td>\n",
              "      <td>11</td>\n",
              "      <td>5628</td>\n",
              "      <td>1575</td>\n",
              "      <td>225</td>\n",
              "      <td>828</td>\n",
              "      <td>838</td>\n",
              "      <td>354</td>\n",
              "      <td>N</td>\n",
              "      <td>E</td>\n",
              "      <td>200</td>\n",
              "      <td>11</td>\n",
              "      <td>3</td>\n",
              "      <td>500.0</td>\n",
              "      <td>N</td>\n",
              "    </tr>\n",
              "    <tr>\n",
              "      <th>4</th>\n",
              "      <td>321</td>\n",
              "      <td>87</td>\n",
              "      <td>10</td>\n",
              "      <td>39</td>\n",
              "      <td>42</td>\n",
              "      <td>30</td>\n",
              "      <td>2</td>\n",
              "      <td>396</td>\n",
              "      <td>101</td>\n",
              "      <td>12</td>\n",
              "      <td>48</td>\n",
              "      <td>46</td>\n",
              "      <td>33</td>\n",
              "      <td>N</td>\n",
              "      <td>E</td>\n",
              "      <td>805</td>\n",
              "      <td>40</td>\n",
              "      <td>4</td>\n",
              "      <td>91.5</td>\n",
              "      <td>N</td>\n",
              "    </tr>\n",
              "    <tr>\n",
              "      <th>5</th>\n",
              "      <td>594</td>\n",
              "      <td>169</td>\n",
              "      <td>4</td>\n",
              "      <td>74</td>\n",
              "      <td>51</td>\n",
              "      <td>35</td>\n",
              "      <td>11</td>\n",
              "      <td>4408</td>\n",
              "      <td>1133</td>\n",
              "      <td>19</td>\n",
              "      <td>501</td>\n",
              "      <td>336</td>\n",
              "      <td>194</td>\n",
              "      <td>A</td>\n",
              "      <td>W</td>\n",
              "      <td>282</td>\n",
              "      <td>421</td>\n",
              "      <td>25</td>\n",
              "      <td>750.0</td>\n",
              "      <td>A</td>\n",
              "    </tr>\n",
              "  </tbody>\n",
              "</table>\n",
              "</div>"
            ],
            "text/plain": [
              "   AtBat  Hits  HmRun  Runs  RBI  ...  PutOuts  Assists  Errors  Salary  NewLeague\n",
              "1    315    81      7    24   38  ...      632       43      10   475.0          N\n",
              "2    479   130     18    66   72  ...      880       82      14   480.0          A\n",
              "3    496   141     20    65   78  ...      200       11       3   500.0          N\n",
              "4    321    87     10    39   42  ...      805       40       4    91.5          N\n",
              "5    594   169      4    74   51  ...      282      421      25   750.0          A\n",
              "\n",
              "[5 rows x 20 columns]"
            ]
          },
          "metadata": {},
          "execution_count": 8
        }
      ]
    },
    {
      "cell_type": "markdown",
      "metadata": {
        "id": "1oHa2DHigbAX"
      },
      "source": [
        "In order to use the validation set approach, we begin by splitting the observations into a training set and a test set. We do this by creating a random vector, train, of elements equal to TRUE if the corresponding observation is in the training set, and FALSE otherwise. The vector test has a TRUE if the observation is in the test set, and a FALSE otherwise. Note the np.invert() in the command to create test causes TRUEs to be switched to FALSEs and vice versa. We also set a random seed so that the user will obtain the same training set/test set split."
      ]
    },
    {
      "cell_type": "code",
      "metadata": {
        "id": "SPddpcFZfZPQ"
      },
      "source": [
        "np.random.seed(seed=12)\n",
        "train = np.random.choice([True, False], size = len(y), replace = True)\n",
        "test = np.invert(train)"
      ],
      "execution_count": null,
      "outputs": []
    },
    {
      "cell_type": "code",
      "metadata": {
        "id": "slmjYDNvgpXA"
      },
      "source": [
        "def processSubset(feature_set, X_train, y_train, X_test, y_test):\n",
        "    # Fit model on feature_set and calculate RSS\n",
        "    model = sm.OLS(y_train,X_train[list(feature_set)])\n",
        "    regr = model.fit()\n",
        "    RSS = ((regr.predict(X_test[list(feature_set)]) - y_test) ** 2).sum()\n",
        "    return {\"model\":regr, \"RSS\":RSS}"
      ],
      "execution_count": null,
      "outputs": []
    },
    {
      "cell_type": "code",
      "metadata": {
        "id": "mvxHTLYPg8HF"
      },
      "source": [
        "def forward(predictors, X_train, y_train, X_test, y_test):\n",
        "\n",
        "  results = []\n",
        "\n",
        "  # Pull out predictors we still need to process\n",
        "  remaining_predictors = [p for p in X_train.columns if p not in predictors]\n",
        "\n",
        "  for p in remaining_predictors:\n",
        "    results.append(processSubset(predictors + [p], X_train, y_train, X_test, y_test))\n",
        "\n",
        "  # Wrap everything up in a nice dataframe\n",
        "  models = pd.DataFrame(results)  \n",
        "\n",
        "  # Choose the model with the highest RSS\n",
        "  best_model = models.loc[models['RSS'].argmin()]\n",
        "\n",
        "  # Return the best model, along with some other useful information about the model\n",
        "  return best_model"
      ],
      "execution_count": null,
      "outputs": []
    },
    {
      "cell_type": "code",
      "metadata": {
        "id": "NVe4hL6vixb9"
      },
      "source": [
        "models_train = pd.DataFrame(columns=['RSS', 'model'])\n",
        "\n",
        "predictors = []\n",
        "\n",
        "for i in range(1, len(X.columns)+1):\n",
        "  models_train.loc[i] = forward(predictors, X[train], y[train]['Salary'], X[test], y[test]['Salary'])\n",
        "  predictors = models_train.loc[i][\"model\"].model.exog_names"
      ],
      "execution_count": null,
      "outputs": []
    },
    {
      "cell_type": "markdown",
      "metadata": {
        "id": "VXDHMvzjrhNB"
      },
      "source": [
        "Plot the data"
      ]
    },
    {
      "cell_type": "code",
      "metadata": {
        "colab": {
          "base_uri": "https://localhost:8080/",
          "height": 307
        },
        "id": "yvkZ3GK2risV",
        "outputId": "bf80ca5c-ceac-4cb0-d8d1-1e81315bb333"
      },
      "source": [
        "plt.plot(models_train[\"RSS\"])\n",
        "plt.xlabel('# Predictors')\n",
        "plt.ylabel('RSS')\n",
        "plt.plot(models_train[\"RSS\"].argmin()+1, models_train[\"RSS\"].min(), \"or\")"
      ],
      "execution_count": null,
      "outputs": [
        {
          "output_type": "execute_result",
          "data": {
            "text/plain": [
              "[<matplotlib.lines.Line2D at 0x7f49f39fc4d0>]"
            ]
          },
          "metadata": {},
          "execution_count": 102
        },
        {
          "output_type": "display_data",
          "data": {
            "image/png": "[encoded data removed]",
            "text/plain": [
              "<Figure size 432x288 with 1 Axes>"
            ]
          },
          "metadata": {
            "needs_background": "light"
          }
        }
      ]
    },
    {
      "cell_type": "markdown",
      "metadata": {
        "id": "TOmVJiuUruxA"
      },
      "source": [
        ""
      ]
    },
    {
      "cell_type": "code",
      "metadata": {
        "id": "yZ8otJ_bry_f"
      },
      "source": [
        "models_test = pd.DataFrame(columns=[\"RSS\", \"model\"])\n",
        "\n",
        "predictors = []\n",
        "\n",
        "for i in range(1,11):    \n",
        "    models_test.loc[i] = forward(predictors, X[test], y[test][\"Salary\"], X[test], y[test][\"Salary\"])\n",
        "    predictors = models_test.loc[i][\"model\"].model.exog_names"
      ],
      "execution_count": null,
      "outputs": []
    },
    {
      "cell_type": "code",
      "metadata": {
        "colab": {
          "base_uri": "https://localhost:8080/"
        },
        "id": "KMD_n115vH2V",
        "outputId": "18415643-491d-4a2e-bf61-82637845bc68"
      },
      "source": [
        "print(models_train.loc[10, \"model\"].model.exog_names)\n",
        "print(models_test.loc[10, \"model\"].model.exog_names)"
      ],
      "execution_count": null,
      "outputs": [
        {
          "output_type": "stream",
          "name": "stdout",
          "text": [
            "['Walks', 'CRBI', 'Hits', 'Division_W', 'CWalks', 'CRuns', 'AtBat', 'League_N', 'CHits', 'Runs']\n",
            "['Walks', 'CRBI', 'Assists', 'Division_W', 'CWalks', 'CRuns', 'PutOuts', 'Errors', 'League_N', 'CHmRun']\n"
          ]
        }
      ]
    },
    {
      "cell_type": "code",
      "metadata": {
        "colab": {
          "base_uri": "https://localhost:8080/"
        },
        "id": "r4fbMrBdvWf9",
        "outputId": "6568aeb2-84db-4377-80c2-3e207bac2d6e"
      },
      "source": [
        "models_train['RSS'].argmin(),models_train['RSS'].min()"
      ],
      "execution_count": null,
      "outputs": [
        {
          "output_type": "execute_result",
          "data": {
            "text/plain": [
              "(9, 12721303.0958919)"
            ]
          },
          "metadata": {},
          "execution_count": 98
        }
      ]
    },
    {
      "cell_type": "code",
      "metadata": {
        "colab": {
          "base_uri": "https://localhost:8080/"
        },
        "id": "U7QyNMpVv1h9",
        "outputId": "292c9887-5d46-48d1-c677-9497262e1c15"
      },
      "source": [
        "a = [1,3,5,2,67,99,8]\n",
        "np.argmin(a)"
      ],
      "execution_count": null,
      "outputs": [
        {
          "output_type": "execute_result",
          "data": {
            "text/plain": [
              "0"
            ]
          },
          "metadata": {},
          "execution_count": 101
        }
      ]
    },
    {
      "cell_type": "markdown",
      "metadata": {
        "id": "Kgb1XLoBxDs6"
      },
      "source": [
        "## Model selection using Cross-Validation"
      ]
    },
    {
      "cell_type": "code",
      "metadata": {
        "id": "04Vl8INOxE3i"
      },
      "source": [
        "k = 10        # number of folds\n",
        "np.random.seed(seed=1)\n",
        "folds = np.random.choice(k, size = len(y), replace = True)\n",
        "\n",
        "# Create a DataFrame to store the results of our upcoming calculations\n",
        "cv_errors = pd.DataFrame(columns=range(1,k+1), index=range(1,20))\n",
        "cv_errors = cv_errors.fillna(0)"
      ],
      "execution_count": null,
      "outputs": []
    },
    {
      "cell_type": "code",
      "metadata": {
        "id": "_j6n-9xAxG9S"
      },
      "source": [
        "models_cv = pd.DataFrame(columns=[\"RSS\", \"model\"])\n",
        "    \n",
        "# Outer loop iterates over all folds\n",
        "for j in range(1,k+1):\n",
        "\n",
        "    # Reset predictors\n",
        "    predictors = []\n",
        "    \n",
        "    # Inner loop iterates over each size i\n",
        "    for i in range(1,len(X.columns)+1):    \n",
        "    \n",
        "        # The perform forward selection on the full dataset minus the jth fold, test on jth fold\n",
        "        models_cv.loc[i] = forward(predictors, X[folds != (j-1)], y[folds != (j-1)][\"Salary\"], X[folds == (j-1)], y[folds == (j-1)][\"Salary\"])\n",
        "        \n",
        "        # Save the cross-validated error for this fold\n",
        "        cv_errors[j][i] = models_cv.loc[i][\"RSS\"]\n",
        "\n",
        "        # Extract the predictors\n",
        "        predictors = models_cv.loc[i][\"model\"].model.exog_names\n",
        "        "
      ],
      "execution_count": null,
      "outputs": []
    },
    {
      "cell_type": "code",
      "metadata": {
        "colab": {
          "base_uri": "https://localhost:8080/",
          "height": 634
        },
        "id": "8FrNldE8xKDj",
        "outputId": "f99b17a5-8464-4efd-e9dd-830704e12695"
      },
      "source": [
        "cv_errors"
      ],
      "execution_count": null,
      "outputs": [
        {
          "output_type": "execute_result",
          "data": {
            "text/html": [
              "<div>\n",
              "<style scoped>\n",
              "    .dataframe tbody tr th:only-of-type {\n",
              "        vertical-align: middle;\n",
              "    }\n",
              "\n",
              "    .dataframe tbody tr th {\n",
              "        vertical-align: top;\n",
              "    }\n",
              "\n",
              "    .dataframe thead th {\n",
              "        text-align: right;\n",
              "    }\n",
              "</style>\n",
              "<table border=\"1\" class=\"dataframe\">\n",
              "  <thead>\n",
              "    <tr style=\"text-align: right;\">\n",
              "      <th></th>\n",
              "      <th>1</th>\n",
              "      <th>2</th>\n",
              "      <th>3</th>\n",
              "      <th>4</th>\n",
              "      <th>5</th>\n",
              "      <th>6</th>\n",
              "      <th>7</th>\n",
              "      <th>8</th>\n",
              "      <th>9</th>\n",
              "      <th>10</th>\n",
              "    </tr>\n",
              "  </thead>\n",
              "  <tbody>\n",
              "    <tr>\n",
              "      <th>1</th>\n",
              "      <td>3107900</td>\n",
              "      <td>3212304</td>\n",
              "      <td>4840103</td>\n",
              "      <td>2475453</td>\n",
              "      <td>3750302</td>\n",
              "      <td>1551976</td>\n",
              "      <td>1827366</td>\n",
              "      <td>9115194</td>\n",
              "      <td>1370720</td>\n",
              "      <td>2204862</td>\n",
              "    </tr>\n",
              "    <tr>\n",
              "      <th>2</th>\n",
              "      <td>2354036</td>\n",
              "      <td>2247881</td>\n",
              "      <td>3414444</td>\n",
              "      <td>1642455</td>\n",
              "      <td>3160950</td>\n",
              "      <td>1250564</td>\n",
              "      <td>1567469</td>\n",
              "      <td>8520751</td>\n",
              "      <td>1081052</td>\n",
              "      <td>1856304</td>\n",
              "    </tr>\n",
              "    <tr>\n",
              "      <th>3</th>\n",
              "      <td>2148733</td>\n",
              "      <td>2012864</td>\n",
              "      <td>3009435</td>\n",
              "      <td>1566581</td>\n",
              "      <td>2775618</td>\n",
              "      <td>907304</td>\n",
              "      <td>1260460</td>\n",
              "      <td>8456576</td>\n",
              "      <td>969784</td>\n",
              "      <td>1674333</td>\n",
              "    </tr>\n",
              "    <tr>\n",
              "      <th>4</th>\n",
              "      <td>1946031</td>\n",
              "      <td>1870511</td>\n",
              "      <td>2630784</td>\n",
              "      <td>1521525</td>\n",
              "      <td>2618750</td>\n",
              "      <td>805135</td>\n",
              "      <td>1143882</td>\n",
              "      <td>8331746</td>\n",
              "      <td>857553</td>\n",
              "      <td>1618265</td>\n",
              "    </tr>\n",
              "    <tr>\n",
              "      <th>5</th>\n",
              "      <td>1850398</td>\n",
              "      <td>1605148</td>\n",
              "      <td>2537690</td>\n",
              "      <td>1502728</td>\n",
              "      <td>2608466</td>\n",
              "      <td>776171</td>\n",
              "      <td>1124174</td>\n",
              "      <td>8221957</td>\n",
              "      <td>793919</td>\n",
              "      <td>1574253</td>\n",
              "    </tr>\n",
              "    <tr>\n",
              "      <th>6</th>\n",
              "      <td>1778324</td>\n",
              "      <td>1574266</td>\n",
              "      <td>2498621</td>\n",
              "      <td>1482575</td>\n",
              "      <td>2632055</td>\n",
              "      <td>776163</td>\n",
              "      <td>1115741</td>\n",
              "      <td>8196969</td>\n",
              "      <td>781235</td>\n",
              "      <td>1534220</td>\n",
              "    </tr>\n",
              "    <tr>\n",
              "      <th>7</th>\n",
              "      <td>1761111</td>\n",
              "      <td>1524413</td>\n",
              "      <td>2452303</td>\n",
              "      <td>1480345</td>\n",
              "      <td>2661104</td>\n",
              "      <td>779716</td>\n",
              "      <td>1104388</td>\n",
              "      <td>8171959</td>\n",
              "      <td>776457</td>\n",
              "      <td>1503831</td>\n",
              "    </tr>\n",
              "    <tr>\n",
              "      <th>8</th>\n",
              "      <td>1733230</td>\n",
              "      <td>1529625</td>\n",
              "      <td>2418943</td>\n",
              "      <td>1477510</td>\n",
              "      <td>2660654</td>\n",
              "      <td>803859</td>\n",
              "      <td>1100753</td>\n",
              "      <td>7449396</td>\n",
              "      <td>774589</td>\n",
              "      <td>1536790</td>\n",
              "    </tr>\n",
              "    <tr>\n",
              "      <th>9</th>\n",
              "      <td>1773705</td>\n",
              "      <td>1607919</td>\n",
              "      <td>2381843</td>\n",
              "      <td>1504519</td>\n",
              "      <td>2677002</td>\n",
              "      <td>821629</td>\n",
              "      <td>1096925</td>\n",
              "      <td>7136283</td>\n",
              "      <td>774616</td>\n",
              "      <td>1542746</td>\n",
              "    </tr>\n",
              "    <tr>\n",
              "      <th>10</th>\n",
              "      <td>1865909</td>\n",
              "      <td>1682293</td>\n",
              "      <td>2378624</td>\n",
              "      <td>1528102</td>\n",
              "      <td>2597881</td>\n",
              "      <td>854997</td>\n",
              "      <td>1136162</td>\n",
              "      <td>7059485</td>\n",
              "      <td>775993</td>\n",
              "      <td>1597314</td>\n",
              "    </tr>\n",
              "    <tr>\n",
              "      <th>11</th>\n",
              "      <td>2001187</td>\n",
              "      <td>1972309</td>\n",
              "      <td>2377337</td>\n",
              "      <td>1540347</td>\n",
              "      <td>2659206</td>\n",
              "      <td>866399</td>\n",
              "      <td>1150317</td>\n",
              "      <td>7047911</td>\n",
              "      <td>705031</td>\n",
              "      <td>1751416</td>\n",
              "    </tr>\n",
              "    <tr>\n",
              "      <th>12</th>\n",
              "      <td>2183874</td>\n",
              "      <td>2120447</td>\n",
              "      <td>2376437</td>\n",
              "      <td>1583554</td>\n",
              "      <td>2727452</td>\n",
              "      <td>980350</td>\n",
              "      <td>1114814</td>\n",
              "      <td>7056950</td>\n",
              "      <td>687640</td>\n",
              "      <td>1945971</td>\n",
              "    </tr>\n",
              "    <tr>\n",
              "      <th>13</th>\n",
              "      <td>2337672</td>\n",
              "      <td>2333119</td>\n",
              "      <td>2398381</td>\n",
              "      <td>1729660</td>\n",
              "      <td>2772831</td>\n",
              "      <td>1039253</td>\n",
              "      <td>1104974</td>\n",
              "      <td>7117616</td>\n",
              "      <td>699082</td>\n",
              "      <td>1857369</td>\n",
              "    </tr>\n",
              "    <tr>\n",
              "      <th>14</th>\n",
              "      <td>2398776</td>\n",
              "      <td>2556735</td>\n",
              "      <td>2426684</td>\n",
              "      <td>1788102</td>\n",
              "      <td>2804067</td>\n",
              "      <td>993013</td>\n",
              "      <td>1142143</td>\n",
              "      <td>7469678</td>\n",
              "      <td>743080</td>\n",
              "      <td>1884753</td>\n",
              "    </tr>\n",
              "    <tr>\n",
              "      <th>15</th>\n",
              "      <td>1971720</td>\n",
              "      <td>2519254</td>\n",
              "      <td>2421747</td>\n",
              "      <td>1750523</td>\n",
              "      <td>3054990</td>\n",
              "      <td>1033770</td>\n",
              "      <td>1204091</td>\n",
              "      <td>7439538</td>\n",
              "      <td>763736</td>\n",
              "      <td>1980209</td>\n",
              "    </tr>\n",
              "    <tr>\n",
              "      <th>16</th>\n",
              "      <td>1948823</td>\n",
              "      <td>2774368</td>\n",
              "      <td>2454268</td>\n",
              "      <td>1820562</td>\n",
              "      <td>3226325</td>\n",
              "      <td>1080503</td>\n",
              "      <td>1326684</td>\n",
              "      <td>7616005</td>\n",
              "      <td>824465</td>\n",
              "      <td>1949936</td>\n",
              "    </tr>\n",
              "    <tr>\n",
              "      <th>17</th>\n",
              "      <td>2030731</td>\n",
              "      <td>2884961</td>\n",
              "      <td>2644840</td>\n",
              "      <td>1906939</td>\n",
              "      <td>3342739</td>\n",
              "      <td>1105981</td>\n",
              "      <td>1324450</td>\n",
              "      <td>7637693</td>\n",
              "      <td>879744</td>\n",
              "      <td>2045321</td>\n",
              "    </tr>\n",
              "    <tr>\n",
              "      <th>18</th>\n",
              "      <td>2199928</td>\n",
              "      <td>3027921</td>\n",
              "      <td>2787490</td>\n",
              "      <td>2016598</td>\n",
              "      <td>4336091</td>\n",
              "      <td>1181122</td>\n",
              "      <td>1421665</td>\n",
              "      <td>7770971</td>\n",
              "      <td>909756</td>\n",
              "      <td>2062251</td>\n",
              "    </tr>\n",
              "    <tr>\n",
              "      <th>19</th>\n",
              "      <td>2601547</td>\n",
              "      <td>3389497</td>\n",
              "      <td>3137982</td>\n",
              "      <td>2412422</td>\n",
              "      <td>4918740</td>\n",
              "      <td>1706786</td>\n",
              "      <td>1582120</td>\n",
              "      <td>7933249</td>\n",
              "      <td>1202840</td>\n",
              "      <td>2066104</td>\n",
              "    </tr>\n",
              "  </tbody>\n",
              "</table>\n",
              "</div>"
            ],
            "text/plain": [
              "         1        2        3        4   ...       7        8        9        10\n",
              "1   3107900  3212304  4840103  2475453  ...  1827366  9115194  1370720  2204862\n",
              "2   2354036  2247881  3414444  1642455  ...  1567469  8520751  1081052  1856304\n",
              "3   2148733  2012864  3009435  1566581  ...  1260460  8456576   969784  1674333\n",
              "4   1946031  1870511  2630784  1521525  ...  1143882  8331746   857553  1618265\n",
              "5   1850398  1605148  2537690  1502728  ...  1124174  8221957   793919  1574253\n",
              "6   1778324  1574266  2498621  1482575  ...  1115741  8196969   781235  1534220\n",
              "7   1761111  1524413  2452303  1480345  ...  1104388  8171959   776457  1503831\n",
              "8   1733230  1529625  2418943  1477510  ...  1100753  7449396   774589  1536790\n",
              "9   1773705  1607919  2381843  1504519  ...  1096925  7136283   774616  1542746\n",
              "10  1865909  1682293  2378624  1528102  ...  1136162  7059485   775993  1597314\n",
              "11  2001187  1972309  2377337  1540347  ...  1150317  7047911   705031  1751416\n",
              "12  2183874  2120447  2376437  1583554  ...  1114814  7056950   687640  1945971\n",
              "13  2337672  2333119  2398381  1729660  ...  1104974  7117616   699082  1857369\n",
              "14  2398776  2556735  2426684  1788102  ...  1142143  7469678   743080  1884753\n",
              "15  1971720  2519254  2421747  1750523  ...  1204091  7439538   763736  1980209\n",
              "16  1948823  2774368  2454268  1820562  ...  1326684  7616005   824465  1949936\n",
              "17  2030731  2884961  2644840  1906939  ...  1324450  7637693   879744  2045321\n",
              "18  2199928  3027921  2787490  2016598  ...  1421665  7770971   909756  2062251\n",
              "19  2601547  3389497  3137982  2412422  ...  1582120  7933249  1202840  2066104\n",
              "\n",
              "[19 rows x 10 columns]"
            ]
          },
          "metadata": {},
          "execution_count": 105
        }
      ]
    },
    {
      "cell_type": "code",
      "metadata": {
        "colab": {
          "base_uri": "https://localhost:8080/",
          "height": 307
        },
        "id": "Q5QPqhpPxQJT",
        "outputId": "0cc88027-9677-4330-9a1b-c16a751c5f1b"
      },
      "source": [
        "cv_mean = cv_errors.apply(np.mean, axis=1)\n",
        "\n",
        "plt.plot(cv_mean)\n",
        "plt.xlabel('# Predictors')\n",
        "plt.ylabel('CV Error')\n",
        "plt.plot(cv_mean.argmin()+1, cv_mean.min(), \"or\")"
      ],
      "execution_count": null,
      "outputs": [
        {
          "output_type": "execute_result",
          "data": {
            "text/plain": [
              "[<matplotlib.lines.Line2D at 0x7f49f37fe350>]"
            ]
          },
          "metadata": {},
          "execution_count": 110
        },
        {
          "output_type": "display_data",
          "data": {
            "image/png": "[encoded data removed]",
            "text/plain": [
              "<Figure size 432x288 with 1 Axes>"
            ]
          },
          "metadata": {
            "needs_background": "light"
          }
        }
      ]
    },
    {
      "cell_type": "code",
      "metadata": {
        "colab": {
          "base_uri": "https://localhost:8080/"
        },
        "id": "2SUESPxLxkol",
        "outputId": "63d3843c-1d0a-41a3-a529-72ffdca07d8a"
      },
      "source": [
        "print(models_cv.loc[9, \"model\"].summary())"
      ],
      "execution_count": null,
      "outputs": [
        {
          "output_type": "stream",
          "name": "stdout",
          "text": [
            "                                 OLS Regression Results                                \n",
            "=======================================================================================\n",
            "Dep. Variable:                 Salary   R-squared (uncentered):                   0.685\n",
            "Model:                            OLS   Adj. R-squared (uncentered):              0.672\n",
            "Method:                 Least Squares   F-statistic:                              54.56\n",
            "Date:                Sat, 04 Sep 2021   Prob (F-statistic):                    8.32e-52\n",
            "Time:                        12:26:32   Log-Likelihood:                         -1737.9\n",
            "No. Observations:                 235   AIC:                                      3494.\n",
            "Df Residuals:                     226   BIC:                                      3525.\n",
            "Df Model:                           9                                                  \n",
            "Covariance Type:            nonrobust                                                  \n",
            "==============================================================================\n",
            "                 coef    std err          t      P>|t|      [0.025      0.975]\n",
            "------------------------------------------------------------------------------\n",
            "Hits           5.1036      2.325      2.195      0.029       0.522       9.686\n",
            "PutOuts        0.2727      0.101      2.692      0.008       0.073       0.472\n",
            "Division_W   -88.1122     50.742     -1.736      0.084    -188.101      11.876\n",
            "HmRun         -0.8294      6.640     -0.125      0.901     -13.913      12.254\n",
            "AtBat         -0.7780      0.667     -1.166      0.245      -2.093       0.537\n",
            "League_N     103.4130     51.270      2.017      0.045       2.384     204.442\n",
            "RBI            5.3063      3.007      1.764      0.079      -0.620      11.232\n",
            "Assists        0.1477      0.281      0.525      0.600      -0.406       0.702\n",
            "Errors        -9.2617      5.660     -1.636      0.103     -20.415       1.892\n",
            "==============================================================================\n",
            "Omnibus:                       62.044   Durbin-Watson:                   1.995\n",
            "Prob(Omnibus):                  0.000   Jarque-Bera (JB):              182.556\n",
            "Skew:                           1.123   Prob(JB):                     2.28e-40\n",
            "Kurtosis:                       6.687   Cond. No.                     1.19e+03\n",
            "==============================================================================\n",
            "\n",
            "Warnings:\n",
            "[1] Standard Errors assume that the covariance matrix of the errors is correctly specified.\n",
            "[2] The condition number is large, 1.19e+03. This might indicate that there are\n",
            "strong multicollinearity or other numerical problems.\n"
          ]
        }
      ]
    },
    {
      "cell_type": "code",
      "metadata": {
        "colab": {
          "base_uri": "https://localhost:8080/",
          "height": 655
        },
        "id": "Q15QcxmLxTJ7",
        "outputId": "cdc99597-748c-4dae-bbfb-091528ba764b"
      },
      "source": [
        "plt.figure(figsize=(20,10))\n",
        "plt.rcParams.update({'font.size': 18, 'lines.markersize': 10})\n",
        "\n",
        "# Set up a 2x2 grid so we can look at 4 plots at once\n",
        "plt.subplot(2, 2, 1)\n",
        "\n",
        "# We will now plot a red dot to indicate the model with the largest adjusted R^2 statistic.\n",
        "# The argmax() function can be used to identify the location of the maximum point of a vector\n",
        "plt.plot(models_cv[\"RSS\"])\n",
        "plt.xlabel('# Predictors')\n",
        "plt.ylabel('RSS')\n",
        "\n",
        "# We will now plot a red dot to indicate the model with the largest adjusted R^2 statistic.\n",
        "# The argmax() function can be used to identify the location of the maximum point of a vector\n",
        "\n",
        "rsquared_adj = models_cv.apply(lambda row: row[1].rsquared_adj, axis=1)\n",
        "\n",
        "plt.subplot(2, 2, 2)\n",
        "plt.plot(rsquared_adj)\n",
        "plt.plot(rsquared_adj.argmax()+1, rsquared_adj.max(), \"or\")\n",
        "plt.xlabel('# Predictors')\n",
        "plt.ylabel('adjusted rsquared')\n",
        "\n",
        "# We'll do the same for AIC and BIC, this time looking for the models with the SMALLEST statistic\n",
        "aic = models_cv.apply(lambda row: row[1].aic, axis=1)\n",
        "\n",
        "plt.subplot(2, 2, 3)\n",
        "plt.plot(aic)\n",
        "plt.plot(aic.argmin()+1, aic.min(), \"or\")\n",
        "plt.xlabel('# Predictors')\n",
        "plt.ylabel('AIC')\n",
        "\n",
        "bic = models_cv.apply(lambda row: row[1].bic, axis=1)\n",
        "\n",
        "plt.subplot(2, 2, 4)\n",
        "plt.plot(bic)\n",
        "plt.plot(bic.argmin()+1, bic.min(), \"or\")\n",
        "plt.xlabel('# Predictors')\n",
        "plt.ylabel('BIC')"
      ],
      "execution_count": null,
      "outputs": [
        {
          "output_type": "execute_result",
          "data": {
            "text/plain": [
              "Text(0, 0.5, 'BIC')"
            ]
          },
          "metadata": {},
          "execution_count": 113
        },
        {
          "output_type": "display_data",
          "data": {
            "image/png": "[encoded data removed]",
            "text/plain": [
              "<Figure size 1440x720 with 4 Axes>"
            ]
          },
          "metadata": {
            "needs_background": "light"
          }
        }
      ]
    }
  ]
}