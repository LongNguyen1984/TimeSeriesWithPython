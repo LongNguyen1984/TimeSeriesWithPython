{
  "nbformat": 4,
  "nbformat_minor": 0,
  "metadata": {
    "colab": {
      "name": "UseMIMICIIIDataset.ipynb",
      "provenance": [],
      "authorship_tag": "ABX9TyOAaq6ei9yC1sYiWympISXd",
      "include_colab_link": true
    },
    "kernelspec": {
      "name": "python3",
      "display_name": "Python 3"
    },
    "language_info": {
      "name": "python"
    }
  },
  "cells": [
    {
      "cell_type": "markdown",
      "metadata": {
        "id": "view-in-github",
        "colab_type": "text"
      },
      "source": [
        "<a href=\"https://colab.research.google.com/github/LongNguyen1984/TimeSeriesWithPython/blob/main/UsingMIMICIIIDataset.ipynb\" target=\"_parent\"><img src=\"https://colab.research.google.com/assets/colab-badge.svg\" alt=\"Open In Colab\"/></a>"
      ]
    },
    {
      "cell_type": "markdown",
      "metadata": {
        "id": "HHKvOuHtdtHn"
      },
      "source": [
        "## Cài đặt gói wfdb"
      ]
    },
    {
      "cell_type": "code",
      "metadata": {
        "colab": {
          "base_uri": "https://localhost:8080/"
        },
        "id": "C6aQQcRVdaml",
        "outputId": "41d6a0eb-bf12-412f-c7d2-2bdefca0509c"
      },
      "source": [
        "pip install wfdb"
      ],
      "execution_count": 1,
      "outputs": [
        {
          "output_type": "stream",
          "text": [
            "Collecting wfdb\n",
            "  Downloading wfdb-3.4.0-py3-none-any.whl (137 kB)\n",
            "\u001b[?25l\r\u001b[K     |██▍                             | 10 kB 15.1 MB/s eta 0:00:01\r\u001b[K     |████▊                           | 20 kB 19.3 MB/s eta 0:00:01\r\u001b[K     |███████▏                        | 30 kB 18.6 MB/s eta 0:00:01\r\u001b[K     |█████████▌                      | 40 kB 10.2 MB/s eta 0:00:01\r\u001b[K     |████████████                    | 51 kB 5.6 MB/s eta 0:00:01\r\u001b[K     |██████████████▎                 | 61 kB 5.2 MB/s eta 0:00:01\r\u001b[K     |████████████████▊               | 71 kB 5.3 MB/s eta 0:00:01\r\u001b[K     |███████████████████             | 81 kB 5.8 MB/s eta 0:00:01\r\u001b[K     |█████████████████████▍          | 92 kB 5.7 MB/s eta 0:00:01\r\u001b[K     |███████████████████████▉        | 102 kB 4.9 MB/s eta 0:00:01\r\u001b[K     |██████████████████████████▏     | 112 kB 4.9 MB/s eta 0:00:01\r\u001b[K     |████████████████████████████▋   | 122 kB 4.9 MB/s eta 0:00:01\r\u001b[K     |███████████████████████████████ | 133 kB 4.9 MB/s eta 0:00:01\r\u001b[K     |████████████████████████████████| 137 kB 4.9 MB/s \n",
            "\u001b[?25hRequirement already satisfied: chardet>=3.0.0 in /usr/local/lib/python3.7/dist-packages (from wfdb) (3.0.4)\n",
            "Requirement already satisfied: idna>=2.2 in /usr/local/lib/python3.7/dist-packages (from wfdb) (2.10)\n",
            "Requirement already satisfied: pyparsing>=2.0.4 in /usr/local/lib/python3.7/dist-packages (from wfdb) (2.4.7)\n",
            "Requirement already satisfied: python-dateutil>=2.4.2 in /usr/local/lib/python3.7/dist-packages (from wfdb) (2.8.2)\n",
            "Requirement already satisfied: cycler>=0.10.0 in /usr/local/lib/python3.7/dist-packages (from wfdb) (0.10.0)\n",
            "Requirement already satisfied: joblib>=0.11 in /usr/local/lib/python3.7/dist-packages (from wfdb) (1.0.1)\n",
            "Requirement already satisfied: pandas>=0.17.0 in /usr/local/lib/python3.7/dist-packages (from wfdb) (1.1.5)\n",
            "Requirement already satisfied: pytz>=2017.2 in /usr/local/lib/python3.7/dist-packages (from wfdb) (2018.9)\n",
            "Requirement already satisfied: requests>=2.8.1 in /usr/local/lib/python3.7/dist-packages (from wfdb) (2.23.0)\n",
            "Requirement already satisfied: scikit-learn>=0.18 in /usr/local/lib/python3.7/dist-packages (from wfdb) (0.22.2.post1)\n",
            "Requirement already satisfied: scipy>=0.17.0 in /usr/local/lib/python3.7/dist-packages (from wfdb) (1.4.1)\n",
            "Collecting threadpoolctl>=1.0.0\n",
            "  Downloading threadpoolctl-2.2.0-py3-none-any.whl (12 kB)\n",
            "Requirement already satisfied: kiwisolver>=1.1.0 in /usr/local/lib/python3.7/dist-packages (from wfdb) (1.3.1)\n",
            "Requirement already satisfied: matplotlib>=2.0.0 in /usr/local/lib/python3.7/dist-packages (from wfdb) (3.2.2)\n",
            "Requirement already satisfied: numpy>=1.10.1 in /usr/local/lib/python3.7/dist-packages (from wfdb) (1.19.5)\n",
            "Requirement already satisfied: urllib3>=1.22 in /usr/local/lib/python3.7/dist-packages (from wfdb) (1.24.3)\n",
            "Requirement already satisfied: certifi>=2016.8.2 in /usr/local/lib/python3.7/dist-packages (from wfdb) (2021.5.30)\n",
            "Requirement already satisfied: six in /usr/local/lib/python3.7/dist-packages (from cycler>=0.10.0->wfdb) (1.15.0)\n",
            "Installing collected packages: threadpoolctl, wfdb\n",
            "Successfully installed threadpoolctl-2.2.0 wfdb-3.4.0\n"
          ],
          "name": "stdout"
        }
      ]
    },
    {
      "cell_type": "code",
      "metadata": {
        "colab": {
          "base_uri": "https://localhost:8080/",
          "height": 128
        },
        "id": "-c8IbQPPdo2X",
        "outputId": "b93c7895-42bb-4b2b-ad12-badeb1389744"
      },
      "source": [
        "rdsamp -r mimic3wdb/31/3141595/ -p -v -t 10"
      ],
      "execution_count": 4,
      "outputs": [
        {
          "output_type": "error",
          "ename": "SyntaxError",
          "evalue": "ignored",
          "traceback": [
            "\u001b[0;36m  File \u001b[0;32m\"<ipython-input-4-6cc072a3292b>\"\u001b[0;36m, line \u001b[0;32m1\u001b[0m\n\u001b[0;31m    rdsamp -r mimic3wdb/31/3141595/ -p -v -t 10\u001b[0m\n\u001b[0m                      ^\u001b[0m\n\u001b[0;31mSyntaxError\u001b[0m\u001b[0;31m:\u001b[0m invalid syntax\n"
          ]
        }
      ]
    },
    {
      "cell_type": "code",
      "metadata": {
        "colab": {
          "base_uri": "https://localhost:8080/"
        },
        "id": "FJyBJrXGgrzp",
        "outputId": "d0e1d111-67e9-4d79-9241-51d1a3a52989"
      },
      "source": [
        "! git clone https://github.com/MIT-LCP/wfdb-python.git"
      ],
      "execution_count": 3,
      "outputs": [
        {
          "output_type": "stream",
          "text": [
            "Cloning into 'wfdb-python'...\n",
            "remote: Enumerating objects: 4671, done.\u001b[K\n",
            "remote: Counting objects: 100% (374/374), done.\u001b[K\n",
            "remote: Compressing objects: 100% (205/205), done.\u001b[K\n",
            "remote: Total 4671 (delta 244), reused 248 (delta 161), pack-reused 4297\u001b[K\n",
            "Receiving objects: 100% (4671/4671), 165.42 MiB | 18.69 MiB/s, done.\n",
            "Resolving deltas: 100% (3076/3076), done.\n",
            "Checking out files: 100% (221/221), done.\n"
          ],
          "name": "stdout"
        }
      ]
    },
    {
      "cell_type": "code",
      "metadata": {
        "id": "mcD-0H2LktUF"
      },
      "source": [
        "from IPython.display import display\n",
        "import matplotlib.pyplot as plt\n",
        "%matplotlib inline\n",
        "import numpy as np\n",
        "import os\n",
        "import shutil\n",
        "import posixpath\n",
        "\n",
        "import wfdb"
      ],
      "execution_count": 6,
      "outputs": []
    },
    {
      "cell_type": "markdown",
      "metadata": {
        "id": "Tj3c4evOmnip"
      },
      "source": [
        "### Đọc một file dữ liệu trong mimic3wdb\n",
        "* Thư mục năm trên phisionet ở địa chỉ\"\n",
        "  https://physionet.org/content/mimic3wdb/1.0/31/3141595/\n",
        "  "
      ]
    },
    {
      "cell_type": "markdown",
      "metadata": {
        "id": "CEDecwRUxz2Z"
      },
      "source": [
        "### Đọc header file"
      ]
    },
    {
      "cell_type": "code",
      "metadata": {
        "colab": {
          "base_uri": "https://localhost:8080/",
          "height": 706
        },
        "id": "ZN6Y8Hf7x3P6",
        "outputId": "9021b329-e9dc-4772-a51b-ff3f0eadd49a"
      },
      "source": [
        "record2 = wfdb.rdheader('3141595n', pn_dir='mimic3wdb/31/3141595')\n",
        "display(record2.__dict__)"
      ],
      "execution_count": 44,
      "outputs": [
        {
          "output_type": "display_data",
          "data": {
            "text/plain": [
              "{'adc_gain': [1.0, 1.0, 1.0, 1.0, 1.0, 1.0, 1.0, 1.0],\n",
              " 'adc_res': [16, 16, 16, 16, 16, 16, 16, 16],\n",
              " 'adc_zero': [0, 0, 0, 0, 0, 0, 0, 0],\n",
              " 'base_counter': None,\n",
              " 'base_date': None,\n",
              " 'base_time': datetime.time(10, 2, 52),\n",
              " 'baseline': [0, 0, 0, 0, 0, 0, 0, 0],\n",
              " 'block_size': [0, 0, 0, 0, 0, 0, 0, 0],\n",
              " 'byte_offset': [None, None, None, None, None, None, None, None],\n",
              " 'checksum': [29726, -25932, 8715, -14954, -26331, -11099, 6171, 29829],\n",
              " 'comments': ['Location: nicu'],\n",
              " 'counter_freq': None,\n",
              " 'd_signal': None,\n",
              " 'e_d_signal': None,\n",
              " 'e_p_signal': None,\n",
              " 'file_name': ['3141595n.dat',\n",
              "  '3141595n.dat',\n",
              "  '3141595n.dat',\n",
              "  '3141595n.dat',\n",
              "  '3141595n.dat',\n",
              "  '3141595n.dat',\n",
              "  '3141595n.dat',\n",
              "  '3141595n.dat'],\n",
              " 'fmt': ['16', '16', '16', '16', '16', '16', '16', '16'],\n",
              " 'fs': 1,\n",
              " 'init_value': [142, 145, -32768, -32768, -32768, -32768, 49, 95],\n",
              " 'n_sig': 8,\n",
              " 'p_signal': None,\n",
              " 'record_name': '3141595n',\n",
              " 'samps_per_frame': [1, 1, 1, 1, 1, 1, 1, 1],\n",
              " 'sig_len': 1938730,\n",
              " 'sig_name': ['HR',\n",
              "  'PULSE',\n",
              "  'NBP',\n",
              "  'NBP Sys',\n",
              "  'NBP Dias',\n",
              "  'NBP Mean',\n",
              "  'RESP',\n",
              "  'SpO2'],\n",
              " 'skew': [None, None, None, None, None, None, None, None],\n",
              " 'units': ['bpm', 'bpm', 'mmHg', 'mmHg', 'mmHg', 'mmHg', 'pm', '%']}"
            ]
          },
          "metadata": {
            "tags": []
          }
        }
      ]
    },
    {
      "cell_type": "markdown",
      "metadata": {
        "id": "klzwi2NtuUWO"
      },
      "source": [
        "#### Đọc bản ghi"
      ]
    },
    {
      "cell_type": "code",
      "metadata": {
        "colab": {
          "base_uri": "https://localhost:8080/",
          "height": 901
        },
        "id": "fOpZT6S6h0S8",
        "outputId": "9fc5cc7f-bf96-4c86-c990-b5ccfb58a7cf"
      },
      "source": [
        "record2 = wfdb.rdrecord('3141595_0001', pn_dir='mimic3wdb/31/3141595')\n",
        "wfdb.plot_wfdb(record=record2, title='Đọc trực tiếp từ PhysioNet cơ sở dữ liệu') \n",
        "display(record2.__dict__)"
      ],
      "execution_count": 11,
      "outputs": [
        {
          "output_type": "display_data",
          "data": {
            "image/png": "[encoded data removed]",
            "text/plain": [
              "<Figure size 432x288 with 4 Axes>"
            ]
          },
          "metadata": {
            "tags": [],
            "needs_background": "light"
          }
        },
        {
          "output_type": "display_data",
          "data": {
            "text/plain": [
              "{'adc_gain': [1023.0, 515.0, 510.0, 510.0],\n",
              " 'adc_res': [10, 10, 10, 10],\n",
              " 'adc_zero': [512, 512, 512, 512],\n",
              " 'base_counter': None,\n",
              " 'base_date': None,\n",
              " 'base_time': datetime.time(10, 2, 51, 840000),\n",
              " 'baseline': [0, 254, 256, 256],\n",
              " 'block_size': [0, 0, 0, 0],\n",
              " 'byte_offset': [None, None, None, None],\n",
              " 'checksum': [-12412, 19668, 13968, 0],\n",
              " 'comments': [],\n",
              " 'counter_freq': None,\n",
              " 'd_signal': None,\n",
              " 'e_d_signal': None,\n",
              " 'e_p_signal': None,\n",
              " 'file_name': ['3141595_0001.dat',\n",
              "  '3141595_0001.dat',\n",
              "  '3141595_0001.dat',\n",
              "  '3141595_0001.dat'],\n",
              " 'fmt': ['16', '16', '16', '16'],\n",
              " 'fs': 125,\n",
              " 'init_value': [470, 0, 565, 0],\n",
              " 'n_sig': 4,\n",
              " 'p_signal': array([[ 0.45943304, -0.49320388,  0.60588235, -0.50196078],\n",
              "        [ 0.45356794, -0.49320388,  0.62941176, -0.50196078],\n",
              "        [ 0.44965787, -0.49320388,  0.62941176, -0.50196078],\n",
              "        ...,\n",
              "        [ 0.79472141,  0.        , -0.50196078, -0.50196078],\n",
              "        [ 0.79081134,  0.        , -0.50196078, -0.50196078],\n",
              "        [ 0.78690127,  0.        , -0.50196078, -0.50196078]]),\n",
              " 'record_name': '3141595_0001',\n",
              " 'samps_per_frame': [1, 1, 1, 1],\n",
              " 'sig_len': 2888500,\n",
              " 'sig_name': ['PLETH', 'RESP', 'II', 'AVR'],\n",
              " 'skew': [None, None, None, None],\n",
              " 'units': ['NU', 'pm', 'mV', 'mV']}"
            ]
          },
          "metadata": {
            "tags": []
          }
        }
      ]
    },
    {
      "cell_type": "markdown",
      "metadata": {
        "id": "13lj5MoeuXRz"
      },
      "source": [
        "#### Đọc một phân đoạn tín hiệu "
      ]
    },
    {
      "cell_type": "code",
      "metadata": {
        "id": "wzHd6ilsnEJR"
      },
      "source": [
        "signals, fields = wfdb.rdsamp('3141595_0001', sampfrom=0, sampto=2888500, pn_dir='mimic3wdb/31/3141595')"
      ],
      "execution_count": 29,
      "outputs": []
    },
    {
      "cell_type": "markdown",
      "metadata": {
        "id": "AO3y6ZcmuxjS"
      },
      "source": [
        "Thông tin về dữ liệu"
      ]
    },
    {
      "cell_type": "code",
      "metadata": {
        "colab": {
          "base_uri": "https://localhost:8080/"
        },
        "id": "v2YZBefPqiTf",
        "outputId": "86175c8e-91e9-4e7b-c859-63610ed9ffab"
      },
      "source": [
        "fields"
      ],
      "execution_count": 33,
      "outputs": [
        {
          "output_type": "execute_result",
          "data": {
            "text/plain": [
              "{'base_date': None,\n",
              " 'base_time': datetime.time(10, 2, 51, 840000),\n",
              " 'comments': [],\n",
              " 'fs': 125,\n",
              " 'n_sig': 4,\n",
              " 'sig_len': 2888500,\n",
              " 'sig_name': ['PLETH', 'RESP', 'II', 'AVR'],\n",
              " 'units': ['NU', 'pm', 'mV', 'mV']}"
            ]
          },
          "metadata": {
            "tags": []
          },
          "execution_count": 33
        }
      ]
    },
    {
      "cell_type": "code",
      "metadata": {
        "colab": {
          "base_uri": "https://localhost:8080/"
        },
        "id": "myTTcjz6qrEQ",
        "outputId": "6bc58c5c-c45a-44ab-97d6-2eacfbc8458d"
      },
      "source": [
        "np.shape(signals)"
      ],
      "execution_count": 18,
      "outputs": [
        {
          "output_type": "execute_result",
          "data": {
            "text/plain": [
              "(14900, 4)"
            ]
          },
          "metadata": {
            "tags": []
          },
          "execution_count": 18
        }
      ]
    },
    {
      "cell_type": "markdown",
      "metadata": {
        "id": "8lNwld9Iu2c6"
      },
      "source": [
        "Mô tả một đoạn dữ liệu"
      ]
    },
    {
      "cell_type": "code",
      "metadata": {
        "colab": {
          "base_uri": "https://localhost:8080/",
          "height": 298
        },
        "id": "PVqzozjPq1dW",
        "outputId": "4477c9fd-074c-4758-807a-6ff170be74e0"
      },
      "source": [
        "start = 10000\n",
        "step = 1000\n",
        "plt.plot(signals[start:start + step,[0,2]])"
      ],
      "execution_count": 38,
      "outputs": [
        {
          "output_type": "execute_result",
          "data": {
            "text/plain": [
              "[<matplotlib.lines.Line2D at 0x7f32e8060310>,\n",
              " <matplotlib.lines.Line2D at 0x7f32e8060510>]"
            ]
          },
          "metadata": {
            "tags": []
          },
          "execution_count": 38
        },
        {
          "output_type": "display_data",
          "data": {
            "image/png": "[encoded data removed]",
            "text/plain": [
              "<Figure size 432x288 with 1 Axes>"
            ]
          },
          "metadata": {
            "tags": [],
            "needs_background": "light"
          }
        }
      ]
    },
    {
      "cell_type": "code",
      "metadata": {
        "id": "2Eb8Et-TvXrd"
      },
      "source": [
        ""
      ],
      "execution_count": null,
      "outputs": []
    }
  ]
}