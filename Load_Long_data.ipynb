{
  "nbformat": 4,
  "nbformat_minor": 5,
  "metadata": {
    "kernelspec": {
      "display_name": "Python 3",
      "language": "python",
      "name": "python3"
    },
    "language_info": {
      "codemirror_mode": {
        "name": "ipython",
        "version": 3
      },
      "file_extension": ".py",
      "mimetype": "text/x-python",
      "name": "python",
      "nbconvert_exporter": "python",
      "pygments_lexer": "ipython3",
      "version": "3.8.5"
    },
    "toc": {
      "base_numbering": 1,
      "nav_menu": {},
      "number_sections": true,
      "sideBar": true,
      "skip_h1_title": false,
      "title_cell": "Table of Contents",
      "title_sidebar": "Contents",
      "toc_cell": false,
      "toc_position": {},
      "toc_section_display": true,
      "toc_window_display": false
    },
    "varInspector": {
      "cols": {
        "lenName": 16,
        "lenType": 16,
        "lenVar": 40
      },
      "kernels_config": {
        "python": {
          "delete_cmd_postfix": "",
          "delete_cmd_prefix": "del ",
          "library": "var_list.py",
          "varRefreshCmd": "print(var_dic_list())"
        },
        "r": {
          "delete_cmd_postfix": ") ",
          "delete_cmd_prefix": "rm(",
          "library": "var_list.r",
          "varRefreshCmd": "cat(var_dic_list()) "
        }
      },
      "types_to_exclude": [
        "module",
        "function",
        "builtin_function_or_method",
        "instance",
        "_Feature"
      ],
      "window_display": false
    },
    "colab": {
      "name": "Load-Long-data.ipynb",
      "provenance": [],
      "include_colab_link": true
    }
  },
  "cells": [
    {
      "cell_type": "markdown",
      "metadata": {
        "id": "view-in-github",
        "colab_type": "text"
      },
      "source": [
        "<a href=\"https://colab.research.google.com/github/LongNguyen1984/TimeSeriesWithPython/blob/main/Load_Long_data.ipynb\" target=\"_parent\"><img src=\"https://colab.research.google.com/assets/colab-badge.svg\" alt=\"Open In Colab\"/></a>"
      ]
    },
    {
      "cell_type": "code",
      "metadata": {
        "id": "short-humanitarian"
      },
      "source": [
        "import pandas as pd\n",
        "import numpy as np\n",
        "import re"
      ],
      "id": "short-humanitarian",
      "execution_count": 10,
      "outputs": []
    },
    {
      "cell_type": "code",
      "metadata": {
        "id": "afraid-rings"
      },
      "source": [
        "class Raw_data_reader:\n",
        "    \n",
        "    def load_file(self, raw_data_file_name: str):\n",
        "        \n",
        "        with open(raw_data_file_name, 'r') as f:\n",
        "            lines = f.readlines()[4:]\n",
        "            lines = [line for line in lines if not re.match(\"\\d+,,Alert,\",line)]\n",
        "            \n",
        "            df = pd.DataFrame(data=[row.split(',') for row in lines])\n",
        "            \n",
        "            df.index = pd.to_datetime(df[1])\n",
        "            df.index.name = 'Time'\n",
        "            name = 'Time'\n",
        "            \n",
        "            df.loc[df[7] == ''] = np.nan\n",
        "            \n",
        "        return pd.DataFrame({'Mode':df[2],\n",
        "                             'Signal': df[7].astype('float')}, \n",
        "                            index = df.index)"
      ],
      "id": "afraid-rings",
      "execution_count": 11,
      "outputs": []
    },
    {
      "cell_type": "code",
      "metadata": {
        "id": "regulated-hungary"
      },
      "source": [
        "r = Raw_data_reader()\n",
        "\n",
        "s = []\n",
        "\n",
        "df = r.load_file(\"Long_data.txt\")"
      ],
      "id": "regulated-hungary",
      "execution_count": 12,
      "outputs": []
    },
    {
      "cell_type": "code",
      "metadata": {
        "colab": {
          "base_uri": "https://localhost:8080/",
          "height": 436
        },
        "id": "social-surfing",
        "outputId": "2bf5dae8-537d-4692-97dc-868f8ff362a3"
      },
      "source": [
        "df"
      ],
      "id": "social-surfing",
      "execution_count": 13,
      "outputs": [
        {
          "output_type": "execute_result",
          "data": {
            "text/html": [
              "<div>\n",
              "<style scoped>\n",
              "    .dataframe tbody tr th:only-of-type {\n",
              "        vertical-align: middle;\n",
              "    }\n",
              "\n",
              "    .dataframe tbody tr th {\n",
              "        vertical-align: top;\n",
              "    }\n",
              "\n",
              "    .dataframe thead th {\n",
              "        text-align: right;\n",
              "    }\n",
              "</style>\n",
              "<table border=\"1\" class=\"dataframe\">\n",
              "  <thead>\n",
              "    <tr style=\"text-align: right;\">\n",
              "      <th></th>\n",
              "      <th>Mode</th>\n",
              "      <th>Signal</th>\n",
              "    </tr>\n",
              "    <tr>\n",
              "      <th>Time</th>\n",
              "      <th></th>\n",
              "      <th></th>\n",
              "    </tr>\n",
              "  </thead>\n",
              "  <tbody>\n",
              "    <tr>\n",
              "      <th>2021-03-02 16:05:02</th>\n",
              "      <td>EGV</td>\n",
              "      <td>116.0</td>\n",
              "    </tr>\n",
              "    <tr>\n",
              "      <th>2021-03-02 16:10:01</th>\n",
              "      <td>EGV</td>\n",
              "      <td>108.0</td>\n",
              "    </tr>\n",
              "    <tr>\n",
              "      <th>2021-03-02 16:15:02</th>\n",
              "      <td>EGV</td>\n",
              "      <td>100.0</td>\n",
              "    </tr>\n",
              "    <tr>\n",
              "      <th>2021-03-02 16:15:52</th>\n",
              "      <td>Calibration</td>\n",
              "      <td>123.0</td>\n",
              "    </tr>\n",
              "    <tr>\n",
              "      <th>2021-03-02 16:20:09</th>\n",
              "      <td>EGV</td>\n",
              "      <td>117.0</td>\n",
              "    </tr>\n",
              "    <tr>\n",
              "      <th>...</th>\n",
              "      <td>...</td>\n",
              "      <td>...</td>\n",
              "    </tr>\n",
              "    <tr>\n",
              "      <th>2021-03-12 07:45:24</th>\n",
              "      <td>EGV</td>\n",
              "      <td>101.0</td>\n",
              "    </tr>\n",
              "    <tr>\n",
              "      <th>2021-03-12 07:50:24</th>\n",
              "      <td>EGV</td>\n",
              "      <td>97.0</td>\n",
              "    </tr>\n",
              "    <tr>\n",
              "      <th>2021-03-12 07:55:24</th>\n",
              "      <td>EGV</td>\n",
              "      <td>94.0</td>\n",
              "    </tr>\n",
              "    <tr>\n",
              "      <th>2021-03-12 08:00:24</th>\n",
              "      <td>EGV</td>\n",
              "      <td>96.0</td>\n",
              "    </tr>\n",
              "    <tr>\n",
              "      <th>2021-03-12 08:05:25</th>\n",
              "      <td>EGV</td>\n",
              "      <td>96.0</td>\n",
              "    </tr>\n",
              "  </tbody>\n",
              "</table>\n",
              "<p>2806 rows × 2 columns</p>\n",
              "</div>"
            ],
            "text/plain": [
              "                            Mode  Signal\n",
              "Time                                    \n",
              "2021-03-02 16:05:02          EGV   116.0\n",
              "2021-03-02 16:10:01          EGV   108.0\n",
              "2021-03-02 16:15:02          EGV   100.0\n",
              "2021-03-02 16:15:52  Calibration   123.0\n",
              "2021-03-02 16:20:09          EGV   117.0\n",
              "...                          ...     ...\n",
              "2021-03-12 07:45:24          EGV   101.0\n",
              "2021-03-12 07:50:24          EGV    97.0\n",
              "2021-03-12 07:55:24          EGV    94.0\n",
              "2021-03-12 08:00:24          EGV    96.0\n",
              "2021-03-12 08:05:25          EGV    96.0\n",
              "\n",
              "[2806 rows x 2 columns]"
            ]
          },
          "metadata": {
            "tags": []
          },
          "execution_count": 13
        }
      ]
    },
    {
      "cell_type": "code",
      "metadata": {
        "colab": {
          "base_uri": "https://localhost:8080/"
        },
        "id": "noble-newark",
        "outputId": "2d4f8664-ea42-4dfd-ad76-1afe72845ab0"
      },
      "source": [
        "df['Mode'].unique()"
      ],
      "id": "noble-newark",
      "execution_count": 14,
      "outputs": [
        {
          "output_type": "execute_result",
          "data": {
            "text/plain": [
              "array(['EGV', 'Calibration', nan], dtype=object)"
            ]
          },
          "metadata": {
            "tags": []
          },
          "execution_count": 14
        }
      ]
    }
  ]
}